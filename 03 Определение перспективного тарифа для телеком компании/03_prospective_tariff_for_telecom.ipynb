{
 "cells": [
  {
   "cell_type": "markdown",
   "metadata": {},
   "source": [
    "# Определение перспективного тарифа для телеком компании"
   ]
  },
  {
   "cell_type": "markdown",
   "metadata": {},
   "source": [
    "Компания «Мегалайн» — федеральный оператор сотовой связи - предлагает клиентам  два тарифных плана: «Смарт» и «Ультра». Чтобы скорректировать рекламный бюджет, коммерческий департамент хочет понять, какой тариф приносит больше денег.  \n",
    "\n",
    "Задача: произвести предварительный анализ тарифов на небольшой выборке клиентов, проанализировать поведение клиентов и сделать вывод — какой тариф лучше.  \n",
    "\n",
    "Входные данные: данные 500 пользователей «Мегалайна»: кто они, откуда, каким тарифом пользуются, сколько звонков и сообщений каждый отправил за 2018 год. \n",
    "\n",
    "<h2 id=\"tocheading\">Содержание исследования</h2>\n",
    "\n",
    "\n",
    "1. [Изучение общей информации о датасетах, выявление некорректных данных.](#point1)\n",
    "  * [Вывод](#conclusion1)\n",
    "2. [Предобработка данных:](#point2)\n",
    "  * [Замена типа данных](#subpoint2_1)\n",
    "  * [Исправление ошибок в данных](#subpoint2_2)\n",
    "  * [Расчет новых показателей для анализа](#subpoint2_3)\n",
    "  * [Вывод](#conclusion2)\n",
    "3. [Анализ данных](#point3)\n",
    "  * [Вывод](#conclusion3)\n",
    "4. [Проверка гипотез](#point4)\n",
    "  * [Проверка гипотезы: средняя выручка пользователей тарифов «Ультра» и «Смарт» различается](#subpoint4_1)\n",
    "  * [Проверка гипотезы: средняя выручка пользователей из Москвы отличается от выручки пользователей из других регионов](#subpoint4_2)\n",
    "  * [Вывод](#conclusion4)\n",
    "5. [Общий вывод](#point5)\n"
   ]
  },
  {
   "cell_type": "markdown",
   "metadata": {},
   "source": [
    "### 1. Изучение общей информации о датасетах, выявление некорректных данных. <a class=\"anchor\" id=\"point1\"></a>"
   ]
  },
  {
   "cell_type": "markdown",
   "metadata": {},
   "source": [
    "#### Описание тарифов  \n",
    "\n",
    "**Тариф «Смарт»**  \n",
    "* Ежемесячная плата: 550 рублей  \n",
    "* Включено 500 минут разговора, 50 сообщений и 15 Гб интернет-трафика  \n",
    "* Стоимость услуг сверх тарифного пакета:  \n",
    "   - минута разговора: 3 рубля  \n",
    "   - сообщение: 3 рубля  \n",
    "   - 1 Гб интернет-трафика: 200 рублей  \n",
    "   \n",
    "   \n",
    "**Тариф «Ультра»**  \n",
    "* Ежемесячная плата: 1950 рублей  \n",
    "* Включено 3000 минут разговора, 1000 сообщений и 30 Гб интернет-трафика  \n",
    "* Стоимость услуг сверх тарифного пакета:  \n",
    "   - минута разговора: 1 рубль  \n",
    "   - сообщение: 1 рубль  \n",
    "   - 1 Гб интернет-трафика: 150 рублей  \n",
    "   \n",
    "***Внимание***: «Мегалайн» всегда округляет вверх значения минут и мегабайтов. Если пользователь проговорил всего 1 секунду, в тарифе засчитывается целая минута."
   ]
  },
  {
   "cell_type": "markdown",
   "metadata": {},
   "source": [
    "Импортируем библиотеки"
   ]
  },
  {
   "cell_type": "code",
   "execution_count": 1,
   "metadata": {},
   "outputs": [],
   "source": [
    "import pandas as pd\n",
    "import numpy as np\n",
    "from matplotlib import pyplot as plt\n",
    "from scipy import stats as st\n",
    "import seaborn as sns\n",
    "sns.set()\n",
    "import warnings\n",
    "warnings.filterwarnings('ignore')"
   ]
  },
  {
   "cell_type": "markdown",
   "metadata": {},
   "source": [
    "Уберем прокрутку вывода результатов ячейки"
   ]
  },
  {
   "cell_type": "code",
   "execution_count": 2,
   "metadata": {},
   "outputs": [
    {
     "data": {
      "application/javascript": [
       "IPython.OutputArea.prototype._should_scroll = function(lines) {\n",
       "    return false;\n",
       "}\n"
      ],
      "text/plain": [
       "<IPython.core.display.Javascript object>"
      ]
     },
     "metadata": {},
     "output_type": "display_data"
    }
   ],
   "source": [
    "%%javascript\n",
    "IPython.OutputArea.prototype._should_scroll = function(lines) {\n",
    "    return false;\n",
    "}"
   ]
  },
  {
   "cell_type": "markdown",
   "metadata": {},
   "source": [
    "Изучим общую информацию о предоставленнных датасетах"
   ]
  },
  {
   "cell_type": "code",
   "execution_count": 4,
   "metadata": {},
   "outputs": [],
   "source": [
    "dfs = {'calls': calls,\n",
    "       'internet': internet,\n",
    "       'messages': messages,\n",
    "       'tariffs': tariffs,\n",
    "       'users': users}"
   ]
  },
  {
   "cell_type": "code",
   "execution_count": 80,
   "metadata": {},
   "outputs": [
    {
     "name": "stdout",
     "output_type": "stream",
     "text": [
      "calls\n",
      "====================\n",
      "<class 'pandas.core.frame.DataFrame'>\n",
      "RangeIndex: 202607 entries, 0 to 202606\n",
      "Data columns (total 5 columns):\n",
      " #   Column     Non-Null Count   Dtype         \n",
      "---  ------     --------------   -----         \n",
      " 0   id         202607 non-null  object        \n",
      " 1   call_date  202607 non-null  datetime64[ns]\n",
      " 2   duration   202607 non-null  float64       \n",
      " 3   user_id    202607 non-null  int64         \n",
      " 4   month      202607 non-null  int64         \n",
      "dtypes: datetime64[ns](1), float64(1), int64(2), object(1)\n",
      "memory usage: 7.7+ MB\n"
     ]
    },
    {
     "data": {
      "text/plain": [
       "None"
      ]
     },
     "metadata": {},
     "output_type": "display_data"
    },
    {
     "name": "stdout",
     "output_type": "stream",
     "text": [
      "\n"
     ]
    },
    {
     "data": {
      "text/html": [
       "<div>\n",
       "<style scoped>\n",
       "    .dataframe tbody tr th:only-of-type {\n",
       "        vertical-align: middle;\n",
       "    }\n",
       "\n",
       "    .dataframe tbody tr th {\n",
       "        vertical-align: top;\n",
       "    }\n",
       "\n",
       "    .dataframe thead th {\n",
       "        text-align: right;\n",
       "    }\n",
       "</style>\n",
       "<table border=\"1\" class=\"dataframe\">\n",
       "  <thead>\n",
       "    <tr style=\"text-align: right;\">\n",
       "      <th></th>\n",
       "      <th>id</th>\n",
       "      <th>call_date</th>\n",
       "      <th>duration</th>\n",
       "      <th>user_id</th>\n",
       "      <th>month</th>\n",
       "    </tr>\n",
       "  </thead>\n",
       "  <tbody>\n",
       "    <tr>\n",
       "      <th>127578</th>\n",
       "      <td>1327_153</td>\n",
       "      <td>2018-07-14</td>\n",
       "      <td>1.0</td>\n",
       "      <td>1327</td>\n",
       "      <td>7</td>\n",
       "    </tr>\n",
       "    <tr>\n",
       "      <th>28298</th>\n",
       "      <td>1070_173</td>\n",
       "      <td>2018-10-23</td>\n",
       "      <td>8.0</td>\n",
       "      <td>1070</td>\n",
       "      <td>10</td>\n",
       "    </tr>\n",
       "  </tbody>\n",
       "</table>\n",
       "</div>"
      ],
      "text/plain": [
       "              id  call_date  duration  user_id  month\n",
       "127578  1327_153 2018-07-14       1.0     1327      7\n",
       "28298   1070_173 2018-10-23       8.0     1070     10"
      ]
     },
     "metadata": {},
     "output_type": "display_data"
    },
    {
     "name": "stdout",
     "output_type": "stream",
     "text": [
      "\n"
     ]
    },
    {
     "data": {
      "text/html": [
       "<div>\n",
       "<style scoped>\n",
       "    .dataframe tbody tr th:only-of-type {\n",
       "        vertical-align: middle;\n",
       "    }\n",
       "\n",
       "    .dataframe tbody tr th {\n",
       "        vertical-align: top;\n",
       "    }\n",
       "\n",
       "    .dataframe thead th {\n",
       "        text-align: right;\n",
       "    }\n",
       "</style>\n",
       "<table border=\"1\" class=\"dataframe\">\n",
       "  <thead>\n",
       "    <tr style=\"text-align: right;\">\n",
       "      <th></th>\n",
       "      <th>duration</th>\n",
       "      <th>user_id</th>\n",
       "      <th>month</th>\n",
       "    </tr>\n",
       "  </thead>\n",
       "  <tbody>\n",
       "    <tr>\n",
       "      <th>count</th>\n",
       "      <td>202607.000000</td>\n",
       "      <td>202607.000000</td>\n",
       "      <td>202607.000000</td>\n",
       "    </tr>\n",
       "    <tr>\n",
       "      <th>mean</th>\n",
       "      <td>7.158198</td>\n",
       "      <td>1253.940619</td>\n",
       "      <td>8.574067</td>\n",
       "    </tr>\n",
       "    <tr>\n",
       "      <th>std</th>\n",
       "      <td>5.959173</td>\n",
       "      <td>144.722751</td>\n",
       "      <td>2.787093</td>\n",
       "    </tr>\n",
       "    <tr>\n",
       "      <th>min</th>\n",
       "      <td>0.000000</td>\n",
       "      <td>1000.000000</td>\n",
       "      <td>1.000000</td>\n",
       "    </tr>\n",
       "    <tr>\n",
       "      <th>25%</th>\n",
       "      <td>2.000000</td>\n",
       "      <td>1126.000000</td>\n",
       "      <td>7.000000</td>\n",
       "    </tr>\n",
       "    <tr>\n",
       "      <th>50%</th>\n",
       "      <td>6.000000</td>\n",
       "      <td>1260.000000</td>\n",
       "      <td>9.000000</td>\n",
       "    </tr>\n",
       "    <tr>\n",
       "      <th>75%</th>\n",
       "      <td>11.000000</td>\n",
       "      <td>1379.000000</td>\n",
       "      <td>11.000000</td>\n",
       "    </tr>\n",
       "    <tr>\n",
       "      <th>max</th>\n",
       "      <td>38.000000</td>\n",
       "      <td>1499.000000</td>\n",
       "      <td>12.000000</td>\n",
       "    </tr>\n",
       "  </tbody>\n",
       "</table>\n",
       "</div>"
      ],
      "text/plain": [
       "            duration        user_id          month\n",
       "count  202607.000000  202607.000000  202607.000000\n",
       "mean        7.158198    1253.940619       8.574067\n",
       "std         5.959173     144.722751       2.787093\n",
       "min         0.000000    1000.000000       1.000000\n",
       "25%         2.000000    1126.000000       7.000000\n",
       "50%         6.000000    1260.000000       9.000000\n",
       "75%        11.000000    1379.000000      11.000000\n",
       "max        38.000000    1499.000000      12.000000"
      ]
     },
     "metadata": {},
     "output_type": "display_data"
    },
    {
     "name": "stdout",
     "output_type": "stream",
     "text": [
      "\n",
      "Кол-во дубликатов:  0\n",
      "\n",
      "====================\n",
      "internet\n",
      "====================\n",
      "<class 'pandas.core.frame.DataFrame'>\n",
      "RangeIndex: 149396 entries, 0 to 149395\n",
      "Data columns (total 5 columns):\n",
      " #   Column        Non-Null Count   Dtype         \n",
      "---  ------        --------------   -----         \n",
      " 0   id            149396 non-null  object        \n",
      " 1   mb_used       149396 non-null  float64       \n",
      " 2   session_date  149396 non-null  datetime64[ns]\n",
      " 3   user_id       149396 non-null  int64         \n",
      " 4   month         149396 non-null  int64         \n",
      "dtypes: datetime64[ns](1), float64(1), int64(2), object(1)\n",
      "memory usage: 5.7+ MB\n"
     ]
    },
    {
     "data": {
      "text/plain": [
       "None"
      ]
     },
     "metadata": {},
     "output_type": "display_data"
    },
    {
     "name": "stdout",
     "output_type": "stream",
     "text": [
      "\n"
     ]
    },
    {
     "data": {
      "text/html": [
       "<div>\n",
       "<style scoped>\n",
       "    .dataframe tbody tr th:only-of-type {\n",
       "        vertical-align: middle;\n",
       "    }\n",
       "\n",
       "    .dataframe tbody tr th {\n",
       "        vertical-align: top;\n",
       "    }\n",
       "\n",
       "    .dataframe thead th {\n",
       "        text-align: right;\n",
       "    }\n",
       "</style>\n",
       "<table border=\"1\" class=\"dataframe\">\n",
       "  <thead>\n",
       "    <tr style=\"text-align: right;\">\n",
       "      <th></th>\n",
       "      <th>id</th>\n",
       "      <th>mb_used</th>\n",
       "      <th>session_date</th>\n",
       "      <th>user_id</th>\n",
       "      <th>month</th>\n",
       "    </tr>\n",
       "  </thead>\n",
       "  <tbody>\n",
       "    <tr>\n",
       "      <th>120425</th>\n",
       "      <td>1405_101</td>\n",
       "      <td>1013.0</td>\n",
       "      <td>2018-12-03</td>\n",
       "      <td>1405</td>\n",
       "      <td>12</td>\n",
       "    </tr>\n",
       "    <tr>\n",
       "      <th>74837</th>\n",
       "      <td>1251_399</td>\n",
       "      <td>276.0</td>\n",
       "      <td>2018-09-08</td>\n",
       "      <td>1251</td>\n",
       "      <td>9</td>\n",
       "    </tr>\n",
       "  </tbody>\n",
       "</table>\n",
       "</div>"
      ],
      "text/plain": [
       "              id  mb_used session_date  user_id  month\n",
       "120425  1405_101   1013.0   2018-12-03     1405     12\n",
       "74837   1251_399    276.0   2018-09-08     1251      9"
      ]
     },
     "metadata": {},
     "output_type": "display_data"
    },
    {
     "name": "stdout",
     "output_type": "stream",
     "text": [
      "\n"
     ]
    },
    {
     "data": {
      "text/html": [
       "<div>\n",
       "<style scoped>\n",
       "    .dataframe tbody tr th:only-of-type {\n",
       "        vertical-align: middle;\n",
       "    }\n",
       "\n",
       "    .dataframe tbody tr th {\n",
       "        vertical-align: top;\n",
       "    }\n",
       "\n",
       "    .dataframe thead th {\n",
       "        text-align: right;\n",
       "    }\n",
       "</style>\n",
       "<table border=\"1\" class=\"dataframe\">\n",
       "  <thead>\n",
       "    <tr style=\"text-align: right;\">\n",
       "      <th></th>\n",
       "      <th>mb_used</th>\n",
       "      <th>user_id</th>\n",
       "      <th>month</th>\n",
       "    </tr>\n",
       "  </thead>\n",
       "  <tbody>\n",
       "    <tr>\n",
       "      <th>count</th>\n",
       "      <td>149396.000000</td>\n",
       "      <td>149396.000000</td>\n",
       "      <td>149396.000000</td>\n",
       "    </tr>\n",
       "    <tr>\n",
       "      <th>mean</th>\n",
       "      <td>370.622098</td>\n",
       "      <td>1252.099842</td>\n",
       "      <td>8.563315</td>\n",
       "    </tr>\n",
       "    <tr>\n",
       "      <th>std</th>\n",
       "      <td>278.387019</td>\n",
       "      <td>144.050823</td>\n",
       "      <td>2.788717</td>\n",
       "    </tr>\n",
       "    <tr>\n",
       "      <th>min</th>\n",
       "      <td>0.000000</td>\n",
       "      <td>1000.000000</td>\n",
       "      <td>1.000000</td>\n",
       "    </tr>\n",
       "    <tr>\n",
       "      <th>25%</th>\n",
       "      <td>139.000000</td>\n",
       "      <td>1130.000000</td>\n",
       "      <td>7.000000</td>\n",
       "    </tr>\n",
       "    <tr>\n",
       "      <th>50%</th>\n",
       "      <td>349.000000</td>\n",
       "      <td>1251.000000</td>\n",
       "      <td>9.000000</td>\n",
       "    </tr>\n",
       "    <tr>\n",
       "      <th>75%</th>\n",
       "      <td>560.000000</td>\n",
       "      <td>1380.000000</td>\n",
       "      <td>11.000000</td>\n",
       "    </tr>\n",
       "    <tr>\n",
       "      <th>max</th>\n",
       "      <td>1725.000000</td>\n",
       "      <td>1499.000000</td>\n",
       "      <td>12.000000</td>\n",
       "    </tr>\n",
       "  </tbody>\n",
       "</table>\n",
       "</div>"
      ],
      "text/plain": [
       "             mb_used        user_id          month\n",
       "count  149396.000000  149396.000000  149396.000000\n",
       "mean      370.622098    1252.099842       8.563315\n",
       "std       278.387019     144.050823       2.788717\n",
       "min         0.000000    1000.000000       1.000000\n",
       "25%       139.000000    1130.000000       7.000000\n",
       "50%       349.000000    1251.000000       9.000000\n",
       "75%       560.000000    1380.000000      11.000000\n",
       "max      1725.000000    1499.000000      12.000000"
      ]
     },
     "metadata": {},
     "output_type": "display_data"
    },
    {
     "name": "stdout",
     "output_type": "stream",
     "text": [
      "\n",
      "Кол-во дубликатов:  0\n",
      "\n",
      "====================\n",
      "messages\n",
      "====================\n",
      "<class 'pandas.core.frame.DataFrame'>\n",
      "RangeIndex: 123036 entries, 0 to 123035\n",
      "Data columns (total 4 columns):\n",
      " #   Column        Non-Null Count   Dtype         \n",
      "---  ------        --------------   -----         \n",
      " 0   id            123036 non-null  object        \n",
      " 1   message_date  123036 non-null  datetime64[ns]\n",
      " 2   user_id       123036 non-null  int64         \n",
      " 3   month         123036 non-null  int64         \n",
      "dtypes: datetime64[ns](1), int64(2), object(1)\n",
      "memory usage: 3.8+ MB\n"
     ]
    },
    {
     "data": {
      "text/plain": [
       "None"
      ]
     },
     "metadata": {},
     "output_type": "display_data"
    },
    {
     "name": "stdout",
     "output_type": "stream",
     "text": [
      "\n"
     ]
    },
    {
     "data": {
      "text/html": [
       "<div>\n",
       "<style scoped>\n",
       "    .dataframe tbody tr th:only-of-type {\n",
       "        vertical-align: middle;\n",
       "    }\n",
       "\n",
       "    .dataframe tbody tr th {\n",
       "        vertical-align: top;\n",
       "    }\n",
       "\n",
       "    .dataframe thead th {\n",
       "        text-align: right;\n",
       "    }\n",
       "</style>\n",
       "<table border=\"1\" class=\"dataframe\">\n",
       "  <thead>\n",
       "    <tr style=\"text-align: right;\">\n",
       "      <th></th>\n",
       "      <th>id</th>\n",
       "      <th>message_date</th>\n",
       "      <th>user_id</th>\n",
       "      <th>month</th>\n",
       "    </tr>\n",
       "  </thead>\n",
       "  <tbody>\n",
       "    <tr>\n",
       "      <th>20848</th>\n",
       "      <td>1089_851</td>\n",
       "      <td>2018-11-06</td>\n",
       "      <td>1089</td>\n",
       "      <td>11</td>\n",
       "    </tr>\n",
       "    <tr>\n",
       "      <th>31478</th>\n",
       "      <td>1140_29</td>\n",
       "      <td>2018-12-31</td>\n",
       "      <td>1140</td>\n",
       "      <td>12</td>\n",
       "    </tr>\n",
       "  </tbody>\n",
       "</table>\n",
       "</div>"
      ],
      "text/plain": [
       "             id message_date  user_id  month\n",
       "20848  1089_851   2018-11-06     1089     11\n",
       "31478   1140_29   2018-12-31     1140     12"
      ]
     },
     "metadata": {},
     "output_type": "display_data"
    },
    {
     "name": "stdout",
     "output_type": "stream",
     "text": [
      "\n"
     ]
    },
    {
     "data": {
      "text/html": [
       "<div>\n",
       "<style scoped>\n",
       "    .dataframe tbody tr th:only-of-type {\n",
       "        vertical-align: middle;\n",
       "    }\n",
       "\n",
       "    .dataframe tbody tr th {\n",
       "        vertical-align: top;\n",
       "    }\n",
       "\n",
       "    .dataframe thead th {\n",
       "        text-align: right;\n",
       "    }\n",
       "</style>\n",
       "<table border=\"1\" class=\"dataframe\">\n",
       "  <thead>\n",
       "    <tr style=\"text-align: right;\">\n",
       "      <th></th>\n",
       "      <th>user_id</th>\n",
       "      <th>month</th>\n",
       "    </tr>\n",
       "  </thead>\n",
       "  <tbody>\n",
       "    <tr>\n",
       "      <th>count</th>\n",
       "      <td>123036.000000</td>\n",
       "      <td>123036.000000</td>\n",
       "    </tr>\n",
       "    <tr>\n",
       "      <th>mean</th>\n",
       "      <td>1256.989410</td>\n",
       "      <td>8.632262</td>\n",
       "    </tr>\n",
       "    <tr>\n",
       "      <th>std</th>\n",
       "      <td>143.523967</td>\n",
       "      <td>2.747328</td>\n",
       "    </tr>\n",
       "    <tr>\n",
       "      <th>min</th>\n",
       "      <td>1000.000000</td>\n",
       "      <td>1.000000</td>\n",
       "    </tr>\n",
       "    <tr>\n",
       "      <th>25%</th>\n",
       "      <td>1134.000000</td>\n",
       "      <td>7.000000</td>\n",
       "    </tr>\n",
       "    <tr>\n",
       "      <th>50%</th>\n",
       "      <td>1271.000000</td>\n",
       "      <td>9.000000</td>\n",
       "    </tr>\n",
       "    <tr>\n",
       "      <th>75%</th>\n",
       "      <td>1381.000000</td>\n",
       "      <td>11.000000</td>\n",
       "    </tr>\n",
       "    <tr>\n",
       "      <th>max</th>\n",
       "      <td>1499.000000</td>\n",
       "      <td>12.000000</td>\n",
       "    </tr>\n",
       "  </tbody>\n",
       "</table>\n",
       "</div>"
      ],
      "text/plain": [
       "             user_id          month\n",
       "count  123036.000000  123036.000000\n",
       "mean     1256.989410       8.632262\n",
       "std       143.523967       2.747328\n",
       "min      1000.000000       1.000000\n",
       "25%      1134.000000       7.000000\n",
       "50%      1271.000000       9.000000\n",
       "75%      1381.000000      11.000000\n",
       "max      1499.000000      12.000000"
      ]
     },
     "metadata": {},
     "output_type": "display_data"
    },
    {
     "name": "stdout",
     "output_type": "stream",
     "text": [
      "\n",
      "Кол-во дубликатов:  0\n",
      "\n",
      "====================\n",
      "tariffs\n",
      "====================\n",
      "<class 'pandas.core.frame.DataFrame'>\n",
      "RangeIndex: 2 entries, 0 to 1\n",
      "Data columns (total 8 columns):\n",
      " #   Column                 Non-Null Count  Dtype \n",
      "---  ------                 --------------  ----- \n",
      " 0   messages_included      2 non-null      int64 \n",
      " 1   mb_per_month_included  2 non-null      int64 \n",
      " 2   minutes_included       2 non-null      int64 \n",
      " 3   rub_monthly_fee        2 non-null      int64 \n",
      " 4   rub_per_gb             2 non-null      int64 \n",
      " 5   rub_per_message        2 non-null      int64 \n",
      " 6   rub_per_minute         2 non-null      int64 \n",
      " 7   tariff_name            2 non-null      object\n",
      "dtypes: int64(7), object(1)\n",
      "memory usage: 256.0+ bytes\n"
     ]
    },
    {
     "data": {
      "text/plain": [
       "None"
      ]
     },
     "metadata": {},
     "output_type": "display_data"
    },
    {
     "name": "stdout",
     "output_type": "stream",
     "text": [
      "\n"
     ]
    },
    {
     "data": {
      "text/html": [
       "<div>\n",
       "<style scoped>\n",
       "    .dataframe tbody tr th:only-of-type {\n",
       "        vertical-align: middle;\n",
       "    }\n",
       "\n",
       "    .dataframe tbody tr th {\n",
       "        vertical-align: top;\n",
       "    }\n",
       "\n",
       "    .dataframe thead th {\n",
       "        text-align: right;\n",
       "    }\n",
       "</style>\n",
       "<table border=\"1\" class=\"dataframe\">\n",
       "  <thead>\n",
       "    <tr style=\"text-align: right;\">\n",
       "      <th></th>\n",
       "      <th>messages_included</th>\n",
       "      <th>mb_per_month_included</th>\n",
       "      <th>minutes_included</th>\n",
       "      <th>rub_monthly_fee</th>\n",
       "      <th>rub_per_gb</th>\n",
       "      <th>rub_per_message</th>\n",
       "      <th>rub_per_minute</th>\n",
       "      <th>tariff_name</th>\n",
       "    </tr>\n",
       "  </thead>\n",
       "  <tbody>\n",
       "    <tr>\n",
       "      <th>0</th>\n",
       "      <td>50</td>\n",
       "      <td>15360</td>\n",
       "      <td>500</td>\n",
       "      <td>550</td>\n",
       "      <td>200</td>\n",
       "      <td>3</td>\n",
       "      <td>3</td>\n",
       "      <td>smart</td>\n",
       "    </tr>\n",
       "    <tr>\n",
       "      <th>1</th>\n",
       "      <td>1000</td>\n",
       "      <td>30720</td>\n",
       "      <td>3000</td>\n",
       "      <td>1950</td>\n",
       "      <td>150</td>\n",
       "      <td>1</td>\n",
       "      <td>1</td>\n",
       "      <td>ultra</td>\n",
       "    </tr>\n",
       "  </tbody>\n",
       "</table>\n",
       "</div>"
      ],
      "text/plain": [
       "   messages_included  mb_per_month_included  minutes_included  \\\n",
       "0                 50                  15360               500   \n",
       "1               1000                  30720              3000   \n",
       "\n",
       "   rub_monthly_fee  rub_per_gb  rub_per_message  rub_per_minute tariff_name  \n",
       "0              550         200                3               3       smart  \n",
       "1             1950         150                1               1       ultra  "
      ]
     },
     "metadata": {},
     "output_type": "display_data"
    },
    {
     "name": "stdout",
     "output_type": "stream",
     "text": [
      "\n"
     ]
    },
    {
     "data": {
      "text/html": [
       "<div>\n",
       "<style scoped>\n",
       "    .dataframe tbody tr th:only-of-type {\n",
       "        vertical-align: middle;\n",
       "    }\n",
       "\n",
       "    .dataframe tbody tr th {\n",
       "        vertical-align: top;\n",
       "    }\n",
       "\n",
       "    .dataframe thead th {\n",
       "        text-align: right;\n",
       "    }\n",
       "</style>\n",
       "<table border=\"1\" class=\"dataframe\">\n",
       "  <thead>\n",
       "    <tr style=\"text-align: right;\">\n",
       "      <th></th>\n",
       "      <th>messages_included</th>\n",
       "      <th>mb_per_month_included</th>\n",
       "      <th>minutes_included</th>\n",
       "      <th>rub_monthly_fee</th>\n",
       "      <th>rub_per_gb</th>\n",
       "      <th>rub_per_message</th>\n",
       "      <th>rub_per_minute</th>\n",
       "    </tr>\n",
       "  </thead>\n",
       "  <tbody>\n",
       "    <tr>\n",
       "      <th>count</th>\n",
       "      <td>2.000000</td>\n",
       "      <td>2.000000</td>\n",
       "      <td>2.000000</td>\n",
       "      <td>2.000000</td>\n",
       "      <td>2.000000</td>\n",
       "      <td>2.000000</td>\n",
       "      <td>2.000000</td>\n",
       "    </tr>\n",
       "    <tr>\n",
       "      <th>mean</th>\n",
       "      <td>525.000000</td>\n",
       "      <td>23040.000000</td>\n",
       "      <td>1750.000000</td>\n",
       "      <td>1250.000000</td>\n",
       "      <td>175.000000</td>\n",
       "      <td>2.000000</td>\n",
       "      <td>2.000000</td>\n",
       "    </tr>\n",
       "    <tr>\n",
       "      <th>std</th>\n",
       "      <td>671.751442</td>\n",
       "      <td>10861.160159</td>\n",
       "      <td>1767.766953</td>\n",
       "      <td>989.949494</td>\n",
       "      <td>35.355339</td>\n",
       "      <td>1.414214</td>\n",
       "      <td>1.414214</td>\n",
       "    </tr>\n",
       "    <tr>\n",
       "      <th>min</th>\n",
       "      <td>50.000000</td>\n",
       "      <td>15360.000000</td>\n",
       "      <td>500.000000</td>\n",
       "      <td>550.000000</td>\n",
       "      <td>150.000000</td>\n",
       "      <td>1.000000</td>\n",
       "      <td>1.000000</td>\n",
       "    </tr>\n",
       "    <tr>\n",
       "      <th>25%</th>\n",
       "      <td>287.500000</td>\n",
       "      <td>19200.000000</td>\n",
       "      <td>1125.000000</td>\n",
       "      <td>900.000000</td>\n",
       "      <td>162.500000</td>\n",
       "      <td>1.500000</td>\n",
       "      <td>1.500000</td>\n",
       "    </tr>\n",
       "    <tr>\n",
       "      <th>50%</th>\n",
       "      <td>525.000000</td>\n",
       "      <td>23040.000000</td>\n",
       "      <td>1750.000000</td>\n",
       "      <td>1250.000000</td>\n",
       "      <td>175.000000</td>\n",
       "      <td>2.000000</td>\n",
       "      <td>2.000000</td>\n",
       "    </tr>\n",
       "    <tr>\n",
       "      <th>75%</th>\n",
       "      <td>762.500000</td>\n",
       "      <td>26880.000000</td>\n",
       "      <td>2375.000000</td>\n",
       "      <td>1600.000000</td>\n",
       "      <td>187.500000</td>\n",
       "      <td>2.500000</td>\n",
       "      <td>2.500000</td>\n",
       "    </tr>\n",
       "    <tr>\n",
       "      <th>max</th>\n",
       "      <td>1000.000000</td>\n",
       "      <td>30720.000000</td>\n",
       "      <td>3000.000000</td>\n",
       "      <td>1950.000000</td>\n",
       "      <td>200.000000</td>\n",
       "      <td>3.000000</td>\n",
       "      <td>3.000000</td>\n",
       "    </tr>\n",
       "  </tbody>\n",
       "</table>\n",
       "</div>"
      ],
      "text/plain": [
       "       messages_included  mb_per_month_included  minutes_included  \\\n",
       "count           2.000000               2.000000          2.000000   \n",
       "mean          525.000000           23040.000000       1750.000000   \n",
       "std           671.751442           10861.160159       1767.766953   \n",
       "min            50.000000           15360.000000        500.000000   \n",
       "25%           287.500000           19200.000000       1125.000000   \n",
       "50%           525.000000           23040.000000       1750.000000   \n",
       "75%           762.500000           26880.000000       2375.000000   \n",
       "max          1000.000000           30720.000000       3000.000000   \n",
       "\n",
       "       rub_monthly_fee  rub_per_gb  rub_per_message  rub_per_minute  \n",
       "count         2.000000    2.000000         2.000000        2.000000  \n",
       "mean       1250.000000  175.000000         2.000000        2.000000  \n",
       "std         989.949494   35.355339         1.414214        1.414214  \n",
       "min         550.000000  150.000000         1.000000        1.000000  \n",
       "25%         900.000000  162.500000         1.500000        1.500000  \n",
       "50%        1250.000000  175.000000         2.000000        2.000000  \n",
       "75%        1600.000000  187.500000         2.500000        2.500000  \n",
       "max        1950.000000  200.000000         3.000000        3.000000  "
      ]
     },
     "metadata": {},
     "output_type": "display_data"
    },
    {
     "name": "stdout",
     "output_type": "stream",
     "text": [
      "\n",
      "Кол-во дубликатов:  0\n",
      "\n",
      "====================\n",
      "users\n",
      "====================\n",
      "<class 'pandas.core.frame.DataFrame'>\n",
      "RangeIndex: 500 entries, 0 to 499\n",
      "Data columns (total 8 columns):\n",
      " #   Column      Non-Null Count  Dtype         \n",
      "---  ------      --------------  -----         \n",
      " 0   user_id     500 non-null    int64         \n",
      " 1   age         500 non-null    int64         \n",
      " 2   churn_date  38 non-null     datetime64[ns]\n",
      " 3   city        500 non-null    object        \n",
      " 4   first_name  500 non-null    object        \n",
      " 5   last_name   500 non-null    object        \n",
      " 6   reg_date    500 non-null    datetime64[ns]\n",
      " 7   tariff      500 non-null    object        \n",
      "dtypes: datetime64[ns](2), int64(2), object(4)\n",
      "memory usage: 31.4+ KB\n"
     ]
    },
    {
     "data": {
      "text/plain": [
       "None"
      ]
     },
     "metadata": {},
     "output_type": "display_data"
    },
    {
     "name": "stdout",
     "output_type": "stream",
     "text": [
      "\n"
     ]
    },
    {
     "data": {
      "text/html": [
       "<div>\n",
       "<style scoped>\n",
       "    .dataframe tbody tr th:only-of-type {\n",
       "        vertical-align: middle;\n",
       "    }\n",
       "\n",
       "    .dataframe tbody tr th {\n",
       "        vertical-align: top;\n",
       "    }\n",
       "\n",
       "    .dataframe thead th {\n",
       "        text-align: right;\n",
       "    }\n",
       "</style>\n",
       "<table border=\"1\" class=\"dataframe\">\n",
       "  <thead>\n",
       "    <tr style=\"text-align: right;\">\n",
       "      <th></th>\n",
       "      <th>user_id</th>\n",
       "      <th>age</th>\n",
       "      <th>churn_date</th>\n",
       "      <th>city</th>\n",
       "      <th>first_name</th>\n",
       "      <th>last_name</th>\n",
       "      <th>reg_date</th>\n",
       "      <th>tariff</th>\n",
       "    </tr>\n",
       "  </thead>\n",
       "  <tbody>\n",
       "    <tr>\n",
       "      <th>364</th>\n",
       "      <td>1364</td>\n",
       "      <td>74</td>\n",
       "      <td>NaT</td>\n",
       "      <td>Екатеринбург</td>\n",
       "      <td>Мстислав</td>\n",
       "      <td>Алексеенко</td>\n",
       "      <td>2018-08-29</td>\n",
       "      <td>ultra</td>\n",
       "    </tr>\n",
       "    <tr>\n",
       "      <th>76</th>\n",
       "      <td>1076</td>\n",
       "      <td>40</td>\n",
       "      <td>NaT</td>\n",
       "      <td>Уфа</td>\n",
       "      <td>Фёдор</td>\n",
       "      <td>Шарапов</td>\n",
       "      <td>2018-03-10</td>\n",
       "      <td>smart</td>\n",
       "    </tr>\n",
       "  </tbody>\n",
       "</table>\n",
       "</div>"
      ],
      "text/plain": [
       "     user_id  age churn_date          city first_name   last_name   reg_date  \\\n",
       "364     1364   74        NaT  Екатеринбург   Мстислав  Алексеенко 2018-08-29   \n",
       "76      1076   40        NaT           Уфа      Фёдор     Шарапов 2018-03-10   \n",
       "\n",
       "    tariff  \n",
       "364  ultra  \n",
       "76   smart  "
      ]
     },
     "metadata": {},
     "output_type": "display_data"
    },
    {
     "name": "stdout",
     "output_type": "stream",
     "text": [
      "\n"
     ]
    },
    {
     "data": {
      "text/html": [
       "<div>\n",
       "<style scoped>\n",
       "    .dataframe tbody tr th:only-of-type {\n",
       "        vertical-align: middle;\n",
       "    }\n",
       "\n",
       "    .dataframe tbody tr th {\n",
       "        vertical-align: top;\n",
       "    }\n",
       "\n",
       "    .dataframe thead th {\n",
       "        text-align: right;\n",
       "    }\n",
       "</style>\n",
       "<table border=\"1\" class=\"dataframe\">\n",
       "  <thead>\n",
       "    <tr style=\"text-align: right;\">\n",
       "      <th></th>\n",
       "      <th>user_id</th>\n",
       "      <th>age</th>\n",
       "    </tr>\n",
       "  </thead>\n",
       "  <tbody>\n",
       "    <tr>\n",
       "      <th>count</th>\n",
       "      <td>500.000000</td>\n",
       "      <td>500.00000</td>\n",
       "    </tr>\n",
       "    <tr>\n",
       "      <th>mean</th>\n",
       "      <td>1249.500000</td>\n",
       "      <td>46.58800</td>\n",
       "    </tr>\n",
       "    <tr>\n",
       "      <th>std</th>\n",
       "      <td>144.481833</td>\n",
       "      <td>16.66763</td>\n",
       "    </tr>\n",
       "    <tr>\n",
       "      <th>min</th>\n",
       "      <td>1000.000000</td>\n",
       "      <td>18.00000</td>\n",
       "    </tr>\n",
       "    <tr>\n",
       "      <th>25%</th>\n",
       "      <td>1124.750000</td>\n",
       "      <td>32.00000</td>\n",
       "    </tr>\n",
       "    <tr>\n",
       "      <th>50%</th>\n",
       "      <td>1249.500000</td>\n",
       "      <td>46.00000</td>\n",
       "    </tr>\n",
       "    <tr>\n",
       "      <th>75%</th>\n",
       "      <td>1374.250000</td>\n",
       "      <td>62.00000</td>\n",
       "    </tr>\n",
       "    <tr>\n",
       "      <th>max</th>\n",
       "      <td>1499.000000</td>\n",
       "      <td>75.00000</td>\n",
       "    </tr>\n",
       "  </tbody>\n",
       "</table>\n",
       "</div>"
      ],
      "text/plain": [
       "           user_id        age\n",
       "count   500.000000  500.00000\n",
       "mean   1249.500000   46.58800\n",
       "std     144.481833   16.66763\n",
       "min    1000.000000   18.00000\n",
       "25%    1124.750000   32.00000\n",
       "50%    1249.500000   46.00000\n",
       "75%    1374.250000   62.00000\n",
       "max    1499.000000   75.00000"
      ]
     },
     "metadata": {},
     "output_type": "display_data"
    },
    {
     "name": "stdout",
     "output_type": "stream",
     "text": [
      "\n",
      "Кол-во дубликатов:  0\n",
      "\n",
      "====================\n"
     ]
    }
   ],
   "source": [
    "for key in dfs:\n",
    "    print(key)\n",
    "    print('====================')\n",
    "    display(dfs[key].info())\n",
    "    print()\n",
    "    display(dfs[key].sample(2))\n",
    "    print()\n",
    "    display(dfs[key].describe())\n",
    "    print()\n",
    "    print('Кол-во дубликатов: ', dfs[key].duplicated().sum())\n",
    "    print()\n",
    "    print('====================')"
   ]
  },
  {
   "cell_type": "markdown",
   "metadata": {},
   "source": [
    "Посмотрим, сколько нулевых записей в продолжительности звонка и объеме потребленного трафика"
   ]
  },
  {
   "cell_type": "code",
   "execution_count": 6,
   "metadata": {},
   "outputs": [
    {
     "name": "stdout",
     "output_type": "stream",
     "text": [
      "39613\n",
      "19.551644316336553\n"
     ]
    }
   ],
   "source": [
    "print(len(calls[calls['duration'] == 0]))\n",
    "print(len(calls[calls['duration'] == 0])/len(calls) * 100)"
   ]
  },
  {
   "cell_type": "code",
   "execution_count": 7,
   "metadata": {
    "scrolled": false
   },
   "outputs": [
    {
     "name": "stdout",
     "output_type": "stream",
     "text": [
      "19598\n",
      "9.672913571594268\n"
     ]
    }
   ],
   "source": [
    "print(len(internet[internet['mb_used'] == 0]))\n",
    "print(len(internet[internet['mb_used'] == 0])/len(calls) * 100)"
   ]
  },
  {
   "cell_type": "markdown",
   "metadata": {},
   "source": [
    "Посмотрим, доля какого тарифа в рассматриваемой выборке больше:"
   ]
  },
  {
   "cell_type": "code",
   "execution_count": 8,
   "metadata": {
    "scrolled": true
   },
   "outputs": [
    {
     "data": {
      "text/plain": [
       "smart    70.2\n",
       "ultra    29.8\n",
       "Name: tariff, dtype: float64"
      ]
     },
     "execution_count": 8,
     "metadata": {},
     "output_type": "execute_result"
    }
   ],
   "source": [
    "users['tariff'].value_counts() / len(users) *100"
   ]
  },
  {
   "cell_type": "markdown",
   "metadata": {},
   "source": [
    "Проверим кол-во пользователей, данные которых нам предоставлены:"
   ]
  },
  {
   "cell_type": "code",
   "execution_count": 9,
   "metadata": {},
   "outputs": [
    {
     "data": {
      "text/plain": [
       "500"
      ]
     },
     "execution_count": 9,
     "metadata": {},
     "output_type": "execute_result"
    }
   ],
   "source": [
    "len(users['user_id'].unique())"
   ]
  },
  {
   "cell_type": "markdown",
   "metadata": {},
   "source": [
    "Посмотрим, какой регион преобладает в рассматриваемой выборке:"
   ]
  },
  {
   "cell_type": "code",
   "execution_count": 10,
   "metadata": {
    "scrolled": true
   },
   "outputs": [
    {
     "data": {
      "text/plain": [
       "Москва             99\n",
       "Санкт-Петербург    39\n",
       "Новосибирск        16\n",
       "Омск               14\n",
       "Казань             14\n",
       "                   ..\n",
       "Архангельск         1\n",
       "Подольск            1\n",
       "Иваново             1\n",
       "Химки               1\n",
       "Нижневартовск       1\n",
       "Name: city, Length: 76, dtype: int64"
      ]
     },
     "execution_count": 10,
     "metadata": {},
     "output_type": "execute_result"
    }
   ],
   "source": [
    "users['city'].value_counts()"
   ]
  },
  {
   "cell_type": "markdown",
   "metadata": {},
   "source": [
    "#### Вывод <a class=\"anchor\" id=\"conclusion1\"></a>"
   ]
  },
  {
   "cell_type": "markdown",
   "metadata": {},
   "source": [
    "Нам предоставлена выборка с данными 500 клиентов оператора в виде 5 таблиц с данными о звонках, интернет-трафике, смс, параметрами тарифов и информацией о пользователях.  \n",
    "\n",
    "Почти 20% выборки представляют клиенты из Москвы. Доля клиентов, использующих тариф smart в рассматриваемой выборке в 2 с лишним раза больше (smart - 70.2%,\n",
    "ultra - 29.8%).  \n",
    "\n",
    "Пропущенные значения есть только в одной представленной таблице - users, в столбце churn_date, где хранится информация о дате прекращения использования тарифа, если клиент прекратил использование.  \n",
    "Дубликатов в представленных данных нет.  \n",
    "\n",
    "Требуется следующая предобработка данных:  \n",
    "1) Изменения типов данных к формату даты:\n",
    "   * calls['call_date']   \n",
    "   * internet['session_date ']\n",
    "   * messages['message_date']\n",
    "   * users['reg_date']\n",
    "   * users['churn_date']    \n",
    "   \n",
    "2) Похоже, что столбец Unnamed: 0 в таблице internet дублирует Индекс, нужно проверить и в случае дублирования удалить.  \n",
    "3) Длительность звонков и объем потребленного трафика округлить вверх до целых чисел, т.к. такие правила действую у \"Мегалайн\".  \n",
    "4) Понять, что делать с нулевыми значениями данных о длительности звонков и объеме потребленного трафика, т.к. они составляют порядочную чатсь выборки (19.55% и 9.67% соотвественно) и нужны для расчета помесячной выручки с каждого пользователя и ответа на главный вопрос исследования."
   ]
  },
  {
   "cell_type": "markdown",
   "metadata": {},
   "source": [
    "### 2. Предобработка данных <a class=\"anchor\" id=\"point2\"></a>"
   ]
  },
  {
   "cell_type": "markdown",
   "metadata": {},
   "source": [
    "Подготовим вводные данные к работе. Обработаем найденные в процессе изучения предоставленных вводных данных несоответствия форматов и аномалии. Рассчитаем новые показатели, необходимые для анализа и ответа на поставленные в задаче вопросы."
   ]
  },
  {
   "cell_type": "markdown",
   "metadata": {},
   "source": [
    "#### Замена типа данных <a class=\"anchor\" id=\"subpoint2_1\"></a>"
   ]
  },
  {
   "cell_type": "markdown",
   "metadata": {},
   "source": [
    "Приведем к формату даты следующие столбцы:"
   ]
  },
  {
   "cell_type": "code",
   "execution_count": 11,
   "metadata": {},
   "outputs": [],
   "source": [
    "calls['call_date'] = pd.to_datetime(calls['call_date'], format='%Y-%m-%d')\n",
    "internet['session_date'] = pd.to_datetime(internet['session_date'], format='%Y-%m-%d')\n",
    "messages['message_date'] = pd.to_datetime(messages['message_date'], format='%Y-%m-%d')\n",
    "users['reg_date'] = pd.to_datetime(users['reg_date'], format='%Y-%m-%d')\n",
    "users['churn_date'] = pd.to_datetime(users['churn_date'], format='%Y-%m-%d')"
   ]
  },
  {
   "cell_type": "markdown",
   "metadata": {},
   "source": [
    "#### Исправление ошибок в данных <a class=\"anchor\" id=\"subpoint2_2\"></a>"
   ]
  },
  {
   "cell_type": "markdown",
   "metadata": {},
   "source": [
    "Проверим, идентичен ли столбец \"Unnamed: 0\" в таблице internet Индексу:"
   ]
  },
  {
   "cell_type": "code",
   "execution_count": 12,
   "metadata": {},
   "outputs": [
    {
     "name": "stdout",
     "output_type": "stream",
     "text": [
      "0\n"
     ]
    }
   ],
   "source": [
    "chk = 0\n",
    "for index, row in internet.iterrows():\n",
    "    if index != row['Unnamed: 0']:\n",
    "        chk += 1\n",
    "\n",
    "print(chk)"
   ]
  },
  {
   "cell_type": "markdown",
   "metadata": {},
   "source": [
    "Столбец \"Unnamed: 0\" и Индекс идентичны. Удалим \"Unnamed: 0\":"
   ]
  },
  {
   "cell_type": "code",
   "execution_count": 13,
   "metadata": {},
   "outputs": [],
   "source": [
    "del internet['Unnamed: 0']"
   ]
  },
  {
   "cell_type": "markdown",
   "metadata": {},
   "source": [
    "Необходимо решить, как поступить с нулевыми значениями в данных о длительности звонков и объеме потребленного трафика. Если в таблицах есть строки с этими значениями, значит, звонок или интернет сессия имели место быть. \n",
    "Посмотрим, у какого кол-ва юзеров имется звонки и интернет-сессии с нулевыми значениями."
   ]
  },
  {
   "cell_type": "code",
   "execution_count": 14,
   "metadata": {},
   "outputs": [
    {
     "data": {
      "text/plain": [
       "1377    336\n",
       "1168    308\n",
       "1453    295\n",
       "1375    290\n",
       "1196    262\n",
       "       ... \n",
       "1397      6\n",
       "1442      5\n",
       "1424      5\n",
       "1084      5\n",
       "1406      5\n",
       "Name: user_id, Length: 492, dtype: int64"
      ]
     },
     "execution_count": 14,
     "metadata": {},
     "output_type": "execute_result"
    }
   ],
   "source": [
    "calls[calls['duration'] == 0]['user_id'].value_counts()"
   ]
  },
  {
   "cell_type": "code",
   "execution_count": 15,
   "metadata": {
    "scrolled": false
   },
   "outputs": [
    {
     "data": {
      "text/plain": [
       "1204    144\n",
       "1496    141\n",
       "1429    125\n",
       "1119    124\n",
       "1227    121\n",
       "       ... \n",
       "1084      1\n",
       "1461      1\n",
       "1309      1\n",
       "1201      1\n",
       "1016      1\n",
       "Name: user_id, Length: 494, dtype: int64"
      ]
     },
     "execution_count": 15,
     "metadata": {},
     "output_type": "execute_result"
    }
   ],
   "source": [
    "internet[internet['mb_used'] == 0]['user_id'].value_counts()"
   ]
  },
  {
   "cell_type": "markdown",
   "metadata": {},
   "source": [
    "Почти у 100% пользователей есть записи о звонках и интернет-сессиях с нулевыми значениями. Значит, это не случайная ошибка, характерная только для нескольких пользователей."
   ]
  },
  {
   "cell_type": "markdown",
   "metadata": {},
   "source": [
    "Посмотрим, какие минимальные значения, больше 0, есть в датасете. Возможно, при выгрузке данных значения округлялись не вверх, а по правилам округления и некоторые значения округлились до 0."
   ]
  },
  {
   "cell_type": "code",
   "execution_count": 16,
   "metadata": {},
   "outputs": [
    {
     "data": {
      "text/html": [
       "<div>\n",
       "<style scoped>\n",
       "    .dataframe tbody tr th:only-of-type {\n",
       "        vertical-align: middle;\n",
       "    }\n",
       "\n",
       "    .dataframe tbody tr th {\n",
       "        vertical-align: top;\n",
       "    }\n",
       "\n",
       "    .dataframe thead th {\n",
       "        text-align: right;\n",
       "    }\n",
       "</style>\n",
       "<table border=\"1\" class=\"dataframe\">\n",
       "  <thead>\n",
       "    <tr style=\"text-align: right;\">\n",
       "      <th></th>\n",
       "      <th>id</th>\n",
       "      <th>call_date</th>\n",
       "      <th>duration</th>\n",
       "      <th>user_id</th>\n",
       "    </tr>\n",
       "  </thead>\n",
       "  <tbody>\n",
       "    <tr>\n",
       "      <th>194301</th>\n",
       "      <td>1477_49</td>\n",
       "      <td>2018-11-25</td>\n",
       "      <td>0.01</td>\n",
       "      <td>1477</td>\n",
       "    </tr>\n",
       "    <tr>\n",
       "      <th>41260</th>\n",
       "      <td>1101_303</td>\n",
       "      <td>2018-11-10</td>\n",
       "      <td>0.01</td>\n",
       "      <td>1101</td>\n",
       "    </tr>\n",
       "    <tr>\n",
       "      <th>34112</th>\n",
       "      <td>1083_457</td>\n",
       "      <td>2018-11-08</td>\n",
       "      <td>0.01</td>\n",
       "      <td>1083</td>\n",
       "    </tr>\n",
       "    <tr>\n",
       "      <th>153576</th>\n",
       "      <td>1381_451</td>\n",
       "      <td>2018-11-28</td>\n",
       "      <td>0.01</td>\n",
       "      <td>1381</td>\n",
       "    </tr>\n",
       "    <tr>\n",
       "      <th>201119</th>\n",
       "      <td>1495_506</td>\n",
       "      <td>2018-11-14</td>\n",
       "      <td>0.01</td>\n",
       "      <td>1495</td>\n",
       "    </tr>\n",
       "    <tr>\n",
       "      <th>70415</th>\n",
       "      <td>1176_195</td>\n",
       "      <td>2018-06-27</td>\n",
       "      <td>0.01</td>\n",
       "      <td>1176</td>\n",
       "    </tr>\n",
       "    <tr>\n",
       "      <th>86615</th>\n",
       "      <td>1217_480</td>\n",
       "      <td>2018-09-09</td>\n",
       "      <td>0.01</td>\n",
       "      <td>1217</td>\n",
       "    </tr>\n",
       "    <tr>\n",
       "      <th>14137</th>\n",
       "      <td>1036_311</td>\n",
       "      <td>2018-10-24</td>\n",
       "      <td>0.01</td>\n",
       "      <td>1036</td>\n",
       "    </tr>\n",
       "    <tr>\n",
       "      <th>123924</th>\n",
       "      <td>1319_73</td>\n",
       "      <td>2018-12-04</td>\n",
       "      <td>0.01</td>\n",
       "      <td>1319</td>\n",
       "    </tr>\n",
       "    <tr>\n",
       "      <th>86104</th>\n",
       "      <td>1216_211</td>\n",
       "      <td>2018-12-23</td>\n",
       "      <td>0.01</td>\n",
       "      <td>1216</td>\n",
       "    </tr>\n",
       "  </tbody>\n",
       "</table>\n",
       "</div>"
      ],
      "text/plain": [
       "              id  call_date  duration  user_id\n",
       "194301   1477_49 2018-11-25      0.01     1477\n",
       "41260   1101_303 2018-11-10      0.01     1101\n",
       "34112   1083_457 2018-11-08      0.01     1083\n",
       "153576  1381_451 2018-11-28      0.01     1381\n",
       "201119  1495_506 2018-11-14      0.01     1495\n",
       "70415   1176_195 2018-06-27      0.01     1176\n",
       "86615   1217_480 2018-09-09      0.01     1217\n",
       "14137   1036_311 2018-10-24      0.01     1036\n",
       "123924   1319_73 2018-12-04      0.01     1319\n",
       "86104   1216_211 2018-12-23      0.01     1216"
      ]
     },
     "execution_count": 16,
     "metadata": {},
     "output_type": "execute_result"
    }
   ],
   "source": [
    "calls[calls['duration'] > 0].sort_values(by='duration').head(10)"
   ]
  },
  {
   "cell_type": "code",
   "execution_count": 17,
   "metadata": {
    "scrolled": true
   },
   "outputs": [
    {
     "data": {
      "text/html": [
       "<div>\n",
       "<style scoped>\n",
       "    .dataframe tbody tr th:only-of-type {\n",
       "        vertical-align: middle;\n",
       "    }\n",
       "\n",
       "    .dataframe tbody tr th {\n",
       "        vertical-align: top;\n",
       "    }\n",
       "\n",
       "    .dataframe thead th {\n",
       "        text-align: right;\n",
       "    }\n",
       "</style>\n",
       "<table border=\"1\" class=\"dataframe\">\n",
       "  <thead>\n",
       "    <tr style=\"text-align: right;\">\n",
       "      <th></th>\n",
       "      <th>id</th>\n",
       "      <th>mb_used</th>\n",
       "      <th>session_date</th>\n",
       "      <th>user_id</th>\n",
       "    </tr>\n",
       "  </thead>\n",
       "  <tbody>\n",
       "    <tr>\n",
       "      <th>15944</th>\n",
       "      <td>1055_402</td>\n",
       "      <td>0.03</td>\n",
       "      <td>2018-06-15</td>\n",
       "      <td>1055</td>\n",
       "    </tr>\n",
       "    <tr>\n",
       "      <th>85722</th>\n",
       "      <td>1291_278</td>\n",
       "      <td>0.04</td>\n",
       "      <td>2018-08-10</td>\n",
       "      <td>1291</td>\n",
       "    </tr>\n",
       "    <tr>\n",
       "      <th>108198</th>\n",
       "      <td>1370_3</td>\n",
       "      <td>0.06</td>\n",
       "      <td>2018-07-18</td>\n",
       "      <td>1370</td>\n",
       "    </tr>\n",
       "    <tr>\n",
       "      <th>11027</th>\n",
       "      <td>1038_76</td>\n",
       "      <td>0.07</td>\n",
       "      <td>2018-12-30</td>\n",
       "      <td>1038</td>\n",
       "    </tr>\n",
       "    <tr>\n",
       "      <th>11399</th>\n",
       "      <td>1040_22</td>\n",
       "      <td>0.07</td>\n",
       "      <td>2018-11-23</td>\n",
       "      <td>1040</td>\n",
       "    </tr>\n",
       "    <tr>\n",
       "      <th>12506</th>\n",
       "      <td>1044_143</td>\n",
       "      <td>0.08</td>\n",
       "      <td>2018-11-18</td>\n",
       "      <td>1044</td>\n",
       "    </tr>\n",
       "    <tr>\n",
       "      <th>124847</th>\n",
       "      <td>1421_32</td>\n",
       "      <td>0.08</td>\n",
       "      <td>2018-11-15</td>\n",
       "      <td>1421</td>\n",
       "    </tr>\n",
       "    <tr>\n",
       "      <th>19101</th>\n",
       "      <td>1065_246</td>\n",
       "      <td>0.08</td>\n",
       "      <td>2018-03-17</td>\n",
       "      <td>1065</td>\n",
       "    </tr>\n",
       "    <tr>\n",
       "      <th>27569</th>\n",
       "      <td>1096_77</td>\n",
       "      <td>0.09</td>\n",
       "      <td>2018-07-09</td>\n",
       "      <td>1096</td>\n",
       "    </tr>\n",
       "    <tr>\n",
       "      <th>102165</th>\n",
       "      <td>1341_280</td>\n",
       "      <td>0.09</td>\n",
       "      <td>2018-08-29</td>\n",
       "      <td>1341</td>\n",
       "    </tr>\n",
       "  </tbody>\n",
       "</table>\n",
       "</div>"
      ],
      "text/plain": [
       "              id  mb_used session_date  user_id\n",
       "15944   1055_402     0.03   2018-06-15     1055\n",
       "85722   1291_278     0.04   2018-08-10     1291\n",
       "108198    1370_3     0.06   2018-07-18     1370\n",
       "11027    1038_76     0.07   2018-12-30     1038\n",
       "11399    1040_22     0.07   2018-11-23     1040\n",
       "12506   1044_143     0.08   2018-11-18     1044\n",
       "124847   1421_32     0.08   2018-11-15     1421\n",
       "19101   1065_246     0.08   2018-03-17     1065\n",
       "27569    1096_77     0.09   2018-07-09     1096\n",
       "102165  1341_280     0.09   2018-08-29     1341"
      ]
     },
     "execution_count": 17,
     "metadata": {},
     "output_type": "execute_result"
    }
   ],
   "source": [
    "internet[internet['mb_used'] > 0].sort_values(by='mb_used').head(10)"
   ]
  },
  {
   "cell_type": "markdown",
   "metadata": {},
   "source": [
    "Минимальные длительность звонков и объем интернет-сессий, больше 0, представленные в датасете, составляют несколько сотых. Значит, нулевые значения не обусловлены округлением вниз при выгрузке данных."
   ]
  },
  {
   "cell_type": "markdown",
   "metadata": {},
   "source": [
    "Вероятно, нулевые значения в длительности звонков появляются, когда звонок прошел, но он был не принят, т.е. человек, которому звонили, трубку не взял.\n",
    "Нулевые значения в интернет-сессиях отображают несостоявшиеся интернет-сессии. \n",
    "Оставим нулевые значения без изменений."
   ]
  },
  {
   "cell_type": "markdown",
   "metadata": {},
   "source": [
    "Длительность звонков и объем потребленного трафика необходимо округлить вверх до целых чисел, т.к. такие правила действую у \"Мегалайн\":"
   ]
  },
  {
   "cell_type": "code",
   "execution_count": 18,
   "metadata": {},
   "outputs": [],
   "source": [
    "calls['duration'] = np.ceil(calls['duration'])\n",
    "internet['mb_used'] = np.ceil(internet['mb_used'])"
   ]
  },
  {
   "cell_type": "code",
   "execution_count": 19,
   "metadata": {},
   "outputs": [
    {
     "data": {
      "text/html": [
       "<div>\n",
       "<style scoped>\n",
       "    .dataframe tbody tr th:only-of-type {\n",
       "        vertical-align: middle;\n",
       "    }\n",
       "\n",
       "    .dataframe tbody tr th {\n",
       "        vertical-align: top;\n",
       "    }\n",
       "\n",
       "    .dataframe thead th {\n",
       "        text-align: right;\n",
       "    }\n",
       "</style>\n",
       "<table border=\"1\" class=\"dataframe\">\n",
       "  <thead>\n",
       "    <tr style=\"text-align: right;\">\n",
       "      <th></th>\n",
       "      <th>id</th>\n",
       "      <th>call_date</th>\n",
       "      <th>duration</th>\n",
       "      <th>user_id</th>\n",
       "    </tr>\n",
       "  </thead>\n",
       "  <tbody>\n",
       "    <tr>\n",
       "      <th>189206</th>\n",
       "      <td>1466_221</td>\n",
       "      <td>2018-12-26</td>\n",
       "      <td>4.0</td>\n",
       "      <td>1466</td>\n",
       "    </tr>\n",
       "    <tr>\n",
       "      <th>167527</th>\n",
       "      <td>1412_444</td>\n",
       "      <td>2018-11-01</td>\n",
       "      <td>3.0</td>\n",
       "      <td>1412</td>\n",
       "    </tr>\n",
       "    <tr>\n",
       "      <th>57239</th>\n",
       "      <td>1145_70</td>\n",
       "      <td>2018-11-14</td>\n",
       "      <td>8.0</td>\n",
       "      <td>1145</td>\n",
       "    </tr>\n",
       "    <tr>\n",
       "      <th>28640</th>\n",
       "      <td>1071_295</td>\n",
       "      <td>2018-08-06</td>\n",
       "      <td>4.0</td>\n",
       "      <td>1071</td>\n",
       "    </tr>\n",
       "    <tr>\n",
       "      <th>181896</th>\n",
       "      <td>1453_1088</td>\n",
       "      <td>2018-02-13</td>\n",
       "      <td>3.0</td>\n",
       "      <td>1453</td>\n",
       "    </tr>\n",
       "  </tbody>\n",
       "</table>\n",
       "</div>"
      ],
      "text/plain": [
       "               id  call_date  duration  user_id\n",
       "189206   1466_221 2018-12-26       4.0     1466\n",
       "167527   1412_444 2018-11-01       3.0     1412\n",
       "57239     1145_70 2018-11-14       8.0     1145\n",
       "28640    1071_295 2018-08-06       4.0     1071\n",
       "181896  1453_1088 2018-02-13       3.0     1453"
      ]
     },
     "execution_count": 19,
     "metadata": {},
     "output_type": "execute_result"
    }
   ],
   "source": [
    "calls.sample(5)"
   ]
  },
  {
   "cell_type": "code",
   "execution_count": 20,
   "metadata": {},
   "outputs": [
    {
     "data": {
      "text/html": [
       "<div>\n",
       "<style scoped>\n",
       "    .dataframe tbody tr th:only-of-type {\n",
       "        vertical-align: middle;\n",
       "    }\n",
       "\n",
       "    .dataframe tbody tr th {\n",
       "        vertical-align: top;\n",
       "    }\n",
       "\n",
       "    .dataframe thead th {\n",
       "        text-align: right;\n",
       "    }\n",
       "</style>\n",
       "<table border=\"1\" class=\"dataframe\">\n",
       "  <thead>\n",
       "    <tr style=\"text-align: right;\">\n",
       "      <th></th>\n",
       "      <th>id</th>\n",
       "      <th>mb_used</th>\n",
       "      <th>session_date</th>\n",
       "      <th>user_id</th>\n",
       "    </tr>\n",
       "  </thead>\n",
       "  <tbody>\n",
       "    <tr>\n",
       "      <th>137023</th>\n",
       "      <td>1459_103</td>\n",
       "      <td>0.0</td>\n",
       "      <td>2018-12-04</td>\n",
       "      <td>1459</td>\n",
       "    </tr>\n",
       "    <tr>\n",
       "      <th>61681</th>\n",
       "      <td>1209_203</td>\n",
       "      <td>467.0</td>\n",
       "      <td>2018-11-12</td>\n",
       "      <td>1209</td>\n",
       "    </tr>\n",
       "    <tr>\n",
       "      <th>70997</th>\n",
       "      <td>1240_665</td>\n",
       "      <td>482.0</td>\n",
       "      <td>2018-05-21</td>\n",
       "      <td>1240</td>\n",
       "    </tr>\n",
       "    <tr>\n",
       "      <th>119720</th>\n",
       "      <td>1403_275</td>\n",
       "      <td>249.0</td>\n",
       "      <td>2018-12-04</td>\n",
       "      <td>1403</td>\n",
       "    </tr>\n",
       "    <tr>\n",
       "      <th>138572</th>\n",
       "      <td>1465_137</td>\n",
       "      <td>448.0</td>\n",
       "      <td>2018-08-30</td>\n",
       "      <td>1465</td>\n",
       "    </tr>\n",
       "  </tbody>\n",
       "</table>\n",
       "</div>"
      ],
      "text/plain": [
       "              id  mb_used session_date  user_id\n",
       "137023  1459_103      0.0   2018-12-04     1459\n",
       "61681   1209_203    467.0   2018-11-12     1209\n",
       "70997   1240_665    482.0   2018-05-21     1240\n",
       "119720  1403_275    249.0   2018-12-04     1403\n",
       "138572  1465_137    448.0   2018-08-30     1465"
      ]
     },
     "execution_count": 20,
     "metadata": {},
     "output_type": "execute_result"
    }
   ],
   "source": [
    "internet.sample(5)"
   ]
  },
  {
   "cell_type": "markdown",
   "metadata": {},
   "source": [
    "#### Расчет новых показателей для анализа <a class=\"anchor\" id=\"subpoint2_3\"></a>"
   ]
  },
  {
   "cell_type": "markdown",
   "metadata": {},
   "source": [
    "Рассчитаем для каждого пользователя количество ***сделанных звонков и израсходованных минут*** разговора по месяцам:"
   ]
  },
  {
   "cell_type": "markdown",
   "metadata": {},
   "source": [
    "Добавим столбец с месяцем в таблицу:"
   ]
  },
  {
   "cell_type": "code",
   "execution_count": 21,
   "metadata": {},
   "outputs": [],
   "source": [
    "calls['month'] = calls['call_date'].dt.month"
   ]
  },
  {
   "cell_type": "code",
   "execution_count": 22,
   "metadata": {
    "scrolled": true
   },
   "outputs": [
    {
     "data": {
      "text/html": [
       "<div>\n",
       "<style scoped>\n",
       "    .dataframe tbody tr th:only-of-type {\n",
       "        vertical-align: middle;\n",
       "    }\n",
       "\n",
       "    .dataframe tbody tr th {\n",
       "        vertical-align: top;\n",
       "    }\n",
       "\n",
       "    .dataframe thead th {\n",
       "        text-align: right;\n",
       "    }\n",
       "</style>\n",
       "<table border=\"1\" class=\"dataframe\">\n",
       "  <thead>\n",
       "    <tr style=\"text-align: right;\">\n",
       "      <th></th>\n",
       "      <th>id</th>\n",
       "      <th>call_date</th>\n",
       "      <th>duration</th>\n",
       "      <th>user_id</th>\n",
       "      <th>month</th>\n",
       "    </tr>\n",
       "  </thead>\n",
       "  <tbody>\n",
       "    <tr>\n",
       "      <th>0</th>\n",
       "      <td>1000_0</td>\n",
       "      <td>2018-07-25</td>\n",
       "      <td>0.0</td>\n",
       "      <td>1000</td>\n",
       "      <td>7</td>\n",
       "    </tr>\n",
       "    <tr>\n",
       "      <th>1</th>\n",
       "      <td>1000_1</td>\n",
       "      <td>2018-08-17</td>\n",
       "      <td>0.0</td>\n",
       "      <td>1000</td>\n",
       "      <td>8</td>\n",
       "    </tr>\n",
       "    <tr>\n",
       "      <th>2</th>\n",
       "      <td>1000_2</td>\n",
       "      <td>2018-06-11</td>\n",
       "      <td>3.0</td>\n",
       "      <td>1000</td>\n",
       "      <td>6</td>\n",
       "    </tr>\n",
       "    <tr>\n",
       "      <th>3</th>\n",
       "      <td>1000_3</td>\n",
       "      <td>2018-09-21</td>\n",
       "      <td>14.0</td>\n",
       "      <td>1000</td>\n",
       "      <td>9</td>\n",
       "    </tr>\n",
       "    <tr>\n",
       "      <th>4</th>\n",
       "      <td>1000_4</td>\n",
       "      <td>2018-12-15</td>\n",
       "      <td>6.0</td>\n",
       "      <td>1000</td>\n",
       "      <td>12</td>\n",
       "    </tr>\n",
       "  </tbody>\n",
       "</table>\n",
       "</div>"
      ],
      "text/plain": [
       "       id  call_date  duration  user_id  month\n",
       "0  1000_0 2018-07-25       0.0     1000      7\n",
       "1  1000_1 2018-08-17       0.0     1000      8\n",
       "2  1000_2 2018-06-11       3.0     1000      6\n",
       "3  1000_3 2018-09-21      14.0     1000      9\n",
       "4  1000_4 2018-12-15       6.0     1000     12"
      ]
     },
     "execution_count": 22,
     "metadata": {},
     "output_type": "execute_result"
    }
   ],
   "source": [
    "calls.head()"
   ]
  },
  {
   "cell_type": "markdown",
   "metadata": {},
   "source": [
    "Сгруппируем по пользователю и месяцу"
   ]
  },
  {
   "cell_type": "code",
   "execution_count": 23,
   "metadata": {},
   "outputs": [],
   "source": [
    "calls_user = calls.pivot_table(index = ['user_id', 'month'], values = 'duration', aggfunc = ['sum', 'count']).reset_index()"
   ]
  },
  {
   "cell_type": "code",
   "execution_count": 24,
   "metadata": {},
   "outputs": [],
   "source": [
    "calls_user.columns = ['user_id', 'month', 'used_minutes', 'calls_qty']"
   ]
  },
  {
   "cell_type": "code",
   "execution_count": 25,
   "metadata": {
    "scrolled": true
   },
   "outputs": [
    {
     "data": {
      "text/html": [
       "<div>\n",
       "<style scoped>\n",
       "    .dataframe tbody tr th:only-of-type {\n",
       "        vertical-align: middle;\n",
       "    }\n",
       "\n",
       "    .dataframe tbody tr th {\n",
       "        vertical-align: top;\n",
       "    }\n",
       "\n",
       "    .dataframe thead th {\n",
       "        text-align: right;\n",
       "    }\n",
       "</style>\n",
       "<table border=\"1\" class=\"dataframe\">\n",
       "  <thead>\n",
       "    <tr style=\"text-align: right;\">\n",
       "      <th></th>\n",
       "      <th>user_id</th>\n",
       "      <th>month</th>\n",
       "      <th>used_minutes</th>\n",
       "      <th>calls_qty</th>\n",
       "    </tr>\n",
       "  </thead>\n",
       "  <tbody>\n",
       "    <tr>\n",
       "      <th>0</th>\n",
       "      <td>1000</td>\n",
       "      <td>5</td>\n",
       "      <td>159.0</td>\n",
       "      <td>22</td>\n",
       "    </tr>\n",
       "    <tr>\n",
       "      <th>1</th>\n",
       "      <td>1000</td>\n",
       "      <td>6</td>\n",
       "      <td>172.0</td>\n",
       "      <td>43</td>\n",
       "    </tr>\n",
       "    <tr>\n",
       "      <th>2</th>\n",
       "      <td>1000</td>\n",
       "      <td>7</td>\n",
       "      <td>340.0</td>\n",
       "      <td>47</td>\n",
       "    </tr>\n",
       "    <tr>\n",
       "      <th>3</th>\n",
       "      <td>1000</td>\n",
       "      <td>8</td>\n",
       "      <td>408.0</td>\n",
       "      <td>52</td>\n",
       "    </tr>\n",
       "    <tr>\n",
       "      <th>4</th>\n",
       "      <td>1000</td>\n",
       "      <td>9</td>\n",
       "      <td>466.0</td>\n",
       "      <td>58</td>\n",
       "    </tr>\n",
       "    <tr>\n",
       "      <th>...</th>\n",
       "      <td>...</td>\n",
       "      <td>...</td>\n",
       "      <td>...</td>\n",
       "      <td>...</td>\n",
       "    </tr>\n",
       "    <tr>\n",
       "      <th>3169</th>\n",
       "      <td>1498</td>\n",
       "      <td>10</td>\n",
       "      <td>247.0</td>\n",
       "      <td>41</td>\n",
       "    </tr>\n",
       "    <tr>\n",
       "      <th>3170</th>\n",
       "      <td>1499</td>\n",
       "      <td>9</td>\n",
       "      <td>70.0</td>\n",
       "      <td>9</td>\n",
       "    </tr>\n",
       "    <tr>\n",
       "      <th>3171</th>\n",
       "      <td>1499</td>\n",
       "      <td>10</td>\n",
       "      <td>449.0</td>\n",
       "      <td>68</td>\n",
       "    </tr>\n",
       "    <tr>\n",
       "      <th>3172</th>\n",
       "      <td>1499</td>\n",
       "      <td>11</td>\n",
       "      <td>612.0</td>\n",
       "      <td>74</td>\n",
       "    </tr>\n",
       "    <tr>\n",
       "      <th>3173</th>\n",
       "      <td>1499</td>\n",
       "      <td>12</td>\n",
       "      <td>492.0</td>\n",
       "      <td>69</td>\n",
       "    </tr>\n",
       "  </tbody>\n",
       "</table>\n",
       "<p>3174 rows × 4 columns</p>\n",
       "</div>"
      ],
      "text/plain": [
       "      user_id  month  used_minutes  calls_qty\n",
       "0        1000      5         159.0         22\n",
       "1        1000      6         172.0         43\n",
       "2        1000      7         340.0         47\n",
       "3        1000      8         408.0         52\n",
       "4        1000      9         466.0         58\n",
       "...       ...    ...           ...        ...\n",
       "3169     1498     10         247.0         41\n",
       "3170     1499      9          70.0          9\n",
       "3171     1499     10         449.0         68\n",
       "3172     1499     11         612.0         74\n",
       "3173     1499     12         492.0         69\n",
       "\n",
       "[3174 rows x 4 columns]"
      ]
     },
     "execution_count": 25,
     "metadata": {},
     "output_type": "execute_result"
    }
   ],
   "source": [
    "calls_user"
   ]
  },
  {
   "cell_type": "markdown",
   "metadata": {},
   "source": [
    "Рассчитаем для каждого пользователя количество ***отправленных сообщений*** по месяцам:"
   ]
  },
  {
   "cell_type": "markdown",
   "metadata": {},
   "source": [
    "Добавим столбец с месяцем в таблицу:"
   ]
  },
  {
   "cell_type": "code",
   "execution_count": 26,
   "metadata": {},
   "outputs": [],
   "source": [
    "messages['month'] = messages['message_date'].dt.month"
   ]
  },
  {
   "cell_type": "code",
   "execution_count": 27,
   "metadata": {
    "scrolled": true
   },
   "outputs": [
    {
     "data": {
      "text/html": [
       "<div>\n",
       "<style scoped>\n",
       "    .dataframe tbody tr th:only-of-type {\n",
       "        vertical-align: middle;\n",
       "    }\n",
       "\n",
       "    .dataframe tbody tr th {\n",
       "        vertical-align: top;\n",
       "    }\n",
       "\n",
       "    .dataframe thead th {\n",
       "        text-align: right;\n",
       "    }\n",
       "</style>\n",
       "<table border=\"1\" class=\"dataframe\">\n",
       "  <thead>\n",
       "    <tr style=\"text-align: right;\">\n",
       "      <th></th>\n",
       "      <th>id</th>\n",
       "      <th>message_date</th>\n",
       "      <th>user_id</th>\n",
       "      <th>month</th>\n",
       "    </tr>\n",
       "  </thead>\n",
       "  <tbody>\n",
       "    <tr>\n",
       "      <th>0</th>\n",
       "      <td>1000_0</td>\n",
       "      <td>2018-06-27</td>\n",
       "      <td>1000</td>\n",
       "      <td>6</td>\n",
       "    </tr>\n",
       "    <tr>\n",
       "      <th>1</th>\n",
       "      <td>1000_1</td>\n",
       "      <td>2018-10-08</td>\n",
       "      <td>1000</td>\n",
       "      <td>10</td>\n",
       "    </tr>\n",
       "    <tr>\n",
       "      <th>2</th>\n",
       "      <td>1000_2</td>\n",
       "      <td>2018-08-04</td>\n",
       "      <td>1000</td>\n",
       "      <td>8</td>\n",
       "    </tr>\n",
       "    <tr>\n",
       "      <th>3</th>\n",
       "      <td>1000_3</td>\n",
       "      <td>2018-06-16</td>\n",
       "      <td>1000</td>\n",
       "      <td>6</td>\n",
       "    </tr>\n",
       "    <tr>\n",
       "      <th>4</th>\n",
       "      <td>1000_4</td>\n",
       "      <td>2018-12-05</td>\n",
       "      <td>1000</td>\n",
       "      <td>12</td>\n",
       "    </tr>\n",
       "  </tbody>\n",
       "</table>\n",
       "</div>"
      ],
      "text/plain": [
       "       id message_date  user_id  month\n",
       "0  1000_0   2018-06-27     1000      6\n",
       "1  1000_1   2018-10-08     1000     10\n",
       "2  1000_2   2018-08-04     1000      8\n",
       "3  1000_3   2018-06-16     1000      6\n",
       "4  1000_4   2018-12-05     1000     12"
      ]
     },
     "execution_count": 27,
     "metadata": {},
     "output_type": "execute_result"
    }
   ],
   "source": [
    "messages.head()"
   ]
  },
  {
   "cell_type": "markdown",
   "metadata": {},
   "source": [
    "Сгруппируем по пользователю и месяцу"
   ]
  },
  {
   "cell_type": "code",
   "execution_count": 28,
   "metadata": {},
   "outputs": [],
   "source": [
    "messages_user = messages.pivot_table(index = ['user_id', 'month'], values = 'message_date', aggfunc = 'count').reset_index()"
   ]
  },
  {
   "cell_type": "code",
   "execution_count": 29,
   "metadata": {},
   "outputs": [],
   "source": [
    "messages_user.columns = ['user_id', 'month', 'sms_qty']"
   ]
  },
  {
   "cell_type": "code",
   "execution_count": 30,
   "metadata": {
    "scrolled": true
   },
   "outputs": [
    {
     "data": {
      "text/html": [
       "<div>\n",
       "<style scoped>\n",
       "    .dataframe tbody tr th:only-of-type {\n",
       "        vertical-align: middle;\n",
       "    }\n",
       "\n",
       "    .dataframe tbody tr th {\n",
       "        vertical-align: top;\n",
       "    }\n",
       "\n",
       "    .dataframe thead th {\n",
       "        text-align: right;\n",
       "    }\n",
       "</style>\n",
       "<table border=\"1\" class=\"dataframe\">\n",
       "  <thead>\n",
       "    <tr style=\"text-align: right;\">\n",
       "      <th></th>\n",
       "      <th>user_id</th>\n",
       "      <th>month</th>\n",
       "      <th>sms_qty</th>\n",
       "    </tr>\n",
       "  </thead>\n",
       "  <tbody>\n",
       "    <tr>\n",
       "      <th>0</th>\n",
       "      <td>1000</td>\n",
       "      <td>5</td>\n",
       "      <td>22</td>\n",
       "    </tr>\n",
       "    <tr>\n",
       "      <th>1</th>\n",
       "      <td>1000</td>\n",
       "      <td>6</td>\n",
       "      <td>60</td>\n",
       "    </tr>\n",
       "    <tr>\n",
       "      <th>2</th>\n",
       "      <td>1000</td>\n",
       "      <td>7</td>\n",
       "      <td>75</td>\n",
       "    </tr>\n",
       "    <tr>\n",
       "      <th>3</th>\n",
       "      <td>1000</td>\n",
       "      <td>8</td>\n",
       "      <td>81</td>\n",
       "    </tr>\n",
       "    <tr>\n",
       "      <th>4</th>\n",
       "      <td>1000</td>\n",
       "      <td>9</td>\n",
       "      <td>57</td>\n",
       "    </tr>\n",
       "    <tr>\n",
       "      <th>...</th>\n",
       "      <td>...</td>\n",
       "      <td>...</td>\n",
       "      <td>...</td>\n",
       "    </tr>\n",
       "    <tr>\n",
       "      <th>2712</th>\n",
       "      <td>1498</td>\n",
       "      <td>10</td>\n",
       "      <td>42</td>\n",
       "    </tr>\n",
       "    <tr>\n",
       "      <th>2713</th>\n",
       "      <td>1499</td>\n",
       "      <td>9</td>\n",
       "      <td>11</td>\n",
       "    </tr>\n",
       "    <tr>\n",
       "      <th>2714</th>\n",
       "      <td>1499</td>\n",
       "      <td>10</td>\n",
       "      <td>48</td>\n",
       "    </tr>\n",
       "    <tr>\n",
       "      <th>2715</th>\n",
       "      <td>1499</td>\n",
       "      <td>11</td>\n",
       "      <td>59</td>\n",
       "    </tr>\n",
       "    <tr>\n",
       "      <th>2716</th>\n",
       "      <td>1499</td>\n",
       "      <td>12</td>\n",
       "      <td>66</td>\n",
       "    </tr>\n",
       "  </tbody>\n",
       "</table>\n",
       "<p>2717 rows × 3 columns</p>\n",
       "</div>"
      ],
      "text/plain": [
       "      user_id  month  sms_qty\n",
       "0        1000      5       22\n",
       "1        1000      6       60\n",
       "2        1000      7       75\n",
       "3        1000      8       81\n",
       "4        1000      9       57\n",
       "...       ...    ...      ...\n",
       "2712     1498     10       42\n",
       "2713     1499      9       11\n",
       "2714     1499     10       48\n",
       "2715     1499     11       59\n",
       "2716     1499     12       66\n",
       "\n",
       "[2717 rows x 3 columns]"
      ]
     },
     "execution_count": 30,
     "metadata": {},
     "output_type": "execute_result"
    }
   ],
   "source": [
    "messages_user"
   ]
  },
  {
   "cell_type": "markdown",
   "metadata": {},
   "source": [
    "Рассчитаем для каждого пользователя ***объем израсходованного интернет-трафика*** по месяцам:"
   ]
  },
  {
   "cell_type": "markdown",
   "metadata": {},
   "source": [
    "Добавим столбец с месяцем в таблицу:"
   ]
  },
  {
   "cell_type": "code",
   "execution_count": 31,
   "metadata": {},
   "outputs": [],
   "source": [
    "internet['month'] = internet['session_date'].dt.month"
   ]
  },
  {
   "cell_type": "code",
   "execution_count": 32,
   "metadata": {
    "scrolled": true
   },
   "outputs": [
    {
     "data": {
      "text/html": [
       "<div>\n",
       "<style scoped>\n",
       "    .dataframe tbody tr th:only-of-type {\n",
       "        vertical-align: middle;\n",
       "    }\n",
       "\n",
       "    .dataframe tbody tr th {\n",
       "        vertical-align: top;\n",
       "    }\n",
       "\n",
       "    .dataframe thead th {\n",
       "        text-align: right;\n",
       "    }\n",
       "</style>\n",
       "<table border=\"1\" class=\"dataframe\">\n",
       "  <thead>\n",
       "    <tr style=\"text-align: right;\">\n",
       "      <th></th>\n",
       "      <th>id</th>\n",
       "      <th>mb_used</th>\n",
       "      <th>session_date</th>\n",
       "      <th>user_id</th>\n",
       "      <th>month</th>\n",
       "    </tr>\n",
       "  </thead>\n",
       "  <tbody>\n",
       "    <tr>\n",
       "      <th>0</th>\n",
       "      <td>1000_0</td>\n",
       "      <td>113.0</td>\n",
       "      <td>2018-11-25</td>\n",
       "      <td>1000</td>\n",
       "      <td>11</td>\n",
       "    </tr>\n",
       "    <tr>\n",
       "      <th>1</th>\n",
       "      <td>1000_1</td>\n",
       "      <td>1053.0</td>\n",
       "      <td>2018-09-07</td>\n",
       "      <td>1000</td>\n",
       "      <td>9</td>\n",
       "    </tr>\n",
       "    <tr>\n",
       "      <th>2</th>\n",
       "      <td>1000_2</td>\n",
       "      <td>1198.0</td>\n",
       "      <td>2018-06-25</td>\n",
       "      <td>1000</td>\n",
       "      <td>6</td>\n",
       "    </tr>\n",
       "    <tr>\n",
       "      <th>3</th>\n",
       "      <td>1000_3</td>\n",
       "      <td>551.0</td>\n",
       "      <td>2018-08-22</td>\n",
       "      <td>1000</td>\n",
       "      <td>8</td>\n",
       "    </tr>\n",
       "    <tr>\n",
       "      <th>4</th>\n",
       "      <td>1000_4</td>\n",
       "      <td>303.0</td>\n",
       "      <td>2018-09-24</td>\n",
       "      <td>1000</td>\n",
       "      <td>9</td>\n",
       "    </tr>\n",
       "  </tbody>\n",
       "</table>\n",
       "</div>"
      ],
      "text/plain": [
       "       id  mb_used session_date  user_id  month\n",
       "0  1000_0    113.0   2018-11-25     1000     11\n",
       "1  1000_1   1053.0   2018-09-07     1000      9\n",
       "2  1000_2   1198.0   2018-06-25     1000      6\n",
       "3  1000_3    551.0   2018-08-22     1000      8\n",
       "4  1000_4    303.0   2018-09-24     1000      9"
      ]
     },
     "execution_count": 32,
     "metadata": {},
     "output_type": "execute_result"
    }
   ],
   "source": [
    "internet.head()"
   ]
  },
  {
   "cell_type": "markdown",
   "metadata": {},
   "source": [
    "Сгруппируем по пользователю и месяцу"
   ]
  },
  {
   "cell_type": "code",
   "execution_count": 33,
   "metadata": {},
   "outputs": [],
   "source": [
    "internet_user = internet.pivot_table(index = ['user_id', 'month'], values = 'mb_used', aggfunc = 'sum').reset_index()"
   ]
  },
  {
   "cell_type": "code",
   "execution_count": 34,
   "metadata": {},
   "outputs": [],
   "source": [
    "internet_user.columns = ['user_id', 'month', 'used_mb']"
   ]
  },
  {
   "cell_type": "code",
   "execution_count": 35,
   "metadata": {
    "scrolled": true
   },
   "outputs": [
    {
     "data": {
      "text/html": [
       "<div>\n",
       "<style scoped>\n",
       "    .dataframe tbody tr th:only-of-type {\n",
       "        vertical-align: middle;\n",
       "    }\n",
       "\n",
       "    .dataframe tbody tr th {\n",
       "        vertical-align: top;\n",
       "    }\n",
       "\n",
       "    .dataframe thead th {\n",
       "        text-align: right;\n",
       "    }\n",
       "</style>\n",
       "<table border=\"1\" class=\"dataframe\">\n",
       "  <thead>\n",
       "    <tr style=\"text-align: right;\">\n",
       "      <th></th>\n",
       "      <th>user_id</th>\n",
       "      <th>month</th>\n",
       "      <th>used_mb</th>\n",
       "    </tr>\n",
       "  </thead>\n",
       "  <tbody>\n",
       "    <tr>\n",
       "      <th>0</th>\n",
       "      <td>1000</td>\n",
       "      <td>5</td>\n",
       "      <td>2256.0</td>\n",
       "    </tr>\n",
       "    <tr>\n",
       "      <th>1</th>\n",
       "      <td>1000</td>\n",
       "      <td>6</td>\n",
       "      <td>23257.0</td>\n",
       "    </tr>\n",
       "    <tr>\n",
       "      <th>2</th>\n",
       "      <td>1000</td>\n",
       "      <td>7</td>\n",
       "      <td>14016.0</td>\n",
       "    </tr>\n",
       "    <tr>\n",
       "      <th>3</th>\n",
       "      <td>1000</td>\n",
       "      <td>8</td>\n",
       "      <td>14070.0</td>\n",
       "    </tr>\n",
       "    <tr>\n",
       "      <th>4</th>\n",
       "      <td>1000</td>\n",
       "      <td>9</td>\n",
       "      <td>14581.0</td>\n",
       "    </tr>\n",
       "    <tr>\n",
       "      <th>...</th>\n",
       "      <td>...</td>\n",
       "      <td>...</td>\n",
       "      <td>...</td>\n",
       "    </tr>\n",
       "    <tr>\n",
       "      <th>3198</th>\n",
       "      <td>1498</td>\n",
       "      <td>10</td>\n",
       "      <td>20604.0</td>\n",
       "    </tr>\n",
       "    <tr>\n",
       "      <th>3199</th>\n",
       "      <td>1499</td>\n",
       "      <td>9</td>\n",
       "      <td>1848.0</td>\n",
       "    </tr>\n",
       "    <tr>\n",
       "      <th>3200</th>\n",
       "      <td>1499</td>\n",
       "      <td>10</td>\n",
       "      <td>17809.0</td>\n",
       "    </tr>\n",
       "    <tr>\n",
       "      <th>3201</th>\n",
       "      <td>1499</td>\n",
       "      <td>11</td>\n",
       "      <td>17984.0</td>\n",
       "    </tr>\n",
       "    <tr>\n",
       "      <th>3202</th>\n",
       "      <td>1499</td>\n",
       "      <td>12</td>\n",
       "      <td>13077.0</td>\n",
       "    </tr>\n",
       "  </tbody>\n",
       "</table>\n",
       "<p>3203 rows × 3 columns</p>\n",
       "</div>"
      ],
      "text/plain": [
       "      user_id  month  used_mb\n",
       "0        1000      5   2256.0\n",
       "1        1000      6  23257.0\n",
       "2        1000      7  14016.0\n",
       "3        1000      8  14070.0\n",
       "4        1000      9  14581.0\n",
       "...       ...    ...      ...\n",
       "3198     1498     10  20604.0\n",
       "3199     1499      9   1848.0\n",
       "3200     1499     10  17809.0\n",
       "3201     1499     11  17984.0\n",
       "3202     1499     12  13077.0\n",
       "\n",
       "[3203 rows x 3 columns]"
      ]
     },
     "execution_count": 35,
     "metadata": {},
     "output_type": "execute_result"
    }
   ],
   "source": [
    "internet_user"
   ]
  },
  {
   "cell_type": "markdown",
   "metadata": {},
   "source": [
    "Рассчитаем ***помесячную выручку с каждого пользователя***:"
   ]
  },
  {
   "cell_type": "markdown",
   "metadata": {},
   "source": [
    "Объединим все сгруппированные по пользователю и месяцу таблицы в одну:"
   ]
  },
  {
   "cell_type": "code",
   "execution_count": 36,
   "metadata": {},
   "outputs": [],
   "source": [
    "users_pivot = calls_user.merge(messages_user, on=['user_id', 'month'], how='outer')\n",
    "users_pivot = users_pivot.merge(internet_user, on=['user_id', 'month'], how='outer')"
   ]
  },
  {
   "cell_type": "code",
   "execution_count": 37,
   "metadata": {},
   "outputs": [
    {
     "data": {
      "text/html": [
       "<div>\n",
       "<style scoped>\n",
       "    .dataframe tbody tr th:only-of-type {\n",
       "        vertical-align: middle;\n",
       "    }\n",
       "\n",
       "    .dataframe tbody tr th {\n",
       "        vertical-align: top;\n",
       "    }\n",
       "\n",
       "    .dataframe thead th {\n",
       "        text-align: right;\n",
       "    }\n",
       "</style>\n",
       "<table border=\"1\" class=\"dataframe\">\n",
       "  <thead>\n",
       "    <tr style=\"text-align: right;\">\n",
       "      <th></th>\n",
       "      <th>user_id</th>\n",
       "      <th>month</th>\n",
       "      <th>used_minutes</th>\n",
       "      <th>calls_qty</th>\n",
       "      <th>sms_qty</th>\n",
       "      <th>used_mb</th>\n",
       "    </tr>\n",
       "  </thead>\n",
       "  <tbody>\n",
       "    <tr>\n",
       "      <th>0</th>\n",
       "      <td>1000</td>\n",
       "      <td>5</td>\n",
       "      <td>159.0</td>\n",
       "      <td>22.0</td>\n",
       "      <td>22.0</td>\n",
       "      <td>2256.0</td>\n",
       "    </tr>\n",
       "    <tr>\n",
       "      <th>1</th>\n",
       "      <td>1000</td>\n",
       "      <td>6</td>\n",
       "      <td>172.0</td>\n",
       "      <td>43.0</td>\n",
       "      <td>60.0</td>\n",
       "      <td>23257.0</td>\n",
       "    </tr>\n",
       "    <tr>\n",
       "      <th>2</th>\n",
       "      <td>1000</td>\n",
       "      <td>7</td>\n",
       "      <td>340.0</td>\n",
       "      <td>47.0</td>\n",
       "      <td>75.0</td>\n",
       "      <td>14016.0</td>\n",
       "    </tr>\n",
       "    <tr>\n",
       "      <th>3</th>\n",
       "      <td>1000</td>\n",
       "      <td>8</td>\n",
       "      <td>408.0</td>\n",
       "      <td>52.0</td>\n",
       "      <td>81.0</td>\n",
       "      <td>14070.0</td>\n",
       "    </tr>\n",
       "    <tr>\n",
       "      <th>4</th>\n",
       "      <td>1000</td>\n",
       "      <td>9</td>\n",
       "      <td>466.0</td>\n",
       "      <td>58.0</td>\n",
       "      <td>57.0</td>\n",
       "      <td>14581.0</td>\n",
       "    </tr>\n",
       "    <tr>\n",
       "      <th>...</th>\n",
       "      <td>...</td>\n",
       "      <td>...</td>\n",
       "      <td>...</td>\n",
       "      <td>...</td>\n",
       "      <td>...</td>\n",
       "      <td>...</td>\n",
       "    </tr>\n",
       "    <tr>\n",
       "      <th>3209</th>\n",
       "      <td>1489</td>\n",
       "      <td>9</td>\n",
       "      <td>NaN</td>\n",
       "      <td>NaN</td>\n",
       "      <td>32.0</td>\n",
       "      <td>17232.0</td>\n",
       "    </tr>\n",
       "    <tr>\n",
       "      <th>3210</th>\n",
       "      <td>1489</td>\n",
       "      <td>10</td>\n",
       "      <td>NaN</td>\n",
       "      <td>NaN</td>\n",
       "      <td>21.0</td>\n",
       "      <td>19588.0</td>\n",
       "    </tr>\n",
       "    <tr>\n",
       "      <th>3211</th>\n",
       "      <td>1489</td>\n",
       "      <td>11</td>\n",
       "      <td>NaN</td>\n",
       "      <td>NaN</td>\n",
       "      <td>20.0</td>\n",
       "      <td>17516.0</td>\n",
       "    </tr>\n",
       "    <tr>\n",
       "      <th>3212</th>\n",
       "      <td>1489</td>\n",
       "      <td>12</td>\n",
       "      <td>NaN</td>\n",
       "      <td>NaN</td>\n",
       "      <td>35.0</td>\n",
       "      <td>17341.0</td>\n",
       "    </tr>\n",
       "    <tr>\n",
       "      <th>3213</th>\n",
       "      <td>1476</td>\n",
       "      <td>4</td>\n",
       "      <td>NaN</td>\n",
       "      <td>NaN</td>\n",
       "      <td>NaN</td>\n",
       "      <td>531.0</td>\n",
       "    </tr>\n",
       "  </tbody>\n",
       "</table>\n",
       "<p>3214 rows × 6 columns</p>\n",
       "</div>"
      ],
      "text/plain": [
       "      user_id  month  used_minutes  calls_qty  sms_qty  used_mb\n",
       "0        1000      5         159.0       22.0     22.0   2256.0\n",
       "1        1000      6         172.0       43.0     60.0  23257.0\n",
       "2        1000      7         340.0       47.0     75.0  14016.0\n",
       "3        1000      8         408.0       52.0     81.0  14070.0\n",
       "4        1000      9         466.0       58.0     57.0  14581.0\n",
       "...       ...    ...           ...        ...      ...      ...\n",
       "3209     1489      9           NaN        NaN     32.0  17232.0\n",
       "3210     1489     10           NaN        NaN     21.0  19588.0\n",
       "3211     1489     11           NaN        NaN     20.0  17516.0\n",
       "3212     1489     12           NaN        NaN     35.0  17341.0\n",
       "3213     1476      4           NaN        NaN      NaN    531.0\n",
       "\n",
       "[3214 rows x 6 columns]"
      ]
     },
     "execution_count": 37,
     "metadata": {},
     "output_type": "execute_result"
    }
   ],
   "source": [
    "users_pivot"
   ]
  },
  {
   "cell_type": "markdown",
   "metadata": {},
   "source": [
    "Заменим пропущенные значения для клиентов, которые не пользовались звонками и/или смс, интернетом, на 0:"
   ]
  },
  {
   "cell_type": "code",
   "execution_count": 38,
   "metadata": {},
   "outputs": [],
   "source": [
    "users_pivot['used_minutes'] = users_pivot['used_minutes'].fillna(0)\n",
    "users_pivot['calls_qty'] = users_pivot['calls_qty'].fillna(0)\n",
    "users_pivot['sms_qty'] = users_pivot['sms_qty'].fillna(0)\n",
    "users_pivot['used_mb'] = users_pivot['used_mb'].fillna(0)"
   ]
  },
  {
   "cell_type": "code",
   "execution_count": 39,
   "metadata": {
    "scrolled": true
   },
   "outputs": [
    {
     "data": {
      "text/plain": [
       "user_id         0\n",
       "month           0\n",
       "used_minutes    0\n",
       "calls_qty       0\n",
       "sms_qty         0\n",
       "used_mb         0\n",
       "dtype: int64"
      ]
     },
     "execution_count": 39,
     "metadata": {},
     "output_type": "execute_result"
    }
   ],
   "source": [
    "users_pivot.isnull().sum()"
   ]
  },
  {
   "cell_type": "markdown",
   "metadata": {},
   "source": [
    "Добавим в таблицу информацию о пользователях из таблицы users:"
   ]
  },
  {
   "cell_type": "code",
   "execution_count": 40,
   "metadata": {},
   "outputs": [],
   "source": [
    "users_pivot = users_pivot.merge(users, on=['user_id'], how='left')"
   ]
  },
  {
   "cell_type": "code",
   "execution_count": 41,
   "metadata": {},
   "outputs": [
    {
     "data": {
      "text/html": [
       "<div>\n",
       "<style scoped>\n",
       "    .dataframe tbody tr th:only-of-type {\n",
       "        vertical-align: middle;\n",
       "    }\n",
       "\n",
       "    .dataframe tbody tr th {\n",
       "        vertical-align: top;\n",
       "    }\n",
       "\n",
       "    .dataframe thead th {\n",
       "        text-align: right;\n",
       "    }\n",
       "</style>\n",
       "<table border=\"1\" class=\"dataframe\">\n",
       "  <thead>\n",
       "    <tr style=\"text-align: right;\">\n",
       "      <th></th>\n",
       "      <th>user_id</th>\n",
       "      <th>month</th>\n",
       "      <th>used_minutes</th>\n",
       "      <th>calls_qty</th>\n",
       "      <th>sms_qty</th>\n",
       "      <th>used_mb</th>\n",
       "      <th>age</th>\n",
       "      <th>churn_date</th>\n",
       "      <th>city</th>\n",
       "      <th>first_name</th>\n",
       "      <th>last_name</th>\n",
       "      <th>reg_date</th>\n",
       "      <th>tariff</th>\n",
       "    </tr>\n",
       "  </thead>\n",
       "  <tbody>\n",
       "    <tr>\n",
       "      <th>0</th>\n",
       "      <td>1000</td>\n",
       "      <td>5</td>\n",
       "      <td>159.0</td>\n",
       "      <td>22.0</td>\n",
       "      <td>22.0</td>\n",
       "      <td>2256.0</td>\n",
       "      <td>52</td>\n",
       "      <td>NaT</td>\n",
       "      <td>Краснодар</td>\n",
       "      <td>Рафаил</td>\n",
       "      <td>Верещагин</td>\n",
       "      <td>2018-05-25</td>\n",
       "      <td>ultra</td>\n",
       "    </tr>\n",
       "    <tr>\n",
       "      <th>1</th>\n",
       "      <td>1000</td>\n",
       "      <td>6</td>\n",
       "      <td>172.0</td>\n",
       "      <td>43.0</td>\n",
       "      <td>60.0</td>\n",
       "      <td>23257.0</td>\n",
       "      <td>52</td>\n",
       "      <td>NaT</td>\n",
       "      <td>Краснодар</td>\n",
       "      <td>Рафаил</td>\n",
       "      <td>Верещагин</td>\n",
       "      <td>2018-05-25</td>\n",
       "      <td>ultra</td>\n",
       "    </tr>\n",
       "    <tr>\n",
       "      <th>2</th>\n",
       "      <td>1000</td>\n",
       "      <td>7</td>\n",
       "      <td>340.0</td>\n",
       "      <td>47.0</td>\n",
       "      <td>75.0</td>\n",
       "      <td>14016.0</td>\n",
       "      <td>52</td>\n",
       "      <td>NaT</td>\n",
       "      <td>Краснодар</td>\n",
       "      <td>Рафаил</td>\n",
       "      <td>Верещагин</td>\n",
       "      <td>2018-05-25</td>\n",
       "      <td>ultra</td>\n",
       "    </tr>\n",
       "    <tr>\n",
       "      <th>3</th>\n",
       "      <td>1000</td>\n",
       "      <td>8</td>\n",
       "      <td>408.0</td>\n",
       "      <td>52.0</td>\n",
       "      <td>81.0</td>\n",
       "      <td>14070.0</td>\n",
       "      <td>52</td>\n",
       "      <td>NaT</td>\n",
       "      <td>Краснодар</td>\n",
       "      <td>Рафаил</td>\n",
       "      <td>Верещагин</td>\n",
       "      <td>2018-05-25</td>\n",
       "      <td>ultra</td>\n",
       "    </tr>\n",
       "    <tr>\n",
       "      <th>4</th>\n",
       "      <td>1000</td>\n",
       "      <td>9</td>\n",
       "      <td>466.0</td>\n",
       "      <td>58.0</td>\n",
       "      <td>57.0</td>\n",
       "      <td>14581.0</td>\n",
       "      <td>52</td>\n",
       "      <td>NaT</td>\n",
       "      <td>Краснодар</td>\n",
       "      <td>Рафаил</td>\n",
       "      <td>Верещагин</td>\n",
       "      <td>2018-05-25</td>\n",
       "      <td>ultra</td>\n",
       "    </tr>\n",
       "    <tr>\n",
       "      <th>...</th>\n",
       "      <td>...</td>\n",
       "      <td>...</td>\n",
       "      <td>...</td>\n",
       "      <td>...</td>\n",
       "      <td>...</td>\n",
       "      <td>...</td>\n",
       "      <td>...</td>\n",
       "      <td>...</td>\n",
       "      <td>...</td>\n",
       "      <td>...</td>\n",
       "      <td>...</td>\n",
       "      <td>...</td>\n",
       "      <td>...</td>\n",
       "    </tr>\n",
       "    <tr>\n",
       "      <th>3209</th>\n",
       "      <td>1489</td>\n",
       "      <td>9</td>\n",
       "      <td>0.0</td>\n",
       "      <td>0.0</td>\n",
       "      <td>32.0</td>\n",
       "      <td>17232.0</td>\n",
       "      <td>35</td>\n",
       "      <td>NaT</td>\n",
       "      <td>Санкт-Петербург</td>\n",
       "      <td>Павел</td>\n",
       "      <td>Гончаров</td>\n",
       "      <td>2018-08-15</td>\n",
       "      <td>smart</td>\n",
       "    </tr>\n",
       "    <tr>\n",
       "      <th>3210</th>\n",
       "      <td>1489</td>\n",
       "      <td>10</td>\n",
       "      <td>0.0</td>\n",
       "      <td>0.0</td>\n",
       "      <td>21.0</td>\n",
       "      <td>19588.0</td>\n",
       "      <td>35</td>\n",
       "      <td>NaT</td>\n",
       "      <td>Санкт-Петербург</td>\n",
       "      <td>Павел</td>\n",
       "      <td>Гончаров</td>\n",
       "      <td>2018-08-15</td>\n",
       "      <td>smart</td>\n",
       "    </tr>\n",
       "    <tr>\n",
       "      <th>3211</th>\n",
       "      <td>1489</td>\n",
       "      <td>11</td>\n",
       "      <td>0.0</td>\n",
       "      <td>0.0</td>\n",
       "      <td>20.0</td>\n",
       "      <td>17516.0</td>\n",
       "      <td>35</td>\n",
       "      <td>NaT</td>\n",
       "      <td>Санкт-Петербург</td>\n",
       "      <td>Павел</td>\n",
       "      <td>Гончаров</td>\n",
       "      <td>2018-08-15</td>\n",
       "      <td>smart</td>\n",
       "    </tr>\n",
       "    <tr>\n",
       "      <th>3212</th>\n",
       "      <td>1489</td>\n",
       "      <td>12</td>\n",
       "      <td>0.0</td>\n",
       "      <td>0.0</td>\n",
       "      <td>35.0</td>\n",
       "      <td>17341.0</td>\n",
       "      <td>35</td>\n",
       "      <td>NaT</td>\n",
       "      <td>Санкт-Петербург</td>\n",
       "      <td>Павел</td>\n",
       "      <td>Гончаров</td>\n",
       "      <td>2018-08-15</td>\n",
       "      <td>smart</td>\n",
       "    </tr>\n",
       "    <tr>\n",
       "      <th>3213</th>\n",
       "      <td>1476</td>\n",
       "      <td>4</td>\n",
       "      <td>0.0</td>\n",
       "      <td>0.0</td>\n",
       "      <td>0.0</td>\n",
       "      <td>531.0</td>\n",
       "      <td>50</td>\n",
       "      <td>NaT</td>\n",
       "      <td>Москва</td>\n",
       "      <td>Валентина</td>\n",
       "      <td>Семенова</td>\n",
       "      <td>2018-04-30</td>\n",
       "      <td>ultra</td>\n",
       "    </tr>\n",
       "  </tbody>\n",
       "</table>\n",
       "<p>3214 rows × 13 columns</p>\n",
       "</div>"
      ],
      "text/plain": [
       "      user_id  month  used_minutes  calls_qty  sms_qty  used_mb  age  \\\n",
       "0        1000      5         159.0       22.0     22.0   2256.0   52   \n",
       "1        1000      6         172.0       43.0     60.0  23257.0   52   \n",
       "2        1000      7         340.0       47.0     75.0  14016.0   52   \n",
       "3        1000      8         408.0       52.0     81.0  14070.0   52   \n",
       "4        1000      9         466.0       58.0     57.0  14581.0   52   \n",
       "...       ...    ...           ...        ...      ...      ...  ...   \n",
       "3209     1489      9           0.0        0.0     32.0  17232.0   35   \n",
       "3210     1489     10           0.0        0.0     21.0  19588.0   35   \n",
       "3211     1489     11           0.0        0.0     20.0  17516.0   35   \n",
       "3212     1489     12           0.0        0.0     35.0  17341.0   35   \n",
       "3213     1476      4           0.0        0.0      0.0    531.0   50   \n",
       "\n",
       "     churn_date             city first_name  last_name   reg_date tariff  \n",
       "0           NaT        Краснодар     Рафаил  Верещагин 2018-05-25  ultra  \n",
       "1           NaT        Краснодар     Рафаил  Верещагин 2018-05-25  ultra  \n",
       "2           NaT        Краснодар     Рафаил  Верещагин 2018-05-25  ultra  \n",
       "3           NaT        Краснодар     Рафаил  Верещагин 2018-05-25  ultra  \n",
       "4           NaT        Краснодар     Рафаил  Верещагин 2018-05-25  ultra  \n",
       "...         ...              ...        ...        ...        ...    ...  \n",
       "3209        NaT  Санкт-Петербург      Павел   Гончаров 2018-08-15  smart  \n",
       "3210        NaT  Санкт-Петербург      Павел   Гончаров 2018-08-15  smart  \n",
       "3211        NaT  Санкт-Петербург      Павел   Гончаров 2018-08-15  smart  \n",
       "3212        NaT  Санкт-Петербург      Павел   Гончаров 2018-08-15  smart  \n",
       "3213        NaT           Москва  Валентина   Семенова 2018-04-30  ultra  \n",
       "\n",
       "[3214 rows x 13 columns]"
      ]
     },
     "execution_count": 41,
     "metadata": {},
     "output_type": "execute_result"
    }
   ],
   "source": [
    "users_pivot"
   ]
  },
  {
   "cell_type": "markdown",
   "metadata": {},
   "source": [
    "Удалим столбцы с именем и фамилией пользователя. Для дальнейшего анализа эта информация не нужна."
   ]
  },
  {
   "cell_type": "code",
   "execution_count": 42,
   "metadata": {},
   "outputs": [],
   "source": [
    "del users_pivot['first_name']\n",
    "del users_pivot['last_name']"
   ]
  },
  {
   "cell_type": "markdown",
   "metadata": {},
   "source": [
    "Для расчета выручки с каждого пользователя добавим в таблицу данные о тарифе из таблицы tariffs:"
   ]
  },
  {
   "cell_type": "code",
   "execution_count": 43,
   "metadata": {},
   "outputs": [],
   "source": [
    "users_pivot.columns = ['tariff_name' if x=='tariff' else x for x in users_pivot.columns]\n",
    "users_pivot = users_pivot.merge(tariffs, on=['tariff_name'], how='left')"
   ]
  },
  {
   "cell_type": "code",
   "execution_count": 44,
   "metadata": {},
   "outputs": [
    {
     "data": {
      "text/html": [
       "<div>\n",
       "<style scoped>\n",
       "    .dataframe tbody tr th:only-of-type {\n",
       "        vertical-align: middle;\n",
       "    }\n",
       "\n",
       "    .dataframe tbody tr th {\n",
       "        vertical-align: top;\n",
       "    }\n",
       "\n",
       "    .dataframe thead th {\n",
       "        text-align: right;\n",
       "    }\n",
       "</style>\n",
       "<table border=\"1\" class=\"dataframe\">\n",
       "  <thead>\n",
       "    <tr style=\"text-align: right;\">\n",
       "      <th></th>\n",
       "      <th>user_id</th>\n",
       "      <th>month</th>\n",
       "      <th>used_minutes</th>\n",
       "      <th>calls_qty</th>\n",
       "      <th>sms_qty</th>\n",
       "      <th>used_mb</th>\n",
       "      <th>age</th>\n",
       "      <th>churn_date</th>\n",
       "      <th>city</th>\n",
       "      <th>reg_date</th>\n",
       "      <th>tariff_name</th>\n",
       "      <th>messages_included</th>\n",
       "      <th>mb_per_month_included</th>\n",
       "      <th>minutes_included</th>\n",
       "      <th>rub_monthly_fee</th>\n",
       "      <th>rub_per_gb</th>\n",
       "      <th>rub_per_message</th>\n",
       "      <th>rub_per_minute</th>\n",
       "    </tr>\n",
       "  </thead>\n",
       "  <tbody>\n",
       "    <tr>\n",
       "      <th>0</th>\n",
       "      <td>1000</td>\n",
       "      <td>5</td>\n",
       "      <td>159.0</td>\n",
       "      <td>22.0</td>\n",
       "      <td>22.0</td>\n",
       "      <td>2256.0</td>\n",
       "      <td>52</td>\n",
       "      <td>NaT</td>\n",
       "      <td>Краснодар</td>\n",
       "      <td>2018-05-25</td>\n",
       "      <td>ultra</td>\n",
       "      <td>1000</td>\n",
       "      <td>30720</td>\n",
       "      <td>3000</td>\n",
       "      <td>1950</td>\n",
       "      <td>150</td>\n",
       "      <td>1</td>\n",
       "      <td>1</td>\n",
       "    </tr>\n",
       "    <tr>\n",
       "      <th>1</th>\n",
       "      <td>1000</td>\n",
       "      <td>6</td>\n",
       "      <td>172.0</td>\n",
       "      <td>43.0</td>\n",
       "      <td>60.0</td>\n",
       "      <td>23257.0</td>\n",
       "      <td>52</td>\n",
       "      <td>NaT</td>\n",
       "      <td>Краснодар</td>\n",
       "      <td>2018-05-25</td>\n",
       "      <td>ultra</td>\n",
       "      <td>1000</td>\n",
       "      <td>30720</td>\n",
       "      <td>3000</td>\n",
       "      <td>1950</td>\n",
       "      <td>150</td>\n",
       "      <td>1</td>\n",
       "      <td>1</td>\n",
       "    </tr>\n",
       "    <tr>\n",
       "      <th>2</th>\n",
       "      <td>1000</td>\n",
       "      <td>7</td>\n",
       "      <td>340.0</td>\n",
       "      <td>47.0</td>\n",
       "      <td>75.0</td>\n",
       "      <td>14016.0</td>\n",
       "      <td>52</td>\n",
       "      <td>NaT</td>\n",
       "      <td>Краснодар</td>\n",
       "      <td>2018-05-25</td>\n",
       "      <td>ultra</td>\n",
       "      <td>1000</td>\n",
       "      <td>30720</td>\n",
       "      <td>3000</td>\n",
       "      <td>1950</td>\n",
       "      <td>150</td>\n",
       "      <td>1</td>\n",
       "      <td>1</td>\n",
       "    </tr>\n",
       "    <tr>\n",
       "      <th>3</th>\n",
       "      <td>1000</td>\n",
       "      <td>8</td>\n",
       "      <td>408.0</td>\n",
       "      <td>52.0</td>\n",
       "      <td>81.0</td>\n",
       "      <td>14070.0</td>\n",
       "      <td>52</td>\n",
       "      <td>NaT</td>\n",
       "      <td>Краснодар</td>\n",
       "      <td>2018-05-25</td>\n",
       "      <td>ultra</td>\n",
       "      <td>1000</td>\n",
       "      <td>30720</td>\n",
       "      <td>3000</td>\n",
       "      <td>1950</td>\n",
       "      <td>150</td>\n",
       "      <td>1</td>\n",
       "      <td>1</td>\n",
       "    </tr>\n",
       "    <tr>\n",
       "      <th>4</th>\n",
       "      <td>1000</td>\n",
       "      <td>9</td>\n",
       "      <td>466.0</td>\n",
       "      <td>58.0</td>\n",
       "      <td>57.0</td>\n",
       "      <td>14581.0</td>\n",
       "      <td>52</td>\n",
       "      <td>NaT</td>\n",
       "      <td>Краснодар</td>\n",
       "      <td>2018-05-25</td>\n",
       "      <td>ultra</td>\n",
       "      <td>1000</td>\n",
       "      <td>30720</td>\n",
       "      <td>3000</td>\n",
       "      <td>1950</td>\n",
       "      <td>150</td>\n",
       "      <td>1</td>\n",
       "      <td>1</td>\n",
       "    </tr>\n",
       "  </tbody>\n",
       "</table>\n",
       "</div>"
      ],
      "text/plain": [
       "   user_id  month  used_minutes  calls_qty  sms_qty  used_mb  age churn_date  \\\n",
       "0     1000      5         159.0       22.0     22.0   2256.0   52        NaT   \n",
       "1     1000      6         172.0       43.0     60.0  23257.0   52        NaT   \n",
       "2     1000      7         340.0       47.0     75.0  14016.0   52        NaT   \n",
       "3     1000      8         408.0       52.0     81.0  14070.0   52        NaT   \n",
       "4     1000      9         466.0       58.0     57.0  14581.0   52        NaT   \n",
       "\n",
       "        city   reg_date tariff_name  messages_included  mb_per_month_included  \\\n",
       "0  Краснодар 2018-05-25       ultra               1000                  30720   \n",
       "1  Краснодар 2018-05-25       ultra               1000                  30720   \n",
       "2  Краснодар 2018-05-25       ultra               1000                  30720   \n",
       "3  Краснодар 2018-05-25       ultra               1000                  30720   \n",
       "4  Краснодар 2018-05-25       ultra               1000                  30720   \n",
       "\n",
       "   minutes_included  rub_monthly_fee  rub_per_gb  rub_per_message  \\\n",
       "0              3000             1950         150                1   \n",
       "1              3000             1950         150                1   \n",
       "2              3000             1950         150                1   \n",
       "3              3000             1950         150                1   \n",
       "4              3000             1950         150                1   \n",
       "\n",
       "   rub_per_minute  \n",
       "0               1  \n",
       "1               1  \n",
       "2               1  \n",
       "3               1  \n",
       "4               1  "
      ]
     },
     "execution_count": 44,
     "metadata": {},
     "output_type": "execute_result"
    }
   ],
   "source": [
    "users_pivot.head(5)"
   ]
  },
  {
   "cell_type": "markdown",
   "metadata": {},
   "source": [
    "Вычислим помесячную выручку с каждого пользователя.  \n",
    "Сперва найдем ***выручку от превышения предоставленных тарифом объемов***: вычтем бесплатный лимит из суммарного количества звонков, сообщений и интернет-трафика; остаток умножим на значение из тарифного плана.  \n",
    "Для получения итоговой ***помесячной выручки с каждого пользователя*** прибавим абонентскую плату, соответствующую тарифному плану, к выручке от превышения предоставленных тарифом объемов.  \n",
    "\n",
    "Рассчитанные значения сохраним в новых столбцах."
   ]
  },
  {
   "cell_type": "code",
   "execution_count": 45,
   "metadata": {},
   "outputs": [],
   "source": [
    "def above_tariff(row):\n",
    "    minutes = 0\n",
    "    sms = 0\n",
    "    mb = 0\n",
    "    if row['used_minutes'] > row['minutes_included']:\n",
    "        minutes += (row['used_minutes'] - row['minutes_included'])*row['rub_per_minute']\n",
    "    if row['sms_qty'] > row['messages_included']:\n",
    "        sms += (row['sms_qty'] - row['messages_included'])*row['rub_per_message']\n",
    "    if row['used_mb'] > row['mb_per_month_included']:\n",
    "        mb += (row['used_mb'] - row['mb_per_month_included'])*(row['rub_per_gb']/1024)\n",
    "    above_tariff_profit = minutes + sms + mb\n",
    "    return above_tariff_profit"
   ]
  },
  {
   "cell_type": "code",
   "execution_count": 46,
   "metadata": {},
   "outputs": [],
   "source": [
    "users_pivot['above_tariff_profit'] = users_pivot.apply(above_tariff, axis=1)"
   ]
  },
  {
   "cell_type": "code",
   "execution_count": 47,
   "metadata": {
    "scrolled": false
   },
   "outputs": [
    {
     "data": {
      "text/html": [
       "<div>\n",
       "<style scoped>\n",
       "    .dataframe tbody tr th:only-of-type {\n",
       "        vertical-align: middle;\n",
       "    }\n",
       "\n",
       "    .dataframe tbody tr th {\n",
       "        vertical-align: top;\n",
       "    }\n",
       "\n",
       "    .dataframe thead th {\n",
       "        text-align: right;\n",
       "    }\n",
       "</style>\n",
       "<table border=\"1\" class=\"dataframe\">\n",
       "  <thead>\n",
       "    <tr style=\"text-align: right;\">\n",
       "      <th></th>\n",
       "      <th>user_id</th>\n",
       "      <th>month</th>\n",
       "      <th>used_minutes</th>\n",
       "      <th>calls_qty</th>\n",
       "      <th>sms_qty</th>\n",
       "      <th>used_mb</th>\n",
       "      <th>age</th>\n",
       "      <th>churn_date</th>\n",
       "      <th>city</th>\n",
       "      <th>reg_date</th>\n",
       "      <th>tariff_name</th>\n",
       "      <th>messages_included</th>\n",
       "      <th>mb_per_month_included</th>\n",
       "      <th>minutes_included</th>\n",
       "      <th>rub_monthly_fee</th>\n",
       "      <th>rub_per_gb</th>\n",
       "      <th>rub_per_message</th>\n",
       "      <th>rub_per_minute</th>\n",
       "      <th>above_tariff_profit</th>\n",
       "    </tr>\n",
       "  </thead>\n",
       "  <tbody>\n",
       "    <tr>\n",
       "      <th>2643</th>\n",
       "      <td>1416</td>\n",
       "      <td>11</td>\n",
       "      <td>861.0</td>\n",
       "      <td>131.0</td>\n",
       "      <td>89.0</td>\n",
       "      <td>19383.0</td>\n",
       "      <td>50</td>\n",
       "      <td>2018-12-14</td>\n",
       "      <td>Санкт-Петербург</td>\n",
       "      <td>2018-07-16</td>\n",
       "      <td>ultra</td>\n",
       "      <td>1000</td>\n",
       "      <td>30720</td>\n",
       "      <td>3000</td>\n",
       "      <td>1950</td>\n",
       "      <td>150</td>\n",
       "      <td>1</td>\n",
       "      <td>1</td>\n",
       "      <td>0.00000</td>\n",
       "    </tr>\n",
       "    <tr>\n",
       "      <th>2226</th>\n",
       "      <td>1357</td>\n",
       "      <td>12</td>\n",
       "      <td>321.0</td>\n",
       "      <td>42.0</td>\n",
       "      <td>33.0</td>\n",
       "      <td>17968.0</td>\n",
       "      <td>37</td>\n",
       "      <td>NaT</td>\n",
       "      <td>Томск</td>\n",
       "      <td>2018-09-02</td>\n",
       "      <td>smart</td>\n",
       "      <td>50</td>\n",
       "      <td>15360</td>\n",
       "      <td>500</td>\n",
       "      <td>550</td>\n",
       "      <td>200</td>\n",
       "      <td>3</td>\n",
       "      <td>3</td>\n",
       "      <td>509.37500</td>\n",
       "    </tr>\n",
       "    <tr>\n",
       "      <th>253</th>\n",
       "      <td>1040</td>\n",
       "      <td>9</td>\n",
       "      <td>254.0</td>\n",
       "      <td>30.0</td>\n",
       "      <td>0.0</td>\n",
       "      <td>16284.0</td>\n",
       "      <td>23</td>\n",
       "      <td>NaT</td>\n",
       "      <td>Сочи</td>\n",
       "      <td>2018-06-08</td>\n",
       "      <td>smart</td>\n",
       "      <td>50</td>\n",
       "      <td>15360</td>\n",
       "      <td>500</td>\n",
       "      <td>550</td>\n",
       "      <td>200</td>\n",
       "      <td>3</td>\n",
       "      <td>3</td>\n",
       "      <td>180.46875</td>\n",
       "    </tr>\n",
       "    <tr>\n",
       "      <th>2082</th>\n",
       "      <td>1332</td>\n",
       "      <td>7</td>\n",
       "      <td>497.0</td>\n",
       "      <td>58.0</td>\n",
       "      <td>35.0</td>\n",
       "      <td>18936.0</td>\n",
       "      <td>23</td>\n",
       "      <td>NaT</td>\n",
       "      <td>Москва</td>\n",
       "      <td>2018-05-28</td>\n",
       "      <td>smart</td>\n",
       "      <td>50</td>\n",
       "      <td>15360</td>\n",
       "      <td>500</td>\n",
       "      <td>550</td>\n",
       "      <td>200</td>\n",
       "      <td>3</td>\n",
       "      <td>3</td>\n",
       "      <td>698.43750</td>\n",
       "    </tr>\n",
       "    <tr>\n",
       "      <th>1937</th>\n",
       "      <td>1309</td>\n",
       "      <td>12</td>\n",
       "      <td>563.0</td>\n",
       "      <td>80.0</td>\n",
       "      <td>97.0</td>\n",
       "      <td>26889.0</td>\n",
       "      <td>28</td>\n",
       "      <td>NaT</td>\n",
       "      <td>Казань</td>\n",
       "      <td>2018-10-05</td>\n",
       "      <td>ultra</td>\n",
       "      <td>1000</td>\n",
       "      <td>30720</td>\n",
       "      <td>3000</td>\n",
       "      <td>1950</td>\n",
       "      <td>150</td>\n",
       "      <td>1</td>\n",
       "      <td>1</td>\n",
       "      <td>0.00000</td>\n",
       "    </tr>\n",
       "  </tbody>\n",
       "</table>\n",
       "</div>"
      ],
      "text/plain": [
       "      user_id  month  used_minutes  calls_qty  sms_qty  used_mb  age  \\\n",
       "2643     1416     11         861.0      131.0     89.0  19383.0   50   \n",
       "2226     1357     12         321.0       42.0     33.0  17968.0   37   \n",
       "253      1040      9         254.0       30.0      0.0  16284.0   23   \n",
       "2082     1332      7         497.0       58.0     35.0  18936.0   23   \n",
       "1937     1309     12         563.0       80.0     97.0  26889.0   28   \n",
       "\n",
       "     churn_date             city   reg_date tariff_name  messages_included  \\\n",
       "2643 2018-12-14  Санкт-Петербург 2018-07-16       ultra               1000   \n",
       "2226        NaT            Томск 2018-09-02       smart                 50   \n",
       "253         NaT             Сочи 2018-06-08       smart                 50   \n",
       "2082        NaT           Москва 2018-05-28       smart                 50   \n",
       "1937        NaT           Казань 2018-10-05       ultra               1000   \n",
       "\n",
       "      mb_per_month_included  minutes_included  rub_monthly_fee  rub_per_gb  \\\n",
       "2643                  30720              3000             1950         150   \n",
       "2226                  15360               500              550         200   \n",
       "253                   15360               500              550         200   \n",
       "2082                  15360               500              550         200   \n",
       "1937                  30720              3000             1950         150   \n",
       "\n",
       "      rub_per_message  rub_per_minute  above_tariff_profit  \n",
       "2643                1               1              0.00000  \n",
       "2226                3               3            509.37500  \n",
       "253                 3               3            180.46875  \n",
       "2082                3               3            698.43750  \n",
       "1937                1               1              0.00000  "
      ]
     },
     "execution_count": 47,
     "metadata": {},
     "output_type": "execute_result"
    }
   ],
   "source": [
    "users_pivot.sample(5)"
   ]
  },
  {
   "cell_type": "code",
   "execution_count": 48,
   "metadata": {},
   "outputs": [],
   "source": [
    "users_pivot['user_profit'] = users_pivot['rub_monthly_fee'] + users_pivot['above_tariff_profit']"
   ]
  },
  {
   "cell_type": "code",
   "execution_count": 49,
   "metadata": {},
   "outputs": [
    {
     "data": {
      "text/html": [
       "<div>\n",
       "<style scoped>\n",
       "    .dataframe tbody tr th:only-of-type {\n",
       "        vertical-align: middle;\n",
       "    }\n",
       "\n",
       "    .dataframe tbody tr th {\n",
       "        vertical-align: top;\n",
       "    }\n",
       "\n",
       "    .dataframe thead th {\n",
       "        text-align: right;\n",
       "    }\n",
       "</style>\n",
       "<table border=\"1\" class=\"dataframe\">\n",
       "  <thead>\n",
       "    <tr style=\"text-align: right;\">\n",
       "      <th></th>\n",
       "      <th>user_id</th>\n",
       "      <th>month</th>\n",
       "      <th>used_minutes</th>\n",
       "      <th>calls_qty</th>\n",
       "      <th>sms_qty</th>\n",
       "      <th>used_mb</th>\n",
       "      <th>age</th>\n",
       "      <th>churn_date</th>\n",
       "      <th>city</th>\n",
       "      <th>reg_date</th>\n",
       "      <th>tariff_name</th>\n",
       "      <th>messages_included</th>\n",
       "      <th>mb_per_month_included</th>\n",
       "      <th>minutes_included</th>\n",
       "      <th>rub_monthly_fee</th>\n",
       "      <th>rub_per_gb</th>\n",
       "      <th>rub_per_message</th>\n",
       "      <th>rub_per_minute</th>\n",
       "      <th>above_tariff_profit</th>\n",
       "      <th>user_profit</th>\n",
       "    </tr>\n",
       "  </thead>\n",
       "  <tbody>\n",
       "    <tr>\n",
       "      <th>999</th>\n",
       "      <td>1159</td>\n",
       "      <td>11</td>\n",
       "      <td>85.0</td>\n",
       "      <td>10.0</td>\n",
       "      <td>0.0</td>\n",
       "      <td>2843.0</td>\n",
       "      <td>64</td>\n",
       "      <td>NaT</td>\n",
       "      <td>Красноярск</td>\n",
       "      <td>2018-11-28</td>\n",
       "      <td>smart</td>\n",
       "      <td>50</td>\n",
       "      <td>15360</td>\n",
       "      <td>500</td>\n",
       "      <td>550</td>\n",
       "      <td>200</td>\n",
       "      <td>3</td>\n",
       "      <td>3</td>\n",
       "      <td>0.000000</td>\n",
       "      <td>550.000000</td>\n",
       "    </tr>\n",
       "    <tr>\n",
       "      <th>2484</th>\n",
       "      <td>1393</td>\n",
       "      <td>7</td>\n",
       "      <td>560.0</td>\n",
       "      <td>86.0</td>\n",
       "      <td>56.0</td>\n",
       "      <td>17356.0</td>\n",
       "      <td>56</td>\n",
       "      <td>NaT</td>\n",
       "      <td>Краснодар</td>\n",
       "      <td>2018-02-17</td>\n",
       "      <td>smart</td>\n",
       "      <td>50</td>\n",
       "      <td>15360</td>\n",
       "      <td>500</td>\n",
       "      <td>550</td>\n",
       "      <td>200</td>\n",
       "      <td>3</td>\n",
       "      <td>3</td>\n",
       "      <td>587.843750</td>\n",
       "      <td>1137.843750</td>\n",
       "    </tr>\n",
       "    <tr>\n",
       "      <th>1090</th>\n",
       "      <td>1174</td>\n",
       "      <td>9</td>\n",
       "      <td>612.0</td>\n",
       "      <td>82.0</td>\n",
       "      <td>57.0</td>\n",
       "      <td>11973.0</td>\n",
       "      <td>29</td>\n",
       "      <td>NaT</td>\n",
       "      <td>Санкт-Петербург</td>\n",
       "      <td>2018-02-17</td>\n",
       "      <td>smart</td>\n",
       "      <td>50</td>\n",
       "      <td>15360</td>\n",
       "      <td>500</td>\n",
       "      <td>550</td>\n",
       "      <td>200</td>\n",
       "      <td>3</td>\n",
       "      <td>3</td>\n",
       "      <td>357.000000</td>\n",
       "      <td>907.000000</td>\n",
       "    </tr>\n",
       "    <tr>\n",
       "      <th>1512</th>\n",
       "      <td>1242</td>\n",
       "      <td>11</td>\n",
       "      <td>192.0</td>\n",
       "      <td>28.0</td>\n",
       "      <td>0.0</td>\n",
       "      <td>4935.0</td>\n",
       "      <td>39</td>\n",
       "      <td>2018-12-21</td>\n",
       "      <td>Хабаровск</td>\n",
       "      <td>2018-11-18</td>\n",
       "      <td>smart</td>\n",
       "      <td>50</td>\n",
       "      <td>15360</td>\n",
       "      <td>500</td>\n",
       "      <td>550</td>\n",
       "      <td>200</td>\n",
       "      <td>3</td>\n",
       "      <td>3</td>\n",
       "      <td>0.000000</td>\n",
       "      <td>550.000000</td>\n",
       "    </tr>\n",
       "    <tr>\n",
       "      <th>395</th>\n",
       "      <td>1063</td>\n",
       "      <td>7</td>\n",
       "      <td>852.0</td>\n",
       "      <td>100.0</td>\n",
       "      <td>0.0</td>\n",
       "      <td>20288.0</td>\n",
       "      <td>45</td>\n",
       "      <td>2018-12-11</td>\n",
       "      <td>Тула</td>\n",
       "      <td>2018-04-12</td>\n",
       "      <td>ultra</td>\n",
       "      <td>1000</td>\n",
       "      <td>30720</td>\n",
       "      <td>3000</td>\n",
       "      <td>1950</td>\n",
       "      <td>150</td>\n",
       "      <td>1</td>\n",
       "      <td>1</td>\n",
       "      <td>0.000000</td>\n",
       "      <td>1950.000000</td>\n",
       "    </tr>\n",
       "    <tr>\n",
       "      <th>1040</th>\n",
       "      <td>1168</td>\n",
       "      <td>3</td>\n",
       "      <td>1083.0</td>\n",
       "      <td>160.0</td>\n",
       "      <td>54.0</td>\n",
       "      <td>33659.0</td>\n",
       "      <td>28</td>\n",
       "      <td>NaT</td>\n",
       "      <td>Кострома</td>\n",
       "      <td>2018-01-24</td>\n",
       "      <td>ultra</td>\n",
       "      <td>1000</td>\n",
       "      <td>30720</td>\n",
       "      <td>3000</td>\n",
       "      <td>1950</td>\n",
       "      <td>150</td>\n",
       "      <td>1</td>\n",
       "      <td>1</td>\n",
       "      <td>430.517578</td>\n",
       "      <td>2380.517578</td>\n",
       "    </tr>\n",
       "    <tr>\n",
       "      <th>2832</th>\n",
       "      <td>1446</td>\n",
       "      <td>11</td>\n",
       "      <td>642.0</td>\n",
       "      <td>84.0</td>\n",
       "      <td>32.0</td>\n",
       "      <td>16341.0</td>\n",
       "      <td>64</td>\n",
       "      <td>NaT</td>\n",
       "      <td>Липецк</td>\n",
       "      <td>2018-08-31</td>\n",
       "      <td>smart</td>\n",
       "      <td>50</td>\n",
       "      <td>15360</td>\n",
       "      <td>500</td>\n",
       "      <td>550</td>\n",
       "      <td>200</td>\n",
       "      <td>3</td>\n",
       "      <td>3</td>\n",
       "      <td>617.601562</td>\n",
       "      <td>1167.601562</td>\n",
       "    </tr>\n",
       "    <tr>\n",
       "      <th>1939</th>\n",
       "      <td>1310</td>\n",
       "      <td>4</td>\n",
       "      <td>501.0</td>\n",
       "      <td>63.0</td>\n",
       "      <td>54.0</td>\n",
       "      <td>23706.0</td>\n",
       "      <td>28</td>\n",
       "      <td>NaT</td>\n",
       "      <td>Уфа</td>\n",
       "      <td>2018-03-22</td>\n",
       "      <td>ultra</td>\n",
       "      <td>1000</td>\n",
       "      <td>30720</td>\n",
       "      <td>3000</td>\n",
       "      <td>1950</td>\n",
       "      <td>150</td>\n",
       "      <td>1</td>\n",
       "      <td>1</td>\n",
       "      <td>0.000000</td>\n",
       "      <td>1950.000000</td>\n",
       "    </tr>\n",
       "    <tr>\n",
       "      <th>481</th>\n",
       "      <td>1076</td>\n",
       "      <td>10</td>\n",
       "      <td>598.0</td>\n",
       "      <td>82.0</td>\n",
       "      <td>96.0</td>\n",
       "      <td>21492.0</td>\n",
       "      <td>40</td>\n",
       "      <td>NaT</td>\n",
       "      <td>Уфа</td>\n",
       "      <td>2018-03-10</td>\n",
       "      <td>smart</td>\n",
       "      <td>50</td>\n",
       "      <td>15360</td>\n",
       "      <td>500</td>\n",
       "      <td>550</td>\n",
       "      <td>200</td>\n",
       "      <td>3</td>\n",
       "      <td>3</td>\n",
       "      <td>1629.656250</td>\n",
       "      <td>2179.656250</td>\n",
       "    </tr>\n",
       "    <tr>\n",
       "      <th>2891</th>\n",
       "      <td>1455</td>\n",
       "      <td>9</td>\n",
       "      <td>442.0</td>\n",
       "      <td>57.0</td>\n",
       "      <td>5.0</td>\n",
       "      <td>8868.0</td>\n",
       "      <td>38</td>\n",
       "      <td>NaT</td>\n",
       "      <td>Балашиха</td>\n",
       "      <td>2018-03-22</td>\n",
       "      <td>ultra</td>\n",
       "      <td>1000</td>\n",
       "      <td>30720</td>\n",
       "      <td>3000</td>\n",
       "      <td>1950</td>\n",
       "      <td>150</td>\n",
       "      <td>1</td>\n",
       "      <td>1</td>\n",
       "      <td>0.000000</td>\n",
       "      <td>1950.000000</td>\n",
       "    </tr>\n",
       "  </tbody>\n",
       "</table>\n",
       "</div>"
      ],
      "text/plain": [
       "      user_id  month  used_minutes  calls_qty  sms_qty  used_mb  age  \\\n",
       "999      1159     11          85.0       10.0      0.0   2843.0   64   \n",
       "2484     1393      7         560.0       86.0     56.0  17356.0   56   \n",
       "1090     1174      9         612.0       82.0     57.0  11973.0   29   \n",
       "1512     1242     11         192.0       28.0      0.0   4935.0   39   \n",
       "395      1063      7         852.0      100.0      0.0  20288.0   45   \n",
       "1040     1168      3        1083.0      160.0     54.0  33659.0   28   \n",
       "2832     1446     11         642.0       84.0     32.0  16341.0   64   \n",
       "1939     1310      4         501.0       63.0     54.0  23706.0   28   \n",
       "481      1076     10         598.0       82.0     96.0  21492.0   40   \n",
       "2891     1455      9         442.0       57.0      5.0   8868.0   38   \n",
       "\n",
       "     churn_date             city   reg_date tariff_name  messages_included  \\\n",
       "999         NaT       Красноярск 2018-11-28       smart                 50   \n",
       "2484        NaT        Краснодар 2018-02-17       smart                 50   \n",
       "1090        NaT  Санкт-Петербург 2018-02-17       smart                 50   \n",
       "1512 2018-12-21        Хабаровск 2018-11-18       smart                 50   \n",
       "395  2018-12-11             Тула 2018-04-12       ultra               1000   \n",
       "1040        NaT         Кострома 2018-01-24       ultra               1000   \n",
       "2832        NaT           Липецк 2018-08-31       smart                 50   \n",
       "1939        NaT              Уфа 2018-03-22       ultra               1000   \n",
       "481         NaT              Уфа 2018-03-10       smart                 50   \n",
       "2891        NaT         Балашиха 2018-03-22       ultra               1000   \n",
       "\n",
       "      mb_per_month_included  minutes_included  rub_monthly_fee  rub_per_gb  \\\n",
       "999                   15360               500              550         200   \n",
       "2484                  15360               500              550         200   \n",
       "1090                  15360               500              550         200   \n",
       "1512                  15360               500              550         200   \n",
       "395                   30720              3000             1950         150   \n",
       "1040                  30720              3000             1950         150   \n",
       "2832                  15360               500              550         200   \n",
       "1939                  30720              3000             1950         150   \n",
       "481                   15360               500              550         200   \n",
       "2891                  30720              3000             1950         150   \n",
       "\n",
       "      rub_per_message  rub_per_minute  above_tariff_profit  user_profit  \n",
       "999                 3               3             0.000000   550.000000  \n",
       "2484                3               3           587.843750  1137.843750  \n",
       "1090                3               3           357.000000   907.000000  \n",
       "1512                3               3             0.000000   550.000000  \n",
       "395                 1               1             0.000000  1950.000000  \n",
       "1040                1               1           430.517578  2380.517578  \n",
       "2832                3               3           617.601562  1167.601562  \n",
       "1939                1               1             0.000000  1950.000000  \n",
       "481                 3               3          1629.656250  2179.656250  \n",
       "2891                1               1             0.000000  1950.000000  "
      ]
     },
     "execution_count": 49,
     "metadata": {},
     "output_type": "execute_result"
    }
   ],
   "source": [
    "users_pivot.sample(10)"
   ]
  },
  {
   "cell_type": "markdown",
   "metadata": {},
   "source": [
    "#### Вывод <a class=\"anchor\" id=\"conclusion2\"></a>"
   ]
  },
  {
   "cell_type": "markdown",
   "metadata": {},
   "source": [
    "Вводные данные подготовлены к работе: обработаны аномалии, заменены несоответствующие типы данных.\n",
    "Рассчитаны новые показатели, необходимые для анализа и ответа на поставленные в задаче вопросы: \n",
    "* количество ***сделанных звонков и израсходованных минут*** разговора по месяцам;\n",
    "* количество ***отправленных сообщений*** по месяцам;\n",
    "* ***объем израсходованного интернет-трафика*** по месяцам;\n",
    "* ***помесячная выручка с каждого пользователя***   \n",
    "\n",
    "Составлен один общий датасет с необходимыми для анализа данными"
   ]
  },
  {
   "cell_type": "markdown",
   "metadata": {},
   "source": [
    "### 3. Анализ данных <a class=\"anchor\" id=\"point3\"></a>"
   ]
  },
  {
   "cell_type": "markdown",
   "metadata": {},
   "source": [
    "Разделим датасет на два, в зависимости от тарифа"
   ]
  },
  {
   "cell_type": "code",
   "execution_count": 50,
   "metadata": {},
   "outputs": [],
   "source": [
    "smart_users = users_pivot.query('tariff_name == \"smart\"')\n",
    "ultra_users = users_pivot.query('tariff_name == \"ultra\"')"
   ]
  },
  {
   "cell_type": "markdown",
   "metadata": {},
   "source": [
    "Рассмотрим поведение клиентов оператора, исходя из имеющейся выборки."
   ]
  },
  {
   "cell_type": "code",
   "execution_count": 51,
   "metadata": {
    "scrolled": true
   },
   "outputs": [
    {
     "name": "stdout",
     "output_type": "stream",
     "text": [
      "46.55630327501122\n",
      "47.0\n",
      "46.83451776649746\n",
      "45.0\n"
     ]
    }
   ],
   "source": [
    "print(smart_users['age'].mean())\n",
    "print(smart_users['age'].median())\n",
    "print(ultra_users['age'].mean())\n",
    "print(ultra_users['age'].median())"
   ]
  },
  {
   "cell_type": "markdown",
   "metadata": {},
   "source": [
    "В возрастных группах между тарифами различий не наблюдается."
   ]
  },
  {
   "cell_type": "markdown",
   "metadata": {},
   "source": [
    "Составим сводную таблицу со среднемесячными объемами потребленных услуг с разделением на тарифы и месяцы:"
   ]
  },
  {
   "cell_type": "code",
   "execution_count": 52,
   "metadata": {},
   "outputs": [],
   "source": [
    "tariffs_pivot = users_pivot.pivot_table(index = ['tariff_name', 'month'], \n",
    "                                        values = ['used_minutes', 'calls_qty', 'sms_qty', 'used_mb', \n",
    "                                                  'above_tariff_profit', 'user_profit'], \n",
    "                                        aggfunc = 'mean').reset_index()"
   ]
  },
  {
   "cell_type": "code",
   "execution_count": 53,
   "metadata": {
    "scrolled": false
   },
   "outputs": [
    {
     "data": {
      "text/html": [
       "<div>\n",
       "<style scoped>\n",
       "    .dataframe tbody tr th:only-of-type {\n",
       "        vertical-align: middle;\n",
       "    }\n",
       "\n",
       "    .dataframe tbody tr th {\n",
       "        vertical-align: top;\n",
       "    }\n",
       "\n",
       "    .dataframe thead th {\n",
       "        text-align: right;\n",
       "    }\n",
       "</style>\n",
       "<table border=\"1\" class=\"dataframe\">\n",
       "  <thead>\n",
       "    <tr style=\"text-align: right;\">\n",
       "      <th></th>\n",
       "      <th>tariff_name</th>\n",
       "      <th>month</th>\n",
       "      <th>above_tariff_profit</th>\n",
       "      <th>calls_qty</th>\n",
       "      <th>sms_qty</th>\n",
       "      <th>used_mb</th>\n",
       "      <th>used_minutes</th>\n",
       "      <th>user_profit</th>\n",
       "    </tr>\n",
       "  </thead>\n",
       "  <tbody>\n",
       "    <tr>\n",
       "      <th>0</th>\n",
       "      <td>smart</td>\n",
       "      <td>1</td>\n",
       "      <td>152.556296</td>\n",
       "      <td>27.676471</td>\n",
       "      <td>18.235294</td>\n",
       "      <td>8524.441176</td>\n",
       "      <td>203.852941</td>\n",
       "      <td>702.556296</td>\n",
       "    </tr>\n",
       "    <tr>\n",
       "      <th>1</th>\n",
       "      <td>smart</td>\n",
       "      <td>2</td>\n",
       "      <td>254.337689</td>\n",
       "      <td>40.189655</td>\n",
       "      <td>24.086207</td>\n",
       "      <td>11611.396552</td>\n",
       "      <td>298.689655</td>\n",
       "      <td>804.337689</td>\n",
       "    </tr>\n",
       "    <tr>\n",
       "      <th>2</th>\n",
       "      <td>smart</td>\n",
       "      <td>3</td>\n",
       "      <td>568.382508</td>\n",
       "      <td>54.324675</td>\n",
       "      <td>31.857143</td>\n",
       "      <td>15123.857143</td>\n",
       "      <td>390.051948</td>\n",
       "      <td>1118.382508</td>\n",
       "    </tr>\n",
       "    <tr>\n",
       "      <th>3</th>\n",
       "      <td>smart</td>\n",
       "      <td>4</td>\n",
       "      <td>372.340472</td>\n",
       "      <td>51.312500</td>\n",
       "      <td>30.741071</td>\n",
       "      <td>13479.482143</td>\n",
       "      <td>367.133929</td>\n",
       "      <td>922.340472</td>\n",
       "    </tr>\n",
       "    <tr>\n",
       "      <th>4</th>\n",
       "      <td>smart</td>\n",
       "      <td>5</td>\n",
       "      <td>596.921930</td>\n",
       "      <td>55.241135</td>\n",
       "      <td>33.773050</td>\n",
       "      <td>15825.198582</td>\n",
       "      <td>387.361702</td>\n",
       "      <td>1146.921930</td>\n",
       "    </tr>\n",
       "    <tr>\n",
       "      <th>5</th>\n",
       "      <td>smart</td>\n",
       "      <td>6</td>\n",
       "      <td>599.579697</td>\n",
       "      <td>55.548780</td>\n",
       "      <td>33.402439</td>\n",
       "      <td>15814.768293</td>\n",
       "      <td>395.640244</td>\n",
       "      <td>1149.579697</td>\n",
       "    </tr>\n",
       "    <tr>\n",
       "      <th>6</th>\n",
       "      <td>smart</td>\n",
       "      <td>7</td>\n",
       "      <td>618.063666</td>\n",
       "      <td>56.726368</td>\n",
       "      <td>33.751244</td>\n",
       "      <td>15763.512438</td>\n",
       "      <td>408.353234</td>\n",
       "      <td>1168.063666</td>\n",
       "    </tr>\n",
       "    <tr>\n",
       "      <th>7</th>\n",
       "      <td>smart</td>\n",
       "      <td>8</td>\n",
       "      <td>708.498005</td>\n",
       "      <td>58.978723</td>\n",
       "      <td>33.638298</td>\n",
       "      <td>16632.174468</td>\n",
       "      <td>421.468085</td>\n",
       "      <td>1258.498005</td>\n",
       "    </tr>\n",
       "    <tr>\n",
       "      <th>8</th>\n",
       "      <td>smart</td>\n",
       "      <td>9</td>\n",
       "      <td>649.072506</td>\n",
       "      <td>59.546154</td>\n",
       "      <td>33.638462</td>\n",
       "      <td>16324.526923</td>\n",
       "      <td>428.611538</td>\n",
       "      <td>1199.072506</td>\n",
       "    </tr>\n",
       "    <tr>\n",
       "      <th>9</th>\n",
       "      <td>smart</td>\n",
       "      <td>10</td>\n",
       "      <td>754.842315</td>\n",
       "      <td>59.962585</td>\n",
       "      <td>33.765306</td>\n",
       "      <td>16778.564626</td>\n",
       "      <td>426.136054</td>\n",
       "      <td>1304.842315</td>\n",
       "    </tr>\n",
       "    <tr>\n",
       "      <th>10</th>\n",
       "      <td>smart</td>\n",
       "      <td>11</td>\n",
       "      <td>733.362812</td>\n",
       "      <td>61.503165</td>\n",
       "      <td>34.075949</td>\n",
       "      <td>16917.531646</td>\n",
       "      <td>435.265823</td>\n",
       "      <td>1283.362812</td>\n",
       "    </tr>\n",
       "    <tr>\n",
       "      <th>11</th>\n",
       "      <td>smart</td>\n",
       "      <td>12</td>\n",
       "      <td>955.874907</td>\n",
       "      <td>66.486647</td>\n",
       "      <td>35.994065</td>\n",
       "      <td>18136.833828</td>\n",
       "      <td>478.560831</td>\n",
       "      <td>1505.874907</td>\n",
       "    </tr>\n",
       "    <tr>\n",
       "      <th>12</th>\n",
       "      <td>ultra</td>\n",
       "      <td>1</td>\n",
       "      <td>0.000000</td>\n",
       "      <td>59.444444</td>\n",
       "      <td>33.777778</td>\n",
       "      <td>13153.555556</td>\n",
       "      <td>428.111111</td>\n",
       "      <td>1950.000000</td>\n",
       "    </tr>\n",
       "    <tr>\n",
       "      <th>13</th>\n",
       "      <td>ultra</td>\n",
       "      <td>2</td>\n",
       "      <td>23.046875</td>\n",
       "      <td>41.541667</td>\n",
       "      <td>21.958333</td>\n",
       "      <td>11786.958333</td>\n",
       "      <td>297.125000</td>\n",
       "      <td>1973.046875</td>\n",
       "    </tr>\n",
       "    <tr>\n",
       "      <th>14</th>\n",
       "      <td>ultra</td>\n",
       "      <td>3</td>\n",
       "      <td>54.171505</td>\n",
       "      <td>67.675676</td>\n",
       "      <td>32.297297</td>\n",
       "      <td>17551.972973</td>\n",
       "      <td>489.648649</td>\n",
       "      <td>2004.171505</td>\n",
       "    </tr>\n",
       "    <tr>\n",
       "      <th>15</th>\n",
       "      <td>ultra</td>\n",
       "      <td>4</td>\n",
       "      <td>45.431463</td>\n",
       "      <td>64.090909</td>\n",
       "      <td>31.563636</td>\n",
       "      <td>16843.800000</td>\n",
       "      <td>458.018182</td>\n",
       "      <td>1995.431463</td>\n",
       "    </tr>\n",
       "    <tr>\n",
       "      <th>16</th>\n",
       "      <td>ultra</td>\n",
       "      <td>5</td>\n",
       "      <td>104.965893</td>\n",
       "      <td>72.507463</td>\n",
       "      <td>37.850746</td>\n",
       "      <td>19381.194030</td>\n",
       "      <td>510.328358</td>\n",
       "      <td>2054.965893</td>\n",
       "    </tr>\n",
       "    <tr>\n",
       "      <th>17</th>\n",
       "      <td>ultra</td>\n",
       "      <td>6</td>\n",
       "      <td>82.060896</td>\n",
       "      <td>66.738095</td>\n",
       "      <td>41.726190</td>\n",
       "      <td>18942.238095</td>\n",
       "      <td>479.702381</td>\n",
       "      <td>2032.060896</td>\n",
       "    </tr>\n",
       "    <tr>\n",
       "      <th>18</th>\n",
       "      <td>ultra</td>\n",
       "      <td>7</td>\n",
       "      <td>158.502533</td>\n",
       "      <td>75.780220</td>\n",
       "      <td>49.846154</td>\n",
       "      <td>20514.648352</td>\n",
       "      <td>545.791209</td>\n",
       "      <td>2108.502533</td>\n",
       "    </tr>\n",
       "    <tr>\n",
       "      <th>19</th>\n",
       "      <td>ultra</td>\n",
       "      <td>8</td>\n",
       "      <td>121.152161</td>\n",
       "      <td>71.289720</td>\n",
       "      <td>48.439252</td>\n",
       "      <td>19594.065421</td>\n",
       "      <td>510.775701</td>\n",
       "      <td>2071.152161</td>\n",
       "    </tr>\n",
       "    <tr>\n",
       "      <th>20</th>\n",
       "      <td>ultra</td>\n",
       "      <td>9</td>\n",
       "      <td>63.725798</td>\n",
       "      <td>74.600000</td>\n",
       "      <td>52.286957</td>\n",
       "      <td>19222.208696</td>\n",
       "      <td>539.443478</td>\n",
       "      <td>2013.725798</td>\n",
       "    </tr>\n",
       "    <tr>\n",
       "      <th>21</th>\n",
       "      <td>ultra</td>\n",
       "      <td>10</td>\n",
       "      <td>106.918112</td>\n",
       "      <td>77.373984</td>\n",
       "      <td>58.430894</td>\n",
       "      <td>20063.869919</td>\n",
       "      <td>558.081301</td>\n",
       "      <td>2056.918112</td>\n",
       "    </tr>\n",
       "    <tr>\n",
       "      <th>22</th>\n",
       "      <td>ultra</td>\n",
       "      <td>11</td>\n",
       "      <td>130.786497</td>\n",
       "      <td>75.119403</td>\n",
       "      <td>55.791045</td>\n",
       "      <td>19805.313433</td>\n",
       "      <td>541.380597</td>\n",
       "      <td>2080.786497</td>\n",
       "    </tr>\n",
       "    <tr>\n",
       "      <th>23</th>\n",
       "      <td>ultra</td>\n",
       "      <td>12</td>\n",
       "      <td>176.245995</td>\n",
       "      <td>83.316547</td>\n",
       "      <td>60.611511</td>\n",
       "      <td>21813.589928</td>\n",
       "      <td>592.805755</td>\n",
       "      <td>2126.245995</td>\n",
       "    </tr>\n",
       "  </tbody>\n",
       "</table>\n",
       "</div>"
      ],
      "text/plain": [
       "   tariff_name  month  above_tariff_profit  calls_qty    sms_qty  \\\n",
       "0        smart      1           152.556296  27.676471  18.235294   \n",
       "1        smart      2           254.337689  40.189655  24.086207   \n",
       "2        smart      3           568.382508  54.324675  31.857143   \n",
       "3        smart      4           372.340472  51.312500  30.741071   \n",
       "4        smart      5           596.921930  55.241135  33.773050   \n",
       "5        smart      6           599.579697  55.548780  33.402439   \n",
       "6        smart      7           618.063666  56.726368  33.751244   \n",
       "7        smart      8           708.498005  58.978723  33.638298   \n",
       "8        smart      9           649.072506  59.546154  33.638462   \n",
       "9        smart     10           754.842315  59.962585  33.765306   \n",
       "10       smart     11           733.362812  61.503165  34.075949   \n",
       "11       smart     12           955.874907  66.486647  35.994065   \n",
       "12       ultra      1             0.000000  59.444444  33.777778   \n",
       "13       ultra      2            23.046875  41.541667  21.958333   \n",
       "14       ultra      3            54.171505  67.675676  32.297297   \n",
       "15       ultra      4            45.431463  64.090909  31.563636   \n",
       "16       ultra      5           104.965893  72.507463  37.850746   \n",
       "17       ultra      6            82.060896  66.738095  41.726190   \n",
       "18       ultra      7           158.502533  75.780220  49.846154   \n",
       "19       ultra      8           121.152161  71.289720  48.439252   \n",
       "20       ultra      9            63.725798  74.600000  52.286957   \n",
       "21       ultra     10           106.918112  77.373984  58.430894   \n",
       "22       ultra     11           130.786497  75.119403  55.791045   \n",
       "23       ultra     12           176.245995  83.316547  60.611511   \n",
       "\n",
       "         used_mb  used_minutes  user_profit  \n",
       "0    8524.441176    203.852941   702.556296  \n",
       "1   11611.396552    298.689655   804.337689  \n",
       "2   15123.857143    390.051948  1118.382508  \n",
       "3   13479.482143    367.133929   922.340472  \n",
       "4   15825.198582    387.361702  1146.921930  \n",
       "5   15814.768293    395.640244  1149.579697  \n",
       "6   15763.512438    408.353234  1168.063666  \n",
       "7   16632.174468    421.468085  1258.498005  \n",
       "8   16324.526923    428.611538  1199.072506  \n",
       "9   16778.564626    426.136054  1304.842315  \n",
       "10  16917.531646    435.265823  1283.362812  \n",
       "11  18136.833828    478.560831  1505.874907  \n",
       "12  13153.555556    428.111111  1950.000000  \n",
       "13  11786.958333    297.125000  1973.046875  \n",
       "14  17551.972973    489.648649  2004.171505  \n",
       "15  16843.800000    458.018182  1995.431463  \n",
       "16  19381.194030    510.328358  2054.965893  \n",
       "17  18942.238095    479.702381  2032.060896  \n",
       "18  20514.648352    545.791209  2108.502533  \n",
       "19  19594.065421    510.775701  2071.152161  \n",
       "20  19222.208696    539.443478  2013.725798  \n",
       "21  20063.869919    558.081301  2056.918112  \n",
       "22  19805.313433    541.380597  2080.786497  \n",
       "23  21813.589928    592.805755  2126.245995  "
      ]
     },
     "execution_count": 53,
     "metadata": {},
     "output_type": "execute_result"
    }
   ],
   "source": [
    "tariffs_pivot"
   ]
  },
  {
   "cell_type": "markdown",
   "metadata": {},
   "source": [
    "Рассчитаем статистические показатели по количеству минут разговора, сообщений и объёму интернет-трафика, которые требуются пользователям каждого тарифа в месяц"
   ]
  },
  {
   "cell_type": "code",
   "execution_count": 54,
   "metadata": {},
   "outputs": [],
   "source": [
    "trf_stat = {'tariff_name': ['smart', 'ultra'],\n",
    "            'used_minutes_var': [np.var(smart_users['used_minutes'], ddof=1), np.var(ultra_users['used_minutes'], ddof=1)],\n",
    "            'used_minutes_std': [np.std(smart_users['used_minutes'], ddof=1), np.std(ultra_users['used_minutes'], ddof=1)],\n",
    "            'calls_qty_var': [np.var(smart_users['calls_qty'], ddof=1), np.var(ultra_users['calls_qty'], ddof=1)],\n",
    "            'calls_qty_std': [np.std(smart_users['calls_qty'], ddof=1), np.std(ultra_users['calls_qty'], ddof=1)],\n",
    "            'sms_qty_var': [np.var(smart_users['sms_qty'], ddof=1), np.var(ultra_users['sms_qty'], ddof=1)],\n",
    "            'sms_qty_std': [np.std(smart_users['sms_qty'], ddof=1), np.std(ultra_users['sms_qty'], ddof=1)],\n",
    "            'used_mb_var': [np.var(smart_users['used_mb'], ddof=1), np.var(ultra_users['used_mb'], ddof=1)],\n",
    "            'used_mb_std': [np.std(smart_users['used_mb'], ddof=1), np.std(ultra_users['used_mb'], ddof=1)],\n",
    "            'above_tariff_profit_var': [np.var(smart_users['above_tariff_profit'], ddof=1), np.var(ultra_users['above_tariff_profit'], ddof=1)], \n",
    "            'above_tariff_profit_std': [np.std(smart_users['above_tariff_profit'], ddof=1), np.std(ultra_users['above_tariff_profit'], ddof=1)],\n",
    "            'user_profit_var': [np.var(smart_users['user_profit'], ddof=1), np.var(ultra_users['user_profit'], ddof=1)],\n",
    "            'user_profit_std': [np.std(smart_users['user_profit'], ddof=1), np.std(ultra_users['user_profit'], ddof=1)]}\n",
    "                             \n",
    "tariff_stat = pd.DataFrame(data=trf_stat)"
   ]
  },
  {
   "cell_type": "code",
   "execution_count": 55,
   "metadata": {},
   "outputs": [
    {
     "data": {
      "text/html": [
       "<div>\n",
       "<style scoped>\n",
       "    .dataframe tbody tr th:only-of-type {\n",
       "        vertical-align: middle;\n",
       "    }\n",
       "\n",
       "    .dataframe tbody tr th {\n",
       "        vertical-align: top;\n",
       "    }\n",
       "\n",
       "    .dataframe thead th {\n",
       "        text-align: right;\n",
       "    }\n",
       "</style>\n",
       "<table border=\"1\" class=\"dataframe\">\n",
       "  <thead>\n",
       "    <tr style=\"text-align: right;\">\n",
       "      <th></th>\n",
       "      <th>tariff_name</th>\n",
       "      <th>used_minutes_var</th>\n",
       "      <th>used_minutes_std</th>\n",
       "      <th>calls_qty_var</th>\n",
       "      <th>calls_qty_std</th>\n",
       "      <th>sms_qty_var</th>\n",
       "      <th>sms_qty_std</th>\n",
       "      <th>used_mb_var</th>\n",
       "      <th>used_mb_std</th>\n",
       "      <th>above_tariff_profit_var</th>\n",
       "      <th>above_tariff_profit_std</th>\n",
       "      <th>user_profit_var</th>\n",
       "      <th>user_profit_std</th>\n",
       "    </tr>\n",
       "  </thead>\n",
       "  <tbody>\n",
       "    <tr>\n",
       "      <th>0</th>\n",
       "      <td>smart</td>\n",
       "      <td>36219.315784</td>\n",
       "      <td>190.313730</td>\n",
       "      <td>672.876243</td>\n",
       "      <td>25.939858</td>\n",
       "      <td>796.812958</td>\n",
       "      <td>28.227876</td>\n",
       "      <td>3.454591e+07</td>\n",
       "      <td>5877.576978</td>\n",
       "      <td>620452.607534</td>\n",
       "      <td>787.688141</td>\n",
       "      <td>620452.607534</td>\n",
       "      <td>787.688141</td>\n",
       "    </tr>\n",
       "    <tr>\n",
       "      <th>1</th>\n",
       "      <td>ultra</td>\n",
       "      <td>100873.633397</td>\n",
       "      <td>317.606098</td>\n",
       "      <td>1928.689990</td>\n",
       "      <td>43.916853</td>\n",
       "      <td>2285.266143</td>\n",
       "      <td>47.804457</td>\n",
       "      <td>1.019356e+08</td>\n",
       "      <td>10096.317202</td>\n",
       "      <td>126953.285460</td>\n",
       "      <td>356.305046</td>\n",
       "      <td>126953.285460</td>\n",
       "      <td>356.305046</td>\n",
       "    </tr>\n",
       "  </tbody>\n",
       "</table>\n",
       "</div>"
      ],
      "text/plain": [
       "  tariff_name  used_minutes_var  used_minutes_std  calls_qty_var  \\\n",
       "0       smart      36219.315784        190.313730     672.876243   \n",
       "1       ultra     100873.633397        317.606098    1928.689990   \n",
       "\n",
       "   calls_qty_std  sms_qty_var  sms_qty_std   used_mb_var   used_mb_std  \\\n",
       "0      25.939858   796.812958    28.227876  3.454591e+07   5877.576978   \n",
       "1      43.916853  2285.266143    47.804457  1.019356e+08  10096.317202   \n",
       "\n",
       "   above_tariff_profit_var  above_tariff_profit_std  user_profit_var  \\\n",
       "0            620452.607534               787.688141    620452.607534   \n",
       "1            126953.285460               356.305046    126953.285460   \n",
       "\n",
       "   user_profit_std  \n",
       "0       787.688141  \n",
       "1       356.305046  "
      ]
     },
     "execution_count": 55,
     "metadata": {},
     "output_type": "execute_result"
    }
   ],
   "source": [
    "tariff_stat"
   ]
  },
  {
   "cell_type": "code",
   "execution_count": 56,
   "metadata": {},
   "outputs": [],
   "source": [
    "tariffs_statistics = tariffs_pivot.pivot_table(index='tariff_name', \n",
    "                                               values = ['used_minutes', 'calls_qty', 'sms_qty', 'used_mb',\n",
    "                                                         'above_tariff_profit', 'user_profit'], \n",
    "                                               aggfunc = 'mean').reset_index()"
   ]
  },
  {
   "cell_type": "code",
   "execution_count": 57,
   "metadata": {
    "scrolled": false
   },
   "outputs": [
    {
     "data": {
      "text/html": [
       "<div>\n",
       "<style scoped>\n",
       "    .dataframe tbody tr th:only-of-type {\n",
       "        vertical-align: middle;\n",
       "    }\n",
       "\n",
       "    .dataframe tbody tr th {\n",
       "        vertical-align: top;\n",
       "    }\n",
       "\n",
       "    .dataframe thead th {\n",
       "        text-align: right;\n",
       "    }\n",
       "</style>\n",
       "<table border=\"1\" class=\"dataframe\">\n",
       "  <thead>\n",
       "    <tr style=\"text-align: right;\">\n",
       "      <th></th>\n",
       "      <th>tariff_name</th>\n",
       "      <th>above_tariff_profit</th>\n",
       "      <th>calls_qty</th>\n",
       "      <th>sms_qty</th>\n",
       "      <th>used_mb</th>\n",
       "      <th>used_minutes</th>\n",
       "      <th>user_profit</th>\n",
       "    </tr>\n",
       "  </thead>\n",
       "  <tbody>\n",
       "    <tr>\n",
       "      <th>0</th>\n",
       "      <td>smart</td>\n",
       "      <td>580.319400</td>\n",
       "      <td>53.958072</td>\n",
       "      <td>31.413211</td>\n",
       "      <td>15077.690651</td>\n",
       "      <td>386.760499</td>\n",
       "      <td>1130.319400</td>\n",
       "    </tr>\n",
       "    <tr>\n",
       "      <th>1</th>\n",
       "      <td>ultra</td>\n",
       "      <td>88.917311</td>\n",
       "      <td>69.123177</td>\n",
       "      <td>43.714983</td>\n",
       "      <td>18222.784561</td>\n",
       "      <td>495.934310</td>\n",
       "      <td>2038.917311</td>\n",
       "    </tr>\n",
       "  </tbody>\n",
       "</table>\n",
       "</div>"
      ],
      "text/plain": [
       "  tariff_name  above_tariff_profit  calls_qty    sms_qty       used_mb  \\\n",
       "0       smart           580.319400  53.958072  31.413211  15077.690651   \n",
       "1       ultra            88.917311  69.123177  43.714983  18222.784561   \n",
       "\n",
       "   used_minutes  user_profit  \n",
       "0    386.760499  1130.319400  \n",
       "1    495.934310  2038.917311  "
      ]
     },
     "execution_count": 57,
     "metadata": {},
     "output_type": "execute_result"
    }
   ],
   "source": [
    "tariffs_statistics"
   ]
  },
  {
   "cell_type": "code",
   "execution_count": 58,
   "metadata": {},
   "outputs": [],
   "source": [
    "tariffs_statistics.columns = ['tariff_name', 'above_tariff_profit_mean', 'calls_qty_mean', 'sms_qty_mean', 'used_mb_mean',\n",
    "       'used_minutes_mean', 'user_profit_mean']"
   ]
  },
  {
   "cell_type": "code",
   "execution_count": 59,
   "metadata": {},
   "outputs": [],
   "source": [
    "tariffs_statistics = tariffs_statistics.merge(tariff_stat, on='tariff_name', how='outer')\n",
    "tariffs_statistics = tariffs_statistics[['tariff_name',\n",
    "                                         'used_minutes_mean', 'used_minutes_var', 'used_minutes_std',\n",
    "                                         'calls_qty_mean', 'calls_qty_var', 'calls_qty_std',\n",
    "                                         'sms_qty_mean', 'sms_qty_var', 'sms_qty_std',\n",
    "                                         'used_mb_mean', 'used_mb_var', 'used_mb_std',\n",
    "                                         'above_tariff_profit_mean', 'above_tariff_profit_var', 'above_tariff_profit_std',\n",
    "                                         'user_profit_mean', 'user_profit_var', 'user_profit_std']]\n",
    "tariffs_statistics = tariffs_statistics.round(2)\n",
    "tariffs_statistics = tariffs_statistics.transpose()\n",
    "tariffs_statistics.columns = ['smart', 'ultra']"
   ]
  },
  {
   "cell_type": "code",
   "execution_count": 60,
   "metadata": {
    "scrolled": true
   },
   "outputs": [
    {
     "data": {
      "text/html": [
       "<div>\n",
       "<style scoped>\n",
       "    .dataframe tbody tr th:only-of-type {\n",
       "        vertical-align: middle;\n",
       "    }\n",
       "\n",
       "    .dataframe tbody tr th {\n",
       "        vertical-align: top;\n",
       "    }\n",
       "\n",
       "    .dataframe thead th {\n",
       "        text-align: right;\n",
       "    }\n",
       "</style>\n",
       "<table border=\"1\" class=\"dataframe\">\n",
       "  <thead>\n",
       "    <tr style=\"text-align: right;\">\n",
       "      <th></th>\n",
       "      <th>smart</th>\n",
       "      <th>ultra</th>\n",
       "    </tr>\n",
       "  </thead>\n",
       "  <tbody>\n",
       "    <tr>\n",
       "      <th>tariff_name</th>\n",
       "      <td>smart</td>\n",
       "      <td>ultra</td>\n",
       "    </tr>\n",
       "    <tr>\n",
       "      <th>used_minutes_mean</th>\n",
       "      <td>386.76</td>\n",
       "      <td>495.93</td>\n",
       "    </tr>\n",
       "    <tr>\n",
       "      <th>used_minutes_var</th>\n",
       "      <td>36219.32</td>\n",
       "      <td>100873.63</td>\n",
       "    </tr>\n",
       "    <tr>\n",
       "      <th>used_minutes_std</th>\n",
       "      <td>190.31</td>\n",
       "      <td>317.61</td>\n",
       "    </tr>\n",
       "    <tr>\n",
       "      <th>calls_qty_mean</th>\n",
       "      <td>53.96</td>\n",
       "      <td>69.12</td>\n",
       "    </tr>\n",
       "    <tr>\n",
       "      <th>calls_qty_var</th>\n",
       "      <td>672.88</td>\n",
       "      <td>1928.69</td>\n",
       "    </tr>\n",
       "    <tr>\n",
       "      <th>calls_qty_std</th>\n",
       "      <td>25.94</td>\n",
       "      <td>43.92</td>\n",
       "    </tr>\n",
       "    <tr>\n",
       "      <th>sms_qty_mean</th>\n",
       "      <td>31.41</td>\n",
       "      <td>43.71</td>\n",
       "    </tr>\n",
       "    <tr>\n",
       "      <th>sms_qty_var</th>\n",
       "      <td>796.81</td>\n",
       "      <td>2285.27</td>\n",
       "    </tr>\n",
       "    <tr>\n",
       "      <th>sms_qty_std</th>\n",
       "      <td>28.23</td>\n",
       "      <td>47.8</td>\n",
       "    </tr>\n",
       "    <tr>\n",
       "      <th>used_mb_mean</th>\n",
       "      <td>15077.69</td>\n",
       "      <td>18222.78</td>\n",
       "    </tr>\n",
       "    <tr>\n",
       "      <th>used_mb_var</th>\n",
       "      <td>34545911.13</td>\n",
       "      <td>101935621.05</td>\n",
       "    </tr>\n",
       "    <tr>\n",
       "      <th>used_mb_std</th>\n",
       "      <td>5877.58</td>\n",
       "      <td>10096.32</td>\n",
       "    </tr>\n",
       "    <tr>\n",
       "      <th>above_tariff_profit_mean</th>\n",
       "      <td>580.32</td>\n",
       "      <td>88.92</td>\n",
       "    </tr>\n",
       "    <tr>\n",
       "      <th>above_tariff_profit_var</th>\n",
       "      <td>620452.61</td>\n",
       "      <td>126953.29</td>\n",
       "    </tr>\n",
       "    <tr>\n",
       "      <th>above_tariff_profit_std</th>\n",
       "      <td>787.69</td>\n",
       "      <td>356.31</td>\n",
       "    </tr>\n",
       "    <tr>\n",
       "      <th>user_profit_mean</th>\n",
       "      <td>1130.32</td>\n",
       "      <td>2038.92</td>\n",
       "    </tr>\n",
       "    <tr>\n",
       "      <th>user_profit_var</th>\n",
       "      <td>620452.61</td>\n",
       "      <td>126953.29</td>\n",
       "    </tr>\n",
       "    <tr>\n",
       "      <th>user_profit_std</th>\n",
       "      <td>787.69</td>\n",
       "      <td>356.31</td>\n",
       "    </tr>\n",
       "  </tbody>\n",
       "</table>\n",
       "</div>"
      ],
      "text/plain": [
       "                                smart         ultra\n",
       "tariff_name                     smart         ultra\n",
       "used_minutes_mean              386.76        495.93\n",
       "used_minutes_var             36219.32     100873.63\n",
       "used_minutes_std               190.31        317.61\n",
       "calls_qty_mean                  53.96         69.12\n",
       "calls_qty_var                  672.88       1928.69\n",
       "calls_qty_std                   25.94         43.92\n",
       "sms_qty_mean                    31.41         43.71\n",
       "sms_qty_var                    796.81       2285.27\n",
       "sms_qty_std                     28.23          47.8\n",
       "used_mb_mean                 15077.69      18222.78\n",
       "used_mb_var               34545911.13  101935621.05\n",
       "used_mb_std                   5877.58      10096.32\n",
       "above_tariff_profit_mean       580.32         88.92\n",
       "above_tariff_profit_var     620452.61     126953.29\n",
       "above_tariff_profit_std        787.69        356.31\n",
       "user_profit_mean              1130.32       2038.92\n",
       "user_profit_var             620452.61     126953.29\n",
       "user_profit_std                787.69        356.31"
      ]
     },
     "execution_count": 60,
     "metadata": {},
     "output_type": "execute_result"
    }
   ],
   "source": [
    "tariffs_statistics"
   ]
  },
  {
   "cell_type": "markdown",
   "metadata": {},
   "source": [
    "Для наглядности построим гистограммы."
   ]
  },
  {
   "cell_type": "markdown",
   "metadata": {},
   "source": [
    "Создадим функции построения гистограмм:"
   ]
  },
  {
   "cell_type": "code",
   "execution_count": 61,
   "metadata": {},
   "outputs": [],
   "source": [
    "def double_distplot_creator(dataframe1, label1, dataframe2, label2, parameter, x_label, x_lim, title_name):\n",
    "    sns.distplot(dataframe1[parameter], kde=True, label=label1)\n",
    "    sns.distplot(dataframe2[parameter], kde=True, label=label2)\n",
    "    plt.xlabel(x_label)\n",
    "    plt.xlim([0,x_lim])\n",
    "    plt.ylabel('Частота')\n",
    "    plt.title(title_name)\n",
    "    plt.legend()\n",
    "    plt.show()"
   ]
  },
  {
   "cell_type": "code",
   "execution_count": 62,
   "metadata": {},
   "outputs": [],
   "source": [
    "def double_barplot_creator(df, x, y, hue, x_label, y_label, title, legend_title):\n",
    "    sns.barplot(data=df, x=x, y=y, hue=hue, palette=\"husl\")\n",
    "    plt.xlabel(x_label)\n",
    "    plt.ylabel(y_label)\n",
    "    plt.title(title)\n",
    "    plt.legend(title=legend_title)\n",
    "    plt.show()"
   ]
  },
  {
   "cell_type": "markdown",
   "metadata": {},
   "source": [
    "***Проанализируем количество используемых пользователями минут***"
   ]
  },
  {
   "cell_type": "code",
   "execution_count": 63,
   "metadata": {
    "scrolled": true
   },
   "outputs": [
    {
     "data": {
      "image/png": "[encoded data removed]",
      "text/plain": [
       "<Figure size 432x288 with 1 Axes>"
      ]
     },
     "metadata": {},
     "output_type": "display_data"
    }
   ],
   "source": [
    "double_distplot_creator(smart_users, 'smart', ultra_users, 'ultra', \n",
    "                        'used_minutes', \n",
    "                        'Кол-во использованных минут', 1650, 'Распределение по количеству использованных минут')"
   ]
  },
  {
   "cell_type": "markdown",
   "metadata": {},
   "source": [
    "Гистограмма наглядно отображает полученные значения стандартных отклонений количества использованных в месяц минут пользователями разных тарифов.  \n",
    "Для тарифа \"Смарт\" более характерна группировка значений вокруг среднего - пользователи стараются уложиться в предоставленные тарифом 500 минут, но все же выходят за пределы лимита.  \n",
    "Для тарифа \"Ультра\" характерен больший разброс относительно среднего, он предоставляет пользователям огромное кол-во минут - 3000. В рамках такого лимита поведение пользователей разнится больше. Гистограмма показывает, что пользователи данного тарифа чаще тратят большое кол-во минут. Но у них остается неиспользованным большой запас предоставленных тарифом минут.  \n",
    "Также видим довольно большое кол-во пользователей, которые вообще не тратят минуты - т.е. можно сделать вывод, что они используют тариф для других целей, например, для интернета."
   ]
  },
  {
   "cell_type": "code",
   "execution_count": 64,
   "metadata": {
    "scrolled": true
   },
   "outputs": [
    {
     "data": {
      "image/png": "[encoded data removed]",
      "text/plain": [
       "<Figure size 432x288 with 1 Axes>"
      ]
     },
     "metadata": {},
     "output_type": "display_data"
    }
   ],
   "source": [
    "double_barplot_creator(tariffs_pivot, 'month', 'used_minutes', 'tariff_name', \n",
    "                       'Месяц', 'Сред. кол-во использ-х минут', \n",
    "                       'Сред. кол-во использ-х минут в зависимости от месяца с разбивкой по тарифу', \n",
    "                       'Тариф')"
   ]
  },
  {
   "cell_type": "markdown",
   "metadata": {},
   "source": [
    "Диаграмма наглядно показывает, что в среднем пользователи тарифа \"Ультра\" тратят в месяц более кол-во минут, чем пользователи \"Смарт\", и у них остается еще большой запас предоставленных минут.   \n",
    "Количество потраченных в месяц минут пользователями \"Смарта\" более прибижено к предоставленному лимиту."
   ]
  },
  {
   "cell_type": "markdown",
   "metadata": {},
   "source": [
    "Те же тенденции мы увидим на диаграммах, отражающих распределение по количеству звонков:"
   ]
  },
  {
   "cell_type": "code",
   "execution_count": 65,
   "metadata": {},
   "outputs": [
    {
     "data": {
      "image/png": "[encoded data removed]",
      "text/plain": [
       "<Figure size 432x288 with 1 Axes>"
      ]
     },
     "metadata": {},
     "output_type": "display_data"
    }
   ],
   "source": [
    "double_distplot_creator(smart_users, 'smart', ultra_users, 'ultra', \n",
    "                        'calls_qty', \n",
    "                        'Кол-во звонков', 150, 'Распределение по количеству звонков')"
   ]
  },
  {
   "cell_type": "code",
   "execution_count": 66,
   "metadata": {},
   "outputs": [
    {
     "data": {
      "image/png": "[encoded data removed]",
      "text/plain": [
       "<Figure size 432x288 with 1 Axes>"
      ]
     },
     "metadata": {},
     "output_type": "display_data"
    }
   ],
   "source": [
    "double_barplot_creator(tariffs_pivot, 'month', 'calls_qty', 'tariff_name', \n",
    "                       'Месяц', 'Сред. кол-во звонков', \n",
    "                       'Сред. кол-во звонков в зависимости от месяца с разбивкой по тарифу', \n",
    "                       'Тариф')"
   ]
  },
  {
   "cell_type": "markdown",
   "metadata": {},
   "source": [
    "***Проанализируем количество используемых пользователями смс***"
   ]
  },
  {
   "cell_type": "code",
   "execution_count": 67,
   "metadata": {
    "scrolled": false
   },
   "outputs": [
    {
     "data": {
      "image/png": "[encoded data removed]",
      "text/plain": [
       "<Figure size 432x288 with 1 Axes>"
      ]
     },
     "metadata": {},
     "output_type": "display_data"
    }
   ],
   "source": [
    "double_distplot_creator(smart_users, 'smart', ultra_users, 'ultra', \n",
    "                        'sms_qty', 'Кол-во использованных sms', 220, 'Распределение по количеству использованных sms')"
   ]
  },
  {
   "cell_type": "markdown",
   "metadata": {},
   "source": [
    "Распределение скошено влево: для обоих тарифов характерно большое кол-во нулевых значений - смс уходят в прошлое, их место занимают мессенджеры.  \n",
    "Рассчитанное стандартное отклонение у \"Ультры\" больше, и как видно на гистограмме, значения разбросаны относительно среднего шире,  что вероятнее всего обусловлено огромным лимитом тарифа. "
   ]
  },
  {
   "cell_type": "code",
   "execution_count": 68,
   "metadata": {
    "scrolled": true
   },
   "outputs": [
    {
     "data": {
      "image/png": "[encoded data removed]",
      "text/plain": [
       "<Figure size 432x288 with 1 Axes>"
      ]
     },
     "metadata": {},
     "output_type": "display_data"
    }
   ],
   "source": [
    "double_barplot_creator(tariffs_pivot, 'month', 'sms_qty', 'tariff_name', \n",
    "                       'Месяц', 'Сред. кол-во использ-х sms', \n",
    "                       'Сред. кол-во использ-х sms в зависимости от месяца с разбивкой по тарифу', \n",
    "                       'Тариф')"
   ]
  },
  {
   "cell_type": "markdown",
   "metadata": {},
   "source": [
    "Пользователи \"Ультры\" в среднем печатают больше смс, чем пользователи \"Смарта\". Значения \"Смарта\" больше приближены к лимиту тарифа, а у пользователей \"Ультры\" остается колоссальное кол-во неиспользованных смс в месяц."
   ]
  },
  {
   "cell_type": "markdown",
   "metadata": {},
   "source": [
    "***Проанализируем объем использованного пользователями интернет-трафика***"
   ]
  },
  {
   "cell_type": "code",
   "execution_count": 69,
   "metadata": {
    "scrolled": false
   },
   "outputs": [
    {
     "data": {
      "image/png": "[encoded data removed]",
      "text/plain": [
       "<Figure size 432x288 with 1 Axes>"
      ]
     },
     "metadata": {},
     "output_type": "display_data"
    }
   ],
   "source": [
    "double_distplot_creator(smart_users, 'smart', \n",
    "                        ultra_users, 'ultra', \n",
    "                        'used_mb', \n",
    "                        'Объем использованного интернет-трафика', 45000,\n",
    "                        'Распределение по объему использованного интернет-трафика')"
   ]
  },
  {
   "cell_type": "markdown",
   "metadata": {},
   "source": [
    "Распределение использованного клиентами интернет-трафика больше похоже на нормальное. Как и у предыдущих рассмотренных параметров, стандартное отклонение у тарифа \"Ультра\" больше, и значенния шире разбросаны относительно среднего, что наглядно показывает гистограмма.  \n",
    "Большинство пользователей \"Смарта\" стараются уложиться в установленный относительно небольшой лимит в 15 Гб.  \n",
    "Лимит тарифа \"Ультра\" в два раза выше, пользователям не нужно беспокоиться о его превышение, в связи с чем разброс значений использованного трафика шире."
   ]
  },
  {
   "cell_type": "code",
   "execution_count": 70,
   "metadata": {},
   "outputs": [
    {
     "data": {
      "image/png": "[encoded data removed]",
      "text/plain": [
       "<Figure size 432x288 with 1 Axes>"
      ]
     },
     "metadata": {},
     "output_type": "display_data"
    }
   ],
   "source": [
    "double_barplot_creator(tariffs_pivot, 'month', 'used_mb', 'tariff_name', \n",
    "                       'Месяц', 'Сред. кол-во использ-х Mb', \n",
    "                       'Сред. кол-во использ-х Mb в зависимости от месяца с разбивкой по тарифу', \n",
    "                       'Тариф')"
   ]
  },
  {
   "cell_type": "markdown",
   "metadata": {},
   "source": [
    "Гистограмма показывает, что в среднем пользователи \"Ультры\" тратят больше интернет-трафика, чем пользователи \"Смарта\", но\n",
    "в среднем у пользователей \"Ультры\" еще остается запас трафика примерно в 10Гб. А средний объем трафика пользователей \"Смарта\" тяготеет к установленному тарифом лимиту, и пользователи \"Смарта\" чаще выходят за пределы лимита, обуславливая дополнительное получение опретором прибыли с клиента."
   ]
  },
  {
   "cell_type": "markdown",
   "metadata": {},
   "source": [
    "***Проанализируем прибыль сверх абонентской платы за тариф***"
   ]
  },
  {
   "cell_type": "code",
   "execution_count": 71,
   "metadata": {
    "scrolled": false
   },
   "outputs": [
    {
     "data": {
      "image/png": "[encoded data removed]",
      "text/plain": [
       "<Figure size 432x288 with 1 Axes>"
      ]
     },
     "metadata": {},
     "output_type": "display_data"
    }
   ],
   "source": [
    "double_distplot_creator(smart_users, 'smart', ultra_users, 'ultra', \n",
    "                        'above_tariff_profit', \n",
    "                        'Прибыль сверх абонентской платы за тариф', 2500,\n",
    "                        'Распределение по прибыли сверх абонентской платы за тариф')"
   ]
  },
  {
   "cell_type": "markdown",
   "metadata": {},
   "source": [
    "Гистограмма наглядно показывает, что чаще всего дополнительной приюыли сверх тарифа от пользователей \"Ультры\" не получить. Довольно большая доля клиентов, укладывающихся в лимиты тарифа, и среди пользователей \"Смарта\".\n",
    "Стандартное отклонение у \"Смарта\" по данному параметру выше. Видим и на гистограмме, что пользователи \"Смарта\" чаще пользователей \"Ультры\" выходят за лимиты тарифа и приносят оператору дополнительную прибыль."
   ]
  },
  {
   "cell_type": "code",
   "execution_count": 72,
   "metadata": {
    "scrolled": true
   },
   "outputs": [
    {
     "data": {
      "image/png": "[encoded data removed]",
      "text/plain": [
       "<Figure size 432x288 with 1 Axes>"
      ]
     },
     "metadata": {},
     "output_type": "display_data"
    }
   ],
   "source": [
    "double_barplot_creator(tariffs_pivot, 'month', 'above_tariff_profit', 'tariff_name', \n",
    "                       'Месяц', 'Сред. прибыль сверх абонентской платы', \n",
    "                       'Сред. прибыль сверх абонентской платы в зависимости от месяца с разбивкой по тарифу', \n",
    "                       'Тариф')"
   ]
  },
  {
   "cell_type": "markdown",
   "metadata": {},
   "source": [
    "Рассчитанное среднее значение прибыли сверх тарифа у \"Смарта\" в несколько раз больше, чем у \"Ультры\". Это отражается и на гистограмме. Средняя прибыль сверха тарифа у \"Ультры\" совсем невелика, а вот средняя прибыль сверх тарифа у \"Смарта\" даже выше его ежемесячной абонентской платы."
   ]
  },
  {
   "cell_type": "markdown",
   "metadata": {},
   "source": [
    "***Проанализируем общую прибыль по тарифам***"
   ]
  },
  {
   "cell_type": "code",
   "execution_count": 73,
   "metadata": {
    "scrolled": false
   },
   "outputs": [
    {
     "data": {
      "image/png": "[encoded data removed]",
      "text/plain": [
       "<Figure size 432x288 with 1 Axes>"
      ]
     },
     "metadata": {},
     "output_type": "display_data"
    }
   ],
   "source": [
    "double_distplot_creator(smart_users, 'smart', ultra_users, 'ultra', \n",
    "                        'user_profit', \n",
    "                        'Общая прибыль', 4000,\n",
    "                        'Распределение общей прибыли')"
   ]
  },
  {
   "cell_type": "markdown",
   "metadata": {},
   "source": [
    "На гистограмме видим два пика, характеризующих ежемесячную абонентскую плату для каждого тарифа.  \n",
    "Стандартное отклонение у \"Смарта\" в два раза больше, значения шире разбросаны относительно среднего.\n",
    "Среднее значение прибыли по тарифу у \"Смарта\" в два раза больше его ежемесячной абонентской платы, т.е. пользователи данного тарифа не укладываются в установленные лимиты и чаще платят сверх тарифа.  \n",
    "Пользователи дорогой \"Ультры\" чаще всего укладываются в тариф, среднее значение немного превышает ежемесячную абонентскую плату. "
   ]
  },
  {
   "cell_type": "code",
   "execution_count": 74,
   "metadata": {},
   "outputs": [
    {
     "data": {
      "image/png": "[encoded data removed]",
      "text/plain": [
       "<Figure size 432x288 with 1 Axes>"
      ]
     },
     "metadata": {},
     "output_type": "display_data"
    }
   ],
   "source": [
    "double_barplot_creator(tariffs_pivot, 'month', 'user_profit', 'tariff_name', \n",
    "                       'Месяц', 'Сред. общая прибыль с клиента', \n",
    "                       'Сред. общая прибыль с клиента в зависимости от месяца с разбивкой по тарифу', \n",
    "                       'Тариф')"
   ]
  },
  {
   "cell_type": "markdown",
   "metadata": {},
   "source": [
    "Но даже при условии того, что пользователи \"Смарта\" не укладываются в установленные тарифом лимиты и платят сверх тарифа, они тратят почти в два раза меньше, чем пользователи дорогой \"Ультры\". Это отражается и на гистограмме."
   ]
  },
  {
   "cell_type": "markdown",
   "metadata": {},
   "source": [
    "#### Вывод <a class=\"anchor\" id=\"conclusion3\"></a>"
   ]
  },
  {
   "cell_type": "markdown",
   "metadata": {},
   "source": [
    "Пользователи дорого тарифа \"Ультра\" используют большее кол-во минут и смс, а также больший объем интернет-трафика, чем пользователи тарифа \"Смарт\". При этом у них остается огромный запас неиспользованных минут, смс и трафика в месяц. Они редко выходят за пределы установленных тарифом лимитов, мало платят сверх тарифа.  \n",
    "Пользователи тарифа \"Смарт\" используют меньшее кол-во минут и смс, меньший объем интернет-трафика, чаще выходят за установленные тарифом лимиты и платят сверх тарифа сумму равную ежемесячной абонентской плате тарифа. Однако при этом, их общие затраты на связь примерно в два раза ниже общих затрат на связь пользователей тарифа \"Ультра\"."
   ]
  },
  {
   "cell_type": "markdown",
   "metadata": {},
   "source": [
    "### 4. Проверка гипотез <a class=\"anchor\" id=\"point4\"></a>"
   ]
  },
  {
   "cell_type": "markdown",
   "metadata": {},
   "source": [
    "#### Проверка гипотезы: средняя выручка пользователей тарифов «Ультра» и «Смарт» различается  <a class=\"anchor\" id=\"subpoint4_1\"></a>"
   ]
  },
  {
   "cell_type": "markdown",
   "metadata": {},
   "source": [
    "Требуется проверить Гипотезу о равенстве средних двух генеральных совокупностей. Выборки независимы, будем использовать T-тест для средних двух независимых выборок.   \n",
    "\n",
    "Сформулируем гипотезы:  \n",
    "Нулевая гипотеза (H0) - средняя выручка пользователей тарифов «Ультра» и «Смарт» равны.    \n",
    "Альтернативная (H1) -  средняя выручка пользователей тарифов «Ультра» и «Смарт» различается."
   ]
  },
  {
   "cell_type": "markdown",
   "metadata": {},
   "source": [
    "<span style=\"color:blue\"> Определим, с каким значением параметра equal_var проводить проверку гипотезы через T-критерий Стьюдента. Проведем стат.тест Левене: </span>\n"
   ]
  },
  {
   "cell_type": "code",
   "execution_count": 75,
   "metadata": {},
   "outputs": [
    {
     "data": {
      "text/plain": [
       "LeveneResult(statistic=656.5176825854346, pvalue=6.575293412962361e-132)"
      ]
     },
     "execution_count": 75,
     "metadata": {},
     "output_type": "execute_result"
    }
   ],
   "source": [
    "st.levene(smart_users['user_profit'], ultra_users['user_profit'], center='mean')"
   ]
  },
  {
   "cell_type": "markdown",
   "metadata": {},
   "source": [
    "<span style=\"color:blue\"> Полученное значение pvalue крайне малО.  \n",
    "Это означает, вероятность того, что дисперсия выборок одинакова, очень мала.  \n",
    "При проведении проверки гипотезы через T-критерий Стьюдента необходимо использовать значение параметра equal_var = False  </span>"
   ]
  },
  {
   "cell_type": "markdown",
   "metadata": {},
   "source": [
    "Критический уровень статистической значимости зададим 0.05, если p-value окажется меньше него - отвергнем гипотезу H0."
   ]
  },
  {
   "cell_type": "code",
   "execution_count": 76,
   "metadata": {},
   "outputs": [
    {
     "name": "stdout",
     "output_type": "stream",
     "text": [
      "средняя выручка пользователей тарифов «Смарт»:  1233.3494665489009\n",
      "средняя выручка пользователей тарифов «Ультра»:  2060.5299710501267\n",
      "\n",
      "p-значение: 8.931402711368788e-296\n",
      "Отвергаем нулевую гипотезу\n"
     ]
    }
   ],
   "source": [
    "alpha = 0.05\n",
    "results = st.ttest_ind(\n",
    "    smart_users['user_profit'], \n",
    "    ultra_users['user_profit'],\n",
    "    equal_var = False)\n",
    "\n",
    "print('средняя выручка пользователей тарифов «Смарт»: ', smart_users['user_profit'].mean())\n",
    "print('средняя выручка пользователей тарифов «Ультра»: ', ultra_users['user_profit'].mean())\n",
    "print()\n",
    "print('p-значение:', results.pvalue)\n",
    "\n",
    "if (results.pvalue < alpha):\n",
    "    print(\"Отвергаем нулевую гипотезу\")\n",
    "else:\n",
    "    print(\"Не получилось отвергнуть нулевую гипотезу\")"
   ]
  },
  {
   "cell_type": "markdown",
   "metadata": {},
   "source": [
    "Полученное значение p-value говорит о том, что вероятность получить равные средние выручки по исследуемым тарифам слишком мала, можно сделать вывод о значимом различии между средними выручками тарифов «Ультра» и «Смарт».  \n",
    "Как мы наглядно видели в предыдущем разделе, общая прибыль от клиентов \"Ультры\" почти в два раза выше, чем лот клиентов \"Смарта\"."
   ]
  },
  {
   "cell_type": "markdown",
   "metadata": {},
   "source": [
    "#### Проверка гипотезы: средняя выручка пользователей из Москвы отличается от выручки пользователей из других регионов  <a class=\"anchor\" id=\"subpoint4_2\"></a>"
   ]
  },
  {
   "cell_type": "markdown",
   "metadata": {},
   "source": [
    "Требуется проверить Гипотезу о равенстве средних двух генеральных совокупностей. Выборки независимы, будем использовать T-тест для средних двух независимых выборок.   \n",
    "\n",
    "Сформулируем гипотезы:  \n",
    "Нулевая гипотеза (H0) - средняя выручка пользователей из Москвы и пользователей из других регионов равны.    \n",
    "Альтернативная (H1) -  средняя выручка пользователей из Москвы и пользователей из других регионов различается."
   ]
  },
  {
   "cell_type": "markdown",
   "metadata": {},
   "source": [
    "Составим выборки пользователей из Москвы и пользователей из других регионов:"
   ]
  },
  {
   "cell_type": "code",
   "execution_count": 77,
   "metadata": {},
   "outputs": [],
   "source": [
    "moscow_users = users_pivot.query('city == \"Москва\"')\n",
    "regional_users = users_pivot.query('city != \"Москва\"')"
   ]
  },
  {
   "cell_type": "markdown",
   "metadata": {},
   "source": [
    "<span style=\"color:blue\"> Определим, с каким значением параметра equal_var проводить проверку гипотезы через T-критерий Стьюдента. Проведем стат.тест Левене: </span>"
   ]
  },
  {
   "cell_type": "code",
   "execution_count": 78,
   "metadata": {},
   "outputs": [
    {
     "data": {
      "text/plain": [
       "LeveneResult(statistic=3.5667101508047576, pvalue=0.059039017535414746)"
      ]
     },
     "execution_count": 78,
     "metadata": {},
     "output_type": "execute_result"
    }
   ],
   "source": [
    "st.levene(moscow_users['user_profit'], regional_users['user_profit'], center='mean')"
   ]
  },
  {
   "cell_type": "markdown",
   "metadata": {},
   "source": [
    "<span style=\"color:blue\"> Полученное значение pvalue больше заданного по умолчанию уровня значимости = 0,05.  \n",
    "Это означает, вероятность того, что дисперсия выборок одинакова, весьма велика.  \n",
    "При проведении проверки гипотезы через T-критерий Стьюдента необходимо использовать значение параметра equal_var = True (как он задан по умолчанию) </span>"
   ]
  },
  {
   "cell_type": "markdown",
   "metadata": {},
   "source": [
    "Критический уровень статистической значимости зададим 0.05, если p-value окажется меньше него - отвергнем гипотезу H0."
   ]
  },
  {
   "cell_type": "code",
   "execution_count": 79,
   "metadata": {},
   "outputs": [
    {
     "name": "stdout",
     "output_type": "stream",
     "text": [
      "средняя выручка пользователей из Москвы:  1507.276761968085\n",
      "средняя выручка пользователей из других регионов:  1482.0637267996062\n",
      "\n",
      "p-значение: 0.47443187631524797\n",
      "Не получилось отвергнуть нулевую гипотезу\n"
     ]
    }
   ],
   "source": [
    "alpha = 0.05\n",
    "results = st.ttest_ind(\n",
    "    moscow_users['user_profit'], \n",
    "    regional_users['user_profit'])\n",
    "\n",
    "print('средняя выручка пользователей из Москвы: ', moscow_users['user_profit'].mean())\n",
    "print('средняя выручка пользователей из других регионов: ', regional_users['user_profit'].mean())\n",
    "print()\n",
    "print('p-значение:', results.pvalue)\n",
    "\n",
    "if (results.pvalue < alpha):\n",
    "    print(\"Отвергаем нулевую гипотезу\")\n",
    "else:\n",
    "    print(\"Не получилось отвергнуть нулевую гипотезу\")"
   ]
  },
  {
   "cell_type": "markdown",
   "metadata": {},
   "source": [
    "Полученное значение p-value говорит о том, что хотя средняя выручка пользователей из Москвы и пользователей из других регионов и неодинакова, с вероятностью в 47% такое или большее различие можно получить случайно. Это слишком большая вероятность, чтобы делать вывод о значимом различии между средняя выручками пользователей из Москвы и пользователей из других регионов."
   ]
  },
  {
   "cell_type": "markdown",
   "metadata": {},
   "source": [
    "#### Вывод <a class=\"anchor\" id=\"conclusion4\"></a>"
   ]
  },
  {
   "cell_type": "markdown",
   "metadata": {},
   "source": [
    "Исходя из проверенных гипотез, можно сделать вывод, что с большей вероятностью прибыль от клиентов \"Смарта\" и \"Ультры\" отличается, а регион нахождения абонента не влияет на объем прибыли оператора."
   ]
  },
  {
   "cell_type": "markdown",
   "metadata": {},
   "source": [
    "### 5. Общий вывод <a class=\"anchor\" id=\"point5\"></a>"
   ]
  },
  {
   "cell_type": "markdown",
   "metadata": {},
   "source": [
    "Пользователи тарифа \"Смарт\" приносят больше прибыли сверх ежемесячной абоненстской платы; прибыль сверх абонентской платы примерно равна ежемесячной абонентской плате.  \n",
    "Но средняя общая прибыль больше от пользователей тарифа \"Ультра\", примерно в 2 раза. При этом доля клиентов, использующих тариф \"Ультра\" в два с лишним раза ниже, чем использующих тариф \"Смарт\". Для увеличения прибыли оператору стоит наращивать долю клиентов, использующих тариф \"Ультра\".  \n",
    "Регион нахождения абонента не влияет на объем прибыли, получаемый с пользователя."
   ]
  }
 ],
 "metadata": {
  "ExecuteTimeLog": [
   {
    "duration": 1564,
    "start_time": "2022-03-24T10:31:54.248Z"
   },
   {
    "duration": 100,
    "start_time": "2022-03-24T10:31:55.815Z"
   },
   {
    "duration": 479,
    "start_time": "2022-03-24T10:31:55.917Z"
   },
   {
    "duration": 4,
    "start_time": "2022-03-24T10:31:56.399Z"
   },
   {
    "duration": 580,
    "start_time": "2022-03-24T10:31:56.405Z"
   },
   {
    "duration": 20,
    "start_time": "2022-03-24T10:31:56.987Z"
   },
   {
    "duration": 16,
    "start_time": "2022-03-24T10:31:57.010Z"
   },
   {
    "duration": 19,
    "start_time": "2022-03-24T10:31:57.029Z"
   },
   {
    "duration": 15,
    "start_time": "2022-03-24T10:31:57.050Z"
   },
   {
    "duration": 16,
    "start_time": "2022-03-24T10:31:57.081Z"
   },
   {
    "duration": 131,
    "start_time": "2022-03-24T10:31:57.099Z"
   },
   {
    "duration": 17022,
    "start_time": "2022-03-24T10:31:57.232Z"
   },
   {
    "duration": 5,
    "start_time": "2022-03-24T10:32:14.257Z"
   },
   {
    "duration": 32,
    "start_time": "2022-03-24T10:32:14.264Z"
   },
   {
    "duration": 12,
    "start_time": "2022-03-24T10:32:14.299Z"
   },
   {
    "duration": 98,
    "start_time": "2022-03-24T10:32:14.313Z"
   },
   {
    "duration": 56,
    "start_time": "2022-03-24T10:32:14.413Z"
   },
   {
    "duration": 6,
    "start_time": "2022-03-24T10:32:14.483Z"
   },
   {
    "duration": 20,
    "start_time": "2022-03-24T10:32:14.491Z"
   },
   {
    "duration": 18,
    "start_time": "2022-03-24T10:32:14.513Z"
   },
   {
    "duration": 67,
    "start_time": "2022-03-24T10:32:14.534Z"
   },
   {
    "duration": 15,
    "start_time": "2022-03-24T10:32:14.603Z"
   },
   {
    "duration": 100,
    "start_time": "2022-03-24T10:32:14.620Z"
   },
   {
    "duration": 4,
    "start_time": "2022-03-24T10:32:14.722Z"
   },
   {
    "duration": 21,
    "start_time": "2022-03-24T10:32:14.728Z"
   },
   {
    "duration": 41,
    "start_time": "2022-03-24T10:32:14.752Z"
   },
   {
    "duration": 12,
    "start_time": "2022-03-24T10:32:14.795Z"
   },
   {
    "duration": 27,
    "start_time": "2022-03-24T10:32:14.813Z"
   },
   {
    "duration": 4,
    "start_time": "2022-03-24T10:32:14.843Z"
   },
   {
    "duration": 44,
    "start_time": "2022-03-24T10:32:14.849Z"
   },
   {
    "duration": 26,
    "start_time": "2022-03-24T10:32:14.895Z"
   },
   {
    "duration": 15,
    "start_time": "2022-03-24T10:32:14.923Z"
   },
   {
    "duration": 59,
    "start_time": "2022-03-24T10:32:14.940Z"
   },
   {
    "duration": 4,
    "start_time": "2022-03-24T10:32:15.002Z"
   },
   {
    "duration": 35,
    "start_time": "2022-03-24T10:32:15.009Z"
   },
   {
    "duration": 20,
    "start_time": "2022-03-24T10:32:15.046Z"
   },
   {
    "duration": 29,
    "start_time": "2022-03-24T10:32:15.069Z"
   },
   {
    "duration": 8,
    "start_time": "2022-03-24T10:32:15.100Z"
   },
   {
    "duration": 13,
    "start_time": "2022-03-24T10:32:15.110Z"
   },
   {
    "duration": 12,
    "start_time": "2022-03-24T10:32:15.126Z"
   },
   {
    "duration": 64,
    "start_time": "2022-03-24T10:32:15.140Z"
   },
   {
    "duration": 5,
    "start_time": "2022-03-24T10:32:15.207Z"
   },
   {
    "duration": 17,
    "start_time": "2022-03-24T10:32:15.215Z"
   },
   {
    "duration": 48,
    "start_time": "2022-03-24T10:32:15.235Z"
   },
   {
    "duration": 7,
    "start_time": "2022-03-24T10:32:15.286Z"
   },
   {
    "duration": 180,
    "start_time": "2022-03-24T10:32:15.296Z"
   },
   {
    "duration": 26,
    "start_time": "2022-03-24T10:32:15.479Z"
   },
   {
    "duration": 16,
    "start_time": "2022-03-24T10:32:15.508Z"
   },
   {
    "duration": 36,
    "start_time": "2022-03-24T10:32:15.527Z"
   },
   {
    "duration": 14,
    "start_time": "2022-03-24T10:32:15.582Z"
   },
   {
    "duration": 13,
    "start_time": "2022-03-24T10:32:15.598Z"
   },
   {
    "duration": 22,
    "start_time": "2022-03-24T10:32:15.614Z"
   },
   {
    "duration": 46,
    "start_time": "2022-03-24T10:32:15.638Z"
   },
   {
    "duration": 22,
    "start_time": "2022-03-24T10:32:15.686Z"
   },
   {
    "duration": 22,
    "start_time": "2022-03-24T10:32:15.710Z"
   },
   {
    "duration": 20,
    "start_time": "2022-03-24T10:32:15.734Z"
   },
   {
    "duration": 40,
    "start_time": "2022-03-24T10:32:15.756Z"
   },
   {
    "duration": 7,
    "start_time": "2022-03-24T10:32:15.799Z"
   },
   {
    "duration": 30,
    "start_time": "2022-03-24T10:32:15.809Z"
   },
   {
    "duration": 12,
    "start_time": "2022-03-24T10:32:15.842Z"
   },
   {
    "duration": 27,
    "start_time": "2022-03-24T10:32:15.857Z"
   },
   {
    "duration": 8,
    "start_time": "2022-03-24T10:32:15.886Z"
   },
   {
    "duration": 573,
    "start_time": "2022-03-24T10:32:15.896Z"
   },
   {
    "duration": 511,
    "start_time": "2022-03-24T10:32:16.471Z"
   },
   {
    "duration": 535,
    "start_time": "2022-03-24T10:32:16.984Z"
   },
   {
    "duration": 566,
    "start_time": "2022-03-24T10:32:17.523Z"
   },
   {
    "duration": 448,
    "start_time": "2022-03-24T10:32:18.093Z"
   },
   {
    "duration": 443,
    "start_time": "2022-03-24T10:32:18.543Z"
   },
   {
    "duration": 494,
    "start_time": "2022-03-24T10:32:18.988Z"
   },
   {
    "duration": 486,
    "start_time": "2022-03-24T10:32:19.484Z"
   },
   {
    "duration": 500,
    "start_time": "2022-03-24T10:32:19.973Z"
   },
   {
    "duration": 451,
    "start_time": "2022-03-24T10:32:20.482Z"
   },
   {
    "duration": 632,
    "start_time": "2022-03-24T10:32:20.936Z"
   },
   {
    "duration": 522,
    "start_time": "2022-03-24T10:32:21.570Z"
   },
   {
    "duration": 8,
    "start_time": "2022-03-24T10:32:22.094Z"
   },
   {
    "duration": 18,
    "start_time": "2022-03-24T10:32:22.105Z"
   },
   {
    "duration": 47,
    "start_time": "2022-03-24T10:32:22.126Z"
   },
   {
    "duration": 30,
    "start_time": "2022-03-24T10:32:22.175Z"
   },
   {
    "duration": 23,
    "start_time": "2022-03-24T10:32:22.207Z"
   },
   {
    "duration": 808,
    "start_time": "2022-03-24T10:33:37.097Z"
   }
  ],
  "kernelspec": {
   "display_name": "Python 3 (ipykernel)",
   "language": "python",
   "name": "python3"
  },
  "language_info": {
   "codemirror_mode": {
    "name": "ipython",
    "version": 3
   },
   "file_extension": ".py",
   "mimetype": "text/x-python",
   "name": "python",
   "nbconvert_exporter": "python",
   "pygments_lexer": "ipython3",
   "version": "3.9.5"
  },
  "toc": {
   "base_numbering": 1,
   "nav_menu": {},
   "number_sections": true,
   "sideBar": true,
   "skip_h1_title": false,
   "title_cell": "Table of Contents",
   "title_sidebar": "Contents",
   "toc_cell": false,
   "toc_position": {},
   "toc_section_display": true,
   "toc_window_display": false
  }
 },
 "nbformat": 4,
 "nbformat_minor": 2
}
