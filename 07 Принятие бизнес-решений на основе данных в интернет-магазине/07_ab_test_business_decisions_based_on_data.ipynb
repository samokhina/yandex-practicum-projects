{
 "cells": [
  {
   "cell_type": "markdown",
   "metadata": {},
   "source": [
    "# Принятие бизнес-решений на основе данных в интернет-магазине"
   ]
  },
  {
   "cell_type": "markdown",
   "metadata": {},
   "source": [
    "`Заказчик`: отдел маркетинга крупного интернет-магазина.  \n",
    "\n",
    "`Входные данные`: 1) подготовленный с отделом маркетинга список гипотез для увеличения выручки с указанными параметрами Reach, Impact, Confidence, Effort. 2) результаты проведенного A/B-теста в виде данных о визитах и заказах.  \n",
    "\n",
    "`Задачи`: 1) Приоритизировать гипотезы; 2) запустить A/B-тест и проанализировать его результаты"
   ]
  },
  {
   "cell_type": "markdown",
   "metadata": {
    "toc": true
   },
   "source": [
    "<h1>Table of Contents<span class=\"tocSkip\"></span></h1>\n",
    "<div class=\"toc\"><ul class=\"toc-item\"><li><span><a href=\"#Приоритизация-гипотез\" data-toc-modified-id=\"Приоритизация-гипотез-1\"><span class=\"toc-item-num\">1&nbsp;&nbsp;</span>Приоритизация гипотез</a></span></li><li><span><a href=\"#Анализ-A/B-теста\" data-toc-modified-id=\"Анализ-A/B-теста-2\"><span class=\"toc-item-num\">2&nbsp;&nbsp;</span>Анализ A/B-теста</a></span><ul class=\"toc-item\"><li><span><a href=\"#Графики-кумулятивной-выручки\" data-toc-modified-id=\"Графики-кумулятивной-выручки-2.1\"><span class=\"toc-item-num\">2.1&nbsp;&nbsp;</span>Графики кумулятивной выручки</a></span></li><li><span><a href=\"#График-кумулятивного-среднего-чека-по-группам\" data-toc-modified-id=\"График-кумулятивного-среднего-чека-по-группам-2.2\"><span class=\"toc-item-num\">2.2&nbsp;&nbsp;</span>График кумулятивного среднего чека по группам</a></span></li><li><span><a href=\"#График-относительного-изменения-кумулятивного-среднего-чека-группы-B-к-группе-A\" data-toc-modified-id=\"График-относительного-изменения-кумулятивного-среднего-чека-группы-B-к-группе-A-2.3\"><span class=\"toc-item-num\">2.3&nbsp;&nbsp;</span>График относительного изменения кумулятивного среднего чека группы B к группе A</a></span></li><li><span><a href=\"#График-кумулятивной-конверсии-по-группам\" data-toc-modified-id=\"График-кумулятивной-конверсии-по-группам-2.4\"><span class=\"toc-item-num\">2.4&nbsp;&nbsp;</span>График кумулятивной конверсии по группам</a></span></li><li><span><a href=\"#График-относительного-изменения-кумулятивной-конверсии-группы-B-к-группе-A\" data-toc-modified-id=\"График-относительного-изменения-кумулятивной-конверсии-группы-B-к-группе-A-2.5\"><span class=\"toc-item-num\">2.5&nbsp;&nbsp;</span>График относительного изменения кумулятивной конверсии группы B к группе A</a></span></li><li><span><a href=\"#Выявление-аномалий,-анализ-выбросов\" data-toc-modified-id=\"Выявление-аномалий,-анализ-выбросов-2.6\"><span class=\"toc-item-num\">2.6&nbsp;&nbsp;</span>Выявление аномалий, анализ выбросов</a></span></li><li><span><a href=\"#Расчет-статистической-значимости-различий-в-конверсии-между-группами-по-«сырым»-данным\" data-toc-modified-id=\"Расчет-статистической-значимости-различий-в-конверсии-между-группами-по-«сырым»-данным-2.7\"><span class=\"toc-item-num\">2.7&nbsp;&nbsp;</span>Расчет статистической значимости различий в конверсии между группами по «сырым» данным</a></span></li><li><span><a href=\"#Расчет-статистической-значимости-различий-в-среднем-чеке-заказа-между-группами-по-«сырым»-данным\" data-toc-modified-id=\"Расчет-статистической-значимости-различий-в-среднем-чеке-заказа-между-группами-по-«сырым»-данным-2.8\"><span class=\"toc-item-num\">2.8&nbsp;&nbsp;</span>Расчет статистической значимости различий в среднем чеке заказа между группами по «сырым» данным</a></span></li><li><span><a href=\"#Расчет-статистической-значимости-различий-в-конверсии-между-группами-по-«очищенным»-данным\" data-toc-modified-id=\"Расчет-статистической-значимости-различий-в-конверсии-между-группами-по-«очищенным»-данным-2.9\"><span class=\"toc-item-num\">2.9&nbsp;&nbsp;</span>Расчет статистической значимости различий в конверсии между группами по «очищенным» данным</a></span></li><li><span><a href=\"#Расчет-статистической-значимости-различий-в-среднем-чеке-заказа-между-группами-по-«очищенным»-данным\" data-toc-modified-id=\"Расчет-статистической-значимости-различий-в-среднем-чеке-заказа-между-группами-по-«очищенным»-данным-2.10\"><span class=\"toc-item-num\">2.10&nbsp;&nbsp;</span>Расчет статистической значимости различий в среднем чеке заказа между группами по «очищенным» данным</a></span></li><li><span><a href=\"#Результаты-A/B-теста\" data-toc-modified-id=\"Результаты-A/B-теста-2.11\"><span class=\"toc-item-num\">2.11&nbsp;&nbsp;</span>Результаты A/B-теста</a></span></li></ul></li></ul></div>"
   ]
  },
  {
   "cell_type": "markdown",
   "metadata": {},
   "source": [
    "## Приоритизация гипотез"
   ]
  },
  {
   "cell_type": "code",
   "execution_count": 1,
   "metadata": {},
   "outputs": [],
   "source": [
    "import pandas as pd\n",
    "import matplotlib.pyplot as plt\n",
    "import numpy as np\n",
    "from scipy import stats as st\n",
    "import math as mth\n",
    "import datetime as dt\n",
    "%matplotlib inline\n",
    "import seaborn as sns\n",
    "sns.set()"
   ]
  },
  {
   "cell_type": "markdown",
   "metadata": {},
   "source": [
    "Уберем прокрутку вывода результатов ячейки"
   ]
  },
  {
   "cell_type": "code",
   "execution_count": 2,
   "metadata": {},
   "outputs": [
    {
     "data": {
      "application/javascript": [
       "IPython.OutputArea.prototype._should_scroll = function(lines) {\n",
       "    return false;\n",
       "}\n"
      ],
      "text/plain": [
       "<IPython.core.display.Javascript object>"
      ]
     },
     "metadata": {},
     "output_type": "display_data"
    }
   ],
   "source": [
    "%%javascript\n",
    "IPython.OutputArea.prototype._should_scroll = function(lines) {\n",
    "    return false;\n",
    "}"
   ]
  },
  {
   "cell_type": "markdown",
   "metadata": {},
   "source": [
    "Рассмотрим датасет с гипотезами по увеличению выручки интернет-магазина с указанными параметрами Reach, Impact, Confidence, Effort."
   ]
  },
  {
   "cell_type": "code",
   "execution_count": 4,
   "metadata": {
    "scrolled": true
   },
   "outputs": [
    {
     "name": "stdout",
     "output_type": "stream",
     "text": [
      "<class 'pandas.core.frame.DataFrame'>\n",
      "RangeIndex: 9 entries, 0 to 8\n",
      "Data columns (total 5 columns):\n",
      "Hypothesis    9 non-null object\n",
      "Reach         9 non-null int64\n",
      "Impact        9 non-null int64\n",
      "Confidence    9 non-null int64\n",
      "Efforts       9 non-null int64\n",
      "dtypes: int64(4), object(1)\n",
      "memory usage: 488.0+ bytes\n"
     ]
    }
   ],
   "source": [
    "hypothesis.info()"
   ]
  },
  {
   "cell_type": "code",
   "execution_count": 5,
   "metadata": {
    "scrolled": false
   },
   "outputs": [
    {
     "data": {
      "text/html": [
       "<div>\n",
       "<style scoped>\n",
       "    .dataframe tbody tr th:only-of-type {\n",
       "        vertical-align: middle;\n",
       "    }\n",
       "\n",
       "    .dataframe tbody tr th {\n",
       "        vertical-align: top;\n",
       "    }\n",
       "\n",
       "    .dataframe thead th {\n",
       "        text-align: right;\n",
       "    }\n",
       "</style>\n",
       "<table border=\"1\" class=\"dataframe\">\n",
       "  <thead>\n",
       "    <tr style=\"text-align: right;\">\n",
       "      <th></th>\n",
       "      <th>Hypothesis</th>\n",
       "      <th>Reach</th>\n",
       "      <th>Impact</th>\n",
       "      <th>Confidence</th>\n",
       "      <th>Efforts</th>\n",
       "    </tr>\n",
       "  </thead>\n",
       "  <tbody>\n",
       "    <tr>\n",
       "      <td>0</td>\n",
       "      <td>Добавить два новых канала привлечения трафика, что позволит привлекать на 30% больше пользователей</td>\n",
       "      <td>3</td>\n",
       "      <td>10</td>\n",
       "      <td>8</td>\n",
       "      <td>6</td>\n",
       "    </tr>\n",
       "    <tr>\n",
       "      <td>1</td>\n",
       "      <td>Запустить собственную службу доставки, что сократит срок доставки заказов</td>\n",
       "      <td>2</td>\n",
       "      <td>5</td>\n",
       "      <td>4</td>\n",
       "      <td>10</td>\n",
       "    </tr>\n",
       "    <tr>\n",
       "      <td>2</td>\n",
       "      <td>Добавить блоки рекомендаций товаров на сайт интернет магазина, чтобы повысить конверсию и средний чек заказа</td>\n",
       "      <td>8</td>\n",
       "      <td>3</td>\n",
       "      <td>7</td>\n",
       "      <td>3</td>\n",
       "    </tr>\n",
       "    <tr>\n",
       "      <td>3</td>\n",
       "      <td>Изменить структура категорий, что увеличит конверсию, т.к. пользователи быстрее найдут нужный товар</td>\n",
       "      <td>8</td>\n",
       "      <td>3</td>\n",
       "      <td>3</td>\n",
       "      <td>8</td>\n",
       "    </tr>\n",
       "    <tr>\n",
       "      <td>4</td>\n",
       "      <td>Изменить цвет фона главной страницы, чтобы увеличить вовлеченность пользователей</td>\n",
       "      <td>3</td>\n",
       "      <td>1</td>\n",
       "      <td>1</td>\n",
       "      <td>1</td>\n",
       "    </tr>\n",
       "    <tr>\n",
       "      <td>5</td>\n",
       "      <td>Добавить страницу отзывов клиентов о магазине, что позволит увеличить количество заказов</td>\n",
       "      <td>3</td>\n",
       "      <td>2</td>\n",
       "      <td>2</td>\n",
       "      <td>3</td>\n",
       "    </tr>\n",
       "    <tr>\n",
       "      <td>6</td>\n",
       "      <td>Показать на главной странице баннеры с актуальными акциями и распродажами, чтобы увеличить конверсию</td>\n",
       "      <td>5</td>\n",
       "      <td>3</td>\n",
       "      <td>8</td>\n",
       "      <td>3</td>\n",
       "    </tr>\n",
       "    <tr>\n",
       "      <td>7</td>\n",
       "      <td>Добавить форму подписки на все основные страницы, чтобы собрать базу клиентов для email-рассылок</td>\n",
       "      <td>10</td>\n",
       "      <td>7</td>\n",
       "      <td>8</td>\n",
       "      <td>5</td>\n",
       "    </tr>\n",
       "    <tr>\n",
       "      <td>8</td>\n",
       "      <td>Запустить акцию, дающую скидку на товар в день рождения</td>\n",
       "      <td>1</td>\n",
       "      <td>9</td>\n",
       "      <td>9</td>\n",
       "      <td>5</td>\n",
       "    </tr>\n",
       "  </tbody>\n",
       "</table>\n",
       "</div>"
      ],
      "text/plain": [
       "                                                                                                     Hypothesis  \\\n",
       "0            Добавить два новых канала привлечения трафика, что позволит привлекать на 30% больше пользователей   \n",
       "1                                     Запустить собственную службу доставки, что сократит срок доставки заказов   \n",
       "2  Добавить блоки рекомендаций товаров на сайт интернет магазина, чтобы повысить конверсию и средний чек заказа   \n",
       "3           Изменить структура категорий, что увеличит конверсию, т.к. пользователи быстрее найдут нужный товар   \n",
       "4                              Изменить цвет фона главной страницы, чтобы увеличить вовлеченность пользователей   \n",
       "5                      Добавить страницу отзывов клиентов о магазине, что позволит увеличить количество заказов   \n",
       "6          Показать на главной странице баннеры с актуальными акциями и распродажами, чтобы увеличить конверсию   \n",
       "7              Добавить форму подписки на все основные страницы, чтобы собрать базу клиентов для email-рассылок   \n",
       "8                                                       Запустить акцию, дающую скидку на товар в день рождения   \n",
       "\n",
       "   Reach  Impact  Confidence  Efforts  \n",
       "0      3      10           8        6  \n",
       "1      2       5           4       10  \n",
       "2      8       3           7        3  \n",
       "3      8       3           3        8  \n",
       "4      3       1           1        1  \n",
       "5      3       2           2        3  \n",
       "6      5       3           8        3  \n",
       "7     10       7           8        5  \n",
       "8      1       9           9        5  "
      ]
     },
     "execution_count": 5,
     "metadata": {},
     "output_type": "execute_result"
    }
   ],
   "source": [
    "pd.set_option(\"max_colwidth\", 120)\n",
    "hypothesis"
   ]
  },
  {
   "cell_type": "markdown",
   "metadata": {},
   "source": [
    "Видим 9 гипотез с оценками параметров. Оценка параметров произведена по 10-балльной шкале."
   ]
  },
  {
   "cell_type": "code",
   "execution_count": 6,
   "metadata": {},
   "outputs": [],
   "source": [
    "hypothesis.columns = hypothesis.columns.str.lower()"
   ]
  },
  {
   "cell_type": "markdown",
   "metadata": {},
   "source": [
    "\n",
    "\n",
    "**Приоритизация гипотез посредством фреймворка ICE**  \n",
    "\n",
    "Применим фреймворк ICE для приоритизации гипотез и отсортируем их по убыванию приоритета.  \n",
    "\n",
    "$$ICE = \\frac{Impact * Confidence}{Efforts}$$"
   ]
  },
  {
   "cell_type": "code",
   "execution_count": 7,
   "metadata": {},
   "outputs": [
    {
     "data": {
      "text/html": [
       "<div>\n",
       "<style scoped>\n",
       "    .dataframe tbody tr th:only-of-type {\n",
       "        vertical-align: middle;\n",
       "    }\n",
       "\n",
       "    .dataframe tbody tr th {\n",
       "        vertical-align: top;\n",
       "    }\n",
       "\n",
       "    .dataframe thead th {\n",
       "        text-align: right;\n",
       "    }\n",
       "</style>\n",
       "<table border=\"1\" class=\"dataframe\">\n",
       "  <thead>\n",
       "    <tr style=\"text-align: right;\">\n",
       "      <th></th>\n",
       "      <th>hypothesis</th>\n",
       "      <th>ICE</th>\n",
       "    </tr>\n",
       "  </thead>\n",
       "  <tbody>\n",
       "    <tr>\n",
       "      <td>8</td>\n",
       "      <td>Запустить акцию, дающую скидку на товар в день рождения</td>\n",
       "      <td>16.200000</td>\n",
       "    </tr>\n",
       "    <tr>\n",
       "      <td>0</td>\n",
       "      <td>Добавить два новых канала привлечения трафика, что позволит привлекать на 30% больше пользователей</td>\n",
       "      <td>13.333333</td>\n",
       "    </tr>\n",
       "    <tr>\n",
       "      <td>7</td>\n",
       "      <td>Добавить форму подписки на все основные страницы, чтобы собрать базу клиентов для email-рассылок</td>\n",
       "      <td>11.200000</td>\n",
       "    </tr>\n",
       "    <tr>\n",
       "      <td>6</td>\n",
       "      <td>Показать на главной странице баннеры с актуальными акциями и распродажами, чтобы увеличить конверсию</td>\n",
       "      <td>8.000000</td>\n",
       "    </tr>\n",
       "    <tr>\n",
       "      <td>2</td>\n",
       "      <td>Добавить блоки рекомендаций товаров на сайт интернет магазина, чтобы повысить конверсию и средний чек заказа</td>\n",
       "      <td>7.000000</td>\n",
       "    </tr>\n",
       "    <tr>\n",
       "      <td>1</td>\n",
       "      <td>Запустить собственную службу доставки, что сократит срок доставки заказов</td>\n",
       "      <td>2.000000</td>\n",
       "    </tr>\n",
       "    <tr>\n",
       "      <td>5</td>\n",
       "      <td>Добавить страницу отзывов клиентов о магазине, что позволит увеличить количество заказов</td>\n",
       "      <td>1.333333</td>\n",
       "    </tr>\n",
       "    <tr>\n",
       "      <td>3</td>\n",
       "      <td>Изменить структура категорий, что увеличит конверсию, т.к. пользователи быстрее найдут нужный товар</td>\n",
       "      <td>1.125000</td>\n",
       "    </tr>\n",
       "    <tr>\n",
       "      <td>4</td>\n",
       "      <td>Изменить цвет фона главной страницы, чтобы увеличить вовлеченность пользователей</td>\n",
       "      <td>1.000000</td>\n",
       "    </tr>\n",
       "  </tbody>\n",
       "</table>\n",
       "</div>"
      ],
      "text/plain": [
       "                                                                                                     hypothesis  \\\n",
       "8                                                       Запустить акцию, дающую скидку на товар в день рождения   \n",
       "0            Добавить два новых канала привлечения трафика, что позволит привлекать на 30% больше пользователей   \n",
       "7              Добавить форму подписки на все основные страницы, чтобы собрать базу клиентов для email-рассылок   \n",
       "6          Показать на главной странице баннеры с актуальными акциями и распродажами, чтобы увеличить конверсию   \n",
       "2  Добавить блоки рекомендаций товаров на сайт интернет магазина, чтобы повысить конверсию и средний чек заказа   \n",
       "1                                     Запустить собственную службу доставки, что сократит срок доставки заказов   \n",
       "5                      Добавить страницу отзывов клиентов о магазине, что позволит увеличить количество заказов   \n",
       "3           Изменить структура категорий, что увеличит конверсию, т.к. пользователи быстрее найдут нужный товар   \n",
       "4                              Изменить цвет фона главной страницы, чтобы увеличить вовлеченность пользователей   \n",
       "\n",
       "         ICE  \n",
       "8  16.200000  \n",
       "0  13.333333  \n",
       "7  11.200000  \n",
       "6   8.000000  \n",
       "2   7.000000  \n",
       "1   2.000000  \n",
       "5   1.333333  \n",
       "3   1.125000  \n",
       "4   1.000000  "
      ]
     },
     "execution_count": 7,
     "metadata": {},
     "output_type": "execute_result"
    }
   ],
   "source": [
    "hypothesis['ICE'] = hypothesis['impact'] * hypothesis['confidence'] / hypothesis['efforts']\n",
    "hypothesis[['hypothesis', 'ICE']].sort_values(by='ICE', ascending=False)"
   ]
  },
  {
   "cell_type": "markdown",
   "metadata": {},
   "source": [
    "Гипотеза №8 — самая перспективная. Затем идут гипотезы 0, 7 и 6.  \n",
    "\n",
    "Посмотрим, в какой приоритетности расположатся гипотезы при применении фреймворка RICE.  \n",
    "\n",
    "**Приоритизация гипотез посредством фреймворка RICE**  \n",
    "  \n",
    "  \n",
    "$$RICE = \\frac{Rearch * Impact * Confidence}{Efforts}$$  \n",
    "  \n"
   ]
  },
  {
   "cell_type": "code",
   "execution_count": 8,
   "metadata": {
    "scrolled": false
   },
   "outputs": [
    {
     "data": {
      "text/html": [
       "<div>\n",
       "<style scoped>\n",
       "    .dataframe tbody tr th:only-of-type {\n",
       "        vertical-align: middle;\n",
       "    }\n",
       "\n",
       "    .dataframe tbody tr th {\n",
       "        vertical-align: top;\n",
       "    }\n",
       "\n",
       "    .dataframe thead th {\n",
       "        text-align: right;\n",
       "    }\n",
       "</style>\n",
       "<table border=\"1\" class=\"dataframe\">\n",
       "  <thead>\n",
       "    <tr style=\"text-align: right;\">\n",
       "      <th></th>\n",
       "      <th>hypothesis</th>\n",
       "      <th>RICE</th>\n",
       "    </tr>\n",
       "  </thead>\n",
       "  <tbody>\n",
       "    <tr>\n",
       "      <td>7</td>\n",
       "      <td>Добавить форму подписки на все основные страницы, чтобы собрать базу клиентов для email-рассылок</td>\n",
       "      <td>112.0</td>\n",
       "    </tr>\n",
       "    <tr>\n",
       "      <td>2</td>\n",
       "      <td>Добавить блоки рекомендаций товаров на сайт интернет магазина, чтобы повысить конверсию и средний чек заказа</td>\n",
       "      <td>56.0</td>\n",
       "    </tr>\n",
       "    <tr>\n",
       "      <td>0</td>\n",
       "      <td>Добавить два новых канала привлечения трафика, что позволит привлекать на 30% больше пользователей</td>\n",
       "      <td>40.0</td>\n",
       "    </tr>\n",
       "    <tr>\n",
       "      <td>6</td>\n",
       "      <td>Показать на главной странице баннеры с актуальными акциями и распродажами, чтобы увеличить конверсию</td>\n",
       "      <td>40.0</td>\n",
       "    </tr>\n",
       "    <tr>\n",
       "      <td>8</td>\n",
       "      <td>Запустить акцию, дающую скидку на товар в день рождения</td>\n",
       "      <td>16.2</td>\n",
       "    </tr>\n",
       "    <tr>\n",
       "      <td>3</td>\n",
       "      <td>Изменить структура категорий, что увеличит конверсию, т.к. пользователи быстрее найдут нужный товар</td>\n",
       "      <td>9.0</td>\n",
       "    </tr>\n",
       "    <tr>\n",
       "      <td>1</td>\n",
       "      <td>Запустить собственную службу доставки, что сократит срок доставки заказов</td>\n",
       "      <td>4.0</td>\n",
       "    </tr>\n",
       "    <tr>\n",
       "      <td>5</td>\n",
       "      <td>Добавить страницу отзывов клиентов о магазине, что позволит увеличить количество заказов</td>\n",
       "      <td>4.0</td>\n",
       "    </tr>\n",
       "    <tr>\n",
       "      <td>4</td>\n",
       "      <td>Изменить цвет фона главной страницы, чтобы увеличить вовлеченность пользователей</td>\n",
       "      <td>3.0</td>\n",
       "    </tr>\n",
       "  </tbody>\n",
       "</table>\n",
       "</div>"
      ],
      "text/plain": [
       "                                                                                                     hypothesis  \\\n",
       "7              Добавить форму подписки на все основные страницы, чтобы собрать базу клиентов для email-рассылок   \n",
       "2  Добавить блоки рекомендаций товаров на сайт интернет магазина, чтобы повысить конверсию и средний чек заказа   \n",
       "0            Добавить два новых канала привлечения трафика, что позволит привлекать на 30% больше пользователей   \n",
       "6          Показать на главной странице баннеры с актуальными акциями и распродажами, чтобы увеличить конверсию   \n",
       "8                                                       Запустить акцию, дающую скидку на товар в день рождения   \n",
       "3           Изменить структура категорий, что увеличит конверсию, т.к. пользователи быстрее найдут нужный товар   \n",
       "1                                     Запустить собственную службу доставки, что сократит срок доставки заказов   \n",
       "5                      Добавить страницу отзывов клиентов о магазине, что позволит увеличить количество заказов   \n",
       "4                              Изменить цвет фона главной страницы, чтобы увеличить вовлеченность пользователей   \n",
       "\n",
       "    RICE  \n",
       "7  112.0  \n",
       "2   56.0  \n",
       "0   40.0  \n",
       "6   40.0  \n",
       "8   16.2  \n",
       "3    9.0  \n",
       "1    4.0  \n",
       "5    4.0  \n",
       "4    3.0  "
      ]
     },
     "execution_count": 8,
     "metadata": {},
     "output_type": "execute_result"
    }
   ],
   "source": [
    "hypothesis['RICE'] = hypothesis['reach'] * hypothesis['impact'] * hypothesis['confidence'] / hypothesis['efforts']\n",
    "hypothesis[['hypothesis', 'RICE']].sort_values(by='RICE', ascending=False)"
   ]
  },
  {
   "cell_type": "code",
   "execution_count": 9,
   "metadata": {
    "scrolled": false
   },
   "outputs": [
    {
     "data": {
      "text/html": [
       "<div>\n",
       "<style scoped>\n",
       "    .dataframe tbody tr th:only-of-type {\n",
       "        vertical-align: middle;\n",
       "    }\n",
       "\n",
       "    .dataframe tbody tr th {\n",
       "        vertical-align: top;\n",
       "    }\n",
       "\n",
       "    .dataframe thead th {\n",
       "        text-align: right;\n",
       "    }\n",
       "</style>\n",
       "<table border=\"1\" class=\"dataframe\">\n",
       "  <thead>\n",
       "    <tr style=\"text-align: right;\">\n",
       "      <th></th>\n",
       "      <th>hypothesis</th>\n",
       "      <th>ICE</th>\n",
       "      <th>RICE</th>\n",
       "    </tr>\n",
       "  </thead>\n",
       "  <tbody>\n",
       "    <tr>\n",
       "      <td>8</td>\n",
       "      <td>Запустить акцию, дающую скидку на товар в день рождения</td>\n",
       "      <td>16.200000</td>\n",
       "      <td>16.2</td>\n",
       "    </tr>\n",
       "    <tr>\n",
       "      <td>0</td>\n",
       "      <td>Добавить два новых канала привлечения трафика, что позволит привлекать на 30% больше пользователей</td>\n",
       "      <td>13.333333</td>\n",
       "      <td>40.0</td>\n",
       "    </tr>\n",
       "    <tr>\n",
       "      <td>7</td>\n",
       "      <td>Добавить форму подписки на все основные страницы, чтобы собрать базу клиентов для email-рассылок</td>\n",
       "      <td>11.200000</td>\n",
       "      <td>112.0</td>\n",
       "    </tr>\n",
       "    <tr>\n",
       "      <td>6</td>\n",
       "      <td>Показать на главной странице баннеры с актуальными акциями и распродажами, чтобы увеличить конверсию</td>\n",
       "      <td>8.000000</td>\n",
       "      <td>40.0</td>\n",
       "    </tr>\n",
       "    <tr>\n",
       "      <td>2</td>\n",
       "      <td>Добавить блоки рекомендаций товаров на сайт интернет магазина, чтобы повысить конверсию и средний чек заказа</td>\n",
       "      <td>7.000000</td>\n",
       "      <td>56.0</td>\n",
       "    </tr>\n",
       "    <tr>\n",
       "      <td>1</td>\n",
       "      <td>Запустить собственную службу доставки, что сократит срок доставки заказов</td>\n",
       "      <td>2.000000</td>\n",
       "      <td>4.0</td>\n",
       "    </tr>\n",
       "    <tr>\n",
       "      <td>5</td>\n",
       "      <td>Добавить страницу отзывов клиентов о магазине, что позволит увеличить количество заказов</td>\n",
       "      <td>1.333333</td>\n",
       "      <td>4.0</td>\n",
       "    </tr>\n",
       "    <tr>\n",
       "      <td>3</td>\n",
       "      <td>Изменить структура категорий, что увеличит конверсию, т.к. пользователи быстрее найдут нужный товар</td>\n",
       "      <td>1.125000</td>\n",
       "      <td>9.0</td>\n",
       "    </tr>\n",
       "    <tr>\n",
       "      <td>4</td>\n",
       "      <td>Изменить цвет фона главной страницы, чтобы увеличить вовлеченность пользователей</td>\n",
       "      <td>1.000000</td>\n",
       "      <td>3.0</td>\n",
       "    </tr>\n",
       "  </tbody>\n",
       "</table>\n",
       "</div>"
      ],
      "text/plain": [
       "                                                                                                     hypothesis  \\\n",
       "8                                                       Запустить акцию, дающую скидку на товар в день рождения   \n",
       "0            Добавить два новых канала привлечения трафика, что позволит привлекать на 30% больше пользователей   \n",
       "7              Добавить форму подписки на все основные страницы, чтобы собрать базу клиентов для email-рассылок   \n",
       "6          Показать на главной странице баннеры с актуальными акциями и распродажами, чтобы увеличить конверсию   \n",
       "2  Добавить блоки рекомендаций товаров на сайт интернет магазина, чтобы повысить конверсию и средний чек заказа   \n",
       "1                                     Запустить собственную службу доставки, что сократит срок доставки заказов   \n",
       "5                      Добавить страницу отзывов клиентов о магазине, что позволит увеличить количество заказов   \n",
       "3           Изменить структура категорий, что увеличит конверсию, т.к. пользователи быстрее найдут нужный товар   \n",
       "4                              Изменить цвет фона главной страницы, чтобы увеличить вовлеченность пользователей   \n",
       "\n",
       "         ICE   RICE  \n",
       "8  16.200000   16.2  \n",
       "0  13.333333   40.0  \n",
       "7  11.200000  112.0  \n",
       "6   8.000000   40.0  \n",
       "2   7.000000   56.0  \n",
       "1   2.000000    4.0  \n",
       "5   1.333333    4.0  \n",
       "3   1.125000    9.0  \n",
       "4   1.000000    3.0  "
      ]
     },
     "execution_count": 9,
     "metadata": {},
     "output_type": "execute_result"
    }
   ],
   "source": [
    "hypothesis[['hypothesis','ICE', 'RICE']].sort_values(by='ICE', ascending=False)"
   ]
  },
  {
   "cell_type": "markdown",
   "metadata": {},
   "source": [
    "При использовании фреймворка RICE наиболее перспективной является гипотеза 7, так как ее охват пользователей - максимальный среди всех остальных гипотез.   \n",
    "Гипотезы 0,6 как и при фреймворке ICE вверху списка. Также вверх списка поднялась гипотеза 2, ее параметр охвата пользователей тоже оценен достаточно высоко, сравнительно выше других.  \n",
    "Гипотеза 8, которая была наиболее перспективной по ICE ушла в середину списка, так как ее охват пользователей минимальный среди всех гипотез. "
   ]
  },
  {
   "cell_type": "markdown",
   "metadata": {},
   "source": [
    "## Анализ A/B-теста  "
   ]
  },
  {
   "cell_type": "markdown",
   "metadata": {},
   "source": [
    "Рассмотрим результаты проведенного A/B-теста, представленные в виде данных о визитах и заказах, и проанализируем его."
   ]
  },
  {
   "cell_type": "code",
   "execution_count": 10,
   "metadata": {},
   "outputs": [],
   "source": [
    "orders = pd.read_csv('/datasets/orders.csv')\n",
    "visitors = pd.read_csv('/datasets/visitors.csv')"
   ]
  },
  {
   "cell_type": "code",
   "execution_count": 11,
   "metadata": {},
   "outputs": [
    {
     "name": "stdout",
     "output_type": "stream",
     "text": [
      "<class 'pandas.core.frame.DataFrame'>\n",
      "RangeIndex: 1197 entries, 0 to 1196\n",
      "Data columns (total 5 columns):\n",
      "transactionId    1197 non-null int64\n",
      "visitorId        1197 non-null int64\n",
      "date             1197 non-null object\n",
      "revenue          1197 non-null int64\n",
      "group            1197 non-null object\n",
      "dtypes: int64(3), object(2)\n",
      "memory usage: 46.9+ KB\n"
     ]
    }
   ],
   "source": [
    "orders.info()"
   ]
  },
  {
   "cell_type": "code",
   "execution_count": 12,
   "metadata": {},
   "outputs": [
    {
     "data": {
      "text/html": [
       "<div>\n",
       "<style scoped>\n",
       "    .dataframe tbody tr th:only-of-type {\n",
       "        vertical-align: middle;\n",
       "    }\n",
       "\n",
       "    .dataframe tbody tr th {\n",
       "        vertical-align: top;\n",
       "    }\n",
       "\n",
       "    .dataframe thead th {\n",
       "        text-align: right;\n",
       "    }\n",
       "</style>\n",
       "<table border=\"1\" class=\"dataframe\">\n",
       "  <thead>\n",
       "    <tr style=\"text-align: right;\">\n",
       "      <th></th>\n",
       "      <th>transactionId</th>\n",
       "      <th>visitorId</th>\n",
       "      <th>date</th>\n",
       "      <th>revenue</th>\n",
       "      <th>group</th>\n",
       "    </tr>\n",
       "  </thead>\n",
       "  <tbody>\n",
       "    <tr>\n",
       "      <td>798</td>\n",
       "      <td>2291957725</td>\n",
       "      <td>2188683977</td>\n",
       "      <td>2019-08-05</td>\n",
       "      <td>5719</td>\n",
       "      <td>A</td>\n",
       "    </tr>\n",
       "    <tr>\n",
       "      <td>274</td>\n",
       "      <td>3404861334</td>\n",
       "      <td>467022501</td>\n",
       "      <td>2019-08-23</td>\n",
       "      <td>1100</td>\n",
       "      <td>A</td>\n",
       "    </tr>\n",
       "    <tr>\n",
       "      <td>33</td>\n",
       "      <td>486237576</td>\n",
       "      <td>2378935119</td>\n",
       "      <td>2019-08-15</td>\n",
       "      <td>1650</td>\n",
       "      <td>A</td>\n",
       "    </tr>\n",
       "  </tbody>\n",
       "</table>\n",
       "</div>"
      ],
      "text/plain": [
       "     transactionId   visitorId        date  revenue group\n",
       "798     2291957725  2188683977  2019-08-05     5719     A\n",
       "274     3404861334   467022501  2019-08-23     1100     A\n",
       "33       486237576  2378935119  2019-08-15     1650     A"
      ]
     },
     "execution_count": 12,
     "metadata": {},
     "output_type": "execute_result"
    }
   ],
   "source": [
    "orders.sample(3)"
   ]
  },
  {
   "cell_type": "code",
   "execution_count": 13,
   "metadata": {},
   "outputs": [
    {
     "data": {
      "text/plain": [
       "Index(['transactionId', 'visitorId', 'date', 'revenue', 'group'], dtype='object')"
      ]
     },
     "execution_count": 13,
     "metadata": {},
     "output_type": "execute_result"
    }
   ],
   "source": [
    "orders.columns"
   ]
  },
  {
   "cell_type": "code",
   "execution_count": 14,
   "metadata": {},
   "outputs": [],
   "source": [
    "orders.columns = ['transaction_id', 'customer_id', 'date', 'revenue', 'group']"
   ]
  },
  {
   "cell_type": "code",
   "execution_count": 15,
   "metadata": {},
   "outputs": [],
   "source": [
    "orders['date'] = orders['date'].map(\n",
    "    lambda x: dt.datetime.strptime(x, '%Y-%m-%d')\n",
    ")"
   ]
  },
  {
   "cell_type": "markdown",
   "metadata": {},
   "source": [
    "Проверим датасет на наличие покупателей, которые попали в обе группы"
   ]
  },
  {
   "cell_type": "code",
   "execution_count": 16,
   "metadata": {},
   "outputs": [],
   "source": [
    "orders_a = orders[orders['group'] == 'A']['customer_id'].unique()\n",
    "orders_b = orders[orders['group'] == 'B']['customer_id'].unique()\n",
    "\n",
    "both_group_customers = []\n",
    "for customer_id in orders_b:\n",
    "    if customer_id in orders_a:\n",
    "        both_group_customers.append(customer_id)"
   ]
  },
  {
   "cell_type": "code",
   "execution_count": 17,
   "metadata": {},
   "outputs": [
    {
     "data": {
      "text/plain": [
       "58"
      ]
     },
     "execution_count": 17,
     "metadata": {},
     "output_type": "execute_result"
    }
   ],
   "source": [
    "len(both_group_customers)"
   ]
  },
  {
   "cell_type": "code",
   "execution_count": 18,
   "metadata": {},
   "outputs": [
    {
     "data": {
      "text/plain": [
       "0.8487886382623224"
      ]
     },
     "execution_count": 18,
     "metadata": {},
     "output_type": "execute_result"
    }
   ],
   "source": [
    "len(orders[~orders['customer_id'].isin(both_group_customers)])/len(orders)"
   ]
  },
  {
   "cell_type": "markdown",
   "metadata": {},
   "source": [
    "58 покупателей попали в обе группы. Они составляют 15% заказов в датасете. Исключим их"
   ]
  },
  {
   "cell_type": "code",
   "execution_count": 19,
   "metadata": {},
   "outputs": [],
   "source": [
    "orders = orders[~orders['customer_id'].isin(both_group_customers)]"
   ]
  },
  {
   "cell_type": "markdown",
   "metadata": {},
   "source": [
    "Создадим массив уникальных пар значений дат и групп теста:"
   ]
  },
  {
   "cell_type": "code",
   "execution_count": 20,
   "metadata": {},
   "outputs": [
    {
     "data": {
      "text/html": [
       "<div>\n",
       "<style scoped>\n",
       "    .dataframe tbody tr th:only-of-type {\n",
       "        vertical-align: middle;\n",
       "    }\n",
       "\n",
       "    .dataframe tbody tr th {\n",
       "        vertical-align: top;\n",
       "    }\n",
       "\n",
       "    .dataframe thead th {\n",
       "        text-align: right;\n",
       "    }\n",
       "</style>\n",
       "<table border=\"1\" class=\"dataframe\">\n",
       "  <thead>\n",
       "    <tr style=\"text-align: right;\">\n",
       "      <th></th>\n",
       "      <th>date</th>\n",
       "      <th>group</th>\n",
       "    </tr>\n",
       "  </thead>\n",
       "  <tbody>\n",
       "    <tr>\n",
       "      <td>0</td>\n",
       "      <td>2019-08-15</td>\n",
       "      <td>B</td>\n",
       "    </tr>\n",
       "    <tr>\n",
       "      <td>7</td>\n",
       "      <td>2019-08-15</td>\n",
       "      <td>A</td>\n",
       "    </tr>\n",
       "    <tr>\n",
       "      <td>45</td>\n",
       "      <td>2019-08-16</td>\n",
       "      <td>A</td>\n",
       "    </tr>\n",
       "    <tr>\n",
       "      <td>47</td>\n",
       "      <td>2019-08-16</td>\n",
       "      <td>B</td>\n",
       "    </tr>\n",
       "    <tr>\n",
       "      <td>55</td>\n",
       "      <td>2019-08-01</td>\n",
       "      <td>A</td>\n",
       "    </tr>\n",
       "    <tr>\n",
       "      <td>66</td>\n",
       "      <td>2019-08-01</td>\n",
       "      <td>B</td>\n",
       "    </tr>\n",
       "  </tbody>\n",
       "</table>\n",
       "</div>"
      ],
      "text/plain": [
       "         date group\n",
       "0  2019-08-15     B\n",
       "7  2019-08-15     A\n",
       "45 2019-08-16     A\n",
       "47 2019-08-16     B\n",
       "55 2019-08-01     A\n",
       "66 2019-08-01     B"
      ]
     },
     "execution_count": 20,
     "metadata": {},
     "output_type": "execute_result"
    }
   ],
   "source": [
    "dates_groups = orders[['date', 'group']].drop_duplicates()\n",
    "dates_groups.head(6)"
   ]
  },
  {
   "cell_type": "markdown",
   "metadata": {},
   "source": [
    "Соберём агрегированные кумулятивные по дням данные о заказах:"
   ]
  },
  {
   "cell_type": "code",
   "execution_count": 21,
   "metadata": {},
   "outputs": [
    {
     "data": {
      "text/html": [
       "<div>\n",
       "<style scoped>\n",
       "    .dataframe tbody tr th:only-of-type {\n",
       "        vertical-align: middle;\n",
       "    }\n",
       "\n",
       "    .dataframe tbody tr th {\n",
       "        vertical-align: top;\n",
       "    }\n",
       "\n",
       "    .dataframe thead th {\n",
       "        text-align: right;\n",
       "    }\n",
       "</style>\n",
       "<table border=\"1\" class=\"dataframe\">\n",
       "  <thead>\n",
       "    <tr style=\"text-align: right;\">\n",
       "      <th></th>\n",
       "      <th>date</th>\n",
       "      <th>group</th>\n",
       "      <th>transaction_id</th>\n",
       "      <th>customer_id</th>\n",
       "      <th>revenue</th>\n",
       "    </tr>\n",
       "  </thead>\n",
       "  <tbody>\n",
       "    <tr>\n",
       "      <td>55</td>\n",
       "      <td>2019-08-01</td>\n",
       "      <td>A</td>\n",
       "      <td>23</td>\n",
       "      <td>19</td>\n",
       "      <td>142779</td>\n",
       "    </tr>\n",
       "    <tr>\n",
       "      <td>66</td>\n",
       "      <td>2019-08-01</td>\n",
       "      <td>B</td>\n",
       "      <td>17</td>\n",
       "      <td>17</td>\n",
       "      <td>59758</td>\n",
       "    </tr>\n",
       "    <tr>\n",
       "      <td>175</td>\n",
       "      <td>2019-08-02</td>\n",
       "      <td>A</td>\n",
       "      <td>42</td>\n",
       "      <td>36</td>\n",
       "      <td>234381</td>\n",
       "    </tr>\n",
       "    <tr>\n",
       "      <td>173</td>\n",
       "      <td>2019-08-02</td>\n",
       "      <td>B</td>\n",
       "      <td>40</td>\n",
       "      <td>39</td>\n",
       "      <td>221801</td>\n",
       "    </tr>\n",
       "    <tr>\n",
       "      <td>291</td>\n",
       "      <td>2019-08-03</td>\n",
       "      <td>A</td>\n",
       "      <td>66</td>\n",
       "      <td>60</td>\n",
       "      <td>346854</td>\n",
       "    </tr>\n",
       "    <tr>\n",
       "      <td>383</td>\n",
       "      <td>2019-08-03</td>\n",
       "      <td>B</td>\n",
       "      <td>54</td>\n",
       "      <td>53</td>\n",
       "      <td>288850</td>\n",
       "    </tr>\n",
       "  </tbody>\n",
       "</table>\n",
       "</div>"
      ],
      "text/plain": [
       "          date group  transaction_id  customer_id  revenue\n",
       "55  2019-08-01     A              23           19   142779\n",
       "66  2019-08-01     B              17           17    59758\n",
       "175 2019-08-02     A              42           36   234381\n",
       "173 2019-08-02     B              40           39   221801\n",
       "291 2019-08-03     A              66           60   346854\n",
       "383 2019-08-03     B              54           53   288850"
      ]
     },
     "execution_count": 21,
     "metadata": {},
     "output_type": "execute_result"
    }
   ],
   "source": [
    "orders_aggregated = dates_groups.apply(\n",
    "    lambda x: orders[np.logical_and(orders['date'] <= x['date'], orders['group'] == x['group'])].\\\n",
    "    agg({'date':'max', 'group':'max', 'transaction_id': pd.Series.nunique,'customer_id':pd.Series.nunique,\n",
    "        'revenue':'sum'}), axis=1).sort_values(by=['date', 'group'])\n",
    "orders_aggregated.head(6)"
   ]
  },
  {
   "cell_type": "code",
   "execution_count": 22,
   "metadata": {},
   "outputs": [
    {
     "name": "stdout",
     "output_type": "stream",
     "text": [
      "<class 'pandas.core.frame.DataFrame'>\n",
      "RangeIndex: 62 entries, 0 to 61\n",
      "Data columns (total 3 columns):\n",
      "date        62 non-null object\n",
      "group       62 non-null object\n",
      "visitors    62 non-null int64\n",
      "dtypes: int64(1), object(2)\n",
      "memory usage: 1.6+ KB\n"
     ]
    }
   ],
   "source": [
    "visitors.info()"
   ]
  },
  {
   "cell_type": "code",
   "execution_count": 23,
   "metadata": {},
   "outputs": [
    {
     "data": {
      "text/html": [
       "<div>\n",
       "<style scoped>\n",
       "    .dataframe tbody tr th:only-of-type {\n",
       "        vertical-align: middle;\n",
       "    }\n",
       "\n",
       "    .dataframe tbody tr th {\n",
       "        vertical-align: top;\n",
       "    }\n",
       "\n",
       "    .dataframe thead th {\n",
       "        text-align: right;\n",
       "    }\n",
       "</style>\n",
       "<table border=\"1\" class=\"dataframe\">\n",
       "  <thead>\n",
       "    <tr style=\"text-align: right;\">\n",
       "      <th></th>\n",
       "      <th>date</th>\n",
       "      <th>group</th>\n",
       "      <th>visitors</th>\n",
       "    </tr>\n",
       "  </thead>\n",
       "  <tbody>\n",
       "    <tr>\n",
       "      <td>58</td>\n",
       "      <td>2019-08-28</td>\n",
       "      <td>B</td>\n",
       "      <td>654</td>\n",
       "    </tr>\n",
       "    <tr>\n",
       "      <td>40</td>\n",
       "      <td>2019-08-10</td>\n",
       "      <td>B</td>\n",
       "      <td>369</td>\n",
       "    </tr>\n",
       "    <tr>\n",
       "      <td>55</td>\n",
       "      <td>2019-08-25</td>\n",
       "      <td>B</td>\n",
       "      <td>679</td>\n",
       "    </tr>\n",
       "  </tbody>\n",
       "</table>\n",
       "</div>"
      ],
      "text/plain": [
       "          date group  visitors\n",
       "58  2019-08-28     B       654\n",
       "40  2019-08-10     B       369\n",
       "55  2019-08-25     B       679"
      ]
     },
     "execution_count": 23,
     "metadata": {},
     "output_type": "execute_result"
    }
   ],
   "source": [
    "visitors.sample(3)"
   ]
  },
  {
   "cell_type": "code",
   "execution_count": 24,
   "metadata": {},
   "outputs": [],
   "source": [
    "visitors['date'] = visitors['date'].map(\n",
    "    lambda x: dt.datetime.strptime(x, '%Y-%m-%d')\n",
    ")"
   ]
  },
  {
   "cell_type": "markdown",
   "metadata": {},
   "source": [
    "Соберем агрегированные кумулятивные по дням данные о посетителях интернет-магазина:"
   ]
  },
  {
   "cell_type": "code",
   "execution_count": 25,
   "metadata": {},
   "outputs": [
    {
     "data": {
      "text/html": [
       "<div>\n",
       "<style scoped>\n",
       "    .dataframe tbody tr th:only-of-type {\n",
       "        vertical-align: middle;\n",
       "    }\n",
       "\n",
       "    .dataframe tbody tr th {\n",
       "        vertical-align: top;\n",
       "    }\n",
       "\n",
       "    .dataframe thead th {\n",
       "        text-align: right;\n",
       "    }\n",
       "</style>\n",
       "<table border=\"1\" class=\"dataframe\">\n",
       "  <thead>\n",
       "    <tr style=\"text-align: right;\">\n",
       "      <th></th>\n",
       "      <th>date</th>\n",
       "      <th>group</th>\n",
       "      <th>visitors</th>\n",
       "    </tr>\n",
       "  </thead>\n",
       "  <tbody>\n",
       "    <tr>\n",
       "      <td>55</td>\n",
       "      <td>2019-08-01</td>\n",
       "      <td>A</td>\n",
       "      <td>719</td>\n",
       "    </tr>\n",
       "    <tr>\n",
       "      <td>66</td>\n",
       "      <td>2019-08-01</td>\n",
       "      <td>B</td>\n",
       "      <td>713</td>\n",
       "    </tr>\n",
       "    <tr>\n",
       "      <td>175</td>\n",
       "      <td>2019-08-02</td>\n",
       "      <td>A</td>\n",
       "      <td>1338</td>\n",
       "    </tr>\n",
       "    <tr>\n",
       "      <td>173</td>\n",
       "      <td>2019-08-02</td>\n",
       "      <td>B</td>\n",
       "      <td>1294</td>\n",
       "    </tr>\n",
       "    <tr>\n",
       "      <td>291</td>\n",
       "      <td>2019-08-03</td>\n",
       "      <td>A</td>\n",
       "      <td>1845</td>\n",
       "    </tr>\n",
       "  </tbody>\n",
       "</table>\n",
       "</div>"
      ],
      "text/plain": [
       "          date group  visitors\n",
       "55  2019-08-01     A       719\n",
       "66  2019-08-01     B       713\n",
       "175 2019-08-02     A      1338\n",
       "173 2019-08-02     B      1294\n",
       "291 2019-08-03     A      1845"
      ]
     },
     "execution_count": 25,
     "metadata": {},
     "output_type": "execute_result"
    }
   ],
   "source": [
    "visitors_aggregated = dates_groups.apply(\n",
    "    lambda x: visitors[np.logical_and(visitors['date'] <= x['date'], visitors['group'] == x['group'])].\\\n",
    "    agg({'date':'max', 'group':'max', 'visitors': 'sum'}), axis=1).sort_values(by=['date', 'group'])\n",
    "visitors_aggregated.head()"
   ]
  },
  {
   "cell_type": "markdown",
   "metadata": {},
   "source": [
    "Составим общую таблицу с куммулятивными данными о заказах и постетителях:"
   ]
  },
  {
   "cell_type": "code",
   "execution_count": 26,
   "metadata": {},
   "outputs": [
    {
     "data": {
      "text/html": [
       "<div>\n",
       "<style scoped>\n",
       "    .dataframe tbody tr th:only-of-type {\n",
       "        vertical-align: middle;\n",
       "    }\n",
       "\n",
       "    .dataframe tbody tr th {\n",
       "        vertical-align: top;\n",
       "    }\n",
       "\n",
       "    .dataframe thead th {\n",
       "        text-align: right;\n",
       "    }\n",
       "</style>\n",
       "<table border=\"1\" class=\"dataframe\">\n",
       "  <thead>\n",
       "    <tr style=\"text-align: right;\">\n",
       "      <th></th>\n",
       "      <th>date</th>\n",
       "      <th>group</th>\n",
       "      <th>orders</th>\n",
       "      <th>buyers</th>\n",
       "      <th>revenue</th>\n",
       "      <th>visitors</th>\n",
       "    </tr>\n",
       "  </thead>\n",
       "  <tbody>\n",
       "    <tr>\n",
       "      <td>0</td>\n",
       "      <td>2019-08-01</td>\n",
       "      <td>A</td>\n",
       "      <td>23</td>\n",
       "      <td>19</td>\n",
       "      <td>142779</td>\n",
       "      <td>719</td>\n",
       "    </tr>\n",
       "    <tr>\n",
       "      <td>1</td>\n",
       "      <td>2019-08-01</td>\n",
       "      <td>B</td>\n",
       "      <td>17</td>\n",
       "      <td>17</td>\n",
       "      <td>59758</td>\n",
       "      <td>713</td>\n",
       "    </tr>\n",
       "    <tr>\n",
       "      <td>2</td>\n",
       "      <td>2019-08-02</td>\n",
       "      <td>A</td>\n",
       "      <td>42</td>\n",
       "      <td>36</td>\n",
       "      <td>234381</td>\n",
       "      <td>1338</td>\n",
       "    </tr>\n",
       "    <tr>\n",
       "      <td>3</td>\n",
       "      <td>2019-08-02</td>\n",
       "      <td>B</td>\n",
       "      <td>40</td>\n",
       "      <td>39</td>\n",
       "      <td>221801</td>\n",
       "      <td>1294</td>\n",
       "    </tr>\n",
       "    <tr>\n",
       "      <td>4</td>\n",
       "      <td>2019-08-03</td>\n",
       "      <td>A</td>\n",
       "      <td>66</td>\n",
       "      <td>60</td>\n",
       "      <td>346854</td>\n",
       "      <td>1845</td>\n",
       "    </tr>\n",
       "    <tr>\n",
       "      <td>...</td>\n",
       "      <td>...</td>\n",
       "      <td>...</td>\n",
       "      <td>...</td>\n",
       "      <td>...</td>\n",
       "      <td>...</td>\n",
       "      <td>...</td>\n",
       "    </tr>\n",
       "    <tr>\n",
       "      <td>57</td>\n",
       "      <td>2019-08-29</td>\n",
       "      <td>B</td>\n",
       "      <td>510</td>\n",
       "      <td>490</td>\n",
       "      <td>4746610</td>\n",
       "      <td>17708</td>\n",
       "    </tr>\n",
       "    <tr>\n",
       "      <td>58</td>\n",
       "      <td>2019-08-30</td>\n",
       "      <td>A</td>\n",
       "      <td>460</td>\n",
       "      <td>437</td>\n",
       "      <td>3311413</td>\n",
       "      <td>18037</td>\n",
       "    </tr>\n",
       "    <tr>\n",
       "      <td>59</td>\n",
       "      <td>2019-08-30</td>\n",
       "      <td>B</td>\n",
       "      <td>531</td>\n",
       "      <td>511</td>\n",
       "      <td>4955833</td>\n",
       "      <td>18198</td>\n",
       "    </tr>\n",
       "    <tr>\n",
       "      <td>60</td>\n",
       "      <td>2019-08-31</td>\n",
       "      <td>A</td>\n",
       "      <td>468</td>\n",
       "      <td>445</td>\n",
       "      <td>3364656</td>\n",
       "      <td>18736</td>\n",
       "    </tr>\n",
       "    <tr>\n",
       "      <td>61</td>\n",
       "      <td>2019-08-31</td>\n",
       "      <td>B</td>\n",
       "      <td>548</td>\n",
       "      <td>528</td>\n",
       "      <td>5068972</td>\n",
       "      <td>18916</td>\n",
       "    </tr>\n",
       "  </tbody>\n",
       "</table>\n",
       "<p>62 rows × 6 columns</p>\n",
       "</div>"
      ],
      "text/plain": [
       "         date group  orders  buyers  revenue  visitors\n",
       "0  2019-08-01     A      23      19   142779       719\n",
       "1  2019-08-01     B      17      17    59758       713\n",
       "2  2019-08-02     A      42      36   234381      1338\n",
       "3  2019-08-02     B      40      39   221801      1294\n",
       "4  2019-08-03     A      66      60   346854      1845\n",
       "..        ...   ...     ...     ...      ...       ...\n",
       "57 2019-08-29     B     510     490  4746610     17708\n",
       "58 2019-08-30     A     460     437  3311413     18037\n",
       "59 2019-08-30     B     531     511  4955833     18198\n",
       "60 2019-08-31     A     468     445  3364656     18736\n",
       "61 2019-08-31     B     548     528  5068972     18916\n",
       "\n",
       "[62 rows x 6 columns]"
      ]
     },
     "execution_count": 26,
     "metadata": {},
     "output_type": "execute_result"
    }
   ],
   "source": [
    "cumulative_data = orders_aggregated.merge(\n",
    "    visitors_aggregated, left_on=['date', 'group'], right_on=['date', 'group'])\n",
    "cumulative_data.columns = ['date', 'group', 'orders', 'buyers', 'revenue', 'visitors']\n",
    "cumulative_data"
   ]
  },
  {
   "cell_type": "markdown",
   "metadata": {},
   "source": [
    "### Графики кумулятивной выручки"
   ]
  },
  {
   "cell_type": "markdown",
   "metadata": {},
   "source": [
    "Разделим данные на датафреймы с кумулятивным количеством заказов и кумулятивной выручкой по дням по группам:"
   ]
  },
  {
   "cell_type": "code",
   "execution_count": 27,
   "metadata": {},
   "outputs": [],
   "source": [
    "cumulative_revenue_a = cumulative_data.loc[cumulative_data['group'] == 'A', ['date', 'revenue', 'orders']]\n",
    "cumulative_revenue_b = cumulative_data.loc[cumulative_data['group'] == 'B', ['date', 'revenue', 'orders']]"
   ]
  },
  {
   "cell_type": "markdown",
   "metadata": {},
   "source": [
    "Построим графики кумулятивной выручки по дням и группам A/B-тестирования:"
   ]
  },
  {
   "cell_type": "code",
   "execution_count": 28,
   "metadata": {},
   "outputs": [],
   "source": [
    "def plot_creator(df1, df2, x_column, y_column, label1, label2, y0, y1, title):\n",
    "    plt.plot(df1[x_column], df1[y_column], label=label1)\n",
    "    plt.plot(df2[x_column], df2[y_column], label=label2)\n",
    "    plt.legend()\n",
    "    plt.axis(['2019-08-01', '2019-08-31', y0, y1])\n",
    "    plt.xticks(rotation=50)\n",
    "    plt.title(title)"
   ]
  },
  {
   "cell_type": "code",
   "execution_count": 29,
   "metadata": {},
   "outputs": [],
   "source": [
    "def max_value(df1, df2, column):\n",
    "    if df1[column].max() > df2[column].max():\n",
    "        return df1[column].max()\n",
    "    else:\n",
    "        return df2[column].max()"
   ]
  },
  {
   "cell_type": "code",
   "execution_count": 30,
   "metadata": {
    "scrolled": false
   },
   "outputs": [
    {
     "name": "stderr",
     "output_type": "stream",
     "text": [
      "/opt/conda/lib/python3.7/site-packages/pandas/plotting/_matplotlib/converter.py:103: FutureWarning: Using an implicitly registered datetime converter for a matplotlib plotting method. The converter was registered by pandas on import. Future versions of pandas will require you to explicitly register matplotlib converters.\n",
      "\n",
      "To register the converters:\n",
      "\t>>> from pandas.plotting import register_matplotlib_converters\n",
      "\t>>> register_matplotlib_converters()\n",
      "  warnings.warn(msg, FutureWarning)\n"
     ]
    },
    {
     "data": {
      "image/png": "[encoded data removed]",
      "text/plain": [
       "<Figure size 432x288 with 1 Axes>"
      ]
     },
     "metadata": {},
     "output_type": "display_data"
    }
   ],
   "source": [
    "plot_creator(cumulative_revenue_a, cumulative_revenue_b, 'date', 'revenue', \n",
    "             'A', 'B', 0, max_value(cumulative_revenue_a, cumulative_revenue_b, 'revenue'), 'Графики кумулятивной выручки')"
   ]
  },
  {
   "cell_type": "markdown",
   "metadata": {},
   "source": [
    "Выручка группы А почти равномерно увеличивается в течение всего теста.  \n",
    "А у графика группы В есть точка резкого роста выручки. Это может сигнализировать о наличии выбросов в группе В, таких как всплески числа заказов, наличие очень дорогих заказов в выборке. За счет этого сегмент B вырвался вперёд и продолжал лидировать весь остаток теста. Похоже, что аномально большие заказы повлияли на результаты.  \n",
    "Необходимо провести анализ на наличие выбросов."
   ]
  },
  {
   "cell_type": "markdown",
   "metadata": {},
   "source": [
    "### График кумулятивного среднего чека по группам"
   ]
  },
  {
   "cell_type": "markdown",
   "metadata": {},
   "source": [
    "Построим графики среднего чека по группам"
   ]
  },
  {
   "cell_type": "code",
   "execution_count": 31,
   "metadata": {},
   "outputs": [],
   "source": [
    "cumulative_revenue_a['avg_check'] = cumulative_revenue_a['revenue'] / cumulative_revenue_a['orders']\n",
    "cumulative_revenue_b['avg_check'] = cumulative_revenue_b['revenue'] / cumulative_revenue_b['orders']"
   ]
  },
  {
   "cell_type": "code",
   "execution_count": 32,
   "metadata": {},
   "outputs": [
    {
     "data": {
      "image/png": "[encoded data removed]",
      "text/plain": [
       "<Figure size 432x288 with 1 Axes>"
      ]
     },
     "metadata": {},
     "output_type": "display_data"
    }
   ],
   "source": [
    "plot_creator(cumulative_revenue_a, cumulative_revenue_b, 'date', 'avg_check', \n",
    "             'A', 'B', 4000, max_value(cumulative_revenue_a, cumulative_revenue_b, 'avg_check')+1000, 'Графики кумулятивного среднего чека')"
   ]
  },
  {
   "cell_type": "markdown",
   "metadata": {},
   "source": [
    "Всплеск на графике кумулятивной выручки в группе В еще ярче просматривается на графике кумулятивного среднего чека. За счет чего группа В во второй половине теста показывает значения значительно выше, чем группа А. Средний чек группы А становится равномерным ближе к концу теста, а в группе В падает после всплеска. Вероятно, на график группы B значительно влияют крупные заказы, обусловившие резкий всплеск на графике. Тогда ей нужно больше данных, чтобы прийти к реальному среднему чеку и установиться на его уровне. Или требуется дополнительный анализ выбросов, которые так сильно искажают результаты."
   ]
  },
  {
   "cell_type": "markdown",
   "metadata": {},
   "source": [
    "### График относительного изменения кумулятивного среднего чека группы B к группе A"
   ]
  },
  {
   "cell_type": "markdown",
   "metadata": {},
   "source": [
    "Объединим данные группы А и В"
   ]
  },
  {
   "cell_type": "code",
   "execution_count": 33,
   "metadata": {},
   "outputs": [
    {
     "data": {
      "text/html": [
       "<div>\n",
       "<style scoped>\n",
       "    .dataframe tbody tr th:only-of-type {\n",
       "        vertical-align: middle;\n",
       "    }\n",
       "\n",
       "    .dataframe tbody tr th {\n",
       "        vertical-align: top;\n",
       "    }\n",
       "\n",
       "    .dataframe thead th {\n",
       "        text-align: right;\n",
       "    }\n",
       "</style>\n",
       "<table border=\"1\" class=\"dataframe\">\n",
       "  <thead>\n",
       "    <tr style=\"text-align: right;\">\n",
       "      <th></th>\n",
       "      <th>date</th>\n",
       "      <th>revenue_A</th>\n",
       "      <th>orders_A</th>\n",
       "      <th>avg_check_A</th>\n",
       "      <th>revenue_B</th>\n",
       "      <th>orders_B</th>\n",
       "      <th>avg_check_B</th>\n",
       "    </tr>\n",
       "  </thead>\n",
       "  <tbody>\n",
       "    <tr>\n",
       "      <td>0</td>\n",
       "      <td>2019-08-01</td>\n",
       "      <td>142779</td>\n",
       "      <td>23</td>\n",
       "      <td>6207.782609</td>\n",
       "      <td>59758</td>\n",
       "      <td>17</td>\n",
       "      <td>3515.176471</td>\n",
       "    </tr>\n",
       "    <tr>\n",
       "      <td>1</td>\n",
       "      <td>2019-08-02</td>\n",
       "      <td>234381</td>\n",
       "      <td>42</td>\n",
       "      <td>5580.500000</td>\n",
       "      <td>221801</td>\n",
       "      <td>40</td>\n",
       "      <td>5545.025000</td>\n",
       "    </tr>\n",
       "    <tr>\n",
       "      <td>2</td>\n",
       "      <td>2019-08-03</td>\n",
       "      <td>346854</td>\n",
       "      <td>66</td>\n",
       "      <td>5255.363636</td>\n",
       "      <td>288850</td>\n",
       "      <td>54</td>\n",
       "      <td>5349.074074</td>\n",
       "    </tr>\n",
       "    <tr>\n",
       "      <td>3</td>\n",
       "      <td>2019-08-04</td>\n",
       "      <td>388030</td>\n",
       "      <td>77</td>\n",
       "      <td>5039.350649</td>\n",
       "      <td>385740</td>\n",
       "      <td>68</td>\n",
       "      <td>5672.647059</td>\n",
       "    </tr>\n",
       "    <tr>\n",
       "      <td>4</td>\n",
       "      <td>2019-08-05</td>\n",
       "      <td>474413</td>\n",
       "      <td>99</td>\n",
       "      <td>4792.050505</td>\n",
       "      <td>475648</td>\n",
       "      <td>89</td>\n",
       "      <td>5344.359551</td>\n",
       "    </tr>\n",
       "  </tbody>\n",
       "</table>\n",
       "</div>"
      ],
      "text/plain": [
       "        date  revenue_A  orders_A  avg_check_A  revenue_B  orders_B  \\\n",
       "0 2019-08-01     142779        23  6207.782609      59758        17   \n",
       "1 2019-08-02     234381        42  5580.500000     221801        40   \n",
       "2 2019-08-03     346854        66  5255.363636     288850        54   \n",
       "3 2019-08-04     388030        77  5039.350649     385740        68   \n",
       "4 2019-08-05     474413        99  4792.050505     475648        89   \n",
       "\n",
       "   avg_check_B  \n",
       "0  3515.176471  \n",
       "1  5545.025000  \n",
       "2  5349.074074  \n",
       "3  5672.647059  \n",
       "4  5344.359551  "
      ]
     },
     "execution_count": 33,
     "metadata": {},
     "output_type": "execute_result"
    }
   ],
   "source": [
    "merged_cumulative_revenue = cumulative_revenue_a.merge(\n",
    "    cumulative_revenue_b, left_on='date', right_on='date', how='left', suffixes=['_A','_B'])\n",
    "merged_cumulative_revenue.head()"
   ]
  },
  {
   "cell_type": "markdown",
   "metadata": {},
   "source": [
    "Построим график относительного различия для среднего чека."
   ]
  },
  {
   "cell_type": "code",
   "execution_count": 34,
   "metadata": {},
   "outputs": [
    {
     "data": {
      "text/plain": [
       "Text(0.5, 1.0, 'График относительного изменения кумулятивного среднего чека группы B к группе A')"
      ]
     },
     "execution_count": 34,
     "metadata": {},
     "output_type": "execute_result"
    },
    {
     "data": {
      "image/png": "[encoded data removed]",
      "text/plain": [
       "<Figure size 432x288 with 1 Axes>"
      ]
     },
     "metadata": {},
     "output_type": "display_data"
    }
   ],
   "source": [
    "plt.plot(merged_cumulative_revenue['date'], \n",
    "         merged_cumulative_revenue['avg_check_B']/merged_cumulative_revenue['avg_check_A']-1)\n",
    "plt.axis(['2019-08-01', '2019-08-31', -0.5, 0.75])\n",
    "plt.xticks(rotation=50)\n",
    "plt.axhline(y=0, color='black', linestyle='--')\n",
    "plt.title('График относительного изменения кумулятивного среднего чека группы B к группе A')"
   ]
  },
  {
   "cell_type": "markdown",
   "metadata": {},
   "source": [
    "В нескольких точках график различия между сегментами значительно и резко менятется. Вероятно, такие изменения обусловлены совершением аномальных заказов в эти даты. Необходим анализ данных на выбросы."
   ]
  },
  {
   "cell_type": "markdown",
   "metadata": {},
   "source": [
    "### График кумулятивной конверсии по группам"
   ]
  },
  {
   "cell_type": "markdown",
   "metadata": {},
   "source": [
    "Построим и проанализируем график кумулятивной конверсии по группам.  \n",
    "\n",
    "Рассчитаем конверсию:"
   ]
  },
  {
   "cell_type": "code",
   "execution_count": 35,
   "metadata": {},
   "outputs": [],
   "source": [
    "cumulative_data['conversion'] = cumulative_data['orders']/cumulative_data['visitors']"
   ]
  },
  {
   "cell_type": "markdown",
   "metadata": {},
   "source": [
    "Разделим данные на группы и построим графики:"
   ]
  },
  {
   "cell_type": "code",
   "execution_count": 36,
   "metadata": {},
   "outputs": [
    {
     "data": {
      "image/png": "[encoded data removed]",
      "text/plain": [
       "<Figure size 432x288 with 1 Axes>"
      ]
     },
     "metadata": {},
     "output_type": "display_data"
    }
   ],
   "source": [
    "cumulative_data_a = cumulative_data[cumulative_data['group'] == 'A']\n",
    "cumulative_data_b = cumulative_data[cumulative_data['group'] == 'B']\n",
    "\n",
    "plot_creator(cumulative_data_a, cumulative_data_b, 'date', 'conversion', \n",
    "             'A', 'B', 0.02, max_value(cumulative_data_a, cumulative_data_b, 'conversion')+0.015, \n",
    "             'Графики кумулятивной конверсии')"
   ]
  },
  {
   "cell_type": "markdown",
   "metadata": {},
   "source": [
    "В первой части теста заметны колебания графиков. Но затем довольно быстро графики становятся относительно равномерными, конверсии групп фиксируются. Выбранный масштаб позволяеит заметить, что почти на всем протяжении теста показатели конверсии группы В выше показателей группы А. "
   ]
  },
  {
   "cell_type": "markdown",
   "metadata": {},
   "source": [
    "### График относительного изменения кумулятивной конверсии группы B к группе A"
   ]
  },
  {
   "cell_type": "markdown",
   "metadata": {},
   "source": [
    "Объединим данные по конверсиям групп в один датафрейм:"
   ]
  },
  {
   "cell_type": "code",
   "execution_count": 37,
   "metadata": {},
   "outputs": [
    {
     "data": {
      "text/html": [
       "<div>\n",
       "<style scoped>\n",
       "    .dataframe tbody tr th:only-of-type {\n",
       "        vertical-align: middle;\n",
       "    }\n",
       "\n",
       "    .dataframe tbody tr th {\n",
       "        vertical-align: top;\n",
       "    }\n",
       "\n",
       "    .dataframe thead th {\n",
       "        text-align: right;\n",
       "    }\n",
       "</style>\n",
       "<table border=\"1\" class=\"dataframe\">\n",
       "  <thead>\n",
       "    <tr style=\"text-align: right;\">\n",
       "      <th></th>\n",
       "      <th>date</th>\n",
       "      <th>conversion_A</th>\n",
       "      <th>conversion_B</th>\n",
       "    </tr>\n",
       "  </thead>\n",
       "  <tbody>\n",
       "    <tr>\n",
       "      <td>0</td>\n",
       "      <td>2019-08-01</td>\n",
       "      <td>0.031989</td>\n",
       "      <td>0.023843</td>\n",
       "    </tr>\n",
       "    <tr>\n",
       "      <td>1</td>\n",
       "      <td>2019-08-02</td>\n",
       "      <td>0.031390</td>\n",
       "      <td>0.030912</td>\n",
       "    </tr>\n",
       "    <tr>\n",
       "      <td>2</td>\n",
       "      <td>2019-08-03</td>\n",
       "      <td>0.035772</td>\n",
       "      <td>0.029950</td>\n",
       "    </tr>\n",
       "    <tr>\n",
       "      <td>3</td>\n",
       "      <td>2019-08-04</td>\n",
       "      <td>0.030055</td>\n",
       "      <td>0.026428</td>\n",
       "    </tr>\n",
       "    <tr>\n",
       "      <td>4</td>\n",
       "      <td>2019-08-05</td>\n",
       "      <td>0.029837</td>\n",
       "      <td>0.027134</td>\n",
       "    </tr>\n",
       "  </tbody>\n",
       "</table>\n",
       "</div>"
      ],
      "text/plain": [
       "        date  conversion_A  conversion_B\n",
       "0 2019-08-01      0.031989      0.023843\n",
       "1 2019-08-02      0.031390      0.030912\n",
       "2 2019-08-03      0.035772      0.029950\n",
       "3 2019-08-04      0.030055      0.026428\n",
       "4 2019-08-05      0.029837      0.027134"
      ]
     },
     "execution_count": 37,
     "metadata": {},
     "output_type": "execute_result"
    }
   ],
   "source": [
    "merged_cumulative_conversions = cumulative_data_a[['date','conversion']].merge(\n",
    "    cumulative_data_b[['date','conversion']], left_on='date', right_on='date', how='left', suffixes=['_A','_B'])\n",
    "merged_cumulative_conversions.head()"
   ]
  },
  {
   "cell_type": "markdown",
   "metadata": {},
   "source": [
    "Построим график относительного различия кумулятивных конверсий:"
   ]
  },
  {
   "cell_type": "code",
   "execution_count": 38,
   "metadata": {},
   "outputs": [
    {
     "data": {
      "text/plain": [
       "Text(0.5, 1.0, 'График  относительного изменения кумулятивной конверсии группы B к группе A')"
      ]
     },
     "execution_count": 38,
     "metadata": {},
     "output_type": "execute_result"
    },
    {
     "data": {
      "image/png": "[encoded data removed]",
      "text/plain": [
       "<Figure size 432x288 with 1 Axes>"
      ]
     },
     "metadata": {},
     "output_type": "display_data"
    }
   ],
   "source": [
    "plt.plot(merged_cumulative_conversions['date'], \n",
    "         merged_cumulative_conversions['conversion_B']/merged_cumulative_conversions['conversion_A']-1)\n",
    "plt.axis(['2019-08-01', '2019-08-31', -0.3, 0.35])\n",
    "plt.xticks(rotation=50)\n",
    "plt.axhline(y=0, color='black', linestyle='--')\n",
    "plt.axhline(y=0.15, color='grey', linestyle='--')\n",
    "plt.title('График  относительного изменения кумулятивной конверсии группы B к группе A')"
   ]
  },
  {
   "cell_type": "markdown",
   "metadata": {},
   "source": [
    "В начале теста график относительного изменения коверсий сильно менялся, затем постпенно установилось лидерство группы В по конверсии, которое возможно зафиксируется около прироста в 15% относительно группы A. Впрочем, влияние аномалий на этот график тоже нужно оценить. "
   ]
  },
  {
   "cell_type": "markdown",
   "metadata": {},
   "source": [
    "### Выявление аномалий, анализ выбросов"
   ]
  },
  {
   "cell_type": "markdown",
   "metadata": {},
   "source": [
    "- **Точечный график количества заказов по пользователям**"
   ]
  },
  {
   "cell_type": "code",
   "execution_count": 39,
   "metadata": {
    "scrolled": true
   },
   "outputs": [
    {
     "data": {
      "text/html": [
       "<div>\n",
       "<style scoped>\n",
       "    .dataframe tbody tr th:only-of-type {\n",
       "        vertical-align: middle;\n",
       "    }\n",
       "\n",
       "    .dataframe tbody tr th {\n",
       "        vertical-align: top;\n",
       "    }\n",
       "\n",
       "    .dataframe thead th {\n",
       "        text-align: right;\n",
       "    }\n",
       "</style>\n",
       "<table border=\"1\" class=\"dataframe\">\n",
       "  <thead>\n",
       "    <tr style=\"text-align: right;\">\n",
       "      <th></th>\n",
       "      <th>transaction_id</th>\n",
       "      <th>customer_id</th>\n",
       "      <th>date</th>\n",
       "      <th>revenue</th>\n",
       "      <th>group</th>\n",
       "    </tr>\n",
       "  </thead>\n",
       "  <tbody>\n",
       "    <tr>\n",
       "      <td>0</td>\n",
       "      <td>3667963787</td>\n",
       "      <td>3312258926</td>\n",
       "      <td>2019-08-15</td>\n",
       "      <td>1650</td>\n",
       "      <td>B</td>\n",
       "    </tr>\n",
       "    <tr>\n",
       "      <td>1</td>\n",
       "      <td>2804400009</td>\n",
       "      <td>3642806036</td>\n",
       "      <td>2019-08-15</td>\n",
       "      <td>730</td>\n",
       "      <td>B</td>\n",
       "    </tr>\n",
       "  </tbody>\n",
       "</table>\n",
       "</div>"
      ],
      "text/plain": [
       "   transaction_id  customer_id       date  revenue group\n",
       "0      3667963787   3312258926 2019-08-15     1650     B\n",
       "1      2804400009   3642806036 2019-08-15      730     B"
      ]
     },
     "execution_count": 39,
     "metadata": {},
     "output_type": "execute_result"
    }
   ],
   "source": [
    "orders.head(2)"
   ]
  },
  {
   "cell_type": "markdown",
   "metadata": {},
   "source": [
    "Найдем число заказов по пользователям "
   ]
  },
  {
   "cell_type": "code",
   "execution_count": 40,
   "metadata": {},
   "outputs": [
    {
     "data": {
      "text/html": [
       "<div>\n",
       "<style scoped>\n",
       "    .dataframe tbody tr th:only-of-type {\n",
       "        vertical-align: middle;\n",
       "    }\n",
       "\n",
       "    .dataframe tbody tr th {\n",
       "        vertical-align: top;\n",
       "    }\n",
       "\n",
       "    .dataframe thead th {\n",
       "        text-align: right;\n",
       "    }\n",
       "</style>\n",
       "<table border=\"1\" class=\"dataframe\">\n",
       "  <thead>\n",
       "    <tr style=\"text-align: right;\">\n",
       "      <th></th>\n",
       "      <th>customer_id</th>\n",
       "      <th>orders</th>\n",
       "    </tr>\n",
       "  </thead>\n",
       "  <tbody>\n",
       "    <tr>\n",
       "      <td>0</td>\n",
       "      <td>5114589</td>\n",
       "      <td>1</td>\n",
       "    </tr>\n",
       "    <tr>\n",
       "      <td>1</td>\n",
       "      <td>6958315</td>\n",
       "      <td>1</td>\n",
       "    </tr>\n",
       "    <tr>\n",
       "      <td>2</td>\n",
       "      <td>11685486</td>\n",
       "      <td>1</td>\n",
       "    </tr>\n",
       "    <tr>\n",
       "      <td>3</td>\n",
       "      <td>39475350</td>\n",
       "      <td>1</td>\n",
       "    </tr>\n",
       "    <tr>\n",
       "      <td>4</td>\n",
       "      <td>47206413</td>\n",
       "      <td>1</td>\n",
       "    </tr>\n",
       "  </tbody>\n",
       "</table>\n",
       "</div>"
      ],
      "text/plain": [
       "   customer_id  orders\n",
       "0      5114589       1\n",
       "1      6958315       1\n",
       "2     11685486       1\n",
       "3     39475350       1\n",
       "4     47206413       1"
      ]
     },
     "execution_count": 40,
     "metadata": {},
     "output_type": "execute_result"
    }
   ],
   "source": [
    "orders_by_buyers = orders.drop(['date', 'revenue', 'group'], axis=1)\\\n",
    "    .groupby('customer_id', as_index=False)\\\n",
    "    .agg({'transaction_id': pd.Series.nunique})\n",
    "\n",
    "orders_by_buyers.columns = ['customer_id', 'orders']\n",
    "\n",
    "orders_by_buyers.head()"
   ]
  },
  {
   "cell_type": "code",
   "execution_count": 41,
   "metadata": {},
   "outputs": [],
   "source": [
    "def scatterplot_creator(df, column, title):\n",
    "    x_values = pd.Series(range(0, len(df[column])))\n",
    "    plt.scatter(x_values, df[column])\n",
    "    plt.title(title)"
   ]
  },
  {
   "cell_type": "markdown",
   "metadata": {},
   "source": [
    "Изучим точечный график количества заказов по пользователям"
   ]
  },
  {
   "cell_type": "code",
   "execution_count": 42,
   "metadata": {
    "scrolled": true
   },
   "outputs": [
    {
     "data": {
      "image/png": "[encoded data removed]",
      "text/plain": [
       "<Figure size 432x288 with 1 Axes>"
      ]
     },
     "metadata": {},
     "output_type": "display_data"
    }
   ],
   "source": [
    "scatterplot_creator(orders_by_buyers, 'orders', 'Распределение количества заказов по пользователям')"
   ]
  },
  {
   "cell_type": "markdown",
   "metadata": {},
   "source": [
    "Большинство покупателей заказывали только один раз. Доля пользователей с 2 заказами тоже незначительна. Пользователей, заказавших более двух раз, совсем мало. Они вполне могут быть аномальными.  Необходимо посчитать и оценить выборочные перцентили."
   ]
  },
  {
   "cell_type": "markdown",
   "metadata": {},
   "source": [
    "- **Рассчет 95-го и 99-го перцентилей количества заказов на пользователя**"
   ]
  },
  {
   "cell_type": "markdown",
   "metadata": {},
   "source": [
    "Посчитаем 95-й и 99-й перцентили количества заказов на одного пользователя:"
   ]
  },
  {
   "cell_type": "code",
   "execution_count": 43,
   "metadata": {},
   "outputs": [
    {
     "name": "stdout",
     "output_type": "stream",
     "text": [
      "[1. 2.]\n"
     ]
    }
   ],
   "source": [
    "print(np.percentile(orders_by_buyers['orders'], [95, 99]))"
   ]
  },
  {
   "cell_type": "code",
   "execution_count": 44,
   "metadata": {},
   "outputs": [
    {
     "data": {
      "text/plain": [
       "36"
      ]
     },
     "execution_count": 44,
     "metadata": {},
     "output_type": "execute_result"
    }
   ],
   "source": [
    "len(orders_by_buyers[orders_by_buyers['orders'] >= 2])"
   ]
  },
  {
   "cell_type": "markdown",
   "metadata": {},
   "source": [
    "Судя по точечному графику распределения заказов, 3 и 2 заказа делают совсем немного пользователей. Установим границу аномалий  в 1 заказ, т.е. все что выше 1го заказа будем считать аномалией."
   ]
  },
  {
   "cell_type": "markdown",
   "metadata": {},
   "source": [
    "- **Точечный график стоимостей заказов**"
   ]
  },
  {
   "cell_type": "markdown",
   "metadata": {},
   "source": [
    "Изучим точечный график стоимостей заказов"
   ]
  },
  {
   "cell_type": "code",
   "execution_count": 45,
   "metadata": {
    "scrolled": false
   },
   "outputs": [
    {
     "data": {
      "image/png": "[encoded data removed]",
      "text/plain": [
       "<Figure size 432x288 with 1 Axes>"
      ]
     },
     "metadata": {},
     "output_type": "display_data"
    }
   ],
   "source": [
    "scatterplot_creator(orders, 'revenue', 'Распределение стоимостей заказов')"
   ]
  },
  {
   "cell_type": "markdown",
   "metadata": {},
   "source": [
    "По такому точечному графику сложно сделать выводы. Основная доля заказов точно сосредоточна в диапазоне до 200000.  Посчитаем выборочные персентили и снова посмотрим на точечный график, ограничив верхнюю границу стоимости заказа."
   ]
  },
  {
   "cell_type": "markdown",
   "metadata": {},
   "source": [
    "- **Рассчет 95-го и 99-го перцентилей стоимости заказов**"
   ]
  },
  {
   "cell_type": "code",
   "execution_count": 46,
   "metadata": {},
   "outputs": [
    {
     "name": "stdout",
     "output_type": "stream",
     "text": [
      "[26785. 53904.]\n"
     ]
    }
   ],
   "source": [
    "print(np.percentile(orders['revenue'], [95, 99]))"
   ]
  },
  {
   "cell_type": "markdown",
   "metadata": {},
   "source": [
    "Оказывается, 99% заказов лежит в диапазоне до 60000. Посмотрим еще раз на точечный график, чтобы определиться с границей стоимости аномальных заказов:"
   ]
  },
  {
   "cell_type": "code",
   "execution_count": 47,
   "metadata": {},
   "outputs": [
    {
     "data": {
      "image/png": "[encoded data removed]",
      "text/plain": [
       "<Figure size 432x288 with 1 Axes>"
      ]
     },
     "metadata": {},
     "output_type": "display_data"
    }
   ],
   "source": [
    "new_orders = orders[orders['revenue'] <= 60000]\n",
    "scatterplot_creator(new_orders, 'revenue', 'Распределение стоимостей заказов')"
   ]
  },
  {
   "cell_type": "markdown",
   "metadata": {},
   "source": [
    "Установим границу в 30000. Выше этой суммы заказы встречаются редко."
   ]
  },
  {
   "cell_type": "markdown",
   "metadata": {},
   "source": [
    "### Расчет статистической значимости различий в конверсии между группами по «сырым» данным"
   ]
  },
  {
   "cell_type": "code",
   "execution_count": 48,
   "metadata": {},
   "outputs": [
    {
     "data": {
      "text/html": [
       "<div>\n",
       "<style scoped>\n",
       "    .dataframe tbody tr th:only-of-type {\n",
       "        vertical-align: middle;\n",
       "    }\n",
       "\n",
       "    .dataframe tbody tr th {\n",
       "        vertical-align: top;\n",
       "    }\n",
       "\n",
       "    .dataframe thead th {\n",
       "        text-align: right;\n",
       "    }\n",
       "</style>\n",
       "<table border=\"1\" class=\"dataframe\">\n",
       "  <thead>\n",
       "    <tr style=\"text-align: right;\">\n",
       "      <th></th>\n",
       "      <th>date</th>\n",
       "      <th>group</th>\n",
       "      <th>visitors</th>\n",
       "    </tr>\n",
       "  </thead>\n",
       "  <tbody>\n",
       "    <tr>\n",
       "      <td>49</td>\n",
       "      <td>2019-08-19</td>\n",
       "      <td>B</td>\n",
       "      <td>487</td>\n",
       "    </tr>\n",
       "    <tr>\n",
       "      <td>20</td>\n",
       "      <td>2019-08-21</td>\n",
       "      <td>A</td>\n",
       "      <td>646</td>\n",
       "    </tr>\n",
       "    <tr>\n",
       "      <td>21</td>\n",
       "      <td>2019-08-22</td>\n",
       "      <td>A</td>\n",
       "      <td>609</td>\n",
       "    </tr>\n",
       "  </tbody>\n",
       "</table>\n",
       "</div>"
      ],
      "text/plain": [
       "         date group  visitors\n",
       "49 2019-08-19     B       487\n",
       "20 2019-08-21     A       646\n",
       "21 2019-08-22     A       609"
      ]
     },
     "metadata": {},
     "output_type": "display_data"
    },
    {
     "data": {
      "text/html": [
       "<div>\n",
       "<style scoped>\n",
       "    .dataframe tbody tr th:only-of-type {\n",
       "        vertical-align: middle;\n",
       "    }\n",
       "\n",
       "    .dataframe tbody tr th {\n",
       "        vertical-align: top;\n",
       "    }\n",
       "\n",
       "    .dataframe thead th {\n",
       "        text-align: right;\n",
       "    }\n",
       "</style>\n",
       "<table border=\"1\" class=\"dataframe\">\n",
       "  <thead>\n",
       "    <tr style=\"text-align: right;\">\n",
       "      <th></th>\n",
       "      <th>transaction_id</th>\n",
       "      <th>customer_id</th>\n",
       "      <th>date</th>\n",
       "      <th>revenue</th>\n",
       "      <th>group</th>\n",
       "    </tr>\n",
       "  </thead>\n",
       "  <tbody>\n",
       "    <tr>\n",
       "      <td>403</td>\n",
       "      <td>2890964573</td>\n",
       "      <td>3704741858</td>\n",
       "      <td>2019-08-28</td>\n",
       "      <td>460</td>\n",
       "      <td>B</td>\n",
       "    </tr>\n",
       "    <tr>\n",
       "      <td>176</td>\n",
       "      <td>1791477067</td>\n",
       "      <td>3261022559</td>\n",
       "      <td>2019-08-02</td>\n",
       "      <td>995</td>\n",
       "      <td>B</td>\n",
       "    </tr>\n",
       "  </tbody>\n",
       "</table>\n",
       "</div>"
      ],
      "text/plain": [
       "     transaction_id  customer_id       date  revenue group\n",
       "403      2890964573   3704741858 2019-08-28      460     B\n",
       "176      1791477067   3261022559 2019-08-02      995     B"
      ]
     },
     "metadata": {},
     "output_type": "display_data"
    }
   ],
   "source": [
    "display(visitors.sample(3))\n",
    "display(orders.sample(2))"
   ]
  },
  {
   "cell_type": "markdown",
   "metadata": {},
   "source": [
    "Найдем **количество визитов**  в кажой группе по дням и нарастающим итогом"
   ]
  },
  {
   "cell_type": "code",
   "execution_count": 49,
   "metadata": {},
   "outputs": [
    {
     "data": {
      "text/html": [
       "<div>\n",
       "<style scoped>\n",
       "    .dataframe tbody tr th:only-of-type {\n",
       "        vertical-align: middle;\n",
       "    }\n",
       "\n",
       "    .dataframe tbody tr th {\n",
       "        vertical-align: top;\n",
       "    }\n",
       "\n",
       "    .dataframe thead th {\n",
       "        text-align: right;\n",
       "    }\n",
       "</style>\n",
       "<table border=\"1\" class=\"dataframe\">\n",
       "  <thead>\n",
       "    <tr style=\"text-align: right;\">\n",
       "      <th></th>\n",
       "      <th>date</th>\n",
       "      <th>visitors_per_date_A</th>\n",
       "    </tr>\n",
       "  </thead>\n",
       "  <tbody>\n",
       "    <tr>\n",
       "      <td>0</td>\n",
       "      <td>2019-08-01</td>\n",
       "      <td>719</td>\n",
       "    </tr>\n",
       "    <tr>\n",
       "      <td>1</td>\n",
       "      <td>2019-08-02</td>\n",
       "      <td>619</td>\n",
       "    </tr>\n",
       "    <tr>\n",
       "      <td>2</td>\n",
       "      <td>2019-08-03</td>\n",
       "      <td>507</td>\n",
       "    </tr>\n",
       "  </tbody>\n",
       "</table>\n",
       "</div>"
      ],
      "text/plain": [
       "        date  visitors_per_date_A\n",
       "0 2019-08-01                  719\n",
       "1 2019-08-02                  619\n",
       "2 2019-08-03                  507"
      ]
     },
     "metadata": {},
     "output_type": "display_data"
    },
    {
     "data": {
      "text/html": [
       "<div>\n",
       "<style scoped>\n",
       "    .dataframe tbody tr th:only-of-type {\n",
       "        vertical-align: middle;\n",
       "    }\n",
       "\n",
       "    .dataframe tbody tr th {\n",
       "        vertical-align: top;\n",
       "    }\n",
       "\n",
       "    .dataframe thead th {\n",
       "        text-align: right;\n",
       "    }\n",
       "</style>\n",
       "<table border=\"1\" class=\"dataframe\">\n",
       "  <thead>\n",
       "    <tr style=\"text-align: right;\">\n",
       "      <th></th>\n",
       "      <th>date</th>\n",
       "      <th>visitors_cummulative_A</th>\n",
       "    </tr>\n",
       "  </thead>\n",
       "  <tbody>\n",
       "    <tr>\n",
       "      <td>0</td>\n",
       "      <td>2019-08-01</td>\n",
       "      <td>719</td>\n",
       "    </tr>\n",
       "    <tr>\n",
       "      <td>1</td>\n",
       "      <td>2019-08-02</td>\n",
       "      <td>1338</td>\n",
       "    </tr>\n",
       "    <tr>\n",
       "      <td>2</td>\n",
       "      <td>2019-08-03</td>\n",
       "      <td>1845</td>\n",
       "    </tr>\n",
       "  </tbody>\n",
       "</table>\n",
       "</div>"
      ],
      "text/plain": [
       "        date  visitors_cummulative_A\n",
       "0 2019-08-01                     719\n",
       "1 2019-08-02                    1338\n",
       "2 2019-08-03                    1845"
      ]
     },
     "metadata": {},
     "output_type": "display_data"
    }
   ],
   "source": [
    "visitors_A_daily = visitors[visitors['group'] == 'A'][['date','visitors']]\n",
    "visitors_A_daily.columns = ['date', 'visitors_per_date_A']\n",
    "\n",
    "display(visitors_A_daily.head(3))\n",
    "\n",
    "visitors_A_cumulative = visitors_A_daily.apply(\n",
    "    lambda x: visitors_A_daily[visitors_A_daily['date'] <= x['date']]\n",
    "    .agg({'date':'max', 'visitors_per_date_A':'sum'}),\n",
    "    axis=1\n",
    ")\n",
    "\n",
    "visitors_A_cumulative.columns = ['date', 'visitors_cummulative_A']\n",
    "\n",
    "display(visitors_A_cumulative.head(3))"
   ]
  },
  {
   "cell_type": "code",
   "execution_count": 50,
   "metadata": {},
   "outputs": [
    {
     "data": {
      "text/html": [
       "<div>\n",
       "<style scoped>\n",
       "    .dataframe tbody tr th:only-of-type {\n",
       "        vertical-align: middle;\n",
       "    }\n",
       "\n",
       "    .dataframe tbody tr th {\n",
       "        vertical-align: top;\n",
       "    }\n",
       "\n",
       "    .dataframe thead th {\n",
       "        text-align: right;\n",
       "    }\n",
       "</style>\n",
       "<table border=\"1\" class=\"dataframe\">\n",
       "  <thead>\n",
       "    <tr style=\"text-align: right;\">\n",
       "      <th></th>\n",
       "      <th>date</th>\n",
       "      <th>visitors_per_date_B</th>\n",
       "    </tr>\n",
       "  </thead>\n",
       "  <tbody>\n",
       "    <tr>\n",
       "      <td>31</td>\n",
       "      <td>2019-08-01</td>\n",
       "      <td>713</td>\n",
       "    </tr>\n",
       "    <tr>\n",
       "      <td>32</td>\n",
       "      <td>2019-08-02</td>\n",
       "      <td>581</td>\n",
       "    </tr>\n",
       "    <tr>\n",
       "      <td>33</td>\n",
       "      <td>2019-08-03</td>\n",
       "      <td>509</td>\n",
       "    </tr>\n",
       "  </tbody>\n",
       "</table>\n",
       "</div>"
      ],
      "text/plain": [
       "         date  visitors_per_date_B\n",
       "31 2019-08-01                  713\n",
       "32 2019-08-02                  581\n",
       "33 2019-08-03                  509"
      ]
     },
     "metadata": {},
     "output_type": "display_data"
    },
    {
     "data": {
      "text/html": [
       "<div>\n",
       "<style scoped>\n",
       "    .dataframe tbody tr th:only-of-type {\n",
       "        vertical-align: middle;\n",
       "    }\n",
       "\n",
       "    .dataframe tbody tr th {\n",
       "        vertical-align: top;\n",
       "    }\n",
       "\n",
       "    .dataframe thead th {\n",
       "        text-align: right;\n",
       "    }\n",
       "</style>\n",
       "<table border=\"1\" class=\"dataframe\">\n",
       "  <thead>\n",
       "    <tr style=\"text-align: right;\">\n",
       "      <th></th>\n",
       "      <th>date</th>\n",
       "      <th>visitors_cummulative_B</th>\n",
       "    </tr>\n",
       "  </thead>\n",
       "  <tbody>\n",
       "    <tr>\n",
       "      <td>31</td>\n",
       "      <td>2019-08-01</td>\n",
       "      <td>713</td>\n",
       "    </tr>\n",
       "    <tr>\n",
       "      <td>32</td>\n",
       "      <td>2019-08-02</td>\n",
       "      <td>1294</td>\n",
       "    </tr>\n",
       "    <tr>\n",
       "      <td>33</td>\n",
       "      <td>2019-08-03</td>\n",
       "      <td>1803</td>\n",
       "    </tr>\n",
       "  </tbody>\n",
       "</table>\n",
       "</div>"
      ],
      "text/plain": [
       "         date  visitors_cummulative_B\n",
       "31 2019-08-01                     713\n",
       "32 2019-08-02                    1294\n",
       "33 2019-08-03                    1803"
      ]
     },
     "metadata": {},
     "output_type": "display_data"
    }
   ],
   "source": [
    "visitors_B_daily = visitors[visitors['group'] == 'B'][['date','visitors']]\n",
    "visitors_B_daily.columns = ['date', 'visitors_per_date_B']\n",
    "\n",
    "display(visitors_B_daily.head(3))\n",
    "\n",
    "visitors_B_cumulative = visitors_B_daily.apply(\n",
    "    lambda x: visitors_B_daily[visitors_B_daily['date'] <= x['date']]\n",
    "    .agg({'date':'max', 'visitors_per_date_B':'sum'}),\n",
    "    axis=1\n",
    ")\n",
    "\n",
    "visitors_B_cumulative.columns = ['date', 'visitors_cummulative_B']\n",
    "\n",
    "display(visitors_B_cumulative.head(3))"
   ]
  },
  {
   "cell_type": "markdown",
   "metadata": {},
   "source": [
    "Найдем **количество заказов** и **суммарную выручку** в каждой группе по дням и нарастающим итогом"
   ]
  },
  {
   "cell_type": "code",
   "execution_count": 51,
   "metadata": {},
   "outputs": [
    {
     "data": {
      "text/html": [
       "<div>\n",
       "<style scoped>\n",
       "    .dataframe tbody tr th:only-of-type {\n",
       "        vertical-align: middle;\n",
       "    }\n",
       "\n",
       "    .dataframe tbody tr th {\n",
       "        vertical-align: top;\n",
       "    }\n",
       "\n",
       "    .dataframe thead th {\n",
       "        text-align: right;\n",
       "    }\n",
       "</style>\n",
       "<table border=\"1\" class=\"dataframe\">\n",
       "  <thead>\n",
       "    <tr style=\"text-align: right;\">\n",
       "      <th></th>\n",
       "      <th>date</th>\n",
       "      <th>orders_per_date_A</th>\n",
       "      <th>revenue_per_date_A</th>\n",
       "    </tr>\n",
       "  </thead>\n",
       "  <tbody>\n",
       "    <tr>\n",
       "      <td>0</td>\n",
       "      <td>2019-08-01</td>\n",
       "      <td>23</td>\n",
       "      <td>142779</td>\n",
       "    </tr>\n",
       "    <tr>\n",
       "      <td>1</td>\n",
       "      <td>2019-08-02</td>\n",
       "      <td>19</td>\n",
       "      <td>91602</td>\n",
       "    </tr>\n",
       "    <tr>\n",
       "      <td>2</td>\n",
       "      <td>2019-08-03</td>\n",
       "      <td>24</td>\n",
       "      <td>112473</td>\n",
       "    </tr>\n",
       "  </tbody>\n",
       "</table>\n",
       "</div>"
      ],
      "text/plain": [
       "        date  orders_per_date_A  revenue_per_date_A\n",
       "0 2019-08-01                 23              142779\n",
       "1 2019-08-02                 19               91602\n",
       "2 2019-08-03                 24              112473"
      ]
     },
     "metadata": {},
     "output_type": "display_data"
    },
    {
     "data": {
      "text/html": [
       "<div>\n",
       "<style scoped>\n",
       "    .dataframe tbody tr th:only-of-type {\n",
       "        vertical-align: middle;\n",
       "    }\n",
       "\n",
       "    .dataframe tbody tr th {\n",
       "        vertical-align: top;\n",
       "    }\n",
       "\n",
       "    .dataframe thead th {\n",
       "        text-align: right;\n",
       "    }\n",
       "</style>\n",
       "<table border=\"1\" class=\"dataframe\">\n",
       "  <thead>\n",
       "    <tr style=\"text-align: right;\">\n",
       "      <th></th>\n",
       "      <th>date</th>\n",
       "      <th>orders_cumulative_A</th>\n",
       "      <th>revenue_cumulative_A</th>\n",
       "    </tr>\n",
       "  </thead>\n",
       "  <tbody>\n",
       "    <tr>\n",
       "      <td>0</td>\n",
       "      <td>2019-08-01</td>\n",
       "      <td>23</td>\n",
       "      <td>142779</td>\n",
       "    </tr>\n",
       "    <tr>\n",
       "      <td>1</td>\n",
       "      <td>2019-08-02</td>\n",
       "      <td>42</td>\n",
       "      <td>234381</td>\n",
       "    </tr>\n",
       "    <tr>\n",
       "      <td>2</td>\n",
       "      <td>2019-08-03</td>\n",
       "      <td>66</td>\n",
       "      <td>346854</td>\n",
       "    </tr>\n",
       "  </tbody>\n",
       "</table>\n",
       "</div>"
      ],
      "text/plain": [
       "        date  orders_cumulative_A  revenue_cumulative_A\n",
       "0 2019-08-01                   23                142779\n",
       "1 2019-08-02                   42                234381\n",
       "2 2019-08-03                   66                346854"
      ]
     },
     "metadata": {},
     "output_type": "display_data"
    }
   ],
   "source": [
    "orders_A_daily = (\n",
    "    orders[orders['group'] == 'A'][['date','transaction_id','customer_id','revenue']]\n",
    "    .groupby('date', as_index=False)\n",
    "    .agg({'transaction_id':pd.Series.nunique, 'revenue':'sum'})\n",
    ")\n",
    "\n",
    "orders_A_daily.columns = ['date', 'orders_per_date_A', 'revenue_per_date_A']\n",
    "\n",
    "display(orders_A_daily.head(3))\n",
    "\n",
    "orders_A_cumulative = orders_A_daily.apply(\n",
    "    lambda x: orders_A_daily[orders_A_daily['date'] <= x['date']]\n",
    "    .agg({'date':'max', 'orders_per_date_A':'sum', 'revenue_per_date_A':'sum'}),\n",
    "    axis=1\n",
    ").sort_values(by='date')\n",
    "\n",
    "orders_A_cumulative.columns = ['date', 'orders_cumulative_A', 'revenue_cumulative_A']\n",
    "\n",
    "display(orders_A_cumulative.head(3))"
   ]
  },
  {
   "cell_type": "code",
   "execution_count": 52,
   "metadata": {},
   "outputs": [
    {
     "data": {
      "text/html": [
       "<div>\n",
       "<style scoped>\n",
       "    .dataframe tbody tr th:only-of-type {\n",
       "        vertical-align: middle;\n",
       "    }\n",
       "\n",
       "    .dataframe tbody tr th {\n",
       "        vertical-align: top;\n",
       "    }\n",
       "\n",
       "    .dataframe thead th {\n",
       "        text-align: right;\n",
       "    }\n",
       "</style>\n",
       "<table border=\"1\" class=\"dataframe\">\n",
       "  <thead>\n",
       "    <tr style=\"text-align: right;\">\n",
       "      <th></th>\n",
       "      <th>date</th>\n",
       "      <th>orders_per_date_B</th>\n",
       "      <th>revenue_per_date_B</th>\n",
       "    </tr>\n",
       "  </thead>\n",
       "  <tbody>\n",
       "    <tr>\n",
       "      <td>0</td>\n",
       "      <td>2019-08-01</td>\n",
       "      <td>17</td>\n",
       "      <td>59758</td>\n",
       "    </tr>\n",
       "    <tr>\n",
       "      <td>1</td>\n",
       "      <td>2019-08-02</td>\n",
       "      <td>23</td>\n",
       "      <td>162043</td>\n",
       "    </tr>\n",
       "    <tr>\n",
       "      <td>2</td>\n",
       "      <td>2019-08-03</td>\n",
       "      <td>14</td>\n",
       "      <td>67049</td>\n",
       "    </tr>\n",
       "  </tbody>\n",
       "</table>\n",
       "</div>"
      ],
      "text/plain": [
       "        date  orders_per_date_B  revenue_per_date_B\n",
       "0 2019-08-01                 17               59758\n",
       "1 2019-08-02                 23              162043\n",
       "2 2019-08-03                 14               67049"
      ]
     },
     "metadata": {},
     "output_type": "display_data"
    },
    {
     "data": {
      "text/html": [
       "<div>\n",
       "<style scoped>\n",
       "    .dataframe tbody tr th:only-of-type {\n",
       "        vertical-align: middle;\n",
       "    }\n",
       "\n",
       "    .dataframe tbody tr th {\n",
       "        vertical-align: top;\n",
       "    }\n",
       "\n",
       "    .dataframe thead th {\n",
       "        text-align: right;\n",
       "    }\n",
       "</style>\n",
       "<table border=\"1\" class=\"dataframe\">\n",
       "  <thead>\n",
       "    <tr style=\"text-align: right;\">\n",
       "      <th></th>\n",
       "      <th>date</th>\n",
       "      <th>orders_cumulative_B</th>\n",
       "      <th>revenue_cumulative_B</th>\n",
       "    </tr>\n",
       "  </thead>\n",
       "  <tbody>\n",
       "    <tr>\n",
       "      <td>0</td>\n",
       "      <td>2019-08-01</td>\n",
       "      <td>17</td>\n",
       "      <td>59758</td>\n",
       "    </tr>\n",
       "    <tr>\n",
       "      <td>1</td>\n",
       "      <td>2019-08-02</td>\n",
       "      <td>40</td>\n",
       "      <td>221801</td>\n",
       "    </tr>\n",
       "    <tr>\n",
       "      <td>2</td>\n",
       "      <td>2019-08-03</td>\n",
       "      <td>54</td>\n",
       "      <td>288850</td>\n",
       "    </tr>\n",
       "  </tbody>\n",
       "</table>\n",
       "</div>"
      ],
      "text/plain": [
       "        date  orders_cumulative_B  revenue_cumulative_B\n",
       "0 2019-08-01                   17                 59758\n",
       "1 2019-08-02                   40                221801\n",
       "2 2019-08-03                   54                288850"
      ]
     },
     "metadata": {},
     "output_type": "display_data"
    }
   ],
   "source": [
    "orders_B_daily = (\n",
    "    orders[orders['group'] == 'B'][['date', 'transaction_id', 'customer_id', 'revenue']]\n",
    "    .groupby('date', as_index=False)\n",
    "    .agg({'transaction_id': pd.Series.nunique, 'revenue':'sum'})\n",
    ")\n",
    "\n",
    "orders_B_daily.columns = ['date','orders_per_date_B','revenue_per_date_B']\n",
    "\n",
    "display(orders_B_daily.head(3))\n",
    "\n",
    "orders_B_cumulative = orders_B_daily.apply(\n",
    "    lambda x: orders_B_daily[orders_B_daily['date'] <= x['date']]\n",
    "    .agg({'date':'max', 'orders_per_date_B':'sum', 'revenue_per_date_B':'sum'}),\n",
    "    axis=1\n",
    ").sort_values(by='date')\n",
    "\n",
    "orders_B_cumulative.columns = ['date', 'orders_cumulative_B', 'revenue_cumulative_B']\n",
    "\n",
    "display(orders_B_cumulative.head(3))"
   ]
  },
  {
   "cell_type": "markdown",
   "metadata": {},
   "source": [
    "Cоберем все данные по дням в одну таблицу"
   ]
  },
  {
   "cell_type": "code",
   "execution_count": 53,
   "metadata": {},
   "outputs": [
    {
     "data": {
      "text/html": [
       "<div>\n",
       "<style scoped>\n",
       "    .dataframe tbody tr th:only-of-type {\n",
       "        vertical-align: middle;\n",
       "    }\n",
       "\n",
       "    .dataframe tbody tr th {\n",
       "        vertical-align: top;\n",
       "    }\n",
       "\n",
       "    .dataframe thead th {\n",
       "        text-align: right;\n",
       "    }\n",
       "</style>\n",
       "<table border=\"1\" class=\"dataframe\">\n",
       "  <thead>\n",
       "    <tr style=\"text-align: right;\">\n",
       "      <th></th>\n",
       "      <th>date</th>\n",
       "      <th>orders_per_date_A</th>\n",
       "      <th>revenue_per_date_A</th>\n",
       "      <th>orders_per_date_B</th>\n",
       "      <th>revenue_per_date_B</th>\n",
       "      <th>orders_cumulative_A</th>\n",
       "      <th>revenue_cumulative_A</th>\n",
       "      <th>orders_cumulative_B</th>\n",
       "      <th>revenue_cumulative_B</th>\n",
       "      <th>visitors_per_date_A</th>\n",
       "      <th>visitors_per_date_B</th>\n",
       "      <th>visitors_cummulative_A</th>\n",
       "      <th>visitors_cummulative_B</th>\n",
       "    </tr>\n",
       "  </thead>\n",
       "  <tbody>\n",
       "    <tr>\n",
       "      <td>0</td>\n",
       "      <td>2019-08-01</td>\n",
       "      <td>23</td>\n",
       "      <td>142779</td>\n",
       "      <td>17</td>\n",
       "      <td>59758</td>\n",
       "      <td>23</td>\n",
       "      <td>142779</td>\n",
       "      <td>17</td>\n",
       "      <td>59758</td>\n",
       "      <td>719</td>\n",
       "      <td>713</td>\n",
       "      <td>719</td>\n",
       "      <td>713</td>\n",
       "    </tr>\n",
       "    <tr>\n",
       "      <td>1</td>\n",
       "      <td>2019-08-02</td>\n",
       "      <td>19</td>\n",
       "      <td>91602</td>\n",
       "      <td>23</td>\n",
       "      <td>162043</td>\n",
       "      <td>42</td>\n",
       "      <td>234381</td>\n",
       "      <td>40</td>\n",
       "      <td>221801</td>\n",
       "      <td>619</td>\n",
       "      <td>581</td>\n",
       "      <td>1338</td>\n",
       "      <td>1294</td>\n",
       "    </tr>\n",
       "    <tr>\n",
       "      <td>2</td>\n",
       "      <td>2019-08-03</td>\n",
       "      <td>24</td>\n",
       "      <td>112473</td>\n",
       "      <td>14</td>\n",
       "      <td>67049</td>\n",
       "      <td>66</td>\n",
       "      <td>346854</td>\n",
       "      <td>54</td>\n",
       "      <td>288850</td>\n",
       "      <td>507</td>\n",
       "      <td>509</td>\n",
       "      <td>1845</td>\n",
       "      <td>1803</td>\n",
       "    </tr>\n",
       "    <tr>\n",
       "      <td>3</td>\n",
       "      <td>2019-08-04</td>\n",
       "      <td>11</td>\n",
       "      <td>41176</td>\n",
       "      <td>14</td>\n",
       "      <td>96890</td>\n",
       "      <td>77</td>\n",
       "      <td>388030</td>\n",
       "      <td>68</td>\n",
       "      <td>385740</td>\n",
       "      <td>717</td>\n",
       "      <td>770</td>\n",
       "      <td>2562</td>\n",
       "      <td>2573</td>\n",
       "    </tr>\n",
       "    <tr>\n",
       "      <td>4</td>\n",
       "      <td>2019-08-05</td>\n",
       "      <td>22</td>\n",
       "      <td>86383</td>\n",
       "      <td>21</td>\n",
       "      <td>89908</td>\n",
       "      <td>99</td>\n",
       "      <td>474413</td>\n",
       "      <td>89</td>\n",
       "      <td>475648</td>\n",
       "      <td>756</td>\n",
       "      <td>707</td>\n",
       "      <td>3318</td>\n",
       "      <td>3280</td>\n",
       "    </tr>\n",
       "  </tbody>\n",
       "</table>\n",
       "</div>"
      ],
      "text/plain": [
       "        date  orders_per_date_A  revenue_per_date_A  orders_per_date_B  \\\n",
       "0 2019-08-01                 23              142779                 17   \n",
       "1 2019-08-02                 19               91602                 23   \n",
       "2 2019-08-03                 24              112473                 14   \n",
       "3 2019-08-04                 11               41176                 14   \n",
       "4 2019-08-05                 22               86383                 21   \n",
       "\n",
       "   revenue_per_date_B  orders_cumulative_A  revenue_cumulative_A  \\\n",
       "0               59758                   23                142779   \n",
       "1              162043                   42                234381   \n",
       "2               67049                   66                346854   \n",
       "3               96890                   77                388030   \n",
       "4               89908                   99                474413   \n",
       "\n",
       "   orders_cumulative_B  revenue_cumulative_B  visitors_per_date_A  \\\n",
       "0                   17                 59758                  719   \n",
       "1                   40                221801                  619   \n",
       "2                   54                288850                  507   \n",
       "3                   68                385740                  717   \n",
       "4                   89                475648                  756   \n",
       "\n",
       "   visitors_per_date_B  visitors_cummulative_A  visitors_cummulative_B  \n",
       "0                  713                     719                     713  \n",
       "1                  581                    1338                    1294  \n",
       "2                  509                    1845                    1803  \n",
       "3                  770                    2562                    2573  \n",
       "4                  707                    3318                    3280  "
      ]
     },
     "execution_count": 53,
     "metadata": {},
     "output_type": "execute_result"
    }
   ],
   "source": [
    "data = (\n",
    "    orders_A_daily.merge(orders_B_daily, left_on='date', right_on='date', how='left')\n",
    "    .merge(orders_A_cumulative, left_on='date', right_on='date', how='left')\n",
    "    .merge(orders_B_cumulative, left_on='date', right_on='date', how='left')\n",
    "    .merge(visitors_A_daily, left_on='date', right_on='date', how='left')\n",
    "    .merge(visitors_B_daily, left_on='date', right_on='date', how='left')\n",
    "    .merge(visitors_A_cumulative, left_on='date', right_on='date', how='left')\n",
    "    .merge(visitors_B_cumulative, left_on='date', right_on='date', how='left')\n",
    ")\n",
    "\n",
    "data.head(5)"
   ]
  },
  {
   "cell_type": "markdown",
   "metadata": {},
   "source": [
    "В каждой группе найдем количество заказов для каждого покупателя"
   ]
  },
  {
   "cell_type": "code",
   "execution_count": 54,
   "metadata": {},
   "outputs": [
    {
     "data": {
      "text/html": [
       "<div>\n",
       "<style scoped>\n",
       "    .dataframe tbody tr th:only-of-type {\n",
       "        vertical-align: middle;\n",
       "    }\n",
       "\n",
       "    .dataframe tbody tr th {\n",
       "        vertical-align: top;\n",
       "    }\n",
       "\n",
       "    .dataframe thead th {\n",
       "        text-align: right;\n",
       "    }\n",
       "</style>\n",
       "<table border=\"1\" class=\"dataframe\">\n",
       "  <thead>\n",
       "    <tr style=\"text-align: right;\">\n",
       "      <th></th>\n",
       "      <th>customer_id</th>\n",
       "      <th>orders</th>\n",
       "    </tr>\n",
       "  </thead>\n",
       "  <tbody>\n",
       "    <tr>\n",
       "      <td>0</td>\n",
       "      <td>11685486</td>\n",
       "      <td>1</td>\n",
       "    </tr>\n",
       "    <tr>\n",
       "      <td>1</td>\n",
       "      <td>54447517</td>\n",
       "      <td>1</td>\n",
       "    </tr>\n",
       "    <tr>\n",
       "      <td>2</td>\n",
       "      <td>66685450</td>\n",
       "      <td>1</td>\n",
       "    </tr>\n",
       "  </tbody>\n",
       "</table>\n",
       "</div>"
      ],
      "text/plain": [
       "   customer_id  orders\n",
       "0     11685486       1\n",
       "1     54447517       1\n",
       "2     66685450       1"
      ]
     },
     "metadata": {},
     "output_type": "display_data"
    },
    {
     "data": {
      "text/html": [
       "<div>\n",
       "<style scoped>\n",
       "    .dataframe tbody tr th:only-of-type {\n",
       "        vertical-align: middle;\n",
       "    }\n",
       "\n",
       "    .dataframe tbody tr th {\n",
       "        vertical-align: top;\n",
       "    }\n",
       "\n",
       "    .dataframe thead th {\n",
       "        text-align: right;\n",
       "    }\n",
       "</style>\n",
       "<table border=\"1\" class=\"dataframe\">\n",
       "  <thead>\n",
       "    <tr style=\"text-align: right;\">\n",
       "      <th></th>\n",
       "      <th>customer_id</th>\n",
       "      <th>orders</th>\n",
       "    </tr>\n",
       "  </thead>\n",
       "  <tbody>\n",
       "    <tr>\n",
       "      <td>0</td>\n",
       "      <td>5114589</td>\n",
       "      <td>1</td>\n",
       "    </tr>\n",
       "    <tr>\n",
       "      <td>1</td>\n",
       "      <td>6958315</td>\n",
       "      <td>1</td>\n",
       "    </tr>\n",
       "    <tr>\n",
       "      <td>2</td>\n",
       "      <td>39475350</td>\n",
       "      <td>1</td>\n",
       "    </tr>\n",
       "  </tbody>\n",
       "</table>\n",
       "</div>"
      ],
      "text/plain": [
       "   customer_id  orders\n",
       "0      5114589       1\n",
       "1      6958315       1\n",
       "2     39475350       1"
      ]
     },
     "metadata": {},
     "output_type": "display_data"
    }
   ],
   "source": [
    "orders_by_users_A = (\n",
    "    orders[orders['group'] == 'A']\n",
    "    .groupby('customer_id', as_index=False)\n",
    "    .agg({'transaction_id':pd.Series.nunique})\n",
    ")\n",
    "\n",
    "orders_by_users_A.columns = ['customer_id', 'orders']\n",
    "\n",
    "\n",
    "orders_by_users_B = (\n",
    "    orders[orders['group'] == 'B']\n",
    "    .groupby('customer_id', as_index=False)\n",
    "    .agg({'transaction_id':pd.Series.nunique})\n",
    ")\n",
    "\n",
    "orders_by_users_B.columns = ['customer_id', 'orders']\n",
    "\n",
    "display(orders_by_users_A.head(3))\n",
    "display(orders_by_users_B.head(3))"
   ]
  },
  {
   "cell_type": "markdown",
   "metadata": {},
   "source": [
    "Создадим объектs Series для каждой группы, где будут только количества заказов по покупавшим пользователям и нули по всем остальным."
   ]
  },
  {
   "cell_type": "code",
   "execution_count": 55,
   "metadata": {},
   "outputs": [],
   "source": [
    "sample_A = pd.concat(\n",
    "    [\n",
    "        orders_by_users_A['orders'],\n",
    "        pd.Series(\n",
    "            0,\n",
    "            index=np.arange(data['visitors_per_date_A'].sum() - len(orders_by_users_A['orders'])),\n",
    "            name='orders',   \n",
    "        ),\n",
    "        ],\n",
    "        axis=0,\n",
    ")\n",
    "\n",
    "sample_B = pd.concat(\n",
    "    [\n",
    "        orders_by_users_B['orders'],\n",
    "        pd.Series(\n",
    "            0,\n",
    "            index=np.arange(data['visitors_per_date_B'].sum()-len(orders_by_users_B['orders'])),\n",
    "            name='orders',\n",
    "    ),\n",
    "    ],\n",
    "    axis=0\n",
    ")\n"
   ]
  },
  {
   "cell_type": "markdown",
   "metadata": {},
   "source": [
    "Для определения метода рассчета статистической значимости различий в конверсии между группами по «сырым» данным проверим имеющиеся данные на нормальность распределения при помощи критерия Шапиро-Уилка.\n",
    "\n",
    "Нулевая гипотеза h0 - распределение нормально.  \n",
    "Альтернативная h1 - распределение не нормально."
   ]
  },
  {
   "cell_type": "code",
   "execution_count": 56,
   "metadata": {},
   "outputs": [
    {
     "name": "stdout",
     "output_type": "stream",
     "text": [
      "p-значение = 0.00000\n",
      "Отвергаем нулевую гипотезу: распределение количества заказов в группе А не нормально\n"
     ]
    },
    {
     "name": "stderr",
     "output_type": "stream",
     "text": [
      "/opt/conda/lib/python3.7/site-packages/scipy/stats/morestats.py:1676: UserWarning: p-value may not be accurate for N > 5000.\n",
      "  warnings.warn(\"p-value may not be accurate for N > 5000.\")\n"
     ]
    }
   ],
   "source": [
    "alpha = 0.05  # критический уровень статистической значимости\n",
    "\n",
    "results = st.shapiro(sample_A)\n",
    "p_value = results[1]\n",
    "\n",
    "print('p-значение = {0:.5f}'.format(p_value))\n",
    "\n",
    "if p_value < alpha:\n",
    "    print('Отвергаем нулевую гипотезу: распределение количества заказов в группе А не нормально')\n",
    "else:\n",
    "    print('Не получилось отвергнуть нулевую гипотезу, распределение количества заказов в группе А нормально') "
   ]
  },
  {
   "cell_type": "code",
   "execution_count": 57,
   "metadata": {},
   "outputs": [
    {
     "name": "stdout",
     "output_type": "stream",
     "text": [
      "p-значение = 0.00000\n",
      "Отвергаем нулевую гипотезу: распределение количества заказов в группе B не нормально\n"
     ]
    }
   ],
   "source": [
    "alpha = 0.05  # критический уровень статистической значимости\n",
    "\n",
    "results = st.shapiro(sample_B)\n",
    "p_value = results[1]\n",
    "\n",
    "print('p-значение = {0:.5f}'.format(p_value))\n",
    "\n",
    "if p_value < alpha:\n",
    "    print('Отвергаем нулевую гипотезу: распределение количества заказов в группе B не нормально')\n",
    "else:\n",
    "    print('Не получилось отвергнуть нулевую гипотезу, распределение количества заказов в группе B нормально') "
   ]
  },
  {
   "cell_type": "markdown",
   "metadata": {},
   "source": [
    "Так как распределения не являются нормальными, рассчет статистической значимости различий в конверсии между группами по «сырым» данным произведем с помощью теста Манна-Уитни. \n",
    "Так как альтернативная гипотеза в нашем случае двусторонняя (т.е. утверждает, что параметр просто не равен значению, заданному нулевой гипотезой, он может быть либо больше, либо меньше этого значения), будем использовать в тесте параметр `alternative=\"two-sided\"`.  \n",
    "Также вычислим относительное различие в конверсии между группами.  \n",
    "\n",
    "Сформулируем гипотезы:  \n",
    "Нулевая гипотеза (H0) - статистически значимых отличий в конверсии между группами нет.  \n",
    "Альтернативная (H1) - между группами есть статистически значимые отличия в конверсии.  "
   ]
  },
  {
   "cell_type": "code",
   "execution_count": 58,
   "metadata": {},
   "outputs": [
    {
     "name": "stdout",
     "output_type": "stream",
     "text": [
      "p-value = 0.01102\n",
      "Относительное отличие конверсий = 16.0%\n"
     ]
    }
   ],
   "source": [
    "print('p-value = {0:.5f}'.format(st.mannwhitneyu(sample_A, sample_B, alternative=\"two-sided\")[1]))\n",
    "\n",
    "print('Относительное отличие конверсий = {0:.1%}'.format((data['orders_per_date_B'].sum()/data['visitors_per_date_B'].sum())/(data['orders_per_date_A'].sum()/data['visitors_per_date_A'].sum())-1))\n"
   ]
  },
  {
   "cell_type": "markdown",
   "metadata": {},
   "source": [
    "p-value меньше 0.05, потому нулевую гипотезу об отсутствии между группами статистически значимых отличий в конверсии  отвергаем. \n",
    "Анализ «сырых данных» сообщает, что в конверсии между группами есть статистически значимые различия. Относительный прирост конверсии группы B к конверсии группы A равен 16%.\n",
    "\n",
    "Необходимо оценить, как изменятся результаты анализа после удаления выбросов."
   ]
  },
  {
   "cell_type": "markdown",
   "metadata": {},
   "source": [
    "### Расчет статистической значимости различий в среднем чеке заказа между группами по «сырым» данным"
   ]
  },
  {
   "cell_type": "markdown",
   "metadata": {},
   "source": [
    "Проверим имеющиеся данные на нормальность распределения при помощи критерия Шапиро-Уилка.\n",
    "\n",
    "Нулевая гипотеза h0 - распределение нормально.  \n",
    "Альтернативная h1 - распределение не нормально."
   ]
  },
  {
   "cell_type": "code",
   "execution_count": 59,
   "metadata": {},
   "outputs": [
    {
     "name": "stdout",
     "output_type": "stream",
     "text": [
      "p-значение = 0.00000\n",
      "Отвергаем нулевую гипотезу: распределение данных о выручке с заказов в группе А не нормально\n"
     ]
    }
   ],
   "source": [
    "alpha = 0.05  # критический уровень статистической значимости\n",
    "\n",
    "results = st.shapiro(orders[orders['group']=='A']['revenue'])\n",
    "p_value = results[1]\n",
    "\n",
    "print('p-значение = {0:.5f}'.format(p_value))\n",
    "\n",
    "if p_value < alpha:\n",
    "    print('Отвергаем нулевую гипотезу: распределение данных о выручке с заказов в группе А не нормально')\n",
    "else:\n",
    "    print('Не получилось отвергнуть нулевую гипотезу, распределение данных о выручке с заказов в группе А нормально') "
   ]
  },
  {
   "cell_type": "code",
   "execution_count": 60,
   "metadata": {},
   "outputs": [
    {
     "name": "stdout",
     "output_type": "stream",
     "text": [
      "p-значение = 0.00000\n",
      "Отвергаем нулевую гипотезу: распределение данных о выручке с заказов в группе B не нормально\n"
     ]
    }
   ],
   "source": [
    "alpha = 0.05  # критический уровень статистической значимости\n",
    "\n",
    "results = st.shapiro(orders[orders['group']=='B']['revenue'])\n",
    "p_value = results[1]\n",
    "\n",
    "print('p-значение = {0:.5f}'.format(p_value))\n",
    "\n",
    "if p_value < alpha:\n",
    "    print('Отвергаем нулевую гипотезу: распределение данных о выручке с заказов в группе B не нормально')\n",
    "else:\n",
    "    print('Не получилось отвергнуть нулевую гипотезу, распределение данных о выручке с заказов в группе B нормально') "
   ]
  },
  {
   "cell_type": "markdown",
   "metadata": {},
   "source": [
    "Распределения не являются нормальными, рассчет статистической значимости различий в среднем чеке между группами по «сырым» данным произведем с помощью теста Манна-Уитни для двусторонней альтернативной гипотезы `alternative=\"two-sided\"`.  \n",
    "Также вычислим относительное различие в среднем чеке между группами.  \n",
    "\n",
    "Сформулируем гипотезы:  \n",
    "Нулевая гипотеза (H0) - статистически значимых отличий в среднем чеке между группами нет.  \n",
    "Альтернативная (H1) - между группами есть статистически значимые отличия в среднем чеке.  \n",
    "\n",
    "Передадим критерию `mannwhitneyu()` данные о выручке с заказов, чтобы рассчитать статистическую значимость различий в среднем чеке между сегментами "
   ]
  },
  {
   "cell_type": "code",
   "execution_count": 61,
   "metadata": {},
   "outputs": [
    {
     "name": "stdout",
     "output_type": "stream",
     "text": [
      "p-value = 0.829\n",
      "Относительное отличие средних чеков = 28.7%\n"
     ]
    }
   ],
   "source": [
    "print('p-value = {0:.3f}'.format(st.mannwhitneyu(orders[orders['group']=='A']['revenue'], orders[orders['group']=='B']['revenue'], alternative=\"two-sided\")[1]))\n",
    "print('Относительное отличие средних чеков = {0:.1%}'.format(orders[orders['group']=='B']['revenue'].mean()/orders[orders['group']=='A']['revenue'].mean()-1))"
   ]
  },
  {
   "cell_type": "markdown",
   "metadata": {},
   "source": [
    "P-value значительно больше 0.05. Значит, причин отвергать нулевую гипотезу и считать, что в среднем чеке есть различия, нет.  \n",
    "Но средний чек группы B значительно, на 28.7% выше среднего чека группы A.  \n",
    "\n",
    "Необходимо оценить, как изменятся результаты анализа после удаления выбросов."
   ]
  },
  {
   "cell_type": "markdown",
   "metadata": {},
   "source": [
    "### Расчет статистической значимости различий в конверсии между группами по «очищенным» данным"
   ]
  },
  {
   "cell_type": "markdown",
   "metadata": {},
   "source": [
    "Рассчитанные 95-й и 99-й перцентили средних чеков равны 26 785 и 53 904 рублям. А 95-й и 99-й перцентили количества заказов на одного пользователя равны 1 и 2 заказа.\n",
    "\n",
    "Примем за аномальных пользователей тех, кто совершил от 3 заказов или совершил заказ дороже 30 000 рублей. Так мы уберём 5% пользователей с наибольшим числом заказов и от 1% до 5% пользователей с дорогими заказами. \n",
    "\n",
    "Составим срезы пользователей с числом заказов больше 2 — `users_with_many_orders` и пользователей, совершивших заказы дороже 30 000 — `users_with_expensive_orders`. Объединим их в таблице `abnormal_users`."
   ]
  },
  {
   "cell_type": "code",
   "execution_count": 62,
   "metadata": {},
   "outputs": [
    {
     "data": {
      "text/plain": [
       "1099    148427295\n",
       "928     204675465\n",
       "33      249864742\n",
       "Name: customer_id, dtype: int64"
      ]
     },
     "execution_count": 62,
     "metadata": {},
     "output_type": "execute_result"
    }
   ],
   "source": [
    "users_with_many_orders = pd.concat(\n",
    "    [\n",
    "        orders_by_users_A[orders_by_users_A['orders'] > 1]['customer_id'],\n",
    "        orders_by_users_B[orders_by_users_B['orders'] > 1]['customer_id'],\n",
    "    ],\n",
    "    axis=0,\n",
    ")\n",
    "\n",
    "users_with_expensive_orders = orders[orders['revenue'] > 30000]['customer_id']\n",
    "\n",
    "abnormal_users = (\n",
    "    pd.concat([users_with_many_orders, users_with_expensive_orders], axis=0)\n",
    "    .drop_duplicates()\n",
    "    .sort_values()\n",
    ")\n",
    "\n",
    "abnormal_users.head(3)"
   ]
  },
  {
   "cell_type": "markdown",
   "metadata": {},
   "source": [
    "Узнаем, сколько всего аномальных пользователей"
   ]
  },
  {
   "cell_type": "code",
   "execution_count": 63,
   "metadata": {},
   "outputs": [
    {
     "data": {
      "text/plain": [
       "(77,)"
      ]
     },
     "execution_count": 63,
     "metadata": {},
     "output_type": "execute_result"
    }
   ],
   "source": [
    "abnormal_users.shape"
   ]
  },
  {
   "cell_type": "markdown",
   "metadata": {},
   "source": [
    "Оценим, какое влияние на результаты теста окажет исключение 77 пользователей. Создадим очищенные выборки количества заказов по пользователям по группам теста"
   ]
  },
  {
   "cell_type": "code",
   "execution_count": 64,
   "metadata": {},
   "outputs": [],
   "source": [
    "sample_A_filtered = pd.concat(\n",
    "    [\n",
    "        orders_by_users_A[\n",
    "            np.logical_not(orders_by_users_A['customer_id'].isin(abnormal_users))\n",
    "        ]['orders'],\n",
    "        pd.Series(\n",
    "            0,\n",
    "            index=np.arange(\n",
    "                data['visitors_per_date_A'].sum() - len(orders_by_users_A['orders'])\n",
    "            ),\n",
    "            name='orders',\n",
    "        ),\n",
    "    ],\n",
    "    axis=0,\n",
    ")\n",
    "\n",
    "sample_B_filtered = pd.concat(\n",
    "    [\n",
    "        orders_by_users_B[\n",
    "            np.logical_not(orders_by_users_B['customer_id'].isin(abnormal_users))\n",
    "        ]['orders'],\n",
    "        pd.Series(\n",
    "            0, \n",
    "            index=np.arange(\n",
    "                data['visitors_per_date_B'].sum() - len(orders_by_users_B['orders'])\n",
    "            ),\n",
    "            name='orders',\n",
    "        ),\n",
    "    ],\n",
    "    axis=0\n",
    ")"
   ]
  },
  {
   "cell_type": "markdown",
   "metadata": {},
   "source": [
    "Проверим имеющиеся \"очищенные\" данные на нормальность распределения при помощи критерия Шапиро-Уилка.\n",
    "\n",
    "Нулевая гипотеза h0 - распределение нормально.  \n",
    "Альтернативная h1 - распределение не нормально."
   ]
  },
  {
   "cell_type": "code",
   "execution_count": 65,
   "metadata": {},
   "outputs": [
    {
     "name": "stdout",
     "output_type": "stream",
     "text": [
      "p-значение = 0.00000\n",
      "Отвергаем нулевую гипотезу: распределение количества заказов в группе А не нормально\n"
     ]
    }
   ],
   "source": [
    "alpha = 0.05  # критический уровень статистической значимости\n",
    "\n",
    "results = st.shapiro(sample_A_filtered)\n",
    "p_value = results[1]\n",
    "\n",
    "print('p-значение = {0:.5f}'.format(p_value))\n",
    "\n",
    "if p_value < alpha:\n",
    "    print('Отвергаем нулевую гипотезу: распределение количества заказов в группе А не нормально')\n",
    "else:\n",
    "    print('Не получилось отвергнуть нулевую гипотезу, распределение количества заказов в группе А нормально') "
   ]
  },
  {
   "cell_type": "code",
   "execution_count": 66,
   "metadata": {
    "scrolled": true
   },
   "outputs": [
    {
     "name": "stdout",
     "output_type": "stream",
     "text": [
      "p-значение = 0.00000\n",
      "Отвергаем нулевую гипотезу: распределение количества заказов в группе B не нормально\n"
     ]
    }
   ],
   "source": [
    "alpha = 0.05  # критический уровень статистической значимости\n",
    "\n",
    "results = st.shapiro(sample_B_filtered)\n",
    "p_value = results[1]\n",
    "\n",
    "print('p-значение = {0:.5f}'.format(p_value))\n",
    "\n",
    "if p_value < alpha:\n",
    "    print('Отвергаем нулевую гипотезу: распределение количества заказов в группе B не нормально')\n",
    "else:\n",
    "    print('Не получилось отвергнуть нулевую гипотезу, распределение количества заказов в группе B нормально') "
   ]
  },
  {
   "cell_type": "markdown",
   "metadata": {},
   "source": [
    "Распределения не являются нормальными, рассчет статистической значимости различий в конверсии между группами по «очищенным» данным произведем с помощью теста Манна-Уитни для двусторонней альтернативной гипотезы `alternative=\"two-sided\"`.  \n",
    "Также вычислим относительное различие в конверсии между группами.  \n",
    "\n",
    "Сформулируем гипотезы:  \n",
    "Нулевая гипотеза (H0) - статистически значимых отличий в конверсии между группами нет.  \n",
    "Альтернативная (H1) - между группами есть статистически значимые отличия в конверсии.  \n"
   ]
  },
  {
   "cell_type": "code",
   "execution_count": 67,
   "metadata": {},
   "outputs": [
    {
     "name": "stdout",
     "output_type": "stream",
     "text": [
      "p-value = 0.01255\n",
      "Относительное отличие конверсий = 18.0%\n"
     ]
    }
   ],
   "source": [
    "print('p-value = {0:.5f}'.format(st.mannwhitneyu(sample_A_filtered, sample_B_filtered, alternative=\"two-sided\")[1]))\n",
    "print('Относительное отличие конверсий = {0:.1%}'.format(sample_B_filtered.mean()/sample_A_filtered.mean()-1))"
   ]
  },
  {
   "cell_type": "markdown",
   "metadata": {},
   "source": [
    "Как и в случае с сырыми данными, статистическая значимость достигнута, p-value меньше 0,05, потому нулевую гипотезу об отсутствии между группами статистически значимых отличий в конверсии  отвергаем. Результаты теста показывают, что конверсия сегмента B лучше сегмента A. Об этом также свидетельствует относительный прирост конверсии группы B к конверсии группы A, который равен 18%.\n"
   ]
  },
  {
   "cell_type": "markdown",
   "metadata": {},
   "source": [
    "### Расчет статистической значимости различий в среднем чеке заказа между группами по «очищенным» данным"
   ]
  },
  {
   "cell_type": "markdown",
   "metadata": {},
   "source": [
    "Проверим имеющиеся данные на нормальность распределения при помощи критерия Шапиро-Уилка.\n",
    "\n",
    "Нулевая гипотеза h0 - распределение нормально.  \n",
    "Альтернативная h1 - распределение не нормально."
   ]
  },
  {
   "cell_type": "code",
   "execution_count": 68,
   "metadata": {},
   "outputs": [
    {
     "name": "stdout",
     "output_type": "stream",
     "text": [
      "p-значение = 0.00000\n",
      "Отвергаем нулевую гипотезу: распределение данных о выручке с заказов в группе А не нормально\n"
     ]
    }
   ],
   "source": [
    "alpha = 0.05  # критический уровень статистической значимости\n",
    "\n",
    "results = st.shapiro(orders[\n",
    "                np.logical_and(\n",
    "                    orders['group'] == 'A',\n",
    "                    np.logical_not(orders['customer_id'].isin(abnormal_users)),\n",
    "                )\n",
    "            ]['revenue'])\n",
    "p_value = results[1]\n",
    "\n",
    "print('p-значение = {0:.5f}'.format(p_value))\n",
    "\n",
    "if p_value < alpha:\n",
    "    print('Отвергаем нулевую гипотезу: распределение данных о выручке с заказов в группе А не нормально')\n",
    "else:\n",
    "    print('Не получилось отвергнуть нулевую гипотезу, распределение данных о выручке с заказов в группе А нормально') "
   ]
  },
  {
   "cell_type": "code",
   "execution_count": 69,
   "metadata": {
    "scrolled": true
   },
   "outputs": [
    {
     "name": "stdout",
     "output_type": "stream",
     "text": [
      "p-значение = 0.00000\n",
      "Отвергаем нулевую гипотезу: распределение данных о выручке с заказов в группе B не нормально\n"
     ]
    }
   ],
   "source": [
    "alpha = 0.05  # критический уровень статистической значимости\n",
    "\n",
    "results = st.shapiro(orders[\n",
    "                np.logical_and(\n",
    "                    orders['group'] == 'B',\n",
    "                    np.logical_not(orders['customer_id'].isin(abnormal_users)),\n",
    "                )\n",
    "            ]['revenue'])\n",
    "p_value = results[1]\n",
    "\n",
    "print('p-значение = {0:.5f}'.format(p_value))\n",
    "\n",
    "if p_value < alpha:\n",
    "    print('Отвергаем нулевую гипотезу: распределение данных о выручке с заказов в группе B не нормально')\n",
    "else:\n",
    "    print('Не получилось отвергнуть нулевую гипотезу, распределение данных о выручке с заказов в группе B нормально') "
   ]
  },
  {
   "cell_type": "markdown",
   "metadata": {},
   "source": [
    "Распределения не являются нормальными, рассчет статистической значимости различий в среднем чеке между группами по «очищенным» данным произведем с помощью теста Манна-Уитни для двусторонней альтернативной гипотезы `alternative=\"two-sided\"`.  \n",
    "Также вычислим относительное различие в среднем чеке между группами.  \n",
    "\n",
    "Сформулируем гипотезы:  \n",
    "Нулевая гипотеза (H0) - статистически значимых отличий в среднем чеке между группами нет.  \n",
    "Альтернативная (H1) - между группами есть статистически значимые отличия в среднем чеке.  \n"
   ]
  },
  {
   "cell_type": "markdown",
   "metadata": {},
   "source": [
    "Рассчитаем статистическую значимость различия средних чеков после удаления аномальных пользователей"
   ]
  },
  {
   "cell_type": "code",
   "execution_count": 70,
   "metadata": {},
   "outputs": [
    {
     "name": "stdout",
     "output_type": "stream",
     "text": [
      "p-value = 0.829\n",
      "Относительное отличие средних чеков = -1.1%\n"
     ]
    }
   ],
   "source": [
    "print(\n",
    "    'p-value = {0:.3f}'.format(\n",
    "        st.mannwhitneyu(\n",
    "            orders[\n",
    "                np.logical_and(\n",
    "                    orders['group'] == 'A',\n",
    "                    np.logical_not(orders['customer_id'].isin(abnormal_users)),\n",
    "                )\n",
    "            ]['revenue'],\n",
    "            orders[\n",
    "                np.logical_and(\n",
    "                    orders['group'] == 'B',\n",
    "                    np.logical_not(orders['customer_id'].isin(abnormal_users)),\n",
    "                )\n",
    "            ]['revenue'],\n",
    "            alternative=\"two-sided\"\n",
    "        )[1]\n",
    "    )\n",
    ")\n",
    "\n",
    "print(\n",
    "    \"Относительное отличие средних чеков = {0:.1%}\".format(\n",
    "        orders[\n",
    "            np.logical_and(\n",
    "                orders['group'] == 'B',\n",
    "                np.logical_not(orders['customer_id'].isin(abnormal_users)),\n",
    "            )\n",
    "        ]['revenue'].mean()\n",
    "        / orders[\n",
    "            np.logical_and(\n",
    "                orders['group'] == 'A',\n",
    "                np.logical_not(orders['customer_id'].isin(abnormal_users)),\n",
    "            )\n",
    "        ]['revenue'].mean()\n",
    "        - 1\n",
    "    )\n",
    ")"
   ]
  },
  {
   "cell_type": "markdown",
   "metadata": {},
   "source": [
    "Относительное отличие среднего чека между группами снизилось с 25,9% до -1,1%.  Видим, как сильно влияли выбросы на относительное отличие групп по чеку.  P-value по-прежнему значительно больше 0,05. Значит, по-прежнему нет причин отвергать нулевую гипотезу и считать, что в среднем чеке есть различия."
   ]
  },
  {
   "cell_type": "markdown",
   "metadata": {},
   "source": [
    "### Результаты A/B-теста"
   ]
  },
  {
   "attachments": {
    "image-2.png": {
     "image/png": "[encoded data removed]"
    }
   },
   "cell_type": "markdown",
   "metadata": {},
   "source": [
    "По результатам теста отмечены следующие факты:  \n",
    "- Между группами **есть** статистически значимое **различие по конверсии** как по \"сырым\" данным, так и после фильтрации аномалий.  \n",
    "- **Нет** статистически значимого **различия по среднему чеку** между группами ни по «сырым», ни по данным после фильтрации аномалий.  \n",
    "- График различия конверсии между группами сообщает, что результаты группы B лучше группы A: колебания графика зафиксировались около значения 15%. Это подверждается рассчитанным относительный прирост конверсии группы B к конверсии группы A после исключения аномалий\n",
    "![image-2.png](attachment:image-2.png)"
   ]
  },
  {
   "attachments": {
    "image-2.png": {
     "image/png": "[encoded data removed]"
    }
   },
   "cell_type": "markdown",
   "metadata": {},
   "source": [
    "- График различия среднего чека колеблется, малоиформативен, определенные выводы из него сложно сделать. Разве что отметить, что в данных есть аномалии.\n",
    "![image-2.png](attachment:image-2.png)"
   ]
  },
  {
   "cell_type": "markdown",
   "metadata": {},
   "source": [
    "**ВЫВОД**:  \n",
    "Исходя из обнаруженных фактов, тест следует остановить и признать успех группы В по отношению к группе А по конверсии. Но следует принять во внимание, что отличий по среднему чеку в группах нет. То есть увеличение выручки интернет-магазина будет возможно только за счет возросшей конверсии. "
   ]
  }
 ],
 "metadata": {
  "ExecuteTimeLog": [
   {
    "duration": 1432,
    "start_time": "2021-10-28T10:27:38.034Z"
   },
   {
    "duration": 100,
    "start_time": "2021-10-28T10:27:57.756Z"
   },
   {
    "duration": 23,
    "start_time": "2021-10-28T10:29:07.230Z"
   },
   {
    "duration": 16,
    "start_time": "2021-10-28T10:29:13.135Z"
   },
   {
    "duration": 4,
    "start_time": "2021-10-28T10:30:03.506Z"
   },
   {
    "duration": 22,
    "start_time": "2021-10-28T10:37:17.352Z"
   },
   {
    "duration": 6,
    "start_time": "2021-10-28T10:40:09.979Z"
   },
   {
    "duration": 16,
    "start_time": "2021-10-28T10:43:37.510Z"
   },
   {
    "duration": 400,
    "start_time": "2021-10-28T11:06:15.573Z"
   },
   {
    "duration": 73,
    "start_time": "2021-10-28T11:08:48.004Z"
   },
   {
    "duration": 9,
    "start_time": "2021-10-28T11:08:48.600Z"
   },
   {
    "duration": 11,
    "start_time": "2021-10-28T11:08:49.114Z"
   },
   {
    "duration": 7,
    "start_time": "2021-10-28T11:08:49.714Z"
   },
   {
    "duration": 4,
    "start_time": "2021-10-28T11:08:50.379Z"
   },
   {
    "duration": 23,
    "start_time": "2021-10-28T11:08:51.047Z"
   },
   {
    "duration": 17,
    "start_time": "2021-10-28T11:09:45.190Z"
   },
   {
    "duration": 368,
    "start_time": "2021-10-28T11:09:55.490Z"
   },
   {
    "duration": 9,
    "start_time": "2021-10-28T11:10:15.699Z"
   },
   {
    "duration": 14,
    "start_time": "2021-10-28T11:10:35.615Z"
   },
   {
    "duration": 6,
    "start_time": "2021-10-28T11:10:46.004Z"
   },
   {
    "duration": 287,
    "start_time": "2021-10-28T11:11:58.963Z"
   },
   {
    "duration": 27,
    "start_time": "2021-10-28T11:12:02.783Z"
   },
   {
    "duration": 10,
    "start_time": "2021-10-28T11:13:25.201Z"
   },
   {
    "duration": 5,
    "start_time": "2021-10-28T11:14:15.081Z"
   },
   {
    "duration": 5,
    "start_time": "2021-10-28T11:15:18.826Z"
   },
   {
    "duration": 389,
    "start_time": "2021-10-28T11:16:01.326Z"
   },
   {
    "duration": 455,
    "start_time": "2021-10-28T11:16:06.661Z"
   },
   {
    "duration": 7,
    "start_time": "2021-10-28T11:29:35.104Z"
   },
   {
    "duration": 364,
    "start_time": "2021-10-28T11:29:43.429Z"
   },
   {
    "duration": 20,
    "start_time": "2021-10-28T11:52:52.964Z"
   },
   {
    "duration": 482,
    "start_time": "2021-10-28T11:53:14.949Z"
   },
   {
    "duration": 5,
    "start_time": "2021-10-28T11:59:06.813Z"
   },
   {
    "duration": 363,
    "start_time": "2021-10-28T11:59:45.277Z"
   },
   {
    "duration": 24,
    "start_time": "2021-10-28T12:08:10.179Z"
   },
   {
    "duration": 603,
    "start_time": "2021-10-28T12:08:32.245Z"
   },
   {
    "duration": 15,
    "start_time": "2021-10-28T12:15:55.020Z"
   },
   {
    "duration": 220,
    "start_time": "2021-10-28T12:16:04.128Z"
   },
   {
    "duration": 6,
    "start_time": "2021-10-28T12:16:13.772Z"
   },
   {
    "duration": 532,
    "start_time": "2021-10-28T12:16:23.889Z"
   },
   {
    "duration": 1428,
    "start_time": "2021-10-28T16:21:34.530Z"
   },
   {
    "duration": 92,
    "start_time": "2021-10-28T16:21:35.960Z"
   },
   {
    "duration": 22,
    "start_time": "2021-10-28T16:21:36.058Z"
   },
   {
    "duration": 18,
    "start_time": "2021-10-28T16:21:36.083Z"
   },
   {
    "duration": 4,
    "start_time": "2021-10-28T16:21:36.104Z"
   },
   {
    "duration": 61,
    "start_time": "2021-10-28T16:21:36.110Z"
   },
   {
    "duration": 26,
    "start_time": "2021-10-28T16:21:36.177Z"
   },
   {
    "duration": 79,
    "start_time": "2021-10-28T16:21:36.208Z"
   },
   {
    "duration": 12,
    "start_time": "2021-10-28T16:21:36.290Z"
   },
   {
    "duration": 68,
    "start_time": "2021-10-28T16:21:36.305Z"
   },
   {
    "duration": 8,
    "start_time": "2021-10-28T16:21:36.377Z"
   },
   {
    "duration": 12,
    "start_time": "2021-10-28T16:21:36.388Z"
   },
   {
    "duration": 84,
    "start_time": "2021-10-28T16:21:36.403Z"
   },
   {
    "duration": 77,
    "start_time": "2021-10-28T16:21:36.490Z"
   },
   {
    "duration": 406,
    "start_time": "2021-10-28T16:21:36.571Z"
   },
   {
    "duration": 12,
    "start_time": "2021-10-28T16:21:36.980Z"
   },
   {
    "duration": 20,
    "start_time": "2021-10-28T16:21:36.996Z"
   },
   {
    "duration": 57,
    "start_time": "2021-10-28T16:21:37.019Z"
   },
   {
    "duration": 341,
    "start_time": "2021-10-28T16:21:37.080Z"
   },
   {
    "duration": 56,
    "start_time": "2021-10-28T16:21:37.424Z"
   },
   {
    "duration": 16,
    "start_time": "2021-10-28T16:21:37.482Z"
   },
   {
    "duration": 7,
    "start_time": "2021-10-28T16:21:37.503Z"
   },
   {
    "duration": 7,
    "start_time": "2021-10-28T16:21:37.513Z"
   },
   {
    "duration": 434,
    "start_time": "2021-10-28T16:21:37.523Z"
   },
   {
    "duration": 12,
    "start_time": "2021-10-28T16:21:37.959Z"
   },
   {
    "duration": 397,
    "start_time": "2021-10-28T16:21:37.974Z"
   },
   {
    "duration": 22,
    "start_time": "2021-10-28T16:21:38.373Z"
   },
   {
    "duration": 515,
    "start_time": "2021-10-28T16:21:38.398Z"
   },
   {
    "duration": 6,
    "start_time": "2021-10-28T16:21:38.916Z"
   },
   {
    "duration": 492,
    "start_time": "2021-10-28T16:21:38.924Z"
   },
   {
    "duration": 21,
    "start_time": "2021-10-28T16:21:39.418Z"
   },
   {
    "duration": 469,
    "start_time": "2021-10-28T16:21:39.467Z"
   },
   {
    "duration": 33,
    "start_time": "2021-10-28T16:21:39.938Z"
   },
   {
    "duration": 231,
    "start_time": "2021-10-28T16:21:39.973Z"
   },
   {
    "duration": 5,
    "start_time": "2021-10-28T16:21:40.206Z"
   },
   {
    "duration": 462,
    "start_time": "2021-10-28T16:21:40.213Z"
   },
   {
    "duration": 1325,
    "start_time": "2021-10-28T16:33:01.309Z"
   },
   {
    "duration": 103,
    "start_time": "2021-10-28T16:33:02.637Z"
   },
   {
    "duration": 23,
    "start_time": "2021-10-28T16:33:02.743Z"
   },
   {
    "duration": 13,
    "start_time": "2021-10-28T16:33:02.769Z"
   },
   {
    "duration": 6,
    "start_time": "2021-10-28T16:33:02.785Z"
   },
   {
    "duration": 74,
    "start_time": "2021-10-28T16:33:02.793Z"
   },
   {
    "duration": 18,
    "start_time": "2021-10-28T16:33:02.869Z"
   },
   {
    "duration": 43,
    "start_time": "2021-10-28T16:33:02.891Z"
   },
   {
    "duration": 9,
    "start_time": "2021-10-28T16:33:02.937Z"
   },
   {
    "duration": 13,
    "start_time": "2021-10-28T16:33:02.968Z"
   },
   {
    "duration": 20,
    "start_time": "2021-10-28T16:33:02.983Z"
   },
   {
    "duration": 15,
    "start_time": "2021-10-28T16:33:03.006Z"
   },
   {
    "duration": 64,
    "start_time": "2021-10-28T16:33:03.023Z"
   },
   {
    "duration": 22,
    "start_time": "2021-10-28T16:33:03.089Z"
   },
   {
    "duration": 461,
    "start_time": "2021-10-28T16:33:03.114Z"
   },
   {
    "duration": 11,
    "start_time": "2021-10-28T16:33:03.579Z"
   },
   {
    "duration": 19,
    "start_time": "2021-10-28T16:33:03.593Z"
   },
   {
    "duration": 52,
    "start_time": "2021-10-28T16:33:03.615Z"
   },
   {
    "duration": 314,
    "start_time": "2021-10-28T16:33:03.670Z"
   },
   {
    "duration": 27,
    "start_time": "2021-10-28T16:33:03.987Z"
   },
   {
    "duration": 57,
    "start_time": "2021-10-28T16:33:04.017Z"
   },
   {
    "duration": 15,
    "start_time": "2021-10-28T16:33:04.077Z"
   },
   {
    "duration": 9,
    "start_time": "2021-10-28T16:33:04.097Z"
   },
   {
    "duration": 416,
    "start_time": "2021-10-28T16:33:04.110Z"
   },
   {
    "duration": 7,
    "start_time": "2021-10-28T16:33:04.528Z"
   },
   {
    "duration": 406,
    "start_time": "2021-10-28T16:33:04.537Z"
   },
   {
    "duration": 34,
    "start_time": "2021-10-28T16:33:04.946Z"
   },
   {
    "duration": 467,
    "start_time": "2021-10-28T16:33:04.982Z"
   },
   {
    "duration": 16,
    "start_time": "2021-10-28T16:33:05.452Z"
   },
   {
    "duration": 418,
    "start_time": "2021-10-28T16:33:05.472Z"
   },
   {
    "duration": 25,
    "start_time": "2021-10-28T16:33:05.893Z"
   },
   {
    "duration": 523,
    "start_time": "2021-10-28T16:33:05.921Z"
   },
   {
    "duration": 29,
    "start_time": "2021-10-28T16:33:06.447Z"
   },
   {
    "duration": 262,
    "start_time": "2021-10-28T16:33:06.479Z"
   },
   {
    "duration": 5,
    "start_time": "2021-10-28T16:33:06.743Z"
   },
   {
    "duration": 459,
    "start_time": "2021-10-28T16:33:06.750Z"
   },
   {
    "duration": 5,
    "start_time": "2021-10-28T16:33:07.212Z"
   },
   {
    "duration": 6,
    "start_time": "2021-10-28T16:37:06.833Z"
   },
   {
    "duration": 7,
    "start_time": "2021-10-28T16:37:38.558Z"
   },
   {
    "duration": 519,
    "start_time": "2021-10-28T16:46:28.499Z"
   },
   {
    "duration": 470,
    "start_time": "2021-10-28T16:55:04.644Z"
   },
   {
    "duration": 6,
    "start_time": "2021-10-28T16:55:08.140Z"
   },
   {
    "duration": 511,
    "start_time": "2021-10-28T16:57:09.096Z"
   },
   {
    "duration": 5,
    "start_time": "2021-10-28T17:03:47.164Z"
   },
   {
    "duration": 26,
    "start_time": "2021-10-28T17:05:56.834Z"
   },
   {
    "duration": 115,
    "start_time": "2021-10-28T17:06:45.455Z"
   },
   {
    "duration": 107,
    "start_time": "2021-10-28T17:06:57.228Z"
   },
   {
    "duration": 224,
    "start_time": "2021-10-28T17:07:22.651Z"
   },
   {
    "duration": 218,
    "start_time": "2021-10-28T17:07:34.319Z"
   },
   {
    "duration": 49,
    "start_time": "2021-10-28T17:08:23.888Z"
   },
   {
    "duration": 260,
    "start_time": "2021-10-28T17:08:52.810Z"
   },
   {
    "duration": 9,
    "start_time": "2021-10-28T17:09:13.936Z"
   },
   {
    "duration": 11,
    "start_time": "2021-10-28T17:09:42.450Z"
   },
   {
    "duration": 15,
    "start_time": "2021-10-28T17:15:23.634Z"
   },
   {
    "duration": 16,
    "start_time": "2021-10-28T17:19:43.841Z"
   },
   {
    "duration": 15,
    "start_time": "2021-10-28T17:20:22.701Z"
   },
   {
    "duration": 5,
    "start_time": "2021-10-28T17:20:39.698Z"
   },
   {
    "duration": 12,
    "start_time": "2021-10-28T17:22:23.807Z"
   },
   {
    "duration": 12,
    "start_time": "2021-10-28T17:23:43.802Z"
   },
   {
    "duration": 22,
    "start_time": "2021-10-28T17:26:07.659Z"
   },
   {
    "duration": 1413,
    "start_time": "2021-10-28T17:26:31.928Z"
   },
   {
    "duration": 90,
    "start_time": "2021-10-28T17:26:33.345Z"
   },
   {
    "duration": 27,
    "start_time": "2021-10-28T17:26:33.437Z"
   },
   {
    "duration": 20,
    "start_time": "2021-10-28T17:26:33.468Z"
   },
   {
    "duration": 6,
    "start_time": "2021-10-28T17:26:33.491Z"
   },
   {
    "duration": 69,
    "start_time": "2021-10-28T17:26:33.500Z"
   },
   {
    "duration": 17,
    "start_time": "2021-10-28T17:26:33.571Z"
   },
   {
    "duration": 43,
    "start_time": "2021-10-28T17:26:33.592Z"
   },
   {
    "duration": 30,
    "start_time": "2021-10-28T17:26:33.639Z"
   },
   {
    "duration": 13,
    "start_time": "2021-10-28T17:26:33.672Z"
   },
   {
    "duration": 6,
    "start_time": "2021-10-28T17:26:33.687Z"
   },
   {
    "duration": 6,
    "start_time": "2021-10-28T17:26:33.696Z"
   },
   {
    "duration": 75,
    "start_time": "2021-10-28T17:26:33.705Z"
   },
   {
    "duration": 22,
    "start_time": "2021-10-28T17:26:33.784Z"
   },
   {
    "duration": 452,
    "start_time": "2021-10-28T17:26:33.810Z"
   },
   {
    "duration": 12,
    "start_time": "2021-10-28T17:26:34.267Z"
   },
   {
    "duration": 16,
    "start_time": "2021-10-28T17:26:34.282Z"
   },
   {
    "duration": 8,
    "start_time": "2021-10-28T17:26:34.301Z"
   },
   {
    "duration": 352,
    "start_time": "2021-10-28T17:26:34.369Z"
   },
   {
    "duration": 54,
    "start_time": "2021-10-28T17:26:34.724Z"
   },
   {
    "duration": 15,
    "start_time": "2021-10-28T17:26:34.782Z"
   },
   {
    "duration": 8,
    "start_time": "2021-10-28T17:26:34.799Z"
   },
   {
    "duration": 57,
    "start_time": "2021-10-28T17:26:34.816Z"
   },
   {
    "duration": 442,
    "start_time": "2021-10-28T17:26:34.877Z"
   },
   {
    "duration": 6,
    "start_time": "2021-10-28T17:26:35.321Z"
   },
   {
    "duration": 421,
    "start_time": "2021-10-28T17:26:35.329Z"
   },
   {
    "duration": 40,
    "start_time": "2021-10-28T17:26:35.753Z"
   },
   {
    "duration": 515,
    "start_time": "2021-10-28T17:26:35.797Z"
   },
   {
    "duration": 5,
    "start_time": "2021-10-28T17:26:36.315Z"
   },
   {
    "duration": 492,
    "start_time": "2021-10-28T17:26:36.322Z"
   },
   {
    "duration": 21,
    "start_time": "2021-10-28T17:26:36.816Z"
   },
   {
    "duration": 490,
    "start_time": "2021-10-28T17:26:36.840Z"
   },
   {
    "duration": 12,
    "start_time": "2021-10-28T17:26:37.333Z"
   },
   {
    "duration": 283,
    "start_time": "2021-10-28T17:26:37.368Z"
   },
   {
    "duration": 5,
    "start_time": "2021-10-28T17:26:37.653Z"
   },
   {
    "duration": 440,
    "start_time": "2021-10-28T17:26:37.667Z"
   },
   {
    "duration": 6,
    "start_time": "2021-10-28T17:26:38.109Z"
   },
   {
    "duration": 9,
    "start_time": "2021-10-28T17:26:38.117Z"
   },
   {
    "duration": 479,
    "start_time": "2021-10-28T17:26:38.128Z"
   },
   {
    "duration": 6,
    "start_time": "2021-10-28T17:26:38.610Z"
   },
   {
    "duration": 481,
    "start_time": "2021-10-28T17:26:38.618Z"
   },
   {
    "duration": 21,
    "start_time": "2021-10-28T17:26:39.101Z"
   },
   {
    "duration": 232,
    "start_time": "2021-10-28T17:26:39.124Z"
   },
   {
    "duration": 165,
    "start_time": "2021-10-28T17:26:39.359Z"
   },
   {
    "duration": 189,
    "start_time": "2021-10-28T17:26:39.527Z"
   },
   {
    "duration": 173,
    "start_time": "2021-10-28T17:26:39.719Z"
   },
   {
    "duration": 88,
    "start_time": "2021-10-28T17:26:39.895Z"
   },
   {
    "duration": 265,
    "start_time": "2021-10-28T17:26:39.986Z"
   },
   {
    "duration": 17,
    "start_time": "2021-10-28T17:26:40.255Z"
   },
   {
    "duration": 19,
    "start_time": "2021-10-28T17:26:40.275Z"
   },
   {
    "duration": 18,
    "start_time": "2021-10-28T17:26:40.297Z"
   },
   {
    "duration": 20,
    "start_time": "2021-10-28T17:26:40.369Z"
   },
   {
    "duration": 7,
    "start_time": "2021-10-28T17:26:40.391Z"
   },
   {
    "duration": 11,
    "start_time": "2021-10-28T17:26:40.400Z"
   },
   {
    "duration": 60,
    "start_time": "2021-10-28T17:26:40.414Z"
   },
   {
    "duration": 23,
    "start_time": "2021-10-28T17:26:40.477Z"
   },
   {
    "duration": 1361,
    "start_time": "2021-10-29T05:49:41.677Z"
   },
   {
    "duration": 93,
    "start_time": "2021-10-29T05:49:43.041Z"
   },
   {
    "duration": 23,
    "start_time": "2021-10-29T05:49:43.137Z"
   },
   {
    "duration": 16,
    "start_time": "2021-10-29T05:49:43.163Z"
   },
   {
    "duration": 8,
    "start_time": "2021-10-29T05:49:43.181Z"
   },
   {
    "duration": 20,
    "start_time": "2021-10-29T05:49:43.191Z"
   },
   {
    "duration": 16,
    "start_time": "2021-10-29T05:49:43.214Z"
   },
   {
    "duration": 92,
    "start_time": "2021-10-29T05:49:43.234Z"
   },
   {
    "duration": 8,
    "start_time": "2021-10-29T05:49:43.329Z"
   },
   {
    "duration": 19,
    "start_time": "2021-10-29T05:49:43.340Z"
   },
   {
    "duration": 7,
    "start_time": "2021-10-29T05:49:43.361Z"
   },
   {
    "duration": 6,
    "start_time": "2021-10-29T05:49:43.371Z"
   },
   {
    "duration": 23,
    "start_time": "2021-10-29T05:49:43.379Z"
   },
   {
    "duration": 18,
    "start_time": "2021-10-29T05:49:43.404Z"
   },
   {
    "duration": 408,
    "start_time": "2021-10-29T05:49:43.424Z"
   },
   {
    "duration": 8,
    "start_time": "2021-10-29T05:49:43.834Z"
   },
   {
    "duration": 28,
    "start_time": "2021-10-29T05:49:43.845Z"
   },
   {
    "duration": 7,
    "start_time": "2021-10-29T05:49:43.876Z"
   },
   {
    "duration": 304,
    "start_time": "2021-10-29T05:49:43.885Z"
   },
   {
    "duration": 25,
    "start_time": "2021-10-29T05:49:44.192Z"
   },
   {
    "duration": 10,
    "start_time": "2021-10-29T05:49:44.220Z"
   },
   {
    "duration": 38,
    "start_time": "2021-10-29T05:49:44.233Z"
   },
   {
    "duration": 8,
    "start_time": "2021-10-29T05:49:44.276Z"
   },
   {
    "duration": 401,
    "start_time": "2021-10-29T05:49:44.287Z"
   },
   {
    "duration": 7,
    "start_time": "2021-10-29T05:49:44.691Z"
   },
   {
    "duration": 381,
    "start_time": "2021-10-29T05:49:44.700Z"
   },
   {
    "duration": 20,
    "start_time": "2021-10-29T05:49:45.084Z"
   },
   {
    "duration": 500,
    "start_time": "2021-10-29T05:49:45.107Z"
   },
   {
    "duration": 6,
    "start_time": "2021-10-29T05:49:45.609Z"
   },
   {
    "duration": 379,
    "start_time": "2021-10-29T05:49:45.617Z"
   },
   {
    "duration": 20,
    "start_time": "2021-10-29T05:49:45.999Z"
   },
   {
    "duration": 487,
    "start_time": "2021-10-29T05:49:46.022Z"
   },
   {
    "duration": 12,
    "start_time": "2021-10-29T05:49:46.511Z"
   },
   {
    "duration": 234,
    "start_time": "2021-10-29T05:49:46.525Z"
   },
   {
    "duration": 8,
    "start_time": "2021-10-29T05:49:46.762Z"
   },
   {
    "duration": 413,
    "start_time": "2021-10-29T05:49:46.772Z"
   },
   {
    "duration": 5,
    "start_time": "2021-10-29T05:49:47.188Z"
   },
   {
    "duration": 9,
    "start_time": "2021-10-29T05:49:47.196Z"
   },
   {
    "duration": 486,
    "start_time": "2021-10-29T05:49:47.207Z"
   },
   {
    "duration": 6,
    "start_time": "2021-10-29T05:49:47.696Z"
   },
   {
    "duration": 444,
    "start_time": "2021-10-29T05:49:47.704Z"
   },
   {
    "duration": 31,
    "start_time": "2021-10-29T05:49:48.150Z"
   },
   {
    "duration": 212,
    "start_time": "2021-10-29T05:49:48.184Z"
   },
   {
    "duration": 168,
    "start_time": "2021-10-29T05:49:48.399Z"
   },
   {
    "duration": 148,
    "start_time": "2021-10-29T05:49:48.570Z"
   },
   {
    "duration": 156,
    "start_time": "2021-10-29T05:49:48.720Z"
   },
   {
    "duration": 48,
    "start_time": "2021-10-29T05:49:48.879Z"
   },
   {
    "duration": 260,
    "start_time": "2021-10-29T05:49:48.930Z"
   },
   {
    "duration": 10,
    "start_time": "2021-10-29T05:49:49.193Z"
   },
   {
    "duration": 17,
    "start_time": "2021-10-29T05:49:49.205Z"
   },
   {
    "duration": 53,
    "start_time": "2021-10-29T05:49:49.225Z"
   },
   {
    "duration": 15,
    "start_time": "2021-10-29T05:49:49.281Z"
   },
   {
    "duration": 9,
    "start_time": "2021-10-29T05:49:49.299Z"
   },
   {
    "duration": 60,
    "start_time": "2021-10-29T05:49:49.311Z"
   },
   {
    "duration": 13,
    "start_time": "2021-10-29T05:49:49.375Z"
   },
   {
    "duration": 75,
    "start_time": "2021-10-29T05:49:49.392Z"
   },
   {
    "duration": 16,
    "start_time": "2021-10-29T05:50:44.243Z"
   },
   {
    "duration": 5,
    "start_time": "2021-10-29T05:50:47.743Z"
   },
   {
    "duration": 12,
    "start_time": "2021-10-29T05:50:49.768Z"
   },
   {
    "duration": 10,
    "start_time": "2021-10-29T05:50:55.857Z"
   },
   {
    "duration": 22,
    "start_time": "2021-10-29T05:50:59.873Z"
   },
   {
    "duration": 17,
    "start_time": "2021-10-29T05:52:01.525Z"
   },
   {
    "duration": 5,
    "start_time": "2021-10-29T05:52:03.859Z"
   },
   {
    "duration": 12,
    "start_time": "2021-10-29T05:52:07.813Z"
   },
   {
    "duration": 9,
    "start_time": "2021-10-29T05:52:09.178Z"
   },
   {
    "duration": 21,
    "start_time": "2021-10-29T05:52:12.193Z"
   },
   {
    "duration": 1347,
    "start_time": "2021-10-29T06:00:49.401Z"
   },
   {
    "duration": 689,
    "start_time": "2021-10-29T06:00:50.750Z"
   },
   {
    "duration": 23,
    "start_time": "2021-10-29T06:00:51.442Z"
   },
   {
    "duration": 20,
    "start_time": "2021-10-29T06:00:51.468Z"
   },
   {
    "duration": 5,
    "start_time": "2021-10-29T06:00:51.490Z"
   },
   {
    "duration": 31,
    "start_time": "2021-10-29T06:00:51.497Z"
   },
   {
    "duration": 16,
    "start_time": "2021-10-29T06:00:51.531Z"
   },
   {
    "duration": 50,
    "start_time": "2021-10-29T06:00:51.552Z"
   },
   {
    "duration": 8,
    "start_time": "2021-10-29T06:00:51.605Z"
   },
   {
    "duration": 14,
    "start_time": "2021-10-29T06:00:51.616Z"
   },
   {
    "duration": 7,
    "start_time": "2021-10-29T06:00:51.632Z"
   },
   {
    "duration": 4,
    "start_time": "2021-10-29T06:00:51.642Z"
   },
   {
    "duration": 22,
    "start_time": "2021-10-29T06:00:51.649Z"
   },
   {
    "duration": 17,
    "start_time": "2021-10-29T06:00:51.674Z"
   },
   {
    "duration": 391,
    "start_time": "2021-10-29T06:00:51.693Z"
   },
   {
    "duration": 7,
    "start_time": "2021-10-29T06:00:52.087Z"
   },
   {
    "duration": 13,
    "start_time": "2021-10-29T06:00:52.097Z"
   },
   {
    "duration": 6,
    "start_time": "2021-10-29T06:00:52.113Z"
   },
   {
    "duration": 359,
    "start_time": "2021-10-29T06:00:52.121Z"
   },
   {
    "duration": 26,
    "start_time": "2021-10-29T06:00:52.482Z"
   },
   {
    "duration": 10,
    "start_time": "2021-10-29T06:00:52.511Z"
   },
   {
    "duration": 6,
    "start_time": "2021-10-29T06:00:52.523Z"
   },
   {
    "duration": 28,
    "start_time": "2021-10-29T06:00:52.539Z"
   },
   {
    "duration": 908,
    "start_time": "2021-10-29T06:00:52.572Z"
   },
   {
    "duration": 9,
    "start_time": "2021-10-29T06:00:53.483Z"
   },
   {
    "duration": 415,
    "start_time": "2021-10-29T06:00:53.495Z"
   },
   {
    "duration": 29,
    "start_time": "2021-10-29T06:00:53.912Z"
   },
   {
    "duration": 487,
    "start_time": "2021-10-29T06:00:53.943Z"
   },
   {
    "duration": 5,
    "start_time": "2021-10-29T06:00:54.433Z"
   },
   {
    "duration": 379,
    "start_time": "2021-10-29T06:00:54.441Z"
   },
   {
    "duration": 20,
    "start_time": "2021-10-29T06:00:54.822Z"
   },
   {
    "duration": 492,
    "start_time": "2021-10-29T06:00:54.844Z"
   },
   {
    "duration": 11,
    "start_time": "2021-10-29T06:00:55.339Z"
   },
   {
    "duration": 307,
    "start_time": "2021-10-29T06:00:55.368Z"
   },
   {
    "duration": 4,
    "start_time": "2021-10-29T06:00:55.677Z"
   },
   {
    "duration": 424,
    "start_time": "2021-10-29T06:00:55.683Z"
   },
   {
    "duration": 6,
    "start_time": "2021-10-29T06:00:56.109Z"
   },
   {
    "duration": 11,
    "start_time": "2021-10-29T06:00:56.117Z"
   },
   {
    "duration": 487,
    "start_time": "2021-10-29T06:00:56.130Z"
   },
   {
    "duration": 6,
    "start_time": "2021-10-29T06:00:56.620Z"
   },
   {
    "duration": 474,
    "start_time": "2021-10-29T06:00:56.628Z"
   },
   {
    "duration": 20,
    "start_time": "2021-10-29T06:00:57.104Z"
   },
   {
    "duration": 211,
    "start_time": "2021-10-29T06:00:57.127Z"
   },
   {
    "duration": 140,
    "start_time": "2021-10-29T06:00:57.341Z"
   },
   {
    "duration": 156,
    "start_time": "2021-10-29T06:00:57.484Z"
   },
   {
    "duration": 164,
    "start_time": "2021-10-29T06:00:57.642Z"
   },
   {
    "duration": 75,
    "start_time": "2021-10-29T06:00:57.808Z"
   },
   {
    "duration": 284,
    "start_time": "2021-10-29T06:00:57.885Z"
   },
   {
    "duration": 9,
    "start_time": "2021-10-29T06:00:58.171Z"
   },
   {
    "duration": 10,
    "start_time": "2021-10-29T06:00:58.183Z"
   },
   {
    "duration": 14,
    "start_time": "2021-10-29T06:00:58.196Z"
   },
   {
    "duration": 68,
    "start_time": "2021-10-29T06:00:58.212Z"
   },
   {
    "duration": 6,
    "start_time": "2021-10-29T06:00:58.283Z"
   },
   {
    "duration": 12,
    "start_time": "2021-10-29T06:00:58.292Z"
   },
   {
    "duration": 13,
    "start_time": "2021-10-29T06:00:58.307Z"
   },
   {
    "duration": 21,
    "start_time": "2021-10-29T06:00:58.368Z"
   },
   {
    "duration": 1109,
    "start_time": "2021-10-29T13:54:54.495Z"
   },
   {
    "duration": 78,
    "start_time": "2021-10-29T13:54:55.606Z"
   },
   {
    "duration": 24,
    "start_time": "2021-10-29T13:54:55.686Z"
   },
   {
    "duration": 14,
    "start_time": "2021-10-29T13:54:55.712Z"
   },
   {
    "duration": 4,
    "start_time": "2021-10-29T13:54:55.728Z"
   },
   {
    "duration": 15,
    "start_time": "2021-10-29T13:54:55.734Z"
   },
   {
    "duration": 14,
    "start_time": "2021-10-29T13:54:55.752Z"
   },
   {
    "duration": 60,
    "start_time": "2021-10-29T13:54:55.770Z"
   },
   {
    "duration": 7,
    "start_time": "2021-10-29T13:54:55.833Z"
   },
   {
    "duration": 14,
    "start_time": "2021-10-29T13:54:55.843Z"
   },
   {
    "duration": 6,
    "start_time": "2021-10-29T13:54:55.859Z"
   },
   {
    "duration": 6,
    "start_time": "2021-10-29T13:54:55.867Z"
   },
   {
    "duration": 16,
    "start_time": "2021-10-29T13:54:55.875Z"
   },
   {
    "duration": 17,
    "start_time": "2021-10-29T13:54:55.893Z"
   },
   {
    "duration": 245,
    "start_time": "2021-10-29T13:54:55.912Z"
   },
   {
    "duration": 6,
    "start_time": "2021-10-29T13:54:56.159Z"
   },
   {
    "duration": 14,
    "start_time": "2021-10-29T13:54:56.167Z"
   },
   {
    "duration": 7,
    "start_time": "2021-10-29T13:54:56.183Z"
   },
   {
    "duration": 192,
    "start_time": "2021-10-29T13:54:56.191Z"
   },
   {
    "duration": 18,
    "start_time": "2021-10-29T13:54:56.385Z"
   },
   {
    "duration": 9,
    "start_time": "2021-10-29T13:54:56.405Z"
   },
   {
    "duration": 7,
    "start_time": "2021-10-29T13:54:56.415Z"
   },
   {
    "duration": 6,
    "start_time": "2021-10-29T13:54:56.426Z"
   },
   {
    "duration": 258,
    "start_time": "2021-10-29T13:54:56.435Z"
   },
   {
    "duration": 5,
    "start_time": "2021-10-29T13:54:56.696Z"
   },
   {
    "duration": 251,
    "start_time": "2021-10-29T13:54:56.703Z"
   },
   {
    "duration": 18,
    "start_time": "2021-10-29T13:54:56.956Z"
   },
   {
    "duration": 332,
    "start_time": "2021-10-29T13:54:56.976Z"
   },
   {
    "duration": 4,
    "start_time": "2021-10-29T13:54:57.310Z"
   },
   {
    "duration": 241,
    "start_time": "2021-10-29T13:54:57.315Z"
   },
   {
    "duration": 16,
    "start_time": "2021-10-29T13:54:57.558Z"
   },
   {
    "duration": 336,
    "start_time": "2021-10-29T13:54:57.576Z"
   },
   {
    "duration": 10,
    "start_time": "2021-10-29T13:54:57.914Z"
   },
   {
    "duration": 125,
    "start_time": "2021-10-29T13:54:57.927Z"
   },
   {
    "duration": 4,
    "start_time": "2021-10-29T13:54:58.064Z"
   },
   {
    "duration": 324,
    "start_time": "2021-10-29T13:54:58.070Z"
   },
   {
    "duration": 5,
    "start_time": "2021-10-29T13:54:58.395Z"
   },
   {
    "duration": 10,
    "start_time": "2021-10-29T13:54:58.402Z"
   },
   {
    "duration": 323,
    "start_time": "2021-10-29T13:54:58.414Z"
   },
   {
    "duration": 5,
    "start_time": "2021-10-29T13:54:58.739Z"
   },
   {
    "duration": 370,
    "start_time": "2021-10-29T13:54:58.745Z"
   },
   {
    "duration": 15,
    "start_time": "2021-10-29T13:54:59.117Z"
   },
   {
    "duration": 168,
    "start_time": "2021-10-29T13:54:59.133Z"
   },
   {
    "duration": 81,
    "start_time": "2021-10-29T13:54:59.303Z"
   },
   {
    "duration": 102,
    "start_time": "2021-10-29T13:54:59.385Z"
   },
   {
    "duration": 94,
    "start_time": "2021-10-29T13:54:59.489Z"
   },
   {
    "duration": 33,
    "start_time": "2021-10-29T13:54:59.585Z"
   },
   {
    "duration": 151,
    "start_time": "2021-10-29T13:54:59.619Z"
   },
   {
    "duration": 6,
    "start_time": "2021-10-29T13:54:59.772Z"
   },
   {
    "duration": 12,
    "start_time": "2021-10-29T13:54:59.779Z"
   },
   {
    "duration": 11,
    "start_time": "2021-10-29T13:54:59.793Z"
   },
   {
    "duration": 11,
    "start_time": "2021-10-29T13:54:59.806Z"
   },
   {
    "duration": 7,
    "start_time": "2021-10-29T13:54:59.819Z"
   },
   {
    "duration": 42,
    "start_time": "2021-10-29T13:54:59.828Z"
   },
   {
    "duration": 20,
    "start_time": "2021-10-29T13:54:59.872Z"
   },
   {
    "duration": 15,
    "start_time": "2021-10-29T13:54:59.894Z"
   },
   {
    "duration": 84,
    "start_time": "2021-10-29T14:04:30.824Z"
   },
   {
    "duration": 1461,
    "start_time": "2021-10-30T08:35:23.790Z"
   },
   {
    "duration": 89,
    "start_time": "2021-10-30T08:35:25.254Z"
   },
   {
    "duration": 19,
    "start_time": "2021-10-30T08:35:25.345Z"
   },
   {
    "duration": 11,
    "start_time": "2021-10-30T08:35:25.367Z"
   },
   {
    "duration": 19,
    "start_time": "2021-10-30T08:35:25.380Z"
   },
   {
    "duration": 3,
    "start_time": "2021-10-30T08:35:25.402Z"
   },
   {
    "duration": 34,
    "start_time": "2021-10-30T08:35:25.408Z"
   },
   {
    "duration": 17,
    "start_time": "2021-10-30T08:35:25.445Z"
   },
   {
    "duration": 59,
    "start_time": "2021-10-30T08:35:25.464Z"
   },
   {
    "duration": 16,
    "start_time": "2021-10-30T08:35:25.525Z"
   },
   {
    "duration": 36,
    "start_time": "2021-10-30T08:35:25.543Z"
   },
   {
    "duration": 8,
    "start_time": "2021-10-30T08:35:25.581Z"
   },
   {
    "duration": 13,
    "start_time": "2021-10-30T08:35:25.591Z"
   },
   {
    "duration": 21,
    "start_time": "2021-10-30T08:35:25.607Z"
   },
   {
    "duration": 18,
    "start_time": "2021-10-30T08:35:25.630Z"
   },
   {
    "duration": 360,
    "start_time": "2021-10-30T08:35:25.650Z"
   },
   {
    "duration": 8,
    "start_time": "2021-10-30T08:35:26.012Z"
   },
   {
    "duration": 10,
    "start_time": "2021-10-30T08:35:26.030Z"
   },
   {
    "duration": 7,
    "start_time": "2021-10-30T08:35:26.042Z"
   },
   {
    "duration": 291,
    "start_time": "2021-10-30T08:35:26.051Z"
   },
   {
    "duration": 31,
    "start_time": "2021-10-30T08:35:26.345Z"
   },
   {
    "duration": 11,
    "start_time": "2021-10-30T08:35:26.378Z"
   },
   {
    "duration": 5,
    "start_time": "2021-10-30T08:35:26.395Z"
   },
   {
    "duration": 29,
    "start_time": "2021-10-30T08:35:26.403Z"
   },
   {
    "duration": 373,
    "start_time": "2021-10-30T08:35:26.434Z"
   },
   {
    "duration": 20,
    "start_time": "2021-10-30T08:35:26.809Z"
   },
   {
    "duration": 364,
    "start_time": "2021-10-30T08:35:26.832Z"
   },
   {
    "duration": 31,
    "start_time": "2021-10-30T08:35:27.198Z"
   },
   {
    "duration": 453,
    "start_time": "2021-10-30T08:35:27.231Z"
   },
   {
    "duration": 5,
    "start_time": "2021-10-30T08:35:27.686Z"
   },
   {
    "duration": 362,
    "start_time": "2021-10-30T08:35:27.693Z"
   },
   {
    "duration": 20,
    "start_time": "2021-10-30T08:35:28.057Z"
   },
   {
    "duration": 503,
    "start_time": "2021-10-30T08:35:28.079Z"
   },
   {
    "duration": 11,
    "start_time": "2021-10-30T08:35:28.584Z"
   },
   {
    "duration": 214,
    "start_time": "2021-10-30T08:35:28.598Z"
   },
   {
    "duration": 5,
    "start_time": "2021-10-30T08:35:28.814Z"
   },
   {
    "duration": 422,
    "start_time": "2021-10-30T08:35:28.821Z"
   },
   {
    "duration": 5,
    "start_time": "2021-10-30T08:35:29.246Z"
   },
   {
    "duration": 28,
    "start_time": "2021-10-30T08:35:29.254Z"
   },
   {
    "duration": 466,
    "start_time": "2021-10-30T08:35:29.285Z"
   },
   {
    "duration": 6,
    "start_time": "2021-10-30T08:35:29.753Z"
   },
   {
    "duration": 478,
    "start_time": "2021-10-30T08:35:29.761Z"
   },
   {
    "duration": 19,
    "start_time": "2021-10-30T08:35:30.242Z"
   },
   {
    "duration": 206,
    "start_time": "2021-10-30T08:35:30.264Z"
   },
   {
    "duration": 120,
    "start_time": "2021-10-30T08:35:30.473Z"
   },
   {
    "duration": 158,
    "start_time": "2021-10-30T08:35:30.596Z"
   },
   {
    "duration": 161,
    "start_time": "2021-10-30T08:35:30.757Z"
   },
   {
    "duration": 52,
    "start_time": "2021-10-30T08:35:30.934Z"
   },
   {
    "duration": 380,
    "start_time": "2021-10-30T08:35:30.989Z"
   },
   {
    "duration": 11,
    "start_time": "2021-10-30T08:35:31.372Z"
   },
   {
    "duration": 42,
    "start_time": "2021-10-30T08:35:31.386Z"
   },
   {
    "duration": 35,
    "start_time": "2021-10-30T08:35:31.431Z"
   },
   {
    "duration": 18,
    "start_time": "2021-10-30T08:35:31.469Z"
   },
   {
    "duration": 45,
    "start_time": "2021-10-30T08:35:31.489Z"
   },
   {
    "duration": 31,
    "start_time": "2021-10-30T08:35:31.537Z"
   },
   {
    "duration": 41,
    "start_time": "2021-10-30T08:35:31.571Z"
   },
   {
    "duration": 43,
    "start_time": "2021-10-30T08:35:31.615Z"
   },
   {
    "duration": 14,
    "start_time": "2021-10-30T08:44:49.179Z"
   },
   {
    "duration": 15,
    "start_time": "2021-10-30T08:45:08.221Z"
   },
   {
    "duration": 13,
    "start_time": "2021-10-30T08:49:27.613Z"
   },
   {
    "duration": 14,
    "start_time": "2021-10-30T08:49:49.271Z"
   },
   {
    "duration": 1434,
    "start_time": "2021-10-30T08:49:59.975Z"
   },
   {
    "duration": 95,
    "start_time": "2021-10-30T08:50:01.412Z"
   },
   {
    "duration": 21,
    "start_time": "2021-10-30T08:50:01.511Z"
   },
   {
    "duration": 14,
    "start_time": "2021-10-30T08:50:01.535Z"
   },
   {
    "duration": 17,
    "start_time": "2021-10-30T08:50:01.552Z"
   },
   {
    "duration": 6,
    "start_time": "2021-10-30T08:50:01.572Z"
   },
   {
    "duration": 50,
    "start_time": "2021-10-30T08:50:01.581Z"
   },
   {
    "duration": 18,
    "start_time": "2021-10-30T08:50:01.635Z"
   },
   {
    "duration": 49,
    "start_time": "2021-10-30T08:50:01.656Z"
   },
   {
    "duration": 8,
    "start_time": "2021-10-30T08:50:01.708Z"
   },
   {
    "duration": 20,
    "start_time": "2021-10-30T08:50:01.719Z"
   },
   {
    "duration": 9,
    "start_time": "2021-10-30T08:50:01.742Z"
   },
   {
    "duration": 7,
    "start_time": "2021-10-30T08:50:01.753Z"
   },
   {
    "duration": 21,
    "start_time": "2021-10-30T08:50:01.763Z"
   },
   {
    "duration": 42,
    "start_time": "2021-10-30T08:50:01.787Z"
   },
   {
    "duration": 400,
    "start_time": "2021-10-30T08:50:01.833Z"
   },
   {
    "duration": 8,
    "start_time": "2021-10-30T08:50:02.236Z"
   },
   {
    "duration": 18,
    "start_time": "2021-10-30T08:50:02.247Z"
   },
   {
    "duration": 26,
    "start_time": "2021-10-30T08:50:02.268Z"
   },
   {
    "duration": 298,
    "start_time": "2021-10-30T08:50:02.298Z"
   },
   {
    "duration": 37,
    "start_time": "2021-10-30T08:50:02.598Z"
   },
   {
    "duration": 9,
    "start_time": "2021-10-30T08:50:02.638Z"
   },
   {
    "duration": 6,
    "start_time": "2021-10-30T08:50:02.653Z"
   },
   {
    "duration": 5,
    "start_time": "2021-10-30T08:50:02.662Z"
   },
   {
    "duration": 498,
    "start_time": "2021-10-30T08:50:02.669Z"
   },
   {
    "duration": 6,
    "start_time": "2021-10-30T08:50:03.169Z"
   },
   {
    "duration": 420,
    "start_time": "2021-10-30T08:50:03.178Z"
   },
   {
    "duration": 34,
    "start_time": "2021-10-30T08:50:03.601Z"
   },
   {
    "duration": 464,
    "start_time": "2021-10-30T08:50:03.638Z"
   },
   {
    "duration": 5,
    "start_time": "2021-10-30T08:50:04.105Z"
   },
   {
    "duration": 369,
    "start_time": "2021-10-30T08:50:04.113Z"
   },
   {
    "duration": 20,
    "start_time": "2021-10-30T08:50:04.484Z"
   },
   {
    "duration": 503,
    "start_time": "2021-10-30T08:50:04.507Z"
   },
   {
    "duration": 22,
    "start_time": "2021-10-30T08:50:05.013Z"
   },
   {
    "duration": 221,
    "start_time": "2021-10-30T08:50:05.038Z"
   },
   {
    "duration": 4,
    "start_time": "2021-10-30T08:50:05.262Z"
   },
   {
    "duration": 395,
    "start_time": "2021-10-30T08:50:05.270Z"
   },
   {
    "duration": 8,
    "start_time": "2021-10-30T08:50:05.668Z"
   },
   {
    "duration": 14,
    "start_time": "2021-10-30T08:50:05.679Z"
   },
   {
    "duration": 489,
    "start_time": "2021-10-30T08:50:05.696Z"
   },
   {
    "duration": 5,
    "start_time": "2021-10-30T08:50:06.188Z"
   },
   {
    "duration": 574,
    "start_time": "2021-10-30T08:50:06.196Z"
   },
   {
    "duration": 20,
    "start_time": "2021-10-30T08:50:06.773Z"
   },
   {
    "duration": 233,
    "start_time": "2021-10-30T08:50:06.796Z"
   },
   {
    "duration": 124,
    "start_time": "2021-10-30T08:50:07.031Z"
   },
   {
    "duration": 155,
    "start_time": "2021-10-30T08:50:07.159Z"
   },
   {
    "duration": 161,
    "start_time": "2021-10-30T08:50:07.317Z"
   },
   {
    "duration": 72,
    "start_time": "2021-10-30T08:50:07.481Z"
   },
   {
    "duration": 222,
    "start_time": "2021-10-30T08:50:07.555Z"
   },
   {
    "duration": 9,
    "start_time": "2021-10-30T08:50:07.779Z"
   },
   {
    "duration": 27,
    "start_time": "2021-10-30T08:50:07.790Z"
   },
   {
    "duration": 23,
    "start_time": "2021-10-30T08:50:07.819Z"
   },
   {
    "duration": 16,
    "start_time": "2021-10-30T08:50:07.845Z"
   },
   {
    "duration": 10,
    "start_time": "2021-10-30T08:50:07.863Z"
   },
   {
    "duration": 12,
    "start_time": "2021-10-30T08:50:07.875Z"
   },
   {
    "duration": 46,
    "start_time": "2021-10-30T08:50:07.890Z"
   },
   {
    "duration": 22,
    "start_time": "2021-10-30T08:50:07.939Z"
   },
   {
    "duration": 1521,
    "start_time": "2021-10-30T09:01:49.192Z"
   },
   {
    "duration": 553,
    "start_time": "2021-10-30T09:01:50.716Z"
   },
   {
    "duration": 22,
    "start_time": "2021-10-30T09:01:51.273Z"
   },
   {
    "duration": 13,
    "start_time": "2021-10-30T09:01:51.299Z"
   },
   {
    "duration": 456,
    "start_time": "2021-10-30T09:01:51.315Z"
   },
   {
    "duration": 487,
    "start_time": "2021-10-30T09:01:51.295Z"
   },
   {
    "duration": 421,
    "start_time": "2021-10-30T09:01:51.364Z"
   },
   {
    "duration": 391,
    "start_time": "2021-10-30T09:01:51.396Z"
   },
   {
    "duration": 381,
    "start_time": "2021-10-30T09:01:51.408Z"
   },
   {
    "duration": 373,
    "start_time": "2021-10-30T09:01:51.418Z"
   },
   {
    "duration": 362,
    "start_time": "2021-10-30T09:01:51.430Z"
   },
   {
    "duration": 354,
    "start_time": "2021-10-30T09:01:51.440Z"
   },
   {
    "duration": 343,
    "start_time": "2021-10-30T09:01:51.454Z"
   },
   {
    "duration": 334,
    "start_time": "2021-10-30T09:01:51.464Z"
   },
   {
    "duration": 324,
    "start_time": "2021-10-30T09:01:51.475Z"
   },
   {
    "duration": 316,
    "start_time": "2021-10-30T09:01:51.485Z"
   },
   {
    "duration": 287,
    "start_time": "2021-10-30T09:01:51.515Z"
   },
   {
    "duration": 280,
    "start_time": "2021-10-30T09:01:51.523Z"
   },
   {
    "duration": 272,
    "start_time": "2021-10-30T09:01:51.532Z"
   },
   {
    "duration": 266,
    "start_time": "2021-10-30T09:01:51.540Z"
   },
   {
    "duration": 256,
    "start_time": "2021-10-30T09:01:51.551Z"
   },
   {
    "duration": 248,
    "start_time": "2021-10-30T09:01:51.560Z"
   },
   {
    "duration": 205,
    "start_time": "2021-10-30T09:01:51.605Z"
   },
   {
    "duration": 163,
    "start_time": "2021-10-30T09:01:51.648Z"
   },
   {
    "duration": 119,
    "start_time": "2021-10-30T09:01:51.694Z"
   },
   {
    "duration": 52,
    "start_time": "2021-10-30T09:01:51.762Z"
   },
   {
    "duration": 8,
    "start_time": "2021-10-30T09:01:51.807Z"
   },
   {
    "duration": -22,
    "start_time": "2021-10-30T09:01:51.850Z"
   },
   {
    "duration": -31,
    "start_time": "2021-10-30T09:01:51.861Z"
   },
   {
    "duration": -37,
    "start_time": "2021-10-30T09:01:51.869Z"
   },
   {
    "duration": -45,
    "start_time": "2021-10-30T09:01:51.878Z"
   },
   {
    "duration": -52,
    "start_time": "2021-10-30T09:01:51.887Z"
   },
   {
    "duration": -60,
    "start_time": "2021-10-30T09:01:51.896Z"
   },
   {
    "duration": -67,
    "start_time": "2021-10-30T09:01:51.905Z"
   },
   {
    "duration": -136,
    "start_time": "2021-10-30T09:01:51.975Z"
   },
   {
    "duration": -142,
    "start_time": "2021-10-30T09:01:51.983Z"
   },
   {
    "duration": -150,
    "start_time": "2021-10-30T09:01:51.993Z"
   },
   {
    "duration": -157,
    "start_time": "2021-10-30T09:01:52.001Z"
   },
   {
    "duration": -165,
    "start_time": "2021-10-30T09:01:52.010Z"
   },
   {
    "duration": -171,
    "start_time": "2021-10-30T09:01:52.018Z"
   },
   {
    "duration": -179,
    "start_time": "2021-10-30T09:01:52.027Z"
   },
   {
    "duration": -224,
    "start_time": "2021-10-30T09:01:52.074Z"
   },
   {
    "duration": -281,
    "start_time": "2021-10-30T09:01:52.133Z"
   },
   {
    "duration": -324,
    "start_time": "2021-10-30T09:01:52.177Z"
   },
   {
    "duration": -367,
    "start_time": "2021-10-30T09:01:52.221Z"
   },
   {
    "duration": -373,
    "start_time": "2021-10-30T09:01:52.229Z"
   },
   {
    "duration": -382,
    "start_time": "2021-10-30T09:01:52.239Z"
   },
   {
    "duration": -388,
    "start_time": "2021-10-30T09:01:52.247Z"
   },
   {
    "duration": -396,
    "start_time": "2021-10-30T09:01:52.256Z"
   },
   {
    "duration": -403,
    "start_time": "2021-10-30T09:01:52.265Z"
   },
   {
    "duration": -411,
    "start_time": "2021-10-30T09:01:52.274Z"
   },
   {
    "duration": -418,
    "start_time": "2021-10-30T09:01:52.282Z"
   },
   {
    "duration": -425,
    "start_time": "2021-10-30T09:01:52.291Z"
   },
   {
    "duration": -462,
    "start_time": "2021-10-30T09:01:52.329Z"
   },
   {
    "duration": -507,
    "start_time": "2021-10-30T09:01:52.375Z"
   },
   {
    "duration": -487,
    "start_time": "2021-10-30T09:01:52.417Z"
   },
   {
    "duration": -518,
    "start_time": "2021-10-30T09:01:52.449Z"
   },
   {
    "duration": 13,
    "start_time": "2021-10-30T09:02:13.777Z"
   },
   {
    "duration": 13,
    "start_time": "2021-10-30T09:02:45.040Z"
   },
   {
    "duration": 13,
    "start_time": "2021-10-30T09:02:52.427Z"
   },
   {
    "duration": 13,
    "start_time": "2021-10-30T09:02:57.251Z"
   },
   {
    "duration": 12,
    "start_time": "2021-10-30T09:03:08.814Z"
   },
   {
    "duration": 12,
    "start_time": "2021-10-30T09:03:18.797Z"
   },
   {
    "duration": 12,
    "start_time": "2021-10-30T09:05:07.844Z"
   },
   {
    "duration": 1316,
    "start_time": "2021-10-30T09:05:28.074Z"
   },
   {
    "duration": 77,
    "start_time": "2021-10-30T09:05:29.392Z"
   },
   {
    "duration": 20,
    "start_time": "2021-10-30T09:05:29.473Z"
   },
   {
    "duration": 13,
    "start_time": "2021-10-30T09:05:29.497Z"
   },
   {
    "duration": 15,
    "start_time": "2021-10-30T09:05:29.513Z"
   },
   {
    "duration": 12,
    "start_time": "2021-10-30T09:05:29.531Z"
   },
   {
    "duration": 18,
    "start_time": "2021-10-30T09:05:29.545Z"
   },
   {
    "duration": 17,
    "start_time": "2021-10-30T09:05:29.569Z"
   },
   {
    "duration": 53,
    "start_time": "2021-10-30T09:05:29.589Z"
   },
   {
    "duration": 8,
    "start_time": "2021-10-30T09:05:29.645Z"
   },
   {
    "duration": 13,
    "start_time": "2021-10-30T09:05:29.656Z"
   },
   {
    "duration": 5,
    "start_time": "2021-10-30T09:05:29.672Z"
   },
   {
    "duration": 6,
    "start_time": "2021-10-30T09:05:29.680Z"
   },
   {
    "duration": 49,
    "start_time": "2021-10-30T09:05:29.689Z"
   },
   {
    "duration": 18,
    "start_time": "2021-10-30T09:05:29.741Z"
   },
   {
    "duration": 357,
    "start_time": "2021-10-30T09:05:29.761Z"
   },
   {
    "duration": 14,
    "start_time": "2021-10-30T09:05:30.120Z"
   },
   {
    "duration": 19,
    "start_time": "2021-10-30T09:05:30.137Z"
   },
   {
    "duration": 11,
    "start_time": "2021-10-30T09:05:30.158Z"
   },
   {
    "duration": 291,
    "start_time": "2021-10-30T09:05:30.172Z"
   },
   {
    "duration": 24,
    "start_time": "2021-10-30T09:05:30.465Z"
   },
   {
    "duration": 11,
    "start_time": "2021-10-30T09:05:30.492Z"
   },
   {
    "duration": 5,
    "start_time": "2021-10-30T09:05:30.529Z"
   },
   {
    "duration": 15,
    "start_time": "2021-10-30T09:05:30.538Z"
   },
   {
    "duration": 382,
    "start_time": "2021-10-30T09:05:30.556Z"
   },
   {
    "duration": 6,
    "start_time": "2021-10-30T09:05:30.940Z"
   },
   {
    "duration": 362,
    "start_time": "2021-10-30T09:05:30.948Z"
   },
   {
    "duration": 30,
    "start_time": "2021-10-30T09:05:31.313Z"
   },
   {
    "duration": 449,
    "start_time": "2021-10-30T09:05:31.346Z"
   },
   {
    "duration": 5,
    "start_time": "2021-10-30T09:05:31.797Z"
   },
   {
    "duration": 377,
    "start_time": "2021-10-30T09:05:31.805Z"
   },
   {
    "duration": 22,
    "start_time": "2021-10-30T09:05:32.184Z"
   },
   {
    "duration": 472,
    "start_time": "2021-10-30T09:05:32.208Z"
   },
   {
    "duration": 12,
    "start_time": "2021-10-30T09:05:32.682Z"
   },
   {
    "duration": 198,
    "start_time": "2021-10-30T09:05:32.697Z"
   },
   {
    "duration": 3,
    "start_time": "2021-10-30T09:05:32.898Z"
   },
   {
    "duration": 426,
    "start_time": "2021-10-30T09:05:32.903Z"
   },
   {
    "duration": 6,
    "start_time": "2021-10-30T09:05:33.332Z"
   },
   {
    "duration": 14,
    "start_time": "2021-10-30T09:05:33.341Z"
   },
   {
    "duration": 419,
    "start_time": "2021-10-30T09:05:33.358Z"
   },
   {
    "duration": 6,
    "start_time": "2021-10-30T09:05:33.780Z"
   },
   {
    "duration": 466,
    "start_time": "2021-10-30T09:05:33.790Z"
   },
   {
    "duration": 19,
    "start_time": "2021-10-30T09:05:34.259Z"
   },
   {
    "duration": 201,
    "start_time": "2021-10-30T09:05:34.281Z"
   },
   {
    "duration": 123,
    "start_time": "2021-10-30T09:05:34.484Z"
   },
   {
    "duration": 160,
    "start_time": "2021-10-30T09:05:34.610Z"
   },
   {
    "duration": 166,
    "start_time": "2021-10-30T09:05:34.773Z"
   },
   {
    "duration": 85,
    "start_time": "2021-10-30T09:05:34.943Z"
   },
   {
    "duration": 272,
    "start_time": "2021-10-30T09:05:35.031Z"
   },
   {
    "duration": 8,
    "start_time": "2021-10-30T09:05:35.305Z"
   },
   {
    "duration": 22,
    "start_time": "2021-10-30T09:05:35.315Z"
   },
   {
    "duration": 19,
    "start_time": "2021-10-30T09:05:35.339Z"
   },
   {
    "duration": 16,
    "start_time": "2021-10-30T09:05:35.360Z"
   },
   {
    "duration": 9,
    "start_time": "2021-10-30T09:05:35.379Z"
   },
   {
    "duration": 45,
    "start_time": "2021-10-30T09:05:35.390Z"
   },
   {
    "duration": 21,
    "start_time": "2021-10-30T09:05:35.437Z"
   },
   {
    "duration": 25,
    "start_time": "2021-10-30T09:05:35.461Z"
   },
   {
    "duration": 6237,
    "start_time": "2021-10-30T09:07:36.824Z"
   },
   {
    "duration": 313,
    "start_time": "2021-10-30T10:11:20.750Z"
   },
   {
    "duration": 15,
    "start_time": "2021-10-30T10:14:54.235Z"
   },
   {
    "duration": 1471,
    "start_time": "2021-10-30T10:15:33.050Z"
   },
   {
    "duration": 77,
    "start_time": "2021-10-30T10:15:34.531Z"
   },
   {
    "duration": 19,
    "start_time": "2021-10-30T10:15:34.611Z"
   },
   {
    "duration": 31,
    "start_time": "2021-10-30T10:15:34.632Z"
   },
   {
    "duration": 17,
    "start_time": "2021-10-30T10:15:34.666Z"
   },
   {
    "duration": 35,
    "start_time": "2021-10-30T10:15:34.685Z"
   },
   {
    "duration": 46,
    "start_time": "2021-10-30T10:15:34.724Z"
   },
   {
    "duration": 17,
    "start_time": "2021-10-30T10:15:34.773Z"
   },
   {
    "duration": 918,
    "start_time": "2021-10-30T10:15:34.792Z"
   },
   {
    "duration": 197,
    "start_time": "2021-10-30T10:15:35.519Z"
   },
   {
    "duration": 190,
    "start_time": "2021-10-30T10:15:35.528Z"
   },
   {
    "duration": 183,
    "start_time": "2021-10-30T10:15:35.545Z"
   },
   {
    "duration": 174,
    "start_time": "2021-10-30T10:15:35.557Z"
   },
   {
    "duration": 160,
    "start_time": "2021-10-30T10:15:35.573Z"
   },
   {
    "duration": 147,
    "start_time": "2021-10-30T10:15:35.588Z"
   },
   {
    "duration": 136,
    "start_time": "2021-10-30T10:15:35.601Z"
   },
   {
    "duration": 128,
    "start_time": "2021-10-30T10:15:35.611Z"
   },
   {
    "duration": 103,
    "start_time": "2021-10-30T10:15:35.638Z"
   },
   {
    "duration": 95,
    "start_time": "2021-10-30T10:15:35.648Z"
   },
   {
    "duration": 82,
    "start_time": "2021-10-30T10:15:35.663Z"
   },
   {
    "duration": 70,
    "start_time": "2021-10-30T10:15:35.677Z"
   },
   {
    "duration": 61,
    "start_time": "2021-10-30T10:15:35.689Z"
   },
   {
    "duration": 52,
    "start_time": "2021-10-30T10:15:35.700Z"
   },
   {
    "duration": 40,
    "start_time": "2021-10-30T10:15:35.714Z"
   },
   {
    "duration": 26,
    "start_time": "2021-10-30T10:15:35.730Z"
   },
   {
    "duration": 1,
    "start_time": "2021-10-30T10:15:35.757Z"
   },
   {
    "duration": -8,
    "start_time": "2021-10-30T10:15:35.768Z"
   },
   {
    "duration": -20,
    "start_time": "2021-10-30T10:15:35.782Z"
   },
   {
    "duration": -29,
    "start_time": "2021-10-30T10:15:35.794Z"
   },
   {
    "duration": -40,
    "start_time": "2021-10-30T10:15:35.807Z"
   },
   {
    "duration": 12,
    "start_time": "2021-10-30T10:15:35.817Z"
   },
   {
    "duration": 4,
    "start_time": "2021-10-30T10:15:35.828Z"
   },
   {
    "duration": -7,
    "start_time": "2021-10-30T10:15:35.841Z"
   },
   {
    "duration": -19,
    "start_time": "2021-10-30T10:15:35.855Z"
   },
   {
    "duration": -43,
    "start_time": "2021-10-30T10:15:35.881Z"
   },
   {
    "duration": -57,
    "start_time": "2021-10-30T10:15:35.897Z"
   },
   {
    "duration": -65,
    "start_time": "2021-10-30T10:15:35.907Z"
   },
   {
    "duration": -76,
    "start_time": "2021-10-30T10:15:35.920Z"
   },
   {
    "duration": -84,
    "start_time": "2021-10-30T10:15:35.930Z"
   },
   {
    "duration": -98,
    "start_time": "2021-10-30T10:15:35.946Z"
   },
   {
    "duration": -108,
    "start_time": "2021-10-30T10:15:35.957Z"
   },
   {
    "duration": -119,
    "start_time": "2021-10-30T10:15:35.969Z"
   },
   {
    "duration": -127,
    "start_time": "2021-10-30T10:15:35.979Z"
   },
   {
    "duration": -162,
    "start_time": "2021-10-30T10:15:36.015Z"
   },
   {
    "duration": -173,
    "start_time": "2021-10-30T10:15:36.027Z"
   },
   {
    "duration": -182,
    "start_time": "2021-10-30T10:15:36.038Z"
   },
   {
    "duration": -190,
    "start_time": "2021-10-30T10:15:36.047Z"
   },
   {
    "duration": -203,
    "start_time": "2021-10-30T10:15:36.061Z"
   },
   {
    "duration": -211,
    "start_time": "2021-10-30T10:15:36.070Z"
   },
   {
    "duration": -221,
    "start_time": "2021-10-30T10:15:36.082Z"
   },
   {
    "duration": -230,
    "start_time": "2021-10-30T10:15:36.092Z"
   },
   {
    "duration": -242,
    "start_time": "2021-10-30T10:15:36.105Z"
   },
   {
    "duration": -271,
    "start_time": "2021-10-30T10:15:36.135Z"
   },
   {
    "duration": -281,
    "start_time": "2021-10-30T10:15:36.147Z"
   },
   {
    "duration": -292,
    "start_time": "2021-10-30T10:15:36.159Z"
   },
   {
    "duration": -303,
    "start_time": "2021-10-30T10:15:36.171Z"
   },
   {
    "duration": -253,
    "start_time": "2021-10-30T10:15:36.182Z"
   },
   {
    "duration": -273,
    "start_time": "2021-10-30T10:15:36.204Z"
   },
   {
    "duration": 807,
    "start_time": "2021-10-30T10:16:42.314Z"
   },
   {
    "duration": 1938,
    "start_time": "2021-10-30T10:17:06.536Z"
   },
   {
    "duration": 443,
    "start_time": "2021-10-30T11:10:33.790Z"
   },
   {
    "duration": 49,
    "start_time": "2021-10-30T11:10:43.876Z"
   },
   {
    "duration": 1654,
    "start_time": "2021-10-30T11:11:02.045Z"
   },
   {
    "duration": 135,
    "start_time": "2021-10-30T11:11:03.701Z"
   },
   {
    "duration": 20,
    "start_time": "2021-10-30T11:11:03.839Z"
   },
   {
    "duration": 17,
    "start_time": "2021-10-30T11:11:03.862Z"
   },
   {
    "duration": 16,
    "start_time": "2021-10-30T11:11:03.882Z"
   },
   {
    "duration": 4,
    "start_time": "2021-10-30T11:11:03.900Z"
   },
   {
    "duration": 35,
    "start_time": "2021-10-30T11:11:03.906Z"
   },
   {
    "duration": 16,
    "start_time": "2021-10-30T11:11:03.945Z"
   },
   {
    "duration": 56,
    "start_time": "2021-10-30T11:11:03.964Z"
   },
   {
    "duration": 10,
    "start_time": "2021-10-30T11:11:04.023Z"
   },
   {
    "duration": 18,
    "start_time": "2021-10-30T11:11:04.035Z"
   },
   {
    "duration": 6,
    "start_time": "2021-10-30T11:11:04.055Z"
   },
   {
    "duration": 9,
    "start_time": "2021-10-30T11:11:04.063Z"
   },
   {
    "duration": 24,
    "start_time": "2021-10-30T11:11:04.074Z"
   },
   {
    "duration": 46,
    "start_time": "2021-10-30T11:11:04.102Z"
   },
   {
    "duration": 413,
    "start_time": "2021-10-30T11:11:04.150Z"
   },
   {
    "duration": 8,
    "start_time": "2021-10-30T11:11:04.565Z"
   },
   {
    "duration": 11,
    "start_time": "2021-10-30T11:11:04.576Z"
   },
   {
    "duration": 6,
    "start_time": "2021-10-30T11:11:04.589Z"
   },
   {
    "duration": 370,
    "start_time": "2021-10-30T11:11:04.597Z"
   },
   {
    "duration": 24,
    "start_time": "2021-10-30T11:11:04.969Z"
   },
   {
    "duration": 36,
    "start_time": "2021-10-30T11:11:04.996Z"
   },
   {
    "duration": 11,
    "start_time": "2021-10-30T11:11:05.037Z"
   },
   {
    "duration": 7,
    "start_time": "2021-10-30T11:11:05.052Z"
   },
   {
    "duration": 10,
    "start_time": "2021-10-30T11:11:05.062Z"
   },
   {
    "duration": 576,
    "start_time": "2021-10-30T11:11:05.074Z"
   },
   {
    "duration": 6,
    "start_time": "2021-10-30T11:11:05.653Z"
   },
   {
    "duration": 563,
    "start_time": "2021-10-30T11:11:05.661Z"
   },
   {
    "duration": 21,
    "start_time": "2021-10-30T11:11:06.229Z"
   },
   {
    "duration": 619,
    "start_time": "2021-10-30T11:11:06.252Z"
   },
   {
    "duration": 5,
    "start_time": "2021-10-30T11:11:06.873Z"
   },
   {
    "duration": 532,
    "start_time": "2021-10-30T11:11:06.880Z"
   },
   {
    "duration": 32,
    "start_time": "2021-10-30T11:11:07.415Z"
   },
   {
    "duration": 597,
    "start_time": "2021-10-30T11:11:07.451Z"
   },
   {
    "duration": 12,
    "start_time": "2021-10-30T11:11:08.050Z"
   },
   {
    "duration": 229,
    "start_time": "2021-10-30T11:11:08.064Z"
   },
   {
    "duration": 4,
    "start_time": "2021-10-30T11:11:08.295Z"
   },
   {
    "duration": 610,
    "start_time": "2021-10-30T11:11:08.301Z"
   },
   {
    "duration": 5,
    "start_time": "2021-10-30T11:11:08.913Z"
   },
   {
    "duration": 6,
    "start_time": "2021-10-30T11:11:08.930Z"
   },
   {
    "duration": 711,
    "start_time": "2021-10-30T11:11:08.939Z"
   },
   {
    "duration": 6,
    "start_time": "2021-10-30T11:11:09.652Z"
   },
   {
    "duration": 604,
    "start_time": "2021-10-30T11:11:09.660Z"
   },
   {
    "duration": 20,
    "start_time": "2021-10-30T11:11:10.267Z"
   },
   {
    "duration": 142,
    "start_time": "2021-10-30T11:11:10.289Z"
   },
   {
    "duration": 125,
    "start_time": "2021-10-30T11:11:10.433Z"
   },
   {
    "duration": 152,
    "start_time": "2021-10-30T11:11:10.560Z"
   },
   {
    "duration": 159,
    "start_time": "2021-10-30T11:11:10.714Z"
   },
   {
    "duration": 68,
    "start_time": "2021-10-30T11:11:10.876Z"
   },
   {
    "duration": 257,
    "start_time": "2021-10-30T11:11:10.946Z"
   },
   {
    "duration": 8,
    "start_time": "2021-10-30T11:11:11.206Z"
   },
   {
    "duration": 21,
    "start_time": "2021-10-30T11:11:11.216Z"
   },
   {
    "duration": 14,
    "start_time": "2021-10-30T11:11:11.240Z"
   },
   {
    "duration": 15,
    "start_time": "2021-10-30T11:11:11.256Z"
   },
   {
    "duration": 7,
    "start_time": "2021-10-30T11:11:11.273Z"
   },
   {
    "duration": 56,
    "start_time": "2021-10-30T11:11:11.282Z"
   },
   {
    "duration": 21,
    "start_time": "2021-10-30T11:11:11.340Z"
   },
   {
    "duration": 20,
    "start_time": "2021-10-30T11:11:11.364Z"
   },
   {
    "duration": 12,
    "start_time": "2021-10-30T11:14:00.478Z"
   },
   {
    "duration": 10,
    "start_time": "2021-10-30T11:14:31.442Z"
   },
   {
    "duration": 83,
    "start_time": "2021-10-30T11:17:36.332Z"
   },
   {
    "duration": 75,
    "start_time": "2021-10-30T11:18:10.667Z"
   },
   {
    "duration": 3288,
    "start_time": "2021-10-30T11:18:25.093Z"
   },
   {
    "duration": 10,
    "start_time": "2021-10-30T11:18:47.602Z"
   },
   {
    "duration": 5,
    "start_time": "2021-10-30T11:19:00.938Z"
   },
   {
    "duration": 12,
    "start_time": "2021-10-30T11:34:40.748Z"
   },
   {
    "duration": 9,
    "start_time": "2021-10-30T11:34:41.990Z"
   },
   {
    "duration": 5,
    "start_time": "2021-10-30T11:34:53.105Z"
   },
   {
    "duration": 9,
    "start_time": "2021-10-30T11:46:39.907Z"
   },
   {
    "duration": 6,
    "start_time": "2021-10-30T11:46:57.962Z"
   },
   {
    "duration": 9,
    "start_time": "2021-10-30T11:47:18.610Z"
   },
   {
    "duration": 20,
    "start_time": "2021-10-30T11:47:42.930Z"
   },
   {
    "duration": 1498,
    "start_time": "2021-10-30T11:48:23.107Z"
   },
   {
    "duration": 74,
    "start_time": "2021-10-30T11:48:24.607Z"
   },
   {
    "duration": 19,
    "start_time": "2021-10-30T11:48:24.684Z"
   },
   {
    "duration": 14,
    "start_time": "2021-10-30T11:48:24.706Z"
   },
   {
    "duration": 16,
    "start_time": "2021-10-30T11:48:24.722Z"
   },
   {
    "duration": 6,
    "start_time": "2021-10-30T11:48:24.740Z"
   },
   {
    "duration": 19,
    "start_time": "2021-10-30T11:48:24.748Z"
   },
   {
    "duration": 57,
    "start_time": "2021-10-30T11:48:24.773Z"
   },
   {
    "duration": 48,
    "start_time": "2021-10-30T11:48:24.833Z"
   },
   {
    "duration": 8,
    "start_time": "2021-10-30T11:48:24.883Z"
   },
   {
    "duration": 14,
    "start_time": "2021-10-30T11:48:24.893Z"
   },
   {
    "duration": 6,
    "start_time": "2021-10-30T11:48:24.910Z"
   },
   {
    "duration": 10,
    "start_time": "2021-10-30T11:48:24.919Z"
   },
   {
    "duration": 20,
    "start_time": "2021-10-30T11:48:24.931Z"
   },
   {
    "duration": 18,
    "start_time": "2021-10-30T11:48:24.954Z"
   },
   {
    "duration": 6,
    "start_time": "2021-10-30T11:48:24.974Z"
   },
   {
    "duration": 10,
    "start_time": "2021-10-30T11:48:24.982Z"
   },
   {
    "duration": 35,
    "start_time": "2021-10-30T11:48:24.994Z"
   },
   {
    "duration": 15,
    "start_time": "2021-10-30T11:48:25.032Z"
   },
   {
    "duration": 369,
    "start_time": "2021-10-30T11:48:25.049Z"
   },
   {
    "duration": 14,
    "start_time": "2021-10-30T11:48:25.420Z"
   },
   {
    "duration": 12,
    "start_time": "2021-10-30T11:48:25.437Z"
   },
   {
    "duration": 5,
    "start_time": "2021-10-30T11:48:25.456Z"
   },
   {
    "duration": 303,
    "start_time": "2021-10-30T11:48:25.464Z"
   },
   {
    "duration": 24,
    "start_time": "2021-10-30T11:48:25.770Z"
   },
   {
    "duration": 33,
    "start_time": "2021-10-30T11:48:25.796Z"
   },
   {
    "duration": 6,
    "start_time": "2021-10-30T11:48:25.831Z"
   },
   {
    "duration": 5,
    "start_time": "2021-10-30T11:48:25.839Z"
   },
   {
    "duration": 544,
    "start_time": "2021-10-30T11:48:25.846Z"
   },
   {
    "duration": 7,
    "start_time": "2021-10-30T11:48:26.392Z"
   },
   {
    "duration": 522,
    "start_time": "2021-10-30T11:48:26.402Z"
   },
   {
    "duration": 21,
    "start_time": "2021-10-30T11:48:26.927Z"
   },
   {
    "duration": 590,
    "start_time": "2021-10-30T11:48:26.950Z"
   },
   {
    "duration": 5,
    "start_time": "2021-10-30T11:48:27.543Z"
   },
   {
    "duration": 517,
    "start_time": "2021-10-30T11:48:27.550Z"
   },
   {
    "duration": 20,
    "start_time": "2021-10-30T11:48:28.069Z"
   },
   {
    "duration": 611,
    "start_time": "2021-10-30T11:48:28.092Z"
   },
   {
    "duration": 25,
    "start_time": "2021-10-30T11:48:28.705Z"
   },
   {
    "duration": 197,
    "start_time": "2021-10-30T11:48:28.733Z"
   },
   {
    "duration": 4,
    "start_time": "2021-10-30T11:48:28.933Z"
   },
   {
    "duration": 578,
    "start_time": "2021-10-30T11:48:28.939Z"
   },
   {
    "duration": 13,
    "start_time": "2021-10-30T11:48:29.519Z"
   },
   {
    "duration": 12,
    "start_time": "2021-10-30T11:48:29.534Z"
   },
   {
    "duration": 660,
    "start_time": "2021-10-30T11:48:29.549Z"
   },
   {
    "duration": 6,
    "start_time": "2021-10-30T11:48:30.212Z"
   },
   {
    "duration": 584,
    "start_time": "2021-10-30T11:48:30.230Z"
   },
   {
    "duration": 30,
    "start_time": "2021-10-30T11:48:30.817Z"
   },
   {
    "duration": 132,
    "start_time": "2021-10-30T11:48:30.849Z"
   },
   {
    "duration": 124,
    "start_time": "2021-10-30T11:48:30.984Z"
   },
   {
    "duration": 155,
    "start_time": "2021-10-30T11:48:31.110Z"
   },
   {
    "duration": 167,
    "start_time": "2021-10-30T11:48:31.267Z"
   },
   {
    "duration": 49,
    "start_time": "2021-10-30T11:48:31.437Z"
   },
   {
    "duration": 240,
    "start_time": "2021-10-30T11:48:31.489Z"
   },
   {
    "duration": 9,
    "start_time": "2021-10-30T11:48:31.731Z"
   },
   {
    "duration": 14,
    "start_time": "2021-10-30T11:48:31.742Z"
   },
   {
    "duration": 25,
    "start_time": "2021-10-30T11:48:31.759Z"
   },
   {
    "duration": 16,
    "start_time": "2021-10-30T11:48:31.787Z"
   },
   {
    "duration": 6,
    "start_time": "2021-10-30T11:48:31.830Z"
   },
   {
    "duration": 12,
    "start_time": "2021-10-30T11:48:31.839Z"
   },
   {
    "duration": 15,
    "start_time": "2021-10-30T11:48:31.854Z"
   },
   {
    "duration": 22,
    "start_time": "2021-10-30T11:48:31.871Z"
   },
   {
    "duration": 1447,
    "start_time": "2021-10-30T11:50:17.956Z"
   },
   {
    "duration": 82,
    "start_time": "2021-10-30T11:50:19.409Z"
   },
   {
    "duration": 18,
    "start_time": "2021-10-30T11:50:19.494Z"
   },
   {
    "duration": 11,
    "start_time": "2021-10-30T11:50:19.515Z"
   },
   {
    "duration": 15,
    "start_time": "2021-10-30T11:50:19.528Z"
   },
   {
    "duration": 6,
    "start_time": "2021-10-30T11:50:19.545Z"
   },
   {
    "duration": 18,
    "start_time": "2021-10-30T11:50:19.555Z"
   },
   {
    "duration": 15,
    "start_time": "2021-10-30T11:50:19.576Z"
   },
   {
    "duration": 82,
    "start_time": "2021-10-30T11:50:19.593Z"
   },
   {
    "duration": 8,
    "start_time": "2021-10-30T11:50:19.678Z"
   },
   {
    "duration": 12,
    "start_time": "2021-10-30T11:50:19.688Z"
   },
   {
    "duration": 17,
    "start_time": "2021-10-30T11:50:19.703Z"
   },
   {
    "duration": 7,
    "start_time": "2021-10-30T11:50:19.722Z"
   },
   {
    "duration": 22,
    "start_time": "2021-10-30T11:50:19.732Z"
   },
   {
    "duration": 15,
    "start_time": "2021-10-30T11:50:19.756Z"
   },
   {
    "duration": 5,
    "start_time": "2021-10-30T11:50:19.773Z"
   },
   {
    "duration": 9,
    "start_time": "2021-10-30T11:50:19.780Z"
   },
   {
    "duration": 6,
    "start_time": "2021-10-30T11:50:19.792Z"
   },
   {
    "duration": 40,
    "start_time": "2021-10-30T11:50:19.800Z"
   },
   {
    "duration": 365,
    "start_time": "2021-10-30T11:50:19.843Z"
   },
   {
    "duration": 7,
    "start_time": "2021-10-30T11:50:20.211Z"
   },
   {
    "duration": 10,
    "start_time": "2021-10-30T11:50:20.233Z"
   },
   {
    "duration": 7,
    "start_time": "2021-10-30T11:50:20.246Z"
   },
   {
    "duration": 299,
    "start_time": "2021-10-30T11:50:20.255Z"
   },
   {
    "duration": 29,
    "start_time": "2021-10-30T11:50:20.557Z"
   },
   {
    "duration": 10,
    "start_time": "2021-10-30T11:50:20.588Z"
   },
   {
    "duration": 28,
    "start_time": "2021-10-30T11:50:20.601Z"
   },
   {
    "duration": 4,
    "start_time": "2021-10-30T11:50:20.631Z"
   },
   {
    "duration": 533,
    "start_time": "2021-10-30T11:50:20.638Z"
   },
   {
    "duration": 6,
    "start_time": "2021-10-30T11:50:21.174Z"
   },
   {
    "duration": 533,
    "start_time": "2021-10-30T11:50:21.182Z"
   },
   {
    "duration": 31,
    "start_time": "2021-10-30T11:50:21.718Z"
   },
   {
    "duration": 571,
    "start_time": "2021-10-30T11:50:21.751Z"
   },
   {
    "duration": 5,
    "start_time": "2021-10-30T11:50:22.325Z"
   },
   {
    "duration": 509,
    "start_time": "2021-10-30T11:50:22.332Z"
   },
   {
    "duration": 19,
    "start_time": "2021-10-30T11:50:22.844Z"
   },
   {
    "duration": 622,
    "start_time": "2021-10-30T11:50:22.865Z"
   },
   {
    "duration": 13,
    "start_time": "2021-10-30T11:50:23.490Z"
   },
   {
    "duration": 238,
    "start_time": "2021-10-30T11:50:23.506Z"
   },
   {
    "duration": 4,
    "start_time": "2021-10-30T11:50:23.746Z"
   },
   {
    "duration": 678,
    "start_time": "2021-10-30T11:50:23.753Z"
   },
   {
    "duration": 6,
    "start_time": "2021-10-30T11:50:24.433Z"
   },
   {
    "duration": 12,
    "start_time": "2021-10-30T11:50:24.441Z"
   },
   {
    "duration": 653,
    "start_time": "2021-10-30T11:50:24.455Z"
   },
   {
    "duration": 6,
    "start_time": "2021-10-30T11:50:25.110Z"
   },
   {
    "duration": 581,
    "start_time": "2021-10-30T11:50:25.129Z"
   },
   {
    "duration": 27,
    "start_time": "2021-10-30T11:50:25.712Z"
   },
   {
    "duration": 132,
    "start_time": "2021-10-30T11:50:25.741Z"
   },
   {
    "duration": 129,
    "start_time": "2021-10-30T11:50:25.876Z"
   },
   {
    "duration": 153,
    "start_time": "2021-10-30T11:50:26.007Z"
   },
   {
    "duration": 150,
    "start_time": "2021-10-30T11:50:26.163Z"
   },
   {
    "duration": 51,
    "start_time": "2021-10-30T11:50:26.328Z"
   },
   {
    "duration": 247,
    "start_time": "2021-10-30T11:50:26.382Z"
   },
   {
    "duration": 8,
    "start_time": "2021-10-30T11:50:26.632Z"
   },
   {
    "duration": 15,
    "start_time": "2021-10-30T11:50:26.643Z"
   },
   {
    "duration": 14,
    "start_time": "2021-10-30T11:50:26.661Z"
   },
   {
    "duration": 16,
    "start_time": "2021-10-30T11:50:26.677Z"
   },
   {
    "duration": 38,
    "start_time": "2021-10-30T11:50:26.695Z"
   },
   {
    "duration": 16,
    "start_time": "2021-10-30T11:50:26.735Z"
   },
   {
    "duration": 11,
    "start_time": "2021-10-30T11:50:26.754Z"
   },
   {
    "duration": 20,
    "start_time": "2021-10-30T11:50:26.767Z"
   },
   {
    "duration": 1492,
    "start_time": "2021-10-30T12:24:27.916Z"
   },
   {
    "duration": 85,
    "start_time": "2021-10-30T12:24:29.411Z"
   },
   {
    "duration": 19,
    "start_time": "2021-10-30T12:24:29.500Z"
   },
   {
    "duration": 11,
    "start_time": "2021-10-30T12:24:29.523Z"
   },
   {
    "duration": 20,
    "start_time": "2021-10-30T12:24:29.537Z"
   },
   {
    "duration": 5,
    "start_time": "2021-10-30T12:24:29.560Z"
   },
   {
    "duration": 18,
    "start_time": "2021-10-30T12:24:29.567Z"
   },
   {
    "duration": 48,
    "start_time": "2021-10-30T12:24:29.591Z"
   },
   {
    "duration": 54,
    "start_time": "2021-10-30T12:24:29.643Z"
   },
   {
    "duration": 10,
    "start_time": "2021-10-30T12:24:29.699Z"
   },
   {
    "duration": 16,
    "start_time": "2021-10-30T12:24:29.712Z"
   },
   {
    "duration": 7,
    "start_time": "2021-10-30T12:24:29.731Z"
   },
   {
    "duration": 9,
    "start_time": "2021-10-30T12:24:29.741Z"
   },
   {
    "duration": 24,
    "start_time": "2021-10-30T12:24:29.753Z"
   },
   {
    "duration": 15,
    "start_time": "2021-10-30T12:24:29.780Z"
   },
   {
    "duration": 33,
    "start_time": "2021-10-30T12:24:29.798Z"
   },
   {
    "duration": 10,
    "start_time": "2021-10-30T12:24:29.834Z"
   },
   {
    "duration": 7,
    "start_time": "2021-10-30T12:24:29.847Z"
   },
   {
    "duration": 16,
    "start_time": "2021-10-30T12:24:29.857Z"
   },
   {
    "duration": 403,
    "start_time": "2021-10-30T12:24:29.876Z"
   },
   {
    "duration": 8,
    "start_time": "2021-10-30T12:24:30.281Z"
   },
   {
    "duration": 14,
    "start_time": "2021-10-30T12:24:30.291Z"
   },
   {
    "duration": 23,
    "start_time": "2021-10-30T12:24:30.311Z"
   },
   {
    "duration": 295,
    "start_time": "2021-10-30T12:24:30.337Z"
   },
   {
    "duration": 26,
    "start_time": "2021-10-30T12:24:30.634Z"
   },
   {
    "duration": 16,
    "start_time": "2021-10-30T12:24:30.662Z"
   },
   {
    "duration": 12,
    "start_time": "2021-10-30T12:24:30.680Z"
   },
   {
    "duration": 17,
    "start_time": "2021-10-30T12:24:30.694Z"
   },
   {
    "duration": 550,
    "start_time": "2021-10-30T12:24:30.713Z"
   },
   {
    "duration": 6,
    "start_time": "2021-10-30T12:24:31.266Z"
   },
   {
    "duration": 532,
    "start_time": "2021-10-30T12:24:31.275Z"
   },
   {
    "duration": 32,
    "start_time": "2021-10-30T12:24:31.809Z"
   },
   {
    "duration": 595,
    "start_time": "2021-10-30T12:24:31.845Z"
   },
   {
    "duration": 5,
    "start_time": "2021-10-30T12:24:32.442Z"
   },
   {
    "duration": 637,
    "start_time": "2021-10-30T12:24:32.449Z"
   },
   {
    "duration": 40,
    "start_time": "2021-10-30T12:24:33.089Z"
   },
   {
    "duration": 626,
    "start_time": "2021-10-30T12:24:33.132Z"
   },
   {
    "duration": 11,
    "start_time": "2021-10-30T12:24:33.761Z"
   },
   {
    "duration": 193,
    "start_time": "2021-10-30T12:24:33.774Z"
   },
   {
    "duration": 4,
    "start_time": "2021-10-30T12:24:33.969Z"
   },
   {
    "duration": 823,
    "start_time": "2021-10-30T12:24:33.976Z"
   },
   {
    "duration": 6,
    "start_time": "2021-10-30T12:24:34.801Z"
   },
   {
    "duration": 28,
    "start_time": "2021-10-30T12:24:34.809Z"
   },
   {
    "duration": 660,
    "start_time": "2021-10-30T12:24:34.839Z"
   },
   {
    "duration": 5,
    "start_time": "2021-10-30T12:24:35.502Z"
   },
   {
    "duration": 593,
    "start_time": "2021-10-30T12:24:35.510Z"
   },
   {
    "duration": 35,
    "start_time": "2021-10-30T12:24:36.106Z"
   },
   {
    "duration": 134,
    "start_time": "2021-10-30T12:24:36.144Z"
   },
   {
    "duration": 123,
    "start_time": "2021-10-30T12:24:36.280Z"
   },
   {
    "duration": 152,
    "start_time": "2021-10-30T12:24:36.405Z"
   },
   {
    "duration": 148,
    "start_time": "2021-10-30T12:24:36.560Z"
   },
   {
    "duration": 68,
    "start_time": "2021-10-30T12:24:36.710Z"
   },
   {
    "duration": 220,
    "start_time": "2021-10-30T12:24:36.780Z"
   },
   {
    "duration": 8,
    "start_time": "2021-10-30T12:24:37.003Z"
   },
   {
    "duration": 24,
    "start_time": "2021-10-30T12:24:37.013Z"
   },
   {
    "duration": 14,
    "start_time": "2021-10-30T12:24:37.039Z"
   },
   {
    "duration": 17,
    "start_time": "2021-10-30T12:24:37.055Z"
   },
   {
    "duration": 7,
    "start_time": "2021-10-30T12:24:37.074Z"
   },
   {
    "duration": 52,
    "start_time": "2021-10-30T12:24:37.083Z"
   },
   {
    "duration": 12,
    "start_time": "2021-10-30T12:24:37.137Z"
   },
   {
    "duration": 19,
    "start_time": "2021-10-30T12:24:37.152Z"
   },
   {
    "duration": 7,
    "start_time": "2021-10-30T12:35:15.257Z"
   },
   {
    "duration": 7,
    "start_time": "2021-10-30T12:35:21.372Z"
   },
   {
    "duration": 8,
    "start_time": "2021-10-30T12:35:36.594Z"
   },
   {
    "duration": 16,
    "start_time": "2021-10-30T12:42:22.729Z"
   },
   {
    "duration": 5,
    "start_time": "2021-10-30T12:42:35.493Z"
   },
   {
    "duration": 11,
    "start_time": "2021-10-30T12:43:21.325Z"
   },
   {
    "duration": 1496,
    "start_time": "2021-10-30T12:43:32.503Z"
   },
   {
    "duration": 81,
    "start_time": "2021-10-30T12:43:34.002Z"
   },
   {
    "duration": 19,
    "start_time": "2021-10-30T12:43:34.087Z"
   },
   {
    "duration": 16,
    "start_time": "2021-10-30T12:43:34.109Z"
   },
   {
    "duration": 17,
    "start_time": "2021-10-30T12:43:34.127Z"
   },
   {
    "duration": 4,
    "start_time": "2021-10-30T12:43:34.146Z"
   },
   {
    "duration": 25,
    "start_time": "2021-10-30T12:43:34.152Z"
   },
   {
    "duration": 15,
    "start_time": "2021-10-30T12:43:34.182Z"
   },
   {
    "duration": 74,
    "start_time": "2021-10-30T12:43:34.201Z"
   },
   {
    "duration": 10,
    "start_time": "2021-10-30T12:43:34.278Z"
   },
   {
    "duration": 17,
    "start_time": "2021-10-30T12:43:34.291Z"
   },
   {
    "duration": 12,
    "start_time": "2021-10-30T12:43:34.311Z"
   },
   {
    "duration": 6,
    "start_time": "2021-10-30T12:43:34.325Z"
   },
   {
    "duration": 21,
    "start_time": "2021-10-30T12:43:34.334Z"
   },
   {
    "duration": 17,
    "start_time": "2021-10-30T12:43:34.357Z"
   },
   {
    "duration": 6,
    "start_time": "2021-10-30T12:43:34.377Z"
   },
   {
    "duration": 45,
    "start_time": "2021-10-30T12:43:34.386Z"
   },
   {
    "duration": 5,
    "start_time": "2021-10-30T12:43:34.433Z"
   },
   {
    "duration": 17,
    "start_time": "2021-10-30T12:43:34.441Z"
   },
   {
    "duration": 375,
    "start_time": "2021-10-30T12:43:34.460Z"
   },
   {
    "duration": 7,
    "start_time": "2021-10-30T12:43:34.838Z"
   },
   {
    "duration": 13,
    "start_time": "2021-10-30T12:43:34.847Z"
   },
   {
    "duration": 6,
    "start_time": "2021-10-30T12:43:34.865Z"
   },
   {
    "duration": 305,
    "start_time": "2021-10-30T12:43:34.875Z"
   },
   {
    "duration": 25,
    "start_time": "2021-10-30T12:43:35.182Z"
   },
   {
    "duration": 28,
    "start_time": "2021-10-30T12:43:35.209Z"
   },
   {
    "duration": 11,
    "start_time": "2021-10-30T12:43:35.239Z"
   },
   {
    "duration": 12,
    "start_time": "2021-10-30T12:43:35.252Z"
   },
   {
    "duration": 522,
    "start_time": "2021-10-30T12:43:35.266Z"
   },
   {
    "duration": 7,
    "start_time": "2021-10-30T12:43:35.790Z"
   },
   {
    "duration": 511,
    "start_time": "2021-10-30T12:43:35.799Z"
   },
   {
    "duration": 29,
    "start_time": "2021-10-30T12:43:36.312Z"
   },
   {
    "duration": 579,
    "start_time": "2021-10-30T12:43:36.343Z"
   },
   {
    "duration": 6,
    "start_time": "2021-10-30T12:43:36.928Z"
   },
   {
    "duration": 620,
    "start_time": "2021-10-30T12:43:36.936Z"
   },
   {
    "duration": 19,
    "start_time": "2021-10-30T12:43:37.558Z"
   },
   {
    "duration": 635,
    "start_time": "2021-10-30T12:43:37.579Z"
   },
   {
    "duration": 21,
    "start_time": "2021-10-30T12:43:38.217Z"
   },
   {
    "duration": 230,
    "start_time": "2021-10-30T12:43:38.241Z"
   },
   {
    "duration": 6,
    "start_time": "2021-10-30T12:43:38.474Z"
   },
   {
    "duration": 643,
    "start_time": "2021-10-30T12:43:38.483Z"
   },
   {
    "duration": 5,
    "start_time": "2021-10-30T12:43:39.128Z"
   },
   {
    "duration": 20,
    "start_time": "2021-10-30T12:43:39.136Z"
   },
   {
    "duration": 642,
    "start_time": "2021-10-30T12:43:39.159Z"
   },
   {
    "duration": 6,
    "start_time": "2021-10-30T12:43:39.804Z"
   },
   {
    "duration": 582,
    "start_time": "2021-10-30T12:43:39.812Z"
   },
   {
    "duration": 32,
    "start_time": "2021-10-30T12:43:40.397Z"
   },
   {
    "duration": 122,
    "start_time": "2021-10-30T12:43:40.431Z"
   },
   {
    "duration": 123,
    "start_time": "2021-10-30T12:43:40.556Z"
   },
   {
    "duration": 158,
    "start_time": "2021-10-30T12:43:40.681Z"
   },
   {
    "duration": 146,
    "start_time": "2021-10-30T12:43:40.842Z"
   },
   {
    "duration": 70,
    "start_time": "2021-10-30T12:43:40.991Z"
   },
   {
    "duration": 225,
    "start_time": "2021-10-30T12:43:41.064Z"
   },
   {
    "duration": 10,
    "start_time": "2021-10-30T12:43:41.292Z"
   },
   {
    "duration": 29,
    "start_time": "2021-10-30T12:43:41.304Z"
   },
   {
    "duration": 16,
    "start_time": "2021-10-30T12:43:41.336Z"
   },
   {
    "duration": 16,
    "start_time": "2021-10-30T12:43:41.354Z"
   },
   {
    "duration": 24,
    "start_time": "2021-10-30T12:43:41.372Z"
   },
   {
    "duration": 35,
    "start_time": "2021-10-30T12:43:41.398Z"
   },
   {
    "duration": 27,
    "start_time": "2021-10-30T12:43:41.435Z"
   },
   {
    "duration": 29,
    "start_time": "2021-10-30T12:43:41.464Z"
   },
   {
    "duration": 16,
    "start_time": "2021-10-30T13:29:14.290Z"
   },
   {
    "duration": 6,
    "start_time": "2021-10-30T13:29:18.674Z"
   },
   {
    "duration": 9,
    "start_time": "2021-10-30T13:29:25.974Z"
   },
   {
    "duration": 12,
    "start_time": "2021-10-30T13:29:30.707Z"
   },
   {
    "duration": 13,
    "start_time": "2021-10-30T13:29:31.952Z"
   },
   {
    "duration": 21,
    "start_time": "2021-10-30T13:29:50.798Z"
   },
   {
    "duration": 9,
    "start_time": "2021-10-30T14:05:42.734Z"
   },
   {
    "duration": 15,
    "start_time": "2021-10-30T14:07:18.415Z"
   },
   {
    "duration": 10,
    "start_time": "2021-10-30T14:07:32.141Z"
   },
   {
    "duration": 21,
    "start_time": "2021-10-30T14:07:45.954Z"
   },
   {
    "duration": 10,
    "start_time": "2021-10-30T14:14:44.161Z"
   },
   {
    "duration": 10,
    "start_time": "2021-10-30T14:14:59.124Z"
   },
   {
    "duration": 16,
    "start_time": "2021-10-30T14:15:13.509Z"
   },
   {
    "duration": 12,
    "start_time": "2021-10-30T14:15:19.772Z"
   },
   {
    "duration": 21,
    "start_time": "2021-10-30T14:15:36.110Z"
   },
   {
    "duration": 1970,
    "start_time": "2021-10-30T14:42:13.337Z"
   },
   {
    "duration": 74,
    "start_time": "2021-10-30T14:42:15.309Z"
   },
   {
    "duration": 19,
    "start_time": "2021-10-30T14:42:15.386Z"
   },
   {
    "duration": 15,
    "start_time": "2021-10-30T14:42:15.408Z"
   },
   {
    "duration": 16,
    "start_time": "2021-10-30T14:42:15.425Z"
   },
   {
    "duration": 4,
    "start_time": "2021-10-30T14:42:15.444Z"
   },
   {
    "duration": 22,
    "start_time": "2021-10-30T14:42:15.450Z"
   },
   {
    "duration": 15,
    "start_time": "2021-10-30T14:42:15.476Z"
   },
   {
    "duration": 83,
    "start_time": "2021-10-30T14:42:15.495Z"
   },
   {
    "duration": 8,
    "start_time": "2021-10-30T14:42:15.581Z"
   },
   {
    "duration": 16,
    "start_time": "2021-10-30T14:42:15.592Z"
   },
   {
    "duration": 7,
    "start_time": "2021-10-30T14:42:15.610Z"
   },
   {
    "duration": 10,
    "start_time": "2021-10-30T14:42:15.619Z"
   },
   {
    "duration": 23,
    "start_time": "2021-10-30T14:42:15.631Z"
   },
   {
    "duration": 12,
    "start_time": "2021-10-30T14:42:15.657Z"
   },
   {
    "duration": 5,
    "start_time": "2021-10-30T14:42:15.671Z"
   },
   {
    "duration": 53,
    "start_time": "2021-10-30T14:42:15.679Z"
   },
   {
    "duration": 6,
    "start_time": "2021-10-30T14:42:15.734Z"
   },
   {
    "duration": 19,
    "start_time": "2021-10-30T14:42:15.742Z"
   },
   {
    "duration": 375,
    "start_time": "2021-10-30T14:42:15.763Z"
   },
   {
    "duration": 10,
    "start_time": "2021-10-30T14:42:16.141Z"
   },
   {
    "duration": 21,
    "start_time": "2021-10-30T14:42:16.155Z"
   },
   {
    "duration": 7,
    "start_time": "2021-10-30T14:42:16.182Z"
   },
   {
    "duration": 337,
    "start_time": "2021-10-30T14:42:16.193Z"
   },
   {
    "duration": 30,
    "start_time": "2021-10-30T14:42:16.533Z"
   },
   {
    "duration": 10,
    "start_time": "2021-10-30T14:42:16.565Z"
   },
   {
    "duration": 12,
    "start_time": "2021-10-30T14:42:16.578Z"
   },
   {
    "duration": 36,
    "start_time": "2021-10-30T14:42:16.592Z"
   },
   {
    "duration": 546,
    "start_time": "2021-10-30T14:42:16.631Z"
   },
   {
    "duration": 6,
    "start_time": "2021-10-30T14:42:17.180Z"
   },
   {
    "duration": 543,
    "start_time": "2021-10-30T14:42:17.189Z"
   },
   {
    "duration": 20,
    "start_time": "2021-10-30T14:42:17.735Z"
   },
   {
    "duration": 694,
    "start_time": "2021-10-30T14:42:17.757Z"
   },
   {
    "duration": 5,
    "start_time": "2021-10-30T14:42:18.454Z"
   },
   {
    "duration": 538,
    "start_time": "2021-10-30T14:42:18.461Z"
   },
   {
    "duration": 33,
    "start_time": "2021-10-30T14:42:19.002Z"
   },
   {
    "duration": 626,
    "start_time": "2021-10-30T14:42:19.037Z"
   },
   {
    "duration": 11,
    "start_time": "2021-10-30T14:42:19.666Z"
   },
   {
    "duration": 206,
    "start_time": "2021-10-30T14:42:19.680Z"
   },
   {
    "duration": 5,
    "start_time": "2021-10-30T14:42:19.889Z"
   },
   {
    "duration": 812,
    "start_time": "2021-10-30T14:42:19.897Z"
   },
   {
    "duration": 21,
    "start_time": "2021-10-30T14:42:20.712Z"
   },
   {
    "duration": 16,
    "start_time": "2021-10-30T14:42:20.735Z"
   },
   {
    "duration": 696,
    "start_time": "2021-10-30T14:42:20.755Z"
   },
   {
    "duration": 6,
    "start_time": "2021-10-30T14:42:21.454Z"
   },
   {
    "duration": 645,
    "start_time": "2021-10-30T14:42:21.463Z"
   },
   {
    "duration": 29,
    "start_time": "2021-10-30T14:42:22.110Z"
   },
   {
    "duration": 132,
    "start_time": "2021-10-30T14:42:22.141Z"
   },
   {
    "duration": 126,
    "start_time": "2021-10-30T14:42:22.276Z"
   },
   {
    "duration": 181,
    "start_time": "2021-10-30T14:42:22.404Z"
   },
   {
    "duration": 210,
    "start_time": "2021-10-30T14:42:22.588Z"
   },
   {
    "duration": 86,
    "start_time": "2021-10-30T14:42:22.803Z"
   },
   {
    "duration": 274,
    "start_time": "2021-10-30T14:42:22.891Z"
   },
   {
    "duration": 9,
    "start_time": "2021-10-30T14:42:23.167Z"
   },
   {
    "duration": 19,
    "start_time": "2021-10-30T14:42:23.178Z"
   },
   {
    "duration": 45,
    "start_time": "2021-10-30T14:42:23.200Z"
   },
   {
    "duration": 17,
    "start_time": "2021-10-30T14:42:23.247Z"
   },
   {
    "duration": 16,
    "start_time": "2021-10-30T14:42:23.267Z"
   },
   {
    "duration": 56,
    "start_time": "2021-10-30T14:42:23.285Z"
   },
   {
    "duration": 10,
    "start_time": "2021-10-30T14:42:23.344Z"
   },
   {
    "duration": 80,
    "start_time": "2021-10-30T14:42:23.357Z"
   },
   {
    "duration": 17,
    "start_time": "2021-10-30T15:57:31.094Z"
   },
   {
    "duration": 7,
    "start_time": "2021-10-30T15:57:42.599Z"
   },
   {
    "duration": 7,
    "start_time": "2021-10-30T16:03:18.897Z"
   },
   {
    "duration": 9,
    "start_time": "2021-10-30T16:10:05.112Z"
   },
   {
    "duration": 13,
    "start_time": "2021-10-30T16:11:48.845Z"
   },
   {
    "duration": 8,
    "start_time": "2021-10-30T16:18:14.386Z"
   },
   {
    "duration": 9,
    "start_time": "2021-10-30T16:19:05.053Z"
   },
   {
    "duration": 1530,
    "start_time": "2021-10-30T16:28:30.405Z"
   },
   {
    "duration": 80,
    "start_time": "2021-10-30T16:28:31.938Z"
   },
   {
    "duration": 18,
    "start_time": "2021-10-30T16:28:32.021Z"
   },
   {
    "duration": 18,
    "start_time": "2021-10-30T16:28:32.042Z"
   },
   {
    "duration": 16,
    "start_time": "2021-10-30T16:28:32.063Z"
   },
   {
    "duration": 5,
    "start_time": "2021-10-30T16:28:32.082Z"
   },
   {
    "duration": 52,
    "start_time": "2021-10-30T16:28:32.090Z"
   },
   {
    "duration": 17,
    "start_time": "2021-10-30T16:28:32.146Z"
   },
   {
    "duration": 59,
    "start_time": "2021-10-30T16:28:32.166Z"
   },
   {
    "duration": 12,
    "start_time": "2021-10-30T16:28:32.228Z"
   },
   {
    "duration": 19,
    "start_time": "2021-10-30T16:28:32.242Z"
   },
   {
    "duration": 18,
    "start_time": "2021-10-30T16:28:32.264Z"
   },
   {
    "duration": 17,
    "start_time": "2021-10-30T16:28:32.284Z"
   },
   {
    "duration": 33,
    "start_time": "2021-10-30T16:28:32.304Z"
   },
   {
    "duration": 16,
    "start_time": "2021-10-30T16:28:32.339Z"
   },
   {
    "duration": 4,
    "start_time": "2021-10-30T16:28:32.357Z"
   },
   {
    "duration": 8,
    "start_time": "2021-10-30T16:28:32.364Z"
   },
   {
    "duration": 8,
    "start_time": "2021-10-30T16:28:32.374Z"
   },
   {
    "duration": 56,
    "start_time": "2021-10-30T16:28:32.384Z"
   },
   {
    "duration": 378,
    "start_time": "2021-10-30T16:28:32.442Z"
   },
   {
    "duration": 9,
    "start_time": "2021-10-30T16:28:32.829Z"
   },
   {
    "duration": 21,
    "start_time": "2021-10-30T16:28:32.840Z"
   },
   {
    "duration": 6,
    "start_time": "2021-10-30T16:28:32.867Z"
   },
   {
    "duration": 327,
    "start_time": "2021-10-30T16:28:32.876Z"
   },
   {
    "duration": 37,
    "start_time": "2021-10-30T16:28:33.206Z"
   },
   {
    "duration": 14,
    "start_time": "2021-10-30T16:28:33.246Z"
   },
   {
    "duration": 6,
    "start_time": "2021-10-30T16:28:33.263Z"
   },
   {
    "duration": 6,
    "start_time": "2021-10-30T16:28:33.272Z"
   },
   {
    "duration": 563,
    "start_time": "2021-10-30T16:28:33.281Z"
   },
   {
    "duration": 7,
    "start_time": "2021-10-30T16:28:33.846Z"
   },
   {
    "duration": 518,
    "start_time": "2021-10-30T16:28:33.855Z"
   },
   {
    "duration": 21,
    "start_time": "2021-10-30T16:28:34.376Z"
   },
   {
    "duration": 630,
    "start_time": "2021-10-30T16:28:34.399Z"
   },
   {
    "duration": 6,
    "start_time": "2021-10-30T16:28:35.032Z"
   },
   {
    "duration": 523,
    "start_time": "2021-10-30T16:28:35.040Z"
   },
   {
    "duration": 21,
    "start_time": "2021-10-30T16:28:35.566Z"
   },
   {
    "duration": 673,
    "start_time": "2021-10-30T16:28:35.590Z"
   },
   {
    "duration": 11,
    "start_time": "2021-10-30T16:28:36.265Z"
   },
   {
    "duration": 236,
    "start_time": "2021-10-30T16:28:36.279Z"
   },
   {
    "duration": 12,
    "start_time": "2021-10-30T16:28:36.517Z"
   },
   {
    "duration": 608,
    "start_time": "2021-10-30T16:28:36.531Z"
   },
   {
    "duration": 6,
    "start_time": "2021-10-30T16:28:37.142Z"
   },
   {
    "duration": 9,
    "start_time": "2021-10-30T16:28:37.150Z"
   },
   {
    "duration": 913,
    "start_time": "2021-10-30T16:28:37.163Z"
   },
   {
    "duration": 6,
    "start_time": "2021-10-30T16:28:38.079Z"
   },
   {
    "duration": 684,
    "start_time": "2021-10-30T16:28:38.087Z"
   },
   {
    "duration": 20,
    "start_time": "2021-10-30T16:28:38.774Z"
   },
   {
    "duration": 145,
    "start_time": "2021-10-30T16:28:38.797Z"
   },
   {
    "duration": 128,
    "start_time": "2021-10-30T16:28:38.945Z"
   },
   {
    "duration": 161,
    "start_time": "2021-10-30T16:28:39.075Z"
   },
   {
    "duration": 158,
    "start_time": "2021-10-30T16:28:39.239Z"
   },
   {
    "duration": 68,
    "start_time": "2021-10-30T16:28:39.400Z"
   },
   {
    "duration": 285,
    "start_time": "2021-10-30T16:28:39.471Z"
   },
   {
    "duration": 11,
    "start_time": "2021-10-30T16:28:39.759Z"
   },
   {
    "duration": 10,
    "start_time": "2021-10-30T16:28:39.773Z"
   },
   {
    "duration": 44,
    "start_time": "2021-10-30T16:28:39.786Z"
   },
   {
    "duration": 12,
    "start_time": "2021-10-30T16:28:39.834Z"
   },
   {
    "duration": 7,
    "start_time": "2021-10-30T16:28:39.848Z"
   },
   {
    "duration": 12,
    "start_time": "2021-10-30T16:28:39.858Z"
   },
   {
    "duration": 67,
    "start_time": "2021-10-30T16:28:39.872Z"
   },
   {
    "duration": 14,
    "start_time": "2021-10-30T16:28:39.942Z"
   },
   {
    "duration": 6,
    "start_time": "2021-10-30T16:28:39.958Z"
   },
   {
    "duration": 20,
    "start_time": "2021-10-30T16:28:39.966Z"
   },
   {
    "duration": 51,
    "start_time": "2021-10-30T16:28:39.988Z"
   },
   {
    "duration": 22,
    "start_time": "2021-10-30T16:28:40.041Z"
   },
   {
    "duration": 1522,
    "start_time": "2021-10-30T16:30:30.107Z"
   },
   {
    "duration": 80,
    "start_time": "2021-10-30T16:30:31.634Z"
   },
   {
    "duration": 19,
    "start_time": "2021-10-30T16:30:31.717Z"
   },
   {
    "duration": 15,
    "start_time": "2021-10-30T16:30:31.739Z"
   },
   {
    "duration": 22,
    "start_time": "2021-10-30T16:30:31.756Z"
   },
   {
    "duration": 24,
    "start_time": "2021-10-30T16:30:31.780Z"
   },
   {
    "duration": 34,
    "start_time": "2021-10-30T16:30:31.806Z"
   },
   {
    "duration": 22,
    "start_time": "2021-10-30T16:30:31.845Z"
   },
   {
    "duration": 70,
    "start_time": "2021-10-30T16:30:31.870Z"
   },
   {
    "duration": 9,
    "start_time": "2021-10-30T16:30:31.943Z"
   },
   {
    "duration": 37,
    "start_time": "2021-10-30T16:30:31.954Z"
   },
   {
    "duration": 20,
    "start_time": "2021-10-30T16:30:31.994Z"
   },
   {
    "duration": 7,
    "start_time": "2021-10-30T16:30:32.017Z"
   },
   {
    "duration": 36,
    "start_time": "2021-10-30T16:30:32.027Z"
   },
   {
    "duration": 15,
    "start_time": "2021-10-30T16:30:32.066Z"
   },
   {
    "duration": 5,
    "start_time": "2021-10-30T16:30:32.084Z"
   },
   {
    "duration": 19,
    "start_time": "2021-10-30T16:30:32.091Z"
   },
   {
    "duration": 23,
    "start_time": "2021-10-30T16:30:32.113Z"
   },
   {
    "duration": 33,
    "start_time": "2021-10-30T16:30:32.139Z"
   },
   {
    "duration": 359,
    "start_time": "2021-10-30T16:30:32.175Z"
   },
   {
    "duration": 9,
    "start_time": "2021-10-30T16:30:32.537Z"
   },
   {
    "duration": 19,
    "start_time": "2021-10-30T16:30:32.549Z"
   },
   {
    "duration": 13,
    "start_time": "2021-10-30T16:30:32.571Z"
   },
   {
    "duration": 316,
    "start_time": "2021-10-30T16:30:32.586Z"
   },
   {
    "duration": 41,
    "start_time": "2021-10-30T16:30:32.904Z"
   },
   {
    "duration": 24,
    "start_time": "2021-10-30T16:30:32.950Z"
   },
   {
    "duration": 12,
    "start_time": "2021-10-30T16:30:32.977Z"
   },
   {
    "duration": 16,
    "start_time": "2021-10-30T16:30:32.991Z"
   },
   {
    "duration": 559,
    "start_time": "2021-10-30T16:30:33.009Z"
   },
   {
    "duration": 7,
    "start_time": "2021-10-30T16:30:33.570Z"
   },
   {
    "duration": 519,
    "start_time": "2021-10-30T16:30:33.579Z"
   },
   {
    "duration": 32,
    "start_time": "2021-10-30T16:30:34.100Z"
   },
   {
    "duration": 628,
    "start_time": "2021-10-30T16:30:34.135Z"
   },
   {
    "duration": 5,
    "start_time": "2021-10-30T16:30:34.765Z"
   },
   {
    "duration": 512,
    "start_time": "2021-10-30T16:30:34.773Z"
   },
   {
    "duration": 21,
    "start_time": "2021-10-30T16:30:35.288Z"
   },
   {
    "duration": 731,
    "start_time": "2021-10-30T16:30:35.311Z"
   },
   {
    "duration": 11,
    "start_time": "2021-10-30T16:30:36.045Z"
   },
   {
    "duration": 297,
    "start_time": "2021-10-30T16:30:36.058Z"
   },
   {
    "duration": 4,
    "start_time": "2021-10-30T16:30:36.358Z"
   },
   {
    "duration": 567,
    "start_time": "2021-10-30T16:30:36.364Z"
   },
   {
    "duration": 6,
    "start_time": "2021-10-30T16:30:36.934Z"
   },
   {
    "duration": 9,
    "start_time": "2021-10-30T16:30:36.943Z"
   },
   {
    "duration": 679,
    "start_time": "2021-10-30T16:30:36.955Z"
   },
   {
    "duration": 5,
    "start_time": "2021-10-30T16:30:37.637Z"
   },
   {
    "duration": 587,
    "start_time": "2021-10-30T16:30:37.645Z"
   },
   {
    "duration": 19,
    "start_time": "2021-10-30T16:30:38.234Z"
   },
   {
    "duration": 139,
    "start_time": "2021-10-30T16:30:38.256Z"
   },
   {
    "duration": 187,
    "start_time": "2021-10-30T16:30:38.398Z"
   },
   {
    "duration": 149,
    "start_time": "2021-10-30T16:30:38.594Z"
   },
   {
    "duration": 149,
    "start_time": "2021-10-30T16:30:38.745Z"
   },
   {
    "duration": 71,
    "start_time": "2021-10-30T16:30:38.897Z"
   },
   {
    "duration": 226,
    "start_time": "2021-10-30T16:30:38.970Z"
   },
   {
    "duration": 7,
    "start_time": "2021-10-30T16:30:39.198Z"
   },
   {
    "duration": 23,
    "start_time": "2021-10-30T16:30:39.208Z"
   },
   {
    "duration": 9,
    "start_time": "2021-10-30T16:30:39.233Z"
   },
   {
    "duration": 22,
    "start_time": "2021-10-30T16:30:39.244Z"
   },
   {
    "duration": 8,
    "start_time": "2021-10-30T16:30:39.269Z"
   },
   {
    "duration": 51,
    "start_time": "2021-10-30T16:30:39.279Z"
   },
   {
    "duration": 16,
    "start_time": "2021-10-30T16:30:39.333Z"
   },
   {
    "duration": 18,
    "start_time": "2021-10-30T16:30:39.352Z"
   },
   {
    "duration": 56,
    "start_time": "2021-10-30T16:30:39.373Z"
   },
   {
    "duration": 16,
    "start_time": "2021-10-30T16:30:39.432Z"
   },
   {
    "duration": 13,
    "start_time": "2021-10-30T16:30:39.451Z"
   },
   {
    "duration": 76,
    "start_time": "2021-10-30T16:30:39.467Z"
   },
   {
    "duration": 7,
    "start_time": "2021-10-30T17:09:54.347Z"
   },
   {
    "duration": 7,
    "start_time": "2021-10-30T17:10:21.312Z"
   },
   {
    "duration": 7,
    "start_time": "2021-10-30T17:10:38.867Z"
   },
   {
    "duration": 90,
    "start_time": "2021-10-30T17:16:25.527Z"
   },
   {
    "duration": 362,
    "start_time": "2021-10-30T17:17:18.287Z"
   },
   {
    "duration": 10,
    "start_time": "2021-10-30T17:17:54.230Z"
   },
   {
    "duration": 10,
    "start_time": "2021-10-30T17:18:36.006Z"
   },
   {
    "duration": 22,
    "start_time": "2021-10-30T17:21:11.678Z"
   },
   {
    "duration": 1436,
    "start_time": "2021-10-30T17:22:52.775Z"
   },
   {
    "duration": 72,
    "start_time": "2021-10-30T17:22:54.213Z"
   },
   {
    "duration": 18,
    "start_time": "2021-10-30T17:22:54.288Z"
   },
   {
    "duration": 10,
    "start_time": "2021-10-30T17:22:54.309Z"
   },
   {
    "duration": 16,
    "start_time": "2021-10-30T17:22:54.321Z"
   },
   {
    "duration": 4,
    "start_time": "2021-10-30T17:22:54.339Z"
   },
   {
    "duration": 18,
    "start_time": "2021-10-30T17:22:54.346Z"
   },
   {
    "duration": 16,
    "start_time": "2021-10-30T17:22:54.367Z"
   },
   {
    "duration": 60,
    "start_time": "2021-10-30T17:22:54.386Z"
   },
   {
    "duration": 9,
    "start_time": "2021-10-30T17:22:54.448Z"
   },
   {
    "duration": 14,
    "start_time": "2021-10-30T17:22:54.459Z"
   },
   {
    "duration": 19,
    "start_time": "2021-10-30T17:22:54.476Z"
   },
   {
    "duration": 8,
    "start_time": "2021-10-30T17:22:54.497Z"
   },
   {
    "duration": 19,
    "start_time": "2021-10-30T17:22:54.529Z"
   },
   {
    "duration": 12,
    "start_time": "2021-10-30T17:22:54.551Z"
   },
   {
    "duration": 5,
    "start_time": "2021-10-30T17:22:54.566Z"
   },
   {
    "duration": 8,
    "start_time": "2021-10-30T17:22:54.573Z"
   },
   {
    "duration": 52,
    "start_time": "2021-10-30T17:22:54.583Z"
   },
   {
    "duration": 15,
    "start_time": "2021-10-30T17:22:54.637Z"
   },
   {
    "duration": 401,
    "start_time": "2021-10-30T17:22:54.655Z"
   },
   {
    "duration": 11,
    "start_time": "2021-10-30T17:22:55.059Z"
   },
   {
    "duration": 15,
    "start_time": "2021-10-30T17:22:55.073Z"
   },
   {
    "duration": 6,
    "start_time": "2021-10-30T17:22:55.136Z"
   },
   {
    "duration": 286,
    "start_time": "2021-10-30T17:22:55.146Z"
   },
   {
    "duration": 22,
    "start_time": "2021-10-30T17:22:55.434Z"
   },
   {
    "duration": 9,
    "start_time": "2021-10-30T17:22:55.458Z"
   },
   {
    "duration": 6,
    "start_time": "2021-10-30T17:22:55.469Z"
   },
   {
    "duration": 5,
    "start_time": "2021-10-30T17:22:55.477Z"
   },
   {
    "duration": 553,
    "start_time": "2021-10-30T17:22:55.485Z"
   },
   {
    "duration": 7,
    "start_time": "2021-10-30T17:22:56.041Z"
   },
   {
    "duration": 520,
    "start_time": "2021-10-30T17:22:56.050Z"
   },
   {
    "duration": 22,
    "start_time": "2021-10-30T17:22:56.572Z"
   },
   {
    "duration": 644,
    "start_time": "2021-10-30T17:22:56.596Z"
   },
   {
    "duration": 5,
    "start_time": "2021-10-30T17:22:57.242Z"
   },
   {
    "duration": 516,
    "start_time": "2021-10-30T17:22:57.250Z"
   },
   {
    "duration": 19,
    "start_time": "2021-10-30T17:22:57.768Z"
   },
   {
    "duration": 637,
    "start_time": "2021-10-30T17:22:57.790Z"
   },
   {
    "duration": 11,
    "start_time": "2021-10-30T17:22:58.430Z"
   },
   {
    "duration": 249,
    "start_time": "2021-10-30T17:22:58.444Z"
   },
   {
    "duration": 5,
    "start_time": "2021-10-30T17:22:58.695Z"
   },
   {
    "duration": 606,
    "start_time": "2021-10-30T17:22:58.702Z"
   },
   {
    "duration": 5,
    "start_time": "2021-10-30T17:22:59.311Z"
   },
   {
    "duration": 6,
    "start_time": "2021-10-30T17:22:59.330Z"
   },
   {
    "duration": 653,
    "start_time": "2021-10-30T17:22:59.338Z"
   },
   {
    "duration": 5,
    "start_time": "2021-10-30T17:22:59.994Z"
   },
   {
    "duration": 601,
    "start_time": "2021-10-30T17:23:00.001Z"
   },
   {
    "duration": 34,
    "start_time": "2021-10-30T17:23:00.605Z"
   },
   {
    "duration": 135,
    "start_time": "2021-10-30T17:23:00.642Z"
   },
   {
    "duration": 129,
    "start_time": "2021-10-30T17:23:00.779Z"
   },
   {
    "duration": 158,
    "start_time": "2021-10-30T17:23:00.910Z"
   },
   {
    "duration": 160,
    "start_time": "2021-10-30T17:23:01.070Z"
   },
   {
    "duration": 51,
    "start_time": "2021-10-30T17:23:01.233Z"
   },
   {
    "duration": 258,
    "start_time": "2021-10-30T17:23:01.286Z"
   },
   {
    "duration": 8,
    "start_time": "2021-10-30T17:23:01.546Z"
   },
   {
    "duration": 10,
    "start_time": "2021-10-30T17:23:01.556Z"
   },
   {
    "duration": 9,
    "start_time": "2021-10-30T17:23:01.569Z"
   },
   {
    "duration": 61,
    "start_time": "2021-10-30T17:23:01.581Z"
   },
   {
    "duration": 10,
    "start_time": "2021-10-30T17:23:01.645Z"
   },
   {
    "duration": 11,
    "start_time": "2021-10-30T17:23:01.658Z"
   },
   {
    "duration": 68,
    "start_time": "2021-10-30T17:23:01.672Z"
   },
   {
    "duration": 15,
    "start_time": "2021-10-30T17:23:01.743Z"
   },
   {
    "duration": 10,
    "start_time": "2021-10-30T17:23:01.760Z"
   },
   {
    "duration": 62,
    "start_time": "2021-10-30T17:23:01.772Z"
   },
   {
    "duration": 20,
    "start_time": "2021-10-30T17:23:01.836Z"
   },
   {
    "duration": 7,
    "start_time": "2021-10-30T17:23:01.859Z"
   },
   {
    "duration": 13,
    "start_time": "2021-10-30T17:23:01.869Z"
   },
   {
    "duration": 47,
    "start_time": "2021-10-30T17:23:01.885Z"
   },
   {
    "duration": 21,
    "start_time": "2021-10-30T17:23:01.939Z"
   },
   {
    "duration": 37,
    "start_time": "2021-10-30T17:23:01.963Z"
   },
   {
    "duration": 7,
    "start_time": "2021-10-30T17:26:45.568Z"
   },
   {
    "duration": 7,
    "start_time": "2021-10-30T17:26:51.832Z"
   },
   {
    "duration": 76,
    "start_time": "2021-10-30T17:34:59.511Z"
   },
   {
    "duration": 16,
    "start_time": "2021-10-30T17:52:02.342Z"
   },
   {
    "duration": 757,
    "start_time": "2021-10-30T17:56:08.398Z"
   },
   {
    "duration": 636,
    "start_time": "2021-10-30T17:56:27.573Z"
   },
   {
    "duration": 728,
    "start_time": "2021-10-30T17:56:40.530Z"
   },
   {
    "duration": 926,
    "start_time": "2021-10-30T17:56:50.413Z"
   },
   {
    "duration": 925,
    "start_time": "2021-10-30T17:57:04.335Z"
   },
   {
    "duration": 909,
    "start_time": "2021-10-30T17:57:15.066Z"
   },
   {
    "duration": 903,
    "start_time": "2021-10-30T17:57:28.404Z"
   },
   {
    "duration": 866,
    "start_time": "2021-10-30T18:00:26.972Z"
   },
   {
    "duration": 1166,
    "start_time": "2021-10-30T18:04:31.868Z"
   },
   {
    "duration": 710,
    "start_time": "2021-10-30T18:17:20.655Z"
   },
   {
    "duration": 690,
    "start_time": "2021-10-30T18:17:29.320Z"
   },
   {
    "duration": 688,
    "start_time": "2021-10-30T18:18:09.804Z"
   },
   {
    "duration": 526,
    "start_time": "2021-10-30T18:18:21.754Z"
   },
   {
    "duration": 13,
    "start_time": "2021-10-30T18:29:11.485Z"
   },
   {
    "duration": 15,
    "start_time": "2021-10-30T18:31:10.861Z"
   },
   {
    "duration": 643,
    "start_time": "2021-10-30T18:38:09.781Z"
   },
   {
    "duration": 503,
    "start_time": "2021-10-30T18:38:20.324Z"
   },
   {
    "duration": 582,
    "start_time": "2021-10-30T18:38:44.638Z"
   },
   {
    "duration": 478,
    "start_time": "2021-10-30T18:39:00.567Z"
   },
   {
    "duration": 724,
    "start_time": "2021-10-30T18:40:00.995Z"
   },
   {
    "duration": 467,
    "start_time": "2021-10-30T18:40:31.217Z"
   },
   {
    "duration": 214,
    "start_time": "2021-10-30T18:41:51.345Z"
   },
   {
    "duration": 598,
    "start_time": "2021-10-30T18:42:00.566Z"
   },
   {
    "duration": 539,
    "start_time": "2021-10-30T18:44:25.224Z"
   },
   {
    "duration": 445,
    "start_time": "2021-10-30T18:44:52.898Z"
   },
   {
    "duration": 361,
    "start_time": "2021-10-30T18:45:02.855Z"
   },
   {
    "duration": 1490,
    "start_time": "2021-10-30T18:51:27.711Z"
   },
   {
    "duration": 86,
    "start_time": "2021-10-30T18:51:29.203Z"
   },
   {
    "duration": 19,
    "start_time": "2021-10-30T18:51:29.292Z"
   },
   {
    "duration": 11,
    "start_time": "2021-10-30T18:51:29.314Z"
   },
   {
    "duration": 18,
    "start_time": "2021-10-30T18:51:29.328Z"
   },
   {
    "duration": 12,
    "start_time": "2021-10-30T18:51:29.348Z"
   },
   {
    "duration": 18,
    "start_time": "2021-10-30T18:51:29.362Z"
   },
   {
    "duration": 16,
    "start_time": "2021-10-30T18:51:29.384Z"
   },
   {
    "duration": 35,
    "start_time": "2021-10-30T18:51:29.403Z"
   },
   {
    "duration": 49,
    "start_time": "2021-10-30T18:51:29.440Z"
   },
   {
    "duration": 8,
    "start_time": "2021-10-30T18:51:29.491Z"
   },
   {
    "duration": 15,
    "start_time": "2021-10-30T18:51:29.501Z"
   },
   {
    "duration": 8,
    "start_time": "2021-10-30T18:51:29.519Z"
   },
   {
    "duration": 7,
    "start_time": "2021-10-30T18:51:29.529Z"
   },
   {
    "duration": 23,
    "start_time": "2021-10-30T18:51:29.538Z"
   },
   {
    "duration": 14,
    "start_time": "2021-10-30T18:51:29.564Z"
   },
   {
    "duration": 5,
    "start_time": "2021-10-30T18:51:29.581Z"
   },
   {
    "duration": 10,
    "start_time": "2021-10-30T18:51:29.588Z"
   },
   {
    "duration": 29,
    "start_time": "2021-10-30T18:51:29.600Z"
   },
   {
    "duration": 17,
    "start_time": "2021-10-30T18:51:29.632Z"
   },
   {
    "duration": 360,
    "start_time": "2021-10-30T18:51:29.651Z"
   },
   {
    "duration": 8,
    "start_time": "2021-10-30T18:51:30.013Z"
   },
   {
    "duration": 11,
    "start_time": "2021-10-30T18:51:30.034Z"
   },
   {
    "duration": 10,
    "start_time": "2021-10-30T18:51:30.049Z"
   },
   {
    "duration": 296,
    "start_time": "2021-10-30T18:51:30.061Z"
   },
   {
    "duration": 25,
    "start_time": "2021-10-30T18:51:30.360Z"
   },
   {
    "duration": 14,
    "start_time": "2021-10-30T18:51:30.388Z"
   },
   {
    "duration": 26,
    "start_time": "2021-10-30T18:51:30.405Z"
   },
   {
    "duration": 19,
    "start_time": "2021-10-30T18:51:30.434Z"
   },
   {
    "duration": 628,
    "start_time": "2021-10-30T18:51:30.455Z"
   },
   {
    "duration": 6,
    "start_time": "2021-10-30T18:51:31.086Z"
   },
   {
    "duration": 625,
    "start_time": "2021-10-30T18:51:31.094Z"
   },
   {
    "duration": 26,
    "start_time": "2021-10-30T18:51:31.721Z"
   },
   {
    "duration": 617,
    "start_time": "2021-10-30T18:51:31.750Z"
   },
   {
    "duration": 6,
    "start_time": "2021-10-30T18:51:32.369Z"
   },
   {
    "duration": 519,
    "start_time": "2021-10-30T18:51:32.377Z"
   },
   {
    "duration": 29,
    "start_time": "2021-10-30T18:51:32.899Z"
   },
   {
    "duration": 606,
    "start_time": "2021-10-30T18:51:32.931Z"
   },
   {
    "duration": 12,
    "start_time": "2021-10-30T18:51:33.539Z"
   },
   {
    "duration": 203,
    "start_time": "2021-10-30T18:51:33.554Z"
   },
   {
    "duration": 4,
    "start_time": "2021-10-30T18:51:33.760Z"
   },
   {
    "duration": 566,
    "start_time": "2021-10-30T18:51:33.766Z"
   },
   {
    "duration": 7,
    "start_time": "2021-10-30T18:51:34.335Z"
   },
   {
    "duration": 12,
    "start_time": "2021-10-30T18:51:34.344Z"
   },
   {
    "duration": 675,
    "start_time": "2021-10-30T18:51:34.358Z"
   },
   {
    "duration": 6,
    "start_time": "2021-10-30T18:51:35.036Z"
   },
   {
    "duration": 567,
    "start_time": "2021-10-30T18:51:35.044Z"
   },
   {
    "duration": 27,
    "start_time": "2021-10-30T18:51:35.614Z"
   },
   {
    "duration": 124,
    "start_time": "2021-10-30T18:51:35.644Z"
   },
   {
    "duration": 122,
    "start_time": "2021-10-30T18:51:35.770Z"
   },
   {
    "duration": 155,
    "start_time": "2021-10-30T18:51:35.894Z"
   },
   {
    "duration": 155,
    "start_time": "2021-10-30T18:51:36.052Z"
   },
   {
    "duration": 63,
    "start_time": "2021-10-30T18:51:36.209Z"
   },
   {
    "duration": 208,
    "start_time": "2021-10-30T18:51:36.274Z"
   },
   {
    "duration": 8,
    "start_time": "2021-10-30T18:51:36.484Z"
   },
   {
    "duration": 11,
    "start_time": "2021-10-30T18:51:36.494Z"
   },
   {
    "duration": 25,
    "start_time": "2021-10-30T18:51:36.507Z"
   },
   {
    "duration": 15,
    "start_time": "2021-10-30T18:51:36.534Z"
   },
   {
    "duration": 7,
    "start_time": "2021-10-30T18:51:36.552Z"
   },
   {
    "duration": 9,
    "start_time": "2021-10-30T18:51:36.561Z"
   },
   {
    "duration": 58,
    "start_time": "2021-10-30T18:51:36.572Z"
   },
   {
    "duration": 15,
    "start_time": "2021-10-30T18:51:36.632Z"
   },
   {
    "duration": 8,
    "start_time": "2021-10-30T18:51:36.649Z"
   },
   {
    "duration": 17,
    "start_time": "2021-10-30T18:51:36.659Z"
   },
   {
    "duration": 11,
    "start_time": "2021-10-30T18:51:36.679Z"
   },
   {
    "duration": 7,
    "start_time": "2021-10-30T18:51:36.693Z"
   },
   {
    "duration": 11,
    "start_time": "2021-10-30T18:51:36.730Z"
   },
   {
    "duration": 10,
    "start_time": "2021-10-30T18:51:36.748Z"
   },
   {
    "duration": 13,
    "start_time": "2021-10-30T18:51:36.761Z"
   },
   {
    "duration": 55,
    "start_time": "2021-10-30T18:51:36.777Z"
   }
  ],
  "kernelspec": {
   "display_name": "Python 3 (ipykernel)",
   "language": "python",
   "name": "python3"
  },
  "language_info": {
   "codemirror_mode": {
    "name": "ipython",
    "version": 3
   },
   "file_extension": ".py",
   "mimetype": "text/x-python",
   "name": "python",
   "nbconvert_exporter": "python",
   "pygments_lexer": "ipython3",
   "version": "3.9.5"
  },
  "toc": {
   "base_numbering": 1,
   "nav_menu": {
    "height": "81px",
    "width": "190px"
   },
   "number_sections": true,
   "sideBar": true,
   "skip_h1_title": true,
   "title_cell": "Table of Contents",
   "title_sidebar": "Contents",
   "toc_cell": true,
   "toc_position": {
    "height": "709px",
    "left": "492px",
    "top": "253.047px",
    "width": "344.797px"
   },
   "toc_section_display": true,
   "toc_window_display": false
  }
 },
 "nbformat": 4,
 "nbformat_minor": 2
}
