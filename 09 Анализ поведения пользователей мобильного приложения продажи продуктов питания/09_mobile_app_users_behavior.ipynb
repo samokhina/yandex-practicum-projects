{
 "cells": [
  {
   "cell_type": "markdown",
   "metadata": {},
   "source": [
    "# Анализ поведения пользователей мобильного приложения продажи продуктов питания"
   ]
  },
  {
   "cell_type": "markdown",
   "metadata": {},
   "source": [
    "`Заказчик`: стартап, занимающийся продажами продуктов питания через мобильное приложение  \n",
    "\n",
    "`Цель исследования`: определить, влияет ли изменение шрифта в приложение на воронку продаж  \n",
    "\n",
    "`Входные данные`: лог с записями действий пользователя (событиями), разделенный по группам пользователей: двум контрольным и одной тестовой  \n",
    "\n",
    "`Задачи`: 1) изучить воронку продаж (воронку событий); 2) исследовать результаты A/A/B-эксперимента; 3) выяснить, какой шрифт лучше: при использовании какого шрифта конверсия в покупки выше "
   ]
  },
  {
   "cell_type": "markdown",
   "metadata": {
    "toc": true
   },
   "source": [
    "<h1>Содержание проекта<span class=\"tocSkip\"></span></h1>\n",
    "<div class=\"toc\"><ul class=\"toc-item\"><li><span><a href=\"#Изучение-исходных-данных-и-подготовка-их-к-анализу\" data-toc-modified-id=\"Изучение-исходных-данных-и-подготовка-их-к-анализу-1\"><span class=\"toc-item-num\">1&nbsp;&nbsp;</span>Изучение исходных данных и подготовка их к анализу</a></span><ul class=\"toc-item\"><li><span><a href=\"#Импорт-лога,-предобработка\" data-toc-modified-id=\"Импорт-лога,-предобработка-1.1\"><span class=\"toc-item-num\">1.1&nbsp;&nbsp;</span>Импорт лога, предобработка</a></span></li><li><span><a href=\"#Изучение-записей-лога\" data-toc-modified-id=\"Изучение-записей-лога-1.2\"><span class=\"toc-item-num\">1.2&nbsp;&nbsp;</span>Изучение записей лога</a></span></li></ul></li><li><span><a href=\"#Изучение-и-анализ-воронки-событий\" data-toc-modified-id=\"Изучение-и-анализ-воронки-событий-2\"><span class=\"toc-item-num\">2&nbsp;&nbsp;</span>Изучение и анализ воронки событий</a></span><ul class=\"toc-item\"><li><span><a href=\"#Распределение-событий-по-частоте-записей-о-них-в-логе\" data-toc-modified-id=\"Распределение-событий-по-частоте-записей-о-них-в-логе-2.1\"><span class=\"toc-item-num\">2.1&nbsp;&nbsp;</span>Распределение событий по частоте записей о них в логе</a></span></li><li><span><a href=\"#Количество-уникальных-пользователей,-совершивших-каждое-из-событий\" data-toc-modified-id=\"Количество-уникальных-пользователей,-совершивших-каждое-из-событий-2.2\"><span class=\"toc-item-num\">2.2&nbsp;&nbsp;</span>Количество уникальных пользователей, совершивших каждое из событий</a></span></li><li><span><a href=\"#Порядок-событий,-воронка\" data-toc-modified-id=\"Порядок-событий,-воронка-2.3\"><span class=\"toc-item-num\">2.3&nbsp;&nbsp;</span>Порядок событий, воронка</a></span></li></ul></li><li><span><a href=\"#Анализ-результатов-A/A/B-эксперимента\" data-toc-modified-id=\"Анализ-результатов-A/A/B-эксперимента-3\"><span class=\"toc-item-num\">3&nbsp;&nbsp;</span>Анализ результатов A/A/B-эксперимента</a></span><ul class=\"toc-item\"><li><span><a href=\"#Проверка-гипотезы-о-равенстве-долей-пользователей-на-каждом-этапе-воронки-в-контрольных-группах\" data-toc-modified-id=\"Проверка-гипотезы-о-равенстве-долей-пользователей-на-каждом-этапе-воронки-в-контрольных-группах-3.1\"><span class=\"toc-item-num\">3.1&nbsp;&nbsp;</span>Проверка гипотезы о равенстве долей пользователей на каждом этапе воронки в <em>контрольных</em> группах</a></span></li><li><span><a href=\"#Проверка-гипотезы-о-равенстве-долей-пользователей-на-каждом-этапе-воронки-в-контрольной-группе-246-и-тестовой-группе-248\" data-toc-modified-id=\"Проверка-гипотезы-о-равенстве-долей-пользователей-на-каждом-этапе-воронки-в-контрольной-группе-246-и-тестовой-группе-248-3.2\"><span class=\"toc-item-num\">3.2&nbsp;&nbsp;</span>Проверка гипотезы о равенстве долей пользователей на каждом этапе воронки в контрольной группе 246 и тестовой группе 248</a></span></li><li><span><a href=\"#Проверка-гипотезы-о-равенстве-долей-пользователей-на-каждом-этапе-воронки-в-контрольной-группе-247-и-тестовой-группе-248\" data-toc-modified-id=\"Проверка-гипотезы-о-равенстве-долей-пользователей-на-каждом-этапе-воронки-в-контрольной-группе-247-и-тестовой-группе-248-3.3\"><span class=\"toc-item-num\">3.3&nbsp;&nbsp;</span>Проверка гипотезы о равенстве долей пользователей на каждом этапе воронки в контрольной группе 247 и тестовой группе 248</a></span></li><li><span><a href=\"#Проверка-гипотезы-о-равенстве-долей-пользователей-на-каждом-этапе-воронки-в-контрольных-группах-246+247-и-тестовой-группе-248\" data-toc-modified-id=\"Проверка-гипотезы-о-равенстве-долей-пользователей-на-каждом-этапе-воронки-в-контрольных-группах-246+247-и-тестовой-группе-248-3.4\"><span class=\"toc-item-num\">3.4&nbsp;&nbsp;</span>Проверка гипотезы о равенстве долей пользователей на каждом этапе воронки в контрольных группах 246+247 и тестовой группе 248</a></span></li><li><span><a href=\"#Корректировка-уровеня-значимости-при-проверке-статистических-гипотез\" data-toc-modified-id=\"Корректировка-уровеня-значимости-при-проверке-статистических-гипотез-3.5\"><span class=\"toc-item-num\">3.5&nbsp;&nbsp;</span>Корректировка уровеня значимости при проверке статистических гипотез</a></span></li></ul></li><li><span><a href=\"#Вывод\" data-toc-modified-id=\"Вывод-4\"><span class=\"toc-item-num\">4&nbsp;&nbsp;</span>Вывод</a></span></li></ul></div>"
   ]
  },
  {
   "cell_type": "markdown",
   "metadata": {},
   "source": [
    "## Изучение исходных данных и подготовка их к анализу"
   ]
  },
  {
   "cell_type": "markdown",
   "metadata": {},
   "source": [
    "### Импорт лога, предобработка"
   ]
  },
  {
   "cell_type": "code",
   "execution_count": 1,
   "metadata": {},
   "outputs": [],
   "source": [
    "import pandas as pd\n",
    "import matplotlib.pyplot as plt\n",
    "import seaborn as sns\n",
    "sns.set()\n",
    "import plotly.express as px\n",
    "from plotly import graph_objects as go\n",
    "import numpy as np\n",
    "from scipy import stats as st\n",
    "import math as mth\n",
    "import datetime as dt\n",
    "%matplotlib inline"
   ]
  },
  {
   "cell_type": "markdown",
   "metadata": {},
   "source": [
    "Уберем прокрутку вывода результатов ячейки"
   ]
  },
  {
   "cell_type": "code",
   "execution_count": 2,
   "metadata": {},
   "outputs": [
    {
     "data": {
      "application/javascript": [
       "IPython.OutputArea.prototype._should_scroll = function(lines) {\n",
       "    return false;\n",
       "}\n"
      ],
      "text/plain": [
       "<IPython.core.display.Javascript object>"
      ]
     },
     "metadata": {},
     "output_type": "display_data"
    }
   ],
   "source": [
    "%%javascript\n",
    "IPython.OutputArea.prototype._should_scroll = function(lines) {\n",
    "    return false;\n",
    "}"
   ]
  },
  {
   "cell_type": "code",
   "execution_count": 4,
   "metadata": {},
   "outputs": [
    {
     "data": {
      "text/html": [
       "<div>\n",
       "<style scoped>\n",
       "    .dataframe tbody tr th:only-of-type {\n",
       "        vertical-align: middle;\n",
       "    }\n",
       "\n",
       "    .dataframe tbody tr th {\n",
       "        vertical-align: top;\n",
       "    }\n",
       "\n",
       "    .dataframe thead th {\n",
       "        text-align: right;\n",
       "    }\n",
       "</style>\n",
       "<table border=\"1\" class=\"dataframe\">\n",
       "  <thead>\n",
       "    <tr style=\"text-align: right;\">\n",
       "      <th></th>\n",
       "      <th>EventName</th>\n",
       "      <th>DeviceIDHash</th>\n",
       "      <th>EventTimestamp</th>\n",
       "      <th>ExpId</th>\n",
       "    </tr>\n",
       "  </thead>\n",
       "  <tbody>\n",
       "    <tr>\n",
       "      <th>51216</th>\n",
       "      <td>OffersScreenAppear</td>\n",
       "      <td>1046044714483470353</td>\n",
       "      <td>1564740229</td>\n",
       "      <td>248</td>\n",
       "    </tr>\n",
       "    <tr>\n",
       "      <th>49690</th>\n",
       "      <td>OffersScreenAppear</td>\n",
       "      <td>7398476012386958146</td>\n",
       "      <td>1564737751</td>\n",
       "      <td>246</td>\n",
       "    </tr>\n",
       "    <tr>\n",
       "      <th>70442</th>\n",
       "      <td>OffersScreenAppear</td>\n",
       "      <td>3165136795200585292</td>\n",
       "      <td>1564772411</td>\n",
       "      <td>246</td>\n",
       "    </tr>\n",
       "    <tr>\n",
       "      <th>206751</th>\n",
       "      <td>OffersScreenAppear</td>\n",
       "      <td>1670499237495260603</td>\n",
       "      <td>1565113706</td>\n",
       "      <td>247</td>\n",
       "    </tr>\n",
       "    <tr>\n",
       "      <th>119214</th>\n",
       "      <td>CartScreenAppear</td>\n",
       "      <td>4713748699910253089</td>\n",
       "      <td>1564915178</td>\n",
       "      <td>248</td>\n",
       "    </tr>\n",
       "    <tr>\n",
       "      <th>72927</th>\n",
       "      <td>MainScreenAppear</td>\n",
       "      <td>5746969938801999050</td>\n",
       "      <td>1564778627</td>\n",
       "      <td>246</td>\n",
       "    </tr>\n",
       "    <tr>\n",
       "      <th>55241</th>\n",
       "      <td>CartScreenAppear</td>\n",
       "      <td>422635451750847294</td>\n",
       "      <td>1564746817</td>\n",
       "      <td>247</td>\n",
       "    </tr>\n",
       "  </tbody>\n",
       "</table>\n",
       "</div>"
      ],
      "text/plain": [
       "                 EventName         DeviceIDHash  EventTimestamp  ExpId\n",
       "51216   OffersScreenAppear  1046044714483470353      1564740229    248\n",
       "49690   OffersScreenAppear  7398476012386958146      1564737751    246\n",
       "70442   OffersScreenAppear  3165136795200585292      1564772411    246\n",
       "206751  OffersScreenAppear  1670499237495260603      1565113706    247\n",
       "119214    CartScreenAppear  4713748699910253089      1564915178    248\n",
       "72927     MainScreenAppear  5746969938801999050      1564778627    246\n",
       "55241     CartScreenAppear   422635451750847294      1564746817    247"
      ]
     },
     "execution_count": 4,
     "metadata": {},
     "output_type": "execute_result"
    }
   ],
   "source": [
    "logs_data.sample(7)"
   ]
  },
  {
   "cell_type": "markdown",
   "metadata": {},
   "source": [
    "**Описание данных**  \n",
    "Каждая запись в логе — это действие пользователя, или событие.  \n",
    "`EventName` — название события;  \n",
    "`DeviceIDHash` — уникальный идентификатор пользователя;  \n",
    "`EventTimestamp` — время события;  \n",
    "`ExpId` — номер эксперимента: 246 и 247 — контрольные группы, а 248 — экспериментальная."
   ]
  },
  {
   "cell_type": "markdown",
   "metadata": {},
   "source": [
    "Изменим порядок столбцов и их названия"
   ]
  },
  {
   "cell_type": "code",
   "execution_count": 5,
   "metadata": {},
   "outputs": [
    {
     "data": {
      "text/plain": [
       "Index(['EventName', 'DeviceIDHash', 'EventTimestamp', 'ExpId'], dtype='object')"
      ]
     },
     "execution_count": 5,
     "metadata": {},
     "output_type": "execute_result"
    }
   ],
   "source": [
    "logs_data.columns"
   ]
  },
  {
   "cell_type": "code",
   "execution_count": 6,
   "metadata": {},
   "outputs": [],
   "source": [
    "logs_data = logs_data[['DeviceIDHash', 'EventName', 'EventTimestamp', 'ExpId']]\n",
    "\n",
    "logs_data.rename(columns={'DeviceIDHash': 'user_id', 'EventName': 'event_name', 'EventTimestamp':'event_timestamp', 'ExpId':'group'}, inplace=True)"
   ]
  },
  {
   "cell_type": "code",
   "execution_count": 7,
   "metadata": {
    "scrolled": false
   },
   "outputs": [
    {
     "data": {
      "text/html": [
       "<div>\n",
       "<style scoped>\n",
       "    .dataframe tbody tr th:only-of-type {\n",
       "        vertical-align: middle;\n",
       "    }\n",
       "\n",
       "    .dataframe tbody tr th {\n",
       "        vertical-align: top;\n",
       "    }\n",
       "\n",
       "    .dataframe thead th {\n",
       "        text-align: right;\n",
       "    }\n",
       "</style>\n",
       "<table border=\"1\" class=\"dataframe\">\n",
       "  <thead>\n",
       "    <tr style=\"text-align: right;\">\n",
       "      <th></th>\n",
       "      <th>user_id</th>\n",
       "      <th>event_name</th>\n",
       "      <th>event_timestamp</th>\n",
       "      <th>group</th>\n",
       "    </tr>\n",
       "  </thead>\n",
       "  <tbody>\n",
       "    <tr>\n",
       "      <th>21897</th>\n",
       "      <td>2789808063375807388</td>\n",
       "      <td>MainScreenAppear</td>\n",
       "      <td>1564666985</td>\n",
       "      <td>246</td>\n",
       "    </tr>\n",
       "    <tr>\n",
       "      <th>4679</th>\n",
       "      <td>5959290295104245780</td>\n",
       "      <td>OffersScreenAppear</td>\n",
       "      <td>1564634188</td>\n",
       "      <td>248</td>\n",
       "    </tr>\n",
       "    <tr>\n",
       "      <th>163330</th>\n",
       "      <td>6543805526664863708</td>\n",
       "      <td>OffersScreenAppear</td>\n",
       "      <td>1565016969</td>\n",
       "      <td>246</td>\n",
       "    </tr>\n",
       "    <tr>\n",
       "      <th>211662</th>\n",
       "      <td>346200662669004391</td>\n",
       "      <td>MainScreenAppear</td>\n",
       "      <td>1565123382</td>\n",
       "      <td>246</td>\n",
       "    </tr>\n",
       "    <tr>\n",
       "      <th>224278</th>\n",
       "      <td>6900081163653264506</td>\n",
       "      <td>MainScreenAppear</td>\n",
       "      <td>1565174766</td>\n",
       "      <td>247</td>\n",
       "    </tr>\n",
       "    <tr>\n",
       "      <th>88570</th>\n",
       "      <td>1859538515480149604</td>\n",
       "      <td>OffersScreenAppear</td>\n",
       "      <td>1564832052</td>\n",
       "      <td>248</td>\n",
       "    </tr>\n",
       "    <tr>\n",
       "      <th>230983</th>\n",
       "      <td>33852999260079575</td>\n",
       "      <td>MainScreenAppear</td>\n",
       "      <td>1565187391</td>\n",
       "      <td>246</td>\n",
       "    </tr>\n",
       "  </tbody>\n",
       "</table>\n",
       "</div>"
      ],
      "text/plain": [
       "                    user_id          event_name  event_timestamp  group\n",
       "21897   2789808063375807388    MainScreenAppear       1564666985    246\n",
       "4679    5959290295104245780  OffersScreenAppear       1564634188    248\n",
       "163330  6543805526664863708  OffersScreenAppear       1565016969    246\n",
       "211662   346200662669004391    MainScreenAppear       1565123382    246\n",
       "224278  6900081163653264506    MainScreenAppear       1565174766    247\n",
       "88570   1859538515480149604  OffersScreenAppear       1564832052    248\n",
       "230983    33852999260079575    MainScreenAppear       1565187391    246"
      ]
     },
     "execution_count": 7,
     "metadata": {},
     "output_type": "execute_result"
    }
   ],
   "source": [
    "logs_data.sample(7)"
   ]
  },
  {
   "cell_type": "code",
   "execution_count": 8,
   "metadata": {
    "scrolled": true
   },
   "outputs": [
    {
     "name": "stdout",
     "output_type": "stream",
     "text": [
      "<class 'pandas.core.frame.DataFrame'>\n",
      "RangeIndex: 244126 entries, 0 to 244125\n",
      "Data columns (total 4 columns):\n",
      " #   Column           Non-Null Count   Dtype \n",
      "---  ------           --------------   ----- \n",
      " 0   user_id          244126 non-null  int64 \n",
      " 1   event_name       244126 non-null  object\n",
      " 2   event_timestamp  244126 non-null  int64 \n",
      " 3   group            244126 non-null  int64 \n",
      "dtypes: int64(3), object(1)\n",
      "memory usage: 7.5+ MB\n"
     ]
    }
   ],
   "source": [
    "logs_data.info()"
   ]
  },
  {
   "cell_type": "markdown",
   "metadata": {},
   "source": [
    "Пропусков нет.  \n",
    "\n",
    "Добавим столбец даты и времени"
   ]
  },
  {
   "cell_type": "code",
   "execution_count": 9,
   "metadata": {
    "scrolled": true
   },
   "outputs": [
    {
     "data": {
      "text/html": [
       "<div>\n",
       "<style scoped>\n",
       "    .dataframe tbody tr th:only-of-type {\n",
       "        vertical-align: middle;\n",
       "    }\n",
       "\n",
       "    .dataframe tbody tr th {\n",
       "        vertical-align: top;\n",
       "    }\n",
       "\n",
       "    .dataframe thead th {\n",
       "        text-align: right;\n",
       "    }\n",
       "</style>\n",
       "<table border=\"1\" class=\"dataframe\">\n",
       "  <thead>\n",
       "    <tr style=\"text-align: right;\">\n",
       "      <th></th>\n",
       "      <th>user_id</th>\n",
       "      <th>event_name</th>\n",
       "      <th>event_timestamp</th>\n",
       "      <th>group</th>\n",
       "      <th>event_datetime</th>\n",
       "    </tr>\n",
       "  </thead>\n",
       "  <tbody>\n",
       "    <tr>\n",
       "      <th>86040</th>\n",
       "      <td>7740435227326473159</td>\n",
       "      <td>MainScreenAppear</td>\n",
       "      <td>1564828332</td>\n",
       "      <td>246</td>\n",
       "      <td>2019-08-03 10:32:12</td>\n",
       "    </tr>\n",
       "    <tr>\n",
       "      <th>128041</th>\n",
       "      <td>5199564504605910454</td>\n",
       "      <td>MainScreenAppear</td>\n",
       "      <td>1564928994</td>\n",
       "      <td>247</td>\n",
       "      <td>2019-08-04 14:29:54</td>\n",
       "    </tr>\n",
       "  </tbody>\n",
       "</table>\n",
       "</div>"
      ],
      "text/plain": [
       "                    user_id        event_name  event_timestamp  group  \\\n",
       "86040   7740435227326473159  MainScreenAppear       1564828332    246   \n",
       "128041  5199564504605910454  MainScreenAppear       1564928994    247   \n",
       "\n",
       "            event_datetime  \n",
       "86040  2019-08-03 10:32:12  \n",
       "128041 2019-08-04 14:29:54  "
      ]
     },
     "execution_count": 9,
     "metadata": {},
     "output_type": "execute_result"
    }
   ],
   "source": [
    "logs_data['event_datetime'] = pd.to_datetime(logs_data['event_timestamp'], unit='s')\n",
    "logs_data.sample(2)"
   ]
  },
  {
   "cell_type": "markdown",
   "metadata": {},
   "source": [
    "Добавим столбец с датой"
   ]
  },
  {
   "cell_type": "code",
   "execution_count": 10,
   "metadata": {
    "scrolled": false
   },
   "outputs": [
    {
     "data": {
      "text/html": [
       "<div>\n",
       "<style scoped>\n",
       "    .dataframe tbody tr th:only-of-type {\n",
       "        vertical-align: middle;\n",
       "    }\n",
       "\n",
       "    .dataframe tbody tr th {\n",
       "        vertical-align: top;\n",
       "    }\n",
       "\n",
       "    .dataframe thead th {\n",
       "        text-align: right;\n",
       "    }\n",
       "</style>\n",
       "<table border=\"1\" class=\"dataframe\">\n",
       "  <thead>\n",
       "    <tr style=\"text-align: right;\">\n",
       "      <th></th>\n",
       "      <th>user_id</th>\n",
       "      <th>event_name</th>\n",
       "      <th>event_timestamp</th>\n",
       "      <th>group</th>\n",
       "      <th>event_datetime</th>\n",
       "      <th>event_date</th>\n",
       "    </tr>\n",
       "  </thead>\n",
       "  <tbody>\n",
       "    <tr>\n",
       "      <th>214774</th>\n",
       "      <td>2580223756192068322</td>\n",
       "      <td>CartScreenAppear</td>\n",
       "      <td>1565151592</td>\n",
       "      <td>247</td>\n",
       "      <td>2019-08-07 04:19:52</td>\n",
       "      <td>2019-08-07</td>\n",
       "    </tr>\n",
       "    <tr>\n",
       "      <th>163328</th>\n",
       "      <td>3819814560259843336</td>\n",
       "      <td>OffersScreenAppear</td>\n",
       "      <td>1565016965</td>\n",
       "      <td>247</td>\n",
       "      <td>2019-08-05 14:56:05</td>\n",
       "      <td>2019-08-05</td>\n",
       "    </tr>\n",
       "  </tbody>\n",
       "</table>\n",
       "</div>"
      ],
      "text/plain": [
       "                    user_id          event_name  event_timestamp  group  \\\n",
       "214774  2580223756192068322    CartScreenAppear       1565151592    247   \n",
       "163328  3819814560259843336  OffersScreenAppear       1565016965    247   \n",
       "\n",
       "            event_datetime  event_date  \n",
       "214774 2019-08-07 04:19:52  2019-08-07  \n",
       "163328 2019-08-05 14:56:05  2019-08-05  "
      ]
     },
     "execution_count": 10,
     "metadata": {},
     "output_type": "execute_result"
    }
   ],
   "source": [
    "logs_data['event_date'] = logs_data['event_datetime'].dt.date\n",
    "logs_data.sample(2)"
   ]
  },
  {
   "cell_type": "markdown",
   "metadata": {},
   "source": [
    "Проверим исходные данные на наличие дубликатов"
   ]
  },
  {
   "cell_type": "code",
   "execution_count": 11,
   "metadata": {
    "scrolled": true
   },
   "outputs": [
    {
     "data": {
      "text/plain": [
       "413"
      ]
     },
     "execution_count": 11,
     "metadata": {},
     "output_type": "execute_result"
    }
   ],
   "source": [
    "logs_data.duplicated().sum()"
   ]
  },
  {
   "cell_type": "markdown",
   "metadata": {},
   "source": [
    "Исключим дубликаты"
   ]
  },
  {
   "cell_type": "code",
   "execution_count": 12,
   "metadata": {},
   "outputs": [],
   "source": [
    "logs_data = logs_data.drop_duplicates().reset_index(drop=True)"
   ]
  },
  {
   "cell_type": "markdown",
   "metadata": {},
   "source": [
    "Причины появления дубликатов в данных  \n",
    "    \n",
    "Возможно, как-то некорректно сработала система записи лога в приложении. Дубликаты, вероятно, не сильно изменили бы картину, т.к. в основном анализе рассматриваем уникальных пользователей.  "
   ]
  },
  {
   "cell_type": "markdown",
   "metadata": {},
   "source": [
    "### Изучение записей лога"
   ]
  },
  {
   "cell_type": "markdown",
   "metadata": {},
   "source": [
    "- Количество событий, пользователей в логе, среднее количество событий на пользователя"
   ]
  },
  {
   "cell_type": "code",
   "execution_count": 13,
   "metadata": {},
   "outputs": [
    {
     "name": "stdout",
     "output_type": "stream",
     "text": [
      "В логе  243713 записей.\n",
      "Уникальных событий, формирующих записи лога, - 5 :\n",
      " ['MainScreenAppear', 'PaymentScreenSuccessful', 'CartScreenAppear', 'OffersScreenAppear', 'Tutorial']\n",
      "\n",
      "Всего в логе 7551 уникальных пользователей.\n"
     ]
    }
   ],
   "source": [
    "print(\n",
    "    'В логе ', len(logs_data), 'записей.\\n\\\n",
    "Уникальных событий, формирующих записи лога, -',\n",
    "    logs_data['event_name'].nunique(), ':\\n\\\n",
    "', \n",
    "logs_data['event_name'].unique().tolist()\n",
    ")\n",
    "print('')\n",
    "print('Всего в логе', logs_data['user_id'].nunique(), 'уникальных пользователей.')"
   ]
  },
  {
   "cell_type": "markdown",
   "metadata": {},
   "source": [
    "Рассчитаем, сколько в среднем событий приходится на пользователя"
   ]
  },
  {
   "cell_type": "code",
   "execution_count": 14,
   "metadata": {
    "scrolled": true
   },
   "outputs": [
    {
     "data": {
      "text/plain": [
       "count    7551.000000\n",
       "mean       32.275593\n",
       "std        65.154219\n",
       "min         1.000000\n",
       "25%         9.000000\n",
       "50%        20.000000\n",
       "75%        37.000000\n",
       "max      2307.000000\n",
       "Name: event_name, dtype: float64"
      ]
     },
     "execution_count": 14,
     "metadata": {},
     "output_type": "execute_result"
    }
   ],
   "source": [
    "logs_data.groupby('user_id')['event_name'].count().describe()"
   ]
  },
  {
   "cell_type": "markdown",
   "metadata": {},
   "source": [
    "В среднем на одного пользователя приходится 32.28 события. Минимальное количество событий на пользователя - 1. Настораживает пользователь с количеством событий 2308 при медианном значении - 20 и при 75-квантиле = 37.  \n",
    "Пользователей с количеством совершенных событий, во много раз превышающим среднее, медиану и 75-квантиль, довольно много... Наверное, исключать их несовсем корректно."
   ]
  },
  {
   "cell_type": "markdown",
   "metadata": {},
   "source": [
    "Если предположить, что представленная воронка исключает просмотры страниц различных товаров, то 32 события на мой взгляд - это много. Если предположить, что пользователь проходит всю воронку до конца (это 4 события), он должен был за неделю заказать в приложении 8 раз. Каждый день и не по разу - сомнительно. Опять же вопрос, что такое Основной экран? Возможно Приложение присылает какие-то рекламные пуши пользователям. Проходя по ним, пользователь попадает на Основной экран. А потом закрывает приложение. Но даже в этом случае 32 раза, кажется, много. "
   ]
  },
  {
   "cell_type": "code",
   "execution_count": 15,
   "metadata": {},
   "outputs": [
    {
     "data": {
      "text/plain": [
       "user_id\n",
       "6304868067479728361    2307\n",
       "197027893265565660     1998\n",
       "4623191541214045580    1768\n",
       "6932517045703054087    1439\n",
       "1754140665440434215    1221\n",
       "3337471580007169353    1186\n",
       "7738058666231999878     888\n",
       "1055544042902443290     854\n",
       "4713748699910253089     824\n",
       "8118046800480174342     755\n",
       "1989685320445148348     729\n",
       "3521696259961091617     702\n",
       "3610536745613892312     661\n",
       "1100007125648169445     661\n",
       "2305766456715991733     658\n",
       "5996739817823449506     585\n",
       "3940194724501792579     569\n",
       "8173190940950873857     555\n",
       "2768580714092136945     529\n",
       "674541835027541643      496\n",
       "2910761286178294850     489\n",
       "6613527411922640441     468\n",
       "4148267947677649217     418\n",
       "3198863056321683492     413\n",
       "4705890939205361551     385\n",
       "4257848154605915902     380\n",
       "8876255867200307343     364\n",
       "8309980273750324949     363\n",
       "5444091050002420401     321\n",
       "1872978591788881482     321\n",
       "Name: event_name, dtype: int64"
      ]
     },
     "execution_count": 15,
     "metadata": {},
     "output_type": "execute_result"
    }
   ],
   "source": [
    "logs_data.groupby('user_id')['event_name'].count().sort_values(ascending=False).head(30)"
   ]
  },
  {
   "cell_type": "markdown",
   "metadata": {},
   "source": [
    "- Период, за который представлены записи лога"
   ]
  },
  {
   "cell_type": "markdown",
   "metadata": {},
   "source": [
    "Посмотрим минимальную и максимальную даты записей в логе"
   ]
  },
  {
   "cell_type": "code",
   "execution_count": 16,
   "metadata": {
    "scrolled": false
   },
   "outputs": [
    {
     "data": {
      "text/plain": [
       "count         243713\n",
       "unique            14\n",
       "top       2019-08-01\n",
       "freq           36141\n",
       "Name: event_date, dtype: object"
      ]
     },
     "execution_count": 16,
     "metadata": {},
     "output_type": "execute_result"
    }
   ],
   "source": [
    "logs_data['event_date'].describe()"
   ]
  },
  {
   "cell_type": "markdown",
   "metadata": {},
   "source": [
    "Мы располагаем данными за 14 дней, с 25 июля по 07 августа 2019.  \n",
    "Оценим и отобразим графически, сколько записей событий приходится на каждую дату"
   ]
  },
  {
   "cell_type": "code",
   "execution_count": 17,
   "metadata": {},
   "outputs": [
    {
     "data": {
      "text/html": [
       "<div>\n",
       "<style scoped>\n",
       "    .dataframe tbody tr th:only-of-type {\n",
       "        vertical-align: middle;\n",
       "    }\n",
       "\n",
       "    .dataframe tbody tr th {\n",
       "        vertical-align: top;\n",
       "    }\n",
       "\n",
       "    .dataframe thead th {\n",
       "        text-align: right;\n",
       "    }\n",
       "</style>\n",
       "<table border=\"1\" class=\"dataframe\">\n",
       "  <thead>\n",
       "    <tr style=\"text-align: right;\">\n",
       "      <th></th>\n",
       "      <th>index</th>\n",
       "      <th>event_date</th>\n",
       "    </tr>\n",
       "  </thead>\n",
       "  <tbody>\n",
       "    <tr>\n",
       "      <th>13</th>\n",
       "      <td>2019-07-25</td>\n",
       "      <td>9</td>\n",
       "    </tr>\n",
       "    <tr>\n",
       "      <th>12</th>\n",
       "      <td>2019-07-26</td>\n",
       "      <td>31</td>\n",
       "    </tr>\n",
       "    <tr>\n",
       "      <th>11</th>\n",
       "      <td>2019-07-27</td>\n",
       "      <td>55</td>\n",
       "    </tr>\n",
       "    <tr>\n",
       "      <th>10</th>\n",
       "      <td>2019-07-28</td>\n",
       "      <td>105</td>\n",
       "    </tr>\n",
       "    <tr>\n",
       "      <th>9</th>\n",
       "      <td>2019-07-29</td>\n",
       "      <td>184</td>\n",
       "    </tr>\n",
       "    <tr>\n",
       "      <th>8</th>\n",
       "      <td>2019-07-30</td>\n",
       "      <td>412</td>\n",
       "    </tr>\n",
       "    <tr>\n",
       "      <th>7</th>\n",
       "      <td>2019-07-31</td>\n",
       "      <td>2030</td>\n",
       "    </tr>\n",
       "    <tr>\n",
       "      <th>0</th>\n",
       "      <td>2019-08-01</td>\n",
       "      <td>36141</td>\n",
       "    </tr>\n",
       "    <tr>\n",
       "      <th>3</th>\n",
       "      <td>2019-08-02</td>\n",
       "      <td>35554</td>\n",
       "    </tr>\n",
       "    <tr>\n",
       "      <th>4</th>\n",
       "      <td>2019-08-03</td>\n",
       "      <td>33282</td>\n",
       "    </tr>\n",
       "    <tr>\n",
       "      <th>5</th>\n",
       "      <td>2019-08-04</td>\n",
       "      <td>32968</td>\n",
       "    </tr>\n",
       "    <tr>\n",
       "      <th>1</th>\n",
       "      <td>2019-08-05</td>\n",
       "      <td>36058</td>\n",
       "    </tr>\n",
       "    <tr>\n",
       "      <th>2</th>\n",
       "      <td>2019-08-06</td>\n",
       "      <td>35788</td>\n",
       "    </tr>\n",
       "    <tr>\n",
       "      <th>6</th>\n",
       "      <td>2019-08-07</td>\n",
       "      <td>31096</td>\n",
       "    </tr>\n",
       "  </tbody>\n",
       "</table>\n",
       "</div>"
      ],
      "text/plain": [
       "         index  event_date\n",
       "13  2019-07-25           9\n",
       "12  2019-07-26          31\n",
       "11  2019-07-27          55\n",
       "10  2019-07-28         105\n",
       "9   2019-07-29         184\n",
       "8   2019-07-30         412\n",
       "7   2019-07-31        2030\n",
       "0   2019-08-01       36141\n",
       "3   2019-08-02       35554\n",
       "4   2019-08-03       33282\n",
       "5   2019-08-04       32968\n",
       "1   2019-08-05       36058\n",
       "2   2019-08-06       35788\n",
       "6   2019-08-07       31096"
      ]
     },
     "execution_count": 17,
     "metadata": {},
     "output_type": "execute_result"
    }
   ],
   "source": [
    "logs_data['event_date'].value_counts().reset_index().sort_values(by='index')"
   ]
  },
  {
   "cell_type": "markdown",
   "metadata": {},
   "source": [
    "Зададим стиль для визуализаций в проекте"
   ]
  },
  {
   "cell_type": "code",
   "execution_count": 18,
   "metadata": {},
   "outputs": [],
   "source": [
    "plt.style.use('seaborn-pastel')"
   ]
  },
  {
   "cell_type": "code",
   "execution_count": 19,
   "metadata": {
    "scrolled": true
   },
   "outputs": [
    {
     "data": {
      "image/png": "[encoded data removed]",
      "text/plain": [
       "<Figure size 864x504 with 1 Axes>"
      ]
     },
     "metadata": {
      "needs_background": "light"
     },
     "output_type": "display_data"
    }
   ],
   "source": [
    "plt.figure(figsize=(12, 7))\n",
    "fig = sns.barplot(\n",
    "    x='index', \n",
    "    y='event_date', \n",
    "    data=logs_data['event_date'].value_counts().reset_index().sort_values(by='index'), \n",
    "    color='#50C878') \n",
    "fig.set_xticklabels(\n",
    "    logs_data['event_date'].value_counts().reset_index().sort_values(by='index')['index'], \n",
    "    rotation=40, \n",
    "    ha=\"right\")\n",
    "plt.xlabel('Дата')\n",
    "plt.ylabel('Количество событий')\n",
    "plt.title('Количество событий по дням')\n",
    "\n",
    "plt.show()"
   ]
  },
  {
   "cell_type": "markdown",
   "metadata": {},
   "source": [
    "Данные, с которыми следует работать, начинаются с 01 августа 2019. Отбросим данные до этой даты. "
   ]
  },
  {
   "cell_type": "code",
   "execution_count": 20,
   "metadata": {
    "scrolled": true
   },
   "outputs": [
    {
     "data": {
      "text/plain": [
       "datetime.date(2019, 8, 1)"
      ]
     },
     "execution_count": 20,
     "metadata": {},
     "output_type": "execute_result"
    }
   ],
   "source": [
    "logs = logs_data[logs_data['event_date'] > dt.date(2019, 7, 31)]\n",
    "logs['event_date'].min() #проверка"
   ]
  },
  {
   "cell_type": "code",
   "execution_count": 21,
   "metadata": {},
   "outputs": [
    {
     "name": "stdout",
     "output_type": "stream",
     "text": [
      "Отбросив старые данные, потеряли 2826 строк, - это 1.16% событий и 0.23% пользователей\n"
     ]
    }
   ],
   "source": [
    "print('Отбросив старые данные, потеряли {} строк, - это {:.2%} событий и {:.2%} пользователей'.format(len(logs_data) - len(logs), 1 - len(logs) / len(logs_data), 1 - logs['user_id'].nunique()/logs_data['user_id'].nunique()))"
   ]
  },
  {
   "cell_type": "markdown",
   "metadata": {},
   "source": [
    "Проверим, что у нас есть записи и пользователи из всех трёх экспериментальных групп."
   ]
  },
  {
   "cell_type": "code",
   "execution_count": 22,
   "metadata": {},
   "outputs": [
    {
     "data": {
      "text/plain": [
       "248    84563\n",
       "246    79302\n",
       "247    77022\n",
       "Name: group, dtype: int64"
      ]
     },
     "execution_count": 22,
     "metadata": {},
     "output_type": "execute_result"
    }
   ],
   "source": [
    "logs['group'].value_counts()"
   ]
  },
  {
   "cell_type": "markdown",
   "metadata": {},
   "source": [
    "Есть записи событий по всем трем группам"
   ]
  },
  {
   "cell_type": "code",
   "execution_count": 23,
   "metadata": {},
   "outputs": [
    {
     "data": {
      "text/html": [
       "<div>\n",
       "<style scoped>\n",
       "    .dataframe tbody tr th:only-of-type {\n",
       "        vertical-align: middle;\n",
       "    }\n",
       "\n",
       "    .dataframe tbody tr th {\n",
       "        vertical-align: top;\n",
       "    }\n",
       "\n",
       "    .dataframe thead th {\n",
       "        text-align: right;\n",
       "    }\n",
       "</style>\n",
       "<table border=\"1\" class=\"dataframe\">\n",
       "  <thead>\n",
       "    <tr style=\"text-align: right;\">\n",
       "      <th></th>\n",
       "      <th>group</th>\n",
       "      <th>user_id</th>\n",
       "    </tr>\n",
       "  </thead>\n",
       "  <tbody>\n",
       "    <tr>\n",
       "      <th>0</th>\n",
       "      <td>246</td>\n",
       "      <td>2484</td>\n",
       "    </tr>\n",
       "    <tr>\n",
       "      <th>1</th>\n",
       "      <td>247</td>\n",
       "      <td>2513</td>\n",
       "    </tr>\n",
       "    <tr>\n",
       "      <th>2</th>\n",
       "      <td>248</td>\n",
       "      <td>2537</td>\n",
       "    </tr>\n",
       "  </tbody>\n",
       "</table>\n",
       "</div>"
      ],
      "text/plain": [
       "   group  user_id\n",
       "0    246     2484\n",
       "1    247     2513\n",
       "2    248     2537"
      ]
     },
     "execution_count": 23,
     "metadata": {},
     "output_type": "execute_result"
    }
   ],
   "source": [
    "groups = logs.groupby('group')['user_id'].nunique().reset_index()\n",
    "groups"
   ]
  },
  {
   "cell_type": "markdown",
   "metadata": {},
   "source": [
    "Есть пользователи в каждой группе, и их количество несколько отличается"
   ]
  },
  {
   "cell_type": "markdown",
   "metadata": {},
   "source": [
    "**Вывод**  \n",
    "Отфильтровали лог по датам, т.к. продолжительность тетса не так значима, как количество пользователей в каждой группе. Чем больше пользователей, тем более достоверны результаты тестов.  \n",
    "Убедились, что в данных есть записи и пользователи по всем трем группам.  \n",
    "Можно переходить к анализу воронки событий. "
   ]
  },
  {
   "cell_type": "markdown",
   "metadata": {},
   "source": [
    "## Изучение и анализ воронки событий"
   ]
  },
  {
   "cell_type": "markdown",
   "metadata": {},
   "source": [
    "### Распределение событий по частоте записей о них в логе"
   ]
  },
  {
   "cell_type": "code",
   "execution_count": 24,
   "metadata": {
    "scrolled": true
   },
   "outputs": [
    {
     "data": {
      "text/html": [
       "<div>\n",
       "<style scoped>\n",
       "    .dataframe tbody tr th:only-of-type {\n",
       "        vertical-align: middle;\n",
       "    }\n",
       "\n",
       "    .dataframe tbody tr th {\n",
       "        vertical-align: top;\n",
       "    }\n",
       "\n",
       "    .dataframe thead th {\n",
       "        text-align: right;\n",
       "    }\n",
       "</style>\n",
       "<table border=\"1\" class=\"dataframe\">\n",
       "  <thead>\n",
       "    <tr style=\"text-align: right;\">\n",
       "      <th></th>\n",
       "      <th>event_name</th>\n",
       "      <th>event_datetime</th>\n",
       "    </tr>\n",
       "  </thead>\n",
       "  <tbody>\n",
       "    <tr>\n",
       "      <th>0</th>\n",
       "      <td>MainScreenAppear</td>\n",
       "      <td>117328</td>\n",
       "    </tr>\n",
       "    <tr>\n",
       "      <th>1</th>\n",
       "      <td>OffersScreenAppear</td>\n",
       "      <td>46333</td>\n",
       "    </tr>\n",
       "    <tr>\n",
       "      <th>2</th>\n",
       "      <td>CartScreenAppear</td>\n",
       "      <td>42303</td>\n",
       "    </tr>\n",
       "    <tr>\n",
       "      <th>3</th>\n",
       "      <td>PaymentScreenSuccessful</td>\n",
       "      <td>33918</td>\n",
       "    </tr>\n",
       "    <tr>\n",
       "      <th>4</th>\n",
       "      <td>Tutorial</td>\n",
       "      <td>1005</td>\n",
       "    </tr>\n",
       "  </tbody>\n",
       "</table>\n",
       "</div>"
      ],
      "text/plain": [
       "                event_name  event_datetime\n",
       "0         MainScreenAppear          117328\n",
       "1       OffersScreenAppear           46333\n",
       "2         CartScreenAppear           42303\n",
       "3  PaymentScreenSuccessful           33918\n",
       "4                 Tutorial            1005"
      ]
     },
     "execution_count": 24,
     "metadata": {},
     "output_type": "execute_result"
    }
   ],
   "source": [
    "events_funnel = logs.groupby('event_name')['event_datetime'].count().sort_values(ascending=False).reset_index()\n",
    "events_funnel"
   ]
  },
  {
   "cell_type": "code",
   "execution_count": 25,
   "metadata": {},
   "outputs": [
    {
     "data": {
      "image/png": "[encoded data removed]",
      "text/plain": [
       "<Figure size 360x216 with 1 Axes>"
      ]
     },
     "metadata": {
      "needs_background": "light"
     },
     "output_type": "display_data"
    }
   ],
   "source": [
    "plt.figure(figsize=(5, 3))\n",
    "fig = sns.barplot(x='event_name', y='event_datetime', data=events_funnel, color='#50C878') \n",
    "fig.set_xticklabels(events_funnel['event_name'], rotation=40, ha=\"right\")\n",
    "plt.xlabel('Событие')\n",
    "plt.ylabel('Количество')\n",
    "plt.title('Частота записей в логе по событиям')\n",
    "\n",
    "plt.show()"
   ]
  },
  {
   "cell_type": "markdown",
   "metadata": {},
   "source": [
    "В логах присутствуют записи о 5 уникальных событиях, основной экран MainScreenAppear - наиболее часто встречаемое событие. Крайне редко встречается обращение к Справке Tutorial."
   ]
  },
  {
   "cell_type": "markdown",
   "metadata": {},
   "source": [
    "### Количество уникальных пользователей, совершивших каждое из событий"
   ]
  },
  {
   "cell_type": "markdown",
   "metadata": {},
   "source": [
    "Рассчитаем количество и долю уникальных пользователей, которые хоть раз совершали каждое из событий "
   ]
  },
  {
   "cell_type": "code",
   "execution_count": 26,
   "metadata": {
    "scrolled": true
   },
   "outputs": [
    {
     "data": {
      "text/html": [
       "<div>\n",
       "<style scoped>\n",
       "    .dataframe tbody tr th:only-of-type {\n",
       "        vertical-align: middle;\n",
       "    }\n",
       "\n",
       "    .dataframe tbody tr th {\n",
       "        vertical-align: top;\n",
       "    }\n",
       "\n",
       "    .dataframe thead th {\n",
       "        text-align: right;\n",
       "    }\n",
       "</style>\n",
       "<table border=\"1\" class=\"dataframe\">\n",
       "  <thead>\n",
       "    <tr style=\"text-align: right;\">\n",
       "      <th></th>\n",
       "      <th>event_name</th>\n",
       "      <th>n_events</th>\n",
       "      <th>n_users</th>\n",
       "      <th>part_users</th>\n",
       "    </tr>\n",
       "  </thead>\n",
       "  <tbody>\n",
       "    <tr>\n",
       "      <th>0</th>\n",
       "      <td>MainScreenAppear</td>\n",
       "      <td>117328</td>\n",
       "      <td>7419</td>\n",
       "      <td>0.984736</td>\n",
       "    </tr>\n",
       "    <tr>\n",
       "      <th>1</th>\n",
       "      <td>OffersScreenAppear</td>\n",
       "      <td>46333</td>\n",
       "      <td>4593</td>\n",
       "      <td>0.609636</td>\n",
       "    </tr>\n",
       "    <tr>\n",
       "      <th>2</th>\n",
       "      <td>CartScreenAppear</td>\n",
       "      <td>42303</td>\n",
       "      <td>3734</td>\n",
       "      <td>0.495620</td>\n",
       "    </tr>\n",
       "    <tr>\n",
       "      <th>3</th>\n",
       "      <td>PaymentScreenSuccessful</td>\n",
       "      <td>33918</td>\n",
       "      <td>3539</td>\n",
       "      <td>0.469737</td>\n",
       "    </tr>\n",
       "    <tr>\n",
       "      <th>4</th>\n",
       "      <td>Tutorial</td>\n",
       "      <td>1005</td>\n",
       "      <td>840</td>\n",
       "      <td>0.111495</td>\n",
       "    </tr>\n",
       "  </tbody>\n",
       "</table>\n",
       "</div>"
      ],
      "text/plain": [
       "                event_name  n_events  n_users  part_users\n",
       "0         MainScreenAppear    117328     7419    0.984736\n",
       "1       OffersScreenAppear     46333     4593    0.609636\n",
       "2         CartScreenAppear     42303     3734    0.495620\n",
       "3  PaymentScreenSuccessful     33918     3539    0.469737\n",
       "4                 Tutorial      1005      840    0.111495"
      ]
     },
     "execution_count": 26,
     "metadata": {},
     "output_type": "execute_result"
    }
   ],
   "source": [
    "events_funnel = events_funnel.merge(\n",
    "    logs.groupby('event_name')['user_id'].nunique().sort_values(ascending=False).reset_index(),\n",
    "    on='event_name'\n",
    "    )\n",
    "events_funnel.columns = ['event_name', 'n_events', 'n_users']\n",
    "\n",
    "events_funnel['part_users'] = events_funnel['n_users']/logs['user_id'].nunique()\n",
    "\n",
    "events_funnel"
   ]
  },
  {
   "cell_type": "markdown",
   "metadata": {},
   "source": [
    "### Порядок событий, воронка"
   ]
  },
  {
   "cell_type": "markdown",
   "metadata": {},
   "source": [
    "Исходя из полученного распределения количества уникальных пользователей по каждому событию, можно сделать вывод, что События происходят в следующем порядке:  \n",
    "- Основной экран `MainScreenAppear` =>  \n",
    "- Предложение `OffersScreenAppear` =>  \n",
    "- Корзина `CartScreenAppear` =>  \n",
    "- Оплата произведена `PaymentScreenSuccessful`\n",
    "\n",
    "Справка `Tutorial` не входит в последовательную цепочку, остальные события в указанном порядке представляют собой воронку. \n",
    "Исключим Tutorial из воронки."
   ]
  },
  {
   "cell_type": "code",
   "execution_count": 27,
   "metadata": {
    "scrolled": false
   },
   "outputs": [],
   "source": [
    "events_funnel = events_funnel.loc[events_funnel['event_name'] != 'Tutorial']"
   ]
  },
  {
   "cell_type": "code",
   "execution_count": 28,
   "metadata": {},
   "outputs": [
    {
     "data": {
      "text/html": [
       "<div>\n",
       "<style scoped>\n",
       "    .dataframe tbody tr th:only-of-type {\n",
       "        vertical-align: middle;\n",
       "    }\n",
       "\n",
       "    .dataframe tbody tr th {\n",
       "        vertical-align: top;\n",
       "    }\n",
       "\n",
       "    .dataframe thead th {\n",
       "        text-align: right;\n",
       "    }\n",
       "</style>\n",
       "<table border=\"1\" class=\"dataframe\">\n",
       "  <thead>\n",
       "    <tr style=\"text-align: right;\">\n",
       "      <th></th>\n",
       "      <th>event_name</th>\n",
       "      <th>n_events</th>\n",
       "      <th>n_users</th>\n",
       "      <th>part_users</th>\n",
       "    </tr>\n",
       "  </thead>\n",
       "  <tbody>\n",
       "    <tr>\n",
       "      <th>0</th>\n",
       "      <td>MainScreenAppear</td>\n",
       "      <td>117328</td>\n",
       "      <td>7419</td>\n",
       "      <td>0.984736</td>\n",
       "    </tr>\n",
       "    <tr>\n",
       "      <th>1</th>\n",
       "      <td>OffersScreenAppear</td>\n",
       "      <td>46333</td>\n",
       "      <td>4593</td>\n",
       "      <td>0.609636</td>\n",
       "    </tr>\n",
       "    <tr>\n",
       "      <th>2</th>\n",
       "      <td>CartScreenAppear</td>\n",
       "      <td>42303</td>\n",
       "      <td>3734</td>\n",
       "      <td>0.495620</td>\n",
       "    </tr>\n",
       "    <tr>\n",
       "      <th>3</th>\n",
       "      <td>PaymentScreenSuccessful</td>\n",
       "      <td>33918</td>\n",
       "      <td>3539</td>\n",
       "      <td>0.469737</td>\n",
       "    </tr>\n",
       "  </tbody>\n",
       "</table>\n",
       "</div>"
      ],
      "text/plain": [
       "                event_name  n_events  n_users  part_users\n",
       "0         MainScreenAppear    117328     7419    0.984736\n",
       "1       OffersScreenAppear     46333     4593    0.609636\n",
       "2         CartScreenAppear     42303     3734    0.495620\n",
       "3  PaymentScreenSuccessful     33918     3539    0.469737"
      ]
     },
     "execution_count": 28,
     "metadata": {},
     "output_type": "execute_result"
    }
   ],
   "source": [
    "events_funnel"
   ]
  },
  {
   "cell_type": "markdown",
   "metadata": {},
   "source": [
    "Рассчитаем, какая доля пользователей проходит на каждый следующий шаг воронки "
   ]
  },
  {
   "cell_type": "code",
   "execution_count": 29,
   "metadata": {},
   "outputs": [
    {
     "data": {
      "text/html": [
       "<div>\n",
       "<style scoped>\n",
       "    .dataframe tbody tr th:only-of-type {\n",
       "        vertical-align: middle;\n",
       "    }\n",
       "\n",
       "    .dataframe tbody tr th {\n",
       "        vertical-align: top;\n",
       "    }\n",
       "\n",
       "    .dataframe thead th {\n",
       "        text-align: right;\n",
       "    }\n",
       "</style>\n",
       "<table border=\"1\" class=\"dataframe\">\n",
       "  <thead>\n",
       "    <tr style=\"text-align: right;\">\n",
       "      <th></th>\n",
       "      <th>event_name</th>\n",
       "      <th>n_events</th>\n",
       "      <th>n_users</th>\n",
       "      <th>part_users</th>\n",
       "      <th>pct_change</th>\n",
       "    </tr>\n",
       "  </thead>\n",
       "  <tbody>\n",
       "    <tr>\n",
       "      <th>0</th>\n",
       "      <td>MainScreenAppear</td>\n",
       "      <td>117328</td>\n",
       "      <td>7419</td>\n",
       "      <td>0.984736</td>\n",
       "      <td>NaN</td>\n",
       "    </tr>\n",
       "    <tr>\n",
       "      <th>1</th>\n",
       "      <td>OffersScreenAppear</td>\n",
       "      <td>46333</td>\n",
       "      <td>4593</td>\n",
       "      <td>0.609636</td>\n",
       "      <td>-0.380914</td>\n",
       "    </tr>\n",
       "    <tr>\n",
       "      <th>2</th>\n",
       "      <td>CartScreenAppear</td>\n",
       "      <td>42303</td>\n",
       "      <td>3734</td>\n",
       "      <td>0.495620</td>\n",
       "      <td>-0.187024</td>\n",
       "    </tr>\n",
       "    <tr>\n",
       "      <th>3</th>\n",
       "      <td>PaymentScreenSuccessful</td>\n",
       "      <td>33918</td>\n",
       "      <td>3539</td>\n",
       "      <td>0.469737</td>\n",
       "      <td>-0.052223</td>\n",
       "    </tr>\n",
       "  </tbody>\n",
       "</table>\n",
       "</div>"
      ],
      "text/plain": [
       "                event_name  n_events  n_users  part_users  pct_change\n",
       "0         MainScreenAppear    117328     7419    0.984736         NaN\n",
       "1       OffersScreenAppear     46333     4593    0.609636   -0.380914\n",
       "2         CartScreenAppear     42303     3734    0.495620   -0.187024\n",
       "3  PaymentScreenSuccessful     33918     3539    0.469737   -0.052223"
      ]
     },
     "execution_count": 29,
     "metadata": {},
     "output_type": "execute_result"
    }
   ],
   "source": [
    "events_funnel = events_funnel.copy()\n",
    "events_funnel.loc[:,'pct_change'] = events_funnel.loc[:,'n_users'].pct_change()\n",
    "events_funnel"
   ]
  },
  {
   "cell_type": "code",
   "execution_count": 30,
   "metadata": {
    "scrolled": true
   },
   "outputs": [
    {
     "data": {
      "image/png": "[encoded data removed]",
      "text/plain": [
       "<Figure size 360x288 with 1 Axes>"
      ]
     },
     "metadata": {
      "needs_background": "light"
     },
     "output_type": "display_data"
    }
   ],
   "source": [
    "plt.figure(figsize=(5, 4))\n",
    "fig = sns.barplot(x='event_name', y='n_users', data=events_funnel, color='#50C878') \n",
    "fig.set_xticklabels(events_funnel['event_name'], rotation=40, ha=\"right\")\n",
    "plt.xlabel('Событие')\n",
    "plt.ylabel('Количество пользователей')\n",
    "plt.title('Количество уникальных пользователей,\\n\\\n",
    "совершавших событие')\n",
    "\n",
    "plt.show()"
   ]
  },
  {
   "cell_type": "markdown",
   "metadata": {},
   "source": [
    "По рассчитанному показателю оттока и графически видно, что больше всего пользователей теряется при переходе с первого на второй шаг. До оплаты доходят 46,97% пользователей."
   ]
  },
  {
   "cell_type": "markdown",
   "metadata": {},
   "source": [
    "## Анализ результатов A/A/B-эксперимента"
   ]
  },
  {
   "cell_type": "markdown",
   "metadata": {},
   "source": [
    "Вспомним, сколько пользователей участвовало в каждой экспериментальной группе"
   ]
  },
  {
   "cell_type": "code",
   "execution_count": 31,
   "metadata": {
    "scrolled": true
   },
   "outputs": [
    {
     "data": {
      "text/html": [
       "<div>\n",
       "<style scoped>\n",
       "    .dataframe tbody tr th:only-of-type {\n",
       "        vertical-align: middle;\n",
       "    }\n",
       "\n",
       "    .dataframe tbody tr th {\n",
       "        vertical-align: top;\n",
       "    }\n",
       "\n",
       "    .dataframe thead th {\n",
       "        text-align: right;\n",
       "    }\n",
       "</style>\n",
       "<table border=\"1\" class=\"dataframe\">\n",
       "  <thead>\n",
       "    <tr style=\"text-align: right;\">\n",
       "      <th></th>\n",
       "      <th>group</th>\n",
       "      <th>user_id</th>\n",
       "    </tr>\n",
       "  </thead>\n",
       "  <tbody>\n",
       "    <tr>\n",
       "      <th>0</th>\n",
       "      <td>246</td>\n",
       "      <td>2484</td>\n",
       "    </tr>\n",
       "    <tr>\n",
       "      <th>1</th>\n",
       "      <td>247</td>\n",
       "      <td>2513</td>\n",
       "    </tr>\n",
       "    <tr>\n",
       "      <th>2</th>\n",
       "      <td>248</td>\n",
       "      <td>2537</td>\n",
       "    </tr>\n",
       "  </tbody>\n",
       "</table>\n",
       "</div>"
      ],
      "text/plain": [
       "   group  user_id\n",
       "0    246     2484\n",
       "1    247     2513\n",
       "2    248     2537"
      ]
     },
     "execution_count": 31,
     "metadata": {},
     "output_type": "execute_result"
    }
   ],
   "source": [
    "groups"
   ]
  },
  {
   "cell_type": "code",
   "execution_count": 32,
   "metadata": {},
   "outputs": [],
   "source": [
    "groups.rename(columns={'group': 'group', 'user_id': 'n_users'}, inplace=True)"
   ]
  },
  {
   "cell_type": "code",
   "execution_count": 33,
   "metadata": {},
   "outputs": [],
   "source": [
    "groups = groups.set_index('group')\n",
    "groups = groups.transpose()"
   ]
  },
  {
   "cell_type": "code",
   "execution_count": 34,
   "metadata": {},
   "outputs": [],
   "source": [
    "groups['246+247'] = groups[246] + groups[247]"
   ]
  },
  {
   "cell_type": "code",
   "execution_count": 35,
   "metadata": {
    "scrolled": false
   },
   "outputs": [
    {
     "data": {
      "text/html": [
       "<div>\n",
       "<style scoped>\n",
       "    .dataframe tbody tr th:only-of-type {\n",
       "        vertical-align: middle;\n",
       "    }\n",
       "\n",
       "    .dataframe tbody tr th {\n",
       "        vertical-align: top;\n",
       "    }\n",
       "\n",
       "    .dataframe thead th {\n",
       "        text-align: right;\n",
       "    }\n",
       "</style>\n",
       "<table border=\"1\" class=\"dataframe\">\n",
       "  <thead>\n",
       "    <tr style=\"text-align: right;\">\n",
       "      <th>group</th>\n",
       "      <th>246</th>\n",
       "      <th>247</th>\n",
       "      <th>248</th>\n",
       "      <th>246+247</th>\n",
       "    </tr>\n",
       "  </thead>\n",
       "  <tbody>\n",
       "    <tr>\n",
       "      <th>n_users</th>\n",
       "      <td>2484</td>\n",
       "      <td>2513</td>\n",
       "      <td>2537</td>\n",
       "      <td>4997</td>\n",
       "    </tr>\n",
       "  </tbody>\n",
       "</table>\n",
       "</div>"
      ],
      "text/plain": [
       "group     246   247   248  246+247\n",
       "n_users  2484  2513  2537     4997"
      ]
     },
     "execution_count": 35,
     "metadata": {},
     "output_type": "execute_result"
    }
   ],
   "source": [
    "groups"
   ]
  },
  {
   "cell_type": "markdown",
   "metadata": {},
   "source": [
    "Посмотрим, как распределялось количество пользователи по событиям в каждой группе"
   ]
  },
  {
   "cell_type": "code",
   "execution_count": 36,
   "metadata": {},
   "outputs": [],
   "source": [
    "# составим сводную таблицу\n",
    "funnel_by_groups = logs.pivot_table(index='event_name', columns='group', values='user_id', aggfunc='nunique').reset_index()\n",
    "funnel_by_groups.columns.name = ''\n",
    "# исключим Справку из воронки\n",
    "funnel_by_groups = funnel_by_groups.loc[funnel_by_groups['event_name'] != 'Tutorial']\n",
    "# отсортируем по убыванию количества событий\n",
    "funnel_by_groups = funnel_by_groups.sort_values(by=246, ascending=False).reset_index(drop=True)\n",
    "# добавим данные для объединенной контрольной группы\n",
    "funnel_by_groups['246+247'] = funnel_by_groups[246] + funnel_by_groups[247]"
   ]
  },
  {
   "cell_type": "code",
   "execution_count": 37,
   "metadata": {
    "scrolled": true
   },
   "outputs": [
    {
     "data": {
      "text/html": [
       "<div>\n",
       "<style scoped>\n",
       "    .dataframe tbody tr th:only-of-type {\n",
       "        vertical-align: middle;\n",
       "    }\n",
       "\n",
       "    .dataframe tbody tr th {\n",
       "        vertical-align: top;\n",
       "    }\n",
       "\n",
       "    .dataframe thead th {\n",
       "        text-align: right;\n",
       "    }\n",
       "</style>\n",
       "<table border=\"1\" class=\"dataframe\">\n",
       "  <thead>\n",
       "    <tr style=\"text-align: right;\">\n",
       "      <th></th>\n",
       "      <th>event_name</th>\n",
       "      <th>246</th>\n",
       "      <th>247</th>\n",
       "      <th>248</th>\n",
       "      <th>246+247</th>\n",
       "    </tr>\n",
       "  </thead>\n",
       "  <tbody>\n",
       "    <tr>\n",
       "      <th>0</th>\n",
       "      <td>MainScreenAppear</td>\n",
       "      <td>2450</td>\n",
       "      <td>2476</td>\n",
       "      <td>2493</td>\n",
       "      <td>4926</td>\n",
       "    </tr>\n",
       "    <tr>\n",
       "      <th>1</th>\n",
       "      <td>OffersScreenAppear</td>\n",
       "      <td>1542</td>\n",
       "      <td>1520</td>\n",
       "      <td>1531</td>\n",
       "      <td>3062</td>\n",
       "    </tr>\n",
       "    <tr>\n",
       "      <th>2</th>\n",
       "      <td>CartScreenAppear</td>\n",
       "      <td>1266</td>\n",
       "      <td>1238</td>\n",
       "      <td>1230</td>\n",
       "      <td>2504</td>\n",
       "    </tr>\n",
       "    <tr>\n",
       "      <th>3</th>\n",
       "      <td>PaymentScreenSuccessful</td>\n",
       "      <td>1200</td>\n",
       "      <td>1158</td>\n",
       "      <td>1181</td>\n",
       "      <td>2358</td>\n",
       "    </tr>\n",
       "  </tbody>\n",
       "</table>\n",
       "</div>"
      ],
      "text/plain": [
       "                event_name   246   247   248  246+247\n",
       "0         MainScreenAppear  2450  2476  2493     4926\n",
       "1       OffersScreenAppear  1542  1520  1531     3062\n",
       "2         CartScreenAppear  1266  1238  1230     2504\n",
       "3  PaymentScreenSuccessful  1200  1158  1181     2358"
      ]
     },
     "execution_count": 37,
     "metadata": {},
     "output_type": "execute_result"
    }
   ],
   "source": [
    "funnel_by_groups"
   ]
  },
  {
   "cell_type": "markdown",
   "metadata": {},
   "source": [
    "Зададим функцию для проверки гипотез о равентсве долей контрольных и тестовых групп по каждому событию. Уровень статистической значимости alpha установим равным 0.05"
   ]
  },
  {
   "cell_type": "code",
   "execution_count": 38,
   "metadata": {},
   "outputs": [],
   "source": [
    "def ab_test_result(groups_list, alpha):\n",
    "    alpha = alpha\n",
    "    print('Сравнение долей группах ', groups_list[0], ' и ', groups_list[1])\n",
    "    print('')\n",
    "    \n",
    "    for event in funnel_by_groups['event_name'].unique():\n",
    "        # пропорция по событию в первой группе\n",
    "        p1 = funnel_by_groups.query('event_name == @event')[groups_list[0]] / groups.loc['n_users', groups_list[0]]\n",
    "        \n",
    "        # пропорция по событию во второй группе\n",
    "        p2 = funnel_by_groups.query('event_name == @event')[groups_list[1]] / groups.loc['n_users', groups_list[1]]\n",
    "        \n",
    "        \n",
    "        # пропорция по событию в объединенных группах (первая+вторая)\n",
    "        p_combined = (\n",
    "            (funnel_by_groups.query('event_name == @event')[groups_list[0]] + funnel_by_groups.query('event_name == @event')[groups_list[1]]) /\n",
    "            (groups.loc['n_users', groups_list[0]] + groups.loc['n_users', groups_list[1]])\n",
    "        )\n",
    "        \n",
    "        # разница пропорций в группах\n",
    "        difference = p1 - p2 \n",
    "        \n",
    "        # статистика (z_value) в ст.отклонениях стандартного нормального распределения\n",
    "        z_value = (\n",
    "            difference / \n",
    "            mth.sqrt(p_combined * (1 - p_combined) * (1/groups.loc['n_users', groups_list[0]] + 1/groups.loc['n_users', groups_list[0]]))\n",
    "        )\n",
    "        # задаем стандартное нормальное распределение (среднее 0, ст.отклонение 1)\n",
    "        distr = st.norm(0, 1)        \n",
    "       \n",
    "        p_value = (1 - distr.cdf(abs(z_value))) * 2\n",
    "        \n",
    "        \n",
    "        print('Событие ', event)\n",
    "        print('p-значение: ', p_value)\n",
    "        \n",
    "        if p_value < alpha:\n",
    "            print('Отвергаем нулевую гипотезу (H0): между долями групп есть значимая разница')\n",
    "        else:\n",
    "            print('Не получилось отвергнуть нулевую гипотезу (H0), нет оснований считать доли в группах разными') \n",
    "        \n",
    "        print('=============================')\n",
    "        print('')"
   ]
  },
  {
   "cell_type": "markdown",
   "metadata": {},
   "source": [
    "### Проверка гипотезы о равенстве долей пользователей на каждом этапе воронки в *контрольных* группах"
   ]
  },
  {
   "cell_type": "markdown",
   "metadata": {},
   "source": [
    "Посмотрим, работает ли разбиение на контрольные группы корректно. Проверим гипотезу о равенстве долей пользователей на каждом этапе воронки в контрольных группах.  \n",
    "***Нулевая гипотеза (H0)*** - статистически значимых отличий в доле пользователей на этапе воронки в контрольных группах нет.  \n",
    "***Альтернативная (H1)*** - между контрольными группами есть статистически значимые отличия в доле пользователей на этапе воронки. "
   ]
  },
  {
   "cell_type": "code",
   "execution_count": 39,
   "metadata": {
    "scrolled": true
   },
   "outputs": [
    {
     "name": "stdout",
     "output_type": "stream",
     "text": [
      "Сравнение долей группах  246  и  247\n",
      "\n",
      "Событие  MainScreenAppear\n",
      "p-значение:  [0.75773961]\n",
      "Не получилось отвергнуть нулевую гипотезу (H0), нет оснований считать доли в группах разными\n",
      "=============================\n",
      "\n",
      "Событие  OffersScreenAppear\n",
      "p-значение:  [0.24946462]\n",
      "Не получилось отвергнуть нулевую гипотезу (H0), нет оснований считать доли в группах разными\n",
      "=============================\n",
      "\n",
      "Событие  CartScreenAppear\n",
      "p-значение:  [0.23018135]\n",
      "Не получилось отвергнуть нулевую гипотезу (H0), нет оснований считать доли в группах разными\n",
      "=============================\n",
      "\n",
      "Событие  PaymentScreenSuccessful\n",
      "p-значение:  [0.11561795]\n",
      "Не получилось отвергнуть нулевую гипотезу (H0), нет оснований считать доли в группах разными\n",
      "=============================\n",
      "\n"
     ]
    }
   ],
   "source": [
    "ab_test_result([246, 247], 0.05)"
   ]
  },
  {
   "cell_type": "markdown",
   "metadata": {},
   "source": [
    "На всех этапах воронки нет оснований считать доли в группах разными.  Значит, пользователи, пришедшие в этот тест довольно однородно распределились, т.е. можно сранивать результаты тестовой группы с любой из контрольных групп, и исход должен быть одинаковый."
   ]
  },
  {
   "cell_type": "markdown",
   "metadata": {},
   "source": [
    "### Проверка гипотезы о равенстве долей пользователей на каждом этапе воронки в контрольной группе 246 и тестовой группе 248"
   ]
  },
  {
   "cell_type": "markdown",
   "metadata": {},
   "source": [
    "Сравним результаты теста контрольной (к) группы 246 с тестовой (т) группой 248. Проверим гипотезу о равенстве долей пользователей на каждом этапе воронки в группах 246(к) и 248(т).  \n",
    "***Нулевая гипотеза (H0)*** - статистически значимых отличий в доле пользователей на этапе воронки в группах 246(к) и 248(т) нет.  \n",
    "***Альтернативная (H1)*** - между группами 246(к) и 248(т) есть статистически значимые отличия в доле пользователей на этапе воронки. "
   ]
  },
  {
   "cell_type": "code",
   "execution_count": 40,
   "metadata": {
    "scrolled": true
   },
   "outputs": [
    {
     "name": "stdout",
     "output_type": "stream",
     "text": [
      "Сравнение долей группах  246  и  248\n",
      "\n",
      "Событие  MainScreenAppear\n",
      "p-значение:  [0.297508]\n",
      "Не получилось отвергнуть нулевую гипотезу (H0), нет оснований считать доли в группах разными\n",
      "=============================\n",
      "\n",
      "Событие  OffersScreenAppear\n",
      "p-значение:  [0.21075419]\n",
      "Не получилось отвергнуть нулевую гипотезу (H0), нет оснований считать доли в группах разными\n",
      "=============================\n",
      "\n",
      "Событие  CartScreenAppear\n",
      "p-значение:  [0.0800048]\n",
      "Не получилось отвергнуть нулевую гипотезу (H0), нет оснований считать доли в группах разными\n",
      "=============================\n",
      "\n",
      "Событие  PaymentScreenSuccessful\n",
      "p-значение:  [0.21465895]\n",
      "Не получилось отвергнуть нулевую гипотезу (H0), нет оснований считать доли в группах разными\n",
      "=============================\n",
      "\n"
     ]
    }
   ],
   "source": [
    "ab_test_result([246, 248], 0.05)"
   ]
  },
  {
   "cell_type": "markdown",
   "metadata": {},
   "source": [
    "Результаты тестов по группам 246(к) и 248(т) говорят о том, что изменение шрифта не влияет на изменение показателей конверсии."
   ]
  },
  {
   "cell_type": "markdown",
   "metadata": {},
   "source": [
    "### Проверка гипотезы о равенстве долей пользователей на каждом этапе воронки в контрольной группе 247 и тестовой группе 248"
   ]
  },
  {
   "cell_type": "markdown",
   "metadata": {},
   "source": [
    "Сравним результаты теста контрольной (к) группы 247 с тестовой (т) группой 248. Проверим гипотезу о равенстве долей пользователей на каждом этапе воронки в группах 247(к) и 248(т).  \n",
    "***Нулевая гипотеза (H0)*** - статистически значимых отличий в доле пользователей на этапе воронки в группах 247(к) и 248(т) нет.  \n",
    "***Альтернативная (H1)*** - между группами 247(к) и 248(т) есть статистически значимые отличия в доле пользователей на этапе воронки. "
   ]
  },
  {
   "cell_type": "code",
   "execution_count": 41,
   "metadata": {
    "scrolled": true
   },
   "outputs": [
    {
     "name": "stdout",
     "output_type": "stream",
     "text": [
      "Сравнение долей группах  247  и  248\n",
      "\n",
      "Событие  MainScreenAppear\n",
      "p-значение:  [0.45976987]\n",
      "Не получилось отвергнуть нулевую гипотезу (H0), нет оснований считать доли в группах разными\n",
      "=============================\n",
      "\n",
      "Событие  OffersScreenAppear\n",
      "p-значение:  [0.91997108]\n",
      "Не получилось отвергнуть нулевую гипотезу (H0), нет оснований считать доли в группах разными\n",
      "=============================\n",
      "\n",
      "Событие  CartScreenAppear\n",
      "p-значение:  [0.57951943]\n",
      "Не получилось отвергнуть нулевую гипотезу (H0), нет оснований считать доли в группах разными\n",
      "=============================\n",
      "\n",
      "Событие  PaymentScreenSuccessful\n",
      "p-значение:  [0.73794054]\n",
      "Не получилось отвергнуть нулевую гипотезу (H0), нет оснований считать доли в группах разными\n",
      "=============================\n",
      "\n"
     ]
    }
   ],
   "source": [
    "ab_test_result([247, 248], 0.05)"
   ]
  },
  {
   "cell_type": "markdown",
   "metadata": {},
   "source": [
    "Результаты тестов по группам 247(к) и 248(т) говорят о том, что изменение шрифта не влияет на изменение показателей конверсии."
   ]
  },
  {
   "cell_type": "markdown",
   "metadata": {},
   "source": [
    "### Проверка гипотезы о равенстве долей пользователей на каждом этапе воронки в контрольных группах 246+247 и тестовой группе 248"
   ]
  },
  {
   "cell_type": "markdown",
   "metadata": {},
   "source": [
    "Сравним результаты теста объединенных контрольных (к) групп 246+247 с тестовой (т) группой 248. Проверим гипотезу о равенстве долей пользователей на каждом этапе воронки в группах 246+247(к) и 248(т).  \n",
    "***Нулевая гипотеза (H0)*** - статистически значимых отличий в доле пользователей на этапе воронки в группах 246+247(к) и 248(т) нет.  \n",
    "***Альтернативная (H1)*** - между группами 246+247(к) и 248(т) есть статистически значимые отличия в доле пользователей на этапе воронки. "
   ]
  },
  {
   "cell_type": "code",
   "execution_count": 42,
   "metadata": {
    "scrolled": false
   },
   "outputs": [
    {
     "name": "stdout",
     "output_type": "stream",
     "text": [
      "Сравнение долей группах  246+247  и  248\n",
      "\n",
      "Событие  MainScreenAppear\n",
      "p-значение:  [0.2012268]\n",
      "Не получилось отвергнуть нулевую гипотезу (H0), нет оснований считать доли в группах разными\n",
      "=============================\n",
      "\n",
      "Событие  OffersScreenAppear\n",
      "p-значение:  [0.34068707]\n",
      "Не получилось отвергнуть нулевую гипотезу (H0), нет оснований считать доли в группах разными\n",
      "=============================\n",
      "\n",
      "Событие  CartScreenAppear\n",
      "p-значение:  [0.10369876]\n",
      "Не получилось отвергнуть нулевую гипотезу (H0), нет оснований считать доли в группах разными\n",
      "=============================\n",
      "\n",
      "Событие  PaymentScreenSuccessful\n",
      "p-значение:  [0.52331266]\n",
      "Не получилось отвергнуть нулевую гипотезу (H0), нет оснований считать доли в группах разными\n",
      "=============================\n",
      "\n"
     ]
    }
   ],
   "source": [
    "ab_test_result(['246+247', 248], 0.05)"
   ]
  },
  {
   "cell_type": "markdown",
   "metadata": {},
   "source": [
    "Результаты тестов по объединенным контрольным (к) групп 246+247 и 248(т) также показали, что изменение шрифта не влияет на изменение показателей конверсии."
   ]
  },
  {
   "cell_type": "markdown",
   "metadata": {},
   "source": [
    "### Корректировка уровеня значимости при проверке статистических гипотез "
   ]
  },
  {
   "cell_type": "markdown",
   "metadata": {},
   "source": [
    "Использован уровень значимости 0.05, т.е каждый 20ый раз можно получить ложный результат. "
   ]
  },
  {
   "cell_type": "markdown",
   "metadata": {},
   "source": [
    "Так как тест является множественным, и с каждой новой проверкой гипотезы растёт вероятность ошибки первого рода, скорректируем уровень значимости alpha  по Методу Бонферрони (поправка Бонферрони) и проверим гипотезы еще раз."
   ]
  },
  {
   "cell_type": "code",
   "execution_count": 43,
   "metadata": {},
   "outputs": [
    {
     "name": "stdout",
     "output_type": "stream",
     "text": [
      "Сравнение долей группах  246  и  247\n",
      "\n",
      "Событие  MainScreenAppear\n",
      "p-значение:  [0.75773961]\n",
      "Не получилось отвергнуть нулевую гипотезу (H0), нет оснований считать доли в группах разными\n",
      "=============================\n",
      "\n",
      "Событие  OffersScreenAppear\n",
      "p-значение:  [0.24946462]\n",
      "Не получилось отвергнуть нулевую гипотезу (H0), нет оснований считать доли в группах разными\n",
      "=============================\n",
      "\n",
      "Событие  CartScreenAppear\n",
      "p-значение:  [0.23018135]\n",
      "Не получилось отвергнуть нулевую гипотезу (H0), нет оснований считать доли в группах разными\n",
      "=============================\n",
      "\n",
      "Событие  PaymentScreenSuccessful\n",
      "p-значение:  [0.11561795]\n",
      "Не получилось отвергнуть нулевую гипотезу (H0), нет оснований считать доли в группах разными\n",
      "=============================\n",
      "\n"
     ]
    }
   ],
   "source": [
    "ab_test_result([246, 247], 0.05/4)"
   ]
  },
  {
   "cell_type": "code",
   "execution_count": 44,
   "metadata": {},
   "outputs": [
    {
     "name": "stdout",
     "output_type": "stream",
     "text": [
      "Сравнение долей группах  246  и  248\n",
      "\n",
      "Событие  MainScreenAppear\n",
      "p-значение:  [0.297508]\n",
      "Не получилось отвергнуть нулевую гипотезу (H0), нет оснований считать доли в группах разными\n",
      "=============================\n",
      "\n",
      "Событие  OffersScreenAppear\n",
      "p-значение:  [0.21075419]\n",
      "Не получилось отвергнуть нулевую гипотезу (H0), нет оснований считать доли в группах разными\n",
      "=============================\n",
      "\n",
      "Событие  CartScreenAppear\n",
      "p-значение:  [0.0800048]\n",
      "Не получилось отвергнуть нулевую гипотезу (H0), нет оснований считать доли в группах разными\n",
      "=============================\n",
      "\n",
      "Событие  PaymentScreenSuccessful\n",
      "p-значение:  [0.21465895]\n",
      "Не получилось отвергнуть нулевую гипотезу (H0), нет оснований считать доли в группах разными\n",
      "=============================\n",
      "\n"
     ]
    }
   ],
   "source": [
    "ab_test_result([246, 248], 0.05/4)"
   ]
  },
  {
   "cell_type": "code",
   "execution_count": 45,
   "metadata": {},
   "outputs": [
    {
     "name": "stdout",
     "output_type": "stream",
     "text": [
      "Сравнение долей группах  247  и  248\n",
      "\n",
      "Событие  MainScreenAppear\n",
      "p-значение:  [0.45976987]\n",
      "Не получилось отвергнуть нулевую гипотезу (H0), нет оснований считать доли в группах разными\n",
      "=============================\n",
      "\n",
      "Событие  OffersScreenAppear\n",
      "p-значение:  [0.91997108]\n",
      "Не получилось отвергнуть нулевую гипотезу (H0), нет оснований считать доли в группах разными\n",
      "=============================\n",
      "\n",
      "Событие  CartScreenAppear\n",
      "p-значение:  [0.57951943]\n",
      "Не получилось отвергнуть нулевую гипотезу (H0), нет оснований считать доли в группах разными\n",
      "=============================\n",
      "\n",
      "Событие  PaymentScreenSuccessful\n",
      "p-значение:  [0.73794054]\n",
      "Не получилось отвергнуть нулевую гипотезу (H0), нет оснований считать доли в группах разными\n",
      "=============================\n",
      "\n"
     ]
    }
   ],
   "source": [
    "ab_test_result([247, 248], 0.05/4)"
   ]
  },
  {
   "cell_type": "code",
   "execution_count": 46,
   "metadata": {
    "scrolled": true
   },
   "outputs": [
    {
     "name": "stdout",
     "output_type": "stream",
     "text": [
      "Сравнение долей группах  246+247  и  248\n",
      "\n",
      "Событие  MainScreenAppear\n",
      "p-значение:  [0.2012268]\n",
      "Не получилось отвергнуть нулевую гипотезу (H0), нет оснований считать доли в группах разными\n",
      "=============================\n",
      "\n",
      "Событие  OffersScreenAppear\n",
      "p-значение:  [0.34068707]\n",
      "Не получилось отвергнуть нулевую гипотезу (H0), нет оснований считать доли в группах разными\n",
      "=============================\n",
      "\n",
      "Событие  CartScreenAppear\n",
      "p-значение:  [0.10369876]\n",
      "Не получилось отвергнуть нулевую гипотезу (H0), нет оснований считать доли в группах разными\n",
      "=============================\n",
      "\n",
      "Событие  PaymentScreenSuccessful\n",
      "p-значение:  [0.52331266]\n",
      "Не получилось отвергнуть нулевую гипотезу (H0), нет оснований считать доли в группах разными\n",
      "=============================\n",
      "\n"
     ]
    }
   ],
   "source": [
    "ab_test_result(['246+247', 248], 0.05/4)"
   ]
  },
  {
   "cell_type": "markdown",
   "metadata": {},
   "source": [
    " Корректировка уровня значимости не привела к изменению результатов теста. Замена шрифта не повлияет на показатели конверсии. "
   ]
  },
  {
   "cell_type": "markdown",
   "metadata": {},
   "source": [
    "## Вывод"
   ]
  },
  {
   "cell_type": "markdown",
   "metadata": {},
   "source": [
    "Воронку продаж представляет собой цепочка событий:  \n",
    "- Основной экран `MainScreenAppear` =>  \n",
    "- Предложение `OffersScreenAppear` =>  \n",
    "- Корзина `CartScreenAppear` =>  \n",
    "- Оплата произведена `PaymentScreenSuccessful`  \n",
    "\n",
    "Наибольшая часть пользователей теряется при переходе с первого шага на второй (38,09% пользователей).  \n",
    "\n",
    "Результаты проведенных A/A/B-тестов показали, что изменение шрифта в приложении не влияет на конверсию ни на одном из этапов воронки. "
   ]
  }
 ],
 "metadata": {
  "ExecuteTimeLog": [
   {
    "duration": 402,
    "start_time": "2021-11-18T18:03:04.927Z"
   },
   {
    "duration": 823,
    "start_time": "2021-11-18T18:03:10.215Z"
   },
   {
    "duration": 21,
    "start_time": "2021-11-18T18:03:11.332Z"
   },
   {
    "duration": 33,
    "start_time": "2021-11-18T18:03:19.046Z"
   },
   {
    "duration": 174,
    "start_time": "2021-11-18T18:04:50.321Z"
   },
   {
    "duration": 376,
    "start_time": "2021-11-18T18:07:24.459Z"
   },
   {
    "duration": 5,
    "start_time": "2021-11-18T18:07:30.769Z"
   },
   {
    "duration": 12,
    "start_time": "2021-11-18T18:09:08.882Z"
   },
   {
    "duration": 17,
    "start_time": "2021-11-18T18:09:10.380Z"
   },
   {
    "duration": 14,
    "start_time": "2021-11-18T18:10:25.086Z"
   },
   {
    "duration": 18,
    "start_time": "2021-11-18T18:10:25.736Z"
   },
   {
    "duration": 21,
    "start_time": "2021-11-18T18:11:01.348Z"
   },
   {
    "duration": 58,
    "start_time": "2021-11-18T18:21:12.567Z"
   },
   {
    "duration": 20,
    "start_time": "2021-11-18T18:26:22.615Z"
   },
   {
    "duration": 112,
    "start_time": "2021-11-18T18:28:25.730Z"
   },
   {
    "duration": 749,
    "start_time": "2021-11-18T18:28:47.148Z"
   },
   {
    "duration": 33,
    "start_time": "2021-11-18T18:28:47.900Z"
   },
   {
    "duration": 168,
    "start_time": "2021-11-18T18:28:47.936Z"
   },
   {
    "duration": 5,
    "start_time": "2021-11-18T18:28:48.107Z"
   },
   {
    "duration": 28,
    "start_time": "2021-11-18T18:28:48.115Z"
   },
   {
    "duration": 25,
    "start_time": "2021-11-18T18:28:48.145Z"
   },
   {
    "duration": 21,
    "start_time": "2021-11-18T18:28:48.172Z"
   },
   {
    "duration": 23,
    "start_time": "2021-11-18T18:28:48.196Z"
   },
   {
    "duration": 176,
    "start_time": "2021-11-18T18:28:48.222Z"
   },
   {
    "duration": 772,
    "start_time": "2021-11-18T18:31:58.907Z"
   },
   {
    "duration": 36,
    "start_time": "2021-11-18T18:31:59.681Z"
   },
   {
    "duration": 189,
    "start_time": "2021-11-18T18:31:59.721Z"
   },
   {
    "duration": 6,
    "start_time": "2021-11-18T18:31:59.914Z"
   },
   {
    "duration": 45,
    "start_time": "2021-11-18T18:31:59.923Z"
   },
   {
    "duration": 21,
    "start_time": "2021-11-18T18:31:59.971Z"
   },
   {
    "duration": 23,
    "start_time": "2021-11-18T18:31:59.995Z"
   },
   {
    "duration": 57,
    "start_time": "2021-11-18T18:32:00.022Z"
   },
   {
    "duration": 153,
    "start_time": "2021-11-18T18:32:00.081Z"
   },
   {
    "duration": 35,
    "start_time": "2021-11-18T18:33:56.643Z"
   },
   {
    "duration": 41,
    "start_time": "2021-11-18T18:34:09.103Z"
   },
   {
    "duration": 12,
    "start_time": "2021-11-18T18:35:16.764Z"
   },
   {
    "duration": 27,
    "start_time": "2021-11-19T03:57:02.980Z"
   },
   {
    "duration": 5,
    "start_time": "2021-11-19T04:01:08.828Z"
   },
   {
    "duration": 112,
    "start_time": "2021-11-19T04:05:36.813Z"
   },
   {
    "duration": 134,
    "start_time": "2021-11-19T04:06:52.968Z"
   },
   {
    "duration": 721,
    "start_time": "2021-11-19T04:06:59.709Z"
   },
   {
    "duration": 34,
    "start_time": "2021-11-19T04:07:00.433Z"
   },
   {
    "duration": 175,
    "start_time": "2021-11-19T04:07:00.470Z"
   },
   {
    "duration": 15,
    "start_time": "2021-11-19T04:07:00.648Z"
   },
   {
    "duration": 26,
    "start_time": "2021-11-19T04:07:00.665Z"
   },
   {
    "duration": 30,
    "start_time": "2021-11-19T04:07:00.693Z"
   },
   {
    "duration": 36,
    "start_time": "2021-11-19T04:07:00.725Z"
   },
   {
    "duration": 28,
    "start_time": "2021-11-19T04:07:00.764Z"
   },
   {
    "duration": 165,
    "start_time": "2021-11-19T04:07:00.795Z"
   },
   {
    "duration": 140,
    "start_time": "2021-11-19T04:07:00.963Z"
   },
   {
    "duration": 168,
    "start_time": "2021-11-19T04:07:01.105Z"
   },
   {
    "duration": 40,
    "start_time": "2021-11-19T04:07:01.275Z"
   },
   {
    "duration": 7,
    "start_time": "2021-11-19T04:07:01.318Z"
   },
   {
    "duration": 58,
    "start_time": "2021-11-19T04:07:01.328Z"
   },
   {
    "duration": 6,
    "start_time": "2021-11-19T04:07:01.388Z"
   },
   {
    "duration": 30,
    "start_time": "2021-11-19T04:07:48.760Z"
   },
   {
    "duration": 130,
    "start_time": "2021-11-19T04:08:02.808Z"
   },
   {
    "duration": 31,
    "start_time": "2021-11-19T04:08:06.615Z"
   },
   {
    "duration": 39,
    "start_time": "2021-11-19T04:08:09.928Z"
   },
   {
    "duration": 8,
    "start_time": "2021-11-19T04:08:13.529Z"
   },
   {
    "duration": 33,
    "start_time": "2021-11-19T04:08:17.495Z"
   },
   {
    "duration": 5,
    "start_time": "2021-11-19T04:08:47.985Z"
   },
   {
    "duration": 37,
    "start_time": "2021-11-19T04:10:21.616Z"
   },
   {
    "duration": 30,
    "start_time": "2021-11-19T04:10:46.172Z"
   },
   {
    "duration": 32,
    "start_time": "2021-11-19T04:11:15.005Z"
   },
   {
    "duration": 38,
    "start_time": "2021-11-19T05:17:55.191Z"
   },
   {
    "duration": 1472,
    "start_time": "2021-11-19T05:25:51.289Z"
   },
   {
    "duration": 1431,
    "start_time": "2021-11-19T05:26:08.796Z"
   },
   {
    "duration": 27,
    "start_time": "2021-11-19T05:26:10.230Z"
   },
   {
    "duration": 165,
    "start_time": "2021-11-19T05:26:10.260Z"
   },
   {
    "duration": 5,
    "start_time": "2021-11-19T05:26:10.428Z"
   },
   {
    "duration": 34,
    "start_time": "2021-11-19T05:26:10.436Z"
   },
   {
    "duration": 35,
    "start_time": "2021-11-19T05:26:10.472Z"
   },
   {
    "duration": 23,
    "start_time": "2021-11-19T05:26:10.509Z"
   },
   {
    "duration": 31,
    "start_time": "2021-11-19T05:26:10.535Z"
   },
   {
    "duration": 147,
    "start_time": "2021-11-19T05:26:10.569Z"
   },
   {
    "duration": 131,
    "start_time": "2021-11-19T05:26:10.718Z"
   },
   {
    "duration": 139,
    "start_time": "2021-11-19T05:26:10.851Z"
   },
   {
    "duration": 32,
    "start_time": "2021-11-19T05:26:10.993Z"
   },
   {
    "duration": 58,
    "start_time": "2021-11-19T05:26:11.027Z"
   },
   {
    "duration": 7,
    "start_time": "2021-11-19T05:26:11.088Z"
   },
   {
    "duration": 31,
    "start_time": "2021-11-19T05:26:11.097Z"
   },
   {
    "duration": 5,
    "start_time": "2021-11-19T05:26:11.159Z"
   },
   {
    "duration": 38,
    "start_time": "2021-11-19T05:26:11.167Z"
   },
   {
    "duration": 62,
    "start_time": "2021-11-19T05:26:11.207Z"
   },
   {
    "duration": 623,
    "start_time": "2021-11-19T05:26:11.271Z"
   },
   {
    "duration": 1399,
    "start_time": "2021-11-19T05:29:56.709Z"
   },
   {
    "duration": 134,
    "start_time": "2021-11-19T05:29:58.111Z"
   },
   {
    "duration": 26,
    "start_time": "2021-11-19T05:29:58.248Z"
   },
   {
    "duration": 170,
    "start_time": "2021-11-19T05:29:58.277Z"
   },
   {
    "duration": 11,
    "start_time": "2021-11-19T05:29:58.450Z"
   },
   {
    "duration": 15,
    "start_time": "2021-11-19T05:29:58.464Z"
   },
   {
    "duration": 18,
    "start_time": "2021-11-19T05:29:58.481Z"
   },
   {
    "duration": 57,
    "start_time": "2021-11-19T05:29:58.502Z"
   },
   {
    "duration": 26,
    "start_time": "2021-11-19T05:29:58.562Z"
   },
   {
    "duration": 171,
    "start_time": "2021-11-19T05:29:58.590Z"
   },
   {
    "duration": 128,
    "start_time": "2021-11-19T05:29:58.763Z"
   },
   {
    "duration": 165,
    "start_time": "2021-11-19T05:29:58.894Z"
   },
   {
    "duration": 4,
    "start_time": "2021-11-19T05:29:59.061Z"
   },
   {
    "duration": 38,
    "start_time": "2021-11-19T05:29:59.068Z"
   },
   {
    "duration": 62,
    "start_time": "2021-11-19T05:29:59.108Z"
   },
   {
    "duration": 8,
    "start_time": "2021-11-19T05:29:59.172Z"
   },
   {
    "duration": 30,
    "start_time": "2021-11-19T05:29:59.182Z"
   },
   {
    "duration": 5,
    "start_time": "2021-11-19T05:29:59.214Z"
   },
   {
    "duration": 67,
    "start_time": "2021-11-19T05:29:59.221Z"
   },
   {
    "duration": 39,
    "start_time": "2021-11-19T05:29:59.291Z"
   },
   {
    "duration": 628,
    "start_time": "2021-11-19T05:29:59.360Z"
   },
   {
    "duration": 1476,
    "start_time": "2021-11-19T05:33:52.957Z"
   },
   {
    "duration": 124,
    "start_time": "2021-11-19T05:33:54.436Z"
   },
   {
    "duration": 26,
    "start_time": "2021-11-19T05:33:54.563Z"
   },
   {
    "duration": 176,
    "start_time": "2021-11-19T05:33:54.591Z"
   },
   {
    "duration": 5,
    "start_time": "2021-11-19T05:33:54.769Z"
   },
   {
    "duration": 22,
    "start_time": "2021-11-19T05:33:54.776Z"
   },
   {
    "duration": 17,
    "start_time": "2021-11-19T05:33:54.801Z"
   },
   {
    "duration": 49,
    "start_time": "2021-11-19T05:33:54.821Z"
   },
   {
    "duration": 26,
    "start_time": "2021-11-19T05:33:54.873Z"
   },
   {
    "duration": 162,
    "start_time": "2021-11-19T05:33:54.902Z"
   },
   {
    "duration": 130,
    "start_time": "2021-11-19T05:33:55.066Z"
   },
   {
    "duration": 266,
    "start_time": "2021-11-19T05:33:55.199Z"
   },
   {
    "duration": 4,
    "start_time": "2021-11-19T05:33:55.467Z"
   },
   {
    "duration": 90,
    "start_time": "2021-11-19T05:33:55.474Z"
   },
   {
    "duration": 39,
    "start_time": "2021-11-19T05:33:55.566Z"
   },
   {
    "duration": 54,
    "start_time": "2021-11-19T05:33:55.607Z"
   },
   {
    "duration": 30,
    "start_time": "2021-11-19T05:33:55.663Z"
   },
   {
    "duration": 4,
    "start_time": "2021-11-19T05:33:55.696Z"
   },
   {
    "duration": 39,
    "start_time": "2021-11-19T05:33:55.703Z"
   },
   {
    "duration": 45,
    "start_time": "2021-11-19T05:33:55.745Z"
   },
   {
    "duration": 686,
    "start_time": "2021-11-19T05:33:55.793Z"
   },
   {
    "duration": 560,
    "start_time": "2021-11-19T05:37:48.914Z"
   },
   {
    "duration": 1433,
    "start_time": "2021-11-19T05:37:57.385Z"
   },
   {
    "duration": 138,
    "start_time": "2021-11-19T05:37:58.821Z"
   },
   {
    "duration": 30,
    "start_time": "2021-11-19T05:37:58.964Z"
   },
   {
    "duration": 185,
    "start_time": "2021-11-19T05:37:58.998Z"
   },
   {
    "duration": 5,
    "start_time": "2021-11-19T05:37:59.186Z"
   },
   {
    "duration": 17,
    "start_time": "2021-11-19T05:37:59.193Z"
   },
   {
    "duration": 47,
    "start_time": "2021-11-19T05:37:59.213Z"
   },
   {
    "duration": 21,
    "start_time": "2021-11-19T05:37:59.263Z"
   },
   {
    "duration": 27,
    "start_time": "2021-11-19T05:37:59.288Z"
   },
   {
    "duration": 184,
    "start_time": "2021-11-19T05:37:59.319Z"
   },
   {
    "duration": 137,
    "start_time": "2021-11-19T05:37:59.506Z"
   },
   {
    "duration": 148,
    "start_time": "2021-11-19T05:37:59.645Z"
   },
   {
    "duration": 4,
    "start_time": "2021-11-19T05:37:59.795Z"
   },
   {
    "duration": 34,
    "start_time": "2021-11-19T05:37:59.801Z"
   },
   {
    "duration": 54,
    "start_time": "2021-11-19T05:37:59.837Z"
   },
   {
    "duration": 7,
    "start_time": "2021-11-19T05:37:59.893Z"
   },
   {
    "duration": 58,
    "start_time": "2021-11-19T05:37:59.903Z"
   },
   {
    "duration": 5,
    "start_time": "2021-11-19T05:37:59.963Z"
   },
   {
    "duration": 41,
    "start_time": "2021-11-19T05:37:59.970Z"
   },
   {
    "duration": 63,
    "start_time": "2021-11-19T05:38:00.014Z"
   },
   {
    "duration": 633,
    "start_time": "2021-11-19T05:38:00.079Z"
   },
   {
    "duration": 1594,
    "start_time": "2021-11-19T05:38:00.714Z"
   },
   {
    "duration": 383,
    "start_time": "2021-11-19T07:30:14.028Z"
   },
   {
    "duration": 380,
    "start_time": "2021-11-19T07:30:19.640Z"
   },
   {
    "duration": 29,
    "start_time": "2021-11-19T07:31:44.188Z"
   },
   {
    "duration": 52,
    "start_time": "2021-11-19T07:31:49.790Z"
   },
   {
    "duration": 31,
    "start_time": "2021-11-19T07:32:21.893Z"
   },
   {
    "duration": 39,
    "start_time": "2021-11-19T07:32:29.716Z"
   },
   {
    "duration": 467,
    "start_time": "2021-11-19T07:34:14.178Z"
   },
   {
    "duration": 40,
    "start_time": "2021-11-19T07:34:46.805Z"
   },
   {
    "duration": 41,
    "start_time": "2021-11-19T09:15:12.806Z"
   },
   {
    "duration": 42,
    "start_time": "2021-11-19T09:15:37.242Z"
   },
   {
    "duration": 10,
    "start_time": "2021-11-19T09:21:18.429Z"
   },
   {
    "duration": 12,
    "start_time": "2021-11-19T12:24:25.169Z"
   },
   {
    "duration": 57,
    "start_time": "2021-11-19T12:24:39.046Z"
   },
   {
    "duration": 1514,
    "start_time": "2021-11-19T15:45:12.016Z"
   },
   {
    "duration": 133,
    "start_time": "2021-11-19T15:45:13.532Z"
   },
   {
    "duration": 26,
    "start_time": "2021-11-19T15:45:13.669Z"
   },
   {
    "duration": 177,
    "start_time": "2021-11-19T15:45:13.698Z"
   },
   {
    "duration": 5,
    "start_time": "2021-11-19T15:45:13.878Z"
   },
   {
    "duration": 16,
    "start_time": "2021-11-19T15:45:13.885Z"
   },
   {
    "duration": 19,
    "start_time": "2021-11-19T15:45:13.904Z"
   },
   {
    "duration": 46,
    "start_time": "2021-11-19T15:45:13.926Z"
   },
   {
    "duration": 28,
    "start_time": "2021-11-19T15:45:13.975Z"
   },
   {
    "duration": 182,
    "start_time": "2021-11-19T15:45:14.006Z"
   },
   {
    "duration": 124,
    "start_time": "2021-11-19T15:45:14.190Z"
   },
   {
    "duration": 150,
    "start_time": "2021-11-19T15:45:14.316Z"
   },
   {
    "duration": 4,
    "start_time": "2021-11-19T15:45:14.468Z"
   },
   {
    "duration": 36,
    "start_time": "2021-11-19T15:45:14.474Z"
   },
   {
    "duration": 60,
    "start_time": "2021-11-19T15:45:14.512Z"
   },
   {
    "duration": 7,
    "start_time": "2021-11-19T15:45:14.574Z"
   },
   {
    "duration": 27,
    "start_time": "2021-11-19T15:45:14.585Z"
   },
   {
    "duration": 4,
    "start_time": "2021-11-19T15:45:14.615Z"
   },
   {
    "duration": 66,
    "start_time": "2021-11-19T15:45:14.622Z"
   },
   {
    "duration": 39,
    "start_time": "2021-11-19T15:45:14.691Z"
   },
   {
    "duration": 745,
    "start_time": "2021-11-19T15:45:14.760Z"
   },
   {
    "duration": 69,
    "start_time": "2021-11-19T15:45:15.508Z"
   },
   {
    "duration": 12,
    "start_time": "2021-11-19T15:45:15.583Z"
   },
   {
    "duration": 12,
    "start_time": "2021-11-19T15:45:15.598Z"
   },
   {
    "duration": 132,
    "start_time": "2021-11-19T15:46:27.535Z"
   },
   {
    "duration": 27,
    "start_time": "2021-11-19T15:46:33.827Z"
   },
   {
    "duration": 27,
    "start_time": "2021-11-19T15:50:06.016Z"
   },
   {
    "duration": 37,
    "start_time": "2021-11-19T15:50:21.572Z"
   },
   {
    "duration": 27,
    "start_time": "2021-11-19T15:50:29.263Z"
   },
   {
    "duration": 28,
    "start_time": "2021-11-19T15:50:41.666Z"
   },
   {
    "duration": 27,
    "start_time": "2021-11-19T16:24:46.124Z"
   },
   {
    "duration": 28,
    "start_time": "2021-11-19T16:37:06.846Z"
   },
   {
    "duration": 26,
    "start_time": "2021-11-19T16:40:15.892Z"
   },
   {
    "duration": 581,
    "start_time": "2021-11-19T16:42:24.685Z"
   },
   {
    "duration": 417,
    "start_time": "2021-11-19T16:42:34.927Z"
   },
   {
    "duration": 62,
    "start_time": "2021-11-19T16:42:42.858Z"
   },
   {
    "duration": 57,
    "start_time": "2021-11-19T16:42:50.229Z"
   },
   {
    "duration": 65,
    "start_time": "2021-11-19T16:50:24.540Z"
   },
   {
    "duration": 75,
    "start_time": "2021-11-19T16:52:20.229Z"
   },
   {
    "duration": 70,
    "start_time": "2021-11-19T16:52:45.897Z"
   },
   {
    "duration": 65,
    "start_time": "2021-11-19T16:53:09.715Z"
   },
   {
    "duration": 69,
    "start_time": "2021-11-19T16:55:51.725Z"
   },
   {
    "duration": 12,
    "start_time": "2021-11-19T16:56:50.021Z"
   },
   {
    "duration": 418,
    "start_time": "2021-11-19T17:31:04.344Z"
   },
   {
    "duration": 436,
    "start_time": "2021-11-19T17:31:16.037Z"
   },
   {
    "duration": 271,
    "start_time": "2021-11-19T17:31:34.165Z"
   },
   {
    "duration": 333,
    "start_time": "2021-11-19T17:32:14.599Z"
   },
   {
    "duration": 319,
    "start_time": "2021-11-19T17:32:35.850Z"
   },
   {
    "duration": 1434,
    "start_time": "2021-11-20T12:08:48.279Z"
   },
   {
    "duration": 115,
    "start_time": "2021-11-20T12:08:49.716Z"
   },
   {
    "duration": 24,
    "start_time": "2021-11-20T12:08:49.835Z"
   },
   {
    "duration": 170,
    "start_time": "2021-11-20T12:08:49.862Z"
   },
   {
    "duration": 7,
    "start_time": "2021-11-20T12:08:50.035Z"
   },
   {
    "duration": 17,
    "start_time": "2021-11-20T12:08:50.060Z"
   },
   {
    "duration": 22,
    "start_time": "2021-11-20T12:08:50.080Z"
   },
   {
    "duration": 51,
    "start_time": "2021-11-20T12:08:50.108Z"
   },
   {
    "duration": 26,
    "start_time": "2021-11-20T12:08:50.164Z"
   },
   {
    "duration": 169,
    "start_time": "2021-11-20T12:08:50.194Z"
   },
   {
    "duration": 131,
    "start_time": "2021-11-20T12:08:50.366Z"
   },
   {
    "duration": 149,
    "start_time": "2021-11-20T12:08:50.500Z"
   },
   {
    "duration": 7,
    "start_time": "2021-11-20T12:08:50.652Z"
   },
   {
    "duration": 35,
    "start_time": "2021-11-20T12:08:50.661Z"
   },
   {
    "duration": 69,
    "start_time": "2021-11-20T12:08:50.699Z"
   },
   {
    "duration": 12,
    "start_time": "2021-11-20T12:08:50.771Z"
   },
   {
    "duration": 28,
    "start_time": "2021-11-20T12:08:50.785Z"
   },
   {
    "duration": 53,
    "start_time": "2021-11-20T12:08:50.815Z"
   },
   {
    "duration": 5,
    "start_time": "2021-11-20T12:08:50.870Z"
   },
   {
    "duration": 40,
    "start_time": "2021-11-20T12:08:50.878Z"
   },
   {
    "duration": 59,
    "start_time": "2021-11-20T12:08:50.920Z"
   },
   {
    "duration": 730,
    "start_time": "2021-11-20T12:08:50.982Z"
   },
   {
    "duration": 64,
    "start_time": "2021-11-20T12:08:51.716Z"
   },
   {
    "duration": 13,
    "start_time": "2021-11-20T12:08:51.783Z"
   },
   {
    "duration": 11,
    "start_time": "2021-11-20T12:08:51.799Z"
   },
   {
    "duration": 70,
    "start_time": "2021-11-20T12:08:51.813Z"
   },
   {
    "duration": 91,
    "start_time": "2021-11-20T12:08:51.886Z"
   },
   {
    "duration": 12,
    "start_time": "2021-11-20T12:08:51.980Z"
   },
   {
    "duration": 130,
    "start_time": "2021-11-20T12:08:51.995Z"
   },
   {
    "duration": 1133,
    "start_time": "2021-11-20T12:08:50.994Z"
   },
   {
    "duration": 14,
    "start_time": "2021-11-20T12:12:54.984Z"
   },
   {
    "duration": 15,
    "start_time": "2021-11-20T12:13:12.814Z"
   },
   {
    "duration": 27,
    "start_time": "2021-11-20T12:14:24.399Z"
   },
   {
    "duration": 19,
    "start_time": "2021-11-20T12:15:45.918Z"
   },
   {
    "duration": 28,
    "start_time": "2021-11-20T12:15:52.913Z"
   },
   {
    "duration": 1465,
    "start_time": "2021-11-20T12:23:17.602Z"
   },
   {
    "duration": 174,
    "start_time": "2021-11-20T12:23:19.070Z"
   },
   {
    "duration": 25,
    "start_time": "2021-11-20T12:23:19.247Z"
   },
   {
    "duration": 178,
    "start_time": "2021-11-20T12:23:19.275Z"
   },
   {
    "duration": 5,
    "start_time": "2021-11-20T12:23:19.459Z"
   },
   {
    "duration": 29,
    "start_time": "2021-11-20T12:23:19.466Z"
   },
   {
    "duration": 21,
    "start_time": "2021-11-20T12:23:19.498Z"
   },
   {
    "duration": 37,
    "start_time": "2021-11-20T12:23:19.523Z"
   },
   {
    "duration": 25,
    "start_time": "2021-11-20T12:23:19.563Z"
   },
   {
    "duration": 161,
    "start_time": "2021-11-20T12:23:19.590Z"
   },
   {
    "duration": 126,
    "start_time": "2021-11-20T12:23:19.760Z"
   },
   {
    "duration": 150,
    "start_time": "2021-11-20T12:23:19.889Z"
   },
   {
    "duration": 5,
    "start_time": "2021-11-20T12:23:20.041Z"
   },
   {
    "duration": 40,
    "start_time": "2021-11-20T12:23:20.049Z"
   },
   {
    "duration": 69,
    "start_time": "2021-11-20T12:23:20.092Z"
   },
   {
    "duration": 10,
    "start_time": "2021-11-20T12:23:20.164Z"
   },
   {
    "duration": 29,
    "start_time": "2021-11-20T12:23:20.177Z"
   },
   {
    "duration": 70,
    "start_time": "2021-11-20T12:23:20.209Z"
   },
   {
    "duration": 6,
    "start_time": "2021-11-20T12:23:20.281Z"
   },
   {
    "duration": 39,
    "start_time": "2021-11-20T12:23:20.289Z"
   },
   {
    "duration": 64,
    "start_time": "2021-11-20T12:23:20.330Z"
   },
   {
    "duration": 616,
    "start_time": "2021-11-20T12:23:20.396Z"
   },
   {
    "duration": 84,
    "start_time": "2021-11-20T12:23:21.018Z"
   },
   {
    "duration": 14,
    "start_time": "2021-11-20T12:23:21.105Z"
   },
   {
    "duration": 13,
    "start_time": "2021-11-20T12:23:21.122Z"
   },
   {
    "duration": 42,
    "start_time": "2021-11-20T12:23:21.161Z"
   },
   {
    "duration": 55,
    "start_time": "2021-11-20T12:23:21.206Z"
   },
   {
    "duration": 576,
    "start_time": "2021-11-20T12:23:21.264Z"
   },
   {
    "duration": 1139,
    "start_time": "2021-11-20T12:23:20.703Z"
   },
   {
    "duration": 1135,
    "start_time": "2021-11-20T12:23:20.708Z"
   },
   {
    "duration": 1132,
    "start_time": "2021-11-20T12:23:20.713Z"
   },
   {
    "duration": 31,
    "start_time": "2021-11-20T12:24:11.639Z"
   },
   {
    "duration": 76,
    "start_time": "2021-11-20T12:24:32.482Z"
   },
   {
    "duration": 1498,
    "start_time": "2021-11-20T12:25:00.032Z"
   },
   {
    "duration": 135,
    "start_time": "2021-11-20T12:25:01.533Z"
   },
   {
    "duration": 24,
    "start_time": "2021-11-20T12:25:01.672Z"
   },
   {
    "duration": 168,
    "start_time": "2021-11-20T12:25:01.699Z"
   },
   {
    "duration": 5,
    "start_time": "2021-11-20T12:25:01.870Z"
   },
   {
    "duration": 15,
    "start_time": "2021-11-20T12:25:01.878Z"
   },
   {
    "duration": 28,
    "start_time": "2021-11-20T12:25:01.896Z"
   },
   {
    "duration": 49,
    "start_time": "2021-11-20T12:25:01.927Z"
   },
   {
    "duration": 31,
    "start_time": "2021-11-20T12:25:01.979Z"
   },
   {
    "duration": 171,
    "start_time": "2021-11-20T12:25:02.012Z"
   },
   {
    "duration": 135,
    "start_time": "2021-11-20T12:25:02.185Z"
   },
   {
    "duration": 146,
    "start_time": "2021-11-20T12:25:02.322Z"
   },
   {
    "duration": 3,
    "start_time": "2021-11-20T12:25:02.471Z"
   },
   {
    "duration": 38,
    "start_time": "2021-11-20T12:25:02.477Z"
   },
   {
    "duration": 59,
    "start_time": "2021-11-20T12:25:02.518Z"
   },
   {
    "duration": 7,
    "start_time": "2021-11-20T12:25:02.580Z"
   },
   {
    "duration": 28,
    "start_time": "2021-11-20T12:25:02.590Z"
   },
   {
    "duration": 56,
    "start_time": "2021-11-20T12:25:02.620Z"
   },
   {
    "duration": 5,
    "start_time": "2021-11-20T12:25:02.678Z"
   },
   {
    "duration": 38,
    "start_time": "2021-11-20T12:25:02.685Z"
   },
   {
    "duration": 64,
    "start_time": "2021-11-20T12:25:02.725Z"
   },
   {
    "duration": 632,
    "start_time": "2021-11-20T12:25:02.792Z"
   },
   {
    "duration": 62,
    "start_time": "2021-11-20T12:25:03.428Z"
   },
   {
    "duration": 12,
    "start_time": "2021-11-20T12:25:03.492Z"
   },
   {
    "duration": 11,
    "start_time": "2021-11-20T12:25:03.507Z"
   },
   {
    "duration": 61,
    "start_time": "2021-11-20T12:25:03.521Z"
   },
   {
    "duration": 28,
    "start_time": "2021-11-20T12:25:03.584Z"
   },
   {
    "duration": 94,
    "start_time": "2021-11-20T12:25:03.614Z"
   },
   {
    "duration": 11,
    "start_time": "2021-11-20T12:25:03.711Z"
   },
   {
    "duration": 159,
    "start_time": "2021-11-20T12:25:03.724Z"
   },
   {
    "duration": 1176,
    "start_time": "2021-11-20T12:25:02.710Z"
   },
   {
    "duration": 326,
    "start_time": "2021-11-20T12:26:05.294Z"
   },
   {
    "duration": 139,
    "start_time": "2021-11-20T12:35:45.889Z"
   },
   {
    "duration": 130,
    "start_time": "2021-11-20T12:36:11.256Z"
   },
   {
    "duration": 137,
    "start_time": "2021-11-20T12:36:23.446Z"
   },
   {
    "duration": 512,
    "start_time": "2021-11-20T12:36:28.943Z"
   },
   {
    "duration": 1874,
    "start_time": "2021-11-20T12:36:37.393Z"
   },
   {
    "duration": 119,
    "start_time": "2021-11-20T12:36:39.269Z"
   },
   {
    "duration": 24,
    "start_time": "2021-11-20T12:36:39.390Z"
   },
   {
    "duration": 185,
    "start_time": "2021-11-20T12:36:39.416Z"
   },
   {
    "duration": 5,
    "start_time": "2021-11-20T12:36:39.603Z"
   },
   {
    "duration": 21,
    "start_time": "2021-11-20T12:36:39.610Z"
   },
   {
    "duration": 34,
    "start_time": "2021-11-20T12:36:39.633Z"
   },
   {
    "duration": 20,
    "start_time": "2021-11-20T12:36:39.671Z"
   },
   {
    "duration": 24,
    "start_time": "2021-11-20T12:36:39.694Z"
   },
   {
    "duration": 165,
    "start_time": "2021-11-20T12:36:39.720Z"
   },
   {
    "duration": 127,
    "start_time": "2021-11-20T12:36:39.887Z"
   },
   {
    "duration": 146,
    "start_time": "2021-11-20T12:36:40.017Z"
   },
   {
    "duration": 4,
    "start_time": "2021-11-20T12:36:40.165Z"
   },
   {
    "duration": 36,
    "start_time": "2021-11-20T12:36:40.171Z"
   },
   {
    "duration": 59,
    "start_time": "2021-11-20T12:36:40.210Z"
   },
   {
    "duration": 7,
    "start_time": "2021-11-20T12:36:40.271Z"
   },
   {
    "duration": 28,
    "start_time": "2021-11-20T12:36:40.280Z"
   },
   {
    "duration": 59,
    "start_time": "2021-11-20T12:36:40.310Z"
   },
   {
    "duration": 4,
    "start_time": "2021-11-20T12:36:40.372Z"
   },
   {
    "duration": 38,
    "start_time": "2021-11-20T12:36:40.378Z"
   },
   {
    "duration": 58,
    "start_time": "2021-11-20T12:36:40.419Z"
   },
   {
    "duration": 679,
    "start_time": "2021-11-20T12:36:40.480Z"
   },
   {
    "duration": 56,
    "start_time": "2021-11-20T12:36:41.165Z"
   },
   {
    "duration": 10,
    "start_time": "2021-11-20T12:36:41.224Z"
   },
   {
    "duration": 11,
    "start_time": "2021-11-20T12:36:41.259Z"
   },
   {
    "duration": 46,
    "start_time": "2021-11-20T12:36:41.272Z"
   },
   {
    "duration": 41,
    "start_time": "2021-11-20T12:36:41.321Z"
   },
   {
    "duration": 73,
    "start_time": "2021-11-20T12:36:41.364Z"
   },
   {
    "duration": 29,
    "start_time": "2021-11-20T12:36:41.439Z"
   },
   {
    "duration": 350,
    "start_time": "2021-11-20T12:36:41.470Z"
   },
   {
    "duration": 841,
    "start_time": "2021-11-20T12:36:41.823Z"
   },
   {
    "duration": 307,
    "start_time": "2021-11-20T12:37:20.045Z"
   },
   {
    "duration": 2021,
    "start_time": "2021-11-20T12:39:35.315Z"
   },
   {
    "duration": 155,
    "start_time": "2021-11-20T12:39:37.339Z"
   },
   {
    "duration": 25,
    "start_time": "2021-11-20T12:39:37.497Z"
   },
   {
    "duration": 173,
    "start_time": "2021-11-20T12:39:37.526Z"
   },
   {
    "duration": 7,
    "start_time": "2021-11-20T12:39:37.702Z"
   },
   {
    "duration": 17,
    "start_time": "2021-11-20T12:39:37.712Z"
   },
   {
    "duration": 44,
    "start_time": "2021-11-20T12:39:37.732Z"
   },
   {
    "duration": 22,
    "start_time": "2021-11-20T12:39:37.781Z"
   },
   {
    "duration": 58,
    "start_time": "2021-11-20T12:39:37.807Z"
   },
   {
    "duration": 152,
    "start_time": "2021-11-20T12:39:37.867Z"
   },
   {
    "duration": 132,
    "start_time": "2021-11-20T12:39:38.021Z"
   },
   {
    "duration": 137,
    "start_time": "2021-11-20T12:39:38.159Z"
   },
   {
    "duration": 4,
    "start_time": "2021-11-20T12:39:38.298Z"
   },
   {
    "duration": 35,
    "start_time": "2021-11-20T12:39:38.304Z"
   },
   {
    "duration": 53,
    "start_time": "2021-11-20T12:39:38.341Z"
   },
   {
    "duration": 7,
    "start_time": "2021-11-20T12:39:38.397Z"
   },
   {
    "duration": 59,
    "start_time": "2021-11-20T12:39:38.406Z"
   },
   {
    "duration": 26,
    "start_time": "2021-11-20T12:39:38.467Z"
   },
   {
    "duration": 5,
    "start_time": "2021-11-20T12:39:38.495Z"
   },
   {
    "duration": 62,
    "start_time": "2021-11-20T12:39:38.502Z"
   },
   {
    "duration": 45,
    "start_time": "2021-11-20T12:39:38.567Z"
   },
   {
    "duration": 633,
    "start_time": "2021-11-20T12:39:38.615Z"
   },
   {
    "duration": 55,
    "start_time": "2021-11-20T12:39:39.252Z"
   },
   {
    "duration": 9,
    "start_time": "2021-11-20T12:39:39.310Z"
   },
   {
    "duration": 37,
    "start_time": "2021-11-20T12:39:39.322Z"
   },
   {
    "duration": 33,
    "start_time": "2021-11-20T12:39:39.362Z"
   },
   {
    "duration": 28,
    "start_time": "2021-11-20T12:39:39.397Z"
   },
   {
    "duration": 96,
    "start_time": "2021-11-20T12:39:39.427Z"
   },
   {
    "duration": 13,
    "start_time": "2021-11-20T12:39:39.525Z"
   },
   {
    "duration": 327,
    "start_time": "2021-11-20T12:39:39.560Z"
   },
   {
    "duration": 771,
    "start_time": "2021-11-20T12:39:39.890Z"
   },
   {
    "duration": 17,
    "start_time": "2021-11-20T13:31:46.942Z"
   },
   {
    "duration": 10,
    "start_time": "2021-11-20T13:36:48.648Z"
   },
   {
    "duration": 36,
    "start_time": "2021-11-20T13:44:25.131Z"
   },
   {
    "duration": 42,
    "start_time": "2021-11-20T13:44:33.224Z"
   },
   {
    "duration": 8,
    "start_time": "2021-11-20T13:45:56.659Z"
   },
   {
    "duration": 294,
    "start_time": "2021-11-20T13:50:43.623Z"
   },
   {
    "duration": 45,
    "start_time": "2021-11-20T16:06:07.694Z"
   },
   {
    "duration": 33,
    "start_time": "2021-11-20T16:36:20.823Z"
   },
   {
    "duration": 79,
    "start_time": "2021-11-20T16:39:10.808Z"
   },
   {
    "duration": 1985,
    "start_time": "2021-11-20T16:44:53.114Z"
   },
   {
    "duration": 149,
    "start_time": "2021-11-20T16:44:55.102Z"
   },
   {
    "duration": 26,
    "start_time": "2021-11-20T16:44:55.254Z"
   },
   {
    "duration": 174,
    "start_time": "2021-11-20T16:44:55.284Z"
   },
   {
    "duration": 5,
    "start_time": "2021-11-20T16:44:55.460Z"
   },
   {
    "duration": 16,
    "start_time": "2021-11-20T16:44:55.467Z"
   },
   {
    "duration": 20,
    "start_time": "2021-11-20T16:44:55.485Z"
   },
   {
    "duration": 53,
    "start_time": "2021-11-20T16:44:55.509Z"
   },
   {
    "duration": 24,
    "start_time": "2021-11-20T16:44:55.566Z"
   },
   {
    "duration": 158,
    "start_time": "2021-11-20T16:44:55.592Z"
   },
   {
    "duration": 131,
    "start_time": "2021-11-20T16:44:55.760Z"
   },
   {
    "duration": 149,
    "start_time": "2021-11-20T16:44:55.893Z"
   },
   {
    "duration": 4,
    "start_time": "2021-11-20T16:44:56.045Z"
   },
   {
    "duration": 42,
    "start_time": "2021-11-20T16:44:56.052Z"
   },
   {
    "duration": 71,
    "start_time": "2021-11-20T16:44:56.097Z"
   },
   {
    "duration": 7,
    "start_time": "2021-11-20T16:44:56.171Z"
   },
   {
    "duration": 43,
    "start_time": "2021-11-20T16:44:56.181Z"
   },
   {
    "duration": 71,
    "start_time": "2021-11-20T16:44:56.227Z"
   },
   {
    "duration": 3,
    "start_time": "2021-11-20T16:44:56.301Z"
   },
   {
    "duration": 103,
    "start_time": "2021-11-20T16:44:56.307Z"
   },
   {
    "duration": 80,
    "start_time": "2021-11-20T16:44:56.413Z"
   },
   {
    "duration": 736,
    "start_time": "2021-11-20T16:44:56.496Z"
   },
   {
    "duration": 59,
    "start_time": "2021-11-20T16:44:57.237Z"
   },
   {
    "duration": 10,
    "start_time": "2021-11-20T16:44:57.299Z"
   },
   {
    "duration": 12,
    "start_time": "2021-11-20T16:44:57.311Z"
   },
   {
    "duration": 76,
    "start_time": "2021-11-20T16:44:57.326Z"
   },
   {
    "duration": 57,
    "start_time": "2021-11-20T16:44:57.404Z"
   },
   {
    "duration": 84,
    "start_time": "2021-11-20T16:44:57.463Z"
   },
   {
    "duration": 18,
    "start_time": "2021-11-20T16:44:57.558Z"
   },
   {
    "duration": 334,
    "start_time": "2021-11-20T16:44:57.578Z"
   },
   {
    "duration": 10878,
    "start_time": "2021-11-20T16:44:57.915Z"
   },
   {
    "duration": 1343,
    "start_time": "2021-11-20T16:45:07.452Z"
   },
   {
    "duration": 1339,
    "start_time": "2021-11-20T16:45:07.458Z"
   },
   {
    "duration": 9,
    "start_time": "2021-11-20T16:50:05.541Z"
   },
   {
    "duration": 13,
    "start_time": "2021-11-20T16:50:48.737Z"
   },
   {
    "duration": 5,
    "start_time": "2021-11-20T16:55:15.858Z"
   },
   {
    "duration": 9,
    "start_time": "2021-11-20T17:11:10.241Z"
   },
   {
    "duration": 303,
    "start_time": "2021-11-20T17:11:33.727Z"
   },
   {
    "duration": 304,
    "start_time": "2021-11-21T06:05:41.693Z"
   },
   {
    "duration": 284,
    "start_time": "2021-11-21T06:06:11.616Z"
   },
   {
    "duration": 320,
    "start_time": "2021-11-21T06:06:21.139Z"
   },
   {
    "duration": 294,
    "start_time": "2021-11-21T06:07:09.803Z"
   },
   {
    "duration": 301,
    "start_time": "2021-11-21T06:07:15.588Z"
   },
   {
    "duration": 296,
    "start_time": "2021-11-21T06:07:20.214Z"
   },
   {
    "duration": 9,
    "start_time": "2021-11-21T06:07:32.132Z"
   },
   {
    "duration": 678,
    "start_time": "2021-11-21T06:08:26.312Z"
   },
   {
    "duration": 10,
    "start_time": "2021-11-21T06:08:27.017Z"
   },
   {
    "duration": 499,
    "start_time": "2021-11-21T06:08:44.617Z"
   },
   {
    "duration": 293,
    "start_time": "2021-11-21T06:09:05.221Z"
   },
   {
    "duration": 290,
    "start_time": "2021-11-21T06:09:49.327Z"
   },
   {
    "duration": 13,
    "start_time": "2021-11-21T06:09:58.115Z"
   },
   {
    "duration": 305,
    "start_time": "2021-11-21T06:10:29.892Z"
   },
   {
    "duration": 296,
    "start_time": "2021-11-21T06:11:23.720Z"
   },
   {
    "duration": 407,
    "start_time": "2021-11-21T06:11:24.577Z"
   },
   {
    "duration": 12,
    "start_time": "2021-11-21T06:11:32.743Z"
   },
   {
    "duration": 549,
    "start_time": "2021-11-21T06:11:49.173Z"
   },
   {
    "duration": 492,
    "start_time": "2021-11-21T06:11:53.974Z"
   },
   {
    "duration": 16,
    "start_time": "2021-11-21T06:12:00.159Z"
   },
   {
    "duration": 304,
    "start_time": "2021-11-21T06:14:47.518Z"
   },
   {
    "duration": 12,
    "start_time": "2021-11-21T06:14:50.851Z"
   },
   {
    "duration": 6,
    "start_time": "2021-11-21T06:19:44.478Z"
   },
   {
    "duration": 8,
    "start_time": "2021-11-21T06:25:41.592Z"
   },
   {
    "duration": 4,
    "start_time": "2021-11-21T06:25:52.596Z"
   },
   {
    "duration": 6,
    "start_time": "2021-11-21T06:26:01.922Z"
   },
   {
    "duration": 5,
    "start_time": "2021-11-21T06:26:09.637Z"
   },
   {
    "duration": 512,
    "start_time": "2021-11-21T06:26:11.741Z"
   },
   {
    "duration": 5,
    "start_time": "2021-11-21T06:26:12.523Z"
   },
   {
    "duration": 2177,
    "start_time": "2021-11-21T06:26:35.540Z"
   },
   {
    "duration": 207,
    "start_time": "2021-11-21T06:26:37.720Z"
   },
   {
    "duration": 25,
    "start_time": "2021-11-21T06:26:37.930Z"
   },
   {
    "duration": 174,
    "start_time": "2021-11-21T06:26:37.958Z"
   },
   {
    "duration": 6,
    "start_time": "2021-11-21T06:26:38.135Z"
   },
   {
    "duration": 26,
    "start_time": "2021-11-21T06:26:38.144Z"
   },
   {
    "duration": 22,
    "start_time": "2021-11-21T06:26:38.172Z"
   },
   {
    "duration": 25,
    "start_time": "2021-11-21T06:26:38.199Z"
   },
   {
    "duration": 54,
    "start_time": "2021-11-21T06:26:38.227Z"
   },
   {
    "duration": 164,
    "start_time": "2021-11-21T06:26:38.283Z"
   },
   {
    "duration": 148,
    "start_time": "2021-11-21T06:26:38.449Z"
   },
   {
    "duration": 140,
    "start_time": "2021-11-21T06:26:38.600Z"
   },
   {
    "duration": 4,
    "start_time": "2021-11-21T06:26:38.743Z"
   },
   {
    "duration": 41,
    "start_time": "2021-11-21T06:26:38.749Z"
   },
   {
    "duration": 37,
    "start_time": "2021-11-21T06:26:38.793Z"
   },
   {
    "duration": 31,
    "start_time": "2021-11-21T06:26:38.832Z"
   },
   {
    "duration": 27,
    "start_time": "2021-11-21T06:26:38.866Z"
   },
   {
    "duration": 28,
    "start_time": "2021-11-21T06:26:38.895Z"
   },
   {
    "duration": 4,
    "start_time": "2021-11-21T06:26:38.960Z"
   },
   {
    "duration": 98,
    "start_time": "2021-11-21T06:26:38.967Z"
   },
   {
    "duration": 39,
    "start_time": "2021-11-21T06:26:39.068Z"
   },
   {
    "duration": 655,
    "start_time": "2021-11-21T06:26:39.110Z"
   },
   {
    "duration": 58,
    "start_time": "2021-11-21T06:26:39.770Z"
   },
   {
    "duration": 31,
    "start_time": "2021-11-21T06:26:39.831Z"
   },
   {
    "duration": 11,
    "start_time": "2021-11-21T06:26:39.864Z"
   },
   {
    "duration": 44,
    "start_time": "2021-11-21T06:26:39.877Z"
   },
   {
    "duration": 64,
    "start_time": "2021-11-21T06:26:39.923Z"
   },
   {
    "duration": 107,
    "start_time": "2021-11-21T06:26:39.990Z"
   },
   {
    "duration": 7,
    "start_time": "2021-11-21T06:26:40.099Z"
   },
   {
    "duration": 17,
    "start_time": "2021-11-21T06:26:40.108Z"
   },
   {
    "duration": 486,
    "start_time": "2021-11-21T06:26:40.129Z"
   },
   {
    "duration": 10,
    "start_time": "2021-11-21T06:26:40.618Z"
   },
   {
    "duration": 318,
    "start_time": "2021-11-21T06:26:40.631Z"
   },
   {
    "duration": 315,
    "start_time": "2021-11-21T06:26:40.952Z"
   },
   {
    "duration": 7,
    "start_time": "2021-11-21T06:26:41.270Z"
   },
   {
    "duration": 9,
    "start_time": "2021-11-21T06:26:41.279Z"
   },
   {
    "duration": 14,
    "start_time": "2021-11-21T06:26:41.291Z"
   },
   {
    "duration": 7,
    "start_time": "2021-11-21T06:26:41.308Z"
   },
   {
    "duration": 7,
    "start_time": "2021-11-21T06:31:02.349Z"
   },
   {
    "duration": 11,
    "start_time": "2021-11-21T06:31:02.904Z"
   },
   {
    "duration": 2168,
    "start_time": "2021-11-21T06:33:33.701Z"
   },
   {
    "duration": 153,
    "start_time": "2021-11-21T06:33:35.872Z"
   },
   {
    "duration": 26,
    "start_time": "2021-11-21T06:33:36.029Z"
   },
   {
    "duration": 175,
    "start_time": "2021-11-21T06:33:36.058Z"
   },
   {
    "duration": 6,
    "start_time": "2021-11-21T06:33:36.236Z"
   },
   {
    "duration": 24,
    "start_time": "2021-11-21T06:33:36.244Z"
   },
   {
    "duration": 29,
    "start_time": "2021-11-21T06:33:36.272Z"
   },
   {
    "duration": 20,
    "start_time": "2021-11-21T06:33:36.307Z"
   },
   {
    "duration": 49,
    "start_time": "2021-11-21T06:33:36.330Z"
   },
   {
    "duration": 159,
    "start_time": "2021-11-21T06:33:36.382Z"
   },
   {
    "duration": 146,
    "start_time": "2021-11-21T06:33:36.543Z"
   },
   {
    "duration": 163,
    "start_time": "2021-11-21T06:33:36.692Z"
   },
   {
    "duration": 4,
    "start_time": "2021-11-21T06:33:36.859Z"
   },
   {
    "duration": 40,
    "start_time": "2021-11-21T06:33:36.865Z"
   },
   {
    "duration": 71,
    "start_time": "2021-11-21T06:33:36.907Z"
   },
   {
    "duration": 11,
    "start_time": "2021-11-21T06:33:36.981Z"
   },
   {
    "duration": 32,
    "start_time": "2021-11-21T06:33:36.997Z"
   },
   {
    "duration": 52,
    "start_time": "2021-11-21T06:33:37.032Z"
   },
   {
    "duration": 3,
    "start_time": "2021-11-21T06:33:37.086Z"
   },
   {
    "duration": 74,
    "start_time": "2021-11-21T06:33:37.091Z"
   },
   {
    "duration": 43,
    "start_time": "2021-11-21T06:33:37.167Z"
   },
   {
    "duration": 746,
    "start_time": "2021-11-21T06:33:37.213Z"
   },
   {
    "duration": 63,
    "start_time": "2021-11-21T06:33:37.964Z"
   },
   {
    "duration": 31,
    "start_time": "2021-11-21T06:33:38.030Z"
   },
   {
    "duration": 13,
    "start_time": "2021-11-21T06:33:38.064Z"
   },
   {
    "duration": 46,
    "start_time": "2021-11-21T06:33:38.080Z"
   },
   {
    "duration": 49,
    "start_time": "2021-11-21T06:33:38.161Z"
   },
   {
    "duration": 124,
    "start_time": "2021-11-21T06:33:38.213Z"
   },
   {
    "duration": 5,
    "start_time": "2021-11-21T06:33:38.339Z"
   },
   {
    "duration": 18,
    "start_time": "2021-11-21T06:33:38.347Z"
   },
   {
    "duration": 528,
    "start_time": "2021-11-21T06:33:38.368Z"
   },
   {
    "duration": 10,
    "start_time": "2021-11-21T06:33:38.899Z"
   },
   {
    "duration": 516,
    "start_time": "2021-11-21T06:33:38.912Z"
   },
   {
    "duration": 328,
    "start_time": "2021-11-21T06:33:39.431Z"
   },
   {
    "duration": 9,
    "start_time": "2021-11-21T06:33:39.762Z"
   },
   {
    "duration": 6,
    "start_time": "2021-11-21T06:33:39.774Z"
   },
   {
    "duration": 7,
    "start_time": "2021-11-21T06:33:39.782Z"
   },
   {
    "duration": 7,
    "start_time": "2021-11-21T06:33:39.791Z"
   },
   {
    "duration": 6,
    "start_time": "2021-11-21T06:33:58.850Z"
   },
   {
    "duration": 2638,
    "start_time": "2021-11-21T06:34:18.065Z"
   },
   {
    "duration": 152,
    "start_time": "2021-11-21T06:34:20.706Z"
   },
   {
    "duration": 27,
    "start_time": "2021-11-21T06:34:20.862Z"
   },
   {
    "duration": 403,
    "start_time": "2021-11-21T06:34:20.893Z"
   },
   {
    "duration": 7,
    "start_time": "2021-11-21T06:34:21.299Z"
   },
   {
    "duration": 17,
    "start_time": "2021-11-21T06:34:21.309Z"
   },
   {
    "duration": 45,
    "start_time": "2021-11-21T06:34:21.328Z"
   },
   {
    "duration": 31,
    "start_time": "2021-11-21T06:34:21.378Z"
   },
   {
    "duration": 61,
    "start_time": "2021-11-21T06:34:21.413Z"
   },
   {
    "duration": 160,
    "start_time": "2021-11-21T06:34:21.477Z"
   },
   {
    "duration": 157,
    "start_time": "2021-11-21T06:34:21.640Z"
   },
   {
    "duration": 159,
    "start_time": "2021-11-21T06:34:21.800Z"
   },
   {
    "duration": 4,
    "start_time": "2021-11-21T06:34:21.962Z"
   },
   {
    "duration": 43,
    "start_time": "2021-11-21T06:34:21.968Z"
   },
   {
    "duration": 64,
    "start_time": "2021-11-21T06:34:22.013Z"
   },
   {
    "duration": 11,
    "start_time": "2021-11-21T06:34:22.080Z"
   },
   {
    "duration": 28,
    "start_time": "2021-11-21T06:34:22.094Z"
   },
   {
    "duration": 60,
    "start_time": "2021-11-21T06:34:22.125Z"
   },
   {
    "duration": 3,
    "start_time": "2021-11-21T06:34:22.188Z"
   },
   {
    "duration": 113,
    "start_time": "2021-11-21T06:34:22.194Z"
   },
   {
    "duration": 73,
    "start_time": "2021-11-21T06:34:22.310Z"
   },
   {
    "duration": 658,
    "start_time": "2021-11-21T06:34:22.386Z"
   },
   {
    "duration": 56,
    "start_time": "2021-11-21T06:34:23.049Z"
   },
   {
    "duration": 15,
    "start_time": "2021-11-21T06:34:23.109Z"
   },
   {
    "duration": 36,
    "start_time": "2021-11-21T06:34:23.126Z"
   },
   {
    "duration": 69,
    "start_time": "2021-11-21T06:34:23.165Z"
   },
   {
    "duration": 46,
    "start_time": "2021-11-21T06:34:23.260Z"
   },
   {
    "duration": 147,
    "start_time": "2021-11-21T06:34:23.309Z"
   },
   {
    "duration": 8,
    "start_time": "2021-11-21T06:34:23.459Z"
   },
   {
    "duration": 24,
    "start_time": "2021-11-21T06:34:23.470Z"
   },
   {
    "duration": 528,
    "start_time": "2021-11-21T06:34:23.497Z"
   },
   {
    "duration": 11,
    "start_time": "2021-11-21T06:34:24.028Z"
   },
   {
    "duration": 538,
    "start_time": "2021-11-21T06:34:24.061Z"
   },
   {
    "duration": 336,
    "start_time": "2021-11-21T06:34:24.602Z"
   },
   {
    "duration": 18,
    "start_time": "2021-11-21T06:34:24.941Z"
   },
   {
    "duration": 12,
    "start_time": "2021-11-21T06:34:24.962Z"
   },
   {
    "duration": 14,
    "start_time": "2021-11-21T06:34:24.978Z"
   },
   {
    "duration": 8,
    "start_time": "2021-11-21T06:34:24.994Z"
   },
   {
    "duration": 780,
    "start_time": "2021-11-21T06:35:42.224Z"
   },
   {
    "duration": 10,
    "start_time": "2021-11-21T06:36:09.172Z"
   },
   {
    "duration": 6,
    "start_time": "2021-11-21T06:37:21.607Z"
   },
   {
    "duration": 10,
    "start_time": "2021-11-21T07:22:42.000Z"
   },
   {
    "duration": 876,
    "start_time": "2021-11-21T07:23:04.900Z"
   },
   {
    "duration": 1998,
    "start_time": "2021-11-21T07:24:24.211Z"
   },
   {
    "duration": 139,
    "start_time": "2021-11-21T07:24:26.212Z"
   },
   {
    "duration": 24,
    "start_time": "2021-11-21T07:24:26.354Z"
   },
   {
    "duration": 181,
    "start_time": "2021-11-21T07:24:26.381Z"
   },
   {
    "duration": 7,
    "start_time": "2021-11-21T07:24:26.564Z"
   },
   {
    "duration": 19,
    "start_time": "2021-11-21T07:24:26.574Z"
   },
   {
    "duration": 24,
    "start_time": "2021-11-21T07:24:26.596Z"
   },
   {
    "duration": 55,
    "start_time": "2021-11-21T07:24:26.624Z"
   },
   {
    "duration": 26,
    "start_time": "2021-11-21T07:24:26.683Z"
   },
   {
    "duration": 175,
    "start_time": "2021-11-21T07:24:26.711Z"
   },
   {
    "duration": 150,
    "start_time": "2021-11-21T07:24:26.888Z"
   },
   {
    "duration": 155,
    "start_time": "2021-11-21T07:24:27.041Z"
   },
   {
    "duration": 4,
    "start_time": "2021-11-21T07:24:27.198Z"
   },
   {
    "duration": 55,
    "start_time": "2021-11-21T07:24:27.205Z"
   },
   {
    "duration": 41,
    "start_time": "2021-11-21T07:24:27.263Z"
   },
   {
    "duration": 9,
    "start_time": "2021-11-21T07:24:27.306Z"
   },
   {
    "duration": 69,
    "start_time": "2021-11-21T07:24:27.317Z"
   },
   {
    "duration": 27,
    "start_time": "2021-11-21T07:24:27.389Z"
   },
   {
    "duration": 3,
    "start_time": "2021-11-21T07:24:27.418Z"
   },
   {
    "duration": 76,
    "start_time": "2021-11-21T07:24:27.424Z"
   },
   {
    "duration": 56,
    "start_time": "2021-11-21T07:24:27.503Z"
   },
   {
    "duration": 654,
    "start_time": "2021-11-21T07:24:27.561Z"
   },
   {
    "duration": 65,
    "start_time": "2021-11-21T07:24:28.220Z"
   },
   {
    "duration": 12,
    "start_time": "2021-11-21T07:24:28.288Z"
   },
   {
    "duration": 23,
    "start_time": "2021-11-21T07:24:28.303Z"
   },
   {
    "duration": 86,
    "start_time": "2021-11-21T07:24:28.329Z"
   },
   {
    "duration": 54,
    "start_time": "2021-11-21T07:24:28.418Z"
   },
   {
    "duration": 129,
    "start_time": "2021-11-21T07:24:28.475Z"
   },
   {
    "duration": 7,
    "start_time": "2021-11-21T07:24:28.606Z"
   },
   {
    "duration": 36,
    "start_time": "2021-11-21T07:24:28.615Z"
   },
   {
    "duration": 327,
    "start_time": "2021-11-21T07:24:28.654Z"
   },
   {
    "duration": 10,
    "start_time": "2021-11-21T07:24:28.997Z"
   },
   {
    "duration": 318,
    "start_time": "2021-11-21T07:24:29.010Z"
   },
   {
    "duration": 302,
    "start_time": "2021-11-21T07:24:29.331Z"
   },
   {
    "duration": 10,
    "start_time": "2021-11-21T07:24:29.636Z"
   },
   {
    "duration": 7,
    "start_time": "2021-11-21T07:24:29.661Z"
   },
   {
    "duration": 13,
    "start_time": "2021-11-21T07:24:29.670Z"
   },
   {
    "duration": 18,
    "start_time": "2021-11-21T07:24:29.686Z"
   },
   {
    "duration": 13,
    "start_time": "2021-11-21T07:24:29.706Z"
   },
   {
    "duration": 92,
    "start_time": "2021-11-21T07:24:29.721Z"
   },
   {
    "duration": 9,
    "start_time": "2021-11-21T07:25:04.023Z"
   },
   {
    "duration": 64,
    "start_time": "2021-11-21T07:25:04.703Z"
   },
   {
    "duration": 9,
    "start_time": "2021-11-21T07:26:07.333Z"
   },
   {
    "duration": 64,
    "start_time": "2021-11-21T07:26:07.903Z"
   },
   {
    "duration": 9,
    "start_time": "2021-11-21T07:27:09.094Z"
   },
   {
    "duration": 73,
    "start_time": "2021-11-21T07:27:09.784Z"
   },
   {
    "duration": 9,
    "start_time": "2021-11-21T07:27:39.307Z"
   },
   {
    "duration": 67,
    "start_time": "2021-11-21T07:27:41.273Z"
   },
   {
    "duration": 68,
    "start_time": "2021-11-21T07:29:30.301Z"
   },
   {
    "duration": 69,
    "start_time": "2021-11-21T07:29:41.015Z"
   },
   {
    "duration": 2023,
    "start_time": "2021-11-21T07:30:45.671Z"
   },
   {
    "duration": 158,
    "start_time": "2021-11-21T07:30:47.696Z"
   },
   {
    "duration": 24,
    "start_time": "2021-11-21T07:30:47.857Z"
   },
   {
    "duration": 169,
    "start_time": "2021-11-21T07:30:47.884Z"
   },
   {
    "duration": 5,
    "start_time": "2021-11-21T07:30:48.059Z"
   },
   {
    "duration": 18,
    "start_time": "2021-11-21T07:30:48.066Z"
   },
   {
    "duration": 17,
    "start_time": "2021-11-21T07:30:48.087Z"
   },
   {
    "duration": 61,
    "start_time": "2021-11-21T07:30:48.108Z"
   },
   {
    "duration": 24,
    "start_time": "2021-11-21T07:30:48.172Z"
   },
   {
    "duration": 167,
    "start_time": "2021-11-21T07:30:48.198Z"
   },
   {
    "duration": 177,
    "start_time": "2021-11-21T07:30:48.367Z"
   },
   {
    "duration": 143,
    "start_time": "2021-11-21T07:30:48.547Z"
   },
   {
    "duration": 4,
    "start_time": "2021-11-21T07:30:48.692Z"
   },
   {
    "duration": 46,
    "start_time": "2021-11-21T07:30:48.698Z"
   },
   {
    "duration": 47,
    "start_time": "2021-11-21T07:30:48.747Z"
   },
   {
    "duration": 7,
    "start_time": "2021-11-21T07:30:48.796Z"
   },
   {
    "duration": 30,
    "start_time": "2021-11-21T07:30:48.805Z"
   },
   {
    "duration": 31,
    "start_time": "2021-11-21T07:30:48.860Z"
   },
   {
    "duration": 4,
    "start_time": "2021-11-21T07:30:48.894Z"
   },
   {
    "duration": 75,
    "start_time": "2021-11-21T07:30:48.901Z"
   },
   {
    "duration": 67,
    "start_time": "2021-11-21T07:30:48.979Z"
   },
   {
    "duration": 905,
    "start_time": "2021-11-21T07:30:49.060Z"
   },
   {
    "duration": 93,
    "start_time": "2021-11-21T07:30:49.973Z"
   },
   {
    "duration": 15,
    "start_time": "2021-11-21T07:30:50.070Z"
   },
   {
    "duration": 12,
    "start_time": "2021-11-21T07:30:50.087Z"
   },
   {
    "duration": 85,
    "start_time": "2021-11-21T07:30:50.101Z"
   },
   {
    "duration": 33,
    "start_time": "2021-11-21T07:30:50.188Z"
   },
   {
    "duration": 107,
    "start_time": "2021-11-21T07:30:50.223Z"
   },
   {
    "duration": 7,
    "start_time": "2021-11-21T07:30:50.333Z"
   },
   {
    "duration": 30,
    "start_time": "2021-11-21T07:30:50.342Z"
   },
   {
    "duration": 459,
    "start_time": "2021-11-21T07:30:50.375Z"
   },
   {
    "duration": 23,
    "start_time": "2021-11-21T07:30:50.837Z"
   },
   {
    "duration": 397,
    "start_time": "2021-11-21T07:30:50.864Z"
   },
   {
    "duration": 328,
    "start_time": "2021-11-21T07:30:51.264Z"
   },
   {
    "duration": 9,
    "start_time": "2021-11-21T07:30:51.595Z"
   },
   {
    "duration": 10,
    "start_time": "2021-11-21T07:30:51.606Z"
   },
   {
    "duration": 10,
    "start_time": "2021-11-21T07:30:51.619Z"
   },
   {
    "duration": 32,
    "start_time": "2021-11-21T07:30:51.631Z"
   },
   {
    "duration": 18,
    "start_time": "2021-11-21T07:30:51.665Z"
   },
   {
    "duration": 85,
    "start_time": "2021-11-21T07:30:51.685Z"
   },
   {
    "duration": 90,
    "start_time": "2021-11-21T07:30:51.773Z"
   },
   {
    "duration": 68,
    "start_time": "2021-11-21T07:30:51.866Z"
   },
   {
    "duration": 67,
    "start_time": "2021-11-21T07:31:36.732Z"
   },
   {
    "duration": 14,
    "start_time": "2021-11-21T07:36:07.727Z"
   },
   {
    "duration": 572,
    "start_time": "2021-11-21T07:36:49.690Z"
   },
   {
    "duration": 2611,
    "start_time": "2021-11-21T07:37:49.832Z"
   },
   {
    "duration": 129,
    "start_time": "2021-11-21T07:37:52.446Z"
   },
   {
    "duration": 28,
    "start_time": "2021-11-21T07:37:52.579Z"
   },
   {
    "duration": 264,
    "start_time": "2021-11-21T07:37:52.610Z"
   },
   {
    "duration": 6,
    "start_time": "2021-11-21T07:37:52.876Z"
   },
   {
    "duration": 19,
    "start_time": "2021-11-21T07:37:52.884Z"
   },
   {
    "duration": 18,
    "start_time": "2021-11-21T07:37:52.905Z"
   },
   {
    "duration": 45,
    "start_time": "2021-11-21T07:37:52.928Z"
   },
   {
    "duration": 23,
    "start_time": "2021-11-21T07:37:52.976Z"
   },
   {
    "duration": 170,
    "start_time": "2021-11-21T07:37:53.002Z"
   },
   {
    "duration": 132,
    "start_time": "2021-11-21T07:37:53.174Z"
   },
   {
    "duration": 142,
    "start_time": "2021-11-21T07:37:53.308Z"
   },
   {
    "duration": 7,
    "start_time": "2021-11-21T07:37:53.452Z"
   },
   {
    "duration": 36,
    "start_time": "2021-11-21T07:37:53.461Z"
   },
   {
    "duration": 65,
    "start_time": "2021-11-21T07:37:53.499Z"
   },
   {
    "duration": 7,
    "start_time": "2021-11-21T07:37:53.566Z"
   },
   {
    "duration": 28,
    "start_time": "2021-11-21T07:37:53.576Z"
   },
   {
    "duration": 62,
    "start_time": "2021-11-21T07:37:53.606Z"
   },
   {
    "duration": 3,
    "start_time": "2021-11-21T07:37:53.670Z"
   },
   {
    "duration": 54,
    "start_time": "2021-11-21T07:37:53.676Z"
   },
   {
    "duration": 56,
    "start_time": "2021-11-21T07:37:53.733Z"
   },
   {
    "duration": 711,
    "start_time": "2021-11-21T07:37:53.791Z"
   },
   {
    "duration": 55,
    "start_time": "2021-11-21T07:37:54.507Z"
   },
   {
    "duration": 9,
    "start_time": "2021-11-21T07:37:54.565Z"
   },
   {
    "duration": 12,
    "start_time": "2021-11-21T07:37:54.576Z"
   },
   {
    "duration": 46,
    "start_time": "2021-11-21T07:37:54.590Z"
   },
   {
    "duration": 45,
    "start_time": "2021-11-21T07:37:54.638Z"
   },
   {
    "duration": 77,
    "start_time": "2021-11-21T07:37:54.685Z"
   },
   {
    "duration": 5,
    "start_time": "2021-11-21T07:37:54.764Z"
   },
   {
    "duration": 19,
    "start_time": "2021-11-21T07:37:54.771Z"
   },
   {
    "duration": 462,
    "start_time": "2021-11-21T07:37:54.792Z"
   },
   {
    "duration": 11,
    "start_time": "2021-11-21T07:37:55.260Z"
   },
   {
    "duration": 488,
    "start_time": "2021-11-21T07:37:55.273Z"
   },
   {
    "duration": 601,
    "start_time": "2021-11-21T07:37:55.764Z"
   },
   {
    "duration": 11,
    "start_time": "2021-11-21T07:37:56.368Z"
   },
   {
    "duration": 8,
    "start_time": "2021-11-21T07:37:56.382Z"
   },
   {
    "duration": 7,
    "start_time": "2021-11-21T07:37:56.392Z"
   },
   {
    "duration": 12,
    "start_time": "2021-11-21T07:37:56.402Z"
   },
   {
    "duration": 45,
    "start_time": "2021-11-21T07:37:56.416Z"
   },
   {
    "duration": 77,
    "start_time": "2021-11-21T07:37:56.463Z"
   },
   {
    "duration": 67,
    "start_time": "2021-11-21T07:37:56.558Z"
   },
   {
    "duration": 87,
    "start_time": "2021-11-21T07:37:56.627Z"
   },
   {
    "duration": 87,
    "start_time": "2021-11-21T07:37:56.716Z"
   },
   {
    "duration": 9,
    "start_time": "2021-11-21T07:47:45.158Z"
   },
   {
    "duration": 68,
    "start_time": "2021-11-21T07:47:46.584Z"
   },
   {
    "duration": 68,
    "start_time": "2021-11-21T07:59:28.544Z"
   },
   {
    "duration": 65,
    "start_time": "2021-11-21T07:59:33.935Z"
   },
   {
    "duration": 67,
    "start_time": "2021-11-21T08:04:21.357Z"
   },
   {
    "duration": 11,
    "start_time": "2021-11-21T08:58:42.262Z"
   },
   {
    "duration": 63,
    "start_time": "2021-11-21T08:58:43.865Z"
   },
   {
    "duration": 67,
    "start_time": "2021-11-21T08:58:50.609Z"
   },
   {
    "duration": 76,
    "start_time": "2021-11-21T08:58:55.007Z"
   },
   {
    "duration": 70,
    "start_time": "2021-11-21T08:59:02.834Z"
   },
   {
    "duration": 2010,
    "start_time": "2021-11-21T08:59:49.623Z"
   },
   {
    "duration": 122,
    "start_time": "2021-11-21T08:59:51.636Z"
   },
   {
    "duration": 27,
    "start_time": "2021-11-21T08:59:51.761Z"
   },
   {
    "duration": 185,
    "start_time": "2021-11-21T08:59:51.792Z"
   },
   {
    "duration": 7,
    "start_time": "2021-11-21T08:59:51.980Z"
   },
   {
    "duration": 28,
    "start_time": "2021-11-21T08:59:51.989Z"
   },
   {
    "duration": 17,
    "start_time": "2021-11-21T08:59:52.020Z"
   },
   {
    "duration": 20,
    "start_time": "2021-11-21T08:59:52.060Z"
   },
   {
    "duration": 25,
    "start_time": "2021-11-21T08:59:52.083Z"
   },
   {
    "duration": 170,
    "start_time": "2021-11-21T08:59:52.111Z"
   },
   {
    "duration": 131,
    "start_time": "2021-11-21T08:59:52.284Z"
   },
   {
    "duration": 144,
    "start_time": "2021-11-21T08:59:52.417Z"
   },
   {
    "duration": 4,
    "start_time": "2021-11-21T08:59:52.563Z"
   },
   {
    "duration": 38,
    "start_time": "2021-11-21T08:59:52.569Z"
   },
   {
    "duration": 71,
    "start_time": "2021-11-21T08:59:52.609Z"
   },
   {
    "duration": 7,
    "start_time": "2021-11-21T08:59:52.683Z"
   },
   {
    "duration": 33,
    "start_time": "2021-11-21T08:59:52.692Z"
   },
   {
    "duration": 51,
    "start_time": "2021-11-21T08:59:52.727Z"
   },
   {
    "duration": 3,
    "start_time": "2021-11-21T08:59:52.781Z"
   },
   {
    "duration": 74,
    "start_time": "2021-11-21T08:59:52.787Z"
   },
   {
    "duration": 39,
    "start_time": "2021-11-21T08:59:52.864Z"
   },
   {
    "duration": 680,
    "start_time": "2021-11-21T08:59:52.907Z"
   },
   {
    "duration": 52,
    "start_time": "2021-11-21T08:59:53.594Z"
   },
   {
    "duration": 10,
    "start_time": "2021-11-21T08:59:53.660Z"
   },
   {
    "duration": 12,
    "start_time": "2021-11-21T08:59:53.673Z"
   },
   {
    "duration": 91,
    "start_time": "2021-11-21T08:59:53.688Z"
   },
   {
    "duration": 45,
    "start_time": "2021-11-21T08:59:53.782Z"
   },
   {
    "duration": 131,
    "start_time": "2021-11-21T08:59:53.830Z"
   },
   {
    "duration": 6,
    "start_time": "2021-11-21T08:59:53.963Z"
   },
   {
    "duration": 16,
    "start_time": "2021-11-21T08:59:53.972Z"
   },
   {
    "duration": 409,
    "start_time": "2021-11-21T08:59:53.991Z"
   },
   {
    "duration": 9,
    "start_time": "2021-11-21T08:59:54.402Z"
   },
   {
    "duration": 304,
    "start_time": "2021-11-21T08:59:54.413Z"
   },
   {
    "duration": 306,
    "start_time": "2021-11-21T08:59:54.720Z"
   },
   {
    "duration": 7,
    "start_time": "2021-11-21T08:59:55.028Z"
   },
   {
    "duration": 19,
    "start_time": "2021-11-21T08:59:55.037Z"
   },
   {
    "duration": 14,
    "start_time": "2021-11-21T08:59:55.059Z"
   },
   {
    "duration": 78,
    "start_time": "2021-11-21T08:59:55.075Z"
   },
   {
    "duration": 65,
    "start_time": "2021-11-21T08:59:55.155Z"
   },
   {
    "duration": 83,
    "start_time": "2021-11-21T08:59:55.223Z"
   },
   {
    "duration": 76,
    "start_time": "2021-11-21T08:59:55.309Z"
   },
   {
    "duration": 1986,
    "start_time": "2021-11-21T09:37:36.962Z"
   },
   {
    "duration": 134,
    "start_time": "2021-11-21T09:37:38.950Z"
   },
   {
    "duration": 17,
    "start_time": "2021-11-21T09:37:39.088Z"
   },
   {
    "duration": 16,
    "start_time": "2021-11-21T09:37:39.108Z"
   },
   {
    "duration": 156,
    "start_time": "2021-11-21T09:37:39.126Z"
   },
   {
    "duration": 17,
    "start_time": "2021-11-21T09:37:39.284Z"
   },
   {
    "duration": 5,
    "start_time": "2021-11-21T09:37:39.304Z"
   },
   {
    "duration": 22,
    "start_time": "2021-11-21T09:37:39.312Z"
   },
   {
    "duration": 37,
    "start_time": "2021-11-21T09:37:39.337Z"
   },
   {
    "duration": 21,
    "start_time": "2021-11-21T09:37:39.376Z"
   },
   {
    "duration": 59,
    "start_time": "2021-11-21T09:37:39.400Z"
   },
   {
    "duration": 238,
    "start_time": "2021-11-21T09:37:39.462Z"
   },
   {
    "duration": 142,
    "start_time": "2021-11-21T09:37:39.702Z"
   },
   {
    "duration": 151,
    "start_time": "2021-11-21T09:37:39.847Z"
   },
   {
    "duration": 4,
    "start_time": "2021-11-21T09:37:40.001Z"
   },
   {
    "duration": 48,
    "start_time": "2021-11-21T09:37:40.007Z"
   },
   {
    "duration": 40,
    "start_time": "2021-11-21T09:37:40.057Z"
   },
   {
    "duration": 8,
    "start_time": "2021-11-21T09:37:40.099Z"
   },
   {
    "duration": 62,
    "start_time": "2021-11-21T09:37:40.109Z"
   },
   {
    "duration": 39,
    "start_time": "2021-11-21T09:37:40.173Z"
   },
   {
    "duration": 3,
    "start_time": "2021-11-21T09:37:40.215Z"
   },
   {
    "duration": 107,
    "start_time": "2021-11-21T09:37:40.221Z"
   },
   {
    "duration": 73,
    "start_time": "2021-11-21T09:37:40.334Z"
   },
   {
    "duration": 642,
    "start_time": "2021-11-21T09:37:40.411Z"
   },
   {
    "duration": 54,
    "start_time": "2021-11-21T09:37:41.056Z"
   },
   {
    "duration": 11,
    "start_time": "2021-11-21T09:37:41.112Z"
   },
   {
    "duration": 42,
    "start_time": "2021-11-21T09:37:41.125Z"
   },
   {
    "duration": 48,
    "start_time": "2021-11-21T09:37:41.169Z"
   },
   {
    "duration": 64,
    "start_time": "2021-11-21T09:37:41.220Z"
   },
   {
    "duration": 101,
    "start_time": "2021-11-21T09:37:41.288Z"
   },
   {
    "duration": 6,
    "start_time": "2021-11-21T09:37:41.392Z"
   },
   {
    "duration": 22,
    "start_time": "2021-11-21T09:37:41.402Z"
   },
   {
    "duration": 337,
    "start_time": "2021-11-21T09:37:41.427Z"
   },
   {
    "duration": 9,
    "start_time": "2021-11-21T09:37:41.767Z"
   },
   {
    "duration": 329,
    "start_time": "2021-11-21T09:37:41.779Z"
   },
   {
    "duration": 306,
    "start_time": "2021-11-21T09:37:42.111Z"
   },
   {
    "duration": 11,
    "start_time": "2021-11-21T09:37:42.420Z"
   },
   {
    "duration": 27,
    "start_time": "2021-11-21T09:37:42.434Z"
   },
   {
    "duration": 12,
    "start_time": "2021-11-21T09:37:42.464Z"
   },
   {
    "duration": 93,
    "start_time": "2021-11-21T09:37:42.479Z"
   },
   {
    "duration": 65,
    "start_time": "2021-11-21T09:37:42.575Z"
   },
   {
    "duration": 66,
    "start_time": "2021-11-21T09:37:42.660Z"
   },
   {
    "duration": 95,
    "start_time": "2021-11-21T09:37:42.729Z"
   },
   {
    "duration": 564,
    "start_time": "2021-11-21T09:55:53.471Z"
   },
   {
    "duration": 20,
    "start_time": "2021-11-21T09:56:02.070Z"
   },
   {
    "duration": 36,
    "start_time": "2021-11-21T09:56:15.841Z"
   },
   {
    "duration": 36,
    "start_time": "2021-11-21T09:57:05.729Z"
   },
   {
    "duration": 8,
    "start_time": "2021-11-21T09:58:32.465Z"
   },
   {
    "duration": 42,
    "start_time": "2021-11-21T09:59:02.751Z"
   },
   {
    "duration": 176,
    "start_time": "2021-11-21T10:00:09.885Z"
   },
   {
    "duration": 153,
    "start_time": "2021-11-21T10:00:17.323Z"
   },
   {
    "duration": 40,
    "start_time": "2021-11-21T10:00:22.558Z"
   },
   {
    "duration": 42,
    "start_time": "2021-11-21T10:00:41.073Z"
   },
   {
    "duration": 123,
    "start_time": "2021-11-21T10:00:46.896Z"
   },
   {
    "duration": 39,
    "start_time": "2021-11-21T10:00:53.761Z"
   },
   {
    "duration": 125,
    "start_time": "2021-11-21T10:01:15.865Z"
   },
   {
    "duration": 39,
    "start_time": "2021-11-21T10:01:21.662Z"
   },
   {
    "duration": 40,
    "start_time": "2021-11-21T10:01:30.656Z"
   },
   {
    "duration": 123,
    "start_time": "2021-11-21T10:01:55.980Z"
   },
   {
    "duration": 42,
    "start_time": "2021-11-21T10:02:07.583Z"
   },
   {
    "duration": 40,
    "start_time": "2021-11-21T10:02:14.434Z"
   },
   {
    "duration": 41,
    "start_time": "2021-11-21T10:02:42.900Z"
   },
   {
    "duration": 879,
    "start_time": "2021-11-21T10:08:41.837Z"
   },
   {
    "duration": 618,
    "start_time": "2021-11-21T10:09:09.677Z"
   },
   {
    "duration": 43,
    "start_time": "2021-11-21T10:12:14.027Z"
   },
   {
    "duration": 633,
    "start_time": "2021-11-21T10:13:30.911Z"
   },
   {
    "duration": 390,
    "start_time": "2021-11-21T10:25:10.977Z"
   },
   {
    "duration": 2484,
    "start_time": "2021-11-21T10:25:27.673Z"
   },
   {
    "duration": 133,
    "start_time": "2021-11-21T10:25:30.160Z"
   },
   {
    "duration": 19,
    "start_time": "2021-11-21T10:25:30.296Z"
   },
   {
    "duration": 33,
    "start_time": "2021-11-21T10:25:30.318Z"
   },
   {
    "duration": 258,
    "start_time": "2021-11-21T10:25:30.354Z"
   },
   {
    "duration": 24,
    "start_time": "2021-11-21T10:25:30.615Z"
   },
   {
    "duration": 23,
    "start_time": "2021-11-21T10:25:30.642Z"
   },
   {
    "duration": 37,
    "start_time": "2021-11-21T10:25:30.670Z"
   },
   {
    "duration": 40,
    "start_time": "2021-11-21T10:25:30.710Z"
   },
   {
    "duration": 38,
    "start_time": "2021-11-21T10:25:30.753Z"
   },
   {
    "duration": 32,
    "start_time": "2021-11-21T10:25:30.794Z"
   },
   {
    "duration": 165,
    "start_time": "2021-11-21T10:25:30.829Z"
   },
   {
    "duration": 153,
    "start_time": "2021-11-21T10:25:30.997Z"
   },
   {
    "duration": 157,
    "start_time": "2021-11-21T10:25:31.160Z"
   },
   {
    "duration": 51,
    "start_time": "2021-11-21T10:25:31.320Z"
   },
   {
    "duration": 30,
    "start_time": "2021-11-21T10:25:31.374Z"
   },
   {
    "duration": 57,
    "start_time": "2021-11-21T10:25:31.407Z"
   },
   {
    "duration": 50,
    "start_time": "2021-11-21T10:25:31.467Z"
   },
   {
    "duration": 65,
    "start_time": "2021-11-21T10:25:31.520Z"
   },
   {
    "duration": 7,
    "start_time": "2021-11-21T10:25:31.588Z"
   },
   {
    "duration": 651,
    "start_time": "2021-11-21T10:25:31.597Z"
   },
   {
    "duration": 56,
    "start_time": "2021-11-21T10:25:32.251Z"
   },
   {
    "duration": 9,
    "start_time": "2021-11-21T10:25:32.312Z"
   },
   {
    "duration": 42,
    "start_time": "2021-11-21T10:25:32.324Z"
   },
   {
    "duration": 44,
    "start_time": "2021-11-21T10:25:32.368Z"
   },
   {
    "duration": 48,
    "start_time": "2021-11-21T10:25:32.415Z"
   },
   {
    "duration": 316,
    "start_time": "2021-11-21T10:25:32.465Z"
   },
   {
    "duration": 100,
    "start_time": "2021-11-21T10:25:32.784Z"
   },
   {
    "duration": 6,
    "start_time": "2021-11-21T10:25:32.887Z"
   },
   {
    "duration": 20,
    "start_time": "2021-11-21T10:25:32.896Z"
   },
   {
    "duration": 353,
    "start_time": "2021-11-21T10:25:32.919Z"
   },
   {
    "duration": 10,
    "start_time": "2021-11-21T10:25:33.275Z"
   },
   {
    "duration": 502,
    "start_time": "2021-11-21T10:25:33.288Z"
   },
   {
    "duration": 487,
    "start_time": "2021-11-21T10:25:33.793Z"
   },
   {
    "duration": 8,
    "start_time": "2021-11-21T10:25:34.283Z"
   },
   {
    "duration": 37,
    "start_time": "2021-11-21T10:25:34.294Z"
   },
   {
    "duration": 15,
    "start_time": "2021-11-21T10:25:34.333Z"
   },
   {
    "duration": 94,
    "start_time": "2021-11-21T10:25:34.350Z"
   },
   {
    "duration": 64,
    "start_time": "2021-11-21T10:25:34.446Z"
   },
   {
    "duration": 92,
    "start_time": "2021-11-21T10:25:34.515Z"
   },
   {
    "duration": 80,
    "start_time": "2021-11-21T10:25:34.610Z"
   },
   {
    "duration": 680,
    "start_time": "2021-11-21T10:25:52.290Z"
   },
   {
    "duration": 2096,
    "start_time": "2021-11-21T10:26:02.197Z"
   },
   {
    "duration": 124,
    "start_time": "2021-11-21T10:26:04.296Z"
   },
   {
    "duration": 20,
    "start_time": "2021-11-21T10:26:04.423Z"
   },
   {
    "duration": 15,
    "start_time": "2021-11-21T10:26:04.446Z"
   },
   {
    "duration": 165,
    "start_time": "2021-11-21T10:26:04.463Z"
   },
   {
    "duration": 28,
    "start_time": "2021-11-21T10:26:04.631Z"
   },
   {
    "duration": 5,
    "start_time": "2021-11-21T10:26:04.662Z"
   },
   {
    "duration": 17,
    "start_time": "2021-11-21T10:26:04.670Z"
   },
   {
    "duration": 17,
    "start_time": "2021-11-21T10:26:04.691Z"
   },
   {
    "duration": 61,
    "start_time": "2021-11-21T10:26:04.711Z"
   },
   {
    "duration": 34,
    "start_time": "2021-11-21T10:26:04.776Z"
   },
   {
    "duration": 168,
    "start_time": "2021-11-21T10:26:04.813Z"
   },
   {
    "duration": 182,
    "start_time": "2021-11-21T10:26:04.983Z"
   },
   {
    "duration": 147,
    "start_time": "2021-11-21T10:26:05.168Z"
   },
   {
    "duration": 72,
    "start_time": "2021-11-21T10:26:05.318Z"
   },
   {
    "duration": 40,
    "start_time": "2021-11-21T10:26:05.393Z"
   },
   {
    "duration": 55,
    "start_time": "2021-11-21T10:26:05.436Z"
   },
   {
    "duration": 89,
    "start_time": "2021-11-21T10:26:05.494Z"
   },
   {
    "duration": 41,
    "start_time": "2021-11-21T10:26:05.586Z"
   },
   {
    "duration": 8,
    "start_time": "2021-11-21T10:26:05.629Z"
   },
   {
    "duration": 889,
    "start_time": "2021-11-21T10:26:05.661Z"
   },
   {
    "duration": 52,
    "start_time": "2021-11-21T10:26:06.560Z"
   },
   {
    "duration": 10,
    "start_time": "2021-11-21T10:26:06.617Z"
   },
   {
    "duration": 14,
    "start_time": "2021-11-21T10:26:06.659Z"
   },
   {
    "duration": 49,
    "start_time": "2021-11-21T10:26:06.676Z"
   },
   {
    "duration": 55,
    "start_time": "2021-11-21T10:26:06.727Z"
   },
   {
    "duration": 314,
    "start_time": "2021-11-21T10:26:06.785Z"
   },
   {
    "duration": 99,
    "start_time": "2021-11-21T10:26:07.101Z"
   },
   {
    "duration": 7,
    "start_time": "2021-11-21T10:26:07.204Z"
   },
   {
    "duration": 29,
    "start_time": "2021-11-21T10:26:07.213Z"
   },
   {
    "duration": 533,
    "start_time": "2021-11-21T10:26:07.246Z"
   },
   {
    "duration": 9,
    "start_time": "2021-11-21T10:26:07.782Z"
   },
   {
    "duration": 329,
    "start_time": "2021-11-21T10:26:07.793Z"
   },
   {
    "duration": 323,
    "start_time": "2021-11-21T10:26:08.124Z"
   },
   {
    "duration": 11,
    "start_time": "2021-11-21T10:26:08.449Z"
   },
   {
    "duration": 16,
    "start_time": "2021-11-21T10:26:08.463Z"
   },
   {
    "duration": 13,
    "start_time": "2021-11-21T10:26:08.481Z"
   },
   {
    "duration": 131,
    "start_time": "2021-11-21T10:26:08.497Z"
   },
   {
    "duration": 89,
    "start_time": "2021-11-21T10:26:08.632Z"
   },
   {
    "duration": 83,
    "start_time": "2021-11-21T10:26:08.724Z"
   },
   {
    "duration": 93,
    "start_time": "2021-11-21T10:26:08.809Z"
   },
   {
    "duration": 2121,
    "start_time": "2021-11-21T10:30:06.739Z"
   },
   {
    "duration": 126,
    "start_time": "2021-11-21T10:30:08.862Z"
   },
   {
    "duration": 17,
    "start_time": "2021-11-21T10:30:08.991Z"
   },
   {
    "duration": 19,
    "start_time": "2021-11-21T10:30:09.011Z"
   },
   {
    "duration": 157,
    "start_time": "2021-11-21T10:30:09.032Z"
   },
   {
    "duration": 17,
    "start_time": "2021-11-21T10:30:09.191Z"
   },
   {
    "duration": 5,
    "start_time": "2021-11-21T10:30:09.210Z"
   },
   {
    "duration": 45,
    "start_time": "2021-11-21T10:30:09.220Z"
   },
   {
    "duration": 28,
    "start_time": "2021-11-21T10:30:09.269Z"
   },
   {
    "duration": 24,
    "start_time": "2021-11-21T10:30:09.300Z"
   },
   {
    "duration": 56,
    "start_time": "2021-11-21T10:30:09.327Z"
   },
   {
    "duration": 159,
    "start_time": "2021-11-21T10:30:09.386Z"
   },
   {
    "duration": 141,
    "start_time": "2021-11-21T10:30:09.547Z"
   },
   {
    "duration": 146,
    "start_time": "2021-11-21T10:30:09.690Z"
   },
   {
    "duration": 47,
    "start_time": "2021-11-21T10:30:09.839Z"
   },
   {
    "duration": 27,
    "start_time": "2021-11-21T10:30:09.889Z"
   },
   {
    "duration": 51,
    "start_time": "2021-11-21T10:30:09.918Z"
   },
   {
    "duration": 46,
    "start_time": "2021-11-21T10:30:09.971Z"
   },
   {
    "duration": 63,
    "start_time": "2021-11-21T10:30:10.020Z"
   },
   {
    "duration": 11,
    "start_time": "2021-11-21T10:30:10.086Z"
   },
   {
    "duration": 654,
    "start_time": "2021-11-21T10:30:10.100Z"
   },
   {
    "duration": 51,
    "start_time": "2021-11-21T10:30:10.760Z"
   },
   {
    "duration": 10,
    "start_time": "2021-11-21T10:30:10.816Z"
   },
   {
    "duration": 36,
    "start_time": "2021-11-21T10:30:10.829Z"
   },
   {
    "duration": 44,
    "start_time": "2021-11-21T10:30:10.867Z"
   },
   {
    "duration": 56,
    "start_time": "2021-11-21T10:30:10.913Z"
   },
   {
    "duration": 332,
    "start_time": "2021-11-21T10:30:10.972Z"
   },
   {
    "duration": 92,
    "start_time": "2021-11-21T10:30:11.307Z"
   },
   {
    "duration": 5,
    "start_time": "2021-11-21T10:30:11.402Z"
   },
   {
    "duration": 23,
    "start_time": "2021-11-21T10:30:11.409Z"
   },
   {
    "duration": 344,
    "start_time": "2021-11-21T10:30:11.434Z"
   },
   {
    "duration": 8,
    "start_time": "2021-11-21T10:30:11.781Z"
   },
   {
    "duration": 319,
    "start_time": "2021-11-21T10:30:11.792Z"
   },
   {
    "duration": 306,
    "start_time": "2021-11-21T10:30:12.114Z"
   },
   {
    "duration": 6,
    "start_time": "2021-11-21T10:30:12.422Z"
   },
   {
    "duration": 13,
    "start_time": "2021-11-21T10:30:12.430Z"
   },
   {
    "duration": 9,
    "start_time": "2021-11-21T10:30:12.460Z"
   },
   {
    "duration": 89,
    "start_time": "2021-11-21T10:30:12.472Z"
   },
   {
    "duration": 64,
    "start_time": "2021-11-21T10:30:12.563Z"
   },
   {
    "duration": 90,
    "start_time": "2021-11-21T10:30:12.629Z"
   },
   {
    "duration": 93,
    "start_time": "2021-11-21T10:30:12.722Z"
   },
   {
    "duration": 50,
    "start_time": "2021-11-21T10:32:55.839Z"
   },
   {
    "duration": 29,
    "start_time": "2021-11-21T10:33:42.163Z"
   },
   {
    "duration": 10203,
    "start_time": "2021-11-21T10:34:48.739Z"
   },
   {
    "duration": 419,
    "start_time": "2021-11-21T10:35:18.639Z"
   },
   {
    "duration": 128,
    "start_time": "2021-11-21T10:35:38.524Z"
   },
   {
    "duration": 430,
    "start_time": "2021-11-21T10:36:05.358Z"
   },
   {
    "duration": 15,
    "start_time": "2021-11-21T10:41:38.536Z"
   },
   {
    "duration": 284,
    "start_time": "2021-11-21T10:45:00.260Z"
   },
   {
    "duration": 271,
    "start_time": "2021-11-21T10:45:14.311Z"
   },
   {
    "duration": 262,
    "start_time": "2021-11-21T10:45:38.103Z"
   },
   {
    "duration": 300,
    "start_time": "2021-11-21T10:46:17.232Z"
   },
   {
    "duration": 1955,
    "start_time": "2021-11-21T10:56:48.184Z"
   },
   {
    "duration": 125,
    "start_time": "2021-11-21T10:56:50.141Z"
   },
   {
    "duration": 18,
    "start_time": "2021-11-21T10:56:50.269Z"
   },
   {
    "duration": 22,
    "start_time": "2021-11-21T10:56:50.290Z"
   },
   {
    "duration": 166,
    "start_time": "2021-11-21T10:56:50.314Z"
   },
   {
    "duration": 19,
    "start_time": "2021-11-21T10:56:50.482Z"
   },
   {
    "duration": 7,
    "start_time": "2021-11-21T10:56:50.503Z"
   },
   {
    "duration": 45,
    "start_time": "2021-11-21T10:56:50.514Z"
   },
   {
    "duration": 17,
    "start_time": "2021-11-21T10:56:50.563Z"
   },
   {
    "duration": 20,
    "start_time": "2021-11-21T10:56:50.583Z"
   },
   {
    "duration": 56,
    "start_time": "2021-11-21T10:56:50.605Z"
   },
   {
    "duration": 150,
    "start_time": "2021-11-21T10:56:50.663Z"
   },
   {
    "duration": 136,
    "start_time": "2021-11-21T10:56:50.816Z"
   },
   {
    "duration": 149,
    "start_time": "2021-11-21T10:56:50.959Z"
   },
   {
    "duration": 50,
    "start_time": "2021-11-21T10:56:51.111Z"
   },
   {
    "duration": 40,
    "start_time": "2021-11-21T10:56:51.164Z"
   },
   {
    "duration": 58,
    "start_time": "2021-11-21T10:56:51.207Z"
   },
   {
    "duration": 46,
    "start_time": "2021-11-21T10:56:51.268Z"
   },
   {
    "duration": 62,
    "start_time": "2021-11-21T10:56:51.317Z"
   },
   {
    "duration": 9,
    "start_time": "2021-11-21T10:56:51.382Z"
   },
   {
    "duration": 649,
    "start_time": "2021-11-21T10:56:51.393Z"
   },
   {
    "duration": 59,
    "start_time": "2021-11-21T10:56:52.044Z"
   },
   {
    "duration": 10,
    "start_time": "2021-11-21T10:56:52.108Z"
   },
   {
    "duration": 10,
    "start_time": "2021-11-21T10:56:52.121Z"
   },
   {
    "duration": 46,
    "start_time": "2021-11-21T10:56:52.159Z"
   },
   {
    "duration": 53,
    "start_time": "2021-11-21T10:56:52.208Z"
   },
   {
    "duration": 304,
    "start_time": "2021-11-21T10:56:52.263Z"
   },
   {
    "duration": 89,
    "start_time": "2021-11-21T10:56:52.571Z"
   },
   {
    "duration": 6,
    "start_time": "2021-11-21T10:56:52.663Z"
   },
   {
    "duration": 18,
    "start_time": "2021-11-21T10:56:52.671Z"
   },
   {
    "duration": 334,
    "start_time": "2021-11-21T10:56:52.692Z"
   },
   {
    "duration": 8,
    "start_time": "2021-11-21T10:56:53.029Z"
   },
   {
    "duration": 498,
    "start_time": "2021-11-21T10:56:53.040Z"
   },
   {
    "duration": 21,
    "start_time": "2021-11-21T10:56:53.541Z"
   },
   {
    "duration": 14,
    "start_time": "2021-11-21T10:56:53.565Z"
   },
   {
    "duration": 90,
    "start_time": "2021-11-21T10:56:53.581Z"
   },
   {
    "duration": 90,
    "start_time": "2021-11-21T10:56:53.674Z"
   },
   {
    "duration": 73,
    "start_time": "2021-11-21T10:56:53.766Z"
   },
   {
    "duration": 79,
    "start_time": "2021-11-21T10:56:53.841Z"
   },
   {
    "duration": 297,
    "start_time": "2021-11-21T11:25:34.632Z"
   },
   {
    "duration": 1958,
    "start_time": "2021-11-21T11:27:45.238Z"
   },
   {
    "duration": 142,
    "start_time": "2021-11-21T11:27:47.199Z"
   },
   {
    "duration": 20,
    "start_time": "2021-11-21T11:27:47.344Z"
   },
   {
    "duration": 14,
    "start_time": "2021-11-21T11:27:47.366Z"
   },
   {
    "duration": 175,
    "start_time": "2021-11-21T11:27:47.383Z"
   },
   {
    "duration": 18,
    "start_time": "2021-11-21T11:27:47.560Z"
   },
   {
    "duration": 6,
    "start_time": "2021-11-21T11:27:47.580Z"
   },
   {
    "duration": 15,
    "start_time": "2021-11-21T11:27:47.590Z"
   },
   {
    "duration": 53,
    "start_time": "2021-11-21T11:27:47.608Z"
   },
   {
    "duration": 21,
    "start_time": "2021-11-21T11:27:47.663Z"
   },
   {
    "duration": 25,
    "start_time": "2021-11-21T11:27:47.687Z"
   },
   {
    "duration": 178,
    "start_time": "2021-11-21T11:27:47.714Z"
   },
   {
    "duration": 142,
    "start_time": "2021-11-21T11:27:47.894Z"
   },
   {
    "duration": 139,
    "start_time": "2021-11-21T11:27:48.038Z"
   },
   {
    "duration": 40,
    "start_time": "2021-11-21T11:27:48.180Z"
   },
   {
    "duration": 49,
    "start_time": "2021-11-21T11:27:48.222Z"
   },
   {
    "duration": 26,
    "start_time": "2021-11-21T11:27:48.273Z"
   },
   {
    "duration": 63,
    "start_time": "2021-11-21T11:27:48.301Z"
   },
   {
    "duration": 49,
    "start_time": "2021-11-21T11:27:48.367Z"
   },
   {
    "duration": 11,
    "start_time": "2021-11-21T11:27:48.419Z"
   },
   {
    "duration": 669,
    "start_time": "2021-11-21T11:27:48.433Z"
   },
   {
    "duration": 64,
    "start_time": "2021-11-21T11:27:49.104Z"
   },
   {
    "duration": 9,
    "start_time": "2021-11-21T11:27:49.173Z"
   },
   {
    "duration": 14,
    "start_time": "2021-11-21T11:27:49.185Z"
   },
   {
    "duration": 74,
    "start_time": "2021-11-21T11:27:49.201Z"
   },
   {
    "duration": 33,
    "start_time": "2021-11-21T11:27:49.277Z"
   },
   {
    "duration": 365,
    "start_time": "2021-11-21T11:27:49.312Z"
   },
   {
    "duration": 96,
    "start_time": "2021-11-21T11:27:49.679Z"
   },
   {
    "duration": 7,
    "start_time": "2021-11-21T11:27:49.777Z"
   },
   {
    "duration": 19,
    "start_time": "2021-11-21T11:27:49.786Z"
   },
   {
    "duration": 334,
    "start_time": "2021-11-21T11:27:49.808Z"
   },
   {
    "duration": 16,
    "start_time": "2021-11-21T11:27:50.145Z"
   },
   {
    "duration": 310,
    "start_time": "2021-11-21T11:27:50.163Z"
   },
   {
    "duration": 10,
    "start_time": "2021-11-21T11:27:50.475Z"
   },
   {
    "duration": 15,
    "start_time": "2021-11-21T11:27:50.488Z"
   },
   {
    "duration": 98,
    "start_time": "2021-11-21T11:27:50.506Z"
   },
   {
    "duration": 88,
    "start_time": "2021-11-21T11:27:50.607Z"
   },
   {
    "duration": 96,
    "start_time": "2021-11-21T11:27:50.699Z"
   },
   {
    "duration": 84,
    "start_time": "2021-11-21T11:27:50.797Z"
   },
   {
    "duration": 2032,
    "start_time": "2021-11-21T11:35:59.178Z"
   },
   {
    "duration": 151,
    "start_time": "2021-11-21T11:36:01.214Z"
   },
   {
    "duration": 18,
    "start_time": "2021-11-21T11:36:01.369Z"
   },
   {
    "duration": 29,
    "start_time": "2021-11-21T11:36:01.390Z"
   },
   {
    "duration": 169,
    "start_time": "2021-11-21T11:36:01.421Z"
   },
   {
    "duration": 20,
    "start_time": "2021-11-21T11:36:01.593Z"
   },
   {
    "duration": 17,
    "start_time": "2021-11-21T11:36:01.615Z"
   },
   {
    "duration": 34,
    "start_time": "2021-11-21T11:36:01.637Z"
   },
   {
    "duration": 26,
    "start_time": "2021-11-21T11:36:01.674Z"
   },
   {
    "duration": 20,
    "start_time": "2021-11-21T11:36:01.702Z"
   },
   {
    "duration": 58,
    "start_time": "2021-11-21T11:36:01.725Z"
   },
   {
    "duration": 238,
    "start_time": "2021-11-21T11:36:01.786Z"
   },
   {
    "duration": 143,
    "start_time": "2021-11-21T11:36:02.026Z"
   },
   {
    "duration": 154,
    "start_time": "2021-11-21T11:36:02.171Z"
   },
   {
    "duration": 48,
    "start_time": "2021-11-21T11:36:02.328Z"
   },
   {
    "duration": 28,
    "start_time": "2021-11-21T11:36:02.378Z"
   },
   {
    "duration": 52,
    "start_time": "2021-11-21T11:36:02.409Z"
   },
   {
    "duration": 46,
    "start_time": "2021-11-21T11:36:02.463Z"
   },
   {
    "duration": 61,
    "start_time": "2021-11-21T11:36:02.512Z"
   },
   {
    "duration": 7,
    "start_time": "2021-11-21T11:36:02.575Z"
   },
   {
    "duration": 644,
    "start_time": "2021-11-21T11:36:02.585Z"
   },
   {
    "duration": 58,
    "start_time": "2021-11-21T11:36:03.232Z"
   },
   {
    "duration": 9,
    "start_time": "2021-11-21T11:36:03.295Z"
   },
   {
    "duration": 9,
    "start_time": "2021-11-21T11:36:03.308Z"
   },
   {
    "duration": 80,
    "start_time": "2021-11-21T11:36:03.320Z"
   },
   {
    "duration": 36,
    "start_time": "2021-11-21T11:36:03.403Z"
   },
   {
    "duration": 327,
    "start_time": "2021-11-21T11:36:03.442Z"
   },
   {
    "duration": 91,
    "start_time": "2021-11-21T11:36:03.773Z"
   },
   {
    "duration": 7,
    "start_time": "2021-11-21T11:36:03.867Z"
   },
   {
    "duration": 27,
    "start_time": "2021-11-21T11:36:03.876Z"
   },
   {
    "duration": 418,
    "start_time": "2021-11-21T11:36:03.906Z"
   },
   {
    "duration": 8,
    "start_time": "2021-11-21T11:36:04.327Z"
   },
   {
    "duration": 322,
    "start_time": "2021-11-21T11:36:04.337Z"
   },
   {
    "duration": 14,
    "start_time": "2021-11-21T11:36:04.661Z"
   },
   {
    "duration": 11,
    "start_time": "2021-11-21T11:36:04.678Z"
   },
   {
    "duration": 102,
    "start_time": "2021-11-21T11:36:04.692Z"
   },
   {
    "duration": 87,
    "start_time": "2021-11-21T11:36:04.796Z"
   },
   {
    "duration": 88,
    "start_time": "2021-11-21T11:36:04.887Z"
   },
   {
    "duration": 92,
    "start_time": "2021-11-21T11:36:04.977Z"
   },
   {
    "duration": 64301,
    "start_time": "2021-11-21T13:08:18.405Z"
   },
   {
    "duration": 88,
    "start_time": "2021-11-21T13:09:22.708Z"
   },
   {
    "duration": 18,
    "start_time": "2021-11-21T13:09:22.798Z"
   },
   {
    "duration": 9,
    "start_time": "2021-11-21T13:09:22.818Z"
   },
   {
    "duration": 128,
    "start_time": "2021-11-21T13:09:22.829Z"
   },
   {
    "duration": 21,
    "start_time": "2021-11-21T13:09:22.958Z"
   },
   {
    "duration": 5,
    "start_time": "2021-11-21T13:09:22.981Z"
   },
   {
    "duration": 10,
    "start_time": "2021-11-21T13:09:22.990Z"
   },
   {
    "duration": 14,
    "start_time": "2021-11-21T13:09:23.003Z"
   },
   {
    "duration": 56,
    "start_time": "2021-11-21T13:09:23.018Z"
   },
   {
    "duration": 20,
    "start_time": "2021-11-21T13:09:23.078Z"
   },
   {
    "duration": 116,
    "start_time": "2021-11-21T13:09:23.099Z"
   },
   {
    "duration": 106,
    "start_time": "2021-11-21T13:09:23.217Z"
   },
   {
    "duration": 110,
    "start_time": "2021-11-21T13:09:23.324Z"
   },
   {
    "duration": 46,
    "start_time": "2021-11-21T13:09:23.436Z"
   },
   {
    "duration": 23,
    "start_time": "2021-11-21T13:09:23.484Z"
   },
   {
    "duration": 22,
    "start_time": "2021-11-21T13:09:23.508Z"
   },
   {
    "duration": 57,
    "start_time": "2021-11-21T13:09:23.532Z"
   },
   {
    "duration": 30,
    "start_time": "2021-11-21T13:09:23.591Z"
   },
   {
    "duration": 3,
    "start_time": "2021-11-21T13:09:23.623Z"
   },
   {
    "duration": 420,
    "start_time": "2021-11-21T13:09:23.628Z"
   },
   {
    "duration": 47,
    "start_time": "2021-11-21T13:09:24.050Z"
   },
   {
    "duration": 7,
    "start_time": "2021-11-21T13:09:24.100Z"
   },
   {
    "duration": 8,
    "start_time": "2021-11-21T13:09:24.109Z"
   },
   {
    "duration": 67,
    "start_time": "2021-11-21T13:09:24.118Z"
   },
   {
    "duration": 22,
    "start_time": "2021-11-21T13:09:24.187Z"
   },
   {
    "duration": 202,
    "start_time": "2021-11-21T13:09:24.211Z"
   },
   {
    "duration": 75,
    "start_time": "2021-11-21T13:09:24.414Z"
   },
   {
    "duration": 5,
    "start_time": "2021-11-21T13:09:24.490Z"
   },
   {
    "duration": 14,
    "start_time": "2021-11-21T13:09:24.496Z"
   },
   {
    "duration": 205,
    "start_time": "2021-11-21T13:09:24.511Z"
   },
   {
    "duration": 6,
    "start_time": "2021-11-21T13:09:24.718Z"
   },
   {
    "duration": 241,
    "start_time": "2021-11-21T13:09:24.725Z"
   },
   {
    "duration": 11,
    "start_time": "2021-11-21T13:09:24.970Z"
   },
   {
    "duration": 7,
    "start_time": "2021-11-21T13:09:24.983Z"
   },
   {
    "duration": 47,
    "start_time": "2021-11-21T13:09:24.991Z"
   },
   {
    "duration": 48,
    "start_time": "2021-11-21T13:09:25.063Z"
   },
   {
    "duration": 68,
    "start_time": "2021-11-21T13:09:25.113Z"
   },
   {
    "duration": 45,
    "start_time": "2021-11-21T13:09:25.184Z"
   },
   {
    "duration": 1543,
    "start_time": "2021-11-22T03:44:34.325Z"
   },
   {
    "duration": 85,
    "start_time": "2021-11-22T03:44:35.870Z"
   },
   {
    "duration": 130,
    "start_time": "2021-11-22T03:44:35.958Z"
   },
   {
    "duration": 16,
    "start_time": "2021-11-22T03:44:36.090Z"
   },
   {
    "duration": 5,
    "start_time": "2021-11-22T03:44:36.108Z"
   },
   {
    "duration": 84,
    "start_time": "2021-11-22T03:44:36.115Z"
   },
   {
    "duration": 12,
    "start_time": "2021-11-22T03:44:36.189Z"
   },
   {
    "duration": 9,
    "start_time": "2021-11-22T03:44:36.193Z"
   },
   {
    "duration": 6,
    "start_time": "2021-11-22T03:44:36.197Z"
   },
   {
    "duration": 2,
    "start_time": "2021-11-22T03:44:36.202Z"
   },
   {
    "duration": -1,
    "start_time": "2021-11-22T03:44:36.206Z"
   },
   {
    "duration": -5,
    "start_time": "2021-11-22T03:44:36.211Z"
   },
   {
    "duration": -16,
    "start_time": "2021-11-22T03:44:36.223Z"
   },
   {
    "duration": -20,
    "start_time": "2021-11-22T03:44:36.228Z"
   },
   {
    "duration": -23,
    "start_time": "2021-11-22T03:44:36.232Z"
   },
   {
    "duration": -27,
    "start_time": "2021-11-22T03:44:36.237Z"
   },
   {
    "duration": -30,
    "start_time": "2021-11-22T03:44:36.241Z"
   },
   {
    "duration": -55,
    "start_time": "2021-11-22T03:44:36.266Z"
   },
   {
    "duration": -58,
    "start_time": "2021-11-22T03:44:36.270Z"
   },
   {
    "duration": -61,
    "start_time": "2021-11-22T03:44:36.274Z"
   },
   {
    "duration": -64,
    "start_time": "2021-11-22T03:44:36.278Z"
   },
   {
    "duration": -69,
    "start_time": "2021-11-22T03:44:36.283Z"
   },
   {
    "duration": -72,
    "start_time": "2021-11-22T03:44:36.287Z"
   },
   {
    "duration": -75,
    "start_time": "2021-11-22T03:44:36.291Z"
   },
   {
    "duration": -78,
    "start_time": "2021-11-22T03:44:36.295Z"
   },
   {
    "duration": -82,
    "start_time": "2021-11-22T03:44:36.299Z"
   },
   {
    "duration": -85,
    "start_time": "2021-11-22T03:44:36.303Z"
   },
   {
    "duration": -87,
    "start_time": "2021-11-22T03:44:36.306Z"
   },
   {
    "duration": -89,
    "start_time": "2021-11-22T03:44:36.309Z"
   },
   {
    "duration": -92,
    "start_time": "2021-11-22T03:44:36.313Z"
   },
   {
    "duration": -95,
    "start_time": "2021-11-22T03:44:36.316Z"
   },
   {
    "duration": -107,
    "start_time": "2021-11-22T03:44:36.329Z"
   },
   {
    "duration": -110,
    "start_time": "2021-11-22T03:44:36.333Z"
   },
   {
    "duration": -113,
    "start_time": "2021-11-22T03:44:36.337Z"
   },
   {
    "duration": -116,
    "start_time": "2021-11-22T03:44:36.341Z"
   },
   {
    "duration": -120,
    "start_time": "2021-11-22T03:44:36.345Z"
   },
   {
    "duration": -125,
    "start_time": "2021-11-22T03:44:36.351Z"
   },
   {
    "duration": 1774,
    "start_time": "2021-11-22T03:45:18.044Z"
   },
   {
    "duration": 93,
    "start_time": "2021-11-22T03:45:19.820Z"
   },
   {
    "duration": 128,
    "start_time": "2021-11-22T03:45:19.915Z"
   },
   {
    "duration": 14,
    "start_time": "2021-11-22T03:45:20.045Z"
   },
   {
    "duration": 4,
    "start_time": "2021-11-22T03:45:20.061Z"
   },
   {
    "duration": 18,
    "start_time": "2021-11-22T03:45:20.066Z"
   },
   {
    "duration": 12,
    "start_time": "2021-11-22T03:45:20.086Z"
   },
   {
    "duration": 43,
    "start_time": "2021-11-22T03:45:20.101Z"
   },
   {
    "duration": 18,
    "start_time": "2021-11-22T03:45:20.147Z"
   },
   {
    "duration": 107,
    "start_time": "2021-11-22T03:45:20.166Z"
   },
   {
    "duration": 96,
    "start_time": "2021-11-22T03:45:20.275Z"
   },
   {
    "duration": 97,
    "start_time": "2021-11-22T03:45:20.373Z"
   },
   {
    "duration": 27,
    "start_time": "2021-11-22T03:45:20.472Z"
   },
   {
    "duration": 21,
    "start_time": "2021-11-22T03:45:20.501Z"
   },
   {
    "duration": 37,
    "start_time": "2021-11-22T03:45:20.524Z"
   },
   {
    "duration": 34,
    "start_time": "2021-11-22T03:45:20.562Z"
   },
   {
    "duration": 48,
    "start_time": "2021-11-22T03:45:20.597Z"
   },
   {
    "duration": 3,
    "start_time": "2021-11-22T03:45:20.647Z"
   },
   {
    "duration": 395,
    "start_time": "2021-11-22T03:45:20.651Z"
   },
   {
    "duration": 35,
    "start_time": "2021-11-22T03:45:21.048Z"
   },
   {
    "duration": 7,
    "start_time": "2021-11-22T03:45:21.085Z"
   },
   {
    "duration": 7,
    "start_time": "2021-11-22T03:45:21.094Z"
   },
   {
    "duration": 59,
    "start_time": "2021-11-22T03:45:21.105Z"
   },
   {
    "duration": 22,
    "start_time": "2021-11-22T03:45:21.167Z"
   },
   {
    "duration": 195,
    "start_time": "2021-11-22T03:45:21.192Z"
   },
   {
    "duration": 74,
    "start_time": "2021-11-22T03:45:21.389Z"
   },
   {
    "duration": 5,
    "start_time": "2021-11-22T03:45:21.465Z"
   },
   {
    "duration": 14,
    "start_time": "2021-11-22T03:45:21.472Z"
   },
   {
    "duration": 198,
    "start_time": "2021-11-22T03:45:21.488Z"
   },
   {
    "duration": 7,
    "start_time": "2021-11-22T03:45:21.688Z"
   },
   {
    "duration": 223,
    "start_time": "2021-11-22T03:45:21.697Z"
   },
   {
    "duration": 7,
    "start_time": "2021-11-22T03:45:21.922Z"
   },
   {
    "duration": 14,
    "start_time": "2021-11-22T03:45:21.930Z"
   },
   {
    "duration": 51,
    "start_time": "2021-11-22T03:45:21.946Z"
   },
   {
    "duration": 59,
    "start_time": "2021-11-22T03:45:21.998Z"
   },
   {
    "duration": 42,
    "start_time": "2021-11-22T03:45:22.059Z"
   },
   {
    "duration": 62,
    "start_time": "2021-11-22T03:45:22.103Z"
   },
   {
    "duration": 7,
    "start_time": "2021-11-22T04:16:35.267Z"
   },
   {
    "duration": 381,
    "start_time": "2021-11-22T05:24:44.322Z"
   },
   {
    "duration": 8,
    "start_time": "2021-11-22T05:24:52.408Z"
   },
   {
    "duration": 7,
    "start_time": "2021-11-22T05:25:23.969Z"
   },
   {
    "duration": 7,
    "start_time": "2021-11-22T05:25:51.342Z"
   },
   {
    "duration": 8,
    "start_time": "2021-11-22T05:25:58.626Z"
   },
   {
    "duration": 299,
    "start_time": "2021-11-22T07:24:13.777Z"
   },
   {
    "duration": 1454,
    "start_time": "2021-11-22T07:25:00.701Z"
   },
   {
    "duration": 94,
    "start_time": "2021-11-22T07:25:02.157Z"
   },
   {
    "duration": 125,
    "start_time": "2021-11-22T07:25:02.254Z"
   },
   {
    "duration": 15,
    "start_time": "2021-11-22T07:25:02.381Z"
   },
   {
    "duration": 6,
    "start_time": "2021-11-22T07:25:02.398Z"
   },
   {
    "duration": 26,
    "start_time": "2021-11-22T07:25:02.406Z"
   },
   {
    "duration": 46,
    "start_time": "2021-11-22T07:25:02.434Z"
   },
   {
    "duration": 16,
    "start_time": "2021-11-22T07:25:02.483Z"
   },
   {
    "duration": 19,
    "start_time": "2021-11-22T07:25:02.501Z"
   },
   {
    "duration": 99,
    "start_time": "2021-11-22T07:25:02.522Z"
   },
   {
    "duration": 93,
    "start_time": "2021-11-22T07:25:02.623Z"
   },
   {
    "duration": 103,
    "start_time": "2021-11-22T07:25:02.717Z"
   },
   {
    "duration": 32,
    "start_time": "2021-11-22T07:25:02.821Z"
   },
   {
    "duration": 29,
    "start_time": "2021-11-22T07:25:02.855Z"
   },
   {
    "duration": 18,
    "start_time": "2021-11-22T07:25:02.886Z"
   },
   {
    "duration": 47,
    "start_time": "2021-11-22T07:25:02.906Z"
   },
   {
    "duration": 28,
    "start_time": "2021-11-22T07:25:02.955Z"
   },
   {
    "duration": 16,
    "start_time": "2021-11-22T07:25:02.984Z"
   },
   {
    "duration": 386,
    "start_time": "2021-11-22T07:25:03.002Z"
   },
   {
    "duration": 37,
    "start_time": "2021-11-22T07:25:03.390Z"
   },
   {
    "duration": 20,
    "start_time": "2021-11-22T07:25:03.429Z"
   },
   {
    "duration": 8,
    "start_time": "2021-11-22T07:25:03.450Z"
   },
   {
    "duration": 31,
    "start_time": "2021-11-22T07:25:03.461Z"
   },
   {
    "duration": 22,
    "start_time": "2021-11-22T07:25:03.493Z"
   },
   {
    "duration": 215,
    "start_time": "2021-11-22T07:25:03.517Z"
   },
   {
    "duration": 63,
    "start_time": "2021-11-22T07:25:03.734Z"
   },
   {
    "duration": 4,
    "start_time": "2021-11-22T07:25:03.799Z"
   },
   {
    "duration": 8813,
    "start_time": "2021-11-22T07:25:03.804Z"
   },
   {
    "duration": -49,
    "start_time": "2021-11-22T07:25:12.668Z"
   },
   {
    "duration": -53,
    "start_time": "2021-11-22T07:25:12.673Z"
   },
   {
    "duration": -61,
    "start_time": "2021-11-22T07:25:12.681Z"
   },
   {
    "duration": -65,
    "start_time": "2021-11-22T07:25:12.686Z"
   },
   {
    "duration": -69,
    "start_time": "2021-11-22T07:25:12.692Z"
   },
   {
    "duration": -75,
    "start_time": "2021-11-22T07:25:12.698Z"
   },
   {
    "duration": -86,
    "start_time": "2021-11-22T07:25:12.710Z"
   },
   {
    "duration": -90,
    "start_time": "2021-11-22T07:25:12.715Z"
   },
   {
    "duration": -93,
    "start_time": "2021-11-22T07:25:12.719Z"
   },
   {
    "duration": 6433,
    "start_time": "2021-11-22T07:26:35.797Z"
   },
   {
    "duration": 6702,
    "start_time": "2021-11-22T07:27:33.593Z"
   },
   {
    "duration": 278,
    "start_time": "2021-11-22T07:29:28.843Z"
   },
   {
    "duration": 294,
    "start_time": "2021-11-22T07:29:50.533Z"
   },
   {
    "duration": 5033,
    "start_time": "2021-11-22T07:32:20.014Z"
   },
   {
    "duration": 8,
    "start_time": "2021-11-22T07:32:43.523Z"
   },
   {
    "duration": 4898,
    "start_time": "2021-11-22T07:32:54.080Z"
   },
   {
    "duration": 1635,
    "start_time": "2021-11-22T07:33:05.523Z"
   },
   {
    "duration": 91,
    "start_time": "2021-11-22T07:33:07.160Z"
   },
   {
    "duration": 129,
    "start_time": "2021-11-22T07:33:07.254Z"
   },
   {
    "duration": 15,
    "start_time": "2021-11-22T07:33:07.385Z"
   },
   {
    "duration": 5,
    "start_time": "2021-11-22T07:33:07.401Z"
   },
   {
    "duration": 24,
    "start_time": "2021-11-22T07:33:07.407Z"
   },
   {
    "duration": 24,
    "start_time": "2021-11-22T07:33:07.433Z"
   },
   {
    "duration": 15,
    "start_time": "2021-11-22T07:33:07.460Z"
   },
   {
    "duration": 17,
    "start_time": "2021-11-22T07:33:07.478Z"
   },
   {
    "duration": 119,
    "start_time": "2021-11-22T07:33:07.497Z"
   },
   {
    "duration": 90,
    "start_time": "2021-11-22T07:33:07.618Z"
   },
   {
    "duration": 100,
    "start_time": "2021-11-22T07:33:07.709Z"
   },
   {
    "duration": 36,
    "start_time": "2021-11-22T07:33:07.811Z"
   },
   {
    "duration": 25,
    "start_time": "2021-11-22T07:33:07.849Z"
   },
   {
    "duration": 21,
    "start_time": "2021-11-22T07:33:07.875Z"
   },
   {
    "duration": 56,
    "start_time": "2021-11-22T07:33:07.897Z"
   },
   {
    "duration": 28,
    "start_time": "2021-11-22T07:33:07.955Z"
   },
   {
    "duration": 2,
    "start_time": "2021-11-22T07:33:07.985Z"
   },
   {
    "duration": 401,
    "start_time": "2021-11-22T07:33:07.989Z"
   },
   {
    "duration": 38,
    "start_time": "2021-11-22T07:33:08.392Z"
   },
   {
    "duration": 17,
    "start_time": "2021-11-22T07:33:08.432Z"
   },
   {
    "duration": 6,
    "start_time": "2021-11-22T07:33:08.451Z"
   },
   {
    "duration": 33,
    "start_time": "2021-11-22T07:33:08.460Z"
   },
   {
    "duration": 50,
    "start_time": "2021-11-22T07:33:08.495Z"
   },
   {
    "duration": 197,
    "start_time": "2021-11-22T07:33:08.547Z"
   },
   {
    "duration": 61,
    "start_time": "2021-11-22T07:33:08.746Z"
   },
   {
    "duration": 4,
    "start_time": "2021-11-22T07:33:08.810Z"
   },
   {
    "duration": 13,
    "start_time": "2021-11-22T07:33:08.817Z"
   },
   {
    "duration": 5294,
    "start_time": "2021-11-22T07:33:08.845Z"
   },
   {
    "duration": -41,
    "start_time": "2021-11-22T07:33:14.182Z"
   },
   {
    "duration": -45,
    "start_time": "2021-11-22T07:33:14.187Z"
   },
   {
    "duration": -49,
    "start_time": "2021-11-22T07:33:14.192Z"
   },
   {
    "duration": -53,
    "start_time": "2021-11-22T07:33:14.196Z"
   },
   {
    "duration": -56,
    "start_time": "2021-11-22T07:33:14.201Z"
   },
   {
    "duration": -58,
    "start_time": "2021-11-22T07:33:14.204Z"
   },
   {
    "duration": -61,
    "start_time": "2021-11-22T07:33:14.208Z"
   },
   {
    "duration": -64,
    "start_time": "2021-11-22T07:33:14.212Z"
   },
   {
    "duration": -68,
    "start_time": "2021-11-22T07:33:14.216Z"
   },
   {
    "duration": 1494,
    "start_time": "2021-11-22T07:33:32.965Z"
   },
   {
    "duration": 83,
    "start_time": "2021-11-22T07:33:34.461Z"
   },
   {
    "duration": 127,
    "start_time": "2021-11-22T07:33:34.545Z"
   },
   {
    "duration": 14,
    "start_time": "2021-11-22T07:33:34.674Z"
   },
   {
    "duration": 4,
    "start_time": "2021-11-22T07:33:34.690Z"
   },
   {
    "duration": 15,
    "start_time": "2021-11-22T07:33:34.696Z"
   },
   {
    "duration": 32,
    "start_time": "2021-11-22T07:33:34.713Z"
   },
   {
    "duration": 16,
    "start_time": "2021-11-22T07:33:34.748Z"
   },
   {
    "duration": 18,
    "start_time": "2021-11-22T07:33:34.766Z"
   },
   {
    "duration": 118,
    "start_time": "2021-11-22T07:33:34.785Z"
   },
   {
    "duration": 103,
    "start_time": "2021-11-22T07:33:34.905Z"
   },
   {
    "duration": 106,
    "start_time": "2021-11-22T07:33:35.010Z"
   },
   {
    "duration": 35,
    "start_time": "2021-11-22T07:33:35.118Z"
   },
   {
    "duration": 22,
    "start_time": "2021-11-22T07:33:35.155Z"
   },
   {
    "duration": 21,
    "start_time": "2021-11-22T07:33:35.179Z"
   },
   {
    "duration": 63,
    "start_time": "2021-11-22T07:33:35.202Z"
   },
   {
    "duration": 30,
    "start_time": "2021-11-22T07:33:35.267Z"
   },
   {
    "duration": 3,
    "start_time": "2021-11-22T07:33:35.298Z"
   },
   {
    "duration": 513,
    "start_time": "2021-11-22T07:33:35.303Z"
   },
   {
    "duration": 51,
    "start_time": "2021-11-22T07:33:35.817Z"
   },
   {
    "duration": 8,
    "start_time": "2021-11-22T07:33:35.870Z"
   },
   {
    "duration": 8,
    "start_time": "2021-11-22T07:33:35.879Z"
   },
   {
    "duration": 54,
    "start_time": "2021-11-22T07:33:35.891Z"
   },
   {
    "duration": 24,
    "start_time": "2021-11-22T07:33:35.947Z"
   },
   {
    "duration": 195,
    "start_time": "2021-11-22T07:33:35.973Z"
   },
   {
    "duration": 60,
    "start_time": "2021-11-22T07:33:36.170Z"
   },
   {
    "duration": 13,
    "start_time": "2021-11-22T07:33:36.232Z"
   },
   {
    "duration": 11,
    "start_time": "2021-11-22T07:33:36.247Z"
   },
   {
    "duration": 5370,
    "start_time": "2021-11-22T07:33:36.260Z"
   },
   {
    "duration": -34,
    "start_time": "2021-11-22T07:33:41.667Z"
   },
   {
    "duration": -38,
    "start_time": "2021-11-22T07:33:41.672Z"
   },
   {
    "duration": -40,
    "start_time": "2021-11-22T07:33:41.676Z"
   },
   {
    "duration": -45,
    "start_time": "2021-11-22T07:33:41.682Z"
   },
   {
    "duration": -48,
    "start_time": "2021-11-22T07:33:41.686Z"
   },
   {
    "duration": -50,
    "start_time": "2021-11-22T07:33:41.690Z"
   },
   {
    "duration": -54,
    "start_time": "2021-11-22T07:33:41.695Z"
   },
   {
    "duration": -57,
    "start_time": "2021-11-22T07:33:41.699Z"
   },
   {
    "duration": -60,
    "start_time": "2021-11-22T07:33:41.703Z"
   },
   {
    "duration": 5074,
    "start_time": "2021-11-22T07:34:02.801Z"
   },
   {
    "duration": 7,
    "start_time": "2021-11-22T07:35:16.621Z"
   },
   {
    "duration": 11,
    "start_time": "2021-11-22T07:35:22.579Z"
   },
   {
    "duration": 1486,
    "start_time": "2021-11-22T07:35:53.769Z"
   },
   {
    "duration": 111,
    "start_time": "2021-11-22T07:35:55.257Z"
   },
   {
    "duration": 131,
    "start_time": "2021-11-22T07:35:55.371Z"
   },
   {
    "duration": 17,
    "start_time": "2021-11-22T07:35:55.505Z"
   },
   {
    "duration": 5,
    "start_time": "2021-11-22T07:35:55.524Z"
   },
   {
    "duration": 25,
    "start_time": "2021-11-22T07:35:55.531Z"
   },
   {
    "duration": 13,
    "start_time": "2021-11-22T07:35:55.558Z"
   },
   {
    "duration": 16,
    "start_time": "2021-11-22T07:35:55.575Z"
   },
   {
    "duration": 56,
    "start_time": "2021-11-22T07:35:55.594Z"
   },
   {
    "duration": 120,
    "start_time": "2021-11-22T07:35:55.652Z"
   },
   {
    "duration": 100,
    "start_time": "2021-11-22T07:35:55.774Z"
   },
   {
    "duration": 103,
    "start_time": "2021-11-22T07:35:55.876Z"
   },
   {
    "duration": 31,
    "start_time": "2021-11-22T07:35:55.981Z"
   },
   {
    "duration": 40,
    "start_time": "2021-11-22T07:35:56.015Z"
   },
   {
    "duration": 22,
    "start_time": "2021-11-22T07:35:56.057Z"
   },
   {
    "duration": 34,
    "start_time": "2021-11-22T07:35:56.081Z"
   },
   {
    "duration": 53,
    "start_time": "2021-11-22T07:35:56.117Z"
   },
   {
    "duration": 3,
    "start_time": "2021-11-22T07:35:56.172Z"
   },
   {
    "duration": 392,
    "start_time": "2021-11-22T07:35:56.177Z"
   },
   {
    "duration": 37,
    "start_time": "2021-11-22T07:35:56.570Z"
   },
   {
    "duration": 7,
    "start_time": "2021-11-22T07:35:56.609Z"
   },
   {
    "duration": 28,
    "start_time": "2021-11-22T07:35:56.618Z"
   },
   {
    "duration": 33,
    "start_time": "2021-11-22T07:35:56.649Z"
   },
   {
    "duration": 23,
    "start_time": "2021-11-22T07:35:56.684Z"
   },
   {
    "duration": 206,
    "start_time": "2021-11-22T07:35:56.709Z"
   },
   {
    "duration": 68,
    "start_time": "2021-11-22T07:35:56.917Z"
   },
   {
    "duration": 4,
    "start_time": "2021-11-22T07:35:56.987Z"
   },
   {
    "duration": 10,
    "start_time": "2021-11-22T07:35:56.992Z"
   },
   {
    "duration": 7,
    "start_time": "2021-11-22T07:35:57.003Z"
   },
   {
    "duration": 11,
    "start_time": "2021-11-22T07:35:57.011Z"
   },
   {
    "duration": 210,
    "start_time": "2021-11-22T07:35:57.023Z"
   },
   {
    "duration": 11,
    "start_time": "2021-11-22T07:35:57.234Z"
   },
   {
    "duration": 232,
    "start_time": "2021-11-22T07:35:57.247Z"
   },
   {
    "duration": 7,
    "start_time": "2021-11-22T07:35:57.481Z"
   },
   {
    "duration": 9,
    "start_time": "2021-11-22T07:35:57.490Z"
   },
   {
    "duration": 65,
    "start_time": "2021-11-22T07:35:57.500Z"
   },
   {
    "duration": 39,
    "start_time": "2021-11-22T07:35:57.567Z"
   },
   {
    "duration": 63,
    "start_time": "2021-11-22T07:35:57.608Z"
   },
   {
    "duration": 40,
    "start_time": "2021-11-22T07:35:57.672Z"
   },
   {
    "duration": 2502,
    "start_time": "2021-11-22T07:36:58.818Z"
   },
   {
    "duration": 116,
    "start_time": "2021-11-22T07:37:01.323Z"
   },
   {
    "duration": 133,
    "start_time": "2021-11-22T07:37:01.442Z"
   },
   {
    "duration": 17,
    "start_time": "2021-11-22T07:37:01.577Z"
   },
   {
    "duration": 5,
    "start_time": "2021-11-22T07:37:01.595Z"
   },
   {
    "duration": 26,
    "start_time": "2021-11-22T07:37:01.601Z"
   },
   {
    "duration": 34,
    "start_time": "2021-11-22T07:37:01.629Z"
   },
   {
    "duration": 17,
    "start_time": "2021-11-22T07:37:01.665Z"
   },
   {
    "duration": 21,
    "start_time": "2021-11-22T07:37:01.685Z"
   },
   {
    "duration": 128,
    "start_time": "2021-11-22T07:37:01.708Z"
   },
   {
    "duration": 96,
    "start_time": "2021-11-22T07:37:01.838Z"
   },
   {
    "duration": 104,
    "start_time": "2021-11-22T07:37:01.944Z"
   },
   {
    "duration": 32,
    "start_time": "2021-11-22T07:37:02.050Z"
   },
   {
    "duration": 23,
    "start_time": "2021-11-22T07:37:02.085Z"
   },
   {
    "duration": 51,
    "start_time": "2021-11-22T07:37:02.110Z"
   },
   {
    "duration": 46,
    "start_time": "2021-11-22T07:37:02.164Z"
   },
   {
    "duration": 43,
    "start_time": "2021-11-22T07:37:02.212Z"
   },
   {
    "duration": 10,
    "start_time": "2021-11-22T07:37:02.256Z"
   },
   {
    "duration": 413,
    "start_time": "2021-11-22T07:37:02.268Z"
   },
   {
    "duration": 39,
    "start_time": "2021-11-22T07:37:02.683Z"
   },
   {
    "duration": 27,
    "start_time": "2021-11-22T07:37:02.724Z"
   },
   {
    "duration": 20,
    "start_time": "2021-11-22T07:37:02.753Z"
   },
   {
    "duration": 33,
    "start_time": "2021-11-22T07:37:02.778Z"
   },
   {
    "duration": 44,
    "start_time": "2021-11-22T07:37:02.813Z"
   },
   {
    "duration": 201,
    "start_time": "2021-11-22T07:37:02.859Z"
   },
   {
    "duration": 58,
    "start_time": "2021-11-22T07:37:03.062Z"
   },
   {
    "duration": 4,
    "start_time": "2021-11-22T07:37:03.122Z"
   },
   {
    "duration": 24,
    "start_time": "2021-11-22T07:37:03.127Z"
   },
   {
    "duration": 10,
    "start_time": "2021-11-22T07:37:03.153Z"
   },
   {
    "duration": 13,
    "start_time": "2021-11-22T07:37:03.164Z"
   },
   {
    "duration": 222,
    "start_time": "2021-11-22T07:37:03.179Z"
   },
   {
    "duration": 7,
    "start_time": "2021-11-22T07:37:03.403Z"
   },
   {
    "duration": 236,
    "start_time": "2021-11-22T07:37:03.411Z"
   },
   {
    "duration": 7,
    "start_time": "2021-11-22T07:37:03.649Z"
   },
   {
    "duration": 24,
    "start_time": "2021-11-22T07:37:03.658Z"
   },
   {
    "duration": 72,
    "start_time": "2021-11-22T07:37:03.684Z"
   },
   {
    "duration": 45,
    "start_time": "2021-11-22T07:37:03.758Z"
   },
   {
    "duration": 70,
    "start_time": "2021-11-22T07:37:03.805Z"
   },
   {
    "duration": 46,
    "start_time": "2021-11-22T07:37:03.877Z"
   },
   {
    "duration": 1659,
    "start_time": "2021-11-22T07:38:16.686Z"
   },
   {
    "duration": 83,
    "start_time": "2021-11-22T07:38:18.347Z"
   },
   {
    "duration": 125,
    "start_time": "2021-11-22T07:38:18.432Z"
   },
   {
    "duration": 15,
    "start_time": "2021-11-22T07:38:18.559Z"
   },
   {
    "duration": 4,
    "start_time": "2021-11-22T07:38:18.576Z"
   },
   {
    "duration": 19,
    "start_time": "2021-11-22T07:38:18.581Z"
   },
   {
    "duration": 12,
    "start_time": "2021-11-22T07:38:18.602Z"
   },
   {
    "duration": 42,
    "start_time": "2021-11-22T07:38:18.616Z"
   },
   {
    "duration": 19,
    "start_time": "2021-11-22T07:38:18.660Z"
   },
   {
    "duration": 120,
    "start_time": "2021-11-22T07:38:18.680Z"
   },
   {
    "duration": 87,
    "start_time": "2021-11-22T07:38:18.802Z"
   },
   {
    "duration": 96,
    "start_time": "2021-11-22T07:38:18.891Z"
   },
   {
    "duration": 28,
    "start_time": "2021-11-22T07:38:18.988Z"
   },
   {
    "duration": 34,
    "start_time": "2021-11-22T07:38:19.018Z"
   },
   {
    "duration": 20,
    "start_time": "2021-11-22T07:38:19.053Z"
   },
   {
    "duration": 33,
    "start_time": "2021-11-22T07:38:19.074Z"
   },
   {
    "duration": 49,
    "start_time": "2021-11-22T07:38:19.108Z"
   },
   {
    "duration": 3,
    "start_time": "2021-11-22T07:38:19.159Z"
   },
   {
    "duration": 407,
    "start_time": "2021-11-22T07:38:19.164Z"
   },
   {
    "duration": 36,
    "start_time": "2021-11-22T07:38:19.573Z"
   },
   {
    "duration": 7,
    "start_time": "2021-11-22T07:38:19.611Z"
   },
   {
    "duration": 27,
    "start_time": "2021-11-22T07:38:19.620Z"
   },
   {
    "duration": 33,
    "start_time": "2021-11-22T07:38:19.651Z"
   },
   {
    "duration": 22,
    "start_time": "2021-11-22T07:38:19.686Z"
   },
   {
    "duration": 217,
    "start_time": "2021-11-22T07:38:19.710Z"
   },
   {
    "duration": 64,
    "start_time": "2021-11-22T07:38:19.929Z"
   },
   {
    "duration": 4,
    "start_time": "2021-11-22T07:38:19.995Z"
   },
   {
    "duration": 11,
    "start_time": "2021-11-22T07:38:20.000Z"
   },
   {
    "duration": 7,
    "start_time": "2021-11-22T07:38:20.012Z"
   },
   {
    "duration": 32,
    "start_time": "2021-11-22T07:38:20.021Z"
   },
   {
    "duration": 209,
    "start_time": "2021-11-22T07:38:20.055Z"
   },
   {
    "duration": 6,
    "start_time": "2021-11-22T07:38:20.266Z"
   },
   {
    "duration": 234,
    "start_time": "2021-11-22T07:38:20.274Z"
   },
   {
    "duration": 7,
    "start_time": "2021-11-22T07:38:20.510Z"
   },
   {
    "duration": 7,
    "start_time": "2021-11-22T07:38:20.518Z"
   },
   {
    "duration": 58,
    "start_time": "2021-11-22T07:38:20.527Z"
   },
   {
    "duration": 61,
    "start_time": "2021-11-22T07:38:20.586Z"
   },
   {
    "duration": 43,
    "start_time": "2021-11-22T07:38:20.649Z"
   },
   {
    "duration": 63,
    "start_time": "2021-11-22T07:38:20.694Z"
   },
   {
    "duration": 1464,
    "start_time": "2021-11-22T07:39:23.187Z"
   },
   {
    "duration": 93,
    "start_time": "2021-11-22T07:39:24.653Z"
   },
   {
    "duration": 129,
    "start_time": "2021-11-22T07:39:24.749Z"
   },
   {
    "duration": 15,
    "start_time": "2021-11-22T07:39:24.880Z"
   },
   {
    "duration": 5,
    "start_time": "2021-11-22T07:39:24.897Z"
   },
   {
    "duration": 16,
    "start_time": "2021-11-22T07:39:24.904Z"
   },
   {
    "duration": 30,
    "start_time": "2021-11-22T07:39:24.922Z"
   },
   {
    "duration": 17,
    "start_time": "2021-11-22T07:39:24.956Z"
   },
   {
    "duration": 19,
    "start_time": "2021-11-22T07:39:24.976Z"
   },
   {
    "duration": 139,
    "start_time": "2021-11-22T07:39:24.997Z"
   },
   {
    "duration": 89,
    "start_time": "2021-11-22T07:39:25.138Z"
   },
   {
    "duration": 106,
    "start_time": "2021-11-22T07:39:25.228Z"
   },
   {
    "duration": 34,
    "start_time": "2021-11-22T07:39:25.336Z"
   },
   {
    "duration": 23,
    "start_time": "2021-11-22T07:39:25.372Z"
   },
   {
    "duration": 21,
    "start_time": "2021-11-22T07:39:25.396Z"
   },
   {
    "duration": 60,
    "start_time": "2021-11-22T07:39:25.418Z"
   },
   {
    "duration": 29,
    "start_time": "2021-11-22T07:39:25.480Z"
   },
   {
    "duration": 2,
    "start_time": "2021-11-22T07:39:25.511Z"
   },
   {
    "duration": 418,
    "start_time": "2021-11-22T07:39:25.515Z"
   },
   {
    "duration": 44,
    "start_time": "2021-11-22T07:39:25.935Z"
   },
   {
    "duration": 8,
    "start_time": "2021-11-22T07:39:25.980Z"
   },
   {
    "duration": 7,
    "start_time": "2021-11-22T07:39:25.990Z"
   },
   {
    "duration": 63,
    "start_time": "2021-11-22T07:39:26.000Z"
   },
   {
    "duration": 23,
    "start_time": "2021-11-22T07:39:26.065Z"
   },
   {
    "duration": 199,
    "start_time": "2021-11-22T07:39:26.090Z"
   },
   {
    "duration": 67,
    "start_time": "2021-11-22T07:39:26.291Z"
   },
   {
    "duration": 4,
    "start_time": "2021-11-22T07:39:26.359Z"
   },
   {
    "duration": 10,
    "start_time": "2021-11-22T07:39:26.365Z"
   },
   {
    "duration": 5,
    "start_time": "2021-11-22T07:39:26.377Z"
   },
   {
    "duration": 11,
    "start_time": "2021-11-22T07:39:26.384Z"
   },
   {
    "duration": 208,
    "start_time": "2021-11-22T07:39:26.397Z"
   },
   {
    "duration": 6,
    "start_time": "2021-11-22T07:39:26.607Z"
   },
   {
    "duration": 233,
    "start_time": "2021-11-22T07:39:26.614Z"
   },
   {
    "duration": 7,
    "start_time": "2021-11-22T07:39:26.848Z"
   },
   {
    "duration": 10,
    "start_time": "2021-11-22T07:39:26.857Z"
   },
   {
    "duration": 66,
    "start_time": "2021-11-22T07:39:26.869Z"
   },
   {
    "duration": 50,
    "start_time": "2021-11-22T07:39:26.936Z"
   },
   {
    "duration": 65,
    "start_time": "2021-11-22T07:39:26.988Z"
   },
   {
    "duration": 43,
    "start_time": "2021-11-22T07:39:27.055Z"
   },
   {
    "duration": 6,
    "start_time": "2021-11-22T07:54:22.782Z"
   },
   {
    "duration": 6,
    "start_time": "2021-11-22T07:54:25.944Z"
   },
   {
    "duration": 44,
    "start_time": "2021-11-22T07:54:56.008Z"
   },
   {
    "duration": 1614,
    "start_time": "2021-11-22T07:56:33.657Z"
   },
   {
    "duration": 323,
    "start_time": "2021-11-22T07:56:35.273Z"
   },
   {
    "duration": 139,
    "start_time": "2021-11-22T07:56:35.598Z"
   },
   {
    "duration": 14,
    "start_time": "2021-11-22T07:56:35.739Z"
   },
   {
    "duration": 24,
    "start_time": "2021-11-22T07:56:35.755Z"
   },
   {
    "duration": 34,
    "start_time": "2021-11-22T07:56:35.780Z"
   },
   {
    "duration": 32,
    "start_time": "2021-11-22T07:56:35.816Z"
   },
   {
    "duration": 19,
    "start_time": "2021-11-22T07:56:35.851Z"
   },
   {
    "duration": 32,
    "start_time": "2021-11-22T07:56:35.872Z"
   },
   {
    "duration": 110,
    "start_time": "2021-11-22T07:56:35.906Z"
   },
   {
    "duration": 85,
    "start_time": "2021-11-22T07:56:36.018Z"
   },
   {
    "duration": 106,
    "start_time": "2021-11-22T07:56:36.105Z"
   },
   {
    "duration": 32,
    "start_time": "2021-11-22T07:56:36.213Z"
   },
   {
    "duration": 26,
    "start_time": "2021-11-22T07:56:36.247Z"
   },
   {
    "duration": 18,
    "start_time": "2021-11-22T07:56:36.275Z"
   },
   {
    "duration": 54,
    "start_time": "2021-11-22T07:56:36.295Z"
   },
   {
    "duration": 31,
    "start_time": "2021-11-22T07:56:36.351Z"
   },
   {
    "duration": 3,
    "start_time": "2021-11-22T07:56:36.384Z"
   },
   {
    "duration": 405,
    "start_time": "2021-11-22T07:56:36.388Z"
   },
   {
    "duration": 38,
    "start_time": "2021-11-22T07:56:36.795Z"
   },
   {
    "duration": 11,
    "start_time": "2021-11-22T07:56:36.845Z"
   },
   {
    "duration": 7,
    "start_time": "2021-11-22T07:56:36.858Z"
   },
   {
    "duration": 30,
    "start_time": "2021-11-22T07:56:36.870Z"
   },
   {
    "duration": 53,
    "start_time": "2021-11-22T07:56:36.902Z"
   },
   {
    "duration": 196,
    "start_time": "2021-11-22T07:56:36.957Z"
   },
   {
    "duration": 61,
    "start_time": "2021-11-22T07:56:37.155Z"
   },
   {
    "duration": 4,
    "start_time": "2021-11-22T07:56:37.218Z"
   },
   {
    "duration": 23,
    "start_time": "2021-11-22T07:56:37.224Z"
   },
   {
    "duration": 15,
    "start_time": "2021-11-22T07:56:37.249Z"
   },
   {
    "duration": 194,
    "start_time": "2021-11-22T07:56:37.267Z"
   },
   {
    "duration": 5,
    "start_time": "2021-11-22T07:56:37.463Z"
   },
   {
    "duration": 8,
    "start_time": "2021-11-22T07:56:37.470Z"
   },
   {
    "duration": 230,
    "start_time": "2021-11-22T07:56:37.479Z"
   },
   {
    "duration": 8,
    "start_time": "2021-11-22T07:56:37.711Z"
   },
   {
    "duration": 9,
    "start_time": "2021-11-22T07:56:37.721Z"
   },
   {
    "duration": 823,
    "start_time": "2021-11-22T07:56:37.745Z"
   },
   {
    "duration": 4,
    "start_time": "2021-11-22T07:56:38.565Z"
   },
   {
    "duration": -2,
    "start_time": "2021-11-22T07:56:38.572Z"
   },
   {
    "duration": -7,
    "start_time": "2021-11-22T07:56:38.578Z"
   },
   {
    "duration": 1328,
    "start_time": "2021-11-22T07:57:01.918Z"
   },
   {
    "duration": 85,
    "start_time": "2021-11-22T08:00:52.839Z"
   },
   {
    "duration": 7,
    "start_time": "2021-11-22T08:01:36.603Z"
   },
   {
    "duration": 1850,
    "start_time": "2021-11-22T08:01:43.226Z"
   },
   {
    "duration": 123,
    "start_time": "2021-11-22T08:01:45.078Z"
   },
   {
    "duration": 139,
    "start_time": "2021-11-22T08:01:45.204Z"
   },
   {
    "duration": 15,
    "start_time": "2021-11-22T08:01:45.345Z"
   },
   {
    "duration": 4,
    "start_time": "2021-11-22T08:01:45.362Z"
   },
   {
    "duration": 14,
    "start_time": "2021-11-22T08:01:45.367Z"
   },
   {
    "duration": 11,
    "start_time": "2021-11-22T08:01:45.383Z"
   },
   {
    "duration": 47,
    "start_time": "2021-11-22T08:01:45.397Z"
   },
   {
    "duration": 19,
    "start_time": "2021-11-22T08:01:45.447Z"
   },
   {
    "duration": 127,
    "start_time": "2021-11-22T08:01:45.468Z"
   },
   {
    "duration": 100,
    "start_time": "2021-11-22T08:01:45.597Z"
   },
   {
    "duration": 100,
    "start_time": "2021-11-22T08:01:45.699Z"
   },
   {
    "duration": 31,
    "start_time": "2021-11-22T08:01:45.801Z"
   },
   {
    "duration": 29,
    "start_time": "2021-11-22T08:01:45.834Z"
   },
   {
    "duration": 23,
    "start_time": "2021-11-22T08:01:45.865Z"
   },
   {
    "duration": 58,
    "start_time": "2021-11-22T08:01:45.890Z"
   },
   {
    "duration": 39,
    "start_time": "2021-11-22T08:01:45.950Z"
   },
   {
    "duration": 3,
    "start_time": "2021-11-22T08:01:45.991Z"
   },
   {
    "duration": 458,
    "start_time": "2021-11-22T08:01:45.996Z"
   },
   {
    "duration": 39,
    "start_time": "2021-11-22T08:01:46.456Z"
   },
   {
    "duration": 7,
    "start_time": "2021-11-22T08:01:46.497Z"
   },
   {
    "duration": 6,
    "start_time": "2021-11-22T08:01:46.506Z"
   },
   {
    "duration": 61,
    "start_time": "2021-11-22T08:01:46.515Z"
   },
   {
    "duration": 28,
    "start_time": "2021-11-22T08:01:46.578Z"
   },
   {
    "duration": 218,
    "start_time": "2021-11-22T08:01:46.608Z"
   },
   {
    "duration": 72,
    "start_time": "2021-11-22T08:01:46.828Z"
   },
   {
    "duration": 3,
    "start_time": "2021-11-22T08:01:46.902Z"
   },
   {
    "duration": 25,
    "start_time": "2021-11-22T08:01:46.907Z"
   },
   {
    "duration": 20,
    "start_time": "2021-11-22T08:01:46.934Z"
   },
   {
    "duration": 205,
    "start_time": "2021-11-22T08:01:46.956Z"
   },
   {
    "duration": 13,
    "start_time": "2021-11-22T08:01:47.164Z"
   },
   {
    "duration": 7,
    "start_time": "2021-11-22T08:01:47.180Z"
   },
   {
    "duration": 296,
    "start_time": "2021-11-22T08:01:47.189Z"
   },
   {
    "duration": 7,
    "start_time": "2021-11-22T08:01:47.486Z"
   },
   {
    "duration": 8,
    "start_time": "2021-11-22T08:01:47.495Z"
   },
   {
    "duration": 144,
    "start_time": "2021-11-22T08:01:47.504Z"
   },
   {
    "duration": 156,
    "start_time": "2021-11-22T08:01:47.650Z"
   },
   {
    "duration": 166,
    "start_time": "2021-11-22T08:01:47.809Z"
   },
   {
    "duration": 690,
    "start_time": "2021-11-22T08:01:47.977Z"
   },
   {
    "duration": 6623,
    "start_time": "2021-11-22T08:03:47.995Z"
   },
   {
    "duration": 5,
    "start_time": "2021-11-22T08:04:04.909Z"
   },
   {
    "duration": 6,
    "start_time": "2021-11-22T08:05:01.334Z"
   },
   {
    "duration": 8,
    "start_time": "2021-11-22T08:09:44.461Z"
   },
   {
    "duration": 5,
    "start_time": "2021-11-22T08:09:51.714Z"
   },
   {
    "duration": 8,
    "start_time": "2021-11-22T08:09:57.338Z"
   },
   {
    "duration": 7,
    "start_time": "2021-11-22T08:10:29.032Z"
   },
   {
    "duration": 8,
    "start_time": "2021-11-22T08:10:31.752Z"
   },
   {
    "duration": 1460,
    "start_time": "2021-11-22T08:11:18.901Z"
   },
   {
    "duration": 87,
    "start_time": "2021-11-22T08:11:20.362Z"
   },
   {
    "duration": 129,
    "start_time": "2021-11-22T08:11:20.451Z"
   },
   {
    "duration": 14,
    "start_time": "2021-11-22T08:11:20.582Z"
   },
   {
    "duration": 4,
    "start_time": "2021-11-22T08:11:20.598Z"
   },
   {
    "duration": 15,
    "start_time": "2021-11-22T08:11:20.604Z"
   },
   {
    "duration": 29,
    "start_time": "2021-11-22T08:11:20.621Z"
   },
   {
    "duration": 17,
    "start_time": "2021-11-22T08:11:20.653Z"
   },
   {
    "duration": 19,
    "start_time": "2021-11-22T08:11:20.673Z"
   },
   {
    "duration": 129,
    "start_time": "2021-11-22T08:11:20.693Z"
   },
   {
    "duration": 90,
    "start_time": "2021-11-22T08:11:20.824Z"
   },
   {
    "duration": 98,
    "start_time": "2021-11-22T08:11:20.916Z"
   },
   {
    "duration": 35,
    "start_time": "2021-11-22T08:11:21.016Z"
   },
   {
    "duration": 22,
    "start_time": "2021-11-22T08:11:21.052Z"
   },
   {
    "duration": 21,
    "start_time": "2021-11-22T08:11:21.075Z"
   },
   {
    "duration": 52,
    "start_time": "2021-11-22T08:11:21.098Z"
   },
   {
    "duration": 29,
    "start_time": "2021-11-22T08:11:21.152Z"
   },
   {
    "duration": 4,
    "start_time": "2021-11-22T08:11:21.182Z"
   },
   {
    "duration": 405,
    "start_time": "2021-11-22T08:11:21.187Z"
   },
   {
    "duration": 39,
    "start_time": "2021-11-22T08:11:21.593Z"
   },
   {
    "duration": 9,
    "start_time": "2021-11-22T08:11:21.644Z"
   },
   {
    "duration": 7,
    "start_time": "2021-11-22T08:11:21.654Z"
   },
   {
    "duration": 31,
    "start_time": "2021-11-22T08:11:21.664Z"
   },
   {
    "duration": 51,
    "start_time": "2021-11-22T08:11:21.697Z"
   },
   {
    "duration": 196,
    "start_time": "2021-11-22T08:11:21.750Z"
   },
   {
    "duration": 62,
    "start_time": "2021-11-22T08:11:21.948Z"
   },
   {
    "duration": 5,
    "start_time": "2021-11-22T08:11:22.012Z"
   },
   {
    "duration": 26,
    "start_time": "2021-11-22T08:11:22.019Z"
   },
   {
    "duration": 12,
    "start_time": "2021-11-22T08:11:22.048Z"
   },
   {
    "duration": 201,
    "start_time": "2021-11-22T08:11:22.062Z"
   },
   {
    "duration": 6,
    "start_time": "2021-11-22T08:11:22.264Z"
   },
   {
    "duration": 236,
    "start_time": "2021-11-22T08:11:22.272Z"
   },
   {
    "duration": 7,
    "start_time": "2021-11-22T08:11:22.509Z"
   },
   {
    "duration": 8,
    "start_time": "2021-11-22T08:11:22.518Z"
   },
   {
    "duration": 135,
    "start_time": "2021-11-22T08:11:22.527Z"
   },
   {
    "duration": 133,
    "start_time": "2021-11-22T08:11:22.664Z"
   },
   {
    "duration": 129,
    "start_time": "2021-11-22T08:11:22.799Z"
   },
   {
    "duration": 714,
    "start_time": "2021-11-22T08:11:22.930Z"
   },
   {
    "duration": 7,
    "start_time": "2021-11-22T08:14:54.667Z"
   },
   {
    "duration": 4,
    "start_time": "2021-11-22T08:14:58.698Z"
   },
   {
    "duration": 3,
    "start_time": "2021-11-22T08:14:59.253Z"
   },
   {
    "duration": 6,
    "start_time": "2021-11-22T08:14:59.758Z"
   },
   {
    "duration": 6,
    "start_time": "2021-11-22T08:16:59.550Z"
   },
   {
    "duration": 5,
    "start_time": "2021-11-22T08:17:00.236Z"
   },
   {
    "duration": 300,
    "start_time": "2021-11-22T08:17:00.838Z"
   },
   {
    "duration": 7,
    "start_time": "2021-11-22T08:17:01.381Z"
   },
   {
    "duration": 1493,
    "start_time": "2021-11-22T08:17:08.564Z"
   },
   {
    "duration": 90,
    "start_time": "2021-11-22T08:17:10.059Z"
   },
   {
    "duration": 129,
    "start_time": "2021-11-22T08:17:10.151Z"
   },
   {
    "duration": 15,
    "start_time": "2021-11-22T08:17:10.282Z"
   },
   {
    "duration": 3,
    "start_time": "2021-11-22T08:17:10.299Z"
   },
   {
    "duration": 16,
    "start_time": "2021-11-22T08:17:10.304Z"
   },
   {
    "duration": 25,
    "start_time": "2021-11-22T08:17:10.322Z"
   },
   {
    "duration": 16,
    "start_time": "2021-11-22T08:17:10.350Z"
   },
   {
    "duration": 19,
    "start_time": "2021-11-22T08:17:10.368Z"
   },
   {
    "duration": 125,
    "start_time": "2021-11-22T08:17:10.388Z"
   },
   {
    "duration": 98,
    "start_time": "2021-11-22T08:17:10.515Z"
   },
   {
    "duration": 103,
    "start_time": "2021-11-22T08:17:10.614Z"
   },
   {
    "duration": 34,
    "start_time": "2021-11-22T08:17:10.718Z"
   },
   {
    "duration": 21,
    "start_time": "2021-11-22T08:17:10.754Z"
   },
   {
    "duration": 21,
    "start_time": "2021-11-22T08:17:10.776Z"
   },
   {
    "duration": 59,
    "start_time": "2021-11-22T08:17:10.798Z"
   },
   {
    "duration": 37,
    "start_time": "2021-11-22T08:17:10.859Z"
   },
   {
    "duration": 5,
    "start_time": "2021-11-22T08:17:10.897Z"
   },
   {
    "duration": 400,
    "start_time": "2021-11-22T08:17:10.904Z"
   },
   {
    "duration": 51,
    "start_time": "2021-11-22T08:17:11.306Z"
   },
   {
    "duration": 8,
    "start_time": "2021-11-22T08:17:11.359Z"
   },
   {
    "duration": 7,
    "start_time": "2021-11-22T08:17:11.369Z"
   },
   {
    "duration": 33,
    "start_time": "2021-11-22T08:17:11.379Z"
   },
   {
    "duration": 49,
    "start_time": "2021-11-22T08:17:11.414Z"
   },
   {
    "duration": 219,
    "start_time": "2021-11-22T08:17:11.465Z"
   },
   {
    "duration": 73,
    "start_time": "2021-11-22T08:17:11.686Z"
   },
   {
    "duration": 4,
    "start_time": "2021-11-22T08:17:11.760Z"
   },
   {
    "duration": 11,
    "start_time": "2021-11-22T08:17:11.765Z"
   },
   {
    "duration": 11,
    "start_time": "2021-11-22T08:17:11.777Z"
   },
   {
    "duration": 202,
    "start_time": "2021-11-22T08:17:11.790Z"
   },
   {
    "duration": 6,
    "start_time": "2021-11-22T08:17:11.994Z"
   },
   {
    "duration": 6,
    "start_time": "2021-11-22T08:17:12.001Z"
   },
   {
    "duration": 6,
    "start_time": "2021-11-22T08:17:12.009Z"
   },
   {
    "duration": 7,
    "start_time": "2021-11-22T08:17:12.017Z"
   },
   {
    "duration": 222,
    "start_time": "2021-11-22T08:17:12.045Z"
   },
   {
    "duration": 6,
    "start_time": "2021-11-22T08:17:12.269Z"
   },
   {
    "duration": 10,
    "start_time": "2021-11-22T08:17:12.277Z"
   },
   {
    "duration": 131,
    "start_time": "2021-11-22T08:17:12.289Z"
   },
   {
    "duration": 114,
    "start_time": "2021-11-22T08:17:12.421Z"
   },
   {
    "duration": 122,
    "start_time": "2021-11-22T08:17:12.545Z"
   },
   {
    "duration": 672,
    "start_time": "2021-11-22T08:17:12.669Z"
   },
   {
    "duration": 4,
    "start_time": "2021-11-22T08:19:18.934Z"
   },
   {
    "duration": 6,
    "start_time": "2021-11-22T08:19:20.862Z"
   },
   {
    "duration": 8011,
    "start_time": "2021-11-22T08:21:54.699Z"
   },
   {
    "duration": 273,
    "start_time": "2021-11-22T08:22:19.515Z"
   },
   {
    "duration": 291,
    "start_time": "2021-11-22T08:22:36.114Z"
   },
   {
    "duration": 258,
    "start_time": "2021-11-22T08:22:45.973Z"
   },
   {
    "duration": 1490,
    "start_time": "2021-11-22T08:23:18.534Z"
   },
   {
    "duration": 94,
    "start_time": "2021-11-22T08:23:20.026Z"
   },
   {
    "duration": 123,
    "start_time": "2021-11-22T08:23:20.122Z"
   },
   {
    "duration": 15,
    "start_time": "2021-11-22T08:23:20.247Z"
   },
   {
    "duration": 13,
    "start_time": "2021-11-22T08:23:20.264Z"
   },
   {
    "duration": 27,
    "start_time": "2021-11-22T08:23:20.279Z"
   },
   {
    "duration": 15,
    "start_time": "2021-11-22T08:23:20.308Z"
   },
   {
    "duration": 24,
    "start_time": "2021-11-22T08:23:20.325Z"
   },
   {
    "duration": 23,
    "start_time": "2021-11-22T08:23:20.351Z"
   },
   {
    "duration": 96,
    "start_time": "2021-11-22T08:23:20.376Z"
   },
   {
    "duration": 99,
    "start_time": "2021-11-22T08:23:20.474Z"
   },
   {
    "duration": 98,
    "start_time": "2021-11-22T08:23:20.574Z"
   },
   {
    "duration": 28,
    "start_time": "2021-11-22T08:23:20.674Z"
   },
   {
    "duration": 20,
    "start_time": "2021-11-22T08:23:20.703Z"
   },
   {
    "duration": 36,
    "start_time": "2021-11-22T08:23:20.724Z"
   },
   {
    "duration": 32,
    "start_time": "2021-11-22T08:23:20.762Z"
   },
   {
    "duration": 34,
    "start_time": "2021-11-22T08:23:20.796Z"
   },
   {
    "duration": 16,
    "start_time": "2021-11-22T08:23:20.832Z"
   },
   {
    "duration": 470,
    "start_time": "2021-11-22T08:23:20.850Z"
   },
   {
    "duration": 46,
    "start_time": "2021-11-22T08:23:21.322Z"
   },
   {
    "duration": 7,
    "start_time": "2021-11-22T08:23:21.369Z"
   },
   {
    "duration": 16,
    "start_time": "2021-11-22T08:23:21.377Z"
   },
   {
    "duration": 43,
    "start_time": "2021-11-22T08:23:21.396Z"
   },
   {
    "duration": 23,
    "start_time": "2021-11-22T08:23:21.445Z"
   },
   {
    "duration": 212,
    "start_time": "2021-11-22T08:23:21.470Z"
   },
   {
    "duration": 62,
    "start_time": "2021-11-22T08:23:21.683Z"
   },
   {
    "duration": 4,
    "start_time": "2021-11-22T08:23:21.747Z"
   },
   {
    "duration": 24,
    "start_time": "2021-11-22T08:23:21.752Z"
   },
   {
    "duration": 17,
    "start_time": "2021-11-22T08:23:21.778Z"
   },
   {
    "duration": 205,
    "start_time": "2021-11-22T08:23:21.797Z"
   },
   {
    "duration": 7,
    "start_time": "2021-11-22T08:23:22.003Z"
   },
   {
    "duration": 24,
    "start_time": "2021-11-22T08:23:22.011Z"
   },
   {
    "duration": 392,
    "start_time": "2021-11-22T08:23:22.037Z"
   },
   {
    "duration": -15,
    "start_time": "2021-11-22T08:23:22.446Z"
   },
   {
    "duration": -35,
    "start_time": "2021-11-22T08:23:22.467Z"
   },
   {
    "duration": -48,
    "start_time": "2021-11-22T08:23:22.481Z"
   },
   {
    "duration": -60,
    "start_time": "2021-11-22T08:23:22.494Z"
   },
   {
    "duration": -72,
    "start_time": "2021-11-22T08:23:22.507Z"
   },
   {
    "duration": -78,
    "start_time": "2021-11-22T08:23:22.514Z"
   },
   {
    "duration": -82,
    "start_time": "2021-11-22T08:23:22.519Z"
   },
   {
    "duration": -85,
    "start_time": "2021-11-22T08:23:22.523Z"
   },
   {
    "duration": -90,
    "start_time": "2021-11-22T08:23:22.529Z"
   },
   {
    "duration": -93,
    "start_time": "2021-11-22T08:23:22.533Z"
   },
   {
    "duration": 304,
    "start_time": "2021-11-22T08:23:32.835Z"
   },
   {
    "duration": 1437,
    "start_time": "2021-11-22T08:23:52.494Z"
   },
   {
    "duration": 88,
    "start_time": "2021-11-22T08:23:53.933Z"
   },
   {
    "duration": 127,
    "start_time": "2021-11-22T08:23:54.023Z"
   },
   {
    "duration": 16,
    "start_time": "2021-11-22T08:23:54.152Z"
   },
   {
    "duration": 4,
    "start_time": "2021-11-22T08:23:54.169Z"
   },
   {
    "duration": 17,
    "start_time": "2021-11-22T08:23:54.175Z"
   },
   {
    "duration": 13,
    "start_time": "2021-11-22T08:23:54.193Z"
   },
   {
    "duration": 42,
    "start_time": "2021-11-22T08:23:54.208Z"
   },
   {
    "duration": 19,
    "start_time": "2021-11-22T08:23:54.253Z"
   },
   {
    "duration": 112,
    "start_time": "2021-11-22T08:23:54.274Z"
   },
   {
    "duration": 87,
    "start_time": "2021-11-22T08:23:54.388Z"
   },
   {
    "duration": 98,
    "start_time": "2021-11-22T08:23:54.477Z"
   },
   {
    "duration": 29,
    "start_time": "2021-11-22T08:23:54.577Z"
   },
   {
    "duration": 38,
    "start_time": "2021-11-22T08:23:54.607Z"
   },
   {
    "duration": 21,
    "start_time": "2021-11-22T08:23:54.647Z"
   },
   {
    "duration": 33,
    "start_time": "2021-11-22T08:23:54.670Z"
   },
   {
    "duration": 53,
    "start_time": "2021-11-22T08:23:54.705Z"
   },
   {
    "duration": 3,
    "start_time": "2021-11-22T08:23:54.759Z"
   },
   {
    "duration": 389,
    "start_time": "2021-11-22T08:23:54.764Z"
   },
   {
    "duration": 39,
    "start_time": "2021-11-22T08:23:55.155Z"
   },
   {
    "duration": 9,
    "start_time": "2021-11-22T08:23:55.196Z"
   },
   {
    "duration": 8,
    "start_time": "2021-11-22T08:23:55.207Z"
   },
   {
    "duration": 31,
    "start_time": "2021-11-22T08:23:55.247Z"
   },
   {
    "duration": 21,
    "start_time": "2021-11-22T08:23:55.280Z"
   },
   {
    "duration": 199,
    "start_time": "2021-11-22T08:23:55.303Z"
   },
   {
    "duration": 65,
    "start_time": "2021-11-22T08:23:55.504Z"
   },
   {
    "duration": 3,
    "start_time": "2021-11-22T08:23:55.571Z"
   },
   {
    "duration": 10,
    "start_time": "2021-11-22T08:23:55.576Z"
   },
   {
    "duration": 13,
    "start_time": "2021-11-22T08:23:55.587Z"
   },
   {
    "duration": 192,
    "start_time": "2021-11-22T08:23:55.602Z"
   },
   {
    "duration": 6,
    "start_time": "2021-11-22T08:23:55.796Z"
   },
   {
    "duration": 6,
    "start_time": "2021-11-22T08:23:55.803Z"
   },
   {
    "duration": 6,
    "start_time": "2021-11-22T08:23:55.810Z"
   },
   {
    "duration": 5,
    "start_time": "2021-11-22T08:23:55.817Z"
   },
   {
    "duration": 21,
    "start_time": "2021-11-22T08:23:55.824Z"
   },
   {
    "duration": 364,
    "start_time": "2021-11-22T08:23:55.847Z"
   },
   {
    "duration": -18,
    "start_time": "2021-11-22T08:23:56.231Z"
   },
   {
    "duration": -21,
    "start_time": "2021-11-22T08:23:56.235Z"
   },
   {
    "duration": -25,
    "start_time": "2021-11-22T08:23:56.240Z"
   },
   {
    "duration": -29,
    "start_time": "2021-11-22T08:23:56.245Z"
   },
   {
    "duration": -32,
    "start_time": "2021-11-22T08:23:56.249Z"
   },
   {
    "duration": -36,
    "start_time": "2021-11-22T08:23:56.254Z"
   },
   {
    "duration": -41,
    "start_time": "2021-11-22T08:23:56.260Z"
   },
   {
    "duration": 256,
    "start_time": "2021-11-22T08:24:12.414Z"
   },
   {
    "duration": 7,
    "start_time": "2021-11-22T08:24:23.671Z"
   },
   {
    "duration": 7,
    "start_time": "2021-11-22T08:25:03.320Z"
   },
   {
    "duration": 262,
    "start_time": "2021-11-22T08:25:18.658Z"
   },
   {
    "duration": 5,
    "start_time": "2021-11-22T08:25:22.505Z"
   },
   {
    "duration": 278,
    "start_time": "2021-11-22T08:25:32.810Z"
   },
   {
    "duration": 455,
    "start_time": "2021-11-22T08:25:41.616Z"
   },
   {
    "duration": 7,
    "start_time": "2021-11-22T09:44:13.234Z"
   },
   {
    "duration": 1617,
    "start_time": "2021-11-22T09:44:27.853Z"
   },
   {
    "duration": 97,
    "start_time": "2021-11-22T09:44:29.473Z"
   },
   {
    "duration": 132,
    "start_time": "2021-11-22T09:44:29.572Z"
   },
   {
    "duration": 14,
    "start_time": "2021-11-22T09:44:29.706Z"
   },
   {
    "duration": 3,
    "start_time": "2021-11-22T09:44:29.722Z"
   },
   {
    "duration": 25,
    "start_time": "2021-11-22T09:44:29.727Z"
   },
   {
    "duration": 13,
    "start_time": "2021-11-22T09:44:29.753Z"
   },
   {
    "duration": 17,
    "start_time": "2021-11-22T09:44:29.768Z"
   },
   {
    "duration": 18,
    "start_time": "2021-11-22T09:44:29.787Z"
   },
   {
    "duration": 132,
    "start_time": "2021-11-22T09:44:29.807Z"
   },
   {
    "duration": 86,
    "start_time": "2021-11-22T09:44:29.945Z"
   },
   {
    "duration": 115,
    "start_time": "2021-11-22T09:44:30.033Z"
   },
   {
    "duration": 30,
    "start_time": "2021-11-22T09:44:30.150Z"
   },
   {
    "duration": 21,
    "start_time": "2021-11-22T09:44:30.182Z"
   },
   {
    "duration": 45,
    "start_time": "2021-11-22T09:44:30.205Z"
   },
   {
    "duration": 37,
    "start_time": "2021-11-22T09:44:30.252Z"
   },
   {
    "duration": 32,
    "start_time": "2021-11-22T09:44:30.291Z"
   },
   {
    "duration": 31,
    "start_time": "2021-11-22T09:44:30.325Z"
   },
   {
    "duration": 411,
    "start_time": "2021-11-22T09:44:30.358Z"
   },
   {
    "duration": 41,
    "start_time": "2021-11-22T09:44:30.771Z"
   },
   {
    "duration": 8,
    "start_time": "2021-11-22T09:44:30.814Z"
   },
   {
    "duration": 24,
    "start_time": "2021-11-22T09:44:30.823Z"
   },
   {
    "duration": 33,
    "start_time": "2021-11-22T09:44:30.851Z"
   },
   {
    "duration": 24,
    "start_time": "2021-11-22T09:44:30.886Z"
   },
   {
    "duration": 215,
    "start_time": "2021-11-22T09:44:30.912Z"
   },
   {
    "duration": 69,
    "start_time": "2021-11-22T09:44:31.129Z"
   },
   {
    "duration": 4,
    "start_time": "2021-11-22T09:44:31.200Z"
   },
   {
    "duration": 25,
    "start_time": "2021-11-22T09:44:31.206Z"
   },
   {
    "duration": 56,
    "start_time": "2021-11-22T09:44:31.233Z"
   },
   {
    "duration": 209,
    "start_time": "2021-11-22T09:44:31.291Z"
   },
   {
    "duration": 6,
    "start_time": "2021-11-22T09:44:31.502Z"
   },
   {
    "duration": 8,
    "start_time": "2021-11-22T09:44:31.510Z"
   },
   {
    "duration": 8,
    "start_time": "2021-11-22T09:44:31.519Z"
   },
   {
    "duration": 15,
    "start_time": "2021-11-22T09:44:31.529Z"
   },
   {
    "duration": 2459,
    "start_time": "2021-11-22T09:44:31.547Z"
   },
   {
    "duration": -28,
    "start_time": "2021-11-22T09:44:34.036Z"
   },
   {
    "duration": -31,
    "start_time": "2021-11-22T09:44:34.041Z"
   },
   {
    "duration": -36,
    "start_time": "2021-11-22T09:44:34.047Z"
   },
   {
    "duration": -40,
    "start_time": "2021-11-22T09:44:34.052Z"
   },
   {
    "duration": -45,
    "start_time": "2021-11-22T09:44:34.058Z"
   },
   {
    "duration": -48,
    "start_time": "2021-11-22T09:44:34.062Z"
   },
   {
    "duration": -50,
    "start_time": "2021-11-22T09:44:34.066Z"
   },
   {
    "duration": -53,
    "start_time": "2021-11-22T09:44:34.070Z"
   },
   {
    "duration": -56,
    "start_time": "2021-11-22T09:44:34.074Z"
   },
   {
    "duration": 1575,
    "start_time": "2021-11-22T09:45:06.410Z"
   },
   {
    "duration": 90,
    "start_time": "2021-11-22T09:45:07.988Z"
   },
   {
    "duration": 132,
    "start_time": "2021-11-22T09:45:08.080Z"
   },
   {
    "duration": 18,
    "start_time": "2021-11-22T09:45:08.214Z"
   },
   {
    "duration": 4,
    "start_time": "2021-11-22T09:45:08.234Z"
   },
   {
    "duration": 19,
    "start_time": "2021-11-22T09:45:08.244Z"
   },
   {
    "duration": 18,
    "start_time": "2021-11-22T09:45:08.265Z"
   },
   {
    "duration": 18,
    "start_time": "2021-11-22T09:45:08.287Z"
   },
   {
    "duration": 52,
    "start_time": "2021-11-22T09:45:08.307Z"
   },
   {
    "duration": 113,
    "start_time": "2021-11-22T09:45:08.361Z"
   },
   {
    "duration": 92,
    "start_time": "2021-11-22T09:45:08.475Z"
   },
   {
    "duration": 101,
    "start_time": "2021-11-22T09:45:08.569Z"
   },
   {
    "duration": 30,
    "start_time": "2021-11-22T09:45:08.672Z"
   },
   {
    "duration": 22,
    "start_time": "2021-11-22T09:45:08.704Z"
   },
   {
    "duration": 22,
    "start_time": "2021-11-22T09:45:08.745Z"
   },
   {
    "duration": 38,
    "start_time": "2021-11-22T09:45:08.768Z"
   },
   {
    "duration": 49,
    "start_time": "2021-11-22T09:45:08.808Z"
   },
   {
    "duration": 7,
    "start_time": "2021-11-22T09:45:08.858Z"
   },
   {
    "duration": 404,
    "start_time": "2021-11-22T09:45:08.867Z"
   },
   {
    "duration": 38,
    "start_time": "2021-11-22T09:45:09.273Z"
   },
   {
    "duration": 7,
    "start_time": "2021-11-22T09:45:09.313Z"
   },
   {
    "duration": 29,
    "start_time": "2021-11-22T09:45:09.322Z"
   },
   {
    "duration": 35,
    "start_time": "2021-11-22T09:45:09.355Z"
   },
   {
    "duration": 25,
    "start_time": "2021-11-22T09:45:09.392Z"
   },
   {
    "duration": 219,
    "start_time": "2021-11-22T09:45:09.418Z"
   },
   {
    "duration": 67,
    "start_time": "2021-11-22T09:45:09.639Z"
   },
   {
    "duration": 5,
    "start_time": "2021-11-22T09:45:09.708Z"
   },
   {
    "duration": 13,
    "start_time": "2021-11-22T09:45:09.714Z"
   },
   {
    "duration": 22,
    "start_time": "2021-11-22T09:45:09.729Z"
   },
   {
    "duration": 210,
    "start_time": "2021-11-22T09:45:09.753Z"
   },
   {
    "duration": 7,
    "start_time": "2021-11-22T09:45:09.965Z"
   },
   {
    "duration": 7,
    "start_time": "2021-11-22T09:45:09.974Z"
   },
   {
    "duration": 6,
    "start_time": "2021-11-22T09:45:09.983Z"
   },
   {
    "duration": 6,
    "start_time": "2021-11-22T09:45:09.991Z"
   },
   {
    "duration": 11,
    "start_time": "2021-11-22T09:45:09.998Z"
   },
   {
    "duration": 7,
    "start_time": "2021-11-22T09:45:10.011Z"
   },
   {
    "duration": 377,
    "start_time": "2021-11-22T09:45:10.045Z"
   },
   {
    "duration": 5,
    "start_time": "2021-11-22T09:45:10.419Z"
   },
   {
    "duration": -2,
    "start_time": "2021-11-22T09:45:10.427Z"
   },
   {
    "duration": -6,
    "start_time": "2021-11-22T09:45:10.433Z"
   },
   {
    "duration": -11,
    "start_time": "2021-11-22T09:45:10.439Z"
   },
   {
    "duration": -14,
    "start_time": "2021-11-22T09:45:10.443Z"
   },
   {
    "duration": -19,
    "start_time": "2021-11-22T09:45:10.449Z"
   },
   {
    "duration": -22,
    "start_time": "2021-11-22T09:45:10.453Z"
   },
   {
    "duration": 256,
    "start_time": "2021-11-22T09:45:34.361Z"
   },
   {
    "duration": 283,
    "start_time": "2021-11-22T09:45:41.386Z"
   },
   {
    "duration": 5,
    "start_time": "2021-11-22T09:46:08.687Z"
   },
   {
    "duration": 7,
    "start_time": "2021-11-22T09:47:47.658Z"
   },
   {
    "duration": 7,
    "start_time": "2021-11-22T09:56:18.103Z"
   },
   {
    "duration": 1683,
    "start_time": "2021-11-22T09:56:27.615Z"
   },
   {
    "duration": 130,
    "start_time": "2021-11-22T09:56:29.300Z"
   },
   {
    "duration": 133,
    "start_time": "2021-11-22T09:56:29.432Z"
   },
   {
    "duration": 15,
    "start_time": "2021-11-22T09:56:29.568Z"
   },
   {
    "duration": 4,
    "start_time": "2021-11-22T09:56:29.585Z"
   },
   {
    "duration": 19,
    "start_time": "2021-11-22T09:56:29.591Z"
   },
   {
    "duration": 44,
    "start_time": "2021-11-22T09:56:29.612Z"
   },
   {
    "duration": 18,
    "start_time": "2021-11-22T09:56:29.660Z"
   },
   {
    "duration": 21,
    "start_time": "2021-11-22T09:56:29.681Z"
   },
   {
    "duration": 137,
    "start_time": "2021-11-22T09:56:29.704Z"
   },
   {
    "duration": 81,
    "start_time": "2021-11-22T09:56:29.845Z"
   },
   {
    "duration": 115,
    "start_time": "2021-11-22T09:56:29.929Z"
   },
   {
    "duration": 33,
    "start_time": "2021-11-22T09:56:30.047Z"
   },
   {
    "duration": 24,
    "start_time": "2021-11-22T09:56:30.082Z"
   },
   {
    "duration": 51,
    "start_time": "2021-11-22T09:56:30.108Z"
   },
   {
    "duration": 35,
    "start_time": "2021-11-22T09:56:30.161Z"
   },
   {
    "duration": 47,
    "start_time": "2021-11-22T09:56:30.198Z"
   },
   {
    "duration": 3,
    "start_time": "2021-11-22T09:56:30.247Z"
   },
   {
    "duration": 413,
    "start_time": "2021-11-22T09:56:30.252Z"
   },
   {
    "duration": 37,
    "start_time": "2021-11-22T09:56:30.667Z"
   },
   {
    "duration": 12,
    "start_time": "2021-11-22T09:56:30.706Z"
   },
   {
    "duration": 33,
    "start_time": "2021-11-22T09:56:30.720Z"
   },
   {
    "duration": 61,
    "start_time": "2021-11-22T09:56:30.757Z"
   },
   {
    "duration": 25,
    "start_time": "2021-11-22T09:56:30.820Z"
   },
   {
    "duration": 183,
    "start_time": "2021-11-22T09:56:30.847Z"
   },
   {
    "duration": 66,
    "start_time": "2021-11-22T09:56:31.032Z"
   },
   {
    "duration": 4,
    "start_time": "2021-11-22T09:56:31.100Z"
   },
   {
    "duration": 15,
    "start_time": "2021-11-22T09:56:31.106Z"
   },
   {
    "duration": 24,
    "start_time": "2021-11-22T09:56:31.122Z"
   },
   {
    "duration": 194,
    "start_time": "2021-11-22T09:56:31.148Z"
   },
   {
    "duration": 6,
    "start_time": "2021-11-22T09:56:31.344Z"
   },
   {
    "duration": 24,
    "start_time": "2021-11-22T09:56:31.352Z"
   },
   {
    "duration": 23,
    "start_time": "2021-11-22T09:56:31.377Z"
   },
   {
    "duration": 13,
    "start_time": "2021-11-22T09:56:31.402Z"
   },
   {
    "duration": 19,
    "start_time": "2021-11-22T09:56:31.417Z"
   },
   {
    "duration": 30,
    "start_time": "2021-11-22T09:56:31.437Z"
   },
   {
    "duration": 230,
    "start_time": "2021-11-22T09:56:31.468Z"
   },
   {
    "duration": 7,
    "start_time": "2021-11-22T09:56:31.700Z"
   },
   {
    "duration": 13,
    "start_time": "2021-11-22T09:56:31.708Z"
   },
   {
    "duration": 49,
    "start_time": "2021-11-22T09:56:31.723Z"
   },
   {
    "duration": 41,
    "start_time": "2021-11-22T09:56:31.774Z"
   },
   {
    "duration": 64,
    "start_time": "2021-11-22T09:56:31.817Z"
   },
   {
    "duration": 63,
    "start_time": "2021-11-22T09:56:31.883Z"
   },
   {
    "duration": 1346,
    "start_time": "2021-11-23T05:17:58.280Z"
   },
   {
    "duration": 64,
    "start_time": "2021-11-23T05:17:59.628Z"
   },
   {
    "duration": 122,
    "start_time": "2021-11-23T05:17:59.694Z"
   },
   {
    "duration": 13,
    "start_time": "2021-11-23T05:17:59.818Z"
   },
   {
    "duration": 3,
    "start_time": "2021-11-23T05:17:59.833Z"
   },
   {
    "duration": 19,
    "start_time": "2021-11-23T05:17:59.838Z"
   },
   {
    "duration": 34,
    "start_time": "2021-11-23T05:17:59.858Z"
   },
   {
    "duration": 15,
    "start_time": "2021-11-23T05:17:59.894Z"
   },
   {
    "duration": 20,
    "start_time": "2021-11-23T05:17:59.911Z"
   },
   {
    "duration": 114,
    "start_time": "2021-11-23T05:17:59.933Z"
   },
   {
    "duration": 93,
    "start_time": "2021-11-23T05:18:00.048Z"
   },
   {
    "duration": 97,
    "start_time": "2021-11-23T05:18:00.142Z"
   },
   {
    "duration": 27,
    "start_time": "2021-11-23T05:18:00.241Z"
   },
   {
    "duration": 38,
    "start_time": "2021-11-23T05:18:00.269Z"
   },
   {
    "duration": 19,
    "start_time": "2021-11-23T05:18:00.308Z"
   },
   {
    "duration": 32,
    "start_time": "2021-11-23T05:18:00.329Z"
   },
   {
    "duration": 47,
    "start_time": "2021-11-23T05:18:00.362Z"
   },
   {
    "duration": 5,
    "start_time": "2021-11-23T05:18:00.411Z"
   },
   {
    "duration": 384,
    "start_time": "2021-11-23T05:18:00.418Z"
   },
   {
    "duration": 36,
    "start_time": "2021-11-23T05:18:00.803Z"
   },
   {
    "duration": 7,
    "start_time": "2021-11-23T05:18:00.840Z"
   },
   {
    "duration": 6,
    "start_time": "2021-11-23T05:18:00.849Z"
   },
   {
    "duration": 58,
    "start_time": "2021-11-23T05:18:00.858Z"
   },
   {
    "duration": 23,
    "start_time": "2021-11-23T05:18:00.918Z"
   },
   {
    "duration": 199,
    "start_time": "2021-11-23T05:18:00.942Z"
   },
   {
    "duration": 60,
    "start_time": "2021-11-23T05:18:01.143Z"
   },
   {
    "duration": 3,
    "start_time": "2021-11-23T05:18:01.205Z"
   },
   {
    "duration": 14,
    "start_time": "2021-11-23T05:18:01.210Z"
   },
   {
    "duration": 21,
    "start_time": "2021-11-23T05:18:01.225Z"
   },
   {
    "duration": 187,
    "start_time": "2021-11-23T05:18:01.247Z"
   },
   {
    "duration": 6,
    "start_time": "2021-11-23T05:18:01.436Z"
   },
   {
    "duration": 16,
    "start_time": "2021-11-23T05:18:01.443Z"
   },
   {
    "duration": 8,
    "start_time": "2021-11-23T05:18:01.461Z"
   },
   {
    "duration": 10,
    "start_time": "2021-11-23T05:18:01.470Z"
   },
   {
    "duration": 11,
    "start_time": "2021-11-23T05:18:01.482Z"
   },
   {
    "duration": 222,
    "start_time": "2021-11-23T05:18:01.495Z"
   },
   {
    "duration": 7,
    "start_time": "2021-11-23T05:18:01.718Z"
   },
   {
    "duration": 7,
    "start_time": "2021-11-23T05:18:01.726Z"
   },
   {
    "duration": 60,
    "start_time": "2021-11-23T05:18:01.734Z"
   },
   {
    "duration": 37,
    "start_time": "2021-11-23T05:18:01.795Z"
   },
   {
    "duration": 58,
    "start_time": "2021-11-23T05:18:01.834Z"
   },
   {
    "duration": 42,
    "start_time": "2021-11-23T05:18:01.894Z"
   },
   {
    "duration": 62,
    "start_time": "2021-11-23T05:18:01.937Z"
   },
   {
    "duration": 39,
    "start_time": "2021-11-23T05:18:02.001Z"
   },
   {
    "duration": 67,
    "start_time": "2021-11-23T05:18:02.042Z"
   },
   {
    "duration": 38,
    "start_time": "2021-11-23T05:18:02.110Z"
   },
   {
    "duration": 1945,
    "start_time": "2021-11-23T06:37:59.781Z"
   },
   {
    "duration": 59,
    "start_time": "2021-11-23T06:38:01.728Z"
   },
   {
    "duration": 122,
    "start_time": "2021-11-23T06:38:01.789Z"
   },
   {
    "duration": 15,
    "start_time": "2021-11-23T06:38:01.913Z"
   },
   {
    "duration": 15,
    "start_time": "2021-11-23T06:38:01.930Z"
   },
   {
    "duration": 28,
    "start_time": "2021-11-23T06:38:01.946Z"
   },
   {
    "duration": 30,
    "start_time": "2021-11-23T06:38:01.977Z"
   },
   {
    "duration": 29,
    "start_time": "2021-11-23T06:38:02.009Z"
   },
   {
    "duration": 39,
    "start_time": "2021-11-23T06:38:02.040Z"
   },
   {
    "duration": 99,
    "start_time": "2021-11-23T06:38:02.080Z"
   },
   {
    "duration": 80,
    "start_time": "2021-11-23T06:38:02.180Z"
   },
   {
    "duration": 103,
    "start_time": "2021-11-23T06:38:02.261Z"
   },
   {
    "duration": 34,
    "start_time": "2021-11-23T06:38:02.365Z"
   },
   {
    "duration": 22,
    "start_time": "2021-11-23T06:38:02.401Z"
   },
   {
    "duration": 20,
    "start_time": "2021-11-23T06:38:02.424Z"
   },
   {
    "duration": 52,
    "start_time": "2021-11-23T06:38:02.445Z"
   },
   {
    "duration": 41,
    "start_time": "2021-11-23T06:38:02.499Z"
   },
   {
    "duration": 17,
    "start_time": "2021-11-23T06:38:02.542Z"
   },
   {
    "duration": 386,
    "start_time": "2021-11-23T06:38:02.561Z"
   },
   {
    "duration": 43,
    "start_time": "2021-11-23T06:38:02.949Z"
   },
   {
    "duration": 7,
    "start_time": "2021-11-23T06:38:02.994Z"
   },
   {
    "duration": 6,
    "start_time": "2021-11-23T06:38:03.003Z"
   },
   {
    "duration": 29,
    "start_time": "2021-11-23T06:38:03.013Z"
   },
   {
    "duration": 48,
    "start_time": "2021-11-23T06:38:03.044Z"
   },
   {
    "duration": 186,
    "start_time": "2021-11-23T06:38:03.094Z"
   },
   {
    "duration": 55,
    "start_time": "2021-11-23T06:38:03.282Z"
   },
   {
    "duration": 4,
    "start_time": "2021-11-23T06:38:03.339Z"
   },
   {
    "duration": 13,
    "start_time": "2021-11-23T06:38:03.344Z"
   },
   {
    "duration": 35,
    "start_time": "2021-11-23T06:38:03.358Z"
   },
   {
    "duration": 190,
    "start_time": "2021-11-23T06:38:03.394Z"
   },
   {
    "duration": 6,
    "start_time": "2021-11-23T06:38:03.586Z"
   },
   {
    "duration": 6,
    "start_time": "2021-11-23T06:38:03.594Z"
   },
   {
    "duration": 7,
    "start_time": "2021-11-23T06:38:03.602Z"
   },
   {
    "duration": 5,
    "start_time": "2021-11-23T06:38:03.611Z"
   },
   {
    "duration": 12,
    "start_time": "2021-11-23T06:38:03.617Z"
   },
   {
    "duration": 215,
    "start_time": "2021-11-23T06:38:03.631Z"
   },
   {
    "duration": 6,
    "start_time": "2021-11-23T06:38:03.848Z"
   },
   {
    "duration": 7,
    "start_time": "2021-11-23T06:38:03.856Z"
   },
   {
    "duration": 54,
    "start_time": "2021-11-23T06:38:03.864Z"
   },
   {
    "duration": 36,
    "start_time": "2021-11-23T06:38:03.920Z"
   },
   {
    "duration": 58,
    "start_time": "2021-11-23T06:38:03.958Z"
   },
   {
    "duration": 36,
    "start_time": "2021-11-23T06:38:04.017Z"
   },
   {
    "duration": 65,
    "start_time": "2021-11-23T06:38:04.055Z"
   },
   {
    "duration": 39,
    "start_time": "2021-11-23T06:38:04.121Z"
   },
   {
    "duration": 62,
    "start_time": "2021-11-23T06:38:04.162Z"
   },
   {
    "duration": 38,
    "start_time": "2021-11-23T06:38:04.226Z"
   },
   {
    "duration": 1642,
    "start_time": "2022-03-24T15:21:37.606Z"
   },
   {
    "duration": 98,
    "start_time": "2022-03-24T15:21:39.251Z"
   },
   {
    "duration": 203,
    "start_time": "2022-03-24T15:21:39.352Z"
   },
   {
    "duration": 29,
    "start_time": "2022-03-24T15:21:39.558Z"
   },
   {
    "duration": 6,
    "start_time": "2022-03-24T15:21:39.590Z"
   },
   {
    "duration": 33,
    "start_time": "2022-03-24T15:21:39.598Z"
   },
   {
    "duration": 42,
    "start_time": "2022-03-24T15:21:39.634Z"
   },
   {
    "duration": 30,
    "start_time": "2022-03-24T15:21:39.678Z"
   },
   {
    "duration": 40,
    "start_time": "2022-03-24T15:21:39.711Z"
   },
   {
    "duration": 148,
    "start_time": "2022-03-24T15:21:39.755Z"
   },
   {
    "duration": 151,
    "start_time": "2022-03-24T15:21:39.905Z"
   },
   {
    "duration": 162,
    "start_time": "2022-03-24T15:21:40.058Z"
   },
   {
    "duration": 84,
    "start_time": "2022-03-24T15:21:40.222Z"
   },
   {
    "duration": 29,
    "start_time": "2022-03-24T15:21:40.308Z"
   },
   {
    "duration": 48,
    "start_time": "2022-03-24T15:21:40.340Z"
   },
   {
    "duration": 47,
    "start_time": "2022-03-24T15:21:40.391Z"
   },
   {
    "duration": 58,
    "start_time": "2022-03-24T15:21:40.441Z"
   },
   {
    "duration": 14,
    "start_time": "2022-03-24T15:21:40.501Z"
   },
   {
    "duration": 501,
    "start_time": "2022-03-24T15:21:40.517Z"
   },
   {
    "duration": 46,
    "start_time": "2022-03-24T15:21:41.020Z"
   },
   {
    "duration": 18,
    "start_time": "2022-03-24T15:21:41.083Z"
   },
   {
    "duration": 9,
    "start_time": "2022-03-24T15:21:41.103Z"
   },
   {
    "duration": 84,
    "start_time": "2022-03-24T15:21:41.115Z"
   },
   {
    "duration": 38,
    "start_time": "2022-03-24T15:21:41.202Z"
   },
   {
    "duration": 289,
    "start_time": "2022-03-24T15:21:41.243Z"
   },
   {
    "duration": 99,
    "start_time": "2022-03-24T15:21:41.534Z"
   },
   {
    "duration": 6,
    "start_time": "2022-03-24T15:21:41.635Z"
   },
   {
    "duration": 38,
    "start_time": "2022-03-24T15:21:41.646Z"
   },
   {
    "duration": 16,
    "start_time": "2022-03-24T15:21:41.686Z"
   },
   {
    "duration": 262,
    "start_time": "2022-03-24T15:21:41.704Z"
   },
   {
    "duration": 16,
    "start_time": "2022-03-24T15:21:41.968Z"
   },
   {
    "duration": 13,
    "start_time": "2022-03-24T15:21:41.986Z"
   },
   {
    "duration": 18,
    "start_time": "2022-03-24T15:21:42.001Z"
   },
   {
    "duration": 27,
    "start_time": "2022-03-24T15:21:42.021Z"
   },
   {
    "duration": 19,
    "start_time": "2022-03-24T15:21:42.050Z"
   },
   {
    "duration": 123,
    "start_time": "2022-03-24T15:21:42.071Z"
   },
   {
    "duration": 11,
    "start_time": "2022-03-24T15:21:42.196Z"
   },
   {
    "duration": 27,
    "start_time": "2022-03-24T15:21:42.209Z"
   },
   {
    "duration": 91,
    "start_time": "2022-03-24T15:21:42.238Z"
   },
   {
    "duration": 76,
    "start_time": "2022-03-24T15:21:42.331Z"
   },
   {
    "duration": 90,
    "start_time": "2022-03-24T15:21:42.410Z"
   },
   {
    "duration": 88,
    "start_time": "2022-03-24T15:21:42.502Z"
   },
   {
    "duration": 93,
    "start_time": "2022-03-24T15:21:42.593Z"
   },
   {
    "duration": 78,
    "start_time": "2022-03-24T15:21:42.688Z"
   },
   {
    "duration": 77,
    "start_time": "2022-03-24T15:21:42.769Z"
   },
   {
    "duration": 94,
    "start_time": "2022-03-24T15:21:42.848Z"
   }
  ],
  "kernelspec": {
   "display_name": "Python 3 (ipykernel)",
   "language": "python",
   "name": "python3"
  },
  "language_info": {
   "codemirror_mode": {
    "name": "ipython",
    "version": 3
   },
   "file_extension": ".py",
   "mimetype": "text/x-python",
   "name": "python",
   "nbconvert_exporter": "python",
   "pygments_lexer": "ipython3",
   "version": "3.9.5"
  },
  "toc": {
   "base_numbering": 1,
   "nav_menu": {},
   "number_sections": true,
   "sideBar": true,
   "skip_h1_title": true,
   "title_cell": "Содержание проекта",
   "title_sidebar": "Contents",
   "toc_cell": true,
   "toc_position": {},
   "toc_section_display": true,
   "toc_window_display": false
  }
 },
 "nbformat": 4,
 "nbformat_minor": 2
}
