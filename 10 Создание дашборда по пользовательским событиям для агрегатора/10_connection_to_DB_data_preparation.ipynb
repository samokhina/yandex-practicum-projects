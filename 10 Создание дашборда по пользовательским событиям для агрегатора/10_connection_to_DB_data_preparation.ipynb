{
 "cells": [
  {
   "cell_type": "markdown",
   "metadata": {},
   "source": [
    "# Подготовка файла с данными для создания дашборда"
   ]
  },
  {
   "cell_type": "markdown",
   "metadata": {},
   "source": [
    "`Задача`: получить и подготовить данные для создания дашборда взаимодействия пользователей с карточками статей Яндекс.Дзен.  \n",
    "\n",
    "Состав данных для дашборда:  \n",
    "- История событий по темам карточек (два графика - абсолютные числа и процентное соотношение);  \n",
    "- Разбивка событий по темам источников;  \n",
    "- Таблица соответствия тем источников темам карточек;"
   ]
  },
  {
   "cell_type": "markdown",
   "metadata": {},
   "source": [
    "## Подключение к базе данных, запрос данных"
   ]
  },
  {
   "cell_type": "code",
   "execution_count": 1,
   "metadata": {},
   "outputs": [
    {
     "data": {
      "text/html": [
       "<div>\n",
       "<style scoped>\n",
       "    .dataframe tbody tr th:only-of-type {\n",
       "        vertical-align: middle;\n",
       "    }\n",
       "\n",
       "    .dataframe tbody tr th {\n",
       "        vertical-align: top;\n",
       "    }\n",
       "\n",
       "    .dataframe thead th {\n",
       "        text-align: right;\n",
       "    }\n",
       "</style>\n",
       "<table border=\"1\" class=\"dataframe\">\n",
       "  <thead>\n",
       "    <tr style=\"text-align: right;\">\n",
       "      <th></th>\n",
       "      <th>record_id</th>\n",
       "      <th>item_topic</th>\n",
       "      <th>source_topic</th>\n",
       "      <th>age_segment</th>\n",
       "      <th>dt</th>\n",
       "      <th>visits</th>\n",
       "    </tr>\n",
       "  </thead>\n",
       "  <tbody>\n",
       "    <tr>\n",
       "      <th>0</th>\n",
       "      <td>1040597</td>\n",
       "      <td>Деньги</td>\n",
       "      <td>Авто</td>\n",
       "      <td>18-25</td>\n",
       "      <td>2019-09-24 18:32:00</td>\n",
       "      <td>3</td>\n",
       "    </tr>\n",
       "    <tr>\n",
       "      <th>1</th>\n",
       "      <td>1040598</td>\n",
       "      <td>Деньги</td>\n",
       "      <td>Авто</td>\n",
       "      <td>18-25</td>\n",
       "      <td>2019-09-24 18:35:00</td>\n",
       "      <td>1</td>\n",
       "    </tr>\n",
       "    <tr>\n",
       "      <th>2</th>\n",
       "      <td>1040599</td>\n",
       "      <td>Деньги</td>\n",
       "      <td>Авто</td>\n",
       "      <td>18-25</td>\n",
       "      <td>2019-09-24 18:54:00</td>\n",
       "      <td>4</td>\n",
       "    </tr>\n",
       "    <tr>\n",
       "      <th>3</th>\n",
       "      <td>1040600</td>\n",
       "      <td>Деньги</td>\n",
       "      <td>Авто</td>\n",
       "      <td>18-25</td>\n",
       "      <td>2019-09-24 18:55:00</td>\n",
       "      <td>17</td>\n",
       "    </tr>\n",
       "    <tr>\n",
       "      <th>4</th>\n",
       "      <td>1040601</td>\n",
       "      <td>Деньги</td>\n",
       "      <td>Авто</td>\n",
       "      <td>18-25</td>\n",
       "      <td>2019-09-24 18:56:00</td>\n",
       "      <td>27</td>\n",
       "    </tr>\n",
       "    <tr>\n",
       "      <th>...</th>\n",
       "      <td>...</td>\n",
       "      <td>...</td>\n",
       "      <td>...</td>\n",
       "      <td>...</td>\n",
       "      <td>...</td>\n",
       "      <td>...</td>\n",
       "    </tr>\n",
       "    <tr>\n",
       "      <th>30740</th>\n",
       "      <td>1071337</td>\n",
       "      <td>Юмор</td>\n",
       "      <td>Финансы</td>\n",
       "      <td>36-40</td>\n",
       "      <td>2019-09-24 18:57:00</td>\n",
       "      <td>2</td>\n",
       "    </tr>\n",
       "    <tr>\n",
       "      <th>30741</th>\n",
       "      <td>1071338</td>\n",
       "      <td>Юмор</td>\n",
       "      <td>Финансы</td>\n",
       "      <td>36-40</td>\n",
       "      <td>2019-09-24 19:00:00</td>\n",
       "      <td>1</td>\n",
       "    </tr>\n",
       "    <tr>\n",
       "      <th>30742</th>\n",
       "      <td>1071339</td>\n",
       "      <td>Юмор</td>\n",
       "      <td>Финансы</td>\n",
       "      <td>41-45</td>\n",
       "      <td>2019-09-24 18:54:00</td>\n",
       "      <td>1</td>\n",
       "    </tr>\n",
       "    <tr>\n",
       "      <th>30743</th>\n",
       "      <td>1071340</td>\n",
       "      <td>Юмор</td>\n",
       "      <td>Финансы</td>\n",
       "      <td>41-45</td>\n",
       "      <td>2019-09-24 18:56:00</td>\n",
       "      <td>1</td>\n",
       "    </tr>\n",
       "    <tr>\n",
       "      <th>30744</th>\n",
       "      <td>1071341</td>\n",
       "      <td>Юмор</td>\n",
       "      <td>Финансы</td>\n",
       "      <td>41-45</td>\n",
       "      <td>2019-09-24 19:00:00</td>\n",
       "      <td>1</td>\n",
       "    </tr>\n",
       "  </tbody>\n",
       "</table>\n",
       "<p>30745 rows × 6 columns</p>\n",
       "</div>"
      ],
      "text/plain": [
       "       record_id item_topic source_topic age_segment                  dt  \\\n",
       "0        1040597     Деньги         Авто       18-25 2019-09-24 18:32:00   \n",
       "1        1040598     Деньги         Авто       18-25 2019-09-24 18:35:00   \n",
       "2        1040599     Деньги         Авто       18-25 2019-09-24 18:54:00   \n",
       "3        1040600     Деньги         Авто       18-25 2019-09-24 18:55:00   \n",
       "4        1040601     Деньги         Авто       18-25 2019-09-24 18:56:00   \n",
       "...          ...        ...          ...         ...                 ...   \n",
       "30740    1071337       Юмор      Финансы       36-40 2019-09-24 18:57:00   \n",
       "30741    1071338       Юмор      Финансы       36-40 2019-09-24 19:00:00   \n",
       "30742    1071339       Юмор      Финансы       41-45 2019-09-24 18:54:00   \n",
       "30743    1071340       Юмор      Финансы       41-45 2019-09-24 18:56:00   \n",
       "30744    1071341       Юмор      Финансы       41-45 2019-09-24 19:00:00   \n",
       "\n",
       "       visits  \n",
       "0           3  \n",
       "1           1  \n",
       "2           4  \n",
       "3          17  \n",
       "4          27  \n",
       "...       ...  \n",
       "30740       2  \n",
       "30741       1  \n",
       "30742       1  \n",
       "30743       1  \n",
       "30744       1  \n",
       "\n",
       "[30745 rows x 6 columns]"
      ]
     },
     "execution_count": 1,
     "metadata": {},
     "output_type": "execute_result"
    }
   ],
   "source": [
    "import pandas as pd\n",
    "from sqlalchemy import create_engine\n",
    "\n",
    "\n",
    "db_config = {'user': 'xxx', # имя пользователя\n",
    "            'pwd': 'xxx', # пароль\n",
    "            'host': 'xxx.yandexcloud.net',\n",
    "            'port': 6666, # порт подключения\n",
    "            'db': 'xxx'} # название базы данных\n",
    "\n",
    "connection_string = 'postgresql://{}:{}@{}:{}/{}'.format(db_config['user'],\n",
    "                                                db_config['pwd'],\n",
    "                                                db_config['host'],\n",
    "                                                db_config['port'],\n",
    "                                                db_config['db'])\n",
    "\n",
    "engine = create_engine(connection_string)\n",
    "\n",
    "query = ''' SELECT *\n",
    "            FROM dash_visits\n",
    "        '''\n",
    "\n",
    "\n",
    "dash_visits = pd.io.sql.read_sql(query, con = engine) \n",
    "\n",
    "dash_visits"
   ]
  },
  {
   "cell_type": "markdown",
   "metadata": {},
   "source": [
    "## Обработка полученых данных для последующего создания дашборда на их основе"
   ]
  },
  {
   "cell_type": "code",
   "execution_count": 2,
   "metadata": {},
   "outputs": [
    {
     "data": {
      "text/plain": [
       "array(['Деньги', 'Дети', 'Женская психология', 'Женщины', 'Здоровье',\n",
       "       'Знаменитости', 'Интересные факты', 'Искусство', 'История',\n",
       "       'Красота', 'Культура', 'Наука', 'Общество', 'Отношения',\n",
       "       'Подборки', 'Полезные советы', 'Психология', 'Путешествия',\n",
       "       'Рассказы', 'Россия', 'Семья', 'Скандалы', 'Туризм', 'Шоу', 'Юмор'],\n",
       "      dtype=object)"
      ]
     },
     "execution_count": 2,
     "metadata": {},
     "output_type": "execute_result"
    }
   ],
   "source": [
    "dash_visits['item_topic'].unique()"
   ]
  },
  {
   "cell_type": "code",
   "execution_count": 3,
   "metadata": {},
   "outputs": [
    {
     "data": {
      "text/plain": [
       "array(['Авто', 'Деньги', 'Дети', 'Еда', 'Здоровье', 'Знаменитости',\n",
       "       'Интерьеры', 'Искусство', 'История', 'Кино', 'Музыка', 'Одежда',\n",
       "       'Полезные советы', 'Политика', 'Психология', 'Путешествия',\n",
       "       'Ремонт', 'Россия', 'Сад и дача', 'Сделай сам',\n",
       "       'Семейные отношения', 'Семья', 'Спорт', 'Строительство',\n",
       "       'Технологии', 'Финансы'], dtype=object)"
      ]
     },
     "execution_count": 3,
     "metadata": {},
     "output_type": "execute_result"
    }
   ],
   "source": [
    "dash_visits['source_topic'].unique()"
   ]
  },
  {
   "cell_type": "code",
   "execution_count": 4,
   "metadata": {},
   "outputs": [],
   "source": [
    "dash_visits.to_csv('dash_visits.csv')"
   ]
  },
  {
   "cell_type": "code",
   "execution_count": 5,
   "metadata": {},
   "outputs": [
    {
     "name": "stdout",
     "output_type": "stream",
     "text": [
      "<class 'pandas.core.frame.DataFrame'>\n",
      "RangeIndex: 30745 entries, 0 to 30744\n",
      "Data columns (total 6 columns):\n",
      " #   Column        Non-Null Count  Dtype         \n",
      "---  ------        --------------  -----         \n",
      " 0   record_id     30745 non-null  int64         \n",
      " 1   item_topic    30745 non-null  object        \n",
      " 2   source_topic  30745 non-null  object        \n",
      " 3   age_segment   30745 non-null  object        \n",
      " 4   dt            30745 non-null  datetime64[ns]\n",
      " 5   visits        30745 non-null  int64         \n",
      "dtypes: datetime64[ns](1), int64(2), object(3)\n",
      "memory usage: 1.4+ MB\n"
     ]
    }
   ],
   "source": [
    "dash_visits.info()"
   ]
  },
  {
   "cell_type": "code",
   "execution_count": 11,
   "metadata": {
    "scrolled": true
   },
   "outputs": [
    {
     "name": "stderr",
     "output_type": "stream",
     "text": [
      "/tmp/ipykernel_714/2972088052.py:1: FutureWarning: Treating datetime data as categorical rather than numeric in `.describe` is deprecated and will be removed in a future version of pandas. Specify `datetime_is_numeric=True` to silence this warning and adopt the future behavior now.\n",
      "  dash_visits['dt'].describe()\n"
     ]
    },
    {
     "data": {
      "text/plain": [
       "count                   30745\n",
       "unique                     17\n",
       "top       2019-09-24 18:58:00\n",
       "freq                     3383\n",
       "first     2019-09-24 18:28:00\n",
       "last      2019-09-24 19:00:00\n",
       "Name: dt, dtype: object"
      ]
     },
     "execution_count": 11,
     "metadata": {},
     "output_type": "execute_result"
    }
   ],
   "source": [
    "dash_visits['dt'].describe()"
   ]
  },
  {
   "cell_type": "code",
   "execution_count": 7,
   "metadata": {},
   "outputs": [
    {
     "data": {
      "text/html": [
       "<div>\n",
       "<style scoped>\n",
       "    .dataframe tbody tr th:only-of-type {\n",
       "        vertical-align: middle;\n",
       "    }\n",
       "\n",
       "    .dataframe tbody tr th {\n",
       "        vertical-align: top;\n",
       "    }\n",
       "\n",
       "    .dataframe thead th {\n",
       "        text-align: right;\n",
       "    }\n",
       "</style>\n",
       "<table border=\"1\" class=\"dataframe\">\n",
       "  <thead>\n",
       "    <tr style=\"text-align: right;\">\n",
       "      <th></th>\n",
       "      <th>index</th>\n",
       "      <th>item_topic</th>\n",
       "    </tr>\n",
       "  </thead>\n",
       "  <tbody>\n",
       "    <tr>\n",
       "      <th>0</th>\n",
       "      <td>Отношения</td>\n",
       "      <td>1536</td>\n",
       "    </tr>\n",
       "    <tr>\n",
       "      <th>1</th>\n",
       "      <td>Интересные факты</td>\n",
       "      <td>1535</td>\n",
       "    </tr>\n",
       "    <tr>\n",
       "      <th>2</th>\n",
       "      <td>Наука</td>\n",
       "      <td>1505</td>\n",
       "    </tr>\n",
       "    <tr>\n",
       "      <th>3</th>\n",
       "      <td>Подборки</td>\n",
       "      <td>1456</td>\n",
       "    </tr>\n",
       "    <tr>\n",
       "      <th>4</th>\n",
       "      <td>Полезные советы</td>\n",
       "      <td>1424</td>\n",
       "    </tr>\n",
       "    <tr>\n",
       "      <th>5</th>\n",
       "      <td>Общество</td>\n",
       "      <td>1422</td>\n",
       "    </tr>\n",
       "    <tr>\n",
       "      <th>6</th>\n",
       "      <td>Россия</td>\n",
       "      <td>1385</td>\n",
       "    </tr>\n",
       "    <tr>\n",
       "      <th>7</th>\n",
       "      <td>История</td>\n",
       "      <td>1363</td>\n",
       "    </tr>\n",
       "    <tr>\n",
       "      <th>8</th>\n",
       "      <td>Семья</td>\n",
       "      <td>1287</td>\n",
       "    </tr>\n",
       "    <tr>\n",
       "      <th>9</th>\n",
       "      <td>Путешествия</td>\n",
       "      <td>1247</td>\n",
       "    </tr>\n",
       "    <tr>\n",
       "      <th>10</th>\n",
       "      <td>Деньги</td>\n",
       "      <td>1234</td>\n",
       "    </tr>\n",
       "    <tr>\n",
       "      <th>11</th>\n",
       "      <td>Женщины</td>\n",
       "      <td>1230</td>\n",
       "    </tr>\n",
       "    <tr>\n",
       "      <th>12</th>\n",
       "      <td>Дети</td>\n",
       "      <td>1229</td>\n",
       "    </tr>\n",
       "    <tr>\n",
       "      <th>13</th>\n",
       "      <td>Туризм</td>\n",
       "      <td>1206</td>\n",
       "    </tr>\n",
       "    <tr>\n",
       "      <th>14</th>\n",
       "      <td>Здоровье</td>\n",
       "      <td>1203</td>\n",
       "    </tr>\n",
       "    <tr>\n",
       "      <th>15</th>\n",
       "      <td>Красота</td>\n",
       "      <td>1193</td>\n",
       "    </tr>\n",
       "    <tr>\n",
       "      <th>16</th>\n",
       "      <td>Культура</td>\n",
       "      <td>1160</td>\n",
       "    </tr>\n",
       "    <tr>\n",
       "      <th>17</th>\n",
       "      <td>Юмор</td>\n",
       "      <td>1129</td>\n",
       "    </tr>\n",
       "    <tr>\n",
       "      <th>18</th>\n",
       "      <td>Искусство</td>\n",
       "      <td>1119</td>\n",
       "    </tr>\n",
       "    <tr>\n",
       "      <th>19</th>\n",
       "      <td>Рассказы</td>\n",
       "      <td>1109</td>\n",
       "    </tr>\n",
       "    <tr>\n",
       "      <th>20</th>\n",
       "      <td>Психология</td>\n",
       "      <td>1056</td>\n",
       "    </tr>\n",
       "    <tr>\n",
       "      <th>21</th>\n",
       "      <td>Скандалы</td>\n",
       "      <td>1023</td>\n",
       "    </tr>\n",
       "    <tr>\n",
       "      <th>22</th>\n",
       "      <td>Знаменитости</td>\n",
       "      <td>976</td>\n",
       "    </tr>\n",
       "    <tr>\n",
       "      <th>23</th>\n",
       "      <td>Женская психология</td>\n",
       "      <td>914</td>\n",
       "    </tr>\n",
       "    <tr>\n",
       "      <th>24</th>\n",
       "      <td>Шоу</td>\n",
       "      <td>804</td>\n",
       "    </tr>\n",
       "  </tbody>\n",
       "</table>\n",
       "</div>"
      ],
      "text/plain": [
       "                 index  item_topic\n",
       "0            Отношения        1536\n",
       "1     Интересные факты        1535\n",
       "2                Наука        1505\n",
       "3             Подборки        1456\n",
       "4      Полезные советы        1424\n",
       "5             Общество        1422\n",
       "6               Россия        1385\n",
       "7              История        1363\n",
       "8                Семья        1287\n",
       "9          Путешествия        1247\n",
       "10              Деньги        1234\n",
       "11             Женщины        1230\n",
       "12                Дети        1229\n",
       "13              Туризм        1206\n",
       "14            Здоровье        1203\n",
       "15             Красота        1193\n",
       "16            Культура        1160\n",
       "17                Юмор        1129\n",
       "18           Искусство        1119\n",
       "19            Рассказы        1109\n",
       "20          Психология        1056\n",
       "21            Скандалы        1023\n",
       "22        Знаменитости         976\n",
       "23  Женская психология         914\n",
       "24                 Шоу         804"
      ]
     },
     "execution_count": 7,
     "metadata": {},
     "output_type": "execute_result"
    }
   ],
   "source": [
    "dash_visits['item_topic'].value_counts().reset_index()"
   ]
  },
  {
   "cell_type": "code",
   "execution_count": 8,
   "metadata": {},
   "outputs": [],
   "source": [
    "dash_visits_grouped = dash_visits.groupby(['dt', 'item_topic', 'source_topic', 'age_segment']).agg(\n",
    "    {'record_id':'count', 'visits':'sum'}\n",
    ").reset_index()"
   ]
  },
  {
   "cell_type": "code",
   "execution_count": 9,
   "metadata": {
    "scrolled": true
   },
   "outputs": [
    {
     "data": {
      "text/html": [
       "<div>\n",
       "<style scoped>\n",
       "    .dataframe tbody tr th:only-of-type {\n",
       "        vertical-align: middle;\n",
       "    }\n",
       "\n",
       "    .dataframe tbody tr th {\n",
       "        vertical-align: top;\n",
       "    }\n",
       "\n",
       "    .dataframe thead th {\n",
       "        text-align: right;\n",
       "    }\n",
       "</style>\n",
       "<table border=\"1\" class=\"dataframe\">\n",
       "  <thead>\n",
       "    <tr style=\"text-align: right;\">\n",
       "      <th></th>\n",
       "      <th>dt</th>\n",
       "      <th>item_topic</th>\n",
       "      <th>source_topic</th>\n",
       "      <th>age_segment</th>\n",
       "      <th>record_id</th>\n",
       "      <th>visits</th>\n",
       "    </tr>\n",
       "  </thead>\n",
       "  <tbody>\n",
       "    <tr>\n",
       "      <th>24186</th>\n",
       "      <td>2019-09-24 18:58:00</td>\n",
       "      <td>Семья</td>\n",
       "      <td>Сделай сам</td>\n",
       "      <td>18-25</td>\n",
       "      <td>1</td>\n",
       "      <td>39</td>\n",
       "    </tr>\n",
       "    <tr>\n",
       "      <th>11353</th>\n",
       "      <td>2019-09-24 18:54:00</td>\n",
       "      <td>Туризм</td>\n",
       "      <td>Психология</td>\n",
       "      <td>45+</td>\n",
       "      <td>1</td>\n",
       "      <td>2</td>\n",
       "    </tr>\n",
       "    <tr>\n",
       "      <th>16128</th>\n",
       "      <td>2019-09-24 18:56:00</td>\n",
       "      <td>Наука</td>\n",
       "      <td>Искусство</td>\n",
       "      <td>26-30</td>\n",
       "      <td>1</td>\n",
       "      <td>28</td>\n",
       "    </tr>\n",
       "    <tr>\n",
       "      <th>30145</th>\n",
       "      <td>2019-09-24 19:00:00</td>\n",
       "      <td>Рассказы</td>\n",
       "      <td>Строительство</td>\n",
       "      <td>41-45</td>\n",
       "      <td>1</td>\n",
       "      <td>1</td>\n",
       "    </tr>\n",
       "    <tr>\n",
       "      <th>18903</th>\n",
       "      <td>2019-09-24 18:57:00</td>\n",
       "      <td>Искусство</td>\n",
       "      <td>Деньги</td>\n",
       "      <td>18-25</td>\n",
       "      <td>1</td>\n",
       "      <td>12</td>\n",
       "    </tr>\n",
       "    <tr>\n",
       "      <th>29197</th>\n",
       "      <td>2019-09-24 19:00:00</td>\n",
       "      <td>Наука</td>\n",
       "      <td>Здоровье</td>\n",
       "      <td>26-30</td>\n",
       "      <td>1</td>\n",
       "      <td>6</td>\n",
       "    </tr>\n",
       "    <tr>\n",
       "      <th>2890</th>\n",
       "      <td>2019-09-24 18:30:00</td>\n",
       "      <td>Юмор</td>\n",
       "      <td>Путешествия</td>\n",
       "      <td>45+</td>\n",
       "      <td>1</td>\n",
       "      <td>1</td>\n",
       "    </tr>\n",
       "    <tr>\n",
       "      <th>9663</th>\n",
       "      <td>2019-09-24 18:54:00</td>\n",
       "      <td>Интересные факты</td>\n",
       "      <td>Россия</td>\n",
       "      <td>26-30</td>\n",
       "      <td>1</td>\n",
       "      <td>28</td>\n",
       "    </tr>\n",
       "    <tr>\n",
       "      <th>5038</th>\n",
       "      <td>2019-09-24 18:32:00</td>\n",
       "      <td>Психология</td>\n",
       "      <td>Знаменитости</td>\n",
       "      <td>18-25</td>\n",
       "      <td>1</td>\n",
       "      <td>3</td>\n",
       "    </tr>\n",
       "    <tr>\n",
       "      <th>19134</th>\n",
       "      <td>2019-09-24 18:57:00</td>\n",
       "      <td>История</td>\n",
       "      <td>Сделай сам</td>\n",
       "      <td>36-40</td>\n",
       "      <td>1</td>\n",
       "      <td>5</td>\n",
       "    </tr>\n",
       "    <tr>\n",
       "      <th>30001</th>\n",
       "      <td>2019-09-24 19:00:00</td>\n",
       "      <td>Путешествия</td>\n",
       "      <td>Психология</td>\n",
       "      <td>26-30</td>\n",
       "      <td>1</td>\n",
       "      <td>3</td>\n",
       "    </tr>\n",
       "    <tr>\n",
       "      <th>14718</th>\n",
       "      <td>2019-09-24 18:56:00</td>\n",
       "      <td>Деньги</td>\n",
       "      <td>Политика</td>\n",
       "      <td>36-40</td>\n",
       "      <td>1</td>\n",
       "      <td>14</td>\n",
       "    </tr>\n",
       "    <tr>\n",
       "      <th>11934</th>\n",
       "      <td>2019-09-24 18:55:00</td>\n",
       "      <td>Женщины</td>\n",
       "      <td>Знаменитости</td>\n",
       "      <td>45+</td>\n",
       "      <td>1</td>\n",
       "      <td>2</td>\n",
       "    </tr>\n",
       "    <tr>\n",
       "      <th>6506</th>\n",
       "      <td>2019-09-24 18:34:00</td>\n",
       "      <td>Женщины</td>\n",
       "      <td>Спорт</td>\n",
       "      <td>36-40</td>\n",
       "      <td>1</td>\n",
       "      <td>1</td>\n",
       "    </tr>\n",
       "    <tr>\n",
       "      <th>14359</th>\n",
       "      <td>2019-09-24 18:55:00</td>\n",
       "      <td>Туризм</td>\n",
       "      <td>Искусство</td>\n",
       "      <td>26-30</td>\n",
       "      <td>1</td>\n",
       "      <td>6</td>\n",
       "    </tr>\n",
       "    <tr>\n",
       "      <th>25105</th>\n",
       "      <td>2019-09-24 18:59:00</td>\n",
       "      <td>Женщины</td>\n",
       "      <td>Интерьеры</td>\n",
       "      <td>31-35</td>\n",
       "      <td>1</td>\n",
       "      <td>8</td>\n",
       "    </tr>\n",
       "    <tr>\n",
       "      <th>20219</th>\n",
       "      <td>2019-09-24 18:57:00</td>\n",
       "      <td>Психология</td>\n",
       "      <td>Одежда</td>\n",
       "      <td>26-30</td>\n",
       "      <td>1</td>\n",
       "      <td>11</td>\n",
       "    </tr>\n",
       "    <tr>\n",
       "      <th>4791</th>\n",
       "      <td>2019-09-24 18:32:00</td>\n",
       "      <td>Общество</td>\n",
       "      <td>Полезные советы</td>\n",
       "      <td>18-25</td>\n",
       "      <td>1</td>\n",
       "      <td>10</td>\n",
       "    </tr>\n",
       "    <tr>\n",
       "      <th>1652</th>\n",
       "      <td>2019-09-24 18:30:00</td>\n",
       "      <td>Деньги</td>\n",
       "      <td>Дети</td>\n",
       "      <td>26-30</td>\n",
       "      <td>1</td>\n",
       "      <td>2</td>\n",
       "    </tr>\n",
       "    <tr>\n",
       "      <th>21569</th>\n",
       "      <td>2019-09-24 18:58:00</td>\n",
       "      <td>Дети</td>\n",
       "      <td>Семейные отношения</td>\n",
       "      <td>18-25</td>\n",
       "      <td>1</td>\n",
       "      <td>96</td>\n",
       "    </tr>\n",
       "  </tbody>\n",
       "</table>\n",
       "</div>"
      ],
      "text/plain": [
       "                       dt        item_topic        source_topic age_segment  \\\n",
       "24186 2019-09-24 18:58:00             Семья          Сделай сам       18-25   \n",
       "11353 2019-09-24 18:54:00            Туризм          Психология         45+   \n",
       "16128 2019-09-24 18:56:00             Наука           Искусство       26-30   \n",
       "30145 2019-09-24 19:00:00          Рассказы       Строительство       41-45   \n",
       "18903 2019-09-24 18:57:00         Искусство              Деньги       18-25   \n",
       "29197 2019-09-24 19:00:00             Наука            Здоровье       26-30   \n",
       "2890  2019-09-24 18:30:00              Юмор         Путешествия         45+   \n",
       "9663  2019-09-24 18:54:00  Интересные факты              Россия       26-30   \n",
       "5038  2019-09-24 18:32:00        Психология        Знаменитости       18-25   \n",
       "19134 2019-09-24 18:57:00           История          Сделай сам       36-40   \n",
       "30001 2019-09-24 19:00:00       Путешествия          Психология       26-30   \n",
       "14718 2019-09-24 18:56:00            Деньги            Политика       36-40   \n",
       "11934 2019-09-24 18:55:00           Женщины        Знаменитости         45+   \n",
       "6506  2019-09-24 18:34:00           Женщины               Спорт       36-40   \n",
       "14359 2019-09-24 18:55:00            Туризм           Искусство       26-30   \n",
       "25105 2019-09-24 18:59:00           Женщины           Интерьеры       31-35   \n",
       "20219 2019-09-24 18:57:00        Психология              Одежда       26-30   \n",
       "4791  2019-09-24 18:32:00          Общество     Полезные советы       18-25   \n",
       "1652  2019-09-24 18:30:00            Деньги                Дети       26-30   \n",
       "21569 2019-09-24 18:58:00              Дети  Семейные отношения       18-25   \n",
       "\n",
       "       record_id  visits  \n",
       "24186          1      39  \n",
       "11353          1       2  \n",
       "16128          1      28  \n",
       "30145          1       1  \n",
       "18903          1      12  \n",
       "29197          1       6  \n",
       "2890           1       1  \n",
       "9663           1      28  \n",
       "5038           1       3  \n",
       "19134          1       5  \n",
       "30001          1       3  \n",
       "14718          1      14  \n",
       "11934          1       2  \n",
       "6506           1       1  \n",
       "14359          1       6  \n",
       "25105          1       8  \n",
       "20219          1      11  \n",
       "4791           1      10  \n",
       "1652           1       2  \n",
       "21569          1      96  "
      ]
     },
     "execution_count": 9,
     "metadata": {},
     "output_type": "execute_result"
    }
   ],
   "source": [
    "dash_visits_grouped.sample(20)"
   ]
  },
  {
   "cell_type": "markdown",
   "metadata": {},
   "source": [
    "Выгрузка данных в файл для работы в Tableau"
   ]
  },
  {
   "cell_type": "code",
   "execution_count": 10,
   "metadata": {},
   "outputs": [],
   "source": [
    "dash_visits_grouped.to_csv('dash_visits_grouped.csv')"
   ]
  },
  {
   "cell_type": "markdown",
   "metadata": {},
   "source": [
    "Данные готовы к созданию дашборда"
   ]
  }
 ],
 "metadata": {
  "ExecuteTimeLog": [
   {
    "duration": 1378,
    "start_time": "2021-12-22T10:36:48.011Z"
   },
   {
    "duration": 1319,
    "start_time": "2021-12-22T10:37:57.571Z"
   },
   {
    "duration": 11,
    "start_time": "2021-12-22T10:38:22.324Z"
   },
   {
    "duration": 11,
    "start_time": "2021-12-22T10:38:39.001Z"
   },
   {
    "duration": 820,
    "start_time": "2021-12-22T11:34:51.867Z"
   },
   {
    "duration": 15,
    "start_time": "2021-12-22T16:22:50.427Z"
   },
   {
    "duration": 12,
    "start_time": "2021-12-22T16:35:14.514Z"
   },
   {
    "duration": 13,
    "start_time": "2021-12-22T16:39:21.377Z"
   },
   {
    "duration": 20,
    "start_time": "2021-12-22T16:40:24.885Z"
   },
   {
    "duration": 108,
    "start_time": "2021-12-22T16:58:24.391Z"
   },
   {
    "duration": 34,
    "start_time": "2021-12-22T16:58:35.065Z"
   },
   {
    "duration": 24,
    "start_time": "2021-12-22T16:58:40.269Z"
   },
   {
    "duration": 39,
    "start_time": "2021-12-22T16:58:57.009Z"
   },
   {
    "duration": 20,
    "start_time": "2021-12-22T16:59:00.424Z"
   },
   {
    "duration": 26,
    "start_time": "2021-12-22T17:06:40.935Z"
   },
   {
    "duration": 1002,
    "start_time": "2021-12-22T17:07:11.192Z"
   },
   {
    "duration": 1829,
    "start_time": "2021-12-22T17:08:03.422Z"
   },
   {
    "duration": 11,
    "start_time": "2021-12-22T17:08:05.255Z"
   },
   {
    "duration": 211,
    "start_time": "2021-12-22T17:08:05.269Z"
   },
   {
    "duration": 1353,
    "start_time": "2021-12-22T17:08:05.483Z"
   },
   {
    "duration": 16,
    "start_time": "2021-12-22T17:08:06.838Z"
   },
   {
    "duration": 386,
    "start_time": "2021-12-22T17:08:06.856Z"
   },
   {
    "duration": 288,
    "start_time": "2021-12-22T17:08:07.244Z"
   },
   {
    "duration": 605,
    "start_time": "2021-12-22T17:08:07.536Z"
   },
   {
    "duration": 565,
    "start_time": "2021-12-22T17:08:08.144Z"
   },
   {
    "duration": 1418,
    "start_time": "2021-12-22T17:08:08.713Z"
   },
   {
    "duration": 8348,
    "start_time": "2022-03-24T15:54:24.024Z"
   },
   {
    "duration": 16,
    "start_time": "2022-03-24T15:54:32.383Z"
   },
   {
    "duration": 13,
    "start_time": "2022-03-24T15:54:32.402Z"
   },
   {
    "duration": 433,
    "start_time": "2022-03-24T15:54:32.420Z"
   },
   {
    "duration": 27,
    "start_time": "2022-03-24T15:54:32.855Z"
   },
   {
    "duration": 18,
    "start_time": "2022-03-24T15:54:32.884Z"
   },
   {
    "duration": 21,
    "start_time": "2022-03-24T15:54:32.905Z"
   },
   {
    "duration": 93,
    "start_time": "2022-03-24T15:54:32.929Z"
   },
   {
    "duration": 21,
    "start_time": "2022-03-24T15:54:33.025Z"
   },
   {
    "duration": 365,
    "start_time": "2022-03-24T15:54:33.051Z"
   },
   {
    "duration": 12,
    "start_time": "2022-03-24T15:54:43.589Z"
   }
  ],
  "kernelspec": {
   "display_name": "Python 3 (ipykernel)",
   "language": "python",
   "name": "python3"
  },
  "language_info": {
   "codemirror_mode": {
    "name": "ipython",
    "version": 3
   },
   "file_extension": ".py",
   "mimetype": "text/x-python",
   "name": "python",
   "nbconvert_exporter": "python",
   "pygments_lexer": "ipython3",
   "version": "3.9.5"
  },
  "toc": {
   "base_numbering": 1,
   "nav_menu": {},
   "number_sections": true,
   "sideBar": true,
   "skip_h1_title": true,
   "title_cell": "Table of Contents",
   "title_sidebar": "Contents",
   "toc_cell": false,
   "toc_position": {},
   "toc_section_display": true,
   "toc_window_display": true
  }
 },
 "nbformat": 4,
 "nbformat_minor": 2
}
