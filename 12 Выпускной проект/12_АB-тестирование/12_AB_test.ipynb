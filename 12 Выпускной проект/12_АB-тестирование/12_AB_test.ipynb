{
 "cells": [
  {
   "cell_type": "markdown",
   "metadata": {},
   "source": [
    "# A/B-тестирование"
   ]
  },
  {
   "cell_type": "markdown",
   "metadata": {},
   "source": [
    "`Цель исследования`: провести оценку результатов A/B-теста изменений, связанных с внедрением улучшенной рекомендательной системы   \n",
    "\n",
    "`Входные данные`: 1) лог с пользователями, зарегистрировавшимися в период набора новых пользователей; 2) лог с действиями новых пользователей в период проведения теста; 3) таблица участников тестов; 4) календарь маркетинговых событий на 2020 год.    \n",
    "\n",
    "`Задачи`: 1) оценить корректность проведения A/B-теста; 2) исследовать и проанализировать результаты A/B-теста"
   ]
  },
  {
   "cell_type": "markdown",
   "metadata": {
    "toc": true
   },
   "source": [
    "<h1>Содержание проекта<span class=\"tocSkip\"></span></h1>\n",
    "<div class=\"toc\"><ul class=\"toc-item\"><li><span><a href=\"#Предобработка-данных\" data-toc-modified-id=\"Предобработка-данных-1\"><span class=\"toc-item-num\">1&nbsp;&nbsp;</span>Предобработка данных</a></span></li><li><span><a href=\"#Исследовательский-анализ-данных\" data-toc-modified-id=\"Исследовательский-анализ-данных-2\"><span class=\"toc-item-num\">2&nbsp;&nbsp;</span>Исследовательский анализ данных</a></span></li><li><span><a href=\"#Оценка-результатов-A/B-тестирования\" data-toc-modified-id=\"Оценка-результатов-A/B-тестирования-3\"><span class=\"toc-item-num\">3&nbsp;&nbsp;</span>Оценка результатов A/B-тестирования</a></span></li><li><span><a href=\"#Комментарий-от-ревьюера-v.1-❌\" data-toc-modified-id=\"Комментарий-от-ревьюера-v.1-❌-4\"><span class=\"toc-item-num\">4&nbsp;&nbsp;</span>Комментарий от ревьюера v.1 ❌</a></span></li></ul></div>"
   ]
  },
  {
   "cell_type": "markdown",
   "metadata": {},
   "source": [
    "## Предобработка данных"
   ]
  },
  {
   "cell_type": "markdown",
   "metadata": {},
   "source": [
    "Импортируем библиотеки"
   ]
  },
  {
   "cell_type": "code",
   "execution_count": 1,
   "metadata": {},
   "outputs": [],
   "source": [
    "import pandas as pd\n",
    "import matplotlib.pyplot as plt\n",
    "from scipy import stats as st\n",
    "import math as mth\n",
    "import datetime as dt\n",
    "%matplotlib inline\n",
    "import seaborn as sns\n",
    "sns.set()\n",
    "import warnings\n",
    "warnings.filterwarnings('ignore')"
   ]
  },
  {
   "cell_type": "markdown",
   "metadata": {},
   "source": [
    "Уберем прокрутку вывода результатов ячейки"
   ]
  },
  {
   "cell_type": "code",
   "execution_count": 3,
   "metadata": {},
   "outputs": [
    {
     "data": {
      "application/javascript": [
       "IPython.OutputArea.prototype._should_scroll = function(lines) {\n",
       "    return false;\n",
       "}\n"
      ],
      "text/plain": [
       "<IPython.core.display.Javascript object>"
      ]
     },
     "metadata": {},
     "output_type": "display_data"
    }
   ],
   "source": [
    "%%javascript\n",
    "IPython.OutputArea.prototype._should_scroll = function(lines) {\n",
    "    return false;\n",
    "}"
   ]
  },
  {
   "cell_type": "markdown",
   "metadata": {},
   "source": [
    "Сохраним копии изначальных датасетов"
   ]
  },
  {
   "cell_type": "code",
   "execution_count": 4,
   "metadata": {},
   "outputs": [],
   "source": [
    "initial_marketing = marketing.copy()\n",
    "initial_new_users = new_users.copy()\n",
    "initial_events = events.copy()\n",
    "initial_participants = participants.copy()"
   ]
  },
  {
   "cell_type": "markdown",
   "metadata": {},
   "source": [
    "Ознакомимся с данными"
   ]
  },
  {
   "cell_type": "code",
   "execution_count": 5,
   "metadata": {},
   "outputs": [],
   "source": [
    "dfs = {'marketing': marketing,\n",
    "       'new_users': new_users,\n",
    "       'events': events,\n",
    "       'participants': participants}"
   ]
  },
  {
   "cell_type": "code",
   "execution_count": 7,
   "metadata": {},
   "outputs": [
    {
     "name": "stdout",
     "output_type": "stream",
     "text": [
      "marketing\n",
      "====================\n",
      "<class 'pandas.core.frame.DataFrame'>\n",
      "RangeIndex: 14 entries, 0 to 13\n",
      "Data columns (total 4 columns):\n",
      " #   Column     Non-Null Count  Dtype \n",
      "---  ------     --------------  ----- \n",
      " 0   name       14 non-null     object\n",
      " 1   regions    14 non-null     object\n",
      " 2   start_dt   14 non-null     object\n",
      " 3   finish_dt  14 non-null     object\n",
      "dtypes: object(4)\n",
      "memory usage: 576.0+ bytes\n",
      "None\n",
      "\n"
     ]
    },
    {
     "data": {
      "text/html": [
       "<div>\n",
       "<style scoped>\n",
       "    .dataframe tbody tr th:only-of-type {\n",
       "        vertical-align: middle;\n",
       "    }\n",
       "\n",
       "    .dataframe tbody tr th {\n",
       "        vertical-align: top;\n",
       "    }\n",
       "\n",
       "    .dataframe thead th {\n",
       "        text-align: right;\n",
       "    }\n",
       "</style>\n",
       "<table border=\"1\" class=\"dataframe\">\n",
       "  <thead>\n",
       "    <tr style=\"text-align: right;\">\n",
       "      <th></th>\n",
       "      <th>name</th>\n",
       "      <th>regions</th>\n",
       "      <th>start_dt</th>\n",
       "      <th>finish_dt</th>\n",
       "    </tr>\n",
       "  </thead>\n",
       "  <tbody>\n",
       "    <tr>\n",
       "      <th>12</th>\n",
       "      <td>Single's Day Gift Promo</td>\n",
       "      <td>APAC</td>\n",
       "      <td>2020-11-11</td>\n",
       "      <td>2020-11-12</td>\n",
       "    </tr>\n",
       "    <tr>\n",
       "      <th>9</th>\n",
       "      <td>Victory Day CIS (May 9th) Event</td>\n",
       "      <td>CIS</td>\n",
       "      <td>2020-05-09</td>\n",
       "      <td>2020-05-11</td>\n",
       "    </tr>\n",
       "  </tbody>\n",
       "</table>\n",
       "</div>"
      ],
      "text/plain": [
       "                               name regions    start_dt   finish_dt\n",
       "12          Single's Day Gift Promo    APAC  2020-11-11  2020-11-12\n",
       "9   Victory Day CIS (May 9th) Event     CIS  2020-05-09  2020-05-11"
      ]
     },
     "metadata": {},
     "output_type": "display_data"
    },
    {
     "name": "stdout",
     "output_type": "stream",
     "text": [
      "\n"
     ]
    },
    {
     "data": {
      "text/html": [
       "<div>\n",
       "<style scoped>\n",
       "    .dataframe tbody tr th:only-of-type {\n",
       "        vertical-align: middle;\n",
       "    }\n",
       "\n",
       "    .dataframe tbody tr th {\n",
       "        vertical-align: top;\n",
       "    }\n",
       "\n",
       "    .dataframe thead th {\n",
       "        text-align: right;\n",
       "    }\n",
       "</style>\n",
       "<table border=\"1\" class=\"dataframe\">\n",
       "  <thead>\n",
       "    <tr style=\"text-align: right;\">\n",
       "      <th></th>\n",
       "      <th>name</th>\n",
       "      <th>regions</th>\n",
       "      <th>start_dt</th>\n",
       "      <th>finish_dt</th>\n",
       "    </tr>\n",
       "  </thead>\n",
       "  <tbody>\n",
       "    <tr>\n",
       "      <th>count</th>\n",
       "      <td>14</td>\n",
       "      <td>14</td>\n",
       "      <td>14</td>\n",
       "      <td>14</td>\n",
       "    </tr>\n",
       "    <tr>\n",
       "      <th>unique</th>\n",
       "      <td>14</td>\n",
       "      <td>6</td>\n",
       "      <td>14</td>\n",
       "      <td>14</td>\n",
       "    </tr>\n",
       "    <tr>\n",
       "      <th>top</th>\n",
       "      <td>Easter Promo</td>\n",
       "      <td>APAC</td>\n",
       "      <td>2020-03-17</td>\n",
       "      <td>2020-04-19</td>\n",
       "    </tr>\n",
       "    <tr>\n",
       "      <th>freq</th>\n",
       "      <td>1</td>\n",
       "      <td>4</td>\n",
       "      <td>1</td>\n",
       "      <td>1</td>\n",
       "    </tr>\n",
       "  </tbody>\n",
       "</table>\n",
       "</div>"
      ],
      "text/plain": [
       "                name regions    start_dt   finish_dt\n",
       "count             14      14          14          14\n",
       "unique            14       6          14          14\n",
       "top     Easter Promo    APAC  2020-03-17  2020-04-19\n",
       "freq               1       4           1           1"
      ]
     },
     "metadata": {},
     "output_type": "display_data"
    },
    {
     "name": "stdout",
     "output_type": "stream",
     "text": [
      "\n",
      "Кол-во дубликатов:  0\n",
      "\n",
      "====================\n",
      "new_users\n",
      "====================\n",
      "<class 'pandas.core.frame.DataFrame'>\n",
      "RangeIndex: 61733 entries, 0 to 61732\n",
      "Data columns (total 4 columns):\n",
      " #   Column      Non-Null Count  Dtype \n",
      "---  ------      --------------  ----- \n",
      " 0   user_id     61733 non-null  object\n",
      " 1   first_date  61733 non-null  object\n",
      " 2   region      61733 non-null  object\n",
      " 3   device      61733 non-null  object\n",
      "dtypes: object(4)\n",
      "memory usage: 1.9+ MB\n",
      "None\n",
      "\n"
     ]
    },
    {
     "data": {
      "text/html": [
       "<div>\n",
       "<style scoped>\n",
       "    .dataframe tbody tr th:only-of-type {\n",
       "        vertical-align: middle;\n",
       "    }\n",
       "\n",
       "    .dataframe tbody tr th {\n",
       "        vertical-align: top;\n",
       "    }\n",
       "\n",
       "    .dataframe thead th {\n",
       "        text-align: right;\n",
       "    }\n",
       "</style>\n",
       "<table border=\"1\" class=\"dataframe\">\n",
       "  <thead>\n",
       "    <tr style=\"text-align: right;\">\n",
       "      <th></th>\n",
       "      <th>user_id</th>\n",
       "      <th>first_date</th>\n",
       "      <th>region</th>\n",
       "      <th>device</th>\n",
       "    </tr>\n",
       "  </thead>\n",
       "  <tbody>\n",
       "    <tr>\n",
       "      <th>48506</th>\n",
       "      <td>C0CD8F28B868FB64</td>\n",
       "      <td>2020-12-12</td>\n",
       "      <td>EU</td>\n",
       "      <td>PC</td>\n",
       "    </tr>\n",
       "    <tr>\n",
       "      <th>27321</th>\n",
       "      <td>7F05A9462DF1748F</td>\n",
       "      <td>2020-12-09</td>\n",
       "      <td>EU</td>\n",
       "      <td>PC</td>\n",
       "    </tr>\n",
       "  </tbody>\n",
       "</table>\n",
       "</div>"
      ],
      "text/plain": [
       "                user_id  first_date region device\n",
       "48506  C0CD8F28B868FB64  2020-12-12     EU     PC\n",
       "27321  7F05A9462DF1748F  2020-12-09     EU     PC"
      ]
     },
     "metadata": {},
     "output_type": "display_data"
    },
    {
     "name": "stdout",
     "output_type": "stream",
     "text": [
      "\n"
     ]
    },
    {
     "data": {
      "text/html": [
       "<div>\n",
       "<style scoped>\n",
       "    .dataframe tbody tr th:only-of-type {\n",
       "        vertical-align: middle;\n",
       "    }\n",
       "\n",
       "    .dataframe tbody tr th {\n",
       "        vertical-align: top;\n",
       "    }\n",
       "\n",
       "    .dataframe thead th {\n",
       "        text-align: right;\n",
       "    }\n",
       "</style>\n",
       "<table border=\"1\" class=\"dataframe\">\n",
       "  <thead>\n",
       "    <tr style=\"text-align: right;\">\n",
       "      <th></th>\n",
       "      <th>user_id</th>\n",
       "      <th>first_date</th>\n",
       "      <th>region</th>\n",
       "      <th>device</th>\n",
       "    </tr>\n",
       "  </thead>\n",
       "  <tbody>\n",
       "    <tr>\n",
       "      <th>count</th>\n",
       "      <td>61733</td>\n",
       "      <td>61733</td>\n",
       "      <td>61733</td>\n",
       "      <td>61733</td>\n",
       "    </tr>\n",
       "    <tr>\n",
       "      <th>unique</th>\n",
       "      <td>61733</td>\n",
       "      <td>17</td>\n",
       "      <td>4</td>\n",
       "      <td>4</td>\n",
       "    </tr>\n",
       "    <tr>\n",
       "      <th>top</th>\n",
       "      <td>41F7D984B101B8FE</td>\n",
       "      <td>2020-12-21</td>\n",
       "      <td>EU</td>\n",
       "      <td>Android</td>\n",
       "    </tr>\n",
       "    <tr>\n",
       "      <th>freq</th>\n",
       "      <td>1</td>\n",
       "      <td>6290</td>\n",
       "      <td>46270</td>\n",
       "      <td>27520</td>\n",
       "    </tr>\n",
       "  </tbody>\n",
       "</table>\n",
       "</div>"
      ],
      "text/plain": [
       "                 user_id  first_date region   device\n",
       "count              61733       61733  61733    61733\n",
       "unique             61733          17      4        4\n",
       "top     41F7D984B101B8FE  2020-12-21     EU  Android\n",
       "freq                   1        6290  46270    27520"
      ]
     },
     "metadata": {},
     "output_type": "display_data"
    },
    {
     "name": "stdout",
     "output_type": "stream",
     "text": [
      "\n",
      "Кол-во дубликатов:  0\n",
      "\n",
      "====================\n",
      "events\n",
      "====================\n",
      "<class 'pandas.core.frame.DataFrame'>\n",
      "RangeIndex: 440317 entries, 0 to 440316\n",
      "Data columns (total 4 columns):\n",
      " #   Column      Non-Null Count   Dtype  \n",
      "---  ------      --------------   -----  \n",
      " 0   user_id     440317 non-null  object \n",
      " 1   event_dt    440317 non-null  object \n",
      " 2   event_name  440317 non-null  object \n",
      " 3   details     62740 non-null   float64\n",
      "dtypes: float64(1), object(3)\n",
      "memory usage: 13.4+ MB\n",
      "None\n",
      "\n"
     ]
    },
    {
     "data": {
      "text/html": [
       "<div>\n",
       "<style scoped>\n",
       "    .dataframe tbody tr th:only-of-type {\n",
       "        vertical-align: middle;\n",
       "    }\n",
       "\n",
       "    .dataframe tbody tr th {\n",
       "        vertical-align: top;\n",
       "    }\n",
       "\n",
       "    .dataframe thead th {\n",
       "        text-align: right;\n",
       "    }\n",
       "</style>\n",
       "<table border=\"1\" class=\"dataframe\">\n",
       "  <thead>\n",
       "    <tr style=\"text-align: right;\">\n",
       "      <th></th>\n",
       "      <th>user_id</th>\n",
       "      <th>event_dt</th>\n",
       "      <th>event_name</th>\n",
       "      <th>details</th>\n",
       "    </tr>\n",
       "  </thead>\n",
       "  <tbody>\n",
       "    <tr>\n",
       "      <th>405543</th>\n",
       "      <td>2BB817A03F2F77E8</td>\n",
       "      <td>2020-12-24 06:46:17</td>\n",
       "      <td>login</td>\n",
       "      <td>NaN</td>\n",
       "    </tr>\n",
       "    <tr>\n",
       "      <th>129805</th>\n",
       "      <td>FD088986DBD047AE</td>\n",
       "      <td>2020-12-08 18:32:05</td>\n",
       "      <td>product_page</td>\n",
       "      <td>NaN</td>\n",
       "    </tr>\n",
       "  </tbody>\n",
       "</table>\n",
       "</div>"
      ],
      "text/plain": [
       "                 user_id             event_dt    event_name  details\n",
       "405543  2BB817A03F2F77E8  2020-12-24 06:46:17         login      NaN\n",
       "129805  FD088986DBD047AE  2020-12-08 18:32:05  product_page      NaN"
      ]
     },
     "metadata": {},
     "output_type": "display_data"
    },
    {
     "name": "stdout",
     "output_type": "stream",
     "text": [
      "\n"
     ]
    },
    {
     "data": {
      "text/html": [
       "<div>\n",
       "<style scoped>\n",
       "    .dataframe tbody tr th:only-of-type {\n",
       "        vertical-align: middle;\n",
       "    }\n",
       "\n",
       "    .dataframe tbody tr th {\n",
       "        vertical-align: top;\n",
       "    }\n",
       "\n",
       "    .dataframe thead th {\n",
       "        text-align: right;\n",
       "    }\n",
       "</style>\n",
       "<table border=\"1\" class=\"dataframe\">\n",
       "  <thead>\n",
       "    <tr style=\"text-align: right;\">\n",
       "      <th></th>\n",
       "      <th>details</th>\n",
       "    </tr>\n",
       "  </thead>\n",
       "  <tbody>\n",
       "    <tr>\n",
       "      <th>count</th>\n",
       "      <td>62740.000000</td>\n",
       "    </tr>\n",
       "    <tr>\n",
       "      <th>mean</th>\n",
       "      <td>23.877631</td>\n",
       "    </tr>\n",
       "    <tr>\n",
       "      <th>std</th>\n",
       "      <td>72.180465</td>\n",
       "    </tr>\n",
       "    <tr>\n",
       "      <th>min</th>\n",
       "      <td>4.990000</td>\n",
       "    </tr>\n",
       "    <tr>\n",
       "      <th>25%</th>\n",
       "      <td>4.990000</td>\n",
       "    </tr>\n",
       "    <tr>\n",
       "      <th>50%</th>\n",
       "      <td>4.990000</td>\n",
       "    </tr>\n",
       "    <tr>\n",
       "      <th>75%</th>\n",
       "      <td>9.990000</td>\n",
       "    </tr>\n",
       "    <tr>\n",
       "      <th>max</th>\n",
       "      <td>499.990000</td>\n",
       "    </tr>\n",
       "  </tbody>\n",
       "</table>\n",
       "</div>"
      ],
      "text/plain": [
       "            details\n",
       "count  62740.000000\n",
       "mean      23.877631\n",
       "std       72.180465\n",
       "min        4.990000\n",
       "25%        4.990000\n",
       "50%        4.990000\n",
       "75%        9.990000\n",
       "max      499.990000"
      ]
     },
     "metadata": {},
     "output_type": "display_data"
    },
    {
     "name": "stdout",
     "output_type": "stream",
     "text": [
      "\n",
      "Кол-во дубликатов:  0\n",
      "\n",
      "====================\n",
      "participants\n",
      "====================\n",
      "<class 'pandas.core.frame.DataFrame'>\n",
      "RangeIndex: 18268 entries, 0 to 18267\n",
      "Data columns (total 3 columns):\n",
      " #   Column   Non-Null Count  Dtype \n",
      "---  ------   --------------  ----- \n",
      " 0   user_id  18268 non-null  object\n",
      " 1   group    18268 non-null  object\n",
      " 2   ab_test  18268 non-null  object\n",
      "dtypes: object(3)\n",
      "memory usage: 428.3+ KB\n",
      "None\n",
      "\n"
     ]
    },
    {
     "data": {
      "text/html": [
       "<div>\n",
       "<style scoped>\n",
       "    .dataframe tbody tr th:only-of-type {\n",
       "        vertical-align: middle;\n",
       "    }\n",
       "\n",
       "    .dataframe tbody tr th {\n",
       "        vertical-align: top;\n",
       "    }\n",
       "\n",
       "    .dataframe thead th {\n",
       "        text-align: right;\n",
       "    }\n",
       "</style>\n",
       "<table border=\"1\" class=\"dataframe\">\n",
       "  <thead>\n",
       "    <tr style=\"text-align: right;\">\n",
       "      <th></th>\n",
       "      <th>user_id</th>\n",
       "      <th>group</th>\n",
       "      <th>ab_test</th>\n",
       "    </tr>\n",
       "  </thead>\n",
       "  <tbody>\n",
       "    <tr>\n",
       "      <th>13223</th>\n",
       "      <td>275A8D6254ACF530</td>\n",
       "      <td>B</td>\n",
       "      <td>interface_eu_test</td>\n",
       "    </tr>\n",
       "    <tr>\n",
       "      <th>14152</th>\n",
       "      <td>6D6D3E965F77305D</td>\n",
       "      <td>B</td>\n",
       "      <td>interface_eu_test</td>\n",
       "    </tr>\n",
       "  </tbody>\n",
       "</table>\n",
       "</div>"
      ],
      "text/plain": [
       "                user_id group            ab_test\n",
       "13223  275A8D6254ACF530     B  interface_eu_test\n",
       "14152  6D6D3E965F77305D     B  interface_eu_test"
      ]
     },
     "metadata": {},
     "output_type": "display_data"
    },
    {
     "name": "stdout",
     "output_type": "stream",
     "text": [
      "\n"
     ]
    },
    {
     "data": {
      "text/html": [
       "<div>\n",
       "<style scoped>\n",
       "    .dataframe tbody tr th:only-of-type {\n",
       "        vertical-align: middle;\n",
       "    }\n",
       "\n",
       "    .dataframe tbody tr th {\n",
       "        vertical-align: top;\n",
       "    }\n",
       "\n",
       "    .dataframe thead th {\n",
       "        text-align: right;\n",
       "    }\n",
       "</style>\n",
       "<table border=\"1\" class=\"dataframe\">\n",
       "  <thead>\n",
       "    <tr style=\"text-align: right;\">\n",
       "      <th></th>\n",
       "      <th>user_id</th>\n",
       "      <th>group</th>\n",
       "      <th>ab_test</th>\n",
       "    </tr>\n",
       "  </thead>\n",
       "  <tbody>\n",
       "    <tr>\n",
       "      <th>count</th>\n",
       "      <td>18268</td>\n",
       "      <td>18268</td>\n",
       "      <td>18268</td>\n",
       "    </tr>\n",
       "    <tr>\n",
       "      <th>unique</th>\n",
       "      <td>16666</td>\n",
       "      <td>2</td>\n",
       "      <td>2</td>\n",
       "    </tr>\n",
       "    <tr>\n",
       "      <th>top</th>\n",
       "      <td>78564BCA0B571DFC</td>\n",
       "      <td>A</td>\n",
       "      <td>interface_eu_test</td>\n",
       "    </tr>\n",
       "    <tr>\n",
       "      <th>freq</th>\n",
       "      <td>2</td>\n",
       "      <td>9655</td>\n",
       "      <td>11567</td>\n",
       "    </tr>\n",
       "  </tbody>\n",
       "</table>\n",
       "</div>"
      ],
      "text/plain": [
       "                 user_id  group            ab_test\n",
       "count              18268  18268              18268\n",
       "unique             16666      2                  2\n",
       "top     78564BCA0B571DFC      A  interface_eu_test\n",
       "freq                   2   9655              11567"
      ]
     },
     "metadata": {},
     "output_type": "display_data"
    },
    {
     "name": "stdout",
     "output_type": "stream",
     "text": [
      "\n",
      "Кол-во дубликатов:  0\n",
      "\n",
      "====================\n"
     ]
    }
   ],
   "source": [
    "for key in dfs:\n",
    "    print(key)\n",
    "    print('====================')\n",
    "    print(dfs[key].info())\n",
    "    print()\n",
    "    display(dfs[key].sample(2))\n",
    "    print()\n",
    "    display(dfs[key].describe())\n",
    "    print()\n",
    "    print('Кол-во дубликатов: ', dfs[key].duplicated().sum())\n",
    "    print()\n",
    "    print('====================')"
   ]
  },
  {
   "cell_type": "markdown",
   "metadata": {},
   "source": [
    "Данные в столбцах, указанных ниже, требуют перевода их в формат даты.  \n",
    "`marketing['start_dt']  \n",
    "marketing['finish_dt']  \n",
    "new_users['first_date']  \n",
    "events['event_dt']`   \n",
    "\n",
    "Пропуски есть только в `events['details']`, их пока не будем обрабатывать. Так как по условиям задания это дополнительные данные о событии.  В этой колонке указана сумма покупки для события PURCHASE.  \n",
    "\n",
    "Дубликатов нет."
   ]
  },
  {
   "cell_type": "code",
   "execution_count": 9,
   "metadata": {
    "scrolled": true
   },
   "outputs": [
    {
     "data": {
      "text/html": [
       "<div>\n",
       "<style scoped>\n",
       "    .dataframe tbody tr th:only-of-type {\n",
       "        vertical-align: middle;\n",
       "    }\n",
       "\n",
       "    .dataframe tbody tr th {\n",
       "        vertical-align: top;\n",
       "    }\n",
       "\n",
       "    .dataframe thead th {\n",
       "        text-align: right;\n",
       "    }\n",
       "</style>\n",
       "<table border=\"1\" class=\"dataframe\">\n",
       "  <thead>\n",
       "    <tr style=\"text-align: right;\">\n",
       "      <th></th>\n",
       "      <th>user_id</th>\n",
       "      <th>event_dt</th>\n",
       "      <th>event_name</th>\n",
       "      <th>details</th>\n",
       "    </tr>\n",
       "  </thead>\n",
       "  <tbody>\n",
       "    <tr>\n",
       "      <th>62740</th>\n",
       "      <td>2E1BF1D4C37EA01F</td>\n",
       "      <td>2020-12-07 09:05:47</td>\n",
       "      <td>product_cart</td>\n",
       "      <td>NaN</td>\n",
       "    </tr>\n",
       "    <tr>\n",
       "      <th>62741</th>\n",
       "      <td>50734A22C0C63768</td>\n",
       "      <td>2020-12-07 13:24:03</td>\n",
       "      <td>product_cart</td>\n",
       "      <td>NaN</td>\n",
       "    </tr>\n",
       "    <tr>\n",
       "      <th>62742</th>\n",
       "      <td>5EB159DA9DC94DBA</td>\n",
       "      <td>2020-12-07 22:54:02</td>\n",
       "      <td>product_cart</td>\n",
       "      <td>NaN</td>\n",
       "    </tr>\n",
       "    <tr>\n",
       "      <th>62743</th>\n",
       "      <td>084A22B980BA8169</td>\n",
       "      <td>2020-12-07 15:25:55</td>\n",
       "      <td>product_cart</td>\n",
       "      <td>NaN</td>\n",
       "    </tr>\n",
       "    <tr>\n",
       "      <th>62744</th>\n",
       "      <td>0FC21E6F8FAA8DEC</td>\n",
       "      <td>2020-12-07 06:56:27</td>\n",
       "      <td>product_cart</td>\n",
       "      <td>NaN</td>\n",
       "    </tr>\n",
       "    <tr>\n",
       "      <th>...</th>\n",
       "      <td>...</td>\n",
       "      <td>...</td>\n",
       "      <td>...</td>\n",
       "      <td>...</td>\n",
       "    </tr>\n",
       "    <tr>\n",
       "      <th>440312</th>\n",
       "      <td>245E85F65C358E08</td>\n",
       "      <td>2020-12-30 19:35:55</td>\n",
       "      <td>login</td>\n",
       "      <td>NaN</td>\n",
       "    </tr>\n",
       "    <tr>\n",
       "      <th>440313</th>\n",
       "      <td>9385A108F5A0A7A7</td>\n",
       "      <td>2020-12-30 10:54:15</td>\n",
       "      <td>login</td>\n",
       "      <td>NaN</td>\n",
       "    </tr>\n",
       "    <tr>\n",
       "      <th>440314</th>\n",
       "      <td>DB650B7559AC6EAC</td>\n",
       "      <td>2020-12-30 10:59:09</td>\n",
       "      <td>login</td>\n",
       "      <td>NaN</td>\n",
       "    </tr>\n",
       "    <tr>\n",
       "      <th>440315</th>\n",
       "      <td>F80C9BDDEA02E53C</td>\n",
       "      <td>2020-12-30 09:53:39</td>\n",
       "      <td>login</td>\n",
       "      <td>NaN</td>\n",
       "    </tr>\n",
       "    <tr>\n",
       "      <th>440316</th>\n",
       "      <td>7AEC61159B672CC5</td>\n",
       "      <td>2020-12-30 11:36:13</td>\n",
       "      <td>login</td>\n",
       "      <td>NaN</td>\n",
       "    </tr>\n",
       "  </tbody>\n",
       "</table>\n",
       "<p>377577 rows × 4 columns</p>\n",
       "</div>"
      ],
      "text/plain": [
       "                 user_id             event_dt    event_name  details\n",
       "62740   2E1BF1D4C37EA01F  2020-12-07 09:05:47  product_cart      NaN\n",
       "62741   50734A22C0C63768  2020-12-07 13:24:03  product_cart      NaN\n",
       "62742   5EB159DA9DC94DBA  2020-12-07 22:54:02  product_cart      NaN\n",
       "62743   084A22B980BA8169  2020-12-07 15:25:55  product_cart      NaN\n",
       "62744   0FC21E6F8FAA8DEC  2020-12-07 06:56:27  product_cart      NaN\n",
       "...                  ...                  ...           ...      ...\n",
       "440312  245E85F65C358E08  2020-12-30 19:35:55         login      NaN\n",
       "440313  9385A108F5A0A7A7  2020-12-30 10:54:15         login      NaN\n",
       "440314  DB650B7559AC6EAC  2020-12-30 10:59:09         login      NaN\n",
       "440315  F80C9BDDEA02E53C  2020-12-30 09:53:39         login      NaN\n",
       "440316  7AEC61159B672CC5  2020-12-30 11:36:13         login      NaN\n",
       "\n",
       "[377577 rows x 4 columns]"
      ]
     },
     "execution_count": 9,
     "metadata": {},
     "output_type": "execute_result"
    }
   ],
   "source": [
    "events[events['details'].isna()]"
   ]
  },
  {
   "cell_type": "code",
   "execution_count": 10,
   "metadata": {
    "scrolled": true
   },
   "outputs": [
    {
     "data": {
      "text/plain": [
       "login           189552\n",
       "product_page    125563\n",
       "product_cart     62462\n",
       "Name: event_name, dtype: int64"
      ]
     },
     "execution_count": 10,
     "metadata": {},
     "output_type": "execute_result"
    }
   ],
   "source": [
    "events[events['details'].isna()]['event_name'].value_counts()"
   ]
  },
  {
   "cell_type": "code",
   "execution_count": 11,
   "metadata": {},
   "outputs": [],
   "source": [
    "marketing['start_dt'] = pd.to_datetime(marketing['start_dt'], format='%Y-%m-%d') \n",
    "marketing['finish_dt'] = pd.to_datetime(marketing['finish_dt'], format='%Y-%m-%d') \n",
    "new_users['first_date'] = pd.to_datetime(new_users['first_date'], format='%Y-%m-%d')\n",
    "events['event_dt'] = pd.to_datetime(events['event_dt'], format='%Y-%m-%d %H:%M:%S')"
   ]
  },
  {
   "cell_type": "markdown",
   "metadata": {},
   "source": [
    "## Исследовательский анализ данных"
   ]
  },
  {
   "cell_type": "markdown",
   "metadata": {},
   "source": [
    "Посмотрим, за какой временной период представлены данные о действиях новых пользователей"
   ]
  },
  {
   "cell_type": "code",
   "execution_count": 12,
   "metadata": {},
   "outputs": [
    {
     "name": "stdout",
     "output_type": "stream",
     "text": [
      "2020-12-07 00:00:33\n",
      "2020-12-30 23:36:33\n"
     ]
    }
   ],
   "source": [
    "print(events['event_dt'].min())\n",
    "print(events['event_dt'].max())"
   ]
  },
  {
   "cell_type": "markdown",
   "metadata": {},
   "source": [
    "Не хватает данных. По условию задания действия новых пользователей должны анализироваться за период с 7 декабря 2020 по 4 января 2021 года. Получается, данных за период с 31 декабря 2020 по 4 января 2021 нет (вероятно, Новогодние праздники могли быть тому причиной. Как вариант, Новогодние праздники намеренно исключили, т.е. посчитали, что они могут исказить результаты теста). Таким образом, рассчитать ожидаемый эффект в соответствии с заданием невозможно (за 14 дней с момента регистрации пользователи покажут улучшение каждой метрики не менее, чем на 10%). Т.е рассчитать эффект можем для пользователей, зарегистрировавшихся в период с 7 декабря 2020 по 16 декабря 2020."
   ]
  },
  {
   "cell_type": "markdown",
   "metadata": {},
   "source": [
    "Посмотрим период регистрации новых пользователей"
   ]
  },
  {
   "cell_type": "code",
   "execution_count": 13,
   "metadata": {},
   "outputs": [
    {
     "name": "stdout",
     "output_type": "stream",
     "text": [
      "2020-12-07 00:00:00\n",
      "2020-12-23 00:00:00\n"
     ]
    }
   ],
   "source": [
    "print(new_users['first_date'].min())\n",
    "print(new_users['first_date'].max())"
   ]
  },
  {
   "cell_type": "markdown",
   "metadata": {},
   "source": [
    "Некорректный интервал отбора новых пользователей. Должен был завершиться на сутки раньше."
   ]
  },
  {
   "cell_type": "markdown",
   "metadata": {},
   "source": [
    "Изучим периоды проведения маркетинговых мероприятий "
   ]
  },
  {
   "cell_type": "code",
   "execution_count": 14,
   "metadata": {
    "scrolled": true
   },
   "outputs": [
    {
     "data": {
      "text/html": [
       "<div>\n",
       "<style scoped>\n",
       "    .dataframe tbody tr th:only-of-type {\n",
       "        vertical-align: middle;\n",
       "    }\n",
       "\n",
       "    .dataframe tbody tr th {\n",
       "        vertical-align: top;\n",
       "    }\n",
       "\n",
       "    .dataframe thead th {\n",
       "        text-align: right;\n",
       "    }\n",
       "</style>\n",
       "<table border=\"1\" class=\"dataframe\">\n",
       "  <thead>\n",
       "    <tr style=\"text-align: right;\">\n",
       "      <th></th>\n",
       "      <th>name</th>\n",
       "      <th>regions</th>\n",
       "      <th>start_dt</th>\n",
       "      <th>finish_dt</th>\n",
       "    </tr>\n",
       "  </thead>\n",
       "  <tbody>\n",
       "    <tr>\n",
       "      <th>6</th>\n",
       "      <td>Chinese New Year Promo</td>\n",
       "      <td>APAC</td>\n",
       "      <td>2020-01-25</td>\n",
       "      <td>2020-02-07</td>\n",
       "    </tr>\n",
       "    <tr>\n",
       "      <th>1</th>\n",
       "      <td>St. Valentine's Day Giveaway</td>\n",
       "      <td>EU, CIS, APAC, N.America</td>\n",
       "      <td>2020-02-14</td>\n",
       "      <td>2020-02-16</td>\n",
       "    </tr>\n",
       "    <tr>\n",
       "      <th>8</th>\n",
       "      <td>International Women's Day Promo</td>\n",
       "      <td>EU, CIS, APAC</td>\n",
       "      <td>2020-03-08</td>\n",
       "      <td>2020-03-10</td>\n",
       "    </tr>\n",
       "    <tr>\n",
       "      <th>2</th>\n",
       "      <td>St. Patric's Day Promo</td>\n",
       "      <td>EU, N.America</td>\n",
       "      <td>2020-03-17</td>\n",
       "      <td>2020-03-19</td>\n",
       "    </tr>\n",
       "    <tr>\n",
       "      <th>3</th>\n",
       "      <td>Easter Promo</td>\n",
       "      <td>EU, CIS, APAC, N.America</td>\n",
       "      <td>2020-04-12</td>\n",
       "      <td>2020-04-19</td>\n",
       "    </tr>\n",
       "    <tr>\n",
       "      <th>7</th>\n",
       "      <td>Labor day (May 1st) Ads Campaign</td>\n",
       "      <td>EU, CIS, APAC</td>\n",
       "      <td>2020-05-01</td>\n",
       "      <td>2020-05-03</td>\n",
       "    </tr>\n",
       "    <tr>\n",
       "      <th>9</th>\n",
       "      <td>Victory Day CIS (May 9th) Event</td>\n",
       "      <td>CIS</td>\n",
       "      <td>2020-05-09</td>\n",
       "      <td>2020-05-11</td>\n",
       "    </tr>\n",
       "    <tr>\n",
       "      <th>11</th>\n",
       "      <td>Dragon Boat Festival Giveaway</td>\n",
       "      <td>APAC</td>\n",
       "      <td>2020-06-25</td>\n",
       "      <td>2020-07-01</td>\n",
       "    </tr>\n",
       "    <tr>\n",
       "      <th>4</th>\n",
       "      <td>4th of July Promo</td>\n",
       "      <td>N.America</td>\n",
       "      <td>2020-07-04</td>\n",
       "      <td>2020-07-11</td>\n",
       "    </tr>\n",
       "    <tr>\n",
       "      <th>13</th>\n",
       "      <td>Chinese Moon Festival</td>\n",
       "      <td>APAC</td>\n",
       "      <td>2020-10-01</td>\n",
       "      <td>2020-10-07</td>\n",
       "    </tr>\n",
       "    <tr>\n",
       "      <th>12</th>\n",
       "      <td>Single's Day Gift Promo</td>\n",
       "      <td>APAC</td>\n",
       "      <td>2020-11-11</td>\n",
       "      <td>2020-11-12</td>\n",
       "    </tr>\n",
       "    <tr>\n",
       "      <th>5</th>\n",
       "      <td>Black Friday Ads Campaign</td>\n",
       "      <td>EU, CIS, APAC, N.America</td>\n",
       "      <td>2020-11-26</td>\n",
       "      <td>2020-12-01</td>\n",
       "    </tr>\n",
       "    <tr>\n",
       "      <th>0</th>\n",
       "      <td>Christmas&amp;New Year Promo</td>\n",
       "      <td>EU, N.America</td>\n",
       "      <td>2020-12-25</td>\n",
       "      <td>2021-01-03</td>\n",
       "    </tr>\n",
       "    <tr>\n",
       "      <th>10</th>\n",
       "      <td>CIS New Year Gift Lottery</td>\n",
       "      <td>CIS</td>\n",
       "      <td>2020-12-30</td>\n",
       "      <td>2021-01-07</td>\n",
       "    </tr>\n",
       "  </tbody>\n",
       "</table>\n",
       "</div>"
      ],
      "text/plain": [
       "                                name                   regions   start_dt  \\\n",
       "6             Chinese New Year Promo                      APAC 2020-01-25   \n",
       "1       St. Valentine's Day Giveaway  EU, CIS, APAC, N.America 2020-02-14   \n",
       "8    International Women's Day Promo             EU, CIS, APAC 2020-03-08   \n",
       "2             St. Patric's Day Promo             EU, N.America 2020-03-17   \n",
       "3                       Easter Promo  EU, CIS, APAC, N.America 2020-04-12   \n",
       "7   Labor day (May 1st) Ads Campaign             EU, CIS, APAC 2020-05-01   \n",
       "9    Victory Day CIS (May 9th) Event                       CIS 2020-05-09   \n",
       "11     Dragon Boat Festival Giveaway                      APAC 2020-06-25   \n",
       "4                  4th of July Promo                 N.America 2020-07-04   \n",
       "13             Chinese Moon Festival                      APAC 2020-10-01   \n",
       "12           Single's Day Gift Promo                      APAC 2020-11-11   \n",
       "5          Black Friday Ads Campaign  EU, CIS, APAC, N.America 2020-11-26   \n",
       "0           Christmas&New Year Promo             EU, N.America 2020-12-25   \n",
       "10         CIS New Year Gift Lottery                       CIS 2020-12-30   \n",
       "\n",
       "    finish_dt  \n",
       "6  2020-02-07  \n",
       "1  2020-02-16  \n",
       "8  2020-03-10  \n",
       "2  2020-03-19  \n",
       "3  2020-04-19  \n",
       "7  2020-05-03  \n",
       "9  2020-05-11  \n",
       "11 2020-07-01  \n",
       "4  2020-07-11  \n",
       "13 2020-10-07  \n",
       "12 2020-11-12  \n",
       "5  2020-12-01  \n",
       "0  2021-01-03  \n",
       "10 2021-01-07  "
      ]
     },
     "execution_count": 14,
     "metadata": {},
     "output_type": "execute_result"
    }
   ],
   "source": [
    "marketing.sort_values(by='start_dt')"
   ]
  },
  {
   "cell_type": "markdown",
   "metadata": {},
   "source": [
    "В даты проведения теста проходит Рождественская и предновогодняя маркетинговая кампания, которая может повлиять на результаты теста и исказить их."
   ]
  },
  {
   "cell_type": "code",
   "execution_count": 15,
   "metadata": {
    "scrolled": false
   },
   "outputs": [
    {
     "data": {
      "text/html": [
       "<div>\n",
       "<style scoped>\n",
       "    .dataframe tbody tr th:only-of-type {\n",
       "        vertical-align: middle;\n",
       "    }\n",
       "\n",
       "    .dataframe tbody tr th {\n",
       "        vertical-align: top;\n",
       "    }\n",
       "\n",
       "    .dataframe thead th {\n",
       "        text-align: right;\n",
       "    }\n",
       "</style>\n",
       "<table border=\"1\" class=\"dataframe\">\n",
       "  <thead>\n",
       "    <tr style=\"text-align: right;\">\n",
       "      <th></th>\n",
       "      <th>user_id</th>\n",
       "      <th>first_date</th>\n",
       "      <th>region</th>\n",
       "      <th>device</th>\n",
       "    </tr>\n",
       "  </thead>\n",
       "  <tbody>\n",
       "    <tr>\n",
       "      <th>0</th>\n",
       "      <td>D72A72121175D8BE</td>\n",
       "      <td>2020-12-07</td>\n",
       "      <td>EU</td>\n",
       "      <td>PC</td>\n",
       "    </tr>\n",
       "    <tr>\n",
       "      <th>1</th>\n",
       "      <td>F1C668619DFE6E65</td>\n",
       "      <td>2020-12-07</td>\n",
       "      <td>N.America</td>\n",
       "      <td>Android</td>\n",
       "    </tr>\n",
       "    <tr>\n",
       "      <th>2</th>\n",
       "      <td>2E1BF1D4C37EA01F</td>\n",
       "      <td>2020-12-07</td>\n",
       "      <td>EU</td>\n",
       "      <td>PC</td>\n",
       "    </tr>\n",
       "    <tr>\n",
       "      <th>3</th>\n",
       "      <td>50734A22C0C63768</td>\n",
       "      <td>2020-12-07</td>\n",
       "      <td>EU</td>\n",
       "      <td>iPhone</td>\n",
       "    </tr>\n",
       "    <tr>\n",
       "      <th>4</th>\n",
       "      <td>E1BDDCE0DAFA2679</td>\n",
       "      <td>2020-12-07</td>\n",
       "      <td>N.America</td>\n",
       "      <td>iPhone</td>\n",
       "    </tr>\n",
       "    <tr>\n",
       "      <th>...</th>\n",
       "      <td>...</td>\n",
       "      <td>...</td>\n",
       "      <td>...</td>\n",
       "      <td>...</td>\n",
       "    </tr>\n",
       "    <tr>\n",
       "      <th>61728</th>\n",
       "      <td>1DB53B933257165D</td>\n",
       "      <td>2020-12-20</td>\n",
       "      <td>EU</td>\n",
       "      <td>Android</td>\n",
       "    </tr>\n",
       "    <tr>\n",
       "      <th>61729</th>\n",
       "      <td>538643EB4527ED03</td>\n",
       "      <td>2020-12-20</td>\n",
       "      <td>EU</td>\n",
       "      <td>Mac</td>\n",
       "    </tr>\n",
       "    <tr>\n",
       "      <th>61730</th>\n",
       "      <td>7ADEE837D5D8CBBD</td>\n",
       "      <td>2020-12-20</td>\n",
       "      <td>EU</td>\n",
       "      <td>PC</td>\n",
       "    </tr>\n",
       "    <tr>\n",
       "      <th>61731</th>\n",
       "      <td>1C7D23927835213F</td>\n",
       "      <td>2020-12-20</td>\n",
       "      <td>EU</td>\n",
       "      <td>iPhone</td>\n",
       "    </tr>\n",
       "    <tr>\n",
       "      <th>61732</th>\n",
       "      <td>8F04273BB2860229</td>\n",
       "      <td>2020-12-20</td>\n",
       "      <td>EU</td>\n",
       "      <td>Android</td>\n",
       "    </tr>\n",
       "  </tbody>\n",
       "</table>\n",
       "<p>61733 rows × 4 columns</p>\n",
       "</div>"
      ],
      "text/plain": [
       "                user_id first_date     region   device\n",
       "0      D72A72121175D8BE 2020-12-07         EU       PC\n",
       "1      F1C668619DFE6E65 2020-12-07  N.America  Android\n",
       "2      2E1BF1D4C37EA01F 2020-12-07         EU       PC\n",
       "3      50734A22C0C63768 2020-12-07         EU   iPhone\n",
       "4      E1BDDCE0DAFA2679 2020-12-07  N.America   iPhone\n",
       "...                 ...        ...        ...      ...\n",
       "61728  1DB53B933257165D 2020-12-20         EU  Android\n",
       "61729  538643EB4527ED03 2020-12-20         EU      Mac\n",
       "61730  7ADEE837D5D8CBBD 2020-12-20         EU       PC\n",
       "61731  1C7D23927835213F 2020-12-20         EU   iPhone\n",
       "61732  8F04273BB2860229 2020-12-20         EU  Android\n",
       "\n",
       "[61733 rows x 4 columns]"
      ]
     },
     "execution_count": 15,
     "metadata": {},
     "output_type": "execute_result"
    }
   ],
   "source": [
    "new_users"
   ]
  },
  {
   "cell_type": "code",
   "execution_count": 16,
   "metadata": {
    "scrolled": false
   },
   "outputs": [
    {
     "data": {
      "text/plain": [
       "EU           0.749518\n",
       "N.America    0.148300\n",
       "CIS          0.051107\n",
       "APAC         0.051075\n",
       "Name: region, dtype: float64"
      ]
     },
     "execution_count": 16,
     "metadata": {},
     "output_type": "execute_result"
    }
   ],
   "source": [
    "new_users['region'].value_counts(normalize=True)"
   ]
  },
  {
   "cell_type": "markdown",
   "metadata": {},
   "source": [
    "По условиям задания 15% аудитории теста должны составлять пользователи из EU. У нас 75%"
   ]
  },
  {
   "cell_type": "code",
   "execution_count": 17,
   "metadata": {},
   "outputs": [],
   "source": [
    "events_new_users = events.merge(new_users, how='left', on='user_id')"
   ]
  },
  {
   "cell_type": "code",
   "execution_count": 18,
   "metadata": {
    "scrolled": true
   },
   "outputs": [
    {
     "data": {
      "text/html": [
       "<div>\n",
       "<style scoped>\n",
       "    .dataframe tbody tr th:only-of-type {\n",
       "        vertical-align: middle;\n",
       "    }\n",
       "\n",
       "    .dataframe tbody tr th {\n",
       "        vertical-align: top;\n",
       "    }\n",
       "\n",
       "    .dataframe thead th {\n",
       "        text-align: right;\n",
       "    }\n",
       "</style>\n",
       "<table border=\"1\" class=\"dataframe\">\n",
       "  <thead>\n",
       "    <tr style=\"text-align: right;\">\n",
       "      <th></th>\n",
       "      <th>user_id</th>\n",
       "      <th>event_dt</th>\n",
       "      <th>event_name</th>\n",
       "      <th>details</th>\n",
       "      <th>first_date</th>\n",
       "      <th>region</th>\n",
       "      <th>device</th>\n",
       "    </tr>\n",
       "  </thead>\n",
       "  <tbody>\n",
       "    <tr>\n",
       "      <th>0</th>\n",
       "      <td>E1BDDCE0DAFA2679</td>\n",
       "      <td>2020-12-07 20:22:03</td>\n",
       "      <td>purchase</td>\n",
       "      <td>99.99</td>\n",
       "      <td>2020-12-07</td>\n",
       "      <td>N.America</td>\n",
       "      <td>iPhone</td>\n",
       "    </tr>\n",
       "    <tr>\n",
       "      <th>1</th>\n",
       "      <td>7B6452F081F49504</td>\n",
       "      <td>2020-12-07 09:22:53</td>\n",
       "      <td>purchase</td>\n",
       "      <td>9.99</td>\n",
       "      <td>2020-12-07</td>\n",
       "      <td>EU</td>\n",
       "      <td>iPhone</td>\n",
       "    </tr>\n",
       "    <tr>\n",
       "      <th>2</th>\n",
       "      <td>9CD9F34546DF254C</td>\n",
       "      <td>2020-12-07 12:59:29</td>\n",
       "      <td>purchase</td>\n",
       "      <td>4.99</td>\n",
       "      <td>2020-12-07</td>\n",
       "      <td>N.America</td>\n",
       "      <td>iPhone</td>\n",
       "    </tr>\n",
       "    <tr>\n",
       "      <th>3</th>\n",
       "      <td>96F27A054B191457</td>\n",
       "      <td>2020-12-07 04:02:40</td>\n",
       "      <td>purchase</td>\n",
       "      <td>4.99</td>\n",
       "      <td>2020-12-07</td>\n",
       "      <td>EU</td>\n",
       "      <td>iPhone</td>\n",
       "    </tr>\n",
       "    <tr>\n",
       "      <th>4</th>\n",
       "      <td>1FD7660FDF94CA1F</td>\n",
       "      <td>2020-12-07 10:15:09</td>\n",
       "      <td>purchase</td>\n",
       "      <td>4.99</td>\n",
       "      <td>2020-12-07</td>\n",
       "      <td>EU</td>\n",
       "      <td>Android</td>\n",
       "    </tr>\n",
       "    <tr>\n",
       "      <th>...</th>\n",
       "      <td>...</td>\n",
       "      <td>...</td>\n",
       "      <td>...</td>\n",
       "      <td>...</td>\n",
       "      <td>...</td>\n",
       "      <td>...</td>\n",
       "      <td>...</td>\n",
       "    </tr>\n",
       "    <tr>\n",
       "      <th>440312</th>\n",
       "      <td>245E85F65C358E08</td>\n",
       "      <td>2020-12-30 19:35:55</td>\n",
       "      <td>login</td>\n",
       "      <td>NaN</td>\n",
       "      <td>2020-12-07</td>\n",
       "      <td>EU</td>\n",
       "      <td>Android</td>\n",
       "    </tr>\n",
       "    <tr>\n",
       "      <th>440313</th>\n",
       "      <td>9385A108F5A0A7A7</td>\n",
       "      <td>2020-12-30 10:54:15</td>\n",
       "      <td>login</td>\n",
       "      <td>NaN</td>\n",
       "      <td>2020-12-07</td>\n",
       "      <td>EU</td>\n",
       "      <td>PC</td>\n",
       "    </tr>\n",
       "    <tr>\n",
       "      <th>440314</th>\n",
       "      <td>DB650B7559AC6EAC</td>\n",
       "      <td>2020-12-30 10:59:09</td>\n",
       "      <td>login</td>\n",
       "      <td>NaN</td>\n",
       "      <td>2020-12-07</td>\n",
       "      <td>EU</td>\n",
       "      <td>Android</td>\n",
       "    </tr>\n",
       "    <tr>\n",
       "      <th>440315</th>\n",
       "      <td>F80C9BDDEA02E53C</td>\n",
       "      <td>2020-12-30 09:53:39</td>\n",
       "      <td>login</td>\n",
       "      <td>NaN</td>\n",
       "      <td>2020-12-07</td>\n",
       "      <td>EU</td>\n",
       "      <td>iPhone</td>\n",
       "    </tr>\n",
       "    <tr>\n",
       "      <th>440316</th>\n",
       "      <td>7AEC61159B672CC5</td>\n",
       "      <td>2020-12-30 11:36:13</td>\n",
       "      <td>login</td>\n",
       "      <td>NaN</td>\n",
       "      <td>2020-12-07</td>\n",
       "      <td>EU</td>\n",
       "      <td>iPhone</td>\n",
       "    </tr>\n",
       "  </tbody>\n",
       "</table>\n",
       "<p>440317 rows × 7 columns</p>\n",
       "</div>"
      ],
      "text/plain": [
       "                 user_id            event_dt event_name  details first_date  \\\n",
       "0       E1BDDCE0DAFA2679 2020-12-07 20:22:03   purchase    99.99 2020-12-07   \n",
       "1       7B6452F081F49504 2020-12-07 09:22:53   purchase     9.99 2020-12-07   \n",
       "2       9CD9F34546DF254C 2020-12-07 12:59:29   purchase     4.99 2020-12-07   \n",
       "3       96F27A054B191457 2020-12-07 04:02:40   purchase     4.99 2020-12-07   \n",
       "4       1FD7660FDF94CA1F 2020-12-07 10:15:09   purchase     4.99 2020-12-07   \n",
       "...                  ...                 ...        ...      ...        ...   \n",
       "440312  245E85F65C358E08 2020-12-30 19:35:55      login      NaN 2020-12-07   \n",
       "440313  9385A108F5A0A7A7 2020-12-30 10:54:15      login      NaN 2020-12-07   \n",
       "440314  DB650B7559AC6EAC 2020-12-30 10:59:09      login      NaN 2020-12-07   \n",
       "440315  F80C9BDDEA02E53C 2020-12-30 09:53:39      login      NaN 2020-12-07   \n",
       "440316  7AEC61159B672CC5 2020-12-30 11:36:13      login      NaN 2020-12-07   \n",
       "\n",
       "           region   device  \n",
       "0       N.America   iPhone  \n",
       "1              EU   iPhone  \n",
       "2       N.America   iPhone  \n",
       "3              EU   iPhone  \n",
       "4              EU  Android  \n",
       "...           ...      ...  \n",
       "440312         EU  Android  \n",
       "440313         EU       PC  \n",
       "440314         EU  Android  \n",
       "440315         EU   iPhone  \n",
       "440316         EU   iPhone  \n",
       "\n",
       "[440317 rows x 7 columns]"
      ]
     },
     "execution_count": 18,
     "metadata": {},
     "output_type": "execute_result"
    }
   ],
   "source": [
    "events_new_users"
   ]
  },
  {
   "cell_type": "code",
   "execution_count": 19,
   "metadata": {
    "scrolled": true
   },
   "outputs": [
    {
     "data": {
      "text/plain": [
       "58703"
      ]
     },
     "execution_count": 19,
     "metadata": {},
     "output_type": "execute_result"
    }
   ],
   "source": [
    "events_new_users['user_id'].nunique()"
   ]
  },
  {
   "cell_type": "code",
   "execution_count": 20,
   "metadata": {},
   "outputs": [
    {
     "data": {
      "text/html": [
       "<div>\n",
       "<style scoped>\n",
       "    .dataframe tbody tr th:only-of-type {\n",
       "        vertical-align: middle;\n",
       "    }\n",
       "\n",
       "    .dataframe tbody tr th {\n",
       "        vertical-align: top;\n",
       "    }\n",
       "\n",
       "    .dataframe thead th {\n",
       "        text-align: right;\n",
       "    }\n",
       "</style>\n",
       "<table border=\"1\" class=\"dataframe\">\n",
       "  <thead>\n",
       "    <tr style=\"text-align: right;\">\n",
       "      <th></th>\n",
       "      <th>user_id</th>\n",
       "      <th>group</th>\n",
       "      <th>ab_test</th>\n",
       "    </tr>\n",
       "  </thead>\n",
       "  <tbody>\n",
       "    <tr>\n",
       "      <th>0</th>\n",
       "      <td>D1ABA3E2887B6A73</td>\n",
       "      <td>A</td>\n",
       "      <td>recommender_system_test</td>\n",
       "    </tr>\n",
       "    <tr>\n",
       "      <th>1</th>\n",
       "      <td>A7A3664BD6242119</td>\n",
       "      <td>A</td>\n",
       "      <td>recommender_system_test</td>\n",
       "    </tr>\n",
       "    <tr>\n",
       "      <th>2</th>\n",
       "      <td>DABC14FDDFADD29E</td>\n",
       "      <td>A</td>\n",
       "      <td>recommender_system_test</td>\n",
       "    </tr>\n",
       "    <tr>\n",
       "      <th>3</th>\n",
       "      <td>04988C5DF189632E</td>\n",
       "      <td>A</td>\n",
       "      <td>recommender_system_test</td>\n",
       "    </tr>\n",
       "    <tr>\n",
       "      <th>4</th>\n",
       "      <td>482F14783456D21B</td>\n",
       "      <td>B</td>\n",
       "      <td>recommender_system_test</td>\n",
       "    </tr>\n",
       "    <tr>\n",
       "      <th>...</th>\n",
       "      <td>...</td>\n",
       "      <td>...</td>\n",
       "      <td>...</td>\n",
       "    </tr>\n",
       "    <tr>\n",
       "      <th>18263</th>\n",
       "      <td>1D302F8688B91781</td>\n",
       "      <td>B</td>\n",
       "      <td>interface_eu_test</td>\n",
       "    </tr>\n",
       "    <tr>\n",
       "      <th>18264</th>\n",
       "      <td>3DE51B726983B657</td>\n",
       "      <td>A</td>\n",
       "      <td>interface_eu_test</td>\n",
       "    </tr>\n",
       "    <tr>\n",
       "      <th>18265</th>\n",
       "      <td>F501F79D332BE86C</td>\n",
       "      <td>A</td>\n",
       "      <td>interface_eu_test</td>\n",
       "    </tr>\n",
       "    <tr>\n",
       "      <th>18266</th>\n",
       "      <td>63FBE257B05F2245</td>\n",
       "      <td>A</td>\n",
       "      <td>interface_eu_test</td>\n",
       "    </tr>\n",
       "    <tr>\n",
       "      <th>18267</th>\n",
       "      <td>79F9ABFB029CF724</td>\n",
       "      <td>B</td>\n",
       "      <td>interface_eu_test</td>\n",
       "    </tr>\n",
       "  </tbody>\n",
       "</table>\n",
       "<p>18268 rows × 3 columns</p>\n",
       "</div>"
      ],
      "text/plain": [
       "                user_id group                  ab_test\n",
       "0      D1ABA3E2887B6A73     A  recommender_system_test\n",
       "1      A7A3664BD6242119     A  recommender_system_test\n",
       "2      DABC14FDDFADD29E     A  recommender_system_test\n",
       "3      04988C5DF189632E     A  recommender_system_test\n",
       "4      482F14783456D21B     B  recommender_system_test\n",
       "...                 ...   ...                      ...\n",
       "18263  1D302F8688B91781     B        interface_eu_test\n",
       "18264  3DE51B726983B657     A        interface_eu_test\n",
       "18265  F501F79D332BE86C     A        interface_eu_test\n",
       "18266  63FBE257B05F2245     A        interface_eu_test\n",
       "18267  79F9ABFB029CF724     B        interface_eu_test\n",
       "\n",
       "[18268 rows x 3 columns]"
      ]
     },
     "execution_count": 20,
     "metadata": {},
     "output_type": "execute_result"
    }
   ],
   "source": [
    "participants"
   ]
  },
  {
   "cell_type": "code",
   "execution_count": 21,
   "metadata": {
    "scrolled": false
   },
   "outputs": [
    {
     "data": {
      "text/plain": [
       "16666"
      ]
     },
     "execution_count": 21,
     "metadata": {},
     "output_type": "execute_result"
    }
   ],
   "source": [
    "participants['user_id'].nunique()"
   ]
  },
  {
   "cell_type": "markdown",
   "metadata": {},
   "source": [
    "В данных с действиями новых пользователей 58703 уникальных пользователя, в то время как в данных об участниках теста всего лишь 16666 уникальных пользователей и не все из них относятся к исследуемому тесту `recommender_system_test`"
   ]
  },
  {
   "cell_type": "code",
   "execution_count": 22,
   "metadata": {
    "scrolled": true
   },
   "outputs": [
    {
     "data": {
      "text/html": [
       "<div>\n",
       "<style scoped>\n",
       "    .dataframe tbody tr th:only-of-type {\n",
       "        vertical-align: middle;\n",
       "    }\n",
       "\n",
       "    .dataframe tbody tr th {\n",
       "        vertical-align: top;\n",
       "    }\n",
       "\n",
       "    .dataframe thead th {\n",
       "        text-align: right;\n",
       "    }\n",
       "</style>\n",
       "<table border=\"1\" class=\"dataframe\">\n",
       "  <thead>\n",
       "    <tr style=\"text-align: right;\">\n",
       "      <th></th>\n",
       "      <th>user_id</th>\n",
       "      <th>group_x</th>\n",
       "      <th>ab_test_x</th>\n",
       "      <th>group_y</th>\n",
       "      <th>ab_test_y</th>\n",
       "    </tr>\n",
       "  </thead>\n",
       "  <tbody>\n",
       "    <tr>\n",
       "      <th>0</th>\n",
       "      <td>773ECB64E45DEBAB</td>\n",
       "      <td>A</td>\n",
       "      <td>interface_eu_test</td>\n",
       "      <td>A</td>\n",
       "      <td>recommender_system_test</td>\n",
       "    </tr>\n",
       "    <tr>\n",
       "      <th>1</th>\n",
       "      <td>AABA4219186465C9</td>\n",
       "      <td>A</td>\n",
       "      <td>interface_eu_test</td>\n",
       "      <td>A</td>\n",
       "      <td>recommender_system_test</td>\n",
       "    </tr>\n",
       "    <tr>\n",
       "      <th>2</th>\n",
       "      <td>2BA8FA8754D1FE50</td>\n",
       "      <td>B</td>\n",
       "      <td>interface_eu_test</td>\n",
       "      <td>A</td>\n",
       "      <td>recommender_system_test</td>\n",
       "    </tr>\n",
       "    <tr>\n",
       "      <th>3</th>\n",
       "      <td>FB6F6BC119E1DBD5</td>\n",
       "      <td>B</td>\n",
       "      <td>interface_eu_test</td>\n",
       "      <td>A</td>\n",
       "      <td>recommender_system_test</td>\n",
       "    </tr>\n",
       "    <tr>\n",
       "      <th>4</th>\n",
       "      <td>0ABA6D32AE7AFB9B</td>\n",
       "      <td>A</td>\n",
       "      <td>interface_eu_test</td>\n",
       "      <td>B</td>\n",
       "      <td>recommender_system_test</td>\n",
       "    </tr>\n",
       "    <tr>\n",
       "      <th>...</th>\n",
       "      <td>...</td>\n",
       "      <td>...</td>\n",
       "      <td>...</td>\n",
       "      <td>...</td>\n",
       "      <td>...</td>\n",
       "    </tr>\n",
       "    <tr>\n",
       "      <th>1597</th>\n",
       "      <td>EF2E4FAF26951358</td>\n",
       "      <td>A</td>\n",
       "      <td>interface_eu_test</td>\n",
       "      <td>A</td>\n",
       "      <td>recommender_system_test</td>\n",
       "    </tr>\n",
       "    <tr>\n",
       "      <th>1598</th>\n",
       "      <td>2B0CD24EE4291CA0</td>\n",
       "      <td>B</td>\n",
       "      <td>interface_eu_test</td>\n",
       "      <td>B</td>\n",
       "      <td>recommender_system_test</td>\n",
       "    </tr>\n",
       "    <tr>\n",
       "      <th>1599</th>\n",
       "      <td>CA6F4DAED160E5B1</td>\n",
       "      <td>A</td>\n",
       "      <td>interface_eu_test</td>\n",
       "      <td>B</td>\n",
       "      <td>recommender_system_test</td>\n",
       "    </tr>\n",
       "    <tr>\n",
       "      <th>1600</th>\n",
       "      <td>C70DF942E542DA69</td>\n",
       "      <td>A</td>\n",
       "      <td>interface_eu_test</td>\n",
       "      <td>B</td>\n",
       "      <td>recommender_system_test</td>\n",
       "    </tr>\n",
       "    <tr>\n",
       "      <th>1601</th>\n",
       "      <td>CE782A3646E8E5E1</td>\n",
       "      <td>A</td>\n",
       "      <td>interface_eu_test</td>\n",
       "      <td>B</td>\n",
       "      <td>recommender_system_test</td>\n",
       "    </tr>\n",
       "  </tbody>\n",
       "</table>\n",
       "<p>1602 rows × 5 columns</p>\n",
       "</div>"
      ],
      "text/plain": [
       "               user_id group_x          ab_test_x group_y  \\\n",
       "0     773ECB64E45DEBAB       A  interface_eu_test       A   \n",
       "1     AABA4219186465C9       A  interface_eu_test       A   \n",
       "2     2BA8FA8754D1FE50       B  interface_eu_test       A   \n",
       "3     FB6F6BC119E1DBD5       B  interface_eu_test       A   \n",
       "4     0ABA6D32AE7AFB9B       A  interface_eu_test       B   \n",
       "...                ...     ...                ...     ...   \n",
       "1597  EF2E4FAF26951358       A  interface_eu_test       A   \n",
       "1598  2B0CD24EE4291CA0       B  interface_eu_test       B   \n",
       "1599  CA6F4DAED160E5B1       A  interface_eu_test       B   \n",
       "1600  C70DF942E542DA69       A  interface_eu_test       B   \n",
       "1601  CE782A3646E8E5E1       A  interface_eu_test       B   \n",
       "\n",
       "                    ab_test_y  \n",
       "0     recommender_system_test  \n",
       "1     recommender_system_test  \n",
       "2     recommender_system_test  \n",
       "3     recommender_system_test  \n",
       "4     recommender_system_test  \n",
       "...                       ...  \n",
       "1597  recommender_system_test  \n",
       "1598  recommender_system_test  \n",
       "1599  recommender_system_test  \n",
       "1600  recommender_system_test  \n",
       "1601  recommender_system_test  \n",
       "\n",
       "[1602 rows x 5 columns]"
      ]
     },
     "execution_count": 22,
     "metadata": {},
     "output_type": "execute_result"
    }
   ],
   "source": [
    "pd.merge(participants[participants['ab_test'] == 'interface_eu_test'], \n",
    "         participants[participants['ab_test'] == 'recommender_system_test'],\n",
    "        how='inner', on='user_id')"
   ]
  },
  {
   "cell_type": "markdown",
   "metadata": {},
   "source": [
    "1602 пользователя из исследуемого теста `recommender_system_test` также участвуют в другом тесте - `interface_eu_test`."
   ]
  },
  {
   "cell_type": "code",
   "execution_count": 23,
   "metadata": {},
   "outputs": [],
   "source": [
    "recsys_participants = participants[participants['ab_test'] == 'recommender_system_test']"
   ]
  },
  {
   "cell_type": "code",
   "execution_count": 24,
   "metadata": {},
   "outputs": [
    {
     "data": {
      "text/html": [
       "<div>\n",
       "<style scoped>\n",
       "    .dataframe tbody tr th:only-of-type {\n",
       "        vertical-align: middle;\n",
       "    }\n",
       "\n",
       "    .dataframe tbody tr th {\n",
       "        vertical-align: top;\n",
       "    }\n",
       "\n",
       "    .dataframe thead th {\n",
       "        text-align: right;\n",
       "    }\n",
       "</style>\n",
       "<table border=\"1\" class=\"dataframe\">\n",
       "  <thead>\n",
       "    <tr style=\"text-align: right;\">\n",
       "      <th></th>\n",
       "      <th>user_id</th>\n",
       "      <th>group_x</th>\n",
       "      <th>ab_test_x</th>\n",
       "      <th>group_y</th>\n",
       "      <th>ab_test_y</th>\n",
       "    </tr>\n",
       "  </thead>\n",
       "  <tbody>\n",
       "  </tbody>\n",
       "</table>\n",
       "</div>"
      ],
      "text/plain": [
       "Empty DataFrame\n",
       "Columns: [user_id, group_x, ab_test_x, group_y, ab_test_y]\n",
       "Index: []"
      ]
     },
     "execution_count": 24,
     "metadata": {},
     "output_type": "execute_result"
    }
   ],
   "source": [
    "pd.merge(recsys_participants[recsys_participants['group'] == 'A'], \n",
    "         recsys_participants[recsys_participants['group'] == 'B'],\n",
    "        how='inner', on='user_id')"
   ]
  },
  {
   "cell_type": "markdown",
   "metadata": {},
   "source": [
    "Пользователи в группах не пересекаются"
   ]
  },
  {
   "cell_type": "code",
   "execution_count": 25,
   "metadata": {
    "scrolled": true
   },
   "outputs": [
    {
     "data": {
      "text/plain": [
       "interface_eu_test          11567\n",
       "recommender_system_test     6701\n",
       "Name: ab_test, dtype: int64"
      ]
     },
     "execution_count": 25,
     "metadata": {},
     "output_type": "execute_result"
    }
   ],
   "source": [
    "participants['ab_test'].value_counts()"
   ]
  },
  {
   "cell_type": "markdown",
   "metadata": {},
   "source": [
    "К исследуемому тесту `recommender_system_test` относятся только 6701 пользователей.  \n",
    "\n",
    "Добавим данные о принадлежности к группе теста в таблицу с событиями"
   ]
  },
  {
   "cell_type": "code",
   "execution_count": 26,
   "metadata": {},
   "outputs": [],
   "source": [
    "df_events = events_new_users.merge(\n",
    "    participants[participants['ab_test'] == 'recommender_system_test'], \n",
    "    how='inner', on='user_id')"
   ]
  },
  {
   "cell_type": "code",
   "execution_count": 27,
   "metadata": {
    "scrolled": true
   },
   "outputs": [
    {
     "data": {
      "text/html": [
       "<div>\n",
       "<style scoped>\n",
       "    .dataframe tbody tr th:only-of-type {\n",
       "        vertical-align: middle;\n",
       "    }\n",
       "\n",
       "    .dataframe tbody tr th {\n",
       "        vertical-align: top;\n",
       "    }\n",
       "\n",
       "    .dataframe thead th {\n",
       "        text-align: right;\n",
       "    }\n",
       "</style>\n",
       "<table border=\"1\" class=\"dataframe\">\n",
       "  <thead>\n",
       "    <tr style=\"text-align: right;\">\n",
       "      <th></th>\n",
       "      <th>user_id</th>\n",
       "      <th>event_dt</th>\n",
       "      <th>event_name</th>\n",
       "      <th>details</th>\n",
       "      <th>first_date</th>\n",
       "      <th>region</th>\n",
       "      <th>device</th>\n",
       "      <th>group</th>\n",
       "      <th>ab_test</th>\n",
       "    </tr>\n",
       "  </thead>\n",
       "  <tbody>\n",
       "    <tr>\n",
       "      <th>0</th>\n",
       "      <td>831887FE7F2D6CBA</td>\n",
       "      <td>2020-12-07 06:50:29</td>\n",
       "      <td>purchase</td>\n",
       "      <td>4.99</td>\n",
       "      <td>2020-12-07</td>\n",
       "      <td>EU</td>\n",
       "      <td>Android</td>\n",
       "      <td>A</td>\n",
       "      <td>recommender_system_test</td>\n",
       "    </tr>\n",
       "    <tr>\n",
       "      <th>1</th>\n",
       "      <td>831887FE7F2D6CBA</td>\n",
       "      <td>2020-12-09 02:19:17</td>\n",
       "      <td>purchase</td>\n",
       "      <td>99.99</td>\n",
       "      <td>2020-12-07</td>\n",
       "      <td>EU</td>\n",
       "      <td>Android</td>\n",
       "      <td>A</td>\n",
       "      <td>recommender_system_test</td>\n",
       "    </tr>\n",
       "    <tr>\n",
       "      <th>2</th>\n",
       "      <td>831887FE7F2D6CBA</td>\n",
       "      <td>2020-12-07 06:50:30</td>\n",
       "      <td>product_cart</td>\n",
       "      <td>NaN</td>\n",
       "      <td>2020-12-07</td>\n",
       "      <td>EU</td>\n",
       "      <td>Android</td>\n",
       "      <td>A</td>\n",
       "      <td>recommender_system_test</td>\n",
       "    </tr>\n",
       "    <tr>\n",
       "      <th>3</th>\n",
       "      <td>831887FE7F2D6CBA</td>\n",
       "      <td>2020-12-08 10:52:27</td>\n",
       "      <td>product_cart</td>\n",
       "      <td>NaN</td>\n",
       "      <td>2020-12-07</td>\n",
       "      <td>EU</td>\n",
       "      <td>Android</td>\n",
       "      <td>A</td>\n",
       "      <td>recommender_system_test</td>\n",
       "    </tr>\n",
       "    <tr>\n",
       "      <th>4</th>\n",
       "      <td>831887FE7F2D6CBA</td>\n",
       "      <td>2020-12-09 02:19:17</td>\n",
       "      <td>product_cart</td>\n",
       "      <td>NaN</td>\n",
       "      <td>2020-12-07</td>\n",
       "      <td>EU</td>\n",
       "      <td>Android</td>\n",
       "      <td>A</td>\n",
       "      <td>recommender_system_test</td>\n",
       "    </tr>\n",
       "    <tr>\n",
       "      <th>...</th>\n",
       "      <td>...</td>\n",
       "      <td>...</td>\n",
       "      <td>...</td>\n",
       "      <td>...</td>\n",
       "      <td>...</td>\n",
       "      <td>...</td>\n",
       "      <td>...</td>\n",
       "      <td>...</td>\n",
       "      <td>...</td>\n",
       "    </tr>\n",
       "    <tr>\n",
       "      <th>24693</th>\n",
       "      <td>1E6B9298415AA97A</td>\n",
       "      <td>2020-12-22 03:22:34</td>\n",
       "      <td>login</td>\n",
       "      <td>NaN</td>\n",
       "      <td>2020-12-21</td>\n",
       "      <td>N.America</td>\n",
       "      <td>Android</td>\n",
       "      <td>B</td>\n",
       "      <td>recommender_system_test</td>\n",
       "    </tr>\n",
       "    <tr>\n",
       "      <th>24694</th>\n",
       "      <td>1E6B9298415AA97A</td>\n",
       "      <td>2020-12-23 11:34:53</td>\n",
       "      <td>login</td>\n",
       "      <td>NaN</td>\n",
       "      <td>2020-12-21</td>\n",
       "      <td>N.America</td>\n",
       "      <td>Android</td>\n",
       "      <td>B</td>\n",
       "      <td>recommender_system_test</td>\n",
       "    </tr>\n",
       "    <tr>\n",
       "      <th>24695</th>\n",
       "      <td>1E6B9298415AA97A</td>\n",
       "      <td>2020-12-24 18:45:58</td>\n",
       "      <td>login</td>\n",
       "      <td>NaN</td>\n",
       "      <td>2020-12-21</td>\n",
       "      <td>N.America</td>\n",
       "      <td>Android</td>\n",
       "      <td>B</td>\n",
       "      <td>recommender_system_test</td>\n",
       "    </tr>\n",
       "    <tr>\n",
       "      <th>24696</th>\n",
       "      <td>1E6B9298415AA97A</td>\n",
       "      <td>2020-12-25 16:40:01</td>\n",
       "      <td>login</td>\n",
       "      <td>NaN</td>\n",
       "      <td>2020-12-21</td>\n",
       "      <td>N.America</td>\n",
       "      <td>Android</td>\n",
       "      <td>B</td>\n",
       "      <td>recommender_system_test</td>\n",
       "    </tr>\n",
       "    <tr>\n",
       "      <th>24697</th>\n",
       "      <td>23DDD27AC3FEFA63</td>\n",
       "      <td>2020-12-21 02:51:45</td>\n",
       "      <td>login</td>\n",
       "      <td>NaN</td>\n",
       "      <td>2020-12-21</td>\n",
       "      <td>EU</td>\n",
       "      <td>PC</td>\n",
       "      <td>A</td>\n",
       "      <td>recommender_system_test</td>\n",
       "    </tr>\n",
       "  </tbody>\n",
       "</table>\n",
       "<p>24698 rows × 9 columns</p>\n",
       "</div>"
      ],
      "text/plain": [
       "                user_id            event_dt    event_name  details first_date  \\\n",
       "0      831887FE7F2D6CBA 2020-12-07 06:50:29      purchase     4.99 2020-12-07   \n",
       "1      831887FE7F2D6CBA 2020-12-09 02:19:17      purchase    99.99 2020-12-07   \n",
       "2      831887FE7F2D6CBA 2020-12-07 06:50:30  product_cart      NaN 2020-12-07   \n",
       "3      831887FE7F2D6CBA 2020-12-08 10:52:27  product_cart      NaN 2020-12-07   \n",
       "4      831887FE7F2D6CBA 2020-12-09 02:19:17  product_cart      NaN 2020-12-07   \n",
       "...                 ...                 ...           ...      ...        ...   \n",
       "24693  1E6B9298415AA97A 2020-12-22 03:22:34         login      NaN 2020-12-21   \n",
       "24694  1E6B9298415AA97A 2020-12-23 11:34:53         login      NaN 2020-12-21   \n",
       "24695  1E6B9298415AA97A 2020-12-24 18:45:58         login      NaN 2020-12-21   \n",
       "24696  1E6B9298415AA97A 2020-12-25 16:40:01         login      NaN 2020-12-21   \n",
       "24697  23DDD27AC3FEFA63 2020-12-21 02:51:45         login      NaN 2020-12-21   \n",
       "\n",
       "          region   device group                  ab_test  \n",
       "0             EU  Android     A  recommender_system_test  \n",
       "1             EU  Android     A  recommender_system_test  \n",
       "2             EU  Android     A  recommender_system_test  \n",
       "3             EU  Android     A  recommender_system_test  \n",
       "4             EU  Android     A  recommender_system_test  \n",
       "...          ...      ...   ...                      ...  \n",
       "24693  N.America  Android     B  recommender_system_test  \n",
       "24694  N.America  Android     B  recommender_system_test  \n",
       "24695  N.America  Android     B  recommender_system_test  \n",
       "24696  N.America  Android     B  recommender_system_test  \n",
       "24697         EU       PC     A  recommender_system_test  \n",
       "\n",
       "[24698 rows x 9 columns]"
      ]
     },
     "execution_count": 27,
     "metadata": {},
     "output_type": "execute_result"
    }
   ],
   "source": [
    "df_events"
   ]
  },
  {
   "cell_type": "code",
   "execution_count": 28,
   "metadata": {},
   "outputs": [
    {
     "data": {
      "text/plain": [
       "0.05609140687277575"
      ]
     },
     "execution_count": 28,
     "metadata": {},
     "output_type": "execute_result"
    }
   ],
   "source": [
    "len(df_events) / len(initial_events)"
   ]
  },
  {
   "cell_type": "markdown",
   "metadata": {},
   "source": [
    "Данных, пригодных для анализа теста в представленном датасете с событиями, всего лишь 5.6%"
   ]
  },
  {
   "cell_type": "code",
   "execution_count": 29,
   "metadata": {},
   "outputs": [
    {
     "data": {
      "text/plain": [
       "3675"
      ]
     },
     "execution_count": 29,
     "metadata": {},
     "output_type": "execute_result"
    }
   ],
   "source": [
    "df_events['user_id'].nunique()"
   ]
  },
  {
   "cell_type": "markdown",
   "metadata": {},
   "source": [
    "Из 6701 пользователей, присутствующих в данных об участниках исследуемого теста, в данных о событиях присутствуют только 3675."
   ]
  },
  {
   "cell_type": "code",
   "execution_count": 30,
   "metadata": {
    "scrolled": true
   },
   "outputs": [
    {
     "data": {
      "text/html": [
       "<div>\n",
       "<style scoped>\n",
       "    .dataframe tbody tr th:only-of-type {\n",
       "        vertical-align: middle;\n",
       "    }\n",
       "\n",
       "    .dataframe tbody tr th {\n",
       "        vertical-align: top;\n",
       "    }\n",
       "\n",
       "    .dataframe thead th {\n",
       "        text-align: right;\n",
       "    }\n",
       "</style>\n",
       "<table border=\"1\" class=\"dataframe\">\n",
       "  <thead>\n",
       "    <tr style=\"text-align: right;\">\n",
       "      <th></th>\n",
       "      <th>group</th>\n",
       "      <th>user_id</th>\n",
       "      <th>part_of_total</th>\n",
       "    </tr>\n",
       "  </thead>\n",
       "  <tbody>\n",
       "    <tr>\n",
       "      <th>0</th>\n",
       "      <td>A</td>\n",
       "      <td>2747</td>\n",
       "      <td>0.747483</td>\n",
       "    </tr>\n",
       "    <tr>\n",
       "      <th>1</th>\n",
       "      <td>B</td>\n",
       "      <td>928</td>\n",
       "      <td>0.252517</td>\n",
       "    </tr>\n",
       "  </tbody>\n",
       "</table>\n",
       "</div>"
      ],
      "text/plain": [
       "  group  user_id  part_of_total\n",
       "0     A     2747       0.747483\n",
       "1     B      928       0.252517"
      ]
     },
     "execution_count": 30,
     "metadata": {},
     "output_type": "execute_result"
    }
   ],
   "source": [
    "groups = df_events.groupby('group')['user_id'].nunique().reset_index()\n",
    "groups['part_of_total'] = groups['user_id'] / groups['user_id'].sum()\n",
    "groups"
   ]
  },
  {
   "cell_type": "markdown",
   "metadata": {},
   "source": [
    "В пригодных для анализа данных видим неравномерное распределение пользователей по группам, 75% пользователей - группа А, и 25% пользователей - группа B."
   ]
  },
  {
   "cell_type": "code",
   "execution_count": 31,
   "metadata": {},
   "outputs": [
    {
     "data": {
      "text/plain": [
       "0.07523233196455587"
      ]
     },
     "execution_count": 31,
     "metadata": {},
     "output_type": "execute_result"
    }
   ],
   "source": [
    "df_events[df_events['region'] == 'EU']['user_id'].nunique() / new_users[new_users['region'] == 'EU']['user_id'].nunique()"
   ]
  },
  {
   "cell_type": "markdown",
   "metadata": {},
   "source": [
    "Только 7,5% пользователей, участвующие в тесте, из региона EU."
   ]
  },
  {
   "cell_type": "code",
   "execution_count": 32,
   "metadata": {
    "scrolled": true
   },
   "outputs": [
    {
     "data": {
      "text/html": [
       "<div>\n",
       "<style scoped>\n",
       "    .dataframe tbody tr th:only-of-type {\n",
       "        vertical-align: middle;\n",
       "    }\n",
       "\n",
       "    .dataframe tbody tr th {\n",
       "        vertical-align: top;\n",
       "    }\n",
       "\n",
       "    .dataframe thead th {\n",
       "        text-align: right;\n",
       "    }\n",
       "</style>\n",
       "<table border=\"1\" class=\"dataframe\">\n",
       "  <thead>\n",
       "    <tr style=\"text-align: right;\">\n",
       "      <th></th>\n",
       "      <th>region</th>\n",
       "      <th>user_id</th>\n",
       "      <th>region_part</th>\n",
       "    </tr>\n",
       "  </thead>\n",
       "  <tbody>\n",
       "    <tr>\n",
       "      <th>0</th>\n",
       "      <td>APAC</td>\n",
       "      <td>45</td>\n",
       "      <td>0.012245</td>\n",
       "    </tr>\n",
       "    <tr>\n",
       "      <th>1</th>\n",
       "      <td>CIS</td>\n",
       "      <td>30</td>\n",
       "      <td>0.008163</td>\n",
       "    </tr>\n",
       "    <tr>\n",
       "      <th>2</th>\n",
       "      <td>EU</td>\n",
       "      <td>3481</td>\n",
       "      <td>0.947211</td>\n",
       "    </tr>\n",
       "    <tr>\n",
       "      <th>3</th>\n",
       "      <td>N.America</td>\n",
       "      <td>119</td>\n",
       "      <td>0.032381</td>\n",
       "    </tr>\n",
       "  </tbody>\n",
       "</table>\n",
       "</div>"
      ],
      "text/plain": [
       "      region  user_id  region_part\n",
       "0       APAC       45     0.012245\n",
       "1        CIS       30     0.008163\n",
       "2         EU     3481     0.947211\n",
       "3  N.America      119     0.032381"
      ]
     },
     "execution_count": 32,
     "metadata": {},
     "output_type": "execute_result"
    }
   ],
   "source": [
    "regions = df_events.groupby('region')['user_id'].nunique().reset_index()\n",
    "regions['region_part'] = regions['user_id'] / regions['user_id'].sum()\n",
    "regions"
   ]
  },
  {
   "cell_type": "markdown",
   "metadata": {},
   "source": [
    "почему-то в воронке по всем пользователям событий с покупкой больше, чем с просмотром корзины, кто-то не проходит этап просмотра корзины и сразу совершает покупку."
   ]
  },
  {
   "cell_type": "code",
   "execution_count": 35,
   "metadata": {
    "scrolled": true
   },
   "outputs": [
    {
     "data": {
      "text/html": [
       "<div>\n",
       "<style scoped>\n",
       "    .dataframe tbody tr th:only-of-type {\n",
       "        vertical-align: middle;\n",
       "    }\n",
       "\n",
       "    .dataframe tbody tr th {\n",
       "        vertical-align: top;\n",
       "    }\n",
       "\n",
       "    .dataframe thead th {\n",
       "        text-align: right;\n",
       "    }\n",
       "</style>\n",
       "<table border=\"1\" class=\"dataframe\">\n",
       "  <thead>\n",
       "    <tr style=\"text-align: right;\">\n",
       "      <th></th>\n",
       "      <th>user_id</th>\n",
       "      <th>event_dt</th>\n",
       "      <th>event_name</th>\n",
       "      <th>details</th>\n",
       "      <th>first_date</th>\n",
       "      <th>region</th>\n",
       "      <th>device</th>\n",
       "      <th>group</th>\n",
       "      <th>ab_test</th>\n",
       "    </tr>\n",
       "  </thead>\n",
       "  <tbody>\n",
       "    <tr>\n",
       "      <th>21197</th>\n",
       "      <td>001064FEAAB631A1</td>\n",
       "      <td>2020-12-20 14:43:27</td>\n",
       "      <td>login</td>\n",
       "      <td>NaN</td>\n",
       "      <td>2020-12-20</td>\n",
       "      <td>EU</td>\n",
       "      <td>Android</td>\n",
       "      <td>B</td>\n",
       "      <td>recommender_system_test</td>\n",
       "    </tr>\n",
       "    <tr>\n",
       "      <th>21194</th>\n",
       "      <td>001064FEAAB631A1</td>\n",
       "      <td>2020-12-20 14:43:28</td>\n",
       "      <td>product_page</td>\n",
       "      <td>NaN</td>\n",
       "      <td>2020-12-20</td>\n",
       "      <td>EU</td>\n",
       "      <td>Android</td>\n",
       "      <td>B</td>\n",
       "      <td>recommender_system_test</td>\n",
       "    </tr>\n",
       "    <tr>\n",
       "      <th>21198</th>\n",
       "      <td>001064FEAAB631A1</td>\n",
       "      <td>2020-12-21 03:19:15</td>\n",
       "      <td>login</td>\n",
       "      <td>NaN</td>\n",
       "      <td>2020-12-20</td>\n",
       "      <td>EU</td>\n",
       "      <td>Android</td>\n",
       "      <td>B</td>\n",
       "      <td>recommender_system_test</td>\n",
       "    </tr>\n",
       "    <tr>\n",
       "      <th>21195</th>\n",
       "      <td>001064FEAAB631A1</td>\n",
       "      <td>2020-12-21 03:19:17</td>\n",
       "      <td>product_page</td>\n",
       "      <td>NaN</td>\n",
       "      <td>2020-12-20</td>\n",
       "      <td>EU</td>\n",
       "      <td>Android</td>\n",
       "      <td>B</td>\n",
       "      <td>recommender_system_test</td>\n",
       "    </tr>\n",
       "    <tr>\n",
       "      <th>21199</th>\n",
       "      <td>001064FEAAB631A1</td>\n",
       "      <td>2020-12-26 15:55:17</td>\n",
       "      <td>login</td>\n",
       "      <td>NaN</td>\n",
       "      <td>2020-12-20</td>\n",
       "      <td>EU</td>\n",
       "      <td>Android</td>\n",
       "      <td>B</td>\n",
       "      <td>recommender_system_test</td>\n",
       "    </tr>\n",
       "    <tr>\n",
       "      <th>21196</th>\n",
       "      <td>001064FEAAB631A1</td>\n",
       "      <td>2020-12-26 15:55:18</td>\n",
       "      <td>product_page</td>\n",
       "      <td>NaN</td>\n",
       "      <td>2020-12-20</td>\n",
       "      <td>EU</td>\n",
       "      <td>Android</td>\n",
       "      <td>B</td>\n",
       "      <td>recommender_system_test</td>\n",
       "    </tr>\n",
       "    <tr>\n",
       "      <th>6070</th>\n",
       "      <td>0010A1C096941592</td>\n",
       "      <td>2020-12-17 21:07:27</td>\n",
       "      <td>purchase</td>\n",
       "      <td>4.99</td>\n",
       "      <td>2020-12-17</td>\n",
       "      <td>EU</td>\n",
       "      <td>Android</td>\n",
       "      <td>A</td>\n",
       "      <td>recommender_system_test</td>\n",
       "    </tr>\n",
       "    <tr>\n",
       "      <th>6074</th>\n",
       "      <td>0010A1C096941592</td>\n",
       "      <td>2020-12-17 21:07:27</td>\n",
       "      <td>product_page</td>\n",
       "      <td>NaN</td>\n",
       "      <td>2020-12-17</td>\n",
       "      <td>EU</td>\n",
       "      <td>Android</td>\n",
       "      <td>A</td>\n",
       "      <td>recommender_system_test</td>\n",
       "    </tr>\n",
       "    <tr>\n",
       "      <th>6078</th>\n",
       "      <td>0010A1C096941592</td>\n",
       "      <td>2020-12-17 21:07:27</td>\n",
       "      <td>login</td>\n",
       "      <td>NaN</td>\n",
       "      <td>2020-12-17</td>\n",
       "      <td>EU</td>\n",
       "      <td>Android</td>\n",
       "      <td>A</td>\n",
       "      <td>recommender_system_test</td>\n",
       "    </tr>\n",
       "    <tr>\n",
       "      <th>6071</th>\n",
       "      <td>0010A1C096941592</td>\n",
       "      <td>2020-12-19 04:34:37</td>\n",
       "      <td>purchase</td>\n",
       "      <td>4.99</td>\n",
       "      <td>2020-12-17</td>\n",
       "      <td>EU</td>\n",
       "      <td>Android</td>\n",
       "      <td>A</td>\n",
       "      <td>recommender_system_test</td>\n",
       "    </tr>\n",
       "    <tr>\n",
       "      <th>6079</th>\n",
       "      <td>0010A1C096941592</td>\n",
       "      <td>2020-12-19 04:34:37</td>\n",
       "      <td>login</td>\n",
       "      <td>NaN</td>\n",
       "      <td>2020-12-17</td>\n",
       "      <td>EU</td>\n",
       "      <td>Android</td>\n",
       "      <td>A</td>\n",
       "      <td>recommender_system_test</td>\n",
       "    </tr>\n",
       "    <tr>\n",
       "      <th>6075</th>\n",
       "      <td>0010A1C096941592</td>\n",
       "      <td>2020-12-19 04:34:38</td>\n",
       "      <td>product_page</td>\n",
       "      <td>NaN</td>\n",
       "      <td>2020-12-17</td>\n",
       "      <td>EU</td>\n",
       "      <td>Android</td>\n",
       "      <td>A</td>\n",
       "      <td>recommender_system_test</td>\n",
       "    </tr>\n",
       "    <tr>\n",
       "      <th>6072</th>\n",
       "      <td>0010A1C096941592</td>\n",
       "      <td>2020-12-21 21:05:23</td>\n",
       "      <td>purchase</td>\n",
       "      <td>4.99</td>\n",
       "      <td>2020-12-17</td>\n",
       "      <td>EU</td>\n",
       "      <td>Android</td>\n",
       "      <td>A</td>\n",
       "      <td>recommender_system_test</td>\n",
       "    </tr>\n",
       "    <tr>\n",
       "      <th>6080</th>\n",
       "      <td>0010A1C096941592</td>\n",
       "      <td>2020-12-21 21:05:23</td>\n",
       "      <td>login</td>\n",
       "      <td>NaN</td>\n",
       "      <td>2020-12-17</td>\n",
       "      <td>EU</td>\n",
       "      <td>Android</td>\n",
       "      <td>A</td>\n",
       "      <td>recommender_system_test</td>\n",
       "    </tr>\n",
       "    <tr>\n",
       "      <th>6076</th>\n",
       "      <td>0010A1C096941592</td>\n",
       "      <td>2020-12-21 21:05:24</td>\n",
       "      <td>product_page</td>\n",
       "      <td>NaN</td>\n",
       "      <td>2020-12-17</td>\n",
       "      <td>EU</td>\n",
       "      <td>Android</td>\n",
       "      <td>A</td>\n",
       "      <td>recommender_system_test</td>\n",
       "    </tr>\n",
       "    <tr>\n",
       "      <th>6073</th>\n",
       "      <td>0010A1C096941592</td>\n",
       "      <td>2020-12-23 11:52:09</td>\n",
       "      <td>purchase</td>\n",
       "      <td>9.99</td>\n",
       "      <td>2020-12-17</td>\n",
       "      <td>EU</td>\n",
       "      <td>Android</td>\n",
       "      <td>A</td>\n",
       "      <td>recommender_system_test</td>\n",
       "    </tr>\n",
       "    <tr>\n",
       "      <th>6081</th>\n",
       "      <td>0010A1C096941592</td>\n",
       "      <td>2020-12-23 11:52:09</td>\n",
       "      <td>login</td>\n",
       "      <td>NaN</td>\n",
       "      <td>2020-12-17</td>\n",
       "      <td>EU</td>\n",
       "      <td>Android</td>\n",
       "      <td>A</td>\n",
       "      <td>recommender_system_test</td>\n",
       "    </tr>\n",
       "    <tr>\n",
       "      <th>6077</th>\n",
       "      <td>0010A1C096941592</td>\n",
       "      <td>2020-12-23 11:52:10</td>\n",
       "      <td>product_page</td>\n",
       "      <td>NaN</td>\n",
       "      <td>2020-12-17</td>\n",
       "      <td>EU</td>\n",
       "      <td>Android</td>\n",
       "      <td>A</td>\n",
       "      <td>recommender_system_test</td>\n",
       "    </tr>\n",
       "    <tr>\n",
       "      <th>24538</th>\n",
       "      <td>00341D8401F0F665</td>\n",
       "      <td>2020-12-21 11:14:50</td>\n",
       "      <td>login</td>\n",
       "      <td>NaN</td>\n",
       "      <td>2020-12-21</td>\n",
       "      <td>EU</td>\n",
       "      <td>iPhone</td>\n",
       "      <td>A</td>\n",
       "      <td>recommender_system_test</td>\n",
       "    </tr>\n",
       "    <tr>\n",
       "      <th>24539</th>\n",
       "      <td>00341D8401F0F665</td>\n",
       "      <td>2020-12-24 12:16:01</td>\n",
       "      <td>login</td>\n",
       "      <td>NaN</td>\n",
       "      <td>2020-12-21</td>\n",
       "      <td>EU</td>\n",
       "      <td>iPhone</td>\n",
       "      <td>A</td>\n",
       "      <td>recommender_system_test</td>\n",
       "    </tr>\n",
       "    <tr>\n",
       "      <th>13585</th>\n",
       "      <td>003DF44D7589BBD4</td>\n",
       "      <td>2020-12-17 06:17:49</td>\n",
       "      <td>product_cart</td>\n",
       "      <td>NaN</td>\n",
       "      <td>2020-12-17</td>\n",
       "      <td>EU</td>\n",
       "      <td>Android</td>\n",
       "      <td>A</td>\n",
       "      <td>recommender_system_test</td>\n",
       "    </tr>\n",
       "    <tr>\n",
       "      <th>13590</th>\n",
       "      <td>003DF44D7589BBD4</td>\n",
       "      <td>2020-12-17 06:17:49</td>\n",
       "      <td>product_page</td>\n",
       "      <td>NaN</td>\n",
       "      <td>2020-12-17</td>\n",
       "      <td>EU</td>\n",
       "      <td>Android</td>\n",
       "      <td>A</td>\n",
       "      <td>recommender_system_test</td>\n",
       "    </tr>\n",
       "    <tr>\n",
       "      <th>13595</th>\n",
       "      <td>003DF44D7589BBD4</td>\n",
       "      <td>2020-12-17 06:17:49</td>\n",
       "      <td>login</td>\n",
       "      <td>NaN</td>\n",
       "      <td>2020-12-17</td>\n",
       "      <td>EU</td>\n",
       "      <td>Android</td>\n",
       "      <td>A</td>\n",
       "      <td>recommender_system_test</td>\n",
       "    </tr>\n",
       "    <tr>\n",
       "      <th>13591</th>\n",
       "      <td>003DF44D7589BBD4</td>\n",
       "      <td>2020-12-18 11:21:46</td>\n",
       "      <td>product_page</td>\n",
       "      <td>NaN</td>\n",
       "      <td>2020-12-17</td>\n",
       "      <td>EU</td>\n",
       "      <td>Android</td>\n",
       "      <td>A</td>\n",
       "      <td>recommender_system_test</td>\n",
       "    </tr>\n",
       "    <tr>\n",
       "      <th>13596</th>\n",
       "      <td>003DF44D7589BBD4</td>\n",
       "      <td>2020-12-18 11:21:46</td>\n",
       "      <td>login</td>\n",
       "      <td>NaN</td>\n",
       "      <td>2020-12-17</td>\n",
       "      <td>EU</td>\n",
       "      <td>Android</td>\n",
       "      <td>A</td>\n",
       "      <td>recommender_system_test</td>\n",
       "    </tr>\n",
       "    <tr>\n",
       "      <th>13586</th>\n",
       "      <td>003DF44D7589BBD4</td>\n",
       "      <td>2020-12-18 11:21:49</td>\n",
       "      <td>product_cart</td>\n",
       "      <td>NaN</td>\n",
       "      <td>2020-12-17</td>\n",
       "      <td>EU</td>\n",
       "      <td>Android</td>\n",
       "      <td>A</td>\n",
       "      <td>recommender_system_test</td>\n",
       "    </tr>\n",
       "    <tr>\n",
       "      <th>13592</th>\n",
       "      <td>003DF44D7589BBD4</td>\n",
       "      <td>2020-12-19 16:16:03</td>\n",
       "      <td>product_page</td>\n",
       "      <td>NaN</td>\n",
       "      <td>2020-12-17</td>\n",
       "      <td>EU</td>\n",
       "      <td>Android</td>\n",
       "      <td>A</td>\n",
       "      <td>recommender_system_test</td>\n",
       "    </tr>\n",
       "    <tr>\n",
       "      <th>13597</th>\n",
       "      <td>003DF44D7589BBD4</td>\n",
       "      <td>2020-12-19 16:16:03</td>\n",
       "      <td>login</td>\n",
       "      <td>NaN</td>\n",
       "      <td>2020-12-17</td>\n",
       "      <td>EU</td>\n",
       "      <td>Android</td>\n",
       "      <td>A</td>\n",
       "      <td>recommender_system_test</td>\n",
       "    </tr>\n",
       "    <tr>\n",
       "      <th>13587</th>\n",
       "      <td>003DF44D7589BBD4</td>\n",
       "      <td>2020-12-19 16:16:04</td>\n",
       "      <td>product_cart</td>\n",
       "      <td>NaN</td>\n",
       "      <td>2020-12-17</td>\n",
       "      <td>EU</td>\n",
       "      <td>Android</td>\n",
       "      <td>A</td>\n",
       "      <td>recommender_system_test</td>\n",
       "    </tr>\n",
       "    <tr>\n",
       "      <th>13588</th>\n",
       "      <td>003DF44D7589BBD4</td>\n",
       "      <td>2020-12-21 00:54:43</td>\n",
       "      <td>product_cart</td>\n",
       "      <td>NaN</td>\n",
       "      <td>2020-12-17</td>\n",
       "      <td>EU</td>\n",
       "      <td>Android</td>\n",
       "      <td>A</td>\n",
       "      <td>recommender_system_test</td>\n",
       "    </tr>\n",
       "  </tbody>\n",
       "</table>\n",
       "</div>"
      ],
      "text/plain": [
       "                user_id            event_dt    event_name  details first_date  \\\n",
       "21197  001064FEAAB631A1 2020-12-20 14:43:27         login      NaN 2020-12-20   \n",
       "21194  001064FEAAB631A1 2020-12-20 14:43:28  product_page      NaN 2020-12-20   \n",
       "21198  001064FEAAB631A1 2020-12-21 03:19:15         login      NaN 2020-12-20   \n",
       "21195  001064FEAAB631A1 2020-12-21 03:19:17  product_page      NaN 2020-12-20   \n",
       "21199  001064FEAAB631A1 2020-12-26 15:55:17         login      NaN 2020-12-20   \n",
       "21196  001064FEAAB631A1 2020-12-26 15:55:18  product_page      NaN 2020-12-20   \n",
       "6070   0010A1C096941592 2020-12-17 21:07:27      purchase     4.99 2020-12-17   \n",
       "6074   0010A1C096941592 2020-12-17 21:07:27  product_page      NaN 2020-12-17   \n",
       "6078   0010A1C096941592 2020-12-17 21:07:27         login      NaN 2020-12-17   \n",
       "6071   0010A1C096941592 2020-12-19 04:34:37      purchase     4.99 2020-12-17   \n",
       "6079   0010A1C096941592 2020-12-19 04:34:37         login      NaN 2020-12-17   \n",
       "6075   0010A1C096941592 2020-12-19 04:34:38  product_page      NaN 2020-12-17   \n",
       "6072   0010A1C096941592 2020-12-21 21:05:23      purchase     4.99 2020-12-17   \n",
       "6080   0010A1C096941592 2020-12-21 21:05:23         login      NaN 2020-12-17   \n",
       "6076   0010A1C096941592 2020-12-21 21:05:24  product_page      NaN 2020-12-17   \n",
       "6073   0010A1C096941592 2020-12-23 11:52:09      purchase     9.99 2020-12-17   \n",
       "6081   0010A1C096941592 2020-12-23 11:52:09         login      NaN 2020-12-17   \n",
       "6077   0010A1C096941592 2020-12-23 11:52:10  product_page      NaN 2020-12-17   \n",
       "24538  00341D8401F0F665 2020-12-21 11:14:50         login      NaN 2020-12-21   \n",
       "24539  00341D8401F0F665 2020-12-24 12:16:01         login      NaN 2020-12-21   \n",
       "13585  003DF44D7589BBD4 2020-12-17 06:17:49  product_cart      NaN 2020-12-17   \n",
       "13590  003DF44D7589BBD4 2020-12-17 06:17:49  product_page      NaN 2020-12-17   \n",
       "13595  003DF44D7589BBD4 2020-12-17 06:17:49         login      NaN 2020-12-17   \n",
       "13591  003DF44D7589BBD4 2020-12-18 11:21:46  product_page      NaN 2020-12-17   \n",
       "13596  003DF44D7589BBD4 2020-12-18 11:21:46         login      NaN 2020-12-17   \n",
       "13586  003DF44D7589BBD4 2020-12-18 11:21:49  product_cart      NaN 2020-12-17   \n",
       "13592  003DF44D7589BBD4 2020-12-19 16:16:03  product_page      NaN 2020-12-17   \n",
       "13597  003DF44D7589BBD4 2020-12-19 16:16:03         login      NaN 2020-12-17   \n",
       "13587  003DF44D7589BBD4 2020-12-19 16:16:04  product_cart      NaN 2020-12-17   \n",
       "13588  003DF44D7589BBD4 2020-12-21 00:54:43  product_cart      NaN 2020-12-17   \n",
       "\n",
       "      region   device group                  ab_test  \n",
       "21197     EU  Android     B  recommender_system_test  \n",
       "21194     EU  Android     B  recommender_system_test  \n",
       "21198     EU  Android     B  recommender_system_test  \n",
       "21195     EU  Android     B  recommender_system_test  \n",
       "21199     EU  Android     B  recommender_system_test  \n",
       "21196     EU  Android     B  recommender_system_test  \n",
       "6070      EU  Android     A  recommender_system_test  \n",
       "6074      EU  Android     A  recommender_system_test  \n",
       "6078      EU  Android     A  recommender_system_test  \n",
       "6071      EU  Android     A  recommender_system_test  \n",
       "6079      EU  Android     A  recommender_system_test  \n",
       "6075      EU  Android     A  recommender_system_test  \n",
       "6072      EU  Android     A  recommender_system_test  \n",
       "6080      EU  Android     A  recommender_system_test  \n",
       "6076      EU  Android     A  recommender_system_test  \n",
       "6073      EU  Android     A  recommender_system_test  \n",
       "6081      EU  Android     A  recommender_system_test  \n",
       "6077      EU  Android     A  recommender_system_test  \n",
       "24538     EU   iPhone     A  recommender_system_test  \n",
       "24539     EU   iPhone     A  recommender_system_test  \n",
       "13585     EU  Android     A  recommender_system_test  \n",
       "13590     EU  Android     A  recommender_system_test  \n",
       "13595     EU  Android     A  recommender_system_test  \n",
       "13591     EU  Android     A  recommender_system_test  \n",
       "13596     EU  Android     A  recommender_system_test  \n",
       "13586     EU  Android     A  recommender_system_test  \n",
       "13592     EU  Android     A  recommender_system_test  \n",
       "13597     EU  Android     A  recommender_system_test  \n",
       "13587     EU  Android     A  recommender_system_test  \n",
       "13588     EU  Android     A  recommender_system_test  "
      ]
     },
     "execution_count": 35,
     "metadata": {},
     "output_type": "execute_result"
    }
   ],
   "source": [
    "df_events.sort_values(by=['user_id', 'event_dt']).head(30)"
   ]
  },
  {
   "cell_type": "markdown",
   "metadata": {},
   "source": [
    "Довольно странная картина, события у пользователя происходят в одну и ту же секунду, либо с разницей в одну секунду, при этом часто можно видеть сперва покупку - потом авторизацию - потом просмотр карточки товара, что не соответствует ожидаемому пути пользователя."
   ]
  },
  {
   "cell_type": "code",
   "execution_count": 36,
   "metadata": {},
   "outputs": [],
   "source": [
    "df_events_A = df_events[df_events['group'] == 'A']\n",
    "df_events_B = df_events[df_events['group'] == 'B']"
   ]
  },
  {
   "cell_type": "markdown",
   "metadata": {},
   "source": [
    "Посчитаем количество пользователей, прошедших авторизацию"
   ]
  },
  {
   "cell_type": "code",
   "execution_count": 40,
   "metadata": {
    "scrolled": true
   },
   "outputs": [
    {
     "name": "stdout",
     "output_type": "stream",
     "text": [
      "Авторизовавшихся пользователей А: 2747\n",
      "Авторизовавшихся пользователей В: 928\n"
     ]
    }
   ],
   "source": [
    "n_login_A = df_events_A[df_events_A['event_name'] == 'login']['user_id'].nunique()\n",
    "n_login_B = df_events_B[df_events_B['event_name'] == 'login']['user_id'].nunique()\n",
    "print('Авторизовавшихся пользователей А:', n_login_A)\n",
    "print('Авторизовавшихся пользователей В:', n_login_B)"
   ]
  },
  {
   "cell_type": "markdown",
   "metadata": {},
   "source": [
    "Посчитаем конверсию в просмотр карточек товаров `product_page`"
   ]
  },
  {
   "cell_type": "code",
   "execution_count": 42,
   "metadata": {
    "scrolled": false
   },
   "outputs": [
    {
     "name": "stdout",
     "output_type": "stream",
     "text": [
      "Конверсия в просмотр карточек товаров А: 64.80%\n",
      "Конверсия в просмотр карточек товаров B: 56.36%\n"
     ]
    }
   ],
   "source": [
    "n_product_page_A = df_events_A[df_events_A['event_name'] == 'product_page']['user_id'].nunique()\n",
    "conversion_product_page_A = n_product_page_A/n_login_A\n",
    "print('Конверсия в просмотр карточек товаров А: {:.2%}'.format(conversion_product_page_A))\n",
    "\n",
    "n_product_page_B = df_events_B[df_events_B['event_name'] == 'product_page']['user_id'].nunique()\n",
    "conversion_product_page_B = n_product_page_B/n_login_B\n",
    "print('Конверсия в просмотр карточек товаров B: {:.2%}'.format(conversion_product_page_B))"
   ]
  },
  {
   "cell_type": "markdown",
   "metadata": {},
   "source": [
    "Посчитаем конверсию в просмотр корзины `product_cart`"
   ]
  },
  {
   "cell_type": "code",
   "execution_count": 44,
   "metadata": {},
   "outputs": [
    {
     "name": "stdout",
     "output_type": "stream",
     "text": [
      "Конверсия в просмотр корзины А: 30.00%\n",
      "Конверсия в просмотр корзины B: 27.48%\n"
     ]
    }
   ],
   "source": [
    "n_product_cart_A = df_events_A[df_events_A['event_name'] == 'product_cart']['user_id'].nunique()\n",
    "conversion_product_cart_A = n_product_cart_A/n_login_A\n",
    "print('Конверсия в просмотр корзины А: {:.2%}'.format(conversion_product_cart_A))\n",
    "\n",
    "n_product_cart_B = df_events_B[df_events_B['event_name'] == 'product_cart']['user_id'].nunique()\n",
    "conversion_product_cart_B = n_product_cart_B/n_login_B\n",
    "print('Конверсия в просмотр корзины B: {:.2%}'.format(conversion_product_cart_B))"
   ]
  },
  {
   "cell_type": "markdown",
   "metadata": {},
   "source": [
    "Посчитаем конверсию в оплаты `purchase`"
   ]
  },
  {
   "cell_type": "code",
   "execution_count": 46,
   "metadata": {},
   "outputs": [
    {
     "name": "stdout",
     "output_type": "stream",
     "text": [
      "Конверсия в оплаты А: 31.74%\n",
      "Конверсия в оплаты B: 27.59%\n"
     ]
    }
   ],
   "source": [
    "n_purchase_A = df_events_A[df_events_A['event_name'] == 'purchase']['user_id'].nunique()\n",
    "conversion_purchase_A = n_purchase_A/n_login_A\n",
    "print('Конверсия в оплаты А: {:.2%}'.format(conversion_purchase_A))\n",
    "\n",
    "n_purchase_B = df_events_B[df_events_B['event_name'] == 'purchase']['user_id'].nunique()\n",
    "conversion_purchase_B = n_purchase_B/n_login_B\n",
    "print('Конверсия в оплаты B: {:.2%}'.format(conversion_purchase_B))"
   ]
  },
  {
   "cell_type": "markdown",
   "metadata": {},
   "source": [
    "Судя по рассчитанным значениям, конверсия в группе В снижается, значимое ли это снижение оценим при проверке гипотез."
   ]
  },
  {
   "cell_type": "markdown",
   "metadata": {},
   "source": [
    "Посмотрим на распределения количества событий на пользователя в группах"
   ]
  },
  {
   "cell_type": "code",
   "execution_count": 52,
   "metadata": {
    "scrolled": false
   },
   "outputs": [
    {
     "data": {
      "image/png": "[encoded data removed]",
      "text/plain": [
       "<Figure size 936x432 with 1 Axes>"
      ]
     },
     "metadata": {},
     "output_type": "display_data"
    }
   ],
   "source": [
    "plt.figure(figsize=(13,6))\n",
    "sns.distplot(df_events_A.groupby('user_id')['event_dt'].count().reset_index()['event_dt'], label='A')\n",
    "sns.distplot(df_events_B.groupby('user_id')['event_dt'].count().reset_index()['event_dt'], label='B')\n",
    "plt.title('Распределение количества событий на пользователя в группах')\n",
    "plt.xlabel('Количество событий на пользователя')\n",
    "plt.legend()\n",
    "plt.show()"
   ]
  },
  {
   "cell_type": "markdown",
   "metadata": {},
   "source": [
    "Судя по графикам распределения в группе А на пользователя приходится чуть больше заказов. Это подтверждает и описательная статистика:"
   ]
  },
  {
   "cell_type": "code",
   "execution_count": 53,
   "metadata": {
    "scrolled": true
   },
   "outputs": [
    {
     "data": {
      "text/html": [
       "<div>\n",
       "<style scoped>\n",
       "    .dataframe tbody tr th:only-of-type {\n",
       "        vertical-align: middle;\n",
       "    }\n",
       "\n",
       "    .dataframe tbody tr th {\n",
       "        vertical-align: top;\n",
       "    }\n",
       "\n",
       "    .dataframe thead th {\n",
       "        text-align: right;\n",
       "    }\n",
       "</style>\n",
       "<table border=\"1\" class=\"dataframe\">\n",
       "  <thead>\n",
       "    <tr style=\"text-align: right;\">\n",
       "      <th></th>\n",
       "      <th>index</th>\n",
       "      <th>event_per_user_A</th>\n",
       "      <th>event_per_user_B</th>\n",
       "    </tr>\n",
       "  </thead>\n",
       "  <tbody>\n",
       "    <tr>\n",
       "      <th>0</th>\n",
       "      <td>count</td>\n",
       "      <td>2747.000000</td>\n",
       "      <td>928.000000</td>\n",
       "    </tr>\n",
       "    <tr>\n",
       "      <th>1</th>\n",
       "      <td>mean</td>\n",
       "      <td>7.027303</td>\n",
       "      <td>5.812500</td>\n",
       "    </tr>\n",
       "    <tr>\n",
       "      <th>2</th>\n",
       "      <td>std</td>\n",
       "      <td>3.868983</td>\n",
       "      <td>3.483878</td>\n",
       "    </tr>\n",
       "    <tr>\n",
       "      <th>3</th>\n",
       "      <td>min</td>\n",
       "      <td>1.000000</td>\n",
       "      <td>1.000000</td>\n",
       "    </tr>\n",
       "    <tr>\n",
       "      <th>4</th>\n",
       "      <td>25%</td>\n",
       "      <td>4.000000</td>\n",
       "      <td>3.000000</td>\n",
       "    </tr>\n",
       "    <tr>\n",
       "      <th>5</th>\n",
       "      <td>50%</td>\n",
       "      <td>6.000000</td>\n",
       "      <td>5.000000</td>\n",
       "    </tr>\n",
       "    <tr>\n",
       "      <th>6</th>\n",
       "      <td>75%</td>\n",
       "      <td>9.000000</td>\n",
       "      <td>8.000000</td>\n",
       "    </tr>\n",
       "    <tr>\n",
       "      <th>7</th>\n",
       "      <td>max</td>\n",
       "      <td>24.000000</td>\n",
       "      <td>28.000000</td>\n",
       "    </tr>\n",
       "  </tbody>\n",
       "</table>\n",
       "</div>"
      ],
      "text/plain": [
       "   index  event_per_user_A  event_per_user_B\n",
       "0  count       2747.000000        928.000000\n",
       "1   mean          7.027303          5.812500\n",
       "2    std          3.868983          3.483878\n",
       "3    min          1.000000          1.000000\n",
       "4    25%          4.000000          3.000000\n",
       "5    50%          6.000000          5.000000\n",
       "6    75%          9.000000          8.000000\n",
       "7    max         24.000000         28.000000"
      ]
     },
     "execution_count": 53,
     "metadata": {},
     "output_type": "execute_result"
    }
   ],
   "source": [
    "df_events_A.groupby('user_id')['event_dt'].count().reset_index().describe().reset_index().merge(\n",
    "    df_events_B.groupby('user_id')['event_dt'].count().reset_index().describe().reset_index(), on='index').\\\n",
    "    rename(columns={'event_dt_x':'event_per_user_A', 'event_dt_y':'event_per_user_B'})"
   ]
  },
  {
   "cell_type": "markdown",
   "metadata": {},
   "source": [
    "В группе А на пользователя приходится чуть больше заказов, чем в группе В, среднее кол-во заказов на пользователя в группе А - 7.03, медиана равна 6, а в группе В среднее кол-во заказов на пользователя - 5.81, медиана равна 5."
   ]
  },
  {
   "cell_type": "markdown",
   "metadata": {},
   "source": [
    "Посмотрим, как число событий распределено по дням"
   ]
  },
  {
   "cell_type": "code",
   "execution_count": 54,
   "metadata": {},
   "outputs": [],
   "source": [
    "df_events['event_date'] = df_events['event_dt'].dt.date\n",
    "df_events_A['event_date'] = df_events_A['event_dt'].dt.date\n",
    "df_events_B['event_date'] = df_events_B['event_dt'].dt.date"
   ]
  },
  {
   "cell_type": "code",
   "execution_count": 55,
   "metadata": {},
   "outputs": [],
   "source": [
    "def barplot_creator(df, group):\n",
    "    plt.figure(figsize=(13,6))\n",
    "    sns.barplot(data=df.groupby('event_date')['event_name'].count().reset_index(), x='event_date', y='event_name', color='#2E8B57')\n",
    "    plt.title('Распределение количества событий по дням в группе '+ group)\n",
    "    plt.xlabel('Дата')\n",
    "    plt.ylabel('Количество событий')\n",
    "    plt.xticks(rotation=60, ha=\"right\")\n",
    "    plt.show()"
   ]
  },
  {
   "cell_type": "code",
   "execution_count": 56,
   "metadata": {},
   "outputs": [
    {
     "data": {
      "image/png": "[encoded data removed]",
      "text/plain": [
       "<Figure size 936x432 with 1 Axes>"
      ]
     },
     "metadata": {},
     "output_type": "display_data"
    }
   ],
   "source": [
    "barplot_creator(df_events_A, 'A')"
   ]
  },
  {
   "cell_type": "code",
   "execution_count": 57,
   "metadata": {
    "scrolled": false
   },
   "outputs": [
    {
     "data": {
      "image/png": "[encoded data removed]",
      "text/plain": [
       "<Figure size 936x432 with 1 Axes>"
      ]
     },
     "metadata": {},
     "output_type": "display_data"
    }
   ],
   "source": [
    "barplot_creator(df_events_B, 'B')"
   ]
  },
  {
   "cell_type": "code",
   "execution_count": 58,
   "metadata": {},
   "outputs": [
    {
     "data": {
      "image/png": "[encoded data removed]",
      "text/plain": [
       "<Figure size 936x432 with 1 Axes>"
      ]
     },
     "metadata": {},
     "output_type": "display_data"
    }
   ],
   "source": [
    "plt.figure(figsize=(13,6))\n",
    "sns.barplot(data=df_events_A.groupby('event_date')['event_name'].count().reset_index(), x='event_date', y='event_name', color='#2E8B57', saturation=0.15, label='A')\n",
    "sns.barplot(data=df_events_B.groupby('event_date')['event_name'].count().reset_index(), x='event_date', y='event_name', color='#FF7F50', saturation=0.25, label='B')\n",
    "plt.title('Распределение количества событий по дням в группах')\n",
    "plt.xlabel('Дата')\n",
    "plt.ylabel('Количество событий')\n",
    "plt.xticks(rotation=60, ha=\"right\")\n",
    "plt.legend()\n",
    "plt.show()"
   ]
  },
  {
   "cell_type": "markdown",
   "metadata": {},
   "source": [
    "В обеих группах наблюдается всплеск активности 21.12.2020.  \n",
    "Но активность пользователей неодинакова во времени.  \n",
    "Группа А была наиболее активна в период 14-21.12.2020.  \n",
    "Группа В была активна с начала исследуемого периода, также как и группа А до 21.12.2020, после чего наблдаюдается резкий спад."
   ]
  },
  {
   "cell_type": "code",
   "execution_count": 59,
   "metadata": {},
   "outputs": [
    {
     "data": {
      "text/plain": [
       "15 days    171\n",
       "16 days     94\n",
       "17 days     86\n",
       "18 days     80\n",
       "20 days     69\n",
       "19 days     60\n",
       "21 days     33\n",
       "22 days     31\n",
       "23 days      4\n",
       "Name: test_period, dtype: int64"
      ]
     },
     "execution_count": 59,
     "metadata": {},
     "output_type": "execute_result"
    }
   ],
   "source": [
    "df_events2 = df_events.copy()\n",
    "df_events2['event_date'] = pd.to_datetime(df_events2['event_date'], format='%Y-%m-%d') \n",
    "df_events2['test_period'] = df_events2['event_date'] - df_events2['first_date']\n",
    "df_events2[df_events2['test_period'] > '14 days']['test_period'].value_counts()"
   ]
  },
  {
   "cell_type": "code",
   "execution_count": 60,
   "metadata": {
    "scrolled": false
   },
   "outputs": [
    {
     "data": {
      "text/html": [
       "<div>\n",
       "<style scoped>\n",
       "    .dataframe tbody tr th:only-of-type {\n",
       "        vertical-align: middle;\n",
       "    }\n",
       "\n",
       "    .dataframe tbody tr th {\n",
       "        vertical-align: top;\n",
       "    }\n",
       "\n",
       "    .dataframe thead th {\n",
       "        text-align: right;\n",
       "    }\n",
       "</style>\n",
       "<table border=\"1\" class=\"dataframe\">\n",
       "  <thead>\n",
       "    <tr style=\"text-align: right;\">\n",
       "      <th></th>\n",
       "      <th>user_id</th>\n",
       "      <th>event_dt</th>\n",
       "      <th>event_name</th>\n",
       "      <th>details</th>\n",
       "      <th>first_date</th>\n",
       "      <th>region</th>\n",
       "      <th>device</th>\n",
       "      <th>group</th>\n",
       "      <th>ab_test</th>\n",
       "      <th>event_date</th>\n",
       "      <th>test_period</th>\n",
       "    </tr>\n",
       "  </thead>\n",
       "  <tbody>\n",
       "    <tr>\n",
       "      <th>0</th>\n",
       "      <td>831887FE7F2D6CBA</td>\n",
       "      <td>2020-12-07 06:50:29</td>\n",
       "      <td>purchase</td>\n",
       "      <td>4.99</td>\n",
       "      <td>2020-12-07</td>\n",
       "      <td>EU</td>\n",
       "      <td>Android</td>\n",
       "      <td>A</td>\n",
       "      <td>recommender_system_test</td>\n",
       "      <td>2020-12-07</td>\n",
       "      <td>0 days</td>\n",
       "    </tr>\n",
       "    <tr>\n",
       "      <th>1</th>\n",
       "      <td>831887FE7F2D6CBA</td>\n",
       "      <td>2020-12-09 02:19:17</td>\n",
       "      <td>purchase</td>\n",
       "      <td>99.99</td>\n",
       "      <td>2020-12-07</td>\n",
       "      <td>EU</td>\n",
       "      <td>Android</td>\n",
       "      <td>A</td>\n",
       "      <td>recommender_system_test</td>\n",
       "      <td>2020-12-09</td>\n",
       "      <td>2 days</td>\n",
       "    </tr>\n",
       "    <tr>\n",
       "      <th>2</th>\n",
       "      <td>831887FE7F2D6CBA</td>\n",
       "      <td>2020-12-07 06:50:30</td>\n",
       "      <td>product_cart</td>\n",
       "      <td>NaN</td>\n",
       "      <td>2020-12-07</td>\n",
       "      <td>EU</td>\n",
       "      <td>Android</td>\n",
       "      <td>A</td>\n",
       "      <td>recommender_system_test</td>\n",
       "      <td>2020-12-07</td>\n",
       "      <td>0 days</td>\n",
       "    </tr>\n",
       "    <tr>\n",
       "      <th>3</th>\n",
       "      <td>831887FE7F2D6CBA</td>\n",
       "      <td>2020-12-08 10:52:27</td>\n",
       "      <td>product_cart</td>\n",
       "      <td>NaN</td>\n",
       "      <td>2020-12-07</td>\n",
       "      <td>EU</td>\n",
       "      <td>Android</td>\n",
       "      <td>A</td>\n",
       "      <td>recommender_system_test</td>\n",
       "      <td>2020-12-08</td>\n",
       "      <td>1 days</td>\n",
       "    </tr>\n",
       "    <tr>\n",
       "      <th>4</th>\n",
       "      <td>831887FE7F2D6CBA</td>\n",
       "      <td>2020-12-09 02:19:17</td>\n",
       "      <td>product_cart</td>\n",
       "      <td>NaN</td>\n",
       "      <td>2020-12-07</td>\n",
       "      <td>EU</td>\n",
       "      <td>Android</td>\n",
       "      <td>A</td>\n",
       "      <td>recommender_system_test</td>\n",
       "      <td>2020-12-09</td>\n",
       "      <td>2 days</td>\n",
       "    </tr>\n",
       "  </tbody>\n",
       "</table>\n",
       "</div>"
      ],
      "text/plain": [
       "            user_id            event_dt    event_name  details first_date  \\\n",
       "0  831887FE7F2D6CBA 2020-12-07 06:50:29      purchase     4.99 2020-12-07   \n",
       "1  831887FE7F2D6CBA 2020-12-09 02:19:17      purchase    99.99 2020-12-07   \n",
       "2  831887FE7F2D6CBA 2020-12-07 06:50:30  product_cart      NaN 2020-12-07   \n",
       "3  831887FE7F2D6CBA 2020-12-08 10:52:27  product_cart      NaN 2020-12-07   \n",
       "4  831887FE7F2D6CBA 2020-12-09 02:19:17  product_cart      NaN 2020-12-07   \n",
       "\n",
       "  region   device group                  ab_test event_date test_period  \n",
       "0     EU  Android     A  recommender_system_test 2020-12-07      0 days  \n",
       "1     EU  Android     A  recommender_system_test 2020-12-09      2 days  \n",
       "2     EU  Android     A  recommender_system_test 2020-12-07      0 days  \n",
       "3     EU  Android     A  recommender_system_test 2020-12-08      1 days  \n",
       "4     EU  Android     A  recommender_system_test 2020-12-09      2 days  "
      ]
     },
     "execution_count": 60,
     "metadata": {},
     "output_type": "execute_result"
    }
   ],
   "source": [
    "df_events2 = df_events2[df_events2['test_period'] < '15 days']\n",
    "df_events2.head()"
   ]
  },
  {
   "cell_type": "code",
   "execution_count": 61,
   "metadata": {},
   "outputs": [
    {
     "data": {
      "text/plain": [
       "3675"
      ]
     },
     "execution_count": 61,
     "metadata": {},
     "output_type": "execute_result"
    }
   ],
   "source": [
    "df_events['user_id'].nunique()"
   ]
  },
  {
   "cell_type": "markdown",
   "metadata": {},
   "source": [
    "Число участников теста меньше 6000."
   ]
  },
  {
   "cell_type": "code",
   "execution_count": 62,
   "metadata": {},
   "outputs": [
    {
     "name": "stdout",
     "output_type": "stream",
     "text": [
      "Авторизовавшихся пользователей А: 2747\n",
      "Конверсия в просмотр карточек товаров А: 64.80%\n",
      "Конверсия в просмотр корзины А: 30.00%\n",
      "Конверсия в оплаты А: 31.74%\n",
      "---------------------------------------------------------------\n",
      "Авторизовавшихся пользователей В: 927\n",
      "Конверсия в просмотр карточек товаров B: 56.42%\n",
      "Конверсия в просмотр корзины B: 27.51%\n",
      "Конверсия в оплаты B: 27.62%\n"
     ]
    }
   ],
   "source": [
    "df_events2_A = df_events2[df_events2['group'] == 'A']\n",
    "df_events2_B = df_events2[df_events2['group'] == 'B']\n",
    "\n",
    "\n",
    "n_login_A2 = df_events2_A[df_events2_A['event_name'] == 'login']['user_id'].nunique()\n",
    "n_login_B2 = df_events2_B[df_events2_B['event_name'] == 'login']['user_id'].nunique()\n",
    "\n",
    "\n",
    "n_product_page_A2 = df_events2_A[df_events2_A['event_name'] == 'product_page']['user_id'].nunique()\n",
    "conversion_product_page_A2 = n_product_page_A2/n_login_A2\n",
    "\n",
    "n_product_page_B2 = df_events2_B[df_events2_B['event_name'] == 'product_page']['user_id'].nunique()\n",
    "conversion_product_page_B2 = n_product_page_B2/n_login_B2\n",
    "\n",
    "\n",
    "n_product_cart_A2 = df_events2_A[df_events2_A['event_name'] == 'product_cart']['user_id'].nunique()\n",
    "conversion_product_cart_A2 = n_product_cart_A2/n_login_A2\n",
    "\n",
    "n_product_cart_B2 = df_events2_B[df_events2_B['event_name'] == 'product_cart']['user_id'].nunique()\n",
    "conversion_product_cart_B2 = n_product_cart_B2/n_login_B2\n",
    "\n",
    "\n",
    "n_purchase_A2 = df_events2_A[df_events2_A['event_name'] == 'purchase']['user_id'].nunique()\n",
    "conversion_purchase_A2 = n_purchase_A2/n_login_A2\n",
    "\n",
    "n_purchase_B2 = df_events2_B[df_events2_B['event_name'] == 'purchase']['user_id'].nunique()\n",
    "conversion_purchase_B2 = n_purchase_B2/n_login_B2\n",
    "\n",
    "\n",
    "print('Авторизовавшихся пользователей А:', n_login_A2)\n",
    "print('Конверсия в просмотр карточек товаров А: {:.2%}'.format(conversion_product_page_A2))\n",
    "print('Конверсия в просмотр корзины А: {:.2%}'.format(conversion_product_cart_A2))\n",
    "print('Конверсия в оплаты А: {:.2%}'.format(conversion_purchase_A2))\n",
    "print('---------------------------------------------------------------')\n",
    "print('Авторизовавшихся пользователей В:', n_login_B2)\n",
    "print('Конверсия в просмотр карточек товаров B: {:.2%}'.format(conversion_product_page_B2))\n",
    "print('Конверсия в просмотр корзины B: {:.2%}'.format(conversion_product_cart_B2))\n",
    "print('Конверсия в оплаты B: {:.2%}'.format(conversion_purchase_B2))"
   ]
  },
  {
   "cell_type": "markdown",
   "metadata": {},
   "source": [
    "**Вывод**: расчеты показали, что в контрольной группе А показатели конверсии выше. То есть ожидаемых результатов введенные изменения не показали. Конверсия снизилась. Но вероятно результаты теста некорректны и использовать их для принятия решений нельзя, так как в данных много ошибок и несоответствий техническому заданию. "
   ]
  },
  {
   "cell_type": "markdown",
   "metadata": {},
   "source": [
    "## Оценка результатов A/B-тестирования"
   ]
  },
  {
   "cell_type": "markdown",
   "metadata": {},
   "source": [
    "Проверим, насколько значимо отличаются конверсии. С помощью Z-критерия проверим гипотезы о равенстве долей."
   ]
  },
  {
   "cell_type": "markdown",
   "metadata": {},
   "source": [
    "Сформулируем гипотезы:  \n",
    "Нулевая Н0 - конверсии в событие в группах равны.  \n",
    "Альтернативная Н1 - между конверсиями в событие в группах есть значимая разница  \n",
    "\n",
    "Критический уровень статистической значимости (alpha) зададим равным 0.05 "
   ]
  },
  {
   "cell_type": "code",
   "execution_count": 65,
   "metadata": {},
   "outputs": [],
   "source": [
    "def z_test(n_event_A, n_event_B, n_loginA, n_loginB, event):\n",
    "    alpha = 0.05  # критический уровень статистической значимости\n",
    "\n",
    "    # конверсия в группе А:\n",
    "    p1 = n_event_A/n_loginA\n",
    "\n",
    "    # конверсия в группе B:\n",
    "    p2 = n_event_B/n_loginB\n",
    "\n",
    "    # конверсия в обеих группах:\n",
    "    p_combined = (n_event_A + n_event_B) / (n_loginA + n_loginB)\n",
    "\n",
    "    # разница конверсий в группах\n",
    "    difference = p1 - p2 \n",
    "\n",
    "    z_value = difference / mth.sqrt(p_combined * (1-p_combined) * (1/n_loginA + 1/n_loginB))\n",
    "\n",
    "    # задаем стандартное нормальное распределение (среднее 0, ст.отклонение 1)\n",
    "    distr = st.norm(0, 1)  \n",
    "\n",
    "    p_value = (1 - distr.cdf(abs(z_value))) * 2\n",
    "\n",
    "\n",
    "    print('конверсия в ' + event + ' в группе А: {:.2%}'.format(p1))\n",
    "    print('конверсия в ' + event + ' в группе B: {:.2%}'.format(p2))\n",
    "    print()\n",
    "    print('изменение метрики: {:.2%}'.format(p2/p1-1))\n",
    "    print()\n",
    "    print('p-значение: ', p_value)\n",
    "\n",
    "    if p_value < alpha:\n",
    "        print('Отвергаем нулевую гипотезу: между конверсиями в ' + event + ' в группах есть значимая разница')\n",
    "    else:\n",
    "        print('Не получилось отвергнуть нулевую гипотезу, нет оснований считать конверсии в ' + event + ' в группах разными')"
   ]
  },
  {
   "cell_type": "markdown",
   "metadata": {},
   "source": [
    "Проверим гипотезу о равенстве конверсий в просмотр карточек товаров — событие `product_page`.  \n",
    "\n",
    "**Нулевая Н0** - конверсии в просмотр карточек товаров (событие `product_page`) в группах равны.  \n",
    "    \n",
    "\n",
    "**Альтернативная Н1** - между конверсиями  в просмотр карточек товаров (событие `product_page`) в группах есть значимая разница  "
   ]
  },
  {
   "cell_type": "code",
   "execution_count": 66,
   "metadata": {
    "scrolled": true
   },
   "outputs": [
    {
     "name": "stdout",
     "output_type": "stream",
     "text": [
      "конверсия в product_page в группе А: 64.80%\n",
      "конверсия в product_page в группе B: 56.42%\n",
      "\n",
      "изменение метрики: -12.93%\n",
      "\n",
      "p-значение:  5.084368080776613e-06\n",
      "Отвергаем нулевую гипотезу: между конверсиями в product_page в группах есть значимая разница\n"
     ]
    }
   ],
   "source": [
    "z_test(n_product_page_A2, n_product_page_B2, n_login_A2, n_login_B2, 'product_page')"
   ]
  },
  {
   "cell_type": "markdown",
   "metadata": {},
   "source": [
    "Конверсия в просмотр карточек товаров в группе B снизилась после внедрения изменений на 12,93%, и это снижение является статистически значимым."
   ]
  },
  {
   "cell_type": "markdown",
   "metadata": {},
   "source": [
    "Проверим гипотезу о равенстве конверсий в просмотр корзины — событие `product_cart`.  \n",
    "\n",
    "**Нулевая Н0** - конверсии в просмотр корзины (событие `product_cart`) в группах равны.  \n",
    "    \n",
    "\n",
    "**Альтернативная Н1** - между конверсиями в просмотр корзины (событие `product_cart`) в группах есть значимая разница  "
   ]
  },
  {
   "cell_type": "code",
   "execution_count": 67,
   "metadata": {
    "scrolled": false
   },
   "outputs": [
    {
     "name": "stdout",
     "output_type": "stream",
     "text": [
      "конверсия в product_cart в группе А: 30.00%\n",
      "конверсия в product_cart в группе B: 27.51%\n",
      "\n",
      "изменение метрики: -8.30%\n",
      "\n",
      "p-значение:  0.15034216422194624\n",
      "Не получилось отвергнуть нулевую гипотезу, нет оснований считать конверсии в product_cart в группах разными\n"
     ]
    }
   ],
   "source": [
    "z_test(n_product_cart_A2, n_product_cart_B2, n_login_A2, n_login_B2, 'product_cart')"
   ]
  },
  {
   "cell_type": "markdown",
   "metadata": {},
   "source": [
    "Конверсия в просмотр корзины в группе B снизилась после внедрения изменений на 8,3%, но это снижение не является статистически значимым."
   ]
  },
  {
   "cell_type": "markdown",
   "metadata": {},
   "source": [
    "Проверим гипотезу о равенстве конверсий в покупки — событие `purchase`.  \n",
    "\n",
    "**Нулевая Н0** - конверсии в покупки (событие `purchase`) в группах равны.  \n",
    "    \n",
    "\n",
    "**Альтернативная Н1** - между конверсиями в покупки (событие `purchase`) в группах есть значимая разница  "
   ]
  },
  {
   "cell_type": "code",
   "execution_count": 68,
   "metadata": {
    "scrolled": true
   },
   "outputs": [
    {
     "name": "stdout",
     "output_type": "stream",
     "text": [
      "конверсия в purchase в группе А: 31.74%\n",
      "конверсия в purchase в группе B: 27.62%\n",
      "\n",
      "изменение метрики: -13.00%\n",
      "\n",
      "p-значение:  0.018474632659979617\n",
      "Отвергаем нулевую гипотезу: между конверсиями в purchase в группах есть значимая разница\n"
     ]
    }
   ],
   "source": [
    "z_test(n_purchase_A2, n_purchase_B2, n_login_A2, n_login_B2, 'purchase')"
   ]
  },
  {
   "cell_type": "markdown",
   "metadata": {},
   "source": [
    "Конверсия в покупки в группе B снизилась после внедрения изменений на 13%, и это снижение является статистически значимым."
   ]
  },
  {
   "cell_type": "markdown",
   "metadata": {},
   "source": [
    "**Вывод**: Ожидаемых результатов внедренные изменения не принесли. Роста конверсии не наблюдается ни для одного из событий лога. Напротив, конверсия в просмотр карточек товаров и в покупки в группе B снизилась после внедрения изменений на 12,93% и 13% соответственно, и такое снижение является статистически значимым.   \n",
    "    \n",
    "Полагаться на результаты теста и принимать решения по его результатам не рекомендуется, так как тест проведен не совсем корректно, не в полном соответствии с ТЗ:\n",
    "- нет записей лога с событиями в период с 2020-12-31 по 2021-01-04; \n",
    "- некорректный интервал отбора новых пользователей. Должен был завершиться на сутки раньше;  \n",
    "- ожидаемое количество участников теста: 6000 - по факту только 2788;  \n",
    "- менее 15% аудитории из региона EU - только 7,5%;  \n",
    "- число участников теста менее 6000 - только 3675 пользователей;  \n",
    "\n",
    "Также имеются дополнительные факторы, которые могли исказить результаты теста:  \n",
    "- В даты проведения теста проходит Рождественская и предновогодняя маркетинговая кампания, которая может повлиять на результаты теста и исказить их.  \n",
    "- Одновременно с исследуемым `тестом recommender_system_test` проводился тест `interface_eu_test`, в котором принимали участие 1602 пользователя из исследуемого теста;  \n",
    "- пользователи не всегда идут по ожидаемому логическому пути событий от авторизации до покупки.  \n",
    "    \n",
    "Следует проработать корректность проведения теста."
   ]
  }
 ],
 "metadata": {
  "ExecuteTimeLog": [
   {
    "duration": 335,
    "start_time": "2022-02-17T17:45:12.649Z"
   },
   {
    "duration": 2095,
    "start_time": "2022-02-17T17:45:29.258Z"
   },
   {
    "duration": 1480,
    "start_time": "2022-02-17T17:45:31.356Z"
   },
   {
    "duration": 100,
    "start_time": "2022-02-17T17:45:32.839Z"
   },
   {
    "duration": 5,
    "start_time": "2022-02-17T17:45:32.941Z"
   },
   {
    "duration": 40,
    "start_time": "2022-02-17T17:45:32.948Z"
   },
   {
    "duration": 4,
    "start_time": "2022-02-17T17:45:32.990Z"
   },
   {
    "duration": 748,
    "start_time": "2022-02-17T17:45:32.996Z"
   },
   {
    "duration": 176,
    "start_time": "2022-02-17T17:45:33.748Z"
   },
   {
    "duration": 3,
    "start_time": "2022-02-17T17:45:33.928Z"
   },
   {
    "duration": 11,
    "start_time": "2022-02-17T17:45:33.933Z"
   },
   {
    "duration": 9,
    "start_time": "2022-02-17T17:45:33.946Z"
   },
   {
    "duration": 48,
    "start_time": "2022-02-17T17:45:33.958Z"
   },
   {
    "duration": 18,
    "start_time": "2022-02-17T17:45:34.009Z"
   },
   {
    "duration": 29,
    "start_time": "2022-02-17T17:45:34.030Z"
   },
   {
    "duration": 33,
    "start_time": "2022-02-17T17:45:34.062Z"
   },
   {
    "duration": 43,
    "start_time": "2022-02-17T17:45:34.098Z"
   },
   {
    "duration": 73,
    "start_time": "2022-02-17T17:45:34.143Z"
   },
   {
    "duration": 24,
    "start_time": "2022-02-17T17:45:34.219Z"
   },
   {
    "duration": 59,
    "start_time": "2022-02-17T17:45:34.246Z"
   },
   {
    "duration": 25,
    "start_time": "2022-02-17T17:45:34.307Z"
   },
   {
    "duration": 12,
    "start_time": "2022-02-17T17:45:34.334Z"
   },
   {
    "duration": 5,
    "start_time": "2022-02-17T17:45:34.348Z"
   },
   {
    "duration": 15,
    "start_time": "2022-02-17T17:45:34.393Z"
   },
   {
    "duration": 7,
    "start_time": "2022-02-17T17:45:34.411Z"
   },
   {
    "duration": 14,
    "start_time": "2022-02-17T17:45:34.420Z"
   },
   {
    "duration": 8,
    "start_time": "2022-02-17T17:45:34.437Z"
   },
   {
    "duration": 7,
    "start_time": "2022-02-17T17:45:34.447Z"
   },
   {
    "duration": 44,
    "start_time": "2022-02-17T17:45:34.456Z"
   },
   {
    "duration": 89,
    "start_time": "2022-02-17T17:45:34.503Z"
   },
   {
    "duration": 20,
    "start_time": "2022-02-17T17:55:19.673Z"
   },
   {
    "duration": 2052,
    "start_time": "2022-02-18T03:51:28.122Z"
   },
   {
    "duration": 1641,
    "start_time": "2022-02-18T03:51:30.177Z"
   },
   {
    "duration": 104,
    "start_time": "2022-02-18T03:51:31.823Z"
   },
   {
    "duration": 4,
    "start_time": "2022-02-18T03:51:31.930Z"
   },
   {
    "duration": 47,
    "start_time": "2022-02-18T03:51:31.937Z"
   },
   {
    "duration": 4,
    "start_time": "2022-02-18T03:51:31.987Z"
   },
   {
    "duration": 945,
    "start_time": "2022-02-18T03:51:31.994Z"
   },
   {
    "duration": 196,
    "start_time": "2022-02-18T03:51:32.945Z"
   },
   {
    "duration": 3,
    "start_time": "2022-02-18T03:51:33.144Z"
   },
   {
    "duration": 14,
    "start_time": "2022-02-18T03:51:33.151Z"
   },
   {
    "duration": 29,
    "start_time": "2022-02-18T03:51:33.169Z"
   },
   {
    "duration": 19,
    "start_time": "2022-02-18T03:51:33.201Z"
   },
   {
    "duration": 21,
    "start_time": "2022-02-18T03:51:33.223Z"
   },
   {
    "duration": 63,
    "start_time": "2022-02-18T03:51:33.248Z"
   },
   {
    "duration": 17,
    "start_time": "2022-02-18T03:51:33.315Z"
   },
   {
    "duration": 74,
    "start_time": "2022-02-18T03:51:33.335Z"
   },
   {
    "duration": 87,
    "start_time": "2022-02-18T03:51:33.412Z"
   },
   {
    "duration": 24,
    "start_time": "2022-02-18T03:51:33.502Z"
   },
   {
    "duration": 65,
    "start_time": "2022-02-18T03:51:33.529Z"
   },
   {
    "duration": 29,
    "start_time": "2022-02-18T03:51:33.597Z"
   },
   {
    "duration": 15,
    "start_time": "2022-02-18T03:51:33.629Z"
   },
   {
    "duration": 46,
    "start_time": "2022-02-18T03:51:33.647Z"
   },
   {
    "duration": 6,
    "start_time": "2022-02-18T03:51:33.698Z"
   },
   {
    "duration": 12,
    "start_time": "2022-02-18T03:51:33.708Z"
   },
   {
    "duration": 16,
    "start_time": "2022-02-18T03:51:33.722Z"
   },
   {
    "duration": 11,
    "start_time": "2022-02-18T03:51:33.742Z"
   },
   {
    "duration": 50,
    "start_time": "2022-02-18T03:51:33.756Z"
   },
   {
    "duration": 12,
    "start_time": "2022-02-18T03:51:33.809Z"
   },
   {
    "duration": 84,
    "start_time": "2022-02-18T03:51:33.823Z"
   },
   {
    "duration": 10,
    "start_time": "2022-02-18T03:56:22.337Z"
   },
   {
    "duration": 36,
    "start_time": "2022-02-18T04:02:14.222Z"
   },
   {
    "duration": 18,
    "start_time": "2022-02-18T04:05:46.548Z"
   },
   {
    "duration": 67,
    "start_time": "2022-02-18T04:06:02.941Z"
   },
   {
    "duration": 257,
    "start_time": "2022-02-18T04:09:52.138Z"
   },
   {
    "duration": 36,
    "start_time": "2022-02-18T04:10:38.075Z"
   },
   {
    "duration": 59,
    "start_time": "2022-02-18T04:16:03.327Z"
   },
   {
    "duration": 7316,
    "start_time": "2022-02-18T04:16:22.887Z"
   },
   {
    "duration": 7191,
    "start_time": "2022-02-18T04:16:42.931Z"
   },
   {
    "duration": 1967,
    "start_time": "2022-02-18T04:17:03.261Z"
   },
   {
    "duration": 1515,
    "start_time": "2022-02-18T04:17:05.231Z"
   },
   {
    "duration": 103,
    "start_time": "2022-02-18T04:17:06.749Z"
   },
   {
    "duration": 4,
    "start_time": "2022-02-18T04:17:06.855Z"
   },
   {
    "duration": 48,
    "start_time": "2022-02-18T04:17:06.861Z"
   },
   {
    "duration": 3,
    "start_time": "2022-02-18T04:17:06.912Z"
   },
   {
    "duration": 790,
    "start_time": "2022-02-18T04:17:06.917Z"
   },
   {
    "duration": 183,
    "start_time": "2022-02-18T04:17:07.713Z"
   },
   {
    "duration": 3,
    "start_time": "2022-02-18T04:17:07.899Z"
   },
   {
    "duration": 14,
    "start_time": "2022-02-18T04:17:07.905Z"
   },
   {
    "duration": 8,
    "start_time": "2022-02-18T04:17:07.922Z"
   },
   {
    "duration": 15,
    "start_time": "2022-02-18T04:17:07.932Z"
   },
   {
    "duration": 61,
    "start_time": "2022-02-18T04:17:07.950Z"
   },
   {
    "duration": 18,
    "start_time": "2022-02-18T04:17:08.014Z"
   },
   {
    "duration": 12,
    "start_time": "2022-02-18T04:17:08.034Z"
   },
   {
    "duration": 14,
    "start_time": "2022-02-18T04:17:08.049Z"
   },
   {
    "duration": 66,
    "start_time": "2022-02-18T04:17:08.065Z"
   },
   {
    "duration": 35,
    "start_time": "2022-02-18T04:17:08.133Z"
   },
   {
    "duration": 55,
    "start_time": "2022-02-18T04:17:08.171Z"
   },
   {
    "duration": 84,
    "start_time": "2022-02-18T04:17:08.228Z"
   },
   {
    "duration": 269,
    "start_time": "2022-02-18T04:17:08.314Z"
   },
   {
    "duration": 7548,
    "start_time": "2022-02-18T04:17:08.587Z"
   },
   {
    "duration": -60,
    "start_time": "2022-02-18T04:17:16.199Z"
   },
   {
    "duration": -63,
    "start_time": "2022-02-18T04:17:16.203Z"
   },
   {
    "duration": -64,
    "start_time": "2022-02-18T04:17:16.206Z"
   },
   {
    "duration": -65,
    "start_time": "2022-02-18T04:17:16.209Z"
   },
   {
    "duration": -69,
    "start_time": "2022-02-18T04:17:16.214Z"
   },
   {
    "duration": -74,
    "start_time": "2022-02-18T04:17:16.221Z"
   },
   {
    "duration": -76,
    "start_time": "2022-02-18T04:17:16.224Z"
   },
   {
    "duration": -78,
    "start_time": "2022-02-18T04:17:16.228Z"
   },
   {
    "duration": -80,
    "start_time": "2022-02-18T04:17:16.232Z"
   },
   {
    "duration": -82,
    "start_time": "2022-02-18T04:17:16.235Z"
   },
   {
    "duration": -82,
    "start_time": "2022-02-18T04:17:16.237Z"
   },
   {
    "duration": -84,
    "start_time": "2022-02-18T04:17:16.240Z"
   },
   {
    "duration": -85,
    "start_time": "2022-02-18T04:17:16.243Z"
   },
   {
    "duration": 7210,
    "start_time": "2022-02-18T04:19:47.451Z"
   },
   {
    "duration": 7254,
    "start_time": "2022-02-18T04:20:06.006Z"
   },
   {
    "duration": 7099,
    "start_time": "2022-02-18T04:20:17.082Z"
   },
   {
    "duration": 7,
    "start_time": "2022-02-18T04:20:40.741Z"
   },
   {
    "duration": 1958,
    "start_time": "2022-02-18T04:21:27.651Z"
   },
   {
    "duration": 1599,
    "start_time": "2022-02-18T04:21:29.612Z"
   },
   {
    "duration": 95,
    "start_time": "2022-02-18T04:21:31.214Z"
   },
   {
    "duration": 4,
    "start_time": "2022-02-18T04:21:31.312Z"
   },
   {
    "duration": 57,
    "start_time": "2022-02-18T04:21:31.318Z"
   },
   {
    "duration": 4,
    "start_time": "2022-02-18T04:21:31.377Z"
   },
   {
    "duration": 760,
    "start_time": "2022-02-18T04:21:31.383Z"
   },
   {
    "duration": 183,
    "start_time": "2022-02-18T04:21:32.147Z"
   },
   {
    "duration": 2,
    "start_time": "2022-02-18T04:21:32.333Z"
   },
   {
    "duration": 12,
    "start_time": "2022-02-18T04:21:32.338Z"
   },
   {
    "duration": 12,
    "start_time": "2022-02-18T04:21:32.352Z"
   },
   {
    "duration": 38,
    "start_time": "2022-02-18T04:21:32.366Z"
   },
   {
    "duration": 27,
    "start_time": "2022-02-18T04:21:32.406Z"
   },
   {
    "duration": 21,
    "start_time": "2022-02-18T04:21:32.435Z"
   },
   {
    "duration": 13,
    "start_time": "2022-02-18T04:21:32.458Z"
   },
   {
    "duration": 31,
    "start_time": "2022-02-18T04:21:32.473Z"
   },
   {
    "duration": 35,
    "start_time": "2022-02-18T04:21:32.507Z"
   },
   {
    "duration": 74,
    "start_time": "2022-02-18T04:21:32.544Z"
   },
   {
    "duration": 30,
    "start_time": "2022-02-18T04:21:32.621Z"
   },
   {
    "duration": 79,
    "start_time": "2022-02-18T04:21:32.654Z"
   },
   {
    "duration": 270,
    "start_time": "2022-02-18T04:21:32.735Z"
   },
   {
    "duration": 24,
    "start_time": "2022-02-18T04:21:33.008Z"
   },
   {
    "duration": 74,
    "start_time": "2022-02-18T04:21:33.037Z"
   },
   {
    "duration": 21,
    "start_time": "2022-02-18T04:21:33.113Z"
   },
   {
    "duration": 34,
    "start_time": "2022-02-18T04:21:33.136Z"
   },
   {
    "duration": 53,
    "start_time": "2022-02-18T04:21:33.172Z"
   },
   {
    "duration": 12,
    "start_time": "2022-02-18T04:21:33.228Z"
   },
   {
    "duration": 7,
    "start_time": "2022-02-18T04:21:33.242Z"
   },
   {
    "duration": 10,
    "start_time": "2022-02-18T04:21:33.251Z"
   },
   {
    "duration": 35,
    "start_time": "2022-02-18T04:21:33.263Z"
   },
   {
    "duration": 19,
    "start_time": "2022-02-18T04:21:33.301Z"
   },
   {
    "duration": 9,
    "start_time": "2022-02-18T04:21:33.323Z"
   },
   {
    "duration": 8,
    "start_time": "2022-02-18T04:21:33.334Z"
   },
   {
    "duration": 11,
    "start_time": "2022-02-18T04:21:33.344Z"
   },
   {
    "duration": 84,
    "start_time": "2022-02-18T04:21:33.357Z"
   },
   {
    "duration": 31,
    "start_time": "2022-02-18T04:22:49.584Z"
   },
   {
    "duration": 1927,
    "start_time": "2022-02-18T04:39:00.584Z"
   },
   {
    "duration": 1552,
    "start_time": "2022-02-18T04:39:02.513Z"
   },
   {
    "duration": 102,
    "start_time": "2022-02-18T04:39:04.068Z"
   },
   {
    "duration": 4,
    "start_time": "2022-02-18T04:39:04.173Z"
   },
   {
    "duration": 39,
    "start_time": "2022-02-18T04:39:04.179Z"
   },
   {
    "duration": 3,
    "start_time": "2022-02-18T04:39:04.221Z"
   },
   {
    "duration": 787,
    "start_time": "2022-02-18T04:39:04.226Z"
   },
   {
    "duration": 177,
    "start_time": "2022-02-18T04:39:05.016Z"
   },
   {
    "duration": 3,
    "start_time": "2022-02-18T04:39:05.196Z"
   },
   {
    "duration": 18,
    "start_time": "2022-02-18T04:39:05.202Z"
   },
   {
    "duration": 7,
    "start_time": "2022-02-18T04:39:05.222Z"
   },
   {
    "duration": 17,
    "start_time": "2022-02-18T04:39:05.231Z"
   },
   {
    "duration": 48,
    "start_time": "2022-02-18T04:39:05.251Z"
   },
   {
    "duration": 21,
    "start_time": "2022-02-18T04:39:05.301Z"
   },
   {
    "duration": 14,
    "start_time": "2022-02-18T04:39:05.324Z"
   },
   {
    "duration": 11,
    "start_time": "2022-02-18T04:39:05.340Z"
   },
   {
    "duration": 63,
    "start_time": "2022-02-18T04:39:05.353Z"
   },
   {
    "duration": 35,
    "start_time": "2022-02-18T04:39:05.418Z"
   },
   {
    "duration": 55,
    "start_time": "2022-02-18T04:39:05.455Z"
   },
   {
    "duration": 66,
    "start_time": "2022-02-18T04:39:05.512Z"
   },
   {
    "duration": 235,
    "start_time": "2022-02-18T04:39:05.596Z"
   },
   {
    "duration": 28,
    "start_time": "2022-02-18T04:39:05.833Z"
   },
   {
    "duration": 45,
    "start_time": "2022-02-18T04:39:05.866Z"
   },
   {
    "duration": 59,
    "start_time": "2022-02-18T04:39:05.914Z"
   },
   {
    "duration": 39,
    "start_time": "2022-02-18T04:39:05.975Z"
   },
   {
    "duration": 36,
    "start_time": "2022-02-18T04:39:06.016Z"
   },
   {
    "duration": 46,
    "start_time": "2022-02-18T04:39:06.054Z"
   },
   {
    "duration": 16,
    "start_time": "2022-02-18T04:39:06.102Z"
   },
   {
    "duration": 10,
    "start_time": "2022-02-18T04:39:06.120Z"
   },
   {
    "duration": 7,
    "start_time": "2022-02-18T04:39:06.132Z"
   },
   {
    "duration": 7,
    "start_time": "2022-02-18T04:39:06.141Z"
   },
   {
    "duration": 51,
    "start_time": "2022-02-18T04:39:06.150Z"
   },
   {
    "duration": 11,
    "start_time": "2022-02-18T04:39:06.206Z"
   },
   {
    "duration": 6,
    "start_time": "2022-02-18T04:39:06.219Z"
   },
   {
    "duration": 9,
    "start_time": "2022-02-18T04:39:06.227Z"
   },
   {
    "duration": 88,
    "start_time": "2022-02-18T04:39:06.238Z"
   },
   {
    "duration": 92,
    "start_time": "2022-02-18T04:47:52.527Z"
   },
   {
    "duration": 4,
    "start_time": "2022-02-18T04:49:41.209Z"
   },
   {
    "duration": 23,
    "start_time": "2022-02-18T04:52:18.259Z"
   },
   {
    "duration": 1894,
    "start_time": "2022-02-18T04:54:54.609Z"
   },
   {
    "duration": 1475,
    "start_time": "2022-02-18T04:54:56.506Z"
   },
   {
    "duration": 91,
    "start_time": "2022-02-18T04:54:57.985Z"
   },
   {
    "duration": 4,
    "start_time": "2022-02-18T04:54:58.078Z"
   },
   {
    "duration": 42,
    "start_time": "2022-02-18T04:54:58.085Z"
   },
   {
    "duration": 5,
    "start_time": "2022-02-18T04:54:58.130Z"
   },
   {
    "duration": 12,
    "start_time": "2022-02-18T04:54:58.138Z"
   },
   {
    "duration": 189,
    "start_time": "2022-02-18T04:54:58.155Z"
   },
   {
    "duration": 3,
    "start_time": "2022-02-18T04:54:58.348Z"
   },
   {
    "duration": 11,
    "start_time": "2022-02-18T04:54:58.354Z"
   },
   {
    "duration": 29,
    "start_time": "2022-02-18T04:54:58.368Z"
   },
   {
    "duration": 21,
    "start_time": "2022-02-18T04:54:58.406Z"
   },
   {
    "duration": 18,
    "start_time": "2022-02-18T04:54:58.429Z"
   },
   {
    "duration": 18,
    "start_time": "2022-02-18T04:54:58.449Z"
   },
   {
    "duration": 285,
    "start_time": "2022-02-18T04:54:58.469Z"
   },
   {
    "duration": 12,
    "start_time": "2022-02-18T04:54:58.756Z"
   },
   {
    "duration": 38,
    "start_time": "2022-02-18T04:54:58.770Z"
   },
   {
    "duration": 36,
    "start_time": "2022-02-18T04:54:58.810Z"
   },
   {
    "duration": 55,
    "start_time": "2022-02-18T04:54:58.848Z"
   },
   {
    "duration": 30,
    "start_time": "2022-02-18T04:54:58.906Z"
   },
   {
    "duration": 77,
    "start_time": "2022-02-18T04:54:58.939Z"
   },
   {
    "duration": 282,
    "start_time": "2022-02-18T04:54:59.019Z"
   },
   {
    "duration": 25,
    "start_time": "2022-02-18T04:54:59.306Z"
   },
   {
    "duration": 23,
    "start_time": "2022-02-18T04:54:59.334Z"
   },
   {
    "duration": 84,
    "start_time": "2022-02-18T04:54:59.359Z"
   },
   {
    "duration": 22,
    "start_time": "2022-02-18T04:54:59.445Z"
   },
   {
    "duration": 51,
    "start_time": "2022-02-18T04:54:59.469Z"
   },
   {
    "duration": 24,
    "start_time": "2022-02-18T04:54:59.522Z"
   },
   {
    "duration": 12,
    "start_time": "2022-02-18T04:54:59.549Z"
   },
   {
    "duration": 35,
    "start_time": "2022-02-18T04:54:59.563Z"
   },
   {
    "duration": 23,
    "start_time": "2022-02-18T04:54:59.600Z"
   },
   {
    "duration": 7,
    "start_time": "2022-02-18T04:54:59.626Z"
   },
   {
    "duration": 36,
    "start_time": "2022-02-18T04:54:59.635Z"
   },
   {
    "duration": 21,
    "start_time": "2022-02-18T04:54:59.674Z"
   },
   {
    "duration": 21,
    "start_time": "2022-02-18T04:54:59.698Z"
   },
   {
    "duration": 8,
    "start_time": "2022-02-18T04:54:59.721Z"
   },
   {
    "duration": 51,
    "start_time": "2022-02-18T04:54:59.731Z"
   },
   {
    "duration": 139,
    "start_time": "2022-02-18T04:56:05.327Z"
   },
   {
    "duration": 30,
    "start_time": "2022-02-18T04:56:15.970Z"
   },
   {
    "duration": 1914,
    "start_time": "2022-02-18T04:56:40.213Z"
   },
   {
    "duration": 1514,
    "start_time": "2022-02-18T04:56:42.130Z"
   },
   {
    "duration": 101,
    "start_time": "2022-02-18T04:56:43.647Z"
   },
   {
    "duration": 4,
    "start_time": "2022-02-18T04:56:43.750Z"
   },
   {
    "duration": 51,
    "start_time": "2022-02-18T04:56:43.756Z"
   },
   {
    "duration": 3,
    "start_time": "2022-02-18T04:56:43.809Z"
   },
   {
    "duration": 8,
    "start_time": "2022-02-18T04:56:43.815Z"
   },
   {
    "duration": 186,
    "start_time": "2022-02-18T04:56:43.827Z"
   },
   {
    "duration": 4,
    "start_time": "2022-02-18T04:56:44.017Z"
   },
   {
    "duration": 13,
    "start_time": "2022-02-18T04:56:44.024Z"
   },
   {
    "duration": 8,
    "start_time": "2022-02-18T04:56:44.039Z"
   },
   {
    "duration": 57,
    "start_time": "2022-02-18T04:56:44.050Z"
   },
   {
    "duration": 27,
    "start_time": "2022-02-18T04:56:44.110Z"
   },
   {
    "duration": 26,
    "start_time": "2022-02-18T04:56:44.140Z"
   },
   {
    "duration": 318,
    "start_time": "2022-02-18T04:56:44.168Z"
   },
   {
    "duration": 233,
    "start_time": "2022-02-18T04:56:44.488Z"
   },
   {
    "duration": 29,
    "start_time": "2022-02-18T04:56:44.723Z"
   },
   {
    "duration": 42,
    "start_time": "2022-02-18T04:56:44.755Z"
   },
   {
    "duration": 11,
    "start_time": "2022-02-18T04:56:44.800Z"
   },
   {
    "duration": 34,
    "start_time": "2022-02-18T04:56:44.813Z"
   },
   {
    "duration": 68,
    "start_time": "2022-02-18T04:56:44.849Z"
   },
   {
    "duration": 31,
    "start_time": "2022-02-18T04:56:44.920Z"
   },
   {
    "duration": 93,
    "start_time": "2022-02-18T04:56:44.958Z"
   },
   {
    "duration": 236,
    "start_time": "2022-02-18T04:56:45.055Z"
   },
   {
    "duration": 31,
    "start_time": "2022-02-18T04:56:45.294Z"
   },
   {
    "duration": 22,
    "start_time": "2022-02-18T04:56:45.327Z"
   },
   {
    "duration": 85,
    "start_time": "2022-02-18T04:56:45.352Z"
   },
   {
    "duration": 23,
    "start_time": "2022-02-18T04:56:45.440Z"
   },
   {
    "duration": 57,
    "start_time": "2022-02-18T04:56:45.465Z"
   },
   {
    "duration": 26,
    "start_time": "2022-02-18T04:56:45.525Z"
   },
   {
    "duration": 43,
    "start_time": "2022-02-18T04:56:45.554Z"
   },
   {
    "duration": 8,
    "start_time": "2022-02-18T04:56:45.600Z"
   },
   {
    "duration": 13,
    "start_time": "2022-02-18T04:56:45.611Z"
   },
   {
    "duration": 7,
    "start_time": "2022-02-18T04:56:45.627Z"
   },
   {
    "duration": 12,
    "start_time": "2022-02-18T04:56:45.636Z"
   },
   {
    "duration": 7,
    "start_time": "2022-02-18T04:56:45.651Z"
   },
   {
    "duration": 41,
    "start_time": "2022-02-18T04:56:45.661Z"
   },
   {
    "duration": 12,
    "start_time": "2022-02-18T04:56:45.704Z"
   },
   {
    "duration": 55,
    "start_time": "2022-02-18T04:56:45.719Z"
   },
   {
    "duration": 22,
    "start_time": "2022-02-18T04:58:02.548Z"
   },
   {
    "duration": 24,
    "start_time": "2022-02-18T04:58:46.853Z"
   },
   {
    "duration": 251,
    "start_time": "2022-02-18T04:59:34.654Z"
   },
   {
    "duration": 29,
    "start_time": "2022-02-18T04:59:40.868Z"
   },
   {
    "duration": 8,
    "start_time": "2022-02-18T05:00:09.934Z"
   },
   {
    "duration": 456,
    "start_time": "2022-02-20T09:53:53.818Z"
   },
   {
    "duration": 1951,
    "start_time": "2022-02-20T09:54:06.667Z"
   },
   {
    "duration": 1509,
    "start_time": "2022-02-20T09:54:08.620Z"
   },
   {
    "duration": 101,
    "start_time": "2022-02-20T09:54:10.132Z"
   },
   {
    "duration": 3,
    "start_time": "2022-02-20T09:54:10.236Z"
   },
   {
    "duration": 40,
    "start_time": "2022-02-20T09:54:10.241Z"
   },
   {
    "duration": 4,
    "start_time": "2022-02-20T09:54:10.283Z"
   },
   {
    "duration": 771,
    "start_time": "2022-02-20T09:54:10.289Z"
   },
   {
    "duration": 180,
    "start_time": "2022-02-20T09:54:11.064Z"
   },
   {
    "duration": 4,
    "start_time": "2022-02-20T09:54:11.248Z"
   },
   {
    "duration": 11,
    "start_time": "2022-02-20T09:54:11.255Z"
   },
   {
    "duration": 7,
    "start_time": "2022-02-20T09:54:11.293Z"
   },
   {
    "duration": 18,
    "start_time": "2022-02-20T09:54:11.303Z"
   },
   {
    "duration": 20,
    "start_time": "2022-02-20T09:54:11.323Z"
   },
   {
    "duration": 61,
    "start_time": "2022-02-20T09:54:11.346Z"
   },
   {
    "duration": 280,
    "start_time": "2022-02-20T09:54:11.410Z"
   },
   {
    "duration": 29,
    "start_time": "2022-02-20T09:54:11.694Z"
   },
   {
    "duration": 92,
    "start_time": "2022-02-20T09:54:11.725Z"
   },
   {
    "duration": 13,
    "start_time": "2022-02-20T09:54:11.820Z"
   },
   {
    "duration": 23,
    "start_time": "2022-02-20T09:54:11.835Z"
   },
   {
    "duration": 49,
    "start_time": "2022-02-20T09:54:11.860Z"
   },
   {
    "duration": 6,
    "start_time": "2022-02-20T09:54:11.912Z"
   },
   {
    "duration": 27,
    "start_time": "2022-02-20T09:54:11.920Z"
   },
   {
    "duration": 9,
    "start_time": "2022-02-20T09:54:11.953Z"
   },
   {
    "duration": 141,
    "start_time": "2022-02-20T09:54:11.994Z"
   },
   {
    "duration": 30,
    "start_time": "2022-02-20T09:54:12.138Z"
   },
   {
    "duration": 5,
    "start_time": "2022-02-20T09:54:12.171Z"
   },
   {
    "duration": 10,
    "start_time": "2022-02-20T09:54:12.194Z"
   },
   {
    "duration": 37,
    "start_time": "2022-02-20T09:54:12.207Z"
   },
   {
    "duration": 10,
    "start_time": "2022-02-20T09:54:12.246Z"
   },
   {
    "duration": 43,
    "start_time": "2022-02-20T09:54:12.294Z"
   },
   {
    "duration": 244,
    "start_time": "2022-02-20T09:54:12.339Z"
   },
   {
    "duration": 34,
    "start_time": "2022-02-20T09:54:12.585Z"
   },
   {
    "duration": 28,
    "start_time": "2022-02-20T09:54:12.621Z"
   },
   {
    "duration": 260,
    "start_time": "2022-02-20T09:54:12.651Z"
   },
   {
    "duration": 26,
    "start_time": "2022-02-20T09:54:12.913Z"
   },
   {
    "duration": 10,
    "start_time": "2022-02-20T09:54:12.942Z"
   },
   {
    "duration": 63,
    "start_time": "2022-02-20T09:54:12.955Z"
   },
   {
    "duration": 33,
    "start_time": "2022-02-20T09:54:13.021Z"
   },
   {
    "duration": 88,
    "start_time": "2022-02-20T09:54:13.056Z"
   },
   {
    "duration": 222,
    "start_time": "2022-02-20T09:54:13.146Z"
   },
   {
    "duration": 29,
    "start_time": "2022-02-20T09:54:13.370Z"
   },
   {
    "duration": 30,
    "start_time": "2022-02-20T09:54:13.402Z"
   },
   {
    "duration": 83,
    "start_time": "2022-02-20T09:54:13.434Z"
   },
   {
    "duration": 21,
    "start_time": "2022-02-20T09:54:13.519Z"
   },
   {
    "duration": 54,
    "start_time": "2022-02-20T09:54:13.543Z"
   },
   {
    "duration": 26,
    "start_time": "2022-02-20T09:54:13.601Z"
   },
   {
    "duration": 13,
    "start_time": "2022-02-20T09:54:13.630Z"
   },
   {
    "duration": 7,
    "start_time": "2022-02-20T09:54:13.646Z"
   },
   {
    "duration": 43,
    "start_time": "2022-02-20T09:54:13.655Z"
   },
   {
    "duration": 8,
    "start_time": "2022-02-20T09:54:13.701Z"
   },
   {
    "duration": 14,
    "start_time": "2022-02-20T09:54:13.711Z"
   },
   {
    "duration": 11,
    "start_time": "2022-02-20T09:54:13.728Z"
   },
   {
    "duration": 12,
    "start_time": "2022-02-20T09:54:13.742Z"
   },
   {
    "duration": 43,
    "start_time": "2022-02-20T09:54:13.757Z"
   },
   {
    "duration": 53,
    "start_time": "2022-02-20T09:54:13.803Z"
   },
   {
    "duration": 54,
    "start_time": "2022-02-20T10:05:55.521Z"
   },
   {
    "duration": 15,
    "start_time": "2022-02-20T10:07:42.363Z"
   },
   {
    "duration": 452,
    "start_time": "2022-02-20T10:12:54.344Z"
   },
   {
    "duration": 275,
    "start_time": "2022-02-20T10:19:03.247Z"
   },
   {
    "duration": 2049,
    "start_time": "2022-02-20T10:27:14.790Z"
   },
   {
    "duration": 1768,
    "start_time": "2022-02-20T10:27:16.842Z"
   },
   {
    "duration": 104,
    "start_time": "2022-02-20T10:27:18.613Z"
   },
   {
    "duration": 3,
    "start_time": "2022-02-20T10:27:18.720Z"
   },
   {
    "duration": 44,
    "start_time": "2022-02-20T10:27:18.725Z"
   },
   {
    "duration": 3,
    "start_time": "2022-02-20T10:27:18.772Z"
   },
   {
    "duration": 789,
    "start_time": "2022-02-20T10:27:18.778Z"
   },
   {
    "duration": 189,
    "start_time": "2022-02-20T10:27:19.571Z"
   },
   {
    "duration": 3,
    "start_time": "2022-02-20T10:27:19.763Z"
   },
   {
    "duration": 26,
    "start_time": "2022-02-20T10:27:19.769Z"
   },
   {
    "duration": 8,
    "start_time": "2022-02-20T10:27:19.798Z"
   },
   {
    "duration": 15,
    "start_time": "2022-02-20T10:27:19.809Z"
   },
   {
    "duration": 23,
    "start_time": "2022-02-20T10:27:19.826Z"
   },
   {
    "duration": 53,
    "start_time": "2022-02-20T10:27:19.852Z"
   },
   {
    "duration": 286,
    "start_time": "2022-02-20T10:27:19.907Z"
   },
   {
    "duration": 28,
    "start_time": "2022-02-20T10:27:20.196Z"
   },
   {
    "duration": 92,
    "start_time": "2022-02-20T10:27:20.226Z"
   },
   {
    "duration": 14,
    "start_time": "2022-02-20T10:27:20.320Z"
   },
   {
    "duration": 14,
    "start_time": "2022-02-20T10:27:20.337Z"
   },
   {
    "duration": 57,
    "start_time": "2022-02-20T10:27:20.354Z"
   },
   {
    "duration": 6,
    "start_time": "2022-02-20T10:27:20.414Z"
   },
   {
    "duration": 24,
    "start_time": "2022-02-20T10:27:20.423Z"
   },
   {
    "duration": 9,
    "start_time": "2022-02-20T10:27:20.453Z"
   },
   {
    "duration": 184,
    "start_time": "2022-02-20T10:27:20.466Z"
   },
   {
    "duration": 44,
    "start_time": "2022-02-20T10:27:20.653Z"
   },
   {
    "duration": 8,
    "start_time": "2022-02-20T10:27:20.700Z"
   },
   {
    "duration": 14,
    "start_time": "2022-02-20T10:27:20.711Z"
   },
   {
    "duration": 79,
    "start_time": "2022-02-20T10:27:20.728Z"
   },
   {
    "duration": 10,
    "start_time": "2022-02-20T10:27:20.810Z"
   },
   {
    "duration": 24,
    "start_time": "2022-02-20T10:27:20.823Z"
   },
   {
    "duration": 72,
    "start_time": "2022-02-20T10:27:20.850Z"
   },
   {
    "duration": 15,
    "start_time": "2022-02-20T10:27:20.925Z"
   },
   {
    "duration": 65,
    "start_time": "2022-02-20T10:27:20.942Z"
   },
   {
    "duration": 32,
    "start_time": "2022-02-20T10:27:21.010Z"
   },
   {
    "duration": 10,
    "start_time": "2022-02-20T10:27:21.046Z"
   },
   {
    "duration": 43,
    "start_time": "2022-02-20T10:27:21.058Z"
   },
   {
    "duration": 14,
    "start_time": "2022-02-20T10:27:21.104Z"
   },
   {
    "duration": 17,
    "start_time": "2022-02-20T10:27:21.121Z"
   },
   {
    "duration": 7,
    "start_time": "2022-02-20T10:27:21.140Z"
   },
   {
    "duration": 49,
    "start_time": "2022-02-20T10:27:21.149Z"
   },
   {
    "duration": 27,
    "start_time": "2022-02-20T10:27:21.201Z"
   },
   {
    "duration": 64,
    "start_time": "2022-02-20T10:27:21.231Z"
   },
   {
    "duration": 17,
    "start_time": "2022-02-20T10:27:21.298Z"
   },
   {
    "duration": 866,
    "start_time": "2022-02-20T10:27:21.318Z"
   },
   {
    "duration": 233,
    "start_time": "2022-02-20T10:27:22.194Z"
   },
   {
    "duration": 31,
    "start_time": "2022-02-20T10:27:22.429Z"
   },
   {
    "duration": 49,
    "start_time": "2022-02-20T10:27:22.462Z"
   },
   {
    "duration": 245,
    "start_time": "2022-02-20T10:27:22.513Z"
   },
   {
    "duration": 36,
    "start_time": "2022-02-20T10:27:22.761Z"
   },
   {
    "duration": 10,
    "start_time": "2022-02-20T10:27:22.800Z"
   },
   {
    "duration": 43,
    "start_time": "2022-02-20T10:27:22.813Z"
   },
   {
    "duration": 62,
    "start_time": "2022-02-20T10:27:22.859Z"
   },
   {
    "duration": 76,
    "start_time": "2022-02-20T10:27:22.923Z"
   },
   {
    "duration": 205,
    "start_time": "2022-02-20T10:27:23.001Z"
   },
   {
    "duration": 23,
    "start_time": "2022-02-20T10:27:23.209Z"
   },
   {
    "duration": 23,
    "start_time": "2022-02-20T10:27:23.235Z"
   },
   {
    "duration": 74,
    "start_time": "2022-02-20T10:27:23.260Z"
   },
   {
    "duration": 22,
    "start_time": "2022-02-20T10:27:23.336Z"
   },
   {
    "duration": 56,
    "start_time": "2022-02-20T10:27:23.360Z"
   },
   {
    "duration": 23,
    "start_time": "2022-02-20T10:27:23.418Z"
   },
   {
    "duration": 11,
    "start_time": "2022-02-20T10:27:23.443Z"
   },
   {
    "duration": 38,
    "start_time": "2022-02-20T10:27:23.457Z"
   },
   {
    "duration": 6,
    "start_time": "2022-02-20T10:27:23.497Z"
   },
   {
    "duration": 6,
    "start_time": "2022-02-20T10:27:23.506Z"
   },
   {
    "duration": 11,
    "start_time": "2022-02-20T10:27:23.514Z"
   },
   {
    "duration": 9,
    "start_time": "2022-02-20T10:27:23.527Z"
   },
   {
    "duration": 6,
    "start_time": "2022-02-20T10:27:23.538Z"
   },
   {
    "duration": 7,
    "start_time": "2022-02-20T10:27:23.595Z"
   },
   {
    "duration": 52,
    "start_time": "2022-02-20T10:27:23.604Z"
   },
   {
    "duration": 794,
    "start_time": "2022-02-20T10:28:31.103Z"
   },
   {
    "duration": 44,
    "start_time": "2022-02-20T10:30:43.769Z"
   },
   {
    "duration": 119,
    "start_time": "2022-02-20T10:32:17.588Z"
   },
   {
    "duration": 46,
    "start_time": "2022-02-20T10:32:36.504Z"
   },
   {
    "duration": 45,
    "start_time": "2022-02-20T10:32:44.675Z"
   },
   {
    "duration": 30,
    "start_time": "2022-02-20T10:38:56.552Z"
   },
   {
    "duration": 30,
    "start_time": "2022-02-20T10:39:11.522Z"
   },
   {
    "duration": 31,
    "start_time": "2022-02-20T10:39:14.796Z"
   },
   {
    "duration": 7,
    "start_time": "2022-02-20T10:44:05.398Z"
   },
   {
    "duration": 454,
    "start_time": "2022-02-20T10:44:31.075Z"
   },
   {
    "duration": 1396,
    "start_time": "2022-02-20T10:44:39.594Z"
   },
   {
    "duration": 6,
    "start_time": "2022-02-20T10:44:46.262Z"
   },
   {
    "duration": 832,
    "start_time": "2022-02-20T10:44:48.846Z"
   },
   {
    "duration": 736,
    "start_time": "2022-02-20T10:45:26.002Z"
   },
   {
    "duration": 1609,
    "start_time": "2022-02-20T11:10:10.474Z"
   },
   {
    "duration": 1630,
    "start_time": "2022-02-20T11:10:12.086Z"
   },
   {
    "duration": 94,
    "start_time": "2022-02-20T11:10:13.719Z"
   },
   {
    "duration": 3,
    "start_time": "2022-02-20T11:10:13.816Z"
   },
   {
    "duration": 60,
    "start_time": "2022-02-20T11:10:13.822Z"
   },
   {
    "duration": 3,
    "start_time": "2022-02-20T11:10:13.885Z"
   },
   {
    "duration": 902,
    "start_time": "2022-02-20T11:10:13.891Z"
   },
   {
    "duration": 173,
    "start_time": "2022-02-20T11:10:14.797Z"
   },
   {
    "duration": 2,
    "start_time": "2022-02-20T11:10:14.973Z"
   },
   {
    "duration": 29,
    "start_time": "2022-02-20T11:10:14.978Z"
   },
   {
    "duration": 7,
    "start_time": "2022-02-20T11:10:15.010Z"
   },
   {
    "duration": 33,
    "start_time": "2022-02-20T11:10:15.020Z"
   },
   {
    "duration": 40,
    "start_time": "2022-02-20T11:10:15.056Z"
   },
   {
    "duration": 53,
    "start_time": "2022-02-20T11:10:15.100Z"
   },
   {
    "duration": 271,
    "start_time": "2022-02-20T11:10:15.155Z"
   },
   {
    "duration": 29,
    "start_time": "2022-02-20T11:10:15.428Z"
   },
   {
    "duration": 95,
    "start_time": "2022-02-20T11:10:15.460Z"
   },
   {
    "duration": 12,
    "start_time": "2022-02-20T11:10:15.558Z"
   },
   {
    "duration": 30,
    "start_time": "2022-02-20T11:10:15.572Z"
   },
   {
    "duration": 36,
    "start_time": "2022-02-20T11:10:15.604Z"
   },
   {
    "duration": 7,
    "start_time": "2022-02-20T11:10:15.642Z"
   },
   {
    "duration": 53,
    "start_time": "2022-02-20T11:10:15.651Z"
   },
   {
    "duration": 10,
    "start_time": "2022-02-20T11:10:15.710Z"
   },
   {
    "duration": 165,
    "start_time": "2022-02-20T11:10:15.723Z"
   },
   {
    "duration": 29,
    "start_time": "2022-02-20T11:10:15.891Z"
   },
   {
    "duration": 5,
    "start_time": "2022-02-20T11:10:15.923Z"
   },
   {
    "duration": 22,
    "start_time": "2022-02-20T11:10:15.930Z"
   },
   {
    "duration": 63,
    "start_time": "2022-02-20T11:10:15.954Z"
   },
   {
    "duration": 10,
    "start_time": "2022-02-20T11:10:16.019Z"
   },
   {
    "duration": 26,
    "start_time": "2022-02-20T11:10:16.031Z"
   },
   {
    "duration": 70,
    "start_time": "2022-02-20T11:10:16.059Z"
   },
   {
    "duration": 14,
    "start_time": "2022-02-20T11:10:16.132Z"
   },
   {
    "duration": 67,
    "start_time": "2022-02-20T11:10:16.149Z"
   },
   {
    "duration": 33,
    "start_time": "2022-02-20T11:10:16.219Z"
   },
   {
    "duration": 9,
    "start_time": "2022-02-20T11:10:16.255Z"
   },
   {
    "duration": 12,
    "start_time": "2022-02-20T11:10:16.295Z"
   },
   {
    "duration": 18,
    "start_time": "2022-02-20T11:10:16.310Z"
   },
   {
    "duration": 24,
    "start_time": "2022-02-20T11:10:16.330Z"
   },
   {
    "duration": 15,
    "start_time": "2022-02-20T11:10:16.356Z"
   },
   {
    "duration": 25,
    "start_time": "2022-02-20T11:10:16.373Z"
   },
   {
    "duration": 36,
    "start_time": "2022-02-20T11:10:16.401Z"
   },
   {
    "duration": 24,
    "start_time": "2022-02-20T11:10:16.439Z"
   },
   {
    "duration": 38,
    "start_time": "2022-02-20T11:10:16.465Z"
   },
   {
    "duration": 825,
    "start_time": "2022-02-20T11:10:16.505Z"
   },
   {
    "duration": 63,
    "start_time": "2022-02-20T11:10:17.332Z"
   },
   {
    "duration": 3,
    "start_time": "2022-02-20T11:10:17.397Z"
   },
   {
    "duration": 50,
    "start_time": "2022-02-20T11:10:17.403Z"
   },
   {
    "duration": 15,
    "start_time": "2022-02-20T11:10:17.456Z"
   },
   {
    "duration": 779,
    "start_time": "2022-02-20T11:10:17.474Z"
   },
   {
    "duration": 769,
    "start_time": "2022-02-20T11:10:18.255Z"
   },
   {
    "duration": 7,
    "start_time": "2022-02-20T11:10:19.026Z"
   },
   {
    "duration": 516,
    "start_time": "2022-02-20T11:10:19.036Z"
   },
   {
    "duration": 557,
    "start_time": "2022-02-20T11:10:18.997Z"
   },
   {
    "duration": 529,
    "start_time": "2022-02-20T11:10:19.027Z"
   },
   {
    "duration": 1583,
    "start_time": "2022-02-20T11:15:07.272Z"
   },
   {
    "duration": 1498,
    "start_time": "2022-02-20T11:15:08.858Z"
   },
   {
    "duration": 101,
    "start_time": "2022-02-20T11:15:10.358Z"
   },
   {
    "duration": 3,
    "start_time": "2022-02-20T11:15:10.462Z"
   },
   {
    "duration": 49,
    "start_time": "2022-02-20T11:15:10.468Z"
   },
   {
    "duration": 3,
    "start_time": "2022-02-20T11:15:10.520Z"
   },
   {
    "duration": 811,
    "start_time": "2022-02-20T11:15:10.526Z"
   },
   {
    "duration": 189,
    "start_time": "2022-02-20T11:15:11.343Z"
   },
   {
    "duration": 9,
    "start_time": "2022-02-20T11:15:11.535Z"
   },
   {
    "duration": 8,
    "start_time": "2022-02-20T11:15:11.547Z"
   },
   {
    "duration": 48,
    "start_time": "2022-02-20T11:15:11.558Z"
   },
   {
    "duration": 23,
    "start_time": "2022-02-20T11:15:11.608Z"
   },
   {
    "duration": 25,
    "start_time": "2022-02-20T11:15:11.634Z"
   },
   {
    "duration": 292,
    "start_time": "2022-02-20T11:15:11.662Z"
   },
   {
    "duration": 41,
    "start_time": "2022-02-20T11:15:11.957Z"
   },
   {
    "duration": 71,
    "start_time": "2022-02-20T11:15:12.000Z"
   },
   {
    "duration": 30,
    "start_time": "2022-02-20T11:15:12.074Z"
   },
   {
    "duration": 9,
    "start_time": "2022-02-20T11:15:12.107Z"
   },
   {
    "duration": 34,
    "start_time": "2022-02-20T11:15:12.119Z"
   },
   {
    "duration": 41,
    "start_time": "2022-02-20T11:15:12.156Z"
   },
   {
    "duration": 22,
    "start_time": "2022-02-20T11:15:12.200Z"
   },
   {
    "duration": 9,
    "start_time": "2022-02-20T11:15:12.224Z"
   },
   {
    "duration": 171,
    "start_time": "2022-02-20T11:15:12.238Z"
   },
   {
    "duration": 28,
    "start_time": "2022-02-20T11:15:12.413Z"
   },
   {
    "duration": 5,
    "start_time": "2022-02-20T11:15:12.444Z"
   },
   {
    "duration": 44,
    "start_time": "2022-02-20T11:15:12.451Z"
   },
   {
    "duration": 40,
    "start_time": "2022-02-20T11:15:12.497Z"
   },
   {
    "duration": 12,
    "start_time": "2022-02-20T11:15:12.540Z"
   },
   {
    "duration": 45,
    "start_time": "2022-02-20T11:15:12.556Z"
   },
   {
    "duration": 47,
    "start_time": "2022-02-20T11:15:12.603Z"
   },
   {
    "duration": 44,
    "start_time": "2022-02-20T11:15:12.653Z"
   },
   {
    "duration": 38,
    "start_time": "2022-02-20T11:15:12.700Z"
   },
   {
    "duration": 54,
    "start_time": "2022-02-20T11:15:12.741Z"
   },
   {
    "duration": 10,
    "start_time": "2022-02-20T11:15:12.798Z"
   },
   {
    "duration": 15,
    "start_time": "2022-02-20T11:15:12.811Z"
   },
   {
    "duration": 19,
    "start_time": "2022-02-20T11:15:12.829Z"
   },
   {
    "duration": 65,
    "start_time": "2022-02-20T11:15:12.851Z"
   },
   {
    "duration": 7,
    "start_time": "2022-02-20T11:15:12.919Z"
   },
   {
    "duration": 11,
    "start_time": "2022-02-20T11:15:12.929Z"
   },
   {
    "duration": 61,
    "start_time": "2022-02-20T11:15:12.943Z"
   },
   {
    "duration": 27,
    "start_time": "2022-02-20T11:15:13.007Z"
   },
   {
    "duration": 16,
    "start_time": "2022-02-20T11:15:13.037Z"
   },
   {
    "duration": 842,
    "start_time": "2022-02-20T11:15:13.056Z"
   },
   {
    "duration": 72,
    "start_time": "2022-02-20T11:15:13.901Z"
   },
   {
    "duration": 20,
    "start_time": "2022-02-20T11:15:13.976Z"
   },
   {
    "duration": 39,
    "start_time": "2022-02-20T11:15:14.000Z"
   },
   {
    "duration": 10,
    "start_time": "2022-02-20T11:15:14.042Z"
   },
   {
    "duration": 847,
    "start_time": "2022-02-20T11:15:14.055Z"
   },
   {
    "duration": 776,
    "start_time": "2022-02-20T11:15:14.905Z"
   },
   {
    "duration": 16,
    "start_time": "2022-02-20T11:15:15.684Z"
   },
   {
    "duration": 105,
    "start_time": "2022-02-20T11:15:15.703Z"
   },
   {
    "duration": 13,
    "start_time": "2022-02-20T11:15:15.811Z"
   },
   {
    "duration": 17,
    "start_time": "2022-02-20T11:15:15.826Z"
   },
   {
    "duration": 27,
    "start_time": "2022-02-20T11:19:25.947Z"
   },
   {
    "duration": 28,
    "start_time": "2022-02-20T11:19:35.782Z"
   },
   {
    "duration": 1573,
    "start_time": "2022-02-20T11:20:26.188Z"
   },
   {
    "duration": 1552,
    "start_time": "2022-02-20T11:20:27.764Z"
   },
   {
    "duration": 95,
    "start_time": "2022-02-20T11:20:29.321Z"
   },
   {
    "duration": 4,
    "start_time": "2022-02-20T11:20:29.420Z"
   },
   {
    "duration": 51,
    "start_time": "2022-02-20T11:20:29.427Z"
   },
   {
    "duration": 4,
    "start_time": "2022-02-20T11:20:29.482Z"
   },
   {
    "duration": 855,
    "start_time": "2022-02-20T11:20:29.495Z"
   },
   {
    "duration": 192,
    "start_time": "2022-02-20T11:20:30.355Z"
   },
   {
    "duration": 6,
    "start_time": "2022-02-20T11:20:30.550Z"
   },
   {
    "duration": 28,
    "start_time": "2022-02-20T11:20:30.558Z"
   },
   {
    "duration": 24,
    "start_time": "2022-02-20T11:20:30.588Z"
   },
   {
    "duration": 30,
    "start_time": "2022-02-20T11:20:30.615Z"
   },
   {
    "duration": 40,
    "start_time": "2022-02-20T11:20:30.648Z"
   },
   {
    "duration": 286,
    "start_time": "2022-02-20T11:20:30.694Z"
   },
   {
    "duration": 36,
    "start_time": "2022-02-20T11:20:30.982Z"
   },
   {
    "duration": 85,
    "start_time": "2022-02-20T11:20:31.021Z"
   },
   {
    "duration": 14,
    "start_time": "2022-02-20T11:20:31.109Z"
   },
   {
    "duration": 24,
    "start_time": "2022-02-20T11:20:31.125Z"
   },
   {
    "duration": 49,
    "start_time": "2022-02-20T11:20:31.152Z"
   },
   {
    "duration": 7,
    "start_time": "2022-02-20T11:20:31.204Z"
   },
   {
    "duration": 30,
    "start_time": "2022-02-20T11:20:31.215Z"
   },
   {
    "duration": 10,
    "start_time": "2022-02-20T11:20:31.248Z"
   },
   {
    "duration": 133,
    "start_time": "2022-02-20T11:20:31.294Z"
   },
   {
    "duration": 33,
    "start_time": "2022-02-20T11:20:31.431Z"
   },
   {
    "duration": 40,
    "start_time": "2022-02-20T11:20:31.467Z"
   },
   {
    "duration": 12,
    "start_time": "2022-02-20T11:20:31.510Z"
   },
   {
    "duration": 42,
    "start_time": "2022-02-20T11:20:31.524Z"
   },
   {
    "duration": 25,
    "start_time": "2022-02-20T11:20:31.568Z"
   },
   {
    "duration": 17,
    "start_time": "2022-02-20T11:20:31.595Z"
   },
   {
    "duration": 48,
    "start_time": "2022-02-20T11:20:31.614Z"
   },
   {
    "duration": 38,
    "start_time": "2022-02-20T11:20:31.665Z"
   },
   {
    "duration": 41,
    "start_time": "2022-02-20T11:20:31.705Z"
   },
   {
    "duration": 56,
    "start_time": "2022-02-20T11:20:31.748Z"
   },
   {
    "duration": 9,
    "start_time": "2022-02-20T11:20:31.806Z"
   },
   {
    "duration": 15,
    "start_time": "2022-02-20T11:20:31.817Z"
   },
   {
    "duration": 16,
    "start_time": "2022-02-20T11:20:31.834Z"
   },
   {
    "duration": 50,
    "start_time": "2022-02-20T11:20:31.852Z"
   },
   {
    "duration": 8,
    "start_time": "2022-02-20T11:20:31.904Z"
   },
   {
    "duration": 10,
    "start_time": "2022-02-20T11:20:31.915Z"
   },
   {
    "duration": 25,
    "start_time": "2022-02-20T11:20:31.928Z"
   },
   {
    "duration": 26,
    "start_time": "2022-02-20T11:20:31.994Z"
   },
   {
    "duration": 18,
    "start_time": "2022-02-20T11:20:32.022Z"
   },
   {
    "duration": 834,
    "start_time": "2022-02-20T11:20:32.042Z"
   },
   {
    "duration": 56,
    "start_time": "2022-02-20T11:20:32.879Z"
   },
   {
    "duration": 5,
    "start_time": "2022-02-20T11:20:32.938Z"
   },
   {
    "duration": 61,
    "start_time": "2022-02-20T11:20:32.946Z"
   },
   {
    "duration": 10,
    "start_time": "2022-02-20T11:20:33.010Z"
   },
   {
    "duration": 783,
    "start_time": "2022-02-20T11:20:33.023Z"
   },
   {
    "duration": 784,
    "start_time": "2022-02-20T11:20:33.809Z"
   },
   {
    "duration": 9,
    "start_time": "2022-02-20T11:20:34.596Z"
   },
   {
    "duration": 110,
    "start_time": "2022-02-20T11:20:34.608Z"
   },
   {
    "duration": 13,
    "start_time": "2022-02-20T11:20:34.721Z"
   },
   {
    "duration": 15,
    "start_time": "2022-02-20T11:20:34.737Z"
   },
   {
    "duration": 1112,
    "start_time": "2022-02-21T10:15:43.878Z"
   },
   {
    "duration": 1673,
    "start_time": "2022-02-21T10:15:44.992Z"
   },
   {
    "duration": 70,
    "start_time": "2022-02-21T10:15:46.667Z"
   },
   {
    "duration": 2,
    "start_time": "2022-02-21T10:15:46.739Z"
   },
   {
    "duration": 34,
    "start_time": "2022-02-21T10:15:46.742Z"
   },
   {
    "duration": 2,
    "start_time": "2022-02-21T10:15:46.778Z"
   },
   {
    "duration": 5,
    "start_time": "2022-02-21T10:15:46.782Z"
   },
   {
    "duration": 562,
    "start_time": "2022-02-21T10:15:46.788Z"
   },
   {
    "duration": 533,
    "start_time": "2022-02-21T10:15:47.353Z"
   },
   {
    "duration": 130,
    "start_time": "2022-02-21T10:15:47.888Z"
   },
   {
    "duration": 5,
    "start_time": "2022-02-21T10:15:48.020Z"
   },
   {
    "duration": 4,
    "start_time": "2022-02-21T10:15:48.027Z"
   },
   {
    "duration": 15,
    "start_time": "2022-02-21T10:15:48.033Z"
   },
   {
    "duration": 17,
    "start_time": "2022-02-21T10:15:48.050Z"
   },
   {
    "duration": 16,
    "start_time": "2022-02-21T10:15:48.069Z"
   },
   {
    "duration": 192,
    "start_time": "2022-02-21T10:15:48.086Z"
   },
   {
    "duration": 18,
    "start_time": "2022-02-21T10:15:48.280Z"
   },
   {
    "duration": 70,
    "start_time": "2022-02-21T10:15:48.300Z"
   },
   {
    "duration": 11,
    "start_time": "2022-02-21T10:15:48.371Z"
   },
   {
    "duration": 10,
    "start_time": "2022-02-21T10:15:48.384Z"
   },
   {
    "duration": 43,
    "start_time": "2022-02-21T10:15:48.397Z"
   },
   {
    "duration": 8,
    "start_time": "2022-02-21T10:15:48.442Z"
   },
   {
    "duration": 13,
    "start_time": "2022-02-21T10:15:48.452Z"
   },
   {
    "duration": 8,
    "start_time": "2022-02-21T10:15:48.467Z"
   },
   {
    "duration": 118,
    "start_time": "2022-02-21T10:15:48.477Z"
   },
   {
    "duration": 27,
    "start_time": "2022-02-21T10:15:48.597Z"
   },
   {
    "duration": 3,
    "start_time": "2022-02-21T10:15:48.628Z"
   },
   {
    "duration": 9,
    "start_time": "2022-02-21T10:15:48.633Z"
   },
   {
    "duration": 27,
    "start_time": "2022-02-21T10:15:48.644Z"
   },
   {
    "duration": 7,
    "start_time": "2022-02-21T10:15:48.673Z"
   },
   {
    "duration": 39,
    "start_time": "2022-02-21T10:15:48.682Z"
   },
   {
    "duration": 34,
    "start_time": "2022-02-21T10:15:48.723Z"
   },
   {
    "duration": 9,
    "start_time": "2022-02-21T10:15:48.759Z"
   },
   {
    "duration": 58,
    "start_time": "2022-02-21T10:15:48.770Z"
   },
   {
    "duration": 20,
    "start_time": "2022-02-21T10:15:48.830Z"
   },
   {
    "duration": 6,
    "start_time": "2022-02-21T10:15:48.852Z"
   },
   {
    "duration": 16,
    "start_time": "2022-02-21T10:15:48.860Z"
   },
   {
    "duration": 9,
    "start_time": "2022-02-21T10:15:48.878Z"
   },
   {
    "duration": 38,
    "start_time": "2022-02-21T10:15:48.889Z"
   },
   {
    "duration": 7,
    "start_time": "2022-02-21T10:15:48.929Z"
   },
   {
    "duration": 9,
    "start_time": "2022-02-21T10:15:48.938Z"
   },
   {
    "duration": 22,
    "start_time": "2022-02-21T10:15:48.948Z"
   },
   {
    "duration": 49,
    "start_time": "2022-02-21T10:15:48.972Z"
   },
   {
    "duration": 10,
    "start_time": "2022-02-21T10:15:49.023Z"
   },
   {
    "duration": 549,
    "start_time": "2022-02-21T10:15:49.035Z"
   },
   {
    "duration": 41,
    "start_time": "2022-02-21T10:15:49.586Z"
   },
   {
    "duration": 2,
    "start_time": "2022-02-21T10:15:49.629Z"
   },
   {
    "duration": 23,
    "start_time": "2022-02-21T10:15:49.633Z"
   },
   {
    "duration": 4,
    "start_time": "2022-02-21T10:15:49.657Z"
   },
   {
    "duration": 497,
    "start_time": "2022-02-21T10:15:49.662Z"
   },
   {
    "duration": 460,
    "start_time": "2022-02-21T10:15:50.161Z"
   },
   {
    "duration": 12,
    "start_time": "2022-02-21T10:15:50.623Z"
   },
   {
    "duration": 68,
    "start_time": "2022-02-21T10:15:50.637Z"
   },
   {
    "duration": 7,
    "start_time": "2022-02-21T10:15:50.718Z"
   },
   {
    "duration": 10,
    "start_time": "2022-02-21T10:15:50.727Z"
   },
   {
    "duration": 360,
    "start_time": "2022-02-21T10:36:48.118Z"
   },
   {
    "duration": 1572,
    "start_time": "2022-02-21T10:36:58.972Z"
   },
   {
    "duration": 1637,
    "start_time": "2022-02-21T10:37:00.547Z"
   },
   {
    "duration": 116,
    "start_time": "2022-02-21T10:37:02.187Z"
   },
   {
    "duration": 36,
    "start_time": "2022-02-21T10:37:02.306Z"
   },
   {
    "duration": 3,
    "start_time": "2022-02-21T10:37:02.345Z"
   },
   {
    "duration": 11,
    "start_time": "2022-02-21T10:37:02.352Z"
   },
   {
    "duration": 768,
    "start_time": "2022-02-21T10:37:02.366Z"
   },
   {
    "duration": 738,
    "start_time": "2022-02-21T10:37:03.137Z"
   },
   {
    "duration": 172,
    "start_time": "2022-02-21T10:37:03.878Z"
   },
   {
    "duration": 11,
    "start_time": "2022-02-21T10:37:04.053Z"
   },
   {
    "duration": 5,
    "start_time": "2022-02-21T10:37:04.067Z"
   },
   {
    "duration": 15,
    "start_time": "2022-02-21T10:37:04.074Z"
   },
   {
    "duration": 20,
    "start_time": "2022-02-21T10:37:04.091Z"
   },
   {
    "duration": 61,
    "start_time": "2022-02-21T10:37:04.113Z"
   },
   {
    "duration": 241,
    "start_time": "2022-02-21T10:37:04.177Z"
   },
   {
    "duration": 43,
    "start_time": "2022-02-21T10:37:04.420Z"
   },
   {
    "duration": 62,
    "start_time": "2022-02-21T10:37:04.466Z"
   },
   {
    "duration": 31,
    "start_time": "2022-02-21T10:37:04.531Z"
   },
   {
    "duration": 9,
    "start_time": "2022-02-21T10:37:04.565Z"
   },
   {
    "duration": 31,
    "start_time": "2022-02-21T10:37:04.576Z"
   },
   {
    "duration": 6,
    "start_time": "2022-02-21T10:37:04.609Z"
   },
   {
    "duration": 58,
    "start_time": "2022-02-21T10:37:04.617Z"
   },
   {
    "duration": 9,
    "start_time": "2022-02-21T10:37:04.680Z"
   },
   {
    "duration": 144,
    "start_time": "2022-02-21T10:37:04.691Z"
   },
   {
    "duration": 38,
    "start_time": "2022-02-21T10:37:04.838Z"
   },
   {
    "duration": 5,
    "start_time": "2022-02-21T10:37:04.879Z"
   },
   {
    "duration": 10,
    "start_time": "2022-02-21T10:37:04.886Z"
   },
   {
    "duration": 67,
    "start_time": "2022-02-21T10:37:04.899Z"
   },
   {
    "duration": 24,
    "start_time": "2022-02-21T10:37:04.968Z"
   },
   {
    "duration": 10,
    "start_time": "2022-02-21T10:37:04.995Z"
   },
   {
    "duration": 16,
    "start_time": "2022-02-21T10:37:05.008Z"
   },
   {
    "duration": 45,
    "start_time": "2022-02-21T10:37:05.061Z"
   },
   {
    "duration": 11,
    "start_time": "2022-02-21T10:37:05.108Z"
   },
   {
    "duration": 67,
    "start_time": "2022-02-21T10:37:05.121Z"
   },
   {
    "duration": 33,
    "start_time": "2022-02-21T10:37:05.191Z"
   },
   {
    "duration": 9,
    "start_time": "2022-02-21T10:37:05.226Z"
   },
   {
    "duration": 35,
    "start_time": "2022-02-21T10:37:05.238Z"
   },
   {
    "duration": 15,
    "start_time": "2022-02-21T10:37:05.275Z"
   },
   {
    "duration": 16,
    "start_time": "2022-02-21T10:37:05.292Z"
   },
   {
    "duration": 54,
    "start_time": "2022-02-21T10:37:05.310Z"
   },
   {
    "duration": 11,
    "start_time": "2022-02-21T10:37:05.367Z"
   },
   {
    "duration": 27,
    "start_time": "2022-02-21T10:37:05.381Z"
   },
   {
    "duration": 70,
    "start_time": "2022-02-21T10:37:05.411Z"
   },
   {
    "duration": 18,
    "start_time": "2022-02-21T10:37:05.483Z"
   },
   {
    "duration": 835,
    "start_time": "2022-02-21T10:37:05.504Z"
   },
   {
    "duration": 57,
    "start_time": "2022-02-21T10:37:06.342Z"
   },
   {
    "duration": 3,
    "start_time": "2022-02-21T10:37:06.402Z"
   },
   {
    "duration": 58,
    "start_time": "2022-02-21T10:37:06.408Z"
   },
   {
    "duration": 5,
    "start_time": "2022-02-21T10:37:06.468Z"
   },
   {
    "duration": 764,
    "start_time": "2022-02-21T10:37:06.476Z"
   },
   {
    "duration": 765,
    "start_time": "2022-02-21T10:37:07.242Z"
   },
   {
    "duration": 10,
    "start_time": "2022-02-21T10:37:08.010Z"
   },
   {
    "duration": 103,
    "start_time": "2022-02-21T10:37:08.023Z"
   },
   {
    "duration": 11,
    "start_time": "2022-02-21T10:37:08.129Z"
   },
   {
    "duration": 28,
    "start_time": "2022-02-21T10:37:08.143Z"
   },
   {
    "duration": 26,
    "start_time": "2022-02-21T10:40:57.840Z"
   },
   {
    "duration": 30,
    "start_time": "2022-02-21T10:41:23.390Z"
   },
   {
    "duration": 31,
    "start_time": "2022-02-21T10:42:22.941Z"
   },
   {
    "duration": 32,
    "start_time": "2022-02-21T10:42:27.570Z"
   },
   {
    "duration": 35,
    "start_time": "2022-02-21T10:42:38.154Z"
   },
   {
    "duration": 709,
    "start_time": "2022-02-21T10:43:15.131Z"
   },
   {
    "duration": 32,
    "start_time": "2022-02-21T10:43:30.840Z"
   },
   {
    "duration": 36,
    "start_time": "2022-02-21T10:43:38.851Z"
   },
   {
    "duration": 38,
    "start_time": "2022-02-21T10:46:36.407Z"
   },
   {
    "duration": 8,
    "start_time": "2022-02-21T10:52:21.270Z"
   },
   {
    "duration": 43,
    "start_time": "2022-02-21T10:52:37.027Z"
   },
   {
    "duration": 75,
    "start_time": "2022-02-21T10:55:04.571Z"
   },
   {
    "duration": 1541,
    "start_time": "2022-02-21T11:05:48.331Z"
   },
   {
    "duration": 1893,
    "start_time": "2022-02-21T11:05:49.875Z"
   },
   {
    "duration": 115,
    "start_time": "2022-02-21T11:05:51.772Z"
   },
   {
    "duration": 33,
    "start_time": "2022-02-21T11:05:51.890Z"
   },
   {
    "duration": 4,
    "start_time": "2022-02-21T11:05:51.926Z"
   },
   {
    "duration": 9,
    "start_time": "2022-02-21T11:05:51.932Z"
   },
   {
    "duration": 740,
    "start_time": "2022-02-21T11:05:51.944Z"
   },
   {
    "duration": 783,
    "start_time": "2022-02-21T11:05:52.689Z"
   },
   {
    "duration": 161,
    "start_time": "2022-02-21T11:05:53.475Z"
   },
   {
    "duration": 52,
    "start_time": "2022-02-21T11:05:53.639Z"
   },
   {
    "duration": 85,
    "start_time": "2022-02-21T11:05:53.693Z"
   },
   {
    "duration": 7,
    "start_time": "2022-02-21T11:05:53.781Z"
   },
   {
    "duration": 7,
    "start_time": "2022-02-21T11:05:53.791Z"
   },
   {
    "duration": 19,
    "start_time": "2022-02-21T11:05:53.801Z"
   },
   {
    "duration": 17,
    "start_time": "2022-02-21T11:05:53.862Z"
   },
   {
    "duration": 20,
    "start_time": "2022-02-21T11:05:53.882Z"
   },
   {
    "duration": 263,
    "start_time": "2022-02-21T11:05:53.905Z"
   },
   {
    "duration": 29,
    "start_time": "2022-02-21T11:05:54.170Z"
   },
   {
    "duration": 90,
    "start_time": "2022-02-21T11:05:54.201Z"
   },
   {
    "duration": 14,
    "start_time": "2022-02-21T11:05:54.294Z"
   },
   {
    "duration": 11,
    "start_time": "2022-02-21T11:05:54.310Z"
   },
   {
    "duration": 65,
    "start_time": "2022-02-21T11:05:54.323Z"
   },
   {
    "duration": 6,
    "start_time": "2022-02-21T11:05:54.394Z"
   },
   {
    "duration": 20,
    "start_time": "2022-02-21T11:05:54.403Z"
   },
   {
    "duration": 9,
    "start_time": "2022-02-21T11:05:54.426Z"
   },
   {
    "duration": 146,
    "start_time": "2022-02-21T11:05:54.462Z"
   },
   {
    "duration": 31,
    "start_time": "2022-02-21T11:05:54.610Z"
   },
   {
    "duration": 21,
    "start_time": "2022-02-21T11:05:54.643Z"
   },
   {
    "duration": 10,
    "start_time": "2022-02-21T11:05:54.667Z"
   },
   {
    "duration": 37,
    "start_time": "2022-02-21T11:05:54.679Z"
   },
   {
    "duration": 69,
    "start_time": "2022-02-21T11:05:54.718Z"
   },
   {
    "duration": 11,
    "start_time": "2022-02-21T11:05:54.790Z"
   },
   {
    "duration": 16,
    "start_time": "2022-02-21T11:05:54.804Z"
   },
   {
    "duration": 83,
    "start_time": "2022-02-21T11:05:54.823Z"
   },
   {
    "duration": 14,
    "start_time": "2022-02-21T11:05:54.909Z"
   },
   {
    "duration": 72,
    "start_time": "2022-02-21T11:05:54.925Z"
   },
   {
    "duration": 32,
    "start_time": "2022-02-21T11:05:55.000Z"
   },
   {
    "duration": 35,
    "start_time": "2022-02-21T11:05:55.034Z"
   },
   {
    "duration": 14,
    "start_time": "2022-02-21T11:05:55.073Z"
   },
   {
    "duration": 13,
    "start_time": "2022-02-21T11:05:55.090Z"
   },
   {
    "duration": 61,
    "start_time": "2022-02-21T11:05:55.106Z"
   },
   {
    "duration": 8,
    "start_time": "2022-02-21T11:05:55.170Z"
   },
   {
    "duration": 12,
    "start_time": "2022-02-21T11:05:55.181Z"
   },
   {
    "duration": 65,
    "start_time": "2022-02-21T11:05:55.196Z"
   },
   {
    "duration": 30,
    "start_time": "2022-02-21T11:05:55.264Z"
   },
   {
    "duration": 17,
    "start_time": "2022-02-21T11:05:55.296Z"
   },
   {
    "duration": 859,
    "start_time": "2022-02-21T11:05:55.316Z"
   },
   {
    "duration": 48,
    "start_time": "2022-02-21T11:05:56.178Z"
   },
   {
    "duration": 3,
    "start_time": "2022-02-21T11:05:56.229Z"
   },
   {
    "duration": 57,
    "start_time": "2022-02-21T11:05:56.235Z"
   },
   {
    "duration": 7,
    "start_time": "2022-02-21T11:05:56.295Z"
   },
   {
    "duration": 762,
    "start_time": "2022-02-21T11:05:56.305Z"
   },
   {
    "duration": 712,
    "start_time": "2022-02-21T11:05:57.069Z"
   },
   {
    "duration": 9,
    "start_time": "2022-02-21T11:05:57.783Z"
   },
   {
    "duration": 103,
    "start_time": "2022-02-21T11:05:57.795Z"
   },
   {
    "duration": 16,
    "start_time": "2022-02-21T11:05:57.900Z"
   },
   {
    "duration": 19,
    "start_time": "2022-02-21T11:05:57.918Z"
   },
   {
    "duration": 1607,
    "start_time": "2022-02-21T11:09:59.294Z"
   },
   {
    "duration": 2074,
    "start_time": "2022-02-21T11:10:00.904Z"
   },
   {
    "duration": 250,
    "start_time": "2022-02-21T11:10:02.981Z"
   },
   {
    "duration": 36,
    "start_time": "2022-02-21T11:10:03.234Z"
   },
   {
    "duration": 4,
    "start_time": "2022-02-21T11:10:03.273Z"
   },
   {
    "duration": 7,
    "start_time": "2022-02-21T11:10:03.279Z"
   },
   {
    "duration": 833,
    "start_time": "2022-02-21T11:10:03.289Z"
   },
   {
    "duration": 814,
    "start_time": "2022-02-21T11:10:04.124Z"
   },
   {
    "duration": 175,
    "start_time": "2022-02-21T11:10:04.944Z"
   },
   {
    "duration": 58,
    "start_time": "2022-02-21T11:10:05.123Z"
   },
   {
    "duration": 88,
    "start_time": "2022-02-21T11:10:05.183Z"
   },
   {
    "duration": 7,
    "start_time": "2022-02-21T11:10:05.274Z"
   },
   {
    "duration": 9,
    "start_time": "2022-02-21T11:10:05.283Z"
   },
   {
    "duration": 18,
    "start_time": "2022-02-21T11:10:05.295Z"
   },
   {
    "duration": 59,
    "start_time": "2022-02-21T11:10:05.315Z"
   },
   {
    "duration": 19,
    "start_time": "2022-02-21T11:10:05.377Z"
   },
   {
    "duration": 264,
    "start_time": "2022-02-21T11:10:05.399Z"
   },
   {
    "duration": 30,
    "start_time": "2022-02-21T11:10:05.666Z"
   },
   {
    "duration": 91,
    "start_time": "2022-02-21T11:10:05.698Z"
   },
   {
    "duration": 14,
    "start_time": "2022-02-21T11:10:05.792Z"
   },
   {
    "duration": 22,
    "start_time": "2022-02-21T11:10:05.809Z"
   },
   {
    "duration": 53,
    "start_time": "2022-02-21T11:10:05.833Z"
   },
   {
    "duration": 6,
    "start_time": "2022-02-21T11:10:05.888Z"
   },
   {
    "duration": 23,
    "start_time": "2022-02-21T11:10:05.896Z"
   },
   {
    "duration": 9,
    "start_time": "2022-02-21T11:10:05.921Z"
   },
   {
    "duration": 162,
    "start_time": "2022-02-21T11:10:05.933Z"
   },
   {
    "duration": 29,
    "start_time": "2022-02-21T11:10:06.101Z"
   },
   {
    "duration": 29,
    "start_time": "2022-02-21T11:10:06.133Z"
   },
   {
    "duration": 10,
    "start_time": "2022-02-21T11:10:06.165Z"
   },
   {
    "duration": 37,
    "start_time": "2022-02-21T11:10:06.178Z"
   },
   {
    "duration": 70,
    "start_time": "2022-02-21T11:10:06.217Z"
   },
   {
    "duration": 10,
    "start_time": "2022-02-21T11:10:06.290Z"
   },
   {
    "duration": 25,
    "start_time": "2022-02-21T11:10:06.303Z"
   },
   {
    "duration": 68,
    "start_time": "2022-02-21T11:10:06.331Z"
   },
   {
    "duration": 13,
    "start_time": "2022-02-21T11:10:06.402Z"
   },
   {
    "duration": 63,
    "start_time": "2022-02-21T11:10:06.417Z"
   },
   {
    "duration": 29,
    "start_time": "2022-02-21T11:10:06.483Z"
   },
   {
    "duration": 10,
    "start_time": "2022-02-21T11:10:06.514Z"
   },
   {
    "duration": 41,
    "start_time": "2022-02-21T11:10:06.526Z"
   },
   {
    "duration": 14,
    "start_time": "2022-02-21T11:10:06.569Z"
   },
   {
    "duration": 15,
    "start_time": "2022-02-21T11:10:06.585Z"
   },
   {
    "duration": 7,
    "start_time": "2022-02-21T11:10:06.603Z"
   },
   {
    "duration": 53,
    "start_time": "2022-02-21T11:10:06.613Z"
   },
   {
    "duration": 28,
    "start_time": "2022-02-21T11:10:06.668Z"
   },
   {
    "duration": 27,
    "start_time": "2022-02-21T11:10:06.698Z"
   },
   {
    "duration": 20,
    "start_time": "2022-02-21T11:10:06.762Z"
   },
   {
    "duration": 801,
    "start_time": "2022-02-21T11:10:06.785Z"
   },
   {
    "duration": 46,
    "start_time": "2022-02-21T11:10:07.589Z"
   },
   {
    "duration": 5,
    "start_time": "2022-02-21T11:10:07.662Z"
   },
   {
    "duration": 31,
    "start_time": "2022-02-21T11:10:07.670Z"
   },
   {
    "duration": 5,
    "start_time": "2022-02-21T11:10:07.704Z"
   },
   {
    "duration": 751,
    "start_time": "2022-02-21T11:10:07.712Z"
   },
   {
    "duration": 760,
    "start_time": "2022-02-21T11:10:08.466Z"
   },
   {
    "duration": 10,
    "start_time": "2022-02-21T11:10:09.228Z"
   },
   {
    "duration": 95,
    "start_time": "2022-02-21T11:10:09.240Z"
   },
   {
    "duration": 31,
    "start_time": "2022-02-21T11:10:09.338Z"
   },
   {
    "duration": 14,
    "start_time": "2022-02-21T11:10:09.371Z"
   },
   {
    "duration": 334,
    "start_time": "2022-02-21T11:30:39.490Z"
   },
   {
    "duration": 1002,
    "start_time": "2022-02-21T11:50:39.807Z"
   },
   {
    "duration": 987,
    "start_time": "2022-02-21T11:50:51.677Z"
   },
   {
    "duration": 1005,
    "start_time": "2022-02-21T11:51:11.702Z"
   },
   {
    "duration": 2069,
    "start_time": "2022-02-21T19:59:10.496Z"
   },
   {
    "duration": 1554,
    "start_time": "2022-02-21T19:59:12.569Z"
   },
   {
    "duration": 105,
    "start_time": "2022-02-21T19:59:14.130Z"
   },
   {
    "duration": 129,
    "start_time": "2022-02-21T19:59:14.239Z"
   },
   {
    "duration": 143,
    "start_time": "2022-02-21T19:59:14.371Z"
   },
   {
    "duration": 171,
    "start_time": "2022-02-21T19:59:14.517Z"
   },
   {
    "duration": 1126,
    "start_time": "2022-02-21T19:59:14.691Z"
   },
   {
    "duration": 999,
    "start_time": "2022-02-21T19:59:15.821Z"
   },
   {
    "duration": 92,
    "start_time": "2022-02-21T19:59:16.823Z"
   },
   {
    "duration": 234,
    "start_time": "2022-02-21T19:59:16.918Z"
   },
   {
    "duration": 255,
    "start_time": "2022-02-21T19:59:17.155Z"
   },
   {
    "duration": 41,
    "start_time": "2022-02-21T19:59:17.413Z"
   },
   {
    "duration": 137,
    "start_time": "2022-02-21T19:59:17.457Z"
   },
   {
    "duration": 162,
    "start_time": "2022-02-21T19:59:17.597Z"
   },
   {
    "duration": 179,
    "start_time": "2022-02-21T19:59:17.763Z"
   },
   {
    "duration": 248,
    "start_time": "2022-02-21T19:59:17.945Z"
   },
   {
    "duration": 510,
    "start_time": "2022-02-21T19:59:18.197Z"
   },
   {
    "duration": 38,
    "start_time": "2022-02-21T19:59:18.711Z"
   },
   {
    "duration": 288,
    "start_time": "2022-02-21T19:59:18.760Z"
   },
   {
    "duration": 122,
    "start_time": "2022-02-21T19:59:19.051Z"
   },
   {
    "duration": 202,
    "start_time": "2022-02-21T19:59:19.175Z"
   },
   {
    "duration": 252,
    "start_time": "2022-02-21T19:59:19.380Z"
   },
   {
    "duration": 132,
    "start_time": "2022-02-21T19:59:19.640Z"
   },
   {
    "duration": 189,
    "start_time": "2022-02-21T19:59:19.775Z"
   },
   {
    "duration": 359,
    "start_time": "2022-02-21T19:59:19.966Z"
   },
   {
    "duration": 369,
    "start_time": "2022-02-21T19:59:20.328Z"
   },
   {
    "duration": 66,
    "start_time": "2022-02-21T19:59:20.700Z"
   },
   {
    "duration": 192,
    "start_time": "2022-02-21T19:59:20.769Z"
   },
   {
    "duration": 238,
    "start_time": "2022-02-21T19:59:20.964Z"
   },
   {
    "duration": 266,
    "start_time": "2022-02-21T19:59:21.205Z"
   },
   {
    "duration": 295,
    "start_time": "2022-02-21T19:59:21.474Z"
   },
   {
    "duration": 170,
    "start_time": "2022-02-21T19:59:21.773Z"
   },
   {
    "duration": 206,
    "start_time": "2022-02-21T19:59:21.946Z"
   },
   {
    "duration": 207,
    "start_time": "2022-02-21T19:59:22.154Z"
   },
   {
    "duration": 160,
    "start_time": "2022-02-21T19:59:22.364Z"
   },
   {
    "duration": 243,
    "start_time": "2022-02-21T19:59:22.527Z"
   },
   {
    "duration": 202,
    "start_time": "2022-02-21T19:59:22.773Z"
   },
   {
    "duration": 165,
    "start_time": "2022-02-21T19:59:22.977Z"
   },
   {
    "duration": 195,
    "start_time": "2022-02-21T19:59:23.146Z"
   },
   {
    "duration": 259,
    "start_time": "2022-02-21T19:59:23.344Z"
   },
   {
    "duration": 164,
    "start_time": "2022-02-21T19:59:23.606Z"
   },
   {
    "duration": 196,
    "start_time": "2022-02-21T19:59:23.773Z"
   },
   {
    "duration": 213,
    "start_time": "2022-02-21T19:59:23.971Z"
   },
   {
    "duration": 194,
    "start_time": "2022-02-21T19:59:24.187Z"
   },
   {
    "duration": 277,
    "start_time": "2022-02-21T19:59:24.385Z"
   },
   {
    "duration": 218,
    "start_time": "2022-02-21T19:59:24.666Z"
   },
   {
    "duration": 1143,
    "start_time": "2022-02-21T19:59:24.887Z"
   },
   {
    "duration": 67,
    "start_time": "2022-02-21T19:59:26.033Z"
   },
   {
    "duration": 150,
    "start_time": "2022-02-21T19:59:26.104Z"
   },
   {
    "duration": 174,
    "start_time": "2022-02-21T19:59:26.258Z"
   },
   {
    "duration": 1093,
    "start_time": "2022-02-21T19:59:26.436Z"
   },
   {
    "duration": 819,
    "start_time": "2022-02-21T19:59:27.532Z"
   },
   {
    "duration": 1635,
    "start_time": "2022-02-21T19:59:28.355Z"
   },
   {
    "duration": 515,
    "start_time": "2022-02-21T19:59:29.994Z"
   },
   {
    "duration": -114,
    "start_time": "2022-02-21T19:59:30.627Z"
   },
   {
    "duration": -132,
    "start_time": "2022-02-21T19:59:30.647Z"
   },
   {
    "duration": -158,
    "start_time": "2022-02-21T19:59:30.675Z"
   },
   {
    "duration": -169,
    "start_time": "2022-02-21T19:59:30.688Z"
   },
   {
    "duration": 323,
    "start_time": "2022-02-21T20:12:55.926Z"
   },
   {
    "duration": 21,
    "start_time": "2022-02-21T20:13:16.908Z"
   },
   {
    "duration": 17,
    "start_time": "2022-02-21T20:14:23.039Z"
   },
   {
    "duration": 18,
    "start_time": "2022-02-21T20:14:47.848Z"
   },
   {
    "duration": 32,
    "start_time": "2022-02-21T20:16:23.462Z"
   },
   {
    "duration": 28,
    "start_time": "2022-02-21T20:16:56.903Z"
   },
   {
    "duration": 30,
    "start_time": "2022-02-21T20:17:15.469Z"
   },
   {
    "duration": 56,
    "start_time": "2022-02-21T20:19:35.958Z"
   },
   {
    "duration": 313,
    "start_time": "2022-02-21T20:20:02.593Z"
   },
   {
    "duration": 32,
    "start_time": "2022-02-21T20:20:25.033Z"
   },
   {
    "duration": 6,
    "start_time": "2022-02-21T20:20:53.891Z"
   },
   {
    "duration": 51,
    "start_time": "2022-02-21T20:21:03.443Z"
   },
   {
    "duration": 107,
    "start_time": "2022-02-21T20:21:22.490Z"
   },
   {
    "duration": 65,
    "start_time": "2022-02-21T20:21:28.401Z"
   },
   {
    "duration": 32,
    "start_time": "2022-02-21T20:23:18.882Z"
   },
   {
    "duration": 48,
    "start_time": "2022-02-21T20:23:48.186Z"
   },
   {
    "duration": 30,
    "start_time": "2022-02-21T20:27:40.200Z"
   },
   {
    "duration": 44,
    "start_time": "2022-02-21T20:28:02.289Z"
   },
   {
    "duration": 41,
    "start_time": "2022-02-21T20:37:48.374Z"
   },
   {
    "duration": 40,
    "start_time": "2022-02-21T20:38:06.255Z"
   },
   {
    "duration": 37,
    "start_time": "2022-02-21T20:38:22.426Z"
   },
   {
    "duration": 46,
    "start_time": "2022-02-21T20:58:03.274Z"
   },
   {
    "duration": 9,
    "start_time": "2022-02-21T21:03:51.629Z"
   },
   {
    "duration": 1440,
    "start_time": "2022-02-21T21:03:51.642Z"
   },
   {
    "duration": 86,
    "start_time": "2022-02-21T21:03:53.085Z"
   },
   {
    "duration": 38,
    "start_time": "2022-02-21T21:03:53.174Z"
   },
   {
    "duration": 9,
    "start_time": "2022-02-21T21:03:53.215Z"
   },
   {
    "duration": 10,
    "start_time": "2022-02-21T21:03:53.226Z"
   },
   {
    "duration": 777,
    "start_time": "2022-02-21T21:03:53.239Z"
   },
   {
    "duration": 792,
    "start_time": "2022-02-21T21:03:54.021Z"
   },
   {
    "duration": 80,
    "start_time": "2022-02-21T21:03:54.817Z"
   },
   {
    "duration": 109,
    "start_time": "2022-02-21T21:03:54.901Z"
   },
   {
    "duration": 183,
    "start_time": "2022-02-21T21:03:55.014Z"
   },
   {
    "duration": 7,
    "start_time": "2022-02-21T21:03:55.200Z"
   },
   {
    "duration": 7,
    "start_time": "2022-02-21T21:03:55.211Z"
   },
   {
    "duration": 48,
    "start_time": "2022-02-21T21:03:55.221Z"
   },
   {
    "duration": 28,
    "start_time": "2022-02-21T21:03:55.272Z"
   },
   {
    "duration": 57,
    "start_time": "2022-02-21T21:03:55.304Z"
   },
   {
    "duration": 250,
    "start_time": "2022-02-21T21:03:55.363Z"
   },
   {
    "duration": 46,
    "start_time": "2022-02-21T21:03:55.615Z"
   },
   {
    "duration": 64,
    "start_time": "2022-02-21T21:03:55.663Z"
   },
   {
    "duration": 35,
    "start_time": "2022-02-21T21:03:55.730Z"
   },
   {
    "duration": 13,
    "start_time": "2022-02-21T21:03:55.768Z"
   },
   {
    "duration": 32,
    "start_time": "2022-02-21T21:03:55.784Z"
   },
   {
    "duration": 6,
    "start_time": "2022-02-21T21:03:55.863Z"
   },
   {
    "duration": 19,
    "start_time": "2022-02-21T21:03:55.873Z"
   },
   {
    "duration": 9,
    "start_time": "2022-02-21T21:03:55.895Z"
   },
   {
    "duration": 177,
    "start_time": "2022-02-21T21:03:55.906Z"
   },
   {
    "duration": 32,
    "start_time": "2022-02-21T21:03:56.085Z"
   },
   {
    "duration": 6,
    "start_time": "2022-02-21T21:03:56.119Z"
   },
   {
    "duration": 11,
    "start_time": "2022-02-21T21:03:56.160Z"
   },
   {
    "duration": 40,
    "start_time": "2022-02-21T21:03:56.174Z"
   },
   {
    "duration": 73,
    "start_time": "2022-02-21T21:03:56.217Z"
   },
   {
    "duration": 10,
    "start_time": "2022-02-21T21:03:56.294Z"
   },
   {
    "duration": 14,
    "start_time": "2022-02-21T21:03:56.307Z"
   },
   {
    "duration": 84,
    "start_time": "2022-02-21T21:03:56.324Z"
   },
   {
    "duration": 15,
    "start_time": "2022-02-21T21:03:56.411Z"
   },
   {
    "duration": 76,
    "start_time": "2022-02-21T21:03:56.429Z"
   },
   {
    "duration": 56,
    "start_time": "2022-02-21T21:03:56.507Z"
   },
   {
    "duration": 10,
    "start_time": "2022-02-21T21:03:56.566Z"
   },
   {
    "duration": 13,
    "start_time": "2022-02-21T21:03:56.579Z"
   },
   {
    "duration": 15,
    "start_time": "2022-02-21T21:03:56.594Z"
   },
   {
    "duration": 64,
    "start_time": "2022-02-21T21:03:56.611Z"
   },
   {
    "duration": 8,
    "start_time": "2022-02-21T21:03:56.678Z"
   },
   {
    "duration": 19,
    "start_time": "2022-02-21T21:03:56.689Z"
   },
   {
    "duration": 72,
    "start_time": "2022-02-21T21:03:56.710Z"
   },
   {
    "duration": 30,
    "start_time": "2022-02-21T21:03:56.784Z"
   },
   {
    "duration": 63,
    "start_time": "2022-02-21T21:03:56.817Z"
   },
   {
    "duration": 825,
    "start_time": "2022-02-21T21:03:56.883Z"
   },
   {
    "duration": 70,
    "start_time": "2022-02-21T21:03:57.711Z"
   },
   {
    "duration": 32,
    "start_time": "2022-02-21T21:03:57.783Z"
   },
   {
    "duration": 8,
    "start_time": "2022-02-21T21:03:57.818Z"
   },
   {
    "duration": 871,
    "start_time": "2022-02-21T21:03:57.829Z"
   },
   {
    "duration": 716,
    "start_time": "2022-02-21T21:03:58.703Z"
   },
   {
    "duration": 1087,
    "start_time": "2022-02-21T21:03:59.421Z"
   },
   {
    "duration": 65,
    "start_time": "2022-02-21T21:04:00.511Z"
   },
   {
    "duration": 9,
    "start_time": "2022-02-21T21:04:00.578Z"
   },
   {
    "duration": 146,
    "start_time": "2022-02-21T21:04:00.590Z"
   },
   {
    "duration": 23,
    "start_time": "2022-02-21T21:04:00.739Z"
   },
   {
    "duration": 19,
    "start_time": "2022-02-21T21:04:00.764Z"
   },
   {
    "duration": 1555,
    "start_time": "2022-02-22T04:48:36.487Z"
   },
   {
    "duration": 1644,
    "start_time": "2022-02-22T04:48:38.045Z"
   },
   {
    "duration": 110,
    "start_time": "2022-02-22T04:48:39.692Z"
   },
   {
    "duration": 38,
    "start_time": "2022-02-22T04:48:39.804Z"
   },
   {
    "duration": 4,
    "start_time": "2022-02-22T04:48:39.845Z"
   },
   {
    "duration": 8,
    "start_time": "2022-02-22T04:48:39.852Z"
   },
   {
    "duration": 756,
    "start_time": "2022-02-22T04:48:39.863Z"
   },
   {
    "duration": 814,
    "start_time": "2022-02-22T04:48:40.622Z"
   },
   {
    "duration": 62,
    "start_time": "2022-02-22T04:48:41.440Z"
   },
   {
    "duration": 111,
    "start_time": "2022-02-22T04:48:41.505Z"
   },
   {
    "duration": 173,
    "start_time": "2022-02-22T04:48:41.619Z"
   },
   {
    "duration": 7,
    "start_time": "2022-02-22T04:48:41.795Z"
   },
   {
    "duration": 8,
    "start_time": "2022-02-22T04:48:41.804Z"
   },
   {
    "duration": 16,
    "start_time": "2022-02-22T04:48:41.814Z"
   },
   {
    "duration": 26,
    "start_time": "2022-02-22T04:48:41.861Z"
   },
   {
    "duration": 29,
    "start_time": "2022-02-22T04:48:41.890Z"
   },
   {
    "duration": 286,
    "start_time": "2022-02-22T04:48:41.921Z"
   },
   {
    "duration": 36,
    "start_time": "2022-02-22T04:48:42.209Z"
   },
   {
    "duration": 76,
    "start_time": "2022-02-22T04:48:42.261Z"
   },
   {
    "duration": 32,
    "start_time": "2022-02-22T04:48:42.340Z"
   },
   {
    "duration": 14,
    "start_time": "2022-02-22T04:48:42.374Z"
   },
   {
    "duration": 80,
    "start_time": "2022-02-22T04:48:42.391Z"
   },
   {
    "duration": 7,
    "start_time": "2022-02-22T04:48:42.477Z"
   },
   {
    "duration": 23,
    "start_time": "2022-02-22T04:48:42.487Z"
   },
   {
    "duration": 9,
    "start_time": "2022-02-22T04:48:42.512Z"
   },
   {
    "duration": 187,
    "start_time": "2022-02-22T04:48:42.523Z"
   },
   {
    "duration": 31,
    "start_time": "2022-02-22T04:48:42.712Z"
   },
   {
    "duration": 18,
    "start_time": "2022-02-22T04:48:42.745Z"
   },
   {
    "duration": 10,
    "start_time": "2022-02-22T04:48:42.765Z"
   },
   {
    "duration": 48,
    "start_time": "2022-02-22T04:48:42.777Z"
   },
   {
    "duration": 52,
    "start_time": "2022-02-22T04:48:42.860Z"
   },
   {
    "duration": 82,
    "start_time": "2022-02-22T04:48:42.915Z"
   },
   {
    "duration": 16,
    "start_time": "2022-02-22T04:48:43.000Z"
   },
   {
    "duration": 44,
    "start_time": "2022-02-22T04:48:43.019Z"
   },
   {
    "duration": 68,
    "start_time": "2022-02-22T04:48:43.067Z"
   },
   {
    "duration": 31,
    "start_time": "2022-02-22T04:48:43.137Z"
   },
   {
    "duration": 40,
    "start_time": "2022-02-22T04:48:43.170Z"
   },
   {
    "duration": 60,
    "start_time": "2022-02-22T04:48:43.213Z"
   },
   {
    "duration": 9,
    "start_time": "2022-02-22T04:48:43.276Z"
   },
   {
    "duration": 15,
    "start_time": "2022-02-22T04:48:43.288Z"
   },
   {
    "duration": 13,
    "start_time": "2022-02-22T04:48:43.306Z"
   },
   {
    "duration": 49,
    "start_time": "2022-02-22T04:48:43.321Z"
   },
   {
    "duration": 7,
    "start_time": "2022-02-22T04:48:43.372Z"
   },
   {
    "duration": 9,
    "start_time": "2022-02-22T04:48:43.382Z"
   },
   {
    "duration": 26,
    "start_time": "2022-02-22T04:48:43.393Z"
   },
   {
    "duration": 25,
    "start_time": "2022-02-22T04:48:43.462Z"
   },
   {
    "duration": 17,
    "start_time": "2022-02-22T04:48:43.489Z"
   },
   {
    "duration": 811,
    "start_time": "2022-02-22T04:48:43.508Z"
   },
   {
    "duration": 55,
    "start_time": "2022-02-22T04:48:44.322Z"
   },
   {
    "duration": 28,
    "start_time": "2022-02-22T04:48:44.379Z"
   },
   {
    "duration": 6,
    "start_time": "2022-02-22T04:48:44.409Z"
   },
   {
    "duration": 738,
    "start_time": "2022-02-22T04:48:44.417Z"
   },
   {
    "duration": 709,
    "start_time": "2022-02-22T04:48:45.161Z"
   },
   {
    "duration": 1176,
    "start_time": "2022-02-22T04:48:45.873Z"
   },
   {
    "duration": 51,
    "start_time": "2022-02-22T04:48:47.051Z"
   },
   {
    "duration": 9,
    "start_time": "2022-02-22T04:48:47.104Z"
   },
   {
    "duration": 10,
    "start_time": "2022-02-22T04:48:47.116Z"
   },
   {
    "duration": 12,
    "start_time": "2022-02-22T04:48:47.164Z"
   },
   {
    "duration": 10,
    "start_time": "2022-02-22T04:48:47.179Z"
   },
   {
    "duration": 3,
    "start_time": "2022-02-22T05:41:32.130Z"
   },
   {
    "duration": 3,
    "start_time": "2022-02-22T05:41:33.491Z"
   },
   {
    "duration": 3,
    "start_time": "2022-02-22T05:54:08.185Z"
   },
   {
    "duration": 3,
    "start_time": "2022-02-22T05:54:11.090Z"
   },
   {
    "duration": 30,
    "start_time": "2022-02-22T05:57:50.012Z"
   },
   {
    "duration": 10,
    "start_time": "2022-02-22T05:59:39.583Z"
   },
   {
    "duration": 31,
    "start_time": "2022-02-22T05:59:50.521Z"
   },
   {
    "duration": 14,
    "start_time": "2022-02-22T06:00:13.388Z"
   },
   {
    "duration": 17,
    "start_time": "2022-02-22T06:02:09.489Z"
   },
   {
    "duration": 14,
    "start_time": "2022-02-22T06:05:12.954Z"
   },
   {
    "duration": 3,
    "start_time": "2022-02-22T06:07:29.434Z"
   },
   {
    "duration": 14,
    "start_time": "2022-02-22T06:07:48.592Z"
   },
   {
    "duration": 4,
    "start_time": "2022-02-22T06:11:29.013Z"
   },
   {
    "duration": 3,
    "start_time": "2022-02-22T06:11:57.681Z"
   },
   {
    "duration": 13,
    "start_time": "2022-02-22T06:14:32.626Z"
   },
   {
    "duration": 4,
    "start_time": "2022-02-22T06:15:35.250Z"
   },
   {
    "duration": 4,
    "start_time": "2022-02-22T06:15:50.981Z"
   },
   {
    "duration": 3,
    "start_time": "2022-02-22T06:15:52.717Z"
   },
   {
    "duration": 13,
    "start_time": "2022-02-22T06:17:41.702Z"
   },
   {
    "duration": 5,
    "start_time": "2022-02-22T06:18:34.775Z"
   },
   {
    "duration": 8,
    "start_time": "2022-02-22T06:18:59.561Z"
   },
   {
    "duration": 3,
    "start_time": "2022-02-22T06:19:12.560Z"
   },
   {
    "duration": 18,
    "start_time": "2022-02-22T07:21:45.849Z"
   },
   {
    "duration": 13,
    "start_time": "2022-02-22T07:21:59.474Z"
   },
   {
    "duration": 18,
    "start_time": "2022-02-22T07:22:13.989Z"
   },
   {
    "duration": 8,
    "start_time": "2022-02-22T07:22:50.077Z"
   },
   {
    "duration": 7,
    "start_time": "2022-02-22T07:25:10.710Z"
   },
   {
    "duration": 5,
    "start_time": "2022-02-22T07:26:23.576Z"
   },
   {
    "duration": 449,
    "start_time": "2022-02-22T07:27:50.827Z"
   },
   {
    "duration": 19,
    "start_time": "2022-02-22T07:28:17.136Z"
   },
   {
    "duration": 17,
    "start_time": "2022-02-22T07:31:08.862Z"
   },
   {
    "duration": 25,
    "start_time": "2022-02-22T07:31:13.595Z"
   },
   {
    "duration": 8,
    "start_time": "2022-02-22T07:31:16.303Z"
   },
   {
    "duration": 23,
    "start_time": "2022-02-22T07:31:25.682Z"
   },
   {
    "duration": 20,
    "start_time": "2022-02-22T07:31:37.458Z"
   },
   {
    "duration": 12,
    "start_time": "2022-02-22T07:32:35.953Z"
   },
   {
    "duration": 318,
    "start_time": "2022-02-22T07:33:18.403Z"
   },
   {
    "duration": 123,
    "start_time": "2022-02-22T07:33:40.695Z"
   },
   {
    "duration": 38,
    "start_time": "2022-02-22T07:33:53.763Z"
   },
   {
    "duration": 330,
    "start_time": "2022-02-22T07:35:50.450Z"
   },
   {
    "duration": 365,
    "start_time": "2022-02-22T07:36:06.871Z"
   },
   {
    "duration": 37,
    "start_time": "2022-02-22T07:36:42.690Z"
   },
   {
    "duration": 347,
    "start_time": "2022-02-22T07:43:14.311Z"
   },
   {
    "duration": 1846,
    "start_time": "2022-02-22T07:43:43.105Z"
   },
   {
    "duration": 1576,
    "start_time": "2022-02-22T07:43:44.955Z"
   },
   {
    "duration": 112,
    "start_time": "2022-02-22T07:43:46.534Z"
   },
   {
    "duration": 39,
    "start_time": "2022-02-22T07:43:46.649Z"
   },
   {
    "duration": 4,
    "start_time": "2022-02-22T07:43:46.691Z"
   },
   {
    "duration": 7,
    "start_time": "2022-02-22T07:43:46.697Z"
   },
   {
    "duration": 800,
    "start_time": "2022-02-22T07:43:46.706Z"
   },
   {
    "duration": 793,
    "start_time": "2022-02-22T07:43:47.510Z"
   },
   {
    "duration": 76,
    "start_time": "2022-02-22T07:43:48.307Z"
   },
   {
    "duration": 145,
    "start_time": "2022-02-22T07:43:48.386Z"
   },
   {
    "duration": 297,
    "start_time": "2022-02-22T07:43:48.534Z"
   },
   {
    "duration": 8,
    "start_time": "2022-02-22T07:43:48.834Z"
   },
   {
    "duration": 19,
    "start_time": "2022-02-22T07:43:48.845Z"
   },
   {
    "duration": 21,
    "start_time": "2022-02-22T07:43:48.867Z"
   },
   {
    "duration": 22,
    "start_time": "2022-02-22T07:43:48.890Z"
   },
   {
    "duration": 58,
    "start_time": "2022-02-22T07:43:48.914Z"
   },
   {
    "duration": 263,
    "start_time": "2022-02-22T07:43:48.974Z"
   },
   {
    "duration": 33,
    "start_time": "2022-02-22T07:43:49.240Z"
   },
   {
    "duration": 86,
    "start_time": "2022-02-22T07:43:49.275Z"
   },
   {
    "duration": 15,
    "start_time": "2022-02-22T07:43:49.363Z"
   },
   {
    "duration": 10,
    "start_time": "2022-02-22T07:43:49.381Z"
   },
   {
    "duration": 72,
    "start_time": "2022-02-22T07:43:49.393Z"
   },
   {
    "duration": 7,
    "start_time": "2022-02-22T07:43:49.473Z"
   },
   {
    "duration": 20,
    "start_time": "2022-02-22T07:43:49.483Z"
   },
   {
    "duration": 9,
    "start_time": "2022-02-22T07:43:49.506Z"
   },
   {
    "duration": 173,
    "start_time": "2022-02-22T07:43:49.517Z"
   },
   {
    "duration": 31,
    "start_time": "2022-02-22T07:43:49.693Z"
   },
   {
    "duration": 5,
    "start_time": "2022-02-22T07:43:49.727Z"
   },
   {
    "duration": 11,
    "start_time": "2022-02-22T07:43:49.761Z"
   },
   {
    "duration": 52,
    "start_time": "2022-02-22T07:43:49.775Z"
   },
   {
    "duration": 56,
    "start_time": "2022-02-22T07:43:49.830Z"
   },
   {
    "duration": 38,
    "start_time": "2022-02-22T07:43:49.889Z"
   },
   {
    "duration": 3,
    "start_time": "2022-02-22T07:43:49.930Z"
   },
   {
    "duration": 26,
    "start_time": "2022-02-22T07:43:49.935Z"
   },
   {
    "duration": 54,
    "start_time": "2022-02-22T07:43:49.964Z"
   },
   {
    "duration": 13,
    "start_time": "2022-02-22T07:43:50.020Z"
   },
   {
    "duration": 3,
    "start_time": "2022-02-22T07:43:50.062Z"
   },
   {
    "duration": 7,
    "start_time": "2022-02-22T07:43:50.068Z"
   },
   {
    "duration": 6,
    "start_time": "2022-02-22T07:43:50.077Z"
   },
   {
    "duration": 21,
    "start_time": "2022-02-22T07:43:50.085Z"
   },
   {
    "duration": 3,
    "start_time": "2022-02-22T07:43:50.109Z"
   },
   {
    "duration": 50,
    "start_time": "2022-02-22T07:43:50.115Z"
   },
   {
    "duration": 3,
    "start_time": "2022-02-22T07:43:50.168Z"
   },
   {
    "duration": 17,
    "start_time": "2022-02-22T07:43:50.173Z"
   },
   {
    "duration": 4,
    "start_time": "2022-02-22T07:43:50.193Z"
   },
   {
    "duration": 17,
    "start_time": "2022-02-22T07:43:50.201Z"
   },
   {
    "duration": 40,
    "start_time": "2022-02-22T07:43:50.221Z"
   },
   {
    "duration": 6,
    "start_time": "2022-02-22T07:43:50.264Z"
   },
   {
    "duration": 4,
    "start_time": "2022-02-22T07:43:50.274Z"
   },
   {
    "duration": 8,
    "start_time": "2022-02-22T07:43:50.280Z"
   },
   {
    "duration": 10,
    "start_time": "2022-02-22T07:43:50.290Z"
   },
   {
    "duration": 840,
    "start_time": "2022-02-22T07:43:50.302Z"
   },
   {
    "duration": 71,
    "start_time": "2022-02-22T07:43:51.146Z"
   },
   {
    "duration": 59,
    "start_time": "2022-02-22T07:43:51.220Z"
   },
   {
    "duration": 7,
    "start_time": "2022-02-22T07:43:51.282Z"
   },
   {
    "duration": 1025,
    "start_time": "2022-02-22T07:43:51.292Z"
   },
   {
    "duration": 863,
    "start_time": "2022-02-22T07:43:52.320Z"
   },
   {
    "duration": 1091,
    "start_time": "2022-02-22T07:43:53.186Z"
   },
   {
    "duration": 30,
    "start_time": "2022-02-22T07:43:54.279Z"
   },
   {
    "duration": 78,
    "start_time": "2022-02-22T07:43:54.312Z"
   },
   {
    "duration": 4,
    "start_time": "2022-02-22T07:43:54.393Z"
   },
   {
    "duration": 4,
    "start_time": "2022-02-22T07:43:54.399Z"
   },
   {
    "duration": 4,
    "start_time": "2022-02-22T07:43:54.406Z"
   },
   {
    "duration": 5,
    "start_time": "2022-02-22T07:43:54.413Z"
   },
   {
    "duration": 41,
    "start_time": "2022-02-22T07:43:54.420Z"
   },
   {
    "duration": 3,
    "start_time": "2022-02-22T07:43:54.464Z"
   },
   {
    "duration": 5,
    "start_time": "2022-02-22T07:43:54.470Z"
   },
   {
    "duration": 3,
    "start_time": "2022-02-22T07:43:54.484Z"
   },
   {
    "duration": 9,
    "start_time": "2022-02-22T07:43:54.489Z"
   },
   {
    "duration": 6,
    "start_time": "2022-02-22T07:43:54.500Z"
   },
   {
    "duration": 79,
    "start_time": "2022-02-22T07:43:54.509Z"
   },
   {
    "duration": 9,
    "start_time": "2022-02-22T07:43:54.591Z"
   },
   {
    "duration": 15,
    "start_time": "2022-02-22T07:43:54.604Z"
   },
   {
    "duration": 43,
    "start_time": "2022-02-22T07:43:54.622Z"
   },
   {
    "duration": 455,
    "start_time": "2022-02-22T07:43:54.667Z"
   },
   {
    "duration": 38,
    "start_time": "2022-02-22T07:44:30.156Z"
   },
   {
    "duration": 49,
    "start_time": "2022-02-22T07:53:49.874Z"
   },
   {
    "duration": 4,
    "start_time": "2022-02-22T10:36:47.153Z"
   },
   {
    "duration": 11,
    "start_time": "2022-02-22T10:59:43.208Z"
   },
   {
    "duration": 7,
    "start_time": "2022-02-22T11:41:09.368Z"
   },
   {
    "duration": 7,
    "start_time": "2022-02-22T11:42:39.462Z"
   },
   {
    "duration": 7,
    "start_time": "2022-02-22T11:42:50.658Z"
   },
   {
    "duration": 8,
    "start_time": "2022-02-22T11:44:30.392Z"
   },
   {
    "duration": 4,
    "start_time": "2022-02-22T11:44:49.387Z"
   },
   {
    "duration": 3,
    "start_time": "2022-02-22T11:48:13.128Z"
   },
   {
    "duration": 4,
    "start_time": "2022-02-22T11:48:41.027Z"
   },
   {
    "duration": 11,
    "start_time": "2022-02-22T12:05:58.545Z"
   },
   {
    "duration": 2146,
    "start_time": "2022-02-22T12:13:30.034Z"
   },
   {
    "duration": 5041,
    "start_time": "2022-02-22T12:13:32.182Z"
   },
   {
    "duration": 110,
    "start_time": "2022-02-22T12:13:37.226Z"
   },
   {
    "duration": 37,
    "start_time": "2022-02-22T12:13:37.339Z"
   },
   {
    "duration": 4,
    "start_time": "2022-02-22T12:13:37.379Z"
   },
   {
    "duration": 7,
    "start_time": "2022-02-22T12:13:37.385Z"
   },
   {
    "duration": 805,
    "start_time": "2022-02-22T12:13:37.395Z"
   },
   {
    "duration": 837,
    "start_time": "2022-02-22T12:13:38.206Z"
   },
   {
    "duration": 48,
    "start_time": "2022-02-22T12:13:39.062Z"
   },
   {
    "duration": 107,
    "start_time": "2022-02-22T12:13:39.113Z"
   },
   {
    "duration": 168,
    "start_time": "2022-02-22T12:13:39.223Z"
   },
   {
    "duration": 7,
    "start_time": "2022-02-22T12:13:39.393Z"
   },
   {
    "duration": 7,
    "start_time": "2022-02-22T12:13:39.403Z"
   },
   {
    "duration": 48,
    "start_time": "2022-02-22T12:13:39.412Z"
   },
   {
    "duration": 19,
    "start_time": "2022-02-22T12:13:39.463Z"
   },
   {
    "duration": 24,
    "start_time": "2022-02-22T12:13:39.485Z"
   },
   {
    "duration": 291,
    "start_time": "2022-02-22T12:13:39.512Z"
   },
   {
    "duration": 27,
    "start_time": "2022-02-22T12:13:39.805Z"
   },
   {
    "duration": 84,
    "start_time": "2022-02-22T12:13:39.835Z"
   },
   {
    "duration": 15,
    "start_time": "2022-02-22T12:13:39.922Z"
   },
   {
    "duration": 30,
    "start_time": "2022-02-22T12:13:39.939Z"
   },
   {
    "duration": 36,
    "start_time": "2022-02-22T12:13:39.971Z"
   },
   {
    "duration": 7,
    "start_time": "2022-02-22T12:13:40.013Z"
   },
   {
    "duration": 53,
    "start_time": "2022-02-22T12:13:40.023Z"
   },
   {
    "duration": 9,
    "start_time": "2022-02-22T12:13:40.079Z"
   },
   {
    "duration": 168,
    "start_time": "2022-02-22T12:13:40.091Z"
   },
   {
    "duration": 44,
    "start_time": "2022-02-22T12:13:40.262Z"
   },
   {
    "duration": 6,
    "start_time": "2022-02-22T12:13:40.309Z"
   },
   {
    "duration": 45,
    "start_time": "2022-02-22T12:13:40.318Z"
   },
   {
    "duration": 40,
    "start_time": "2022-02-22T12:13:40.366Z"
   },
   {
    "duration": 60,
    "start_time": "2022-02-22T12:13:40.408Z"
   },
   {
    "duration": 39,
    "start_time": "2022-02-22T12:13:40.471Z"
   },
   {
    "duration": 3,
    "start_time": "2022-02-22T12:13:40.513Z"
   },
   {
    "duration": 5,
    "start_time": "2022-02-22T12:13:40.519Z"
   },
   {
    "duration": 82,
    "start_time": "2022-02-22T12:13:40.527Z"
   },
   {
    "duration": 13,
    "start_time": "2022-02-22T12:13:40.612Z"
   },
   {
    "duration": 2,
    "start_time": "2022-02-22T12:13:40.628Z"
   },
   {
    "duration": 3,
    "start_time": "2022-02-22T12:13:40.660Z"
   },
   {
    "duration": 9,
    "start_time": "2022-02-22T12:13:40.666Z"
   },
   {
    "duration": 22,
    "start_time": "2022-02-22T12:13:40.678Z"
   },
   {
    "duration": 3,
    "start_time": "2022-02-22T12:13:40.703Z"
   },
   {
    "duration": 57,
    "start_time": "2022-02-22T12:13:40.709Z"
   },
   {
    "duration": 3,
    "start_time": "2022-02-22T12:13:40.768Z"
   },
   {
    "duration": 18,
    "start_time": "2022-02-22T12:13:40.774Z"
   },
   {
    "duration": 4,
    "start_time": "2022-02-22T12:13:40.795Z"
   },
   {
    "duration": 61,
    "start_time": "2022-02-22T12:13:40.802Z"
   },
   {
    "duration": 3,
    "start_time": "2022-02-22T12:13:40.866Z"
   },
   {
    "duration": 16,
    "start_time": "2022-02-22T12:13:40.872Z"
   },
   {
    "duration": 11,
    "start_time": "2022-02-22T12:13:40.890Z"
   },
   {
    "duration": 8,
    "start_time": "2022-02-22T12:13:40.904Z"
   },
   {
    "duration": 12,
    "start_time": "2022-02-22T12:13:40.915Z"
   },
   {
    "duration": 846,
    "start_time": "2022-02-22T12:13:40.930Z"
   },
   {
    "duration": 48,
    "start_time": "2022-02-22T12:13:41.778Z"
   },
   {
    "duration": 53,
    "start_time": "2022-02-22T12:13:41.829Z"
   },
   {
    "duration": 7,
    "start_time": "2022-02-22T12:13:41.885Z"
   },
   {
    "duration": 789,
    "start_time": "2022-02-22T12:13:41.895Z"
   },
   {
    "duration": 754,
    "start_time": "2022-02-22T12:13:42.687Z"
   },
   {
    "duration": 1062,
    "start_time": "2022-02-22T12:13:43.444Z"
   },
   {
    "duration": 29,
    "start_time": "2022-02-22T12:13:44.510Z"
   },
   {
    "duration": 44,
    "start_time": "2022-02-22T12:13:44.541Z"
   },
   {
    "duration": 9,
    "start_time": "2022-02-22T12:13:44.587Z"
   },
   {
    "duration": 81,
    "start_time": "2022-02-22T12:13:44.599Z"
   },
   {
    "duration": 40,
    "start_time": "2022-02-22T12:13:44.683Z"
   },
   {
    "duration": 3,
    "start_time": "2022-02-22T12:13:44.726Z"
   },
   {
    "duration": 32,
    "start_time": "2022-02-22T12:13:44.731Z"
   },
   {
    "duration": 11,
    "start_time": "2022-02-22T12:13:44.767Z"
   },
   {
    "duration": 10,
    "start_time": "2022-02-22T12:13:44.781Z"
   },
   {
    "duration": 6,
    "start_time": "2022-02-22T12:13:44.798Z"
   },
   {
    "duration": 4,
    "start_time": "2022-02-22T12:13:44.807Z"
   },
   {
    "duration": 47,
    "start_time": "2022-02-22T12:13:44.814Z"
   },
   {
    "duration": 4,
    "start_time": "2022-02-22T12:13:44.864Z"
   },
   {
    "duration": 1859,
    "start_time": "2022-03-27T12:02:44.396Z"
   },
   {
    "duration": 1043,
    "start_time": "2022-03-27T12:02:46.258Z"
   },
   {
    "duration": 88,
    "start_time": "2022-03-27T12:02:47.303Z"
   },
   {
    "duration": 38,
    "start_time": "2022-03-27T12:02:47.394Z"
   },
   {
    "duration": 3,
    "start_time": "2022-03-27T12:02:47.435Z"
   },
   {
    "duration": 13,
    "start_time": "2022-03-27T12:02:47.440Z"
   },
   {
    "duration": 901,
    "start_time": "2022-03-27T12:02:47.455Z"
   },
   {
    "duration": 960,
    "start_time": "2022-03-27T12:02:48.358Z"
   },
   {
    "duration": 65,
    "start_time": "2022-03-27T12:02:49.320Z"
   },
   {
    "duration": 106,
    "start_time": "2022-03-27T12:02:49.389Z"
   },
   {
    "duration": 164,
    "start_time": "2022-03-27T12:02:49.497Z"
   },
   {
    "duration": 8,
    "start_time": "2022-03-27T12:02:49.663Z"
   },
   {
    "duration": 13,
    "start_time": "2022-03-27T12:02:49.683Z"
   },
   {
    "duration": 27,
    "start_time": "2022-03-27T12:02:49.698Z"
   },
   {
    "duration": 26,
    "start_time": "2022-03-27T12:02:49.727Z"
   },
   {
    "duration": 27,
    "start_time": "2022-03-27T12:02:49.756Z"
   },
   {
    "duration": 294,
    "start_time": "2022-03-27T12:02:49.785Z"
   },
   {
    "duration": 28,
    "start_time": "2022-03-27T12:02:50.082Z"
   },
   {
    "duration": 146,
    "start_time": "2022-03-27T12:02:50.113Z"
   },
   {
    "duration": 15,
    "start_time": "2022-03-27T12:02:50.262Z"
   },
   {
    "duration": 32,
    "start_time": "2022-03-27T12:02:50.279Z"
   },
   {
    "duration": 43,
    "start_time": "2022-03-27T12:02:50.313Z"
   },
   {
    "duration": 6,
    "start_time": "2022-03-27T12:02:50.358Z"
   },
   {
    "duration": 40,
    "start_time": "2022-03-27T12:02:50.367Z"
   },
   {
    "duration": 29,
    "start_time": "2022-03-27T12:02:50.409Z"
   },
   {
    "duration": 177,
    "start_time": "2022-03-27T12:02:50.440Z"
   },
   {
    "duration": 36,
    "start_time": "2022-03-27T12:02:50.619Z"
   },
   {
    "duration": 24,
    "start_time": "2022-03-27T12:02:50.664Z"
   },
   {
    "duration": 35,
    "start_time": "2022-03-27T12:02:50.690Z"
   },
   {
    "duration": 35,
    "start_time": "2022-03-27T12:02:50.728Z"
   },
   {
    "duration": 49,
    "start_time": "2022-03-27T12:02:50.766Z"
   },
   {
    "duration": 22,
    "start_time": "2022-03-27T12:02:50.818Z"
   },
   {
    "duration": 4,
    "start_time": "2022-03-27T12:02:50.842Z"
   },
   {
    "duration": 25,
    "start_time": "2022-03-27T12:02:50.848Z"
   },
   {
    "duration": 68,
    "start_time": "2022-03-27T12:02:50.884Z"
   },
   {
    "duration": 12,
    "start_time": "2022-03-27T12:02:50.954Z"
   },
   {
    "duration": 4,
    "start_time": "2022-03-27T12:02:50.984Z"
   },
   {
    "duration": 13,
    "start_time": "2022-03-27T12:02:50.990Z"
   },
   {
    "duration": 28,
    "start_time": "2022-03-27T12:02:51.005Z"
   },
   {
    "duration": 22,
    "start_time": "2022-03-27T12:02:51.035Z"
   },
   {
    "duration": 25,
    "start_time": "2022-03-27T12:02:51.060Z"
   },
   {
    "duration": 34,
    "start_time": "2022-03-27T12:02:51.088Z"
   },
   {
    "duration": 19,
    "start_time": "2022-03-27T12:02:51.124Z"
   },
   {
    "duration": 25,
    "start_time": "2022-03-27T12:02:51.146Z"
   },
   {
    "duration": 22,
    "start_time": "2022-03-27T12:02:51.173Z"
   },
   {
    "duration": 32,
    "start_time": "2022-03-27T12:02:51.197Z"
   },
   {
    "duration": 3,
    "start_time": "2022-03-27T12:02:51.233Z"
   },
   {
    "duration": 22,
    "start_time": "2022-03-27T12:02:51.239Z"
   },
   {
    "duration": 20,
    "start_time": "2022-03-27T12:02:51.263Z"
   },
   {
    "duration": 43,
    "start_time": "2022-03-27T12:02:51.285Z"
   },
   {
    "duration": 38,
    "start_time": "2022-03-27T12:02:51.331Z"
   },
   {
    "duration": 610,
    "start_time": "2022-03-27T12:02:51.371Z"
   },
   {
    "duration": 44,
    "start_time": "2022-03-27T12:02:51.984Z"
   },
   {
    "duration": 56,
    "start_time": "2022-03-27T12:02:52.031Z"
   },
   {
    "duration": 21,
    "start_time": "2022-03-27T12:02:52.089Z"
   },
   {
    "duration": 634,
    "start_time": "2022-03-27T12:02:52.113Z"
   },
   {
    "duration": 551,
    "start_time": "2022-03-27T12:02:52.750Z"
   },
   {
    "duration": 752,
    "start_time": "2022-03-27T12:02:53.303Z"
   },
   {
    "duration": 36,
    "start_time": "2022-03-27T12:02:54.057Z"
   },
   {
    "duration": 25,
    "start_time": "2022-03-27T12:02:54.096Z"
   },
   {
    "duration": 14,
    "start_time": "2022-03-27T12:02:54.124Z"
   },
   {
    "duration": 174,
    "start_time": "2022-03-27T12:02:54.140Z"
   },
   {
    "duration": 66,
    "start_time": "2022-03-27T12:02:54.317Z"
   },
   {
    "duration": 3,
    "start_time": "2022-03-27T12:02:54.386Z"
   },
   {
    "duration": 30,
    "start_time": "2022-03-27T12:02:54.391Z"
   },
   {
    "duration": 44,
    "start_time": "2022-03-27T12:02:54.423Z"
   },
   {
    "duration": 22,
    "start_time": "2022-03-27T12:02:54.469Z"
   },
   {
    "duration": 20,
    "start_time": "2022-03-27T12:02:54.494Z"
   },
   {
    "duration": 24,
    "start_time": "2022-03-27T12:02:54.517Z"
   },
   {
    "duration": 21,
    "start_time": "2022-03-27T12:02:54.543Z"
   },
   {
    "duration": 19,
    "start_time": "2022-03-27T12:02:54.566Z"
   }
  ],
  "kernelspec": {
   "display_name": "Python 3 (ipykernel)",
   "language": "python",
   "name": "python3"
  },
  "language_info": {
   "codemirror_mode": {
    "name": "ipython",
    "version": 3
   },
   "file_extension": ".py",
   "mimetype": "text/x-python",
   "name": "python",
   "nbconvert_exporter": "python",
   "pygments_lexer": "ipython3",
   "version": "3.9.5"
  },
  "toc": {
   "base_numbering": 1,
   "nav_menu": {},
   "number_sections": true,
   "sideBar": true,
   "skip_h1_title": true,
   "title_cell": "Содержание проекта",
   "title_sidebar": "Contents",
   "toc_cell": true,
   "toc_position": {},
   "toc_section_display": true,
   "toc_window_display": false
  }
 },
 "nbformat": 4,
 "nbformat_minor": 2
}
